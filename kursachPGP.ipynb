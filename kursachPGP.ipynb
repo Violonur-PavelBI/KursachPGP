{
 "cells": [
  {
   "cell_type": "code",
   "execution_count": 1,
   "metadata": {},
   "outputs": [],
   "source": [
    "from mpi4py import MPI\n",
    "from clasificashion.train import train,dataloader\n",
    "import torch"
   ]
  },
  {
   "cell_type": "code",
   "execution_count": 2,
   "metadata": {},
   "outputs": [
    {
     "ename": "AttributeError",
     "evalue": "'function' object has no attribute 'dataloader'",
     "output_type": "error",
     "traceback": [
      "\u001b[1;31m---------------------------------------------------------------------------\u001b[0m",
      "\u001b[1;31mAttributeError\u001b[0m                            Traceback (most recent call last)",
      "\u001b[1;32mc:\\Users\\pacha\\Documents\\GitHub\\KursachPGP\\kursachPGP.ipynb Ячейка 2\u001b[0m in \u001b[0;36m<cell line: 1>\u001b[1;34m()\u001b[0m\n\u001b[0;32m     <a href='vscode-notebook-cell:/c%3A/Users/pacha/Documents/GitHub/KursachPGP/kursachPGP.ipynb#W1sZmlsZQ%3D%3D?line=41'>42</a>\u001b[0m \u001b[39mif\u001b[39;00m my_rank \u001b[39m==\u001b[39m\u001b[39m0\u001b[39m:\n\u001b[0;32m     <a href='vscode-notebook-cell:/c%3A/Users/pacha/Documents/GitHub/KursachPGP/kursachPGP.ipynb#W1sZmlsZQ%3D%3D?line=42'>43</a>\u001b[0m     device \u001b[39m=\u001b[39m torch\u001b[39m.\u001b[39mdevice(\u001b[39m\"\u001b[39m\u001b[39mcuda:0\u001b[39m\u001b[39m\"\u001b[39m \u001b[39mif\u001b[39;00m torch\u001b[39m.\u001b[39mcuda\u001b[39m.\u001b[39mis_available() \u001b[39melse\u001b[39;00m \u001b[39m\"\u001b[39m\u001b[39mcpu\u001b[39m\u001b[39m\"\u001b[39m)\n\u001b[1;32m---> <a href='vscode-notebook-cell:/c%3A/Users/pacha/Documents/GitHub/KursachPGP/kursachPGP.ipynb#W1sZmlsZQ%3D%3D?line=43'>44</a>\u001b[0m     img,lable\u001b[39m=\u001b[39mtrain\u001b[39m.\u001b[39;49mdataloader(dirr,file)\n\u001b[0;32m     <a href='vscode-notebook-cell:/c%3A/Users/pacha/Documents/GitHub/KursachPGP/kursachPGP.ipynb#W1sZmlsZQ%3D%3D?line=44'>45</a>\u001b[0m     \u001b[39mprint\u001b[39m(\u001b[39m\"\u001b[39m\u001b[39mTrue_class:\u001b[39m\u001b[39m\"\u001b[39m\u001b[39m+\u001b[39mlable)\n\u001b[0;32m     <a href='vscode-notebook-cell:/c%3A/Users/pacha/Documents/GitHub/KursachPGP/kursachPGP.ipynb#W1sZmlsZQ%3D%3D?line=45'>46</a>\u001b[0m     img\u001b[39m=\u001b[39mimg\u001b[39m.\u001b[39mto(device)\n",
      "\u001b[1;31mAttributeError\u001b[0m: 'function' object has no attribute 'dataloader'"
     ]
    }
   ],
   "source": [
    "if __name__ == '__main__':\n",
    "    comm = MPI.COMM_WORLD\n",
    "    my_rank = comm.Get_rank()\n",
    "    p = comm.Get_size()\n",
    "\n",
    "    if my_rank ==0:\n",
    "        dirr = \"/data\"\n",
    "        file = \"/data/noisy_imagewoof.csv\"\n",
    "        # \n",
    "        # предпроцесинг с путями дб\n",
    "        # \n",
    "        for procid in range(1,p):\n",
    "            comm.send(dirr,file,dest=procid)\n",
    "    else:\n",
    "        dirr,file=comm.recv(source=0)\n",
    "\n",
    "    SIZE = 112\n",
    "    train_dirr = val_dirr = dirr\n",
    "    N_class = 10\n",
    "    batch_size = 50\n",
    "    num_epochs = 30\n",
    "    lr = 0.0001\n",
    "    multi_out = []\n",
    "    if my_rank !=0:\n",
    "        model_acc ,best_acc, _ = train.train(train_dirr,                                         # Путь до папки с train or directori\n",
    "                                            val_dirr,                                             # Путь до папки с описанием val\n",
    "                                            model_name =\"resnet18\",                             # Название модели timm or пользовательские из кода\n",
    "                                            Dataset_name =\"imagewoof\",                            # Название Dataset (при сохранении)\n",
    "                                            metod_aug_name=\"baseline\",                # Название metoda (при сохранении)\n",
    "                                            train_annotation=file,                                # Путь до файла с описанием train\n",
    "                                            val_annotation=file,                                  # Путь до файла с описанием val\n",
    "                                            N_class=N_class,                                          # Количество классов в задаче\n",
    "                                            num_epochs=num_epochs,                                        # Количество эпох обучения\n",
    "                                            batch_size=batch_size)\n",
    "        comm.send(best_acc,dest=0)\n",
    "    else:\n",
    "        for procid in range(1,p):\n",
    "            message = comm.recv(source=procid)\n",
    "            multi_out.append(message)\n",
    "        \n",
    "\n",
    "    if my_rank ==0:\n",
    "        device = torch.device(\"cuda:0\" if torch.cuda.is_available() else \"cpu\")\n",
    "        img,lable=dataloader(dirr,file)\n",
    "        print(\"True_class:\"+lable)\n",
    "        img=img.to(device)\n",
    "        lable=lable.to(device)\n",
    "        for procid in range(1,p):\n",
    "            comm.send(img,dest=procid)\n",
    "        out_label=comm.recv(dest=1)\n",
    "        for procid in range(2,p):\n",
    "            out_label+=comm.recv(dest=procid)\n",
    "        print(\"Ansmbel_class:\"+torch.max(out_label, 1))\n",
    "    else:\n",
    "        img = comm.recv(source=0)\n",
    "        out_label=model_acc(img)\n",
    "        comm.send(out_label,dest=0)"
   ]
  }
 ],
 "metadata": {
  "kernelspec": {
   "display_name": "base",
   "language": "python",
   "name": "python3"
  },
  "language_info": {
   "codemirror_mode": {
    "name": "ipython",
    "version": 3
   },
   "file_extension": ".py",
   "mimetype": "text/x-python",
   "name": "python",
   "nbconvert_exporter": "python",
   "pygments_lexer": "ipython3",
   "version": "3.9.12"
  },
  "orig_nbformat": 4,
  "vscode": {
   "interpreter": {
    "hash": "ad2bdc8ecc057115af97d19610ffacc2b4e99fae6737bb82f5d7fb13d2f2c186"
   }
  }
 },
 "nbformat": 4,
 "nbformat_minor": 2
}
