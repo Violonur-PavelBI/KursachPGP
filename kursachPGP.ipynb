{
 "cells": [
  {
   "cell_type": "code",
   "execution_count": 7,
   "metadata": {},
   "outputs": [
    {
     "ename": "ModuleNotFoundError",
     "evalue": "No module named 'cod'",
     "output_type": "error",
     "traceback": [
      "\u001b[1;31m---------------------------------------------------------------------------\u001b[0m",
      "\u001b[1;31mModuleNotFoundError\u001b[0m                       Traceback (most recent call last)",
      "\u001b[1;32m~\\AppData\\Local\\Temp\\ipykernel_9548\\3421899636.py\u001b[0m in \u001b[0;36m<module>\u001b[1;34m\u001b[0m\n\u001b[0;32m      1\u001b[0m \u001b[1;32mfrom\u001b[0m \u001b[0mmpi4py\u001b[0m \u001b[1;32mimport\u001b[0m \u001b[0mMPI\u001b[0m\u001b[1;33m\u001b[0m\u001b[1;33m\u001b[0m\u001b[0m\n\u001b[1;32m----> 2\u001b[1;33m \u001b[1;32mfrom\u001b[0m \u001b[0mcod\u001b[0m\u001b[1;33m.\u001b[0m\u001b[0mtrain\u001b[0m \u001b[1;32mimport\u001b[0m \u001b[0mtrain\u001b[0m\u001b[1;33m\u001b[0m\u001b[1;33m\u001b[0m\u001b[0m\n\u001b[0m\u001b[0;32m      3\u001b[0m \u001b[1;32mfrom\u001b[0m \u001b[0mcod\u001b[0m\u001b[1;33m.\u001b[0m\u001b[0mdataloader\u001b[0m \u001b[1;32mimport\u001b[0m \u001b[0mdataloader\u001b[0m\u001b[1;33m\u001b[0m\u001b[1;33m\u001b[0m\u001b[0m\n\u001b[0;32m      4\u001b[0m \u001b[1;32mimport\u001b[0m \u001b[0mtorch\u001b[0m\u001b[1;33m\u001b[0m\u001b[1;33m\u001b[0m\u001b[0m\n",
      "\u001b[1;31mModuleNotFoundError\u001b[0m: No module named 'cod'"
     ]
    }
   ],
   "source": [
    "from mpi4py import MPI\n",
    "# from cod.train import train\n",
    "# from cod.dataloader import dataloader\n",
    "import torch"
   ]
  },
  {
   "cell_type": "code",
   "execution_count": null,
   "metadata": {},
   "outputs": [],
   "source": [
    "if __name__ == '__main__':\n",
    "    comm = MPI.COMM_WORLD\n",
    "    my_rank = comm.Get_rank()\n",
    "    p = comm.Get_size()\n",
    "\n",
    "    dirr = \"../data/Diabetic_Retinopathy\"\n",
    "    file = \"trainLabels_cropped.csv\"\n",
    "    if my_rank ==0:\n",
    "        input = open(dirr + \"/\" + file, 'r')\n",
    "        shapca = input.readline()\n",
    "\n",
    "        output = []\n",
    "        for i in range(p):\n",
    "            output.append(open(dirr + \"/\" + file.split(\".\")[0]+\"_\"+str(i)+\"_train.csv\", 'w'))\n",
    "            output[-1].write(shapca)\n",
    "            output.append(open(dirr + \"/\" + file.split(\".\")[0]+\"_\"+str(i)+\"_val.csv\", 'w'))\n",
    "            output[-1].write(shapca)\n",
    "        output.append(open(dirr + \"/\" + file.split(\".\")[0]+\"_test.csv\", 'w'))\n",
    "        i=0\n",
    "        for lite in input:\n",
    "            ind = i % (p*2 + 1)\n",
    "            output[ind].write(lite)\n",
    "            i+=1\n",
    "        for procid in range(1,p):\n",
    "            comm.send(\"message\",dest=procid)\n",
    "    else:\n",
    "        comm.recv(source=0)\n",
    "\n",
    "    SIZE = 112\n",
    "    train_dirr = val_dirr = dirr\n",
    "    train_file = file.split(\".\")[0]+\"_\"+str(my_rank)+\"_train.csv\"\n",
    "    val_file = file.split(\".\")[0]+\"_\"+str(my_rank)+\"_val.csv\"\n",
    "    test_file = file.split(\".\")[0]+\"_test.csv\"\n",
    "    N_class = 5\n",
    "    batch_size = 50\n",
    "    num_epochs = 100\n",
    "    lr = 0.0001\n",
    "\n",
    "    test_out = train(train_dirr,train_file,val_dirr,val_file,test_file,SIZE,batch_size,num_epochs,lr,my_rank)\n",
    "    \n",
    "    \n",
    "    multi_out = []\n",
    "    multi_out.append(test_out)\n",
    "    if my_rank !=0:\n",
    "        comm.send(test_out,dest=0)\n",
    "    else:\n",
    "        device = torch.device(\"cuda:0\" if torch.cuda.is_available() else \"cpu\")\n",
    "\n",
    "        for procid in range(1,p):\n",
    "            message = comm.recv(source=procid)\n",
    "            multi_out.append(message)\n",
    "        multi_out = torch.stack(multi_out)\n",
    "        preds = torch.mode(multi_out, 0)[0].to(device)\n",
    "\n",
    "        test_dataloader = dataloader(SIZE, val_dirr, test_file, 'val', \"retinopatia\", N_class, batch_size = batch_size, shuffle = False, t1 = \"resized_train/resized_train\")\n",
    "\n",
    "        running_corrects = 0\n",
    "        i=0\n",
    "        for inputs, classification_label in test_dataloader:\n",
    "            classification_label = classification_label.to(device)\n",
    "            running_corrects += torch.sum(preds[i] == classification_label.data)\n",
    "            i+=1\n",
    "        dataset_sizes = len(test_dataloader) * batch_size\n",
    "        epoch_acc = running_corrects / dataset_sizes\n",
    "        print('-' * 10 + \"\\n\")\n",
    "        print('General Acc: {:.4f}'.format(epoch_acc))"
   ]
  }
 ],
 "metadata": {
  "kernelspec": {
   "display_name": "Python 3.9.13 ('base')",
   "language": "python",
   "name": "python3"
  },
  "language_info": {
   "codemirror_mode": {
    "name": "ipython",
    "version": 3
   },
   "file_extension": ".py",
   "mimetype": "text/x-python",
   "name": "python",
   "nbconvert_exporter": "python",
   "pygments_lexer": "ipython3",
   "version": "3.9.13"
  },
  "orig_nbformat": 4,
  "vscode": {
   "interpreter": {
    "hash": "3c05aa4aacc3846fa4cd34ace5ac6047d6b88a1f81619af340efafced5e57c11"
   }
  }
 },
 "nbformat": 4,
 "nbformat_minor": 2
}
