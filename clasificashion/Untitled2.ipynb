{
 "cells": [
  {
   "cell_type": "code",
   "execution_count": 1,
   "metadata": {},
   "outputs": [],
   "source": [
    "import os\n",
    "# from train import train\n",
    "# import Dataset\n",
    "os.environ[\"CUDA_VISIBLE_DEVICES\"] = \"6\"\n",
    "import train"
   ]
  },
  {
   "cell_type": "code",
   "execution_count": 4,
   "metadata": {
    "scrolled": true
   },
   "outputs": [
    {
     "name": "stdout",
     "output_type": "stream",
     "text": [
      "/workspace/proj/paradigma/snp/imagenettev2/resnet50/FsAA/05_09_2022/09_40_48/\n"
     ]
    },
    {
     "name": "stderr",
     "output_type": "stream",
     "text": [
      "Epocha train 1/5: 100%|██████████| 94/94 [00:39<00:00,  2.37it/s, acc=0.00000, gpu_memory=10.41 GB, lr=0.01000, valid_loss=2.0173]\n",
      "Epocha val 1/5: 100%|██████████| 39/39 [00:07<00:00,  5.18it/s, acc=0.30447, gpu_memory=10.41 GB, lr=0.01000, valid_loss=1.7869]\n"
     ]
    },
    {
     "name": "stdout",
     "output_type": "stream",
     "text": [
      "Best val Loss classification: 1.786935,Best val Acc classification:0.000000\n"
     ]
    },
    {
     "name": "stderr",
     "output_type": "stream",
     "text": [
      "Epocha train 2/5: 100%|██████████| 94/94 [00:39<00:00,  2.36it/s, acc=0.38615, gpu_memory=10.41 GB, lr=0.01000, valid_loss=1.7802]\n",
      "Epocha val 2/5: 100%|██████████| 39/39 [00:07<00:00,  4.98it/s, acc=0.41149, gpu_memory=10.41 GB, lr=0.01000, valid_loss=1.6265]\n"
     ]
    },
    {
     "name": "stdout",
     "output_type": "stream",
     "text": [
      "Best val Loss classification: 1.626508,Best val Acc classification:0.386154\n"
     ]
    },
    {
     "name": "stderr",
     "output_type": "stream",
     "text": [
      "Epocha train 3/5: 100%|██████████| 94/94 [00:40<00:00,  2.35it/s, acc=0.44436, gpu_memory=10.41 GB, lr=0.01000, valid_loss=1.6207]\n",
      "Epocha val 3/5: 100%|██████████| 39/39 [00:07<00:00,  5.13it/s, acc=0.45819, gpu_memory=10.41 GB, lr=0.01000, valid_loss=1.4237]\n"
     ]
    },
    {
     "name": "stdout",
     "output_type": "stream",
     "text": [
      "Best val Loss classification: 1.423720,Best val Acc classification:0.444359\n"
     ]
    },
    {
     "name": "stderr",
     "output_type": "stream",
     "text": [
      "Epocha train 4/5: 100%|██████████| 94/94 [00:40<00:00,  2.34it/s, acc=0.52795, gpu_memory=10.41 GB, lr=0.01000, valid_loss=1.4951]\n",
      "Epocha val 4/5: 100%|██████████| 39/39 [00:07<00:00,  4.94it/s, acc=0.51298, gpu_memory=10.41 GB, lr=0.01000, valid_loss=1.3413]\n"
     ]
    },
    {
     "name": "stdout",
     "output_type": "stream",
     "text": [
      "Best val Loss classification: 1.341320,Best val Acc classification:0.527949\n"
     ]
    },
    {
     "name": "stderr",
     "output_type": "stream",
     "text": [
      "Epocha train 5/5: 100%|██████████| 94/94 [00:40<00:00,  2.33it/s, acc=0.57846, gpu_memory=10.41 GB, lr=0.01000, valid_loss=1.4036]\n",
      "Epocha val 5/5: 100%|██████████| 39/39 [00:07<00:00,  5.07it/s, acc=0.54596, gpu_memory=10.41 GB, lr=0.01000, valid_loss=1.1862]\n"
     ]
    },
    {
     "name": "stdout",
     "output_type": "stream",
     "text": [
      "Best val Loss classification: 1.186235,Best val Acc classification:0.578462\n",
      "Training complete in 4m 10s\n",
      "Best val Loss classification: 1.1862 epoch 5  \n",
      "Best val Loss accuracy: 0.6138 epoch 5\n"
     ]
    },
    {
     "data": {
      "image/png": "[encoded data removed]",
      "text/plain": [
       "<Figure size 432x288 with 1 Axes>"
      ]
     },
     "metadata": {
      "needs_background": "light"
     },
     "output_type": "display_data"
    },
    {
     "data": {
      "image/png": "[encoded data removed]",
      "text/plain": [
       "<Figure size 432x288 with 1 Axes>"
      ]
     },
     "metadata": {
      "needs_background": "light"
     },
     "output_type": "display_data"
    },
    {
     "name": "stdout",
     "output_type": "stream",
     "text": [
      "/workspace/proj/paradigma/snp/imagenettev2/resnet50/FsAA/05_09_2022/09_45_01/\n"
     ]
    },
    {
     "name": "stderr",
     "output_type": "stream",
     "text": [
      "Epocha train 1/5: 100%|██████████| 94/94 [00:40<00:00,  2.31it/s, acc=0.00000, gpu_memory=10.41 GB, lr=0.02000, valid_loss=2.0592]\n",
      "Epocha val 1/5: 100%|██████████| 39/39 [00:07<00:00,  5.18it/s, acc=0.30489, gpu_memory=10.41 GB, lr=0.02000, valid_loss=1.8227]\n"
     ]
    },
    {
     "name": "stdout",
     "output_type": "stream",
     "text": [
      "Best val Loss classification: 1.822744,Best val Acc classification:0.000000\n"
     ]
    },
    {
     "name": "stderr",
     "output_type": "stream",
     "text": [
      "Epocha train 2/5: 100%|██████████| 94/94 [00:40<00:00,  2.35it/s, acc=0.39718, gpu_memory=10.41 GB, lr=0.02000, valid_loss=1.7888]\n",
      "Epocha val 2/5: 100%|██████████| 39/39 [00:07<00:00,  5.19it/s, acc=0.39713, gpu_memory=10.41 GB, lr=0.02000, valid_loss=1.6122]\n"
     ]
    },
    {
     "name": "stdout",
     "output_type": "stream",
     "text": [
      "Best val Loss classification: 1.612163,Best val Acc classification:0.397179\n"
     ]
    },
    {
     "name": "stderr",
     "output_type": "stream",
     "text": [
      "Epocha train 3/5: 100%|██████████| 94/94 [00:39<00:00,  2.35it/s, acc=0.45359, gpu_memory=10.41 GB, lr=0.02000, valid_loss=1.5965]\n",
      "Epocha val 3/5: 100%|██████████| 39/39 [00:07<00:00,  5.21it/s, acc=0.46926, gpu_memory=10.41 GB, lr=0.02000, valid_loss=1.3722]\n"
     ]
    },
    {
     "name": "stdout",
     "output_type": "stream",
     "text": [
      "Best val Loss classification: 1.372163,Best val Acc classification:0.453590\n"
     ]
    },
    {
     "name": "stderr",
     "output_type": "stream",
     "text": [
      "Epocha train 4/5: 100%|██████████| 94/94 [00:40<00:00,  2.35it/s, acc=0.54462, gpu_memory=10.41 GB, lr=0.02000, valid_loss=1.4614]\n",
      "Epocha val 4/5: 100%|██████████| 39/39 [00:07<00:00,  5.16it/s, acc=0.51830, gpu_memory=10.41 GB, lr=0.02000, valid_loss=1.2321]\n"
     ]
    },
    {
     "name": "stdout",
     "output_type": "stream",
     "text": [
      "Best val Loss classification: 1.232106,Best val Acc classification:0.544615\n"
     ]
    },
    {
     "name": "stderr",
     "output_type": "stream",
     "text": [
      "Epocha train 5/5: 100%|██████████| 94/94 [00:40<00:00,  2.32it/s, acc=0.59846, gpu_memory=10.41 GB, lr=0.02000, valid_loss=1.3205]\n",
      "Epocha val 5/5: 100%|██████████| 39/39 [00:07<00:00,  5.32it/s, acc=0.56894, gpu_memory=10.41 GB, lr=0.02000, valid_loss=1.1225]\n"
     ]
    },
    {
     "name": "stdout",
     "output_type": "stream",
     "text": [
      "Best val Loss classification: 1.122516,Best val Acc classification:0.598462\n",
      "Training complete in 4m 11s\n",
      "Best val Loss classification: 1.1225 epoch 5  \n",
      "Best val Loss accuracy: 0.6305 epoch 5\n"
     ]
    },
    {
     "data": {
      "image/png": "[encoded data removed]",
      "text/plain": [
       "<Figure size 432x288 with 1 Axes>"
      ]
     },
     "metadata": {
      "needs_background": "light"
     },
     "output_type": "display_data"
    },
    {
     "data": {
      "image/png": "[encoded data removed]",
      "text/plain": [
       "<Figure size 432x288 with 1 Axes>"
      ]
     },
     "metadata": {
      "needs_background": "light"
     },
     "output_type": "display_data"
    },
    {
     "name": "stdout",
     "output_type": "stream",
     "text": [
      "/workspace/proj/paradigma/snp/imagenettev2/resnet50/FsAA/05_09_2022/09_49_14/\n"
     ]
    },
    {
     "name": "stderr",
     "output_type": "stream",
     "text": [
      "Epocha train 1/5: 100%|██████████| 94/94 [00:40<00:00,  2.34it/s, acc=0.00000, gpu_memory=10.41 GB, lr=0.03000, valid_loss=2.1123]\n",
      "Epocha val 1/5: 100%|██████████| 39/39 [00:07<00:00,  5.22it/s, acc=0.29372, gpu_memory=10.41 GB, lr=0.03000, valid_loss=1.7674]\n"
     ]
    },
    {
     "name": "stdout",
     "output_type": "stream",
     "text": [
      "Best val Loss classification: 1.767437,Best val Acc classification:0.000000\n"
     ]
    },
    {
     "name": "stderr",
     "output_type": "stream",
     "text": [
      "Epocha train 2/5: 100%|██████████| 94/94 [00:40<00:00,  2.33it/s, acc=0.39615, gpu_memory=10.41 GB, lr=0.03000, valid_loss=1.7457]\n",
      "Epocha val 2/5: 100%|██████████| 39/39 [00:07<00:00,  5.20it/s, acc=0.40968, gpu_memory=10.41 GB, lr=0.03000, valid_loss=1.5460]\n"
     ]
    },
    {
     "name": "stdout",
     "output_type": "stream",
     "text": [
      "Best val Loss classification: 1.546028,Best val Acc classification:0.396154\n"
     ]
    },
    {
     "name": "stderr",
     "output_type": "stream",
     "text": [
      "Epocha train 3/5: 100%|██████████| 94/94 [00:40<00:00,  2.34it/s, acc=0.47718, gpu_memory=10.41 GB, lr=0.03000, valid_loss=1.5541]\n",
      "Epocha val 3/5: 100%|██████████| 39/39 [00:07<00:00,  5.34it/s, acc=0.48638, gpu_memory=10.41 GB, lr=0.03000, valid_loss=1.3365]\n"
     ]
    },
    {
     "name": "stdout",
     "output_type": "stream",
     "text": [
      "Best val Loss classification: 1.336490,Best val Acc classification:0.477179\n"
     ]
    },
    {
     "name": "stderr",
     "output_type": "stream",
     "text": [
      "Epocha train 4/5: 100%|██████████| 94/94 [00:40<00:00,  2.35it/s, acc=0.58000, gpu_memory=10.41 GB, lr=0.03000, valid_loss=1.4195]\n",
      "Epocha val 4/5: 100%|██████████| 39/39 [00:07<00:00,  5.13it/s, acc=0.53862, gpu_memory=10.41 GB, lr=0.03000, valid_loss=1.1951]\n"
     ]
    },
    {
     "name": "stdout",
     "output_type": "stream",
     "text": [
      "Best val Loss classification: 1.195115,Best val Acc classification:0.580000\n"
     ]
    },
    {
     "name": "stderr",
     "output_type": "stream",
     "text": [
      "Epocha train 5/5: 100%|██████████| 94/94 [00:40<00:00,  2.35it/s, acc=0.61308, gpu_memory=10.41 GB, lr=0.03000, valid_loss=1.3072]\n",
      "Epocha val 5/5: 100%|██████████| 39/39 [00:07<00:00,  5.29it/s, acc=0.57351, gpu_memory=10.41 GB, lr=0.03000, valid_loss=1.1380]\n"
     ]
    },
    {
     "name": "stdout",
     "output_type": "stream",
     "text": [
      "Best val Loss classification: 1.137956,Best val Acc classification:0.613077\n",
      "Training complete in 4m 10s\n",
      "Best val Loss classification: 1.1380 epoch 5  \n",
      "Best val Loss accuracy: 0.6290 epoch 5\n"
     ]
    },
    {
     "data": {
      "image/png": "[encoded data removed]",
      "text/plain": [
       "<Figure size 432x288 with 1 Axes>"
      ]
     },
     "metadata": {
      "needs_background": "light"
     },
     "output_type": "display_data"
    },
    {
     "data": {
      "image/png": "[encoded data removed]",
      "text/plain": [
       "<Figure size 432x288 with 1 Axes>"
      ]
     },
     "metadata": {
      "needs_background": "light"
     },
     "output_type": "display_data"
    },
    {
     "name": "stdout",
     "output_type": "stream",
     "text": [
      "/workspace/proj/paradigma/snp/imagenettev2/resnet50/FsAA/05_09_2022/09_53_26/\n"
     ]
    },
    {
     "name": "stderr",
     "output_type": "stream",
     "text": [
      "Epocha train 1/5: 100%|██████████| 94/94 [00:40<00:00,  2.34it/s, acc=0.00000, gpu_memory=10.41 GB, lr=0.04000, valid_loss=2.3466]\n",
      "Epocha val 1/5: 100%|██████████| 39/39 [00:07<00:00,  5.29it/s, acc=0.28298, gpu_memory=10.41 GB, lr=0.04000, valid_loss=1.7517]\n"
     ]
    },
    {
     "name": "stdout",
     "output_type": "stream",
     "text": [
      "Best val Loss classification: 1.751731,Best val Acc classification:0.000000\n"
     ]
    },
    {
     "name": "stderr",
     "output_type": "stream",
     "text": [
      "Epocha train 2/5: 100%|██████████| 94/94 [00:40<00:00,  2.35it/s, acc=0.38897, gpu_memory=10.41 GB, lr=0.04000, valid_loss=1.7480]\n",
      "Epocha val 2/5: 100%|██████████| 39/39 [00:07<00:00,  5.06it/s, acc=0.40670, gpu_memory=10.41 GB, lr=0.04000, valid_loss=1.5454]\n"
     ]
    },
    {
     "name": "stdout",
     "output_type": "stream",
     "text": [
      "Best val Loss classification: 1.545372,Best val Acc classification:0.388974\n"
     ]
    },
    {
     "name": "stderr",
     "output_type": "stream",
     "text": [
      "Epocha train 3/5: 100%|██████████| 94/94 [00:40<00:00,  2.33it/s, acc=0.47615, gpu_memory=10.41 GB, lr=0.04000, valid_loss=1.5732]\n",
      "Epocha val 3/5: 100%|██████████| 39/39 [00:07<00:00,  4.92it/s, acc=0.47394, gpu_memory=10.41 GB, lr=0.04000, valid_loss=1.4296]\n"
     ]
    },
    {
     "name": "stdout",
     "output_type": "stream",
     "text": [
      "Best val Loss classification: 1.429567,Best val Acc classification:0.476154\n"
     ]
    },
    {
     "name": "stderr",
     "output_type": "stream",
     "text": [
      "Epocha train 4/5: 100%|██████████| 94/94 [00:40<00:00,  2.33it/s, acc=0.52718, gpu_memory=10.41 GB, lr=0.04000, valid_loss=1.4464]\n",
      "Epocha val 4/5: 100%|██████████| 39/39 [00:07<00:00,  5.42it/s, acc=0.52862, gpu_memory=10.41 GB, lr=0.04000, valid_loss=1.2230]\n"
     ]
    },
    {
     "name": "stdout",
     "output_type": "stream",
     "text": [
      "Best val Loss classification: 1.222987,Best val Acc classification:0.527179\n"
     ]
    },
    {
     "name": "stderr",
     "output_type": "stream",
     "text": [
      "Epocha train 5/5: 100%|██████████| 94/94 [00:40<00:00,  2.34it/s, acc=0.59974, gpu_memory=10.41 GB, lr=0.04000, valid_loss=1.3393]\n",
      "Epocha val 5/5: 100%|██████████| 39/39 [00:07<00:00,  5.29it/s, acc=0.56117, gpu_memory=10.41 GB, lr=0.04000, valid_loss=1.1555]\n"
     ]
    },
    {
     "name": "stdout",
     "output_type": "stream",
     "text": [
      "Best val Loss classification: 1.155510,Best val Acc classification:0.599744\n",
      "Training complete in 4m 11s\n",
      "Best val Loss classification: 1.1555 epoch 5  \n",
      "Best val Loss accuracy: 0.6338 epoch 5\n"
     ]
    },
    {
     "data": {
      "image/png": "[encoded data removed]",
      "text/plain": [
       "<Figure size 432x288 with 1 Axes>"
      ]
     },
     "metadata": {
      "needs_background": "light"
     },
     "output_type": "display_data"
    },
    {
     "data": {
      "image/png": "[encoded data removed]",
      "text/plain": [
       "<Figure size 432x288 with 1 Axes>"
      ]
     },
     "metadata": {
      "needs_background": "light"
     },
     "output_type": "display_data"
    },
    {
     "name": "stdout",
     "output_type": "stream",
     "text": [
      "/workspace/proj/paradigma/snp/imagenettev2/resnet50/FsAA/05_09_2022/09_57_39/\n"
     ]
    },
    {
     "name": "stderr",
     "output_type": "stream",
     "text": [
      "Epocha train 1/5: 100%|██████████| 94/94 [00:39<00:00,  2.35it/s, acc=0.00000, gpu_memory=10.41 GB, lr=0.05000, valid_loss=2.5026]\n",
      "Epocha val 1/5: 100%|██████████| 39/39 [00:07<00:00,  5.22it/s, acc=0.26457, gpu_memory=10.41 GB, lr=0.05000, valid_loss=1.8486]\n"
     ]
    },
    {
     "name": "stdout",
     "output_type": "stream",
     "text": [
      "Best val Loss classification: 1.848650,Best val Acc classification:0.000000\n"
     ]
    },
    {
     "name": "stderr",
     "output_type": "stream",
     "text": [
      "Epocha train 2/5: 100%|██████████| 94/94 [00:40<00:00,  2.33it/s, acc=0.36590, gpu_memory=10.41 GB, lr=0.05000, valid_loss=1.8382]\n",
      "Epocha val 2/5: 100%|██████████| 39/39 [00:07<00:00,  5.37it/s, acc=0.36936, gpu_memory=10.41 GB, lr=0.05000, valid_loss=1.6131]\n"
     ]
    },
    {
     "name": "stdout",
     "output_type": "stream",
     "text": [
      "Best val Loss classification: 1.613096,Best val Acc classification:0.365897\n"
     ]
    },
    {
     "name": "stderr",
     "output_type": "stream",
     "text": [
      "Epocha train 3/5: 100%|██████████| 94/94 [00:40<00:00,  2.35it/s, acc=0.44769, gpu_memory=10.41 GB, lr=0.05000, valid_loss=1.6473]\n",
      "Epocha val 3/5: 100%|██████████| 39/39 [00:07<00:00,  5.35it/s, acc=0.44234, gpu_memory=10.41 GB, lr=0.05000, valid_loss=1.4602]\n"
     ]
    },
    {
     "name": "stdout",
     "output_type": "stream",
     "text": [
      "Best val Loss classification: 1.460248,Best val Acc classification:0.447692\n"
     ]
    },
    {
     "name": "stderr",
     "output_type": "stream",
     "text": [
      "Epocha train 4/5: 100%|██████████| 94/94 [00:39<00:00,  2.35it/s, acc=0.51590, gpu_memory=10.41 GB, lr=0.05000, valid_loss=1.5264]\n",
      "Epocha val 4/5: 100%|██████████| 39/39 [00:07<00:00,  5.17it/s, acc=0.48713, gpu_memory=10.41 GB, lr=0.05000, valid_loss=1.3428]\n"
     ]
    },
    {
     "name": "stdout",
     "output_type": "stream",
     "text": [
      "Best val Loss classification: 1.342809,Best val Acc classification:0.515897\n"
     ]
    },
    {
     "name": "stderr",
     "output_type": "stream",
     "text": [
      "Epocha train 5/5: 100%|██████████| 94/94 [00:39<00:00,  2.35it/s, acc=0.55872, gpu_memory=10.41 GB, lr=0.05000, valid_loss=1.4354]\n",
      "Epocha val 5/5: 100%|██████████| 39/39 [00:07<00:00,  5.14it/s, acc=0.52830, gpu_memory=10.41 GB, lr=0.05000, valid_loss=1.2541]\n"
     ]
    },
    {
     "name": "stdout",
     "output_type": "stream",
     "text": [
      "Best val Loss classification: 1.254093,Best val Acc classification:0.558718\n",
      "Training complete in 4m 9s\n",
      "Best val Loss classification: 1.2541 epoch 5  \n",
      "Best val Loss accuracy: 0.5892 epoch 5\n"
     ]
    },
    {
     "data": {
      "image/png": "[encoded data removed]",
      "text/plain": [
       "<Figure size 432x288 with 1 Axes>"
      ]
     },
     "metadata": {
      "needs_background": "light"
     },
     "output_type": "display_data"
    },
    {
     "data": {
      "image/png": "[encoded data removed]",
      "text/plain": [
       "<Figure size 432x288 with 1 Axes>"
      ]
     },
     "metadata": {
      "needs_background": "light"
     },
     "output_type": "display_data"
    },
    {
     "name": "stdout",
     "output_type": "stream",
     "text": [
      "/workspace/proj/paradigma/snp/imagenettev2/resnet50/FsAA/05_09_2022/10_01_50/\n"
     ]
    },
    {
     "name": "stderr",
     "output_type": "stream",
     "text": [
      "Epocha train 1/5: 100%|██████████| 94/94 [00:40<00:00,  2.34it/s, acc=0.00000, gpu_memory=10.41 GB, lr=0.06000, valid_loss=3.0768]\n",
      "Epocha val 1/5: 100%|██████████| 39/39 [00:07<00:00,  5.29it/s, acc=0.18255, gpu_memory=10.41 GB, lr=0.06000, valid_loss=2.1014]\n"
     ]
    },
    {
     "name": "stdout",
     "output_type": "stream",
     "text": [
      "Best val Loss classification: 2.101407,Best val Acc classification:0.000000\n"
     ]
    },
    {
     "name": "stderr",
     "output_type": "stream",
     "text": [
      "Epocha train 2/5: 100%|██████████| 94/94 [00:40<00:00,  2.35it/s, acc=0.22590, gpu_memory=10.41 GB, lr=0.06000, valid_loss=2.0573]\n",
      "Epocha val 2/5: 100%|██████████| 39/39 [00:07<00:00,  5.07it/s, acc=0.26032, gpu_memory=10.41 GB, lr=0.06000, valid_loss=1.9949]\n"
     ]
    },
    {
     "name": "stdout",
     "output_type": "stream",
     "text": [
      "Best val Loss classification: 1.994862,Best val Acc classification:0.225897\n"
     ]
    },
    {
     "name": "stderr",
     "output_type": "stream",
     "text": [
      "Epocha train 3/5: 100%|██████████| 94/94 [00:39<00:00,  2.35it/s, acc=0.28410, gpu_memory=10.41 GB, lr=0.06000, valid_loss=1.9671]\n",
      "Epocha val 3/5: 100%|██████████| 39/39 [00:07<00:00,  5.29it/s, acc=0.29585, gpu_memory=10.41 GB, lr=0.06000, valid_loss=1.8899]\n"
     ]
    },
    {
     "name": "stdout",
     "output_type": "stream",
     "text": [
      "Best val Loss classification: 1.889892,Best val Acc classification:0.284103\n"
     ]
    },
    {
     "name": "stderr",
     "output_type": "stream",
     "text": [
      "Epocha train 4/5: 100%|██████████| 94/94 [00:39<00:00,  2.37it/s, acc=0.32436, gpu_memory=10.41 GB, lr=0.06000, valid_loss=1.8947]\n",
      "Epocha val 4/5: 100%|██████████| 39/39 [00:07<00:00,  5.41it/s, acc=0.32904, gpu_memory=10.41 GB, lr=0.06000, valid_loss=1.8389]\n"
     ]
    },
    {
     "name": "stdout",
     "output_type": "stream",
     "text": [
      "Best val Loss classification: 1.838868,Best val Acc classification:0.324359\n"
     ]
    },
    {
     "name": "stderr",
     "output_type": "stream",
     "text": [
      "Epocha train 5/5: 100%|██████████| 94/94 [00:40<00:00,  2.34it/s, acc=0.35744, gpu_memory=10.41 GB, lr=0.06000, valid_loss=1.8421]\n",
      "Epocha val 5/5: 100%|██████████| 39/39 [00:07<00:00,  5.29it/s, acc=0.34947, gpu_memory=10.41 GB, lr=0.06000, valid_loss=1.7602]\n"
     ]
    },
    {
     "name": "stdout",
     "output_type": "stream",
     "text": [
      "Best val Loss classification: 1.760155,Best val Acc classification:0.357436\n",
      "Training complete in 4m 8s\n",
      "Best val Loss classification: 1.7602 epoch 5  \n",
      "Best val Loss accuracy: 0.3877 epoch 5\n"
     ]
    },
    {
     "data": {
      "image/png": "[encoded data removed]",
      "text/plain": [
       "<Figure size 432x288 with 1 Axes>"
      ]
     },
     "metadata": {
      "needs_background": "light"
     },
     "output_type": "display_data"
    },
    {
     "data": {
      "image/png": "[encoded data removed]",
      "text/plain": [
       "<Figure size 432x288 with 1 Axes>"
      ]
     },
     "metadata": {
      "needs_background": "light"
     },
     "output_type": "display_data"
    },
    {
     "name": "stdout",
     "output_type": "stream",
     "text": [
      "0.04\n"
     ]
    }
   ],
   "source": [
    "best_acc_lr=0.0 \n",
    "for i in range(6):\n",
    "    lr=0.01+0.01*i\n",
    "    model_loss, model_acc, overfit_model,best_acc = train.train(train_dirr=\"/workspace/proj/paradigma/db/imagenette2\",                                           # Путь до папки с train or directori\n",
    "                                             val_dirr=\"/workspace/proj/paradigma/db/imagenette2\",                                             # Путь до папки с описанием val\n",
    "                                             model_name =\"resnet18\",                             # Название модели timm or пользовательские из кода\n",
    "                                             Dataset_name =\"imagenettev2\",                            # Название Dataset (при сохранении)\n",
    "                                             metod_aug_name=\"FsAA\",                # Название metoda (при сохранении)\n",
    "                                             task_name=\"clasification\",                          # Название задачи  (при сохранении)\n",
    "                                             train_annotation=\"/workspace/proj/paradigma/db/imagenette2/noisy_imagenette.csv\",                                # Путь до файла с описанием train\n",
    "                                             val_annotation=\"/workspace/proj/paradigma/db/imagenette2/noisy_imagenette.csv\",                                  # Путь до файла с описанием val\n",
    "                                             N_class = 10,                                          # Количество классов в задаче\n",
    "                                             num_epochs=5,                                        # Количество эпох обучения\n",
    "                                             batch_size = 100,                                       \n",
    "                                             snp_path = '/workspace/proj/paradigma/snp/',     # Путь к папке, в которую сохранять готовые модели\n",
    "                                             pretrained = False,                                   # True - загрузить предобученную модель\n",
    "                                             SIZE = 224,                                           # Размер входа (SIZE*SIZE)\n",
    "                                             lr=lr,                                           # Коэффициент скорости обучения (Learning rate)\n",
    "                                             step_size=20,                                         # за сколько эпох уменьшить lr\n",
    "                                             gamma=0.1,                                            # Во сколько раз уменьшить lr\n",
    "                                             momentum=0.99,                                        # коэфицент сохранения момента\n",
    "                                             rootAA=\"/workspace/proj/autoalbument/examples/imagenette/resnet50/outputs/2022-08-03/15-10-06/policy/latest.json\")\n",
    "    if best_acc>best_acc_lr:\n",
    "        best_acc_lr=best_acc\n",
    "        best_lr=lr\n",
    "print(best_lr)"
   ]
  },
  {
   "cell_type": "code",
   "execution_count": 7,
   "metadata": {
    "scrolled": true
   },
   "outputs": [
    {
     "name": "stdout",
     "output_type": "stream",
     "text": [
      "/workspace/proj/paradigma/snp/imagewoof/resnet18/baseline/05_09_2022/10_11_57/\n"
     ]
    },
    {
     "name": "stderr",
     "output_type": "stream",
     "text": [
      "Epocha train 1/200: 100%|██████████| 141/141 [00:14<00:00, 10.04it/s, acc=0.00000, gpu_memory=10.41 GB, lr=0.00800, valid_loss=2.1728]\n",
      "Epocha val 1/200: 100%|██████████| 61/61 [00:06<00:00, 10.13it/s, acc=0.19659, gpu_memory=10.41 GB, lr=0.00800, valid_loss=2.0897]\n"
     ]
    },
    {
     "name": "stdout",
     "output_type": "stream",
     "text": [
      "Best val Loss classification: 2.089695,Best val Acc classification:0.000000\n"
     ]
    },
    {
     "name": "stderr",
     "output_type": "stream",
     "text": [
      "Epocha train 2/200: 100%|██████████| 141/141 [00:14<00:00,  9.86it/s, acc=0.24180, gpu_memory=10.41 GB, lr=0.00800, valid_loss=2.0642]\n",
      "Epocha val 2/200: 100%|██████████| 61/61 [00:05<00:00, 10.31it/s, acc=0.24601, gpu_memory=10.41 GB, lr=0.00800, valid_loss=2.0731]\n",
      "Epocha train 3/200: 100%|██████████| 141/141 [00:14<00:00,  9.53it/s, acc=0.23361, gpu_memory=10.41 GB, lr=0.00800, valid_loss=2.0143]\n",
      "Epocha val 3/200: 100%|██████████| 61/61 [00:06<00:00,  9.92it/s, acc=0.26607, gpu_memory=10.41 GB, lr=0.00800, valid_loss=2.0034]\n"
     ]
    },
    {
     "name": "stdout",
     "output_type": "stream",
     "text": [
      "Best val Loss classification: 2.003415,Best val Acc classification:0.241803\n"
     ]
    },
    {
     "name": "stderr",
     "output_type": "stream",
     "text": [
      "Epocha train 4/200: 100%|██████████| 141/141 [00:14<00:00,  9.82it/s, acc=0.27613, gpu_memory=10.41 GB, lr=0.00800, valid_loss=1.9442]\n",
      "Epocha val 4/200: 100%|██████████| 61/61 [00:06<00:00, 10.04it/s, acc=0.29510, gpu_memory=10.41 GB, lr=0.00800, valid_loss=1.9092]\n"
     ]
    },
    {
     "name": "stdout",
     "output_type": "stream",
     "text": [
      "Best val Loss classification: 1.909232,Best val Acc classification:0.276127\n"
     ]
    },
    {
     "name": "stderr",
     "output_type": "stream",
     "text": [
      "Epocha train 5/200: 100%|██████████| 141/141 [00:14<00:00,  9.82it/s, acc=0.30968, gpu_memory=10.41 GB, lr=0.00800, valid_loss=1.8742]\n",
      "Epocha val 5/200: 100%|██████████| 61/61 [00:06<00:00,  8.98it/s, acc=0.32535, gpu_memory=10.41 GB, lr=0.00800, valid_loss=1.8817]\n"
     ]
    },
    {
     "name": "stdout",
     "output_type": "stream",
     "text": [
      "Best val Loss classification: 1.881673,Best val Acc classification:0.309682\n"
     ]
    },
    {
     "name": "stderr",
     "output_type": "stream",
     "text": [
      "Epocha train 6/200: 100%|██████████| 141/141 [00:15<00:00,  9.23it/s, acc=0.32223, gpu_memory=10.41 GB, lr=0.00800, valid_loss=1.8155]\n",
      "Epocha val 6/200: 100%|██████████| 61/61 [00:06<00:00,  9.66it/s, acc=0.35206, gpu_memory=10.41 GB, lr=0.00800, valid_loss=1.7726]\n"
     ]
    },
    {
     "name": "stdout",
     "output_type": "stream",
     "text": [
      "Best val Loss classification: 1.772646,Best val Acc classification:0.322234\n"
     ]
    },
    {
     "name": "stderr",
     "output_type": "stream",
     "text": [
      "Epocha train 7/200: 100%|██████████| 141/141 [00:14<00:00,  9.85it/s, acc=0.35246, gpu_memory=10.41 GB, lr=0.00800, valid_loss=1.7624]\n",
      "Epocha val 7/200: 100%|██████████| 61/61 [00:06<00:00, 10.12it/s, acc=0.37234, gpu_memory=10.41 GB, lr=0.00800, valid_loss=1.7378]\n"
     ]
    },
    {
     "name": "stdout",
     "output_type": "stream",
     "text": [
      "Best val Loss classification: 1.737780,Best val Acc classification:0.352459\n"
     ]
    },
    {
     "name": "stderr",
     "output_type": "stream",
     "text": [
      "Epocha train 8/200: 100%|██████████| 141/141 [00:14<00:00, 10.06it/s, acc=0.37065, gpu_memory=10.41 GB, lr=0.00800, valid_loss=1.6989]\n",
      "Epocha val 8/200: 100%|██████████| 61/61 [00:06<00:00,  9.09it/s, acc=0.40049, gpu_memory=10.41 GB, lr=0.00800, valid_loss=1.6717]\n"
     ]
    },
    {
     "name": "stdout",
     "output_type": "stream",
     "text": [
      "Best val Loss classification: 1.671700,Best val Acc classification:0.370645\n"
     ]
    },
    {
     "name": "stderr",
     "output_type": "stream",
     "text": [
      "Epocha train 9/200: 100%|██████████| 141/141 [00:14<00:00,  9.94it/s, acc=0.40779, gpu_memory=10.41 GB, lr=0.00800, valid_loss=1.6532]\n",
      "Epocha val 9/200: 100%|██████████| 61/61 [00:05<00:00, 10.42it/s, acc=0.41456, gpu_memory=10.41 GB, lr=0.00800, valid_loss=1.6535]\n"
     ]
    },
    {
     "name": "stdout",
     "output_type": "stream",
     "text": [
      "Best val Loss classification: 1.653493,Best val Acc classification:0.407787\n"
     ]
    },
    {
     "name": "stderr",
     "output_type": "stream",
     "text": [
      "Epocha train 10/200: 100%|██████████| 141/141 [00:14<00:00,  9.89it/s, acc=0.40881, gpu_memory=10.41 GB, lr=0.00800, valid_loss=1.5848]\n",
      "Epocha val 10/200: 100%|██████████| 61/61 [00:06<00:00, 10.15it/s, acc=0.43462, gpu_memory=10.41 GB, lr=0.00800, valid_loss=1.5804]\n"
     ]
    },
    {
     "name": "stdout",
     "output_type": "stream",
     "text": [
      "Best val Loss classification: 1.580419,Best val Acc classification:0.408811\n"
     ]
    },
    {
     "name": "stderr",
     "output_type": "stream",
     "text": [
      "Epocha train 11/200: 100%|██████████| 141/141 [00:14<00:00,  9.88it/s, acc=0.45364, gpu_memory=10.41 GB, lr=0.00800, valid_loss=1.5480]\n",
      "Epocha val 11/200: 100%|██████████| 61/61 [00:06<00:00,  9.91it/s, acc=0.45545, gpu_memory=10.41 GB, lr=0.00800, valid_loss=1.5465]\n",
      "Epocha train 12/200: 100%|██████████| 141/141 [00:14<00:00,  9.45it/s, acc=0.45261, gpu_memory=10.41 GB, lr=0.00800, valid_loss=1.5022]\n",
      "Epocha val 12/200: 100%|██████████| 61/61 [00:05<00:00, 10.66it/s, acc=0.46886, gpu_memory=10.41 GB, lr=0.00800, valid_loss=1.5196]\n"
     ]
    },
    {
     "name": "stdout",
     "output_type": "stream",
     "text": [
      "Best val Loss classification: 1.519555,Best val Acc classification:0.453637\n"
     ]
    },
    {
     "name": "stderr",
     "output_type": "stream",
     "text": [
      "Epocha train 13/200: 100%|██████████| 141/141 [00:14<00:00, 10.00it/s, acc=0.47054, gpu_memory=10.41 GB, lr=0.00800, valid_loss=1.4660]\n",
      "Epocha val 13/200: 100%|██████████| 61/61 [00:06<00:00,  8.98it/s, acc=0.47773, gpu_memory=10.41 GB, lr=0.00800, valid_loss=1.4709]\n"
     ]
    },
    {
     "name": "stdout",
     "output_type": "stream",
     "text": [
      "Best val Loss classification: 1.470895,Best val Acc classification:0.470543\n"
     ]
    },
    {
     "name": "stderr",
     "output_type": "stream",
     "text": [
      "Epocha train 14/200: 100%|██████████| 141/141 [00:15<00:00,  8.82it/s, acc=0.48668, gpu_memory=10.41 GB, lr=0.00800, valid_loss=1.4116]\n",
      "Epocha val 14/200: 100%|██████████| 61/61 [00:06<00:00,  9.61it/s, acc=0.50366, gpu_memory=10.41 GB, lr=0.00800, valid_loss=1.3983]\n"
     ]
    },
    {
     "name": "stdout",
     "output_type": "stream",
     "text": [
      "Best val Loss classification: 1.398318,Best val Acc classification:0.486680\n"
     ]
    },
    {
     "name": "stderr",
     "output_type": "stream",
     "text": [
      "Epocha train 15/200: 100%|██████████| 141/141 [00:14<00:00,  9.86it/s, acc=0.50897, gpu_memory=10.41 GB, lr=0.00800, valid_loss=1.3742]\n",
      "Epocha val 15/200: 100%|██████████| 61/61 [00:05<00:00, 10.37it/s, acc=0.52161, gpu_memory=10.41 GB, lr=0.00800, valid_loss=1.4174]\n",
      "Epocha train 16/200: 100%|██████████| 141/141 [00:14<00:00,  9.85it/s, acc=0.50589, gpu_memory=10.41 GB, lr=0.00800, valid_loss=1.3428]\n",
      "Epocha val 16/200: 100%|██████████| 61/61 [00:05<00:00, 10.29it/s, acc=0.52682, gpu_memory=10.41 GB, lr=0.00800, valid_loss=1.3750]\n"
     ]
    },
    {
     "name": "stdout",
     "output_type": "stream",
     "text": [
      "Best val Loss classification: 1.375019,Best val Acc classification:0.508965\n"
     ]
    },
    {
     "name": "stderr",
     "output_type": "stream",
     "text": [
      "Epocha train 17/200: 100%|██████████| 141/141 [00:14<00:00, 10.03it/s, acc=0.51332, gpu_memory=10.41 GB, lr=0.00800, valid_loss=1.2891]\n",
      "Epocha val 17/200: 100%|██████████| 61/61 [00:05<00:00, 10.18it/s, acc=0.54832, gpu_memory=10.41 GB, lr=0.00800, valid_loss=1.3270]\n"
     ]
    },
    {
     "name": "stdout",
     "output_type": "stream",
     "text": [
      "Best val Loss classification: 1.327013,Best val Acc classification:0.513320\n"
     ]
    },
    {
     "name": "stderr",
     "output_type": "stream",
     "text": [
      "Epocha train 18/200: 100%|██████████| 141/141 [00:14<00:00,  9.88it/s, acc=0.52894, gpu_memory=10.41 GB, lr=0.00800, valid_loss=1.2705]\n",
      "Epocha val 18/200: 100%|██████████| 61/61 [00:06<00:00,  9.71it/s, acc=0.55131, gpu_memory=10.41 GB, lr=0.00800, valid_loss=1.2991]\n"
     ]
    },
    {
     "name": "stdout",
     "output_type": "stream",
     "text": [
      "Best val Loss classification: 1.299079,Best val Acc classification:0.528945\n"
     ]
    },
    {
     "name": "stderr",
     "output_type": "stream",
     "text": [
      "Epocha train 19/200: 100%|██████████| 141/141 [00:14<00:00,  9.91it/s, acc=0.54380, gpu_memory=10.41 GB, lr=0.00800, valid_loss=1.2183]\n",
      "Epocha val 19/200: 100%|██████████| 61/61 [00:06<00:00,  9.48it/s, acc=0.56859, gpu_memory=10.41 GB, lr=0.00800, valid_loss=1.2476]\n"
     ]
    },
    {
     "name": "stdout",
     "output_type": "stream",
     "text": [
      "Best val Loss classification: 1.247587,Best val Acc classification:0.543801\n"
     ]
    },
    {
     "name": "stderr",
     "output_type": "stream",
     "text": [
      "Epocha train 20/200: 100%|██████████| 141/141 [00:14<00:00,  9.51it/s, acc=0.56481, gpu_memory=10.41 GB, lr=0.00800, valid_loss=1.1937]\n",
      "Epocha val 20/200: 100%|██████████| 61/61 [00:06<00:00, 10.08it/s, acc=0.58234, gpu_memory=10.41 GB, lr=0.00800, valid_loss=1.2280]\n"
     ]
    },
    {
     "name": "stdout",
     "output_type": "stream",
     "text": [
      "Best val Loss classification: 1.227993,Best val Acc classification:0.564805\n"
     ]
    },
    {
     "name": "stderr",
     "output_type": "stream",
     "text": [
      "Epocha train 21/200: 100%|██████████| 141/141 [00:14<00:00,  9.87it/s, acc=0.57377, gpu_memory=10.41 GB, lr=0.00800, valid_loss=1.1393]\n",
      "Epocha val 21/200: 100%|██████████| 61/61 [00:06<00:00, 10.06it/s, acc=0.60904, gpu_memory=10.41 GB, lr=0.00800, valid_loss=1.2331]\n",
      "Epocha train 22/200: 100%|██████████| 141/141 [00:14<00:00, 10.00it/s, acc=0.56609, gpu_memory=10.41 GB, lr=0.00800, valid_loss=1.1257]\n",
      "Epocha val 22/200: 100%|██████████| 61/61 [00:06<00:00,  9.50it/s, acc=0.61070, gpu_memory=10.41 GB, lr=0.00800, valid_loss=1.1870]\n"
     ]
    },
    {
     "name": "stdout",
     "output_type": "stream",
     "text": [
      "Best val Loss classification: 1.186955,Best val Acc classification:0.573770\n"
     ]
    },
    {
     "name": "stderr",
     "output_type": "stream",
     "text": [
      "Epocha train 23/200: 100%|██████████| 141/141 [00:14<00:00, 10.00it/s, acc=0.58811, gpu_memory=10.41 GB, lr=0.00800, valid_loss=1.0860]\n",
      "Epocha val 23/200: 100%|██████████| 61/61 [00:05<00:00, 10.27it/s, acc=0.62411, gpu_memory=10.41 GB, lr=0.00800, valid_loss=1.1938]\n",
      "Epocha train 24/200: 100%|██████████| 141/141 [00:14<00:00,  9.97it/s, acc=0.58325, gpu_memory=10.41 GB, lr=0.00800, valid_loss=1.0462]\n",
      "Epocha val 24/200: 100%|██████████| 61/61 [00:06<00:00, 10.17it/s, acc=0.63320, gpu_memory=10.41 GB, lr=0.00800, valid_loss=1.1292]\n"
     ]
    },
    {
     "name": "stdout",
     "output_type": "stream",
     "text": [
      "Best val Loss classification: 1.129159,Best val Acc classification:0.588115\n"
     ]
    },
    {
     "name": "stderr",
     "output_type": "stream",
     "text": [
      "Epocha train 25/200: 100%|██████████| 141/141 [00:15<00:00,  9.34it/s, acc=0.60451, gpu_memory=10.41 GB, lr=0.00800, valid_loss=1.0238]\n",
      "Epocha val 25/200: 100%|██████████| 61/61 [00:05<00:00, 10.83it/s, acc=0.64306, gpu_memory=10.41 GB, lr=0.00800, valid_loss=1.1569]\n",
      "Epocha train 26/200: 100%|██████████| 141/141 [00:14<00:00,  9.92it/s, acc=0.59426, gpu_memory=10.41 GB, lr=0.00800, valid_loss=0.9802]\n",
      "Epocha val 26/200: 100%|██████████| 61/61 [00:06<00:00,  9.33it/s, acc=0.66102, gpu_memory=10.41 GB, lr=0.00800, valid_loss=1.1174]\n"
     ]
    },
    {
     "name": "stdout",
     "output_type": "stream",
     "text": [
      "Best val Loss classification: 1.117379,Best val Acc classification:0.604508\n"
     ]
    },
    {
     "name": "stderr",
     "output_type": "stream",
     "text": [
      "Epocha train 27/200: 100%|██████████| 141/141 [00:14<00:00,  9.98it/s, acc=0.62039, gpu_memory=10.41 GB, lr=0.00800, valid_loss=0.9589]\n",
      "Epocha val 27/200: 100%|██████████| 61/61 [00:05<00:00, 10.23it/s, acc=0.66401, gpu_memory=10.41 GB, lr=0.00800, valid_loss=1.1093]\n"
     ]
    },
    {
     "name": "stdout",
     "output_type": "stream",
     "text": [
      "Best val Loss classification: 1.109275,Best val Acc classification:0.620389\n"
     ]
    },
    {
     "name": "stderr",
     "output_type": "stream",
     "text": [
      "Epocha train 28/200: 100%|██████████| 141/141 [00:14<00:00, 10.04it/s, acc=0.62782, gpu_memory=10.41 GB, lr=0.00800, valid_loss=0.9295]\n",
      "Epocha val 28/200: 100%|██████████| 61/61 [00:06<00:00,  9.77it/s, acc=0.67387, gpu_memory=10.41 GB, lr=0.00800, valid_loss=1.0658]\n"
     ]
    },
    {
     "name": "stdout",
     "output_type": "stream",
     "text": [
      "Best val Loss classification: 1.065836,Best val Acc classification:0.627818\n"
     ]
    },
    {
     "name": "stderr",
     "output_type": "stream",
     "text": [
      "Epocha train 29/200: 100%|██████████| 141/141 [00:14<00:00, 10.03it/s, acc=0.62987, gpu_memory=10.41 GB, lr=0.00800, valid_loss=0.8912]\n",
      "Epocha val 29/200: 100%|██████████| 61/61 [00:06<00:00, 10.01it/s, acc=0.70324, gpu_memory=10.41 GB, lr=0.00800, valid_loss=1.0935]\n"
     ]
    },
    {
     "name": "stdout",
     "output_type": "stream",
     "text": [
      "Best val Loss classification: 1.065836,Best val Acc classification:0.629867\n"
     ]
    },
    {
     "name": "stderr",
     "output_type": "stream",
     "text": [
      "Epocha train 30/200: 100%|██████████| 141/141 [00:14<00:00,  9.99it/s, acc=0.63550, gpu_memory=10.41 GB, lr=0.00800, valid_loss=0.8765]\n",
      "Epocha val 30/200: 100%|██████████| 61/61 [00:05<00:00, 10.42it/s, acc=0.69681, gpu_memory=10.41 GB, lr=0.00800, valid_loss=1.0452]\n"
     ]
    },
    {
     "name": "stdout",
     "output_type": "stream",
     "text": [
      "Best val Loss classification: 1.045229,Best val Acc classification:0.635502\n"
     ]
    },
    {
     "name": "stderr",
     "output_type": "stream",
     "text": [
      "Epocha train 31/200: 100%|██████████| 141/141 [00:14<00:00,  9.93it/s, acc=0.64677, gpu_memory=10.41 GB, lr=0.00800, valid_loss=0.8433]\n",
      "Epocha val 31/200: 100%|██████████| 61/61 [00:05<00:00, 10.68it/s, acc=0.71022, gpu_memory=10.41 GB, lr=0.00800, valid_loss=1.0665]\n",
      "Epocha train 32/200: 100%|██████████| 141/141 [00:14<00:00,  9.83it/s, acc=0.64267, gpu_memory=10.41 GB, lr=0.00800, valid_loss=0.8354]\n",
      "Epocha val 32/200: 100%|██████████| 61/61 [00:05<00:00, 10.73it/s, acc=0.71454, gpu_memory=10.41 GB, lr=0.00800, valid_loss=1.0836]\n",
      "Epocha train 33/200: 100%|██████████| 141/141 [00:13<00:00, 10.16it/s, acc=0.64088, gpu_memory=10.41 GB, lr=0.00800, valid_loss=0.8112]\n",
      "Epocha val 33/200: 100%|██████████| 61/61 [00:06<00:00,  9.96it/s, acc=0.71853, gpu_memory=10.41 GB, lr=0.00080, valid_loss=1.0251]\n"
     ]
    },
    {
     "name": "stdout",
     "output_type": "stream",
     "text": [
      "Best val Loss classification: 1.025130,Best val Acc classification:0.646773\n"
     ]
    },
    {
     "name": "stderr",
     "output_type": "stream",
     "text": [
      "Epocha train 34/200: 100%|██████████| 141/141 [00:14<00:00,  9.45it/s, acc=0.65420, gpu_memory=10.41 GB, lr=0.00080, valid_loss=0.6705]\n",
      "Epocha val 34/200: 100%|██████████| 61/61 [00:06<00:00,  9.74it/s, acc=0.77250, gpu_memory=10.41 GB, lr=0.00080, valid_loss=0.9115]\n"
     ]
    },
    {
     "name": "stdout",
     "output_type": "stream",
     "text": [
      "Best val Loss classification: 0.911475,Best val Acc classification:0.654201\n"
     ]
    },
    {
     "name": "stderr",
     "output_type": "stream",
     "text": [
      "Epocha train 35/200: 100%|██████████| 141/141 [00:14<00:00,  9.65it/s, acc=0.69390, gpu_memory=10.41 GB, lr=0.00080, valid_loss=0.6058]\n",
      "Epocha val 35/200: 100%|██████████| 61/61 [00:07<00:00,  8.60it/s, acc=0.80341, gpu_memory=10.41 GB, lr=0.00080, valid_loss=0.9042]\n"
     ]
    },
    {
     "name": "stdout",
     "output_type": "stream",
     "text": [
      "Best val Loss classification: 0.904174,Best val Acc classification:0.693904\n"
     ]
    },
    {
     "name": "stderr",
     "output_type": "stream",
     "text": [
      "Epocha train 36/200: 100%|██████████| 141/141 [00:14<00:00,  9.54it/s, acc=0.69775, gpu_memory=10.41 GB, lr=0.00080, valid_loss=0.5844]\n",
      "Epocha val 36/200: 100%|██████████| 61/61 [00:07<00:00,  8.58it/s, acc=0.80552, gpu_memory=10.41 GB, lr=0.00080, valid_loss=0.8901]\n"
     ]
    },
    {
     "name": "stdout",
     "output_type": "stream",
     "text": [
      "Best val Loss classification: 0.890112,Best val Acc classification:0.697746\n"
     ]
    },
    {
     "name": "stderr",
     "output_type": "stream",
     "text": [
      "Epocha train 37/200: 100%|██████████| 141/141 [00:15<00:00,  8.94it/s, acc=0.69877, gpu_memory=10.41 GB, lr=0.00080, valid_loss=0.5703]\n",
      "Epocha val 37/200: 100%|██████████| 61/61 [00:06<00:00,  9.95it/s, acc=0.81383, gpu_memory=10.41 GB, lr=0.00080, valid_loss=0.9028]\n",
      "Epocha train 38/200: 100%|██████████| 141/141 [00:15<00:00,  9.27it/s, acc=0.69416, gpu_memory=10.41 GB, lr=0.00080, valid_loss=0.5641]\n",
      "Epocha val 38/200: 100%|██████████| 61/61 [00:06<00:00, 10.08it/s, acc=0.81250, gpu_memory=10.41 GB, lr=0.00080, valid_loss=0.8976]\n"
     ]
    },
    {
     "name": "stdout",
     "output_type": "stream",
     "text": [
      "Best val Loss classification: 0.890112,Best val Acc classification:0.698770\n"
     ]
    },
    {
     "name": "stderr",
     "output_type": "stream",
     "text": [
      "Epocha train 39/200: 100%|██████████| 141/141 [00:13<00:00, 10.24it/s, acc=0.70261, gpu_memory=10.41 GB, lr=0.00080, valid_loss=0.5519]\n",
      "Epocha val 39/200: 100%|██████████| 61/61 [00:05<00:00, 10.51it/s, acc=0.82103, gpu_memory=10.41 GB, lr=0.00080, valid_loss=0.8715]\n"
     ]
    },
    {
     "name": "stdout",
     "output_type": "stream",
     "text": [
      "Best val Loss classification: 0.871544,Best val Acc classification:0.702613\n"
     ]
    },
    {
     "name": "stderr",
     "output_type": "stream",
     "text": [
      "Epocha train 40/200: 100%|██████████| 141/141 [00:14<00:00,  9.77it/s, acc=0.71209, gpu_memory=10.41 GB, lr=0.00080, valid_loss=0.5453]\n",
      "Epocha val 40/200: 100%|██████████| 61/61 [00:06<00:00, 10.09it/s, acc=0.82059, gpu_memory=10.41 GB, lr=0.00080, valid_loss=0.8887]\n",
      "Epocha train 41/200: 100%|██████████| 141/141 [00:15<00:00,  9.21it/s, acc=0.70492, gpu_memory=10.41 GB, lr=0.00080, valid_loss=0.5256]\n",
      "Epocha val 41/200: 100%|██████████| 61/61 [00:05<00:00, 10.33it/s, acc=0.82635, gpu_memory=10.41 GB, lr=0.00080, valid_loss=0.8794]\n",
      "Epocha train 42/200: 100%|██████████| 141/141 [00:14<00:00, 10.07it/s, acc=0.70645, gpu_memory=10.41 GB, lr=0.00080, valid_loss=0.5217]\n",
      "Epocha val 42/200: 100%|██████████| 61/61 [00:05<00:00, 10.86it/s, acc=0.82968, gpu_memory=10.41 GB, lr=0.00080, valid_loss=0.8877]\n",
      "Epocha train 43/200: 100%|██████████| 141/141 [00:14<00:00,  9.95it/s, acc=0.69954, gpu_memory=10.41 GB, lr=0.00080, valid_loss=0.5275]\n",
      "Epocha val 43/200: 100%|██████████| 61/61 [00:05<00:00, 10.77it/s, acc=0.82879, gpu_memory=10.41 GB, lr=0.00080, valid_loss=0.8899]\n",
      "Epocha train 44/200: 100%|██████████| 141/141 [00:14<00:00,  9.78it/s, acc=0.71158, gpu_memory=10.41 GB, lr=0.00080, valid_loss=0.5123]\n",
      "Epocha val 44/200: 100%|██████████| 61/61 [00:05<00:00, 10.94it/s, acc=0.83223, gpu_memory=10.41 GB, lr=0.00080, valid_loss=0.8889]\n",
      "Epocha train 45/200: 100%|██████████| 141/141 [00:14<00:00,  9.94it/s, acc=0.70876, gpu_memory=10.41 GB, lr=0.00080, valid_loss=0.5112]\n",
      "Epocha val 45/200: 100%|██████████| 61/61 [00:06<00:00, 10.04it/s, acc=0.82890, gpu_memory=10.41 GB, lr=0.00080, valid_loss=0.8730]\n",
      "Epocha train 46/200: 100%|██████████| 141/141 [00:15<00:00,  9.38it/s, acc=0.71158, gpu_memory=10.41 GB, lr=0.00080, valid_loss=0.4998]\n",
      "Epocha val 46/200: 100%|██████████| 61/61 [00:05<00:00, 10.17it/s, acc=0.83754, gpu_memory=10.41 GB, lr=0.00080, valid_loss=0.8981]\n",
      "Epocha train 47/200: 100%|██████████| 141/141 [00:14<00:00, 10.01it/s, acc=0.70441, gpu_memory=10.41 GB, lr=0.00080, valid_loss=0.5038]\n",
      "Epocha val 47/200: 100%|██████████| 61/61 [00:06<00:00, 10.05it/s, acc=0.83245, gpu_memory=10.41 GB, lr=0.00080, valid_loss=0.8769]\n"
     ]
    },
    {
     "name": "stdout",
     "output_type": "stream",
     "text": [
      "Best val Loss classification: 0.871544,Best val Acc classification:0.712090\n"
     ]
    },
    {
     "name": "stderr",
     "output_type": "stream",
     "text": [
      "Epocha train 48/200: 100%|██████████| 141/141 [00:14<00:00,  9.73it/s, acc=0.71542, gpu_memory=10.41 GB, lr=0.00080, valid_loss=0.4767]\n",
      "Epocha val 48/200: 100%|██████████| 61/61 [00:05<00:00, 10.85it/s, acc=0.84408, gpu_memory=10.41 GB, lr=0.00080, valid_loss=0.8865]\n",
      "Epocha train 49/200: 100%|██████████| 141/141 [00:14<00:00,  9.96it/s, acc=0.70953, gpu_memory=10.41 GB, lr=0.00080, valid_loss=0.4746]\n",
      "Epocha val 49/200: 100%|██████████| 61/61 [00:05<00:00, 10.37it/s, acc=0.84364, gpu_memory=10.41 GB, lr=0.00080, valid_loss=0.8944]\n",
      "Epocha train 50/200: 100%|██████████| 141/141 [00:14<00:00, 10.03it/s, acc=0.70389, gpu_memory=10.41 GB, lr=0.00080, valid_loss=0.4789]\n",
      "Epocha val 50/200: 100%|██████████| 61/61 [00:06<00:00, 10.05it/s, acc=0.84574, gpu_memory=10.41 GB, lr=0.00080, valid_loss=0.9044]\n",
      "Epocha train 51/200: 100%|██████████| 141/141 [00:17<00:00,  8.27it/s, acc=0.70902, gpu_memory=10.41 GB, lr=0.00080, valid_loss=0.4698]\n",
      "Epocha val 51/200: 100%|██████████| 61/61 [00:06<00:00,  9.64it/s, acc=0.84320, gpu_memory=10.41 GB, lr=0.00080, valid_loss=0.8947]\n",
      "Epocha train 52/200: 100%|██████████| 141/141 [00:15<00:00,  9.14it/s, acc=0.71132, gpu_memory=10.41 GB, lr=0.00080, valid_loss=0.4556]\n",
      "Epocha val 52/200: 100%|██████████| 61/61 [00:06<00:00,  9.99it/s, acc=0.85051, gpu_memory=10.41 GB, lr=0.00080, valid_loss=0.8979]\n",
      "Epocha train 53/200: 100%|██████████| 141/141 [00:14<00:00,  9.86it/s, acc=0.70671, gpu_memory=10.41 GB, lr=0.00080, valid_loss=0.4652]\n",
      "Epocha val 53/200: 100%|██████████| 61/61 [00:06<00:00,  9.96it/s, acc=0.84829, gpu_memory=10.41 GB, lr=0.00080, valid_loss=0.9101]\n",
      "Epocha train 54/200: 100%|██████████| 141/141 [00:14<00:00,  9.60it/s, acc=0.71311, gpu_memory=10.41 GB, lr=0.00080, valid_loss=0.4670]\n",
      "Epocha val 54/200: 100%|██████████| 61/61 [00:05<00:00, 10.39it/s, acc=0.84763, gpu_memory=10.41 GB, lr=0.00080, valid_loss=0.8922]\n",
      "Epocha train 55/200: 100%|██████████| 141/141 [00:13<00:00, 10.11it/s, acc=0.71337, gpu_memory=10.41 GB, lr=0.00080, valid_loss=0.4432]\n",
      "Epocha val 55/200: 100%|██████████| 61/61 [00:05<00:00, 10.36it/s, acc=0.85184, gpu_memory=10.41 GB, lr=0.00080, valid_loss=0.9054]\n",
      "Epocha train 56/200: 100%|██████████| 141/141 [00:14<00:00,  9.91it/s, acc=0.71235, gpu_memory=10.41 GB, lr=0.00080, valid_loss=0.4450]\n",
      "Epocha val 56/200: 100%|██████████| 61/61 [00:05<00:00, 10.68it/s, acc=0.85306, gpu_memory=10.41 GB, lr=0.00080, valid_loss=0.9064]\n",
      "Epocha train 57/200: 100%|██████████| 141/141 [00:14<00:00,  9.97it/s, acc=0.71286, gpu_memory=10.41 GB, lr=0.00080, valid_loss=0.4471]\n",
      "Epocha val 57/200: 100%|██████████| 61/61 [00:06<00:00,  9.91it/s, acc=0.85417, gpu_memory=10.41 GB, lr=0.00080, valid_loss=0.8999]\n",
      "Epocha train 58/200: 100%|██████████| 141/141 [00:14<00:00,  9.72it/s, acc=0.71542, gpu_memory=10.41 GB, lr=0.00080, valid_loss=0.4198]\n",
      "Epocha val 58/200: 100%|██████████| 61/61 [00:05<00:00, 10.42it/s, acc=0.86303, gpu_memory=10.41 GB, lr=0.00080, valid_loss=0.8999]\n"
     ]
    },
    {
     "name": "stdout",
     "output_type": "stream",
     "text": [
      "Best val Loss classification: 0.871544,Best val Acc classification:0.715420\n"
     ]
    },
    {
     "name": "stderr",
     "output_type": "stream",
     "text": [
      "Epocha train 59/200: 100%|██████████| 141/141 [00:14<00:00,  9.75it/s, acc=0.71670, gpu_memory=10.41 GB, lr=0.00080, valid_loss=0.4377]\n",
      "Epocha val 59/200: 100%|██████████| 61/61 [00:05<00:00, 10.30it/s, acc=0.85760, gpu_memory=10.41 GB, lr=0.00080, valid_loss=0.8913]\n"
     ]
    },
    {
     "name": "stdout",
     "output_type": "stream",
     "text": [
      "Best val Loss classification: 0.871544,Best val Acc classification:0.716701\n"
     ]
    },
    {
     "name": "stderr",
     "output_type": "stream",
     "text": [
      "Epocha train 60/200: 100%|██████████| 141/141 [00:14<00:00,  9.92it/s, acc=0.71849, gpu_memory=10.41 GB, lr=0.00080, valid_loss=0.4148]\n",
      "Epocha val 60/200: 100%|██████████| 61/61 [00:06<00:00,  9.12it/s, acc=0.86580, gpu_memory=10.41 GB, lr=0.00080, valid_loss=0.8922]\n",
      "Epocha train 61/200: 100%|██████████| 141/141 [00:14<00:00,  9.84it/s, acc=0.71798, gpu_memory=10.41 GB, lr=0.00080, valid_loss=0.4106]\n",
      "Epocha val 61/200: 100%|██████████| 61/61 [00:06<00:00,  9.56it/s, acc=0.86613, gpu_memory=10.41 GB, lr=0.00080, valid_loss=0.9036]\n",
      "Epocha train 62/200: 100%|██████████| 141/141 [00:14<00:00, 10.01it/s, acc=0.70774, gpu_memory=10.41 GB, lr=0.00080, valid_loss=0.4114]\n",
      "Epocha val 62/200: 100%|██████████| 61/61 [00:06<00:00,  9.10it/s, acc=0.86769, gpu_memory=10.41 GB, lr=0.00080, valid_loss=0.9093]\n",
      "Epocha train 63/200: 100%|██████████| 141/141 [00:17<00:00,  8.10it/s, acc=0.71055, gpu_memory=10.41 GB, lr=0.00080, valid_loss=0.4042]\n",
      "Epocha val 63/200: 100%|██████████| 61/61 [00:06<00:00,  9.70it/s, acc=0.86924, gpu_memory=10.41 GB, lr=0.00080, valid_loss=0.9162]\n",
      "Epocha train 64/200: 100%|██████████| 141/141 [00:14<00:00,  9.93it/s, acc=0.70594, gpu_memory=10.41 GB, lr=0.00080, valid_loss=0.3986]\n",
      "Epocha val 64/200: 100%|██████████| 61/61 [00:05<00:00, 10.60it/s, acc=0.87112, gpu_memory=10.41 GB, lr=0.00080, valid_loss=0.9200]\n",
      "Epocha train 65/200: 100%|██████████| 141/141 [00:14<00:00,  9.96it/s, acc=0.70978, gpu_memory=10.41 GB, lr=0.00080, valid_loss=0.3917]\n",
      "Epocha val 65/200: 100%|██████████| 61/61 [00:05<00:00, 10.76it/s, acc=0.87234, gpu_memory=10.41 GB, lr=0.00080, valid_loss=0.9178]\n",
      "Epocha train 66/200: 100%|██████████| 141/141 [00:14<00:00,  9.87it/s, acc=0.70978, gpu_memory=10.41 GB, lr=0.00080, valid_loss=0.3946]\n",
      "Epocha val 66/200: 100%|██████████| 61/61 [00:06<00:00,  9.79it/s, acc=0.87301, gpu_memory=10.41 GB, lr=0.00008, valid_loss=0.9189]\n",
      "Epocha train 67/200: 100%|██████████| 141/141 [00:14<00:00,  9.89it/s, acc=0.71081, gpu_memory=10.41 GB, lr=0.00008, valid_loss=0.3577]\n",
      "Epocha val 67/200: 100%|██████████| 61/61 [00:05<00:00, 10.37it/s, acc=0.88619, gpu_memory=10.41 GB, lr=0.00008, valid_loss=0.8862]\n"
     ]
    },
    {
     "name": "stdout",
     "output_type": "stream",
     "text": [
      "Best val Loss classification: 0.871544,Best val Acc classification:0.718494\n"
     ]
    },
    {
     "name": "stderr",
     "output_type": "stream",
     "text": [
      "Epocha train 68/200: 100%|██████████| 141/141 [00:14<00:00, 10.02it/s, acc=0.72182, gpu_memory=10.41 GB, lr=0.00008, valid_loss=0.3612]\n",
      "Epocha val 68/200: 100%|██████████| 61/61 [00:05<00:00, 10.59it/s, acc=0.88209, gpu_memory=10.41 GB, lr=0.00008, valid_loss=0.8931]\n",
      "Epocha train 69/200: 100%|██████████| 141/141 [00:14<00:00,  9.69it/s, acc=0.71824, gpu_memory=10.41 GB, lr=0.00008, valid_loss=0.3504]\n",
      "Epocha val 69/200: 100%|██████████| 61/61 [00:05<00:00, 10.23it/s, acc=0.89140, gpu_memory=10.41 GB, lr=0.00008, valid_loss=0.8929]\n"
     ]
    },
    {
     "name": "stdout",
     "output_type": "stream",
     "text": [
      "Best val Loss classification: 0.871544,Best val Acc classification:0.721824\n"
     ]
    },
    {
     "name": "stderr",
     "output_type": "stream",
     "text": [
      "Epocha train 70/200: 100%|██████████| 141/141 [00:16<00:00,  8.49it/s, acc=0.72336, gpu_memory=10.41 GB, lr=0.00008, valid_loss=0.3533]\n",
      "Epocha val 70/200: 100%|██████████| 61/61 [00:06<00:00,  9.53it/s, acc=0.88797, gpu_memory=10.41 GB, lr=0.00008, valid_loss=0.8963]\n",
      "Epocha train 71/200: 100%|██████████| 141/141 [00:14<00:00,  9.65it/s, acc=0.72080, gpu_memory=10.41 GB, lr=0.00008, valid_loss=0.3519]\n",
      "Epocha val 71/200: 100%|██████████| 61/61 [00:05<00:00, 10.24it/s, acc=0.89096, gpu_memory=10.41 GB, lr=0.00008, valid_loss=0.8784]\n",
      "Epocha train 72/200: 100%|██████████| 141/141 [00:16<00:00,  8.42it/s, acc=0.72208, gpu_memory=10.41 GB, lr=0.00008, valid_loss=0.3559]\n",
      "Epocha val 72/200: 100%|██████████| 61/61 [00:05<00:00, 10.75it/s, acc=0.88774, gpu_memory=10.41 GB, lr=0.00008, valid_loss=0.8833]\n"
     ]
    },
    {
     "name": "stdout",
     "output_type": "stream",
     "text": [
      "Best val Loss classification: 0.871544,Best val Acc classification:0.723361\n"
     ]
    },
    {
     "name": "stderr",
     "output_type": "stream",
     "text": [
      "Epocha train 73/200: 100%|██████████| 141/141 [00:13<00:00, 10.12it/s, acc=0.72720, gpu_memory=10.41 GB, lr=0.00008, valid_loss=0.3586]\n",
      "Epocha val 73/200: 100%|██████████| 61/61 [00:06<00:00,  9.80it/s, acc=0.88675, gpu_memory=10.41 GB, lr=0.00008, valid_loss=0.8821]\n",
      "Epocha train 74/200: 100%|██████████| 141/141 [00:14<00:00,  9.65it/s, acc=0.71875, gpu_memory=10.41 GB, lr=0.00008, valid_loss=0.3464]\n",
      "Epocha val 74/200: 100%|██████████| 61/61 [00:06<00:00, 10.12it/s, acc=0.89295, gpu_memory=10.41 GB, lr=0.00008, valid_loss=0.8988]\n",
      "Epocha train 75/200: 100%|██████████| 141/141 [00:15<00:00,  9.00it/s, acc=0.72131, gpu_memory=10.41 GB, lr=0.00008, valid_loss=0.3468]\n",
      "Epocha val 75/200: 100%|██████████| 61/61 [00:05<00:00, 10.51it/s, acc=0.88774, gpu_memory=10.41 GB, lr=0.00008, valid_loss=0.8894]\n",
      "Epocha train 76/200: 100%|██████████| 141/141 [00:15<00:00,  9.33it/s, acc=0.72208, gpu_memory=10.41 GB, lr=0.00008, valid_loss=0.3420]\n",
      "Epocha val 76/200: 100%|██████████| 61/61 [00:05<00:00, 10.35it/s, acc=0.89051, gpu_memory=10.41 GB, lr=0.00008, valid_loss=0.8893]\n",
      "Epocha train 77/200: 100%|██████████| 141/141 [00:14<00:00,  9.73it/s, acc=0.71235, gpu_memory=10.41 GB, lr=0.00008, valid_loss=0.3509]\n",
      "Epocha val 77/200: 100%|██████████| 61/61 [00:06<00:00,  9.59it/s, acc=0.88597, gpu_memory=10.41 GB, lr=0.00008, valid_loss=0.8961]\n",
      "Epocha train 78/200: 100%|██████████| 141/141 [00:14<00:00,  9.60it/s, acc=0.71414, gpu_memory=10.41 GB, lr=0.00008, valid_loss=0.3450]\n",
      "Epocha val 78/200: 100%|██████████| 61/61 [00:05<00:00, 10.20it/s, acc=0.89107, gpu_memory=10.41 GB, lr=0.00008, valid_loss=0.8925]\n",
      "Epocha train 79/200: 100%|██████████| 141/141 [00:14<00:00,  9.52it/s, acc=0.72029, gpu_memory=10.41 GB, lr=0.00008, valid_loss=0.3410]\n",
      "Epocha val 79/200: 100%|██████████| 61/61 [00:05<00:00, 10.58it/s, acc=0.89395, gpu_memory=10.41 GB, lr=0.00008, valid_loss=0.8798]\n",
      "Epocha train 80/200: 100%|██████████| 141/141 [00:14<00:00,  9.89it/s, acc=0.72541, gpu_memory=10.41 GB, lr=0.00008, valid_loss=0.3451]\n",
      "Epocha val 80/200: 100%|██████████| 61/61 [00:06<00:00, 10.10it/s, acc=0.89317, gpu_memory=10.41 GB, lr=0.00008, valid_loss=0.8853]\n",
      "Epocha train 81/200: 100%|██████████| 141/141 [00:14<00:00,  9.87it/s, acc=0.72259, gpu_memory=10.41 GB, lr=0.00008, valid_loss=0.3484]\n",
      "Epocha val 81/200: 100%|██████████| 61/61 [00:06<00:00,  9.97it/s, acc=0.88641, gpu_memory=10.41 GB, lr=0.00008, valid_loss=0.8857]\n",
      "Epocha train 82/200: 100%|██████████| 141/141 [00:14<00:00,  9.94it/s, acc=0.72310, gpu_memory=10.41 GB, lr=0.00008, valid_loss=0.3445]\n",
      "Epocha val 82/200: 100%|██████████| 61/61 [00:05<00:00, 10.68it/s, acc=0.88874, gpu_memory=10.41 GB, lr=0.00008, valid_loss=0.8819]\n"
     ]
    },
    {
     "name": "stdout",
     "output_type": "stream",
     "text": [
      "Best val Loss classification: 0.871544,Best val Acc classification:0.727203\n"
     ]
    },
    {
     "name": "stderr",
     "output_type": "stream",
     "text": [
      "Epocha train 83/200: 100%|██████████| 141/141 [00:14<00:00,  9.93it/s, acc=0.72976, gpu_memory=10.41 GB, lr=0.00008, valid_loss=0.3369]\n",
      "Epocha val 83/200: 100%|██████████| 61/61 [00:05<00:00, 10.17it/s, acc=0.89450, gpu_memory=10.41 GB, lr=0.00008, valid_loss=0.8946]\n",
      "Epocha train 84/200: 100%|██████████| 141/141 [00:14<00:00,  9.64it/s, acc=0.72080, gpu_memory=10.41 GB, lr=0.00008, valid_loss=0.3282]\n",
      "Epocha val 84/200: 100%|██████████| 61/61 [00:06<00:00,  9.23it/s, acc=0.89617, gpu_memory=10.41 GB, lr=0.00008, valid_loss=0.8880]\n",
      "Epocha train 85/200: 100%|██████████| 141/141 [00:16<00:00,  8.39it/s, acc=0.72259, gpu_memory=10.41 GB, lr=0.00008, valid_loss=0.3468]\n",
      "Epocha val 85/200: 100%|██████████| 61/61 [00:05<00:00, 10.28it/s, acc=0.89096, gpu_memory=10.41 GB, lr=0.00008, valid_loss=0.8811]\n",
      "Epocha train 86/200: 100%|██████████| 141/141 [00:14<00:00,  9.65it/s, acc=0.72003, gpu_memory=10.41 GB, lr=0.00008, valid_loss=0.3352]\n",
      "Epocha val 86/200: 100%|██████████| 61/61 [00:06<00:00,  9.88it/s, acc=0.89306, gpu_memory=10.41 GB, lr=0.00008, valid_loss=0.8942]\n",
      "Epocha train 87/200: 100%|██████████| 141/141 [00:14<00:00,  9.78it/s, acc=0.71824, gpu_memory=10.41 GB, lr=0.00008, valid_loss=0.3328]\n",
      "Epocha val 87/200: 100%|██████████| 61/61 [00:06<00:00, 10.08it/s, acc=0.89495, gpu_memory=10.41 GB, lr=0.00008, valid_loss=0.9019]\n",
      "Epocha train 88/200: 100%|██████████| 141/141 [00:15<00:00,  9.19it/s, acc=0.71901, gpu_memory=10.41 GB, lr=0.00008, valid_loss=0.3271]\n",
      "Epocha val 88/200: 100%|██████████| 61/61 [00:06<00:00, 10.14it/s, acc=0.89827, gpu_memory=10.41 GB, lr=0.00008, valid_loss=0.9008]\n",
      "Epocha train 89/200: 100%|██████████| 141/141 [00:14<00:00,  9.63it/s, acc=0.72234, gpu_memory=10.41 GB, lr=0.00008, valid_loss=0.3364]\n",
      "Epocha val 89/200: 100%|██████████| 61/61 [00:06<00:00,  9.43it/s, acc=0.89240, gpu_memory=10.41 GB, lr=0.00008, valid_loss=0.8852]\n",
      "Epocha train 90/200: 100%|██████████| 141/141 [00:14<00:00,  9.56it/s, acc=0.72439, gpu_memory=10.41 GB, lr=0.00008, valid_loss=0.3405]\n",
      "Epocha val 90/200: 100%|██████████| 61/61 [00:06<00:00,  9.54it/s, acc=0.89007, gpu_memory=10.41 GB, lr=0.00008, valid_loss=0.8924]\n",
      "Epocha train 91/200: 100%|██████████| 141/141 [00:15<00:00,  9.38it/s, acc=0.72643, gpu_memory=10.41 GB, lr=0.00008, valid_loss=0.3337]\n",
      "Epocha val 91/200: 100%|██████████| 61/61 [00:06<00:00,  9.31it/s, acc=0.89195, gpu_memory=10.41 GB, lr=0.00008, valid_loss=0.8943]\n",
      "Epocha train 92/200: 100%|██████████| 141/141 [00:14<00:00,  9.44it/s, acc=0.72772, gpu_memory=10.41 GB, lr=0.00008, valid_loss=0.3269]\n",
      "Epocha val 92/200: 100%|██████████| 61/61 [00:06<00:00,  9.89it/s, acc=0.89439, gpu_memory=10.41 GB, lr=0.00008, valid_loss=0.8951]\n",
      "Epocha train 93/200: 100%|██████████| 141/141 [00:14<00:00,  9.73it/s, acc=0.72490, gpu_memory=10.41 GB, lr=0.00008, valid_loss=0.3359]\n",
      "Epocha val 93/200: 100%|██████████| 61/61 [00:05<00:00, 10.50it/s, acc=0.89295, gpu_memory=10.41 GB, lr=0.00008, valid_loss=0.8920]\n",
      "Epocha train 94/200: 100%|██████████| 141/141 [00:14<00:00,  9.75it/s, acc=0.71824, gpu_memory=10.41 GB, lr=0.00008, valid_loss=0.3266]\n",
      "Epocha val 94/200: 100%|██████████| 61/61 [00:06<00:00,  9.64it/s, acc=0.89805, gpu_memory=10.41 GB, lr=0.00008, valid_loss=0.8901]\n",
      "Epocha train 95/200: 100%|██████████| 141/141 [00:14<00:00,  9.69it/s, acc=0.72157, gpu_memory=10.41 GB, lr=0.00008, valid_loss=0.3305]\n",
      "Epocha val 95/200: 100%|██████████| 61/61 [00:06<00:00,  9.74it/s, acc=0.89816, gpu_memory=10.41 GB, lr=0.00008, valid_loss=0.8897]\n",
      "Epocha train 96/200: 100%|██████████| 141/141 [00:15<00:00,  9.26it/s, acc=0.72336, gpu_memory=10.41 GB, lr=0.00008, valid_loss=0.3288]\n",
      "Epocha val 96/200: 100%|██████████| 61/61 [00:06<00:00, 10.07it/s, acc=0.89672, gpu_memory=10.41 GB, lr=0.00008, valid_loss=0.8927]\n",
      "Epocha train 97/200: 100%|██████████| 141/141 [00:14<00:00,  9.80it/s, acc=0.71798, gpu_memory=10.41 GB, lr=0.00008, valid_loss=0.3364]\n",
      "Epocha val 97/200: 100%|██████████| 61/61 [00:06<00:00,  9.71it/s, acc=0.89317, gpu_memory=10.41 GB, lr=0.00008, valid_loss=0.8928]\n",
      "Epocha train 98/200: 100%|██████████| 141/141 [00:14<00:00,  9.66it/s, acc=0.72259, gpu_memory=10.41 GB, lr=0.00008, valid_loss=0.3340]\n",
      "Epocha val 98/200: 100%|██████████| 61/61 [00:06<00:00,  9.85it/s, acc=0.89550, gpu_memory=10.41 GB, lr=0.00008, valid_loss=0.9099]\n",
      "Epocha train 99/200: 100%|██████████| 141/141 [00:14<00:00,  9.70it/s, acc=0.71798, gpu_memory=10.41 GB, lr=0.00008, valid_loss=0.3363]\n",
      "Epocha val 99/200: 100%|██████████| 61/61 [00:06<00:00,  9.61it/s, acc=0.89317, gpu_memory=10.41 GB, lr=0.00001, valid_loss=0.8985]\n",
      "Epocha train 100/200: 100%|██████████| 141/141 [00:14<00:00,  9.55it/s, acc=0.72080, gpu_memory=10.41 GB, lr=0.00001, valid_loss=0.3328]\n",
      "Epocha val 100/200: 100%|██████████| 61/61 [00:06<00:00,  9.80it/s, acc=0.89594, gpu_memory=10.41 GB, lr=0.00001, valid_loss=0.8910]\n",
      "Epocha train 101/200: 100%|██████████| 141/141 [00:14<00:00,  9.63it/s, acc=0.72285, gpu_memory=10.41 GB, lr=0.00001, valid_loss=0.3300]\n",
      "Epocha val 101/200: 100%|██████████| 61/61 [00:06<00:00, 10.03it/s, acc=0.89362, gpu_memory=10.41 GB, lr=0.00001, valid_loss=0.8924]\n"
     ]
    },
    {
     "name": "stdout",
     "output_type": "stream",
     "text": [
      "Best val Loss classification: 0.871544,Best val Acc classification:0.729764\n"
     ]
    },
    {
     "name": "stderr",
     "output_type": "stream",
     "text": [
      "Epocha train 102/200: 100%|██████████| 141/141 [00:14<00:00,  9.71it/s, acc=0.73053, gpu_memory=10.41 GB, lr=0.00001, valid_loss=0.3220]\n",
      "Epocha val 102/200: 100%|██████████| 61/61 [00:06<00:00, 10.08it/s, acc=0.89705, gpu_memory=10.41 GB, lr=0.00001, valid_loss=0.8829]\n",
      "Epocha train 103/200: 100%|██████████| 141/141 [00:14<00:00,  9.87it/s, acc=0.72797, gpu_memory=10.41 GB, lr=0.00001, valid_loss=0.3292]\n",
      "Epocha val 103/200: 100%|██████████| 61/61 [00:06<00:00,  9.40it/s, acc=0.89683, gpu_memory=10.41 GB, lr=0.00001, valid_loss=0.8953]\n",
      "Epocha train 104/200: 100%|██████████| 141/141 [00:16<00:00,  8.68it/s, acc=0.72080, gpu_memory=10.41 GB, lr=0.00001, valid_loss=0.3350]\n",
      "Epocha val 104/200: 100%|██████████| 61/61 [00:06<00:00, 10.08it/s, acc=0.89251, gpu_memory=10.41 GB, lr=0.00001, valid_loss=0.8840]\n",
      "Epocha train 105/200: 100%|██████████| 141/141 [00:14<00:00,  9.58it/s, acc=0.72182, gpu_memory=10.41 GB, lr=0.00001, valid_loss=0.3228]\n",
      "Epocha val 105/200: 100%|██████████| 61/61 [00:06<00:00,  9.64it/s, acc=0.89672, gpu_memory=10.41 GB, lr=0.00001, valid_loss=0.8999]\n",
      "Epocha train 106/200: 100%|██████████| 141/141 [00:14<00:00,  9.68it/s, acc=0.72310, gpu_memory=10.41 GB, lr=0.00001, valid_loss=0.3263]\n",
      "Epocha val 106/200: 100%|██████████| 61/61 [00:06<00:00,  9.74it/s, acc=0.89960, gpu_memory=10.41 GB, lr=0.00001, valid_loss=0.8967]\n",
      "Epocha train 107/200: 100%|██████████| 141/141 [00:15<00:00,  8.83it/s, acc=0.72695, gpu_memory=10.41 GB, lr=0.00001, valid_loss=0.3188]\n",
      "Epocha val 107/200: 100%|██████████| 61/61 [00:05<00:00, 10.20it/s, acc=0.90481, gpu_memory=10.41 GB, lr=0.00001, valid_loss=0.8828]\n",
      "Epocha train 108/200: 100%|██████████| 141/141 [00:14<00:00,  9.85it/s, acc=0.72515, gpu_memory=10.41 GB, lr=0.00001, valid_loss=0.3196]\n",
      "Epocha val 108/200: 100%|██████████| 61/61 [00:06<00:00, 10.10it/s, acc=0.90148, gpu_memory=10.41 GB, lr=0.00001, valid_loss=0.8890]\n",
      "Epocha train 109/200: 100%|██████████| 141/141 [00:14<00:00,  9.60it/s, acc=0.72439, gpu_memory=10.41 GB, lr=0.00001, valid_loss=0.3223]\n",
      "Epocha val 109/200: 100%|██████████| 61/61 [00:06<00:00,  9.67it/s, acc=0.89916, gpu_memory=10.41 GB, lr=0.00001, valid_loss=0.8820]\n",
      "Epocha train 110/200: 100%|██████████| 141/141 [00:15<00:00,  9.17it/s, acc=0.72413, gpu_memory=10.41 GB, lr=0.00001, valid_loss=0.3240]\n",
      "Epocha val 110/200: 100%|██████████| 61/61 [00:06<00:00,  9.34it/s, acc=0.89960, gpu_memory=10.41 GB, lr=0.00001, valid_loss=0.8881]\n",
      "Epocha train 111/200: 100%|██████████| 141/141 [00:14<00:00,  9.83it/s, acc=0.72439, gpu_memory=10.41 GB, lr=0.00001, valid_loss=0.3350]\n",
      "Epocha val 111/200: 100%|██████████| 61/61 [00:05<00:00, 10.60it/s, acc=0.89572, gpu_memory=10.41 GB, lr=0.00001, valid_loss=0.8874]\n",
      "Epocha train 112/200: 100%|██████████| 141/141 [00:14<00:00,  9.52it/s, acc=0.72618, gpu_memory=10.41 GB, lr=0.00001, valid_loss=0.3423]\n",
      "Epocha val 112/200: 100%|██████████| 61/61 [00:06<00:00,  9.36it/s, acc=0.89284, gpu_memory=10.41 GB, lr=0.00001, valid_loss=0.9029]\n",
      "Epocha train 113/200: 100%|██████████| 141/141 [00:15<00:00,  9.26it/s, acc=0.71952, gpu_memory=10.41 GB, lr=0.00001, valid_loss=0.3215]\n",
      "Epocha val 113/200: 100%|██████████| 61/61 [00:06<00:00,  8.75it/s, acc=0.89583, gpu_memory=10.41 GB, lr=0.00001, valid_loss=0.8963]\n",
      "Epocha train 114/200: 100%|██████████| 141/141 [00:14<00:00,  9.59it/s, acc=0.72029, gpu_memory=10.41 GB, lr=0.00001, valid_loss=0.3174]\n",
      "Epocha val 114/200: 100%|██████████| 61/61 [00:05<00:00, 10.36it/s, acc=0.90104, gpu_memory=10.41 GB, lr=0.00001, valid_loss=0.9004]\n",
      "Epocha train 115/200: 100%|██████████| 141/141 [00:15<00:00,  9.37it/s, acc=0.72157, gpu_memory=10.41 GB, lr=0.00001, valid_loss=0.3183]\n",
      "Epocha val 115/200: 100%|██████████| 61/61 [00:06<00:00, 10.09it/s, acc=0.90093, gpu_memory=10.41 GB, lr=0.00001, valid_loss=0.8873]\n",
      "Epocha train 116/200: 100%|██████████| 141/141 [00:14<00:00,  9.73it/s, acc=0.72029, gpu_memory=10.41 GB, lr=0.00001, valid_loss=0.3485]\n",
      "Epocha val 116/200: 100%|██████████| 61/61 [00:06<00:00,  9.89it/s, acc=0.89040, gpu_memory=10.41 GB, lr=0.00001, valid_loss=0.9000]\n",
      "Epocha train 117/200: 100%|██████████| 141/141 [00:14<00:00,  9.47it/s, acc=0.72259, gpu_memory=10.41 GB, lr=0.00001, valid_loss=0.3253]\n",
      "Epocha val 117/200: 100%|██████████| 61/61 [00:06<00:00,  9.79it/s, acc=0.89594, gpu_memory=10.41 GB, lr=0.00001, valid_loss=0.8888]\n",
      "Epocha train 118/200: 100%|██████████| 141/141 [00:15<00:00,  9.32it/s, acc=0.71901, gpu_memory=10.41 GB, lr=0.00001, valid_loss=0.3256]\n",
      "Epocha val 118/200: 100%|██████████| 61/61 [00:06<00:00,  9.14it/s, acc=0.89395, gpu_memory=10.41 GB, lr=0.00001, valid_loss=0.8959]\n",
      "Epocha train 119/200: 100%|██████████| 141/141 [00:14<00:00,  9.89it/s, acc=0.71875, gpu_memory=10.41 GB, lr=0.00001, valid_loss=0.3135]\n",
      "Epocha val 119/200: 100%|██████████| 61/61 [00:06<00:00,  9.79it/s, acc=0.90182, gpu_memory=10.41 GB, lr=0.00001, valid_loss=0.8961]\n",
      "Epocha train 120/200: 100%|██████████| 141/141 [00:14<00:00,  9.68it/s, acc=0.72310, gpu_memory=10.41 GB, lr=0.00001, valid_loss=0.3268]\n",
      "Epocha val 120/200: 100%|██████████| 61/61 [00:06<00:00, 10.10it/s, acc=0.89849, gpu_memory=10.41 GB, lr=0.00001, valid_loss=0.8837]\n",
      "Epocha train 121/200: 100%|██████████| 141/141 [00:14<00:00,  9.73it/s, acc=0.72157, gpu_memory=10.41 GB, lr=0.00001, valid_loss=0.3366]\n",
      "Epocha val 121/200: 100%|██████████| 61/61 [00:06<00:00,  9.82it/s, acc=0.89406, gpu_memory=10.41 GB, lr=0.00001, valid_loss=0.9025]\n",
      "Epocha train 122/200: 100%|██████████| 141/141 [00:14<00:00,  9.68it/s, acc=0.72310, gpu_memory=10.41 GB, lr=0.00001, valid_loss=0.3222]\n",
      "Epocha val 122/200: 100%|██████████| 61/61 [00:06<00:00,  9.51it/s, acc=0.89783, gpu_memory=10.41 GB, lr=0.00001, valid_loss=0.8850]\n",
      "Epocha train 123/200: 100%|██████████| 141/141 [00:14<00:00,  9.43it/s, acc=0.72464, gpu_memory=10.41 GB, lr=0.00001, valid_loss=0.3337]\n",
      "Epocha val 123/200: 100%|██████████| 61/61 [00:06<00:00,  9.56it/s, acc=0.89340, gpu_memory=10.41 GB, lr=0.00001, valid_loss=0.9075]\n",
      "Epocha train 124/200: 100%|██████████| 141/141 [00:14<00:00,  9.63it/s, acc=0.71593, gpu_memory=10.41 GB, lr=0.00001, valid_loss=0.3298]\n",
      "Epocha val 124/200: 100%|██████████| 61/61 [00:06<00:00,  9.55it/s, acc=0.89583, gpu_memory=10.41 GB, lr=0.00001, valid_loss=0.8680]\n",
      "Epocha train 125/200: 100%|██████████| 141/141 [00:15<00:00,  9.14it/s, acc=0.72951, gpu_memory=10.41 GB, lr=0.00001, valid_loss=0.3260]\n",
      "Epocha val 125/200: 100%|██████████| 61/61 [00:06<00:00,  9.62it/s, acc=0.89750, gpu_memory=10.41 GB, lr=0.00001, valid_loss=0.9101]\n",
      "Epocha train 126/200: 100%|██████████| 141/141 [00:14<00:00,  9.41it/s, acc=0.71798, gpu_memory=10.41 GB, lr=0.00001, valid_loss=0.3329]\n",
      "Epocha val 126/200: 100%|██████████| 61/61 [00:06<00:00,  9.87it/s, acc=0.89761, gpu_memory=10.41 GB, lr=0.00001, valid_loss=0.9008]\n",
      "Epocha train 127/200: 100%|██████████| 141/141 [00:14<00:00,  9.71it/s, acc=0.72362, gpu_memory=10.41 GB, lr=0.00001, valid_loss=0.3348]\n",
      "Epocha val 127/200: 100%|██████████| 61/61 [00:06<00:00, 10.03it/s, acc=0.89373, gpu_memory=10.41 GB, lr=0.00001, valid_loss=0.8950]\n",
      "Epocha train 128/200: 100%|██████████| 141/141 [00:14<00:00,  9.56it/s, acc=0.72080, gpu_memory=10.41 GB, lr=0.00001, valid_loss=0.3224]\n",
      "Epocha val 128/200: 100%|██████████| 61/61 [00:05<00:00, 10.18it/s, acc=0.89805, gpu_memory=10.41 GB, lr=0.00001, valid_loss=0.8856]\n",
      "Epocha train 129/200: 100%|██████████| 141/141 [00:14<00:00,  9.49it/s, acc=0.72362, gpu_memory=10.41 GB, lr=0.00001, valid_loss=0.3245]\n",
      "Epocha val 129/200: 100%|██████████| 61/61 [00:06<00:00,  9.82it/s, acc=0.89816, gpu_memory=10.41 GB, lr=0.00001, valid_loss=0.8796]\n",
      "Epocha train 130/200: 100%|██████████| 141/141 [00:14<00:00,  9.66it/s, acc=0.72464, gpu_memory=10.41 GB, lr=0.00001, valid_loss=0.3170]\n",
      "Epocha val 130/200: 100%|██████████| 61/61 [00:06<00:00,  9.35it/s, acc=0.90426, gpu_memory=10.41 GB, lr=0.00001, valid_loss=0.8783]\n",
      "Epocha train 131/200: 100%|██████████| 141/141 [00:15<00:00,  9.34it/s, acc=0.72618, gpu_memory=10.41 GB, lr=0.00001, valid_loss=0.3326]\n",
      "Epocha val 131/200: 100%|██████████| 61/61 [00:06<00:00,  9.19it/s, acc=0.89229, gpu_memory=10.41 GB, lr=0.00001, valid_loss=0.8880]\n",
      "Epocha train 132/200: 100%|██████████| 141/141 [00:15<00:00,  9.19it/s, acc=0.72234, gpu_memory=10.41 GB, lr=0.00001, valid_loss=0.3216]\n",
      "Epocha val 132/200: 100%|██████████| 61/61 [00:06<00:00,  9.46it/s, acc=0.89816, gpu_memory=10.41 GB, lr=0.00000, valid_loss=0.8990]\n",
      "Epocha train 133/200: 100%|██████████| 141/141 [00:15<00:00,  9.28it/s, acc=0.71824, gpu_memory=10.41 GB, lr=0.00000, valid_loss=0.3259]\n",
      "Epocha val 133/200: 100%|██████████| 61/61 [00:06<00:00,  9.77it/s, acc=0.90104, gpu_memory=10.41 GB, lr=0.00000, valid_loss=0.8904]\n",
      "Epocha train 134/200: 100%|██████████| 141/141 [00:15<00:00,  9.26it/s, acc=0.72208, gpu_memory=10.41 GB, lr=0.00000, valid_loss=0.3376]\n",
      "Epocha val 134/200: 100%|██████████| 61/61 [00:06<00:00, 10.02it/s, acc=0.89340, gpu_memory=10.41 GB, lr=0.00000, valid_loss=0.8842]\n",
      "Epocha train 135/200: 100%|██████████| 141/141 [00:14<00:00,  9.68it/s, acc=0.72515, gpu_memory=10.41 GB, lr=0.00000, valid_loss=0.3263]\n",
      "Epocha val 135/200: 100%|██████████| 61/61 [00:06<00:00, 10.16it/s, acc=0.89639, gpu_memory=10.41 GB, lr=0.00000, valid_loss=0.8868]\n",
      "Epocha train 136/200: 100%|██████████| 141/141 [00:15<00:00,  9.24it/s, acc=0.72413, gpu_memory=10.41 GB, lr=0.00000, valid_loss=0.3296]\n",
      "Epocha val 136/200: 100%|██████████| 61/61 [00:06<00:00,  9.81it/s, acc=0.89561, gpu_memory=10.41 GB, lr=0.00000, valid_loss=0.8826]\n",
      "Epocha train 137/200: 100%|██████████| 141/141 [00:14<00:00,  9.79it/s, acc=0.72592, gpu_memory=10.41 GB, lr=0.00000, valid_loss=0.3310]\n",
      "Epocha val 137/200: 100%|██████████| 61/61 [00:06<00:00, 10.03it/s, acc=0.89528, gpu_memory=10.41 GB, lr=0.00000, valid_loss=0.8977]\n",
      "Epocha train 138/200: 100%|██████████| 141/141 [00:14<00:00,  9.75it/s, acc=0.72234, gpu_memory=10.41 GB, lr=0.00000, valid_loss=0.3253]\n",
      "Epocha val 138/200: 100%|██████████| 61/61 [00:06<00:00,  9.64it/s, acc=0.89949, gpu_memory=10.41 GB, lr=0.00000, valid_loss=0.8912]\n"
     ]
    },
    {
     "name": "stdout",
     "output_type": "stream",
     "text": [
      "Best val Loss classification: 0.867994,Best val Acc classification:0.730533\n"
     ]
    },
    {
     "name": "stderr",
     "output_type": "stream",
     "text": [
      "Epocha train 139/200: 100%|██████████| 141/141 [00:15<00:00,  9.09it/s, acc=0.73233, gpu_memory=10.41 GB, lr=0.00000, valid_loss=0.3308]\n",
      "Epocha val 139/200: 100%|██████████| 61/61 [00:06<00:00,  9.75it/s, acc=0.89461, gpu_memory=10.41 GB, lr=0.00000, valid_loss=0.8930]\n",
      "Epocha train 140/200: 100%|██████████| 141/141 [00:15<00:00,  9.32it/s, acc=0.72131, gpu_memory=10.41 GB, lr=0.00000, valid_loss=0.3256]\n",
      "Epocha val 140/200: 100%|██████████| 61/61 [00:06<00:00, 10.11it/s, acc=0.89450, gpu_memory=10.41 GB, lr=0.00000, valid_loss=0.9016]\n",
      "Epocha train 141/200: 100%|██████████| 141/141 [00:14<00:00,  9.72it/s, acc=0.71542, gpu_memory=10.41 GB, lr=0.00000, valid_loss=0.3330]\n",
      "Epocha val 141/200: 100%|██████████| 61/61 [00:06<00:00,  9.87it/s, acc=0.89617, gpu_memory=10.41 GB, lr=0.00000, valid_loss=0.8997]\n",
      "Epocha train 142/200: 100%|██████████| 141/141 [00:15<00:00,  9.32it/s, acc=0.72003, gpu_memory=10.41 GB, lr=0.00000, valid_loss=0.3250]\n",
      "Epocha val 142/200: 100%|██████████| 61/61 [00:06<00:00, 10.07it/s, acc=0.89871, gpu_memory=10.41 GB, lr=0.00000, valid_loss=0.8996]\n",
      "Epocha train 143/200: 100%|██████████| 141/141 [00:15<00:00,  9.20it/s, acc=0.72106, gpu_memory=10.41 GB, lr=0.00000, valid_loss=0.3359]\n",
      "Epocha val 143/200: 100%|██████████| 61/61 [00:06<00:00,  9.38it/s, acc=0.89495, gpu_memory=10.41 GB, lr=0.00000, valid_loss=0.8950]\n",
      "Epocha train 144/200: 100%|██████████| 141/141 [00:15<00:00,  9.28it/s, acc=0.72336, gpu_memory=10.41 GB, lr=0.00000, valid_loss=0.3298]\n",
      "Epocha val 144/200: 100%|██████████| 61/61 [00:06<00:00,  9.77it/s, acc=0.89439, gpu_memory=10.41 GB, lr=0.00000, valid_loss=0.8986]\n",
      "Epocha train 145/200: 100%|██████████| 141/141 [00:14<00:00,  9.55it/s, acc=0.71901, gpu_memory=10.41 GB, lr=0.00000, valid_loss=0.3281]\n",
      "Epocha val 145/200: 100%|██████████| 61/61 [00:06<00:00, 10.04it/s, acc=0.89328, gpu_memory=10.41 GB, lr=0.00000, valid_loss=0.8922]\n",
      "Epocha train 146/200: 100%|██████████| 141/141 [00:15<00:00,  8.96it/s, acc=0.72336, gpu_memory=10.41 GB, lr=0.00000, valid_loss=0.3268]\n",
      "Epocha val 146/200: 100%|██████████| 61/61 [00:06<00:00,  9.50it/s, acc=0.89639, gpu_memory=10.41 GB, lr=0.00000, valid_loss=0.8909]\n",
      "Epocha train 147/200: 100%|██████████| 141/141 [00:15<00:00,  9.17it/s, acc=0.72490, gpu_memory=10.41 GB, lr=0.00000, valid_loss=0.3313]\n",
      "Epocha val 147/200: 100%|██████████| 61/61 [00:06<00:00, 10.16it/s, acc=0.89550, gpu_memory=10.41 GB, lr=0.00000, valid_loss=0.8936]\n",
      "Epocha train 148/200: 100%|██████████| 141/141 [00:14<00:00,  9.56it/s, acc=0.71952, gpu_memory=10.41 GB, lr=0.00000, valid_loss=0.3337]\n",
      "Epocha val 148/200: 100%|██████████| 61/61 [00:06<00:00,  9.96it/s, acc=0.89716, gpu_memory=10.41 GB, lr=0.00000, valid_loss=0.8838]\n",
      "Epocha train 149/200: 100%|██████████| 141/141 [00:14<00:00,  9.60it/s, acc=0.72669, gpu_memory=10.41 GB, lr=0.00000, valid_loss=0.3183]\n",
      "Epocha val 149/200: 100%|██████████| 61/61 [00:06<00:00,  9.66it/s, acc=0.89894, gpu_memory=10.41 GB, lr=0.00000, valid_loss=0.8910]\n",
      "Epocha train 150/200: 100%|██████████| 141/141 [00:15<00:00,  9.35it/s, acc=0.72054, gpu_memory=10.41 GB, lr=0.00000, valid_loss=0.3361]\n",
      "Epocha val 150/200: 100%|██████████| 61/61 [00:06<00:00,  9.54it/s, acc=0.89384, gpu_memory=10.41 GB, lr=0.00000, valid_loss=0.8958]\n",
      "Epocha train 151/200: 100%|██████████| 141/141 [00:15<00:00,  9.13it/s, acc=0.72003, gpu_memory=10.41 GB, lr=0.00000, valid_loss=0.3282]\n",
      "Epocha val 151/200: 100%|██████████| 61/61 [00:05<00:00, 10.22it/s, acc=0.89572, gpu_memory=10.41 GB, lr=0.00000, valid_loss=0.8926]\n",
      "Epocha train 152/200: 100%|██████████| 141/141 [00:14<00:00,  9.60it/s, acc=0.72029, gpu_memory=10.41 GB, lr=0.00000, valid_loss=0.3309]\n",
      "Epocha val 152/200: 100%|██████████| 61/61 [00:06<00:00,  9.44it/s, acc=0.89672, gpu_memory=10.41 GB, lr=0.00000, valid_loss=0.8963]\n",
      "Epocha train 153/200: 100%|██████████| 141/141 [00:15<00:00,  8.86it/s, acc=0.72080, gpu_memory=10.41 GB, lr=0.00000, valid_loss=0.3358]\n",
      "Epocha val 153/200: 100%|██████████| 61/61 [00:06<00:00,  9.53it/s, acc=0.89517, gpu_memory=10.41 GB, lr=0.00000, valid_loss=0.8928]\n",
      "Epocha train 154/200: 100%|██████████| 141/141 [00:15<00:00,  9.35it/s, acc=0.72131, gpu_memory=10.41 GB, lr=0.00000, valid_loss=0.3216]\n",
      "Epocha val 154/200: 100%|██████████| 61/61 [00:06<00:00, 10.09it/s, acc=0.90027, gpu_memory=10.41 GB, lr=0.00000, valid_loss=0.8895]\n",
      "Epocha train 155/200: 100%|██████████| 141/141 [00:14<00:00,  9.53it/s, acc=0.72567, gpu_memory=10.41 GB, lr=0.00000, valid_loss=0.3173]\n",
      "Epocha val 155/200: 100%|██████████| 61/61 [00:06<00:00,  9.85it/s, acc=0.89993, gpu_memory=10.41 GB, lr=0.00000, valid_loss=0.8823]\n",
      "Epocha train 156/200: 100%|██████████| 141/141 [00:14<00:00,  9.57it/s, acc=0.72695, gpu_memory=10.41 GB, lr=0.00000, valid_loss=0.3100]\n",
      "Epocha val 156/200: 100%|██████████| 61/61 [00:06<00:00,  9.62it/s, acc=0.90514, gpu_memory=10.41 GB, lr=0.00000, valid_loss=0.8914]\n",
      "Epocha train 157/200: 100%|██████████| 141/141 [00:15<00:00,  8.92it/s, acc=0.71952, gpu_memory=10.41 GB, lr=0.00000, valid_loss=0.3252]\n",
      "Epocha val 157/200: 100%|██████████| 61/61 [00:06<00:00,  9.21it/s, acc=0.89871, gpu_memory=10.41 GB, lr=0.00000, valid_loss=0.8947]\n",
      "Epocha train 158/200: 100%|██████████| 141/141 [00:15<00:00,  9.22it/s, acc=0.72643, gpu_memory=10.41 GB, lr=0.00000, valid_loss=0.3281]\n",
      "Epocha val 158/200: 100%|██████████| 61/61 [00:05<00:00, 10.31it/s, acc=0.89495, gpu_memory=10.41 GB, lr=0.00000, valid_loss=0.9100]\n",
      "Epocha train 159/200: 100%|██████████| 141/141 [00:14<00:00,  9.62it/s, acc=0.71952, gpu_memory=10.41 GB, lr=0.00000, valid_loss=0.3217]\n",
      "Epocha val 159/200: 100%|██████████| 61/61 [00:06<00:00,  9.34it/s, acc=0.89827, gpu_memory=10.41 GB, lr=0.00000, valid_loss=0.8900]\n",
      "Epocha train 160/200: 100%|██████████| 141/141 [00:15<00:00,  9.32it/s, acc=0.72567, gpu_memory=10.41 GB, lr=0.00000, valid_loss=0.3277]\n",
      "Epocha val 160/200: 100%|██████████| 61/61 [00:06<00:00,  9.45it/s, acc=0.89694, gpu_memory=10.41 GB, lr=0.00000, valid_loss=0.8948]\n",
      "Epocha train 161/200: 100%|██████████| 141/141 [00:15<00:00,  9.18it/s, acc=0.72080, gpu_memory=10.41 GB, lr=0.00000, valid_loss=0.3307]\n",
      "Epocha val 161/200: 100%|██████████| 61/61 [00:06<00:00,  9.37it/s, acc=0.89195, gpu_memory=10.41 GB, lr=0.00000, valid_loss=0.8821]\n",
      "Epocha train 162/200: 100%|██████████| 141/141 [00:15<00:00,  9.21it/s, acc=0.73053, gpu_memory=10.41 GB, lr=0.00000, valid_loss=0.3313]\n",
      "Epocha val 162/200: 100%|██████████| 61/61 [00:06<00:00,  9.95it/s, acc=0.89639, gpu_memory=10.41 GB, lr=0.00000, valid_loss=0.8973]\n",
      "Epocha train 163/200: 100%|██████████| 141/141 [00:14<00:00,  9.70it/s, acc=0.72029, gpu_memory=10.41 GB, lr=0.00000, valid_loss=0.3245]\n",
      "Epocha val 163/200: 100%|██████████| 61/61 [00:06<00:00, 10.12it/s, acc=0.89949, gpu_memory=10.41 GB, lr=0.00000, valid_loss=0.8919]\n",
      "Epocha train 164/200: 100%|██████████| 141/141 [00:14<00:00,  9.59it/s, acc=0.72285, gpu_memory=10.41 GB, lr=0.00000, valid_loss=0.3263]\n",
      "Epocha val 164/200: 100%|██████████| 61/61 [00:06<00:00, 10.01it/s, acc=0.89816, gpu_memory=10.41 GB, lr=0.00000, valid_loss=0.8759]\n",
      "Epocha train 165/200: 100%|██████████| 141/141 [00:14<00:00,  9.44it/s, acc=0.72567, gpu_memory=10.41 GB, lr=0.00000, valid_loss=0.3221]\n",
      "Epocha val 165/200: 100%|██████████| 61/61 [00:06<00:00,  9.34it/s, acc=0.90049, gpu_memory=10.41 GB, lr=0.00000, valid_loss=0.9014]\n",
      "Epocha train 166/200: 100%|██████████| 141/141 [00:15<00:00,  9.20it/s, acc=0.72182, gpu_memory=10.41 GB, lr=0.00000, valid_loss=0.3174]\n",
      "Epocha val 166/200: 100%|██████████| 61/61 [00:06<00:00,  9.64it/s, acc=0.90215, gpu_memory=10.41 GB, lr=0.00000, valid_loss=0.8962]\n",
      "Epocha train 167/200: 100%|██████████| 141/141 [00:14<00:00,  9.51it/s, acc=0.72003, gpu_memory=10.41 GB, lr=0.00000, valid_loss=0.3208]\n",
      "Epocha val 167/200: 100%|██████████| 61/61 [00:06<00:00,  9.85it/s, acc=0.89639, gpu_memory=10.41 GB, lr=0.00000, valid_loss=0.8836]\n",
      "Epocha train 168/200: 100%|██████████| 141/141 [00:14<00:00,  9.64it/s, acc=0.72106, gpu_memory=10.41 GB, lr=0.00000, valid_loss=0.3207]\n",
      "Epocha val 168/200: 100%|██████████| 61/61 [00:06<00:00,  9.60it/s, acc=0.89938, gpu_memory=10.41 GB, lr=0.00000, valid_loss=0.8878]\n",
      "Epocha train 169/200: 100%|██████████| 141/141 [00:14<00:00,  9.57it/s, acc=0.72720, gpu_memory=10.41 GB, lr=0.00000, valid_loss=0.3227]\n",
      "Epocha val 169/200: 100%|██████████| 61/61 [00:06<00:00,  9.83it/s, acc=0.89761, gpu_memory=10.41 GB, lr=0.00000, valid_loss=0.9072]\n",
      "Epocha train 170/200: 100%|██████████| 141/141 [00:15<00:00,  9.30it/s, acc=0.71977, gpu_memory=10.41 GB, lr=0.00000, valid_loss=0.3278]\n",
      "Epocha val 170/200: 100%|██████████| 61/61 [00:06<00:00, 10.12it/s, acc=0.89450, gpu_memory=10.41 GB, lr=0.00000, valid_loss=0.8844]\n",
      "Epocha train 171/200: 100%|██████████| 141/141 [00:14<00:00,  9.53it/s, acc=0.71901, gpu_memory=10.41 GB, lr=0.00000, valid_loss=0.3221]\n",
      "Epocha val 171/200: 100%|██████████| 61/61 [00:05<00:00, 10.22it/s, acc=0.89927, gpu_memory=10.41 GB, lr=0.00000, valid_loss=0.8962]\n",
      "Epocha train 172/200: 100%|██████████| 141/141 [00:15<00:00,  9.10it/s, acc=0.72259, gpu_memory=10.41 GB, lr=0.00000, valid_loss=0.3171]\n",
      "Epocha val 172/200: 100%|██████████| 61/61 [00:06<00:00,  9.43it/s, acc=0.89816, gpu_memory=10.41 GB, lr=0.00000, valid_loss=0.8876]\n",
      "Epocha train 173/200: 100%|██████████| 141/141 [00:15<00:00,  9.36it/s, acc=0.72234, gpu_memory=10.41 GB, lr=0.00000, valid_loss=0.3257]\n",
      "Epocha val 173/200: 100%|██████████| 61/61 [00:06<00:00, 10.01it/s, acc=0.89838, gpu_memory=10.41 GB, lr=0.00000, valid_loss=0.8884]\n",
      "Epocha train 174/200: 100%|██████████| 141/141 [00:15<00:00,  9.29it/s, acc=0.72157, gpu_memory=10.41 GB, lr=0.00000, valid_loss=0.3153]\n",
      "Epocha val 174/200: 100%|██████████| 61/61 [00:06<00:00,  9.50it/s, acc=0.90004, gpu_memory=10.41 GB, lr=0.00000, valid_loss=0.8868]\n",
      "Epocha train 175/200: 100%|██████████| 141/141 [00:14<00:00,  9.50it/s, acc=0.72848, gpu_memory=10.41 GB, lr=0.00000, valid_loss=0.3309]\n",
      "Epocha val 175/200: 100%|██████████| 61/61 [00:06<00:00,  9.87it/s, acc=0.89694, gpu_memory=10.41 GB, lr=0.00000, valid_loss=0.8921]\n",
      "Epocha train 176/200: 100%|██████████| 141/141 [00:14<00:00,  9.40it/s, acc=0.72029, gpu_memory=10.41 GB, lr=0.00000, valid_loss=0.3398]\n",
      "Epocha val 176/200: 100%|██████████| 61/61 [00:06<00:00,  9.47it/s, acc=0.89439, gpu_memory=10.41 GB, lr=0.00000, valid_loss=0.8913]\n",
      "Epocha train 177/200: 100%|██████████| 141/141 [00:15<00:00,  9.14it/s, acc=0.72106, gpu_memory=10.41 GB, lr=0.00000, valid_loss=0.3158]\n",
      "Epocha val 177/200: 100%|██████████| 61/61 [00:06<00:00,  9.24it/s, acc=0.89849, gpu_memory=10.41 GB, lr=0.00000, valid_loss=0.8881]\n",
      "Epocha train 178/200: 100%|██████████| 141/141 [00:15<00:00,  9.29it/s, acc=0.72336, gpu_memory=10.41 GB, lr=0.00000, valid_loss=0.3233]\n",
      "Epocha val 178/200: 100%|██████████| 61/61 [00:06<00:00,  9.51it/s, acc=0.89694, gpu_memory=10.41 GB, lr=0.00000, valid_loss=0.8796]\n",
      "Epocha train 179/200: 100%|██████████| 141/141 [00:15<00:00,  9.39it/s, acc=0.73130, gpu_memory=10.41 GB, lr=0.00000, valid_loss=0.3283]\n",
      "Epocha val 179/200: 100%|██████████| 61/61 [00:05<00:00, 10.40it/s, acc=0.89650, gpu_memory=10.41 GB, lr=0.00000, valid_loss=0.9073]\n",
      "Epocha train 180/200: 100%|██████████| 141/141 [00:15<00:00,  9.38it/s, acc=0.72029, gpu_memory=10.41 GB, lr=0.00000, valid_loss=0.3237]\n",
      "Epocha val 180/200: 100%|██████████| 61/61 [00:06<00:00, 10.02it/s, acc=0.89982, gpu_memory=10.41 GB, lr=0.00000, valid_loss=0.8903]\n",
      "Epocha train 181/200: 100%|██████████| 141/141 [00:15<00:00,  9.23it/s, acc=0.72310, gpu_memory=10.41 GB, lr=0.00000, valid_loss=0.3118]\n",
      "Epocha val 181/200: 100%|██████████| 61/61 [00:06<00:00,  9.68it/s, acc=0.90337, gpu_memory=10.41 GB, lr=0.00000, valid_loss=0.9117]\n",
      "Epocha train 182/200: 100%|██████████| 141/141 [00:15<00:00,  9.29it/s, acc=0.72157, gpu_memory=10.41 GB, lr=0.00000, valid_loss=0.3235]\n",
      "Epocha val 182/200: 100%|██████████| 61/61 [00:06<00:00,  9.78it/s, acc=0.89727, gpu_memory=10.41 GB, lr=0.00000, valid_loss=0.8989]\n",
      "Epocha train 183/200: 100%|██████████| 141/141 [00:14<00:00,  9.50it/s, acc=0.71619, gpu_memory=10.41 GB, lr=0.00000, valid_loss=0.3204]\n",
      "Epocha val 183/200: 100%|██████████| 61/61 [00:06<00:00,  9.63it/s, acc=0.89783, gpu_memory=10.41 GB, lr=0.00000, valid_loss=0.9047]\n",
      "Epocha train 184/200: 100%|██████████| 141/141 [00:15<00:00,  9.23it/s, acc=0.72003, gpu_memory=10.41 GB, lr=0.00000, valid_loss=0.3132]\n",
      "Epocha val 184/200: 100%|██████████| 61/61 [00:06<00:00,  9.37it/s, acc=0.90359, gpu_memory=10.41 GB, lr=0.00000, valid_loss=0.8884]\n",
      "Epocha train 185/200: 100%|██████████| 141/141 [00:15<00:00,  9.28it/s, acc=0.71721, gpu_memory=10.41 GB, lr=0.00000, valid_loss=0.3173]\n",
      "Epocha val 185/200: 100%|██████████| 61/61 [00:06<00:00,  9.31it/s, acc=0.90126, gpu_memory=10.41 GB, lr=0.00000, valid_loss=0.8933]\n",
      "Epocha train 186/200: 100%|██████████| 141/141 [00:15<00:00,  9.38it/s, acc=0.72285, gpu_memory=10.41 GB, lr=0.00000, valid_loss=0.3194]\n",
      "Epocha val 186/200: 100%|██████████| 61/61 [00:06<00:00,  9.90it/s, acc=0.89938, gpu_memory=10.41 GB, lr=0.00000, valid_loss=0.8936]\n",
      "Epocha train 187/200: 100%|██████████| 141/141 [00:15<00:00,  9.36it/s, acc=0.72976, gpu_memory=10.41 GB, lr=0.00000, valid_loss=0.3316]\n",
      "Epocha val 187/200: 100%|██████████| 61/61 [00:06<00:00,  9.14it/s, acc=0.89672, gpu_memory=10.41 GB, lr=0.00000, valid_loss=0.8868]\n",
      "Epocha train 188/200: 100%|██████████| 141/141 [00:14<00:00,  9.66it/s, acc=0.72362, gpu_memory=10.41 GB, lr=0.00000, valid_loss=0.3310]\n",
      "Epocha val 188/200: 100%|██████████| 61/61 [00:06<00:00,  9.56it/s, acc=0.89406, gpu_memory=10.41 GB, lr=0.00000, valid_loss=0.8844]\n",
      "Epocha train 189/200: 100%|██████████| 141/141 [00:15<00:00,  9.19it/s, acc=0.72310, gpu_memory=10.41 GB, lr=0.00000, valid_loss=0.3177]\n",
      "Epocha val 189/200: 100%|██████████| 61/61 [00:06<00:00,  9.96it/s, acc=0.89905, gpu_memory=10.41 GB, lr=0.00000, valid_loss=0.8788]\n",
      "Epocha train 190/200: 100%|██████████| 141/141 [00:15<00:00,  9.31it/s, acc=0.72720, gpu_memory=10.41 GB, lr=0.00000, valid_loss=0.3220]\n",
      "Epocha val 190/200: 100%|██████████| 61/61 [00:06<00:00,  9.24it/s, acc=0.90093, gpu_memory=10.41 GB, lr=0.00000, valid_loss=0.8820]\n",
      "Epocha train 191/200: 100%|██████████| 141/141 [00:15<00:00,  9.25it/s, acc=0.72592, gpu_memory=10.41 GB, lr=0.00000, valid_loss=0.3298]\n",
      "Epocha val 191/200: 100%|██████████| 61/61 [00:06<00:00,  9.54it/s, acc=0.89594, gpu_memory=10.41 GB, lr=0.00000, valid_loss=0.8920]\n",
      "Epocha train 192/200: 100%|██████████| 141/141 [00:14<00:00,  9.52it/s, acc=0.72643, gpu_memory=10.41 GB, lr=0.00000, valid_loss=0.3196]\n",
      "Epocha val 192/200: 100%|██████████| 61/61 [00:06<00:00,  9.92it/s, acc=0.89960, gpu_memory=10.41 GB, lr=0.00000, valid_loss=0.8934]\n",
      "Epocha train 193/200: 100%|██████████| 141/141 [00:15<00:00,  9.38it/s, acc=0.72003, gpu_memory=10.41 GB, lr=0.00000, valid_loss=0.3181]\n",
      "Epocha val 193/200: 100%|██████████| 61/61 [00:06<00:00,  9.36it/s, acc=0.90027, gpu_memory=10.41 GB, lr=0.00000, valid_loss=0.8956]\n",
      "Epocha train 194/200: 100%|██████████| 141/141 [00:14<00:00,  9.43it/s, acc=0.71952, gpu_memory=10.41 GB, lr=0.00000, valid_loss=0.3252]\n",
      "Epocha val 194/200: 100%|██████████| 61/61 [00:06<00:00,  9.93it/s, acc=0.89794, gpu_memory=10.41 GB, lr=0.00000, valid_loss=0.8966]\n",
      "Epocha train 195/200: 100%|██████████| 141/141 [00:15<00:00,  9.13it/s, acc=0.72515, gpu_memory=10.41 GB, lr=0.00000, valid_loss=0.3294]\n",
      "Epocha val 195/200: 100%|██████████| 61/61 [00:06<00:00,  9.10it/s, acc=0.89583, gpu_memory=10.41 GB, lr=0.00000, valid_loss=0.8861]\n",
      "Epocha train 196/200: 100%|██████████| 141/141 [00:15<00:00,  9.27it/s, acc=0.72515, gpu_memory=10.41 GB, lr=0.00000, valid_loss=0.3229]\n",
      "Epocha val 196/200: 100%|██████████| 61/61 [00:06<00:00,  9.61it/s, acc=0.89783, gpu_memory=10.41 GB, lr=0.00000, valid_loss=0.8981]\n",
      "Epocha train 197/200: 100%|██████████| 141/141 [00:15<00:00,  9.22it/s, acc=0.72106, gpu_memory=10.41 GB, lr=0.00000, valid_loss=0.3267]\n",
      "Epocha val 197/200: 100%|██████████| 61/61 [00:06<00:00,  9.73it/s, acc=0.89617, gpu_memory=10.41 GB, lr=0.00000, valid_loss=0.8865]\n",
      "Epocha train 198/200: 100%|██████████| 141/141 [00:14<00:00,  9.46it/s, acc=0.71952, gpu_memory=10.41 GB, lr=0.00000, valid_loss=0.3291]\n",
      "Epocha val 198/200: 100%|██████████| 61/61 [00:06<00:00,  9.96it/s, acc=0.89550, gpu_memory=10.41 GB, lr=0.00000, valid_loss=0.8782]\n",
      "Epocha train 199/200: 100%|██████████| 141/141 [00:15<00:00,  9.27it/s, acc=0.72182, gpu_memory=10.41 GB, lr=0.00000, valid_loss=0.3219]\n",
      "Epocha val 199/200: 100%|██████████| 61/61 [00:06<00:00, 10.14it/s, acc=0.89727, gpu_memory=10.41 GB, lr=0.00000, valid_loss=0.8877]\n",
      "Epocha train 200/200: 100%|██████████| 141/141 [00:15<00:00,  9.00it/s, acc=0.72131, gpu_memory=10.41 GB, lr=0.00000, valid_loss=0.3350]\n",
      "Epocha val 200/200: 100%|██████████| 61/61 [00:06<00:00,  9.81it/s, acc=0.89650, gpu_memory=10.41 GB, lr=0.00000, valid_loss=0.8976]\n"
     ]
    },
    {
     "name": "stdout",
     "output_type": "stream",
     "text": [
      "Training complete in 75m 17s\n",
      "Best val Loss classification: 0.8680 epoch 124  \n",
      "Best val Loss accuracy: 0.7323 epoch 138\n"
     ]
    },
    {
     "data": {
      "image/png": "[encoded data removed]",
      "text/plain": [
       "<Figure size 432x288 with 1 Axes>"
      ]
     },
     "metadata": {
      "needs_background": "light"
     },
     "output_type": "display_data"
    },
    {
     "data": {
      "image/png": "[encoded data removed]",
      "text/plain": [
       "<Figure size 432x288 with 1 Axes>"
      ]
     },
     "metadata": {
      "needs_background": "light"
     },
     "output_type": "display_data"
    }
   ],
   "source": [
    "model_loss, model_acc, overfit_model,best_acc = train.train(train_dirr=\"/workspace/proj/paradigma/db/imagewoof2\",                                           # Путь до папки с train or directori\n",
    "                                             val_dirr=\"/workspace/proj/paradigma/db/imagewoof2\",                                             # Путь до папки с описанием val\n",
    "                                             model_name =\"resnet18\",                             # Название модели timm or пользовательские из кода\n",
    "                                             Dataset_name =\"imagewoof\",                            # Название Dataset (при сохранении)\n",
    "                                             metod_aug_name=\"baseline\",#\"FsAA\",                # Название metoda (при сохранении)\n",
    "                                             task_name=\"clasification\",                          # Название задачи  (при сохранении)\n",
    "                                             train_annotation='/workspace/proj/paradigma/db/imagewoof2/noisy_imagewoof.csv',                                # Путь до файла с описанием train\n",
    "                                             val_annotation='/workspace/proj/paradigma/db/imagewoof2/noisy_imagewoof.csv',                                  # Путь до файла с описанием val\n",
    "                                             N_class = 10,                                          # Количество классов в задаче\n",
    "                                             num_epochs=200,                                        # Количество эпох обучения\n",
    "                                             batch_size = 64,                                       \n",
    "                                             snp_path = '/workspace/proj/paradigma/snp/',     # Путь к папке, в которую сохранять готовые модели\n",
    "                                             pretrained = False,                                   # True - загрузить предобученную модель\n",
    "                                             SIZE = 224,                                           # Размер входа (SIZE*SIZE)\n",
    "                                             lr=8e-3,                                           # Коэффициент скорости обучения (Learning rate)\n",
    "                                             step_size=33,                                         # за сколько эпох уменьшить lr\n",
    "                                             gamma=0.1,                                            # Во сколько раз уменьшить lr\n",
    "                                             momentum=0.95)#,                                        # коэфицент сохранения момента\n",
    "#                                              rootAA=\"/workspace/proj/autoalbument/examples/imagenette/resnet50/outputs/2022-08-03/15-10-06/policy/latest.json\")\n"
   ]
  },
  {
   "cell_type": "code",
   "execution_count": 12,
   "metadata": {
    "scrolled": true
   },
   "outputs": [
    {
     "name": "stdout",
     "output_type": "stream",
     "text": [
      "/workspace/proj/paradigma/snp/imagewoof/resnet18/baseline/06_09_2022/13_11_22/\n"
     ]
    },
    {
     "name": "stderr",
     "output_type": "stream",
     "text": [
      "Epocha train 1/200: 100%|██████████| 141/141 [00:16<00:00,  8.47it/s, acc=0.00000, gpu_memory=10.41 GB, lr=0.00400, valid_loss=2.1806]\n",
      "Epocha val 1/200: 100%|██████████| 61/61 [00:07<00:00,  8.62it/s, acc=0.18606, gpu_memory=10.41 GB, lr=0.00400, valid_loss=2.1127]\n"
     ]
    },
    {
     "name": "stdout",
     "output_type": "stream",
     "text": [
      "Best val Loss classification: 2.112668,Best val Acc classification:0.000000\n"
     ]
    },
    {
     "name": "stderr",
     "output_type": "stream",
     "text": [
      "Epocha train 2/200: 100%|██████████| 141/141 [00:17<00:00,  8.03it/s, acc=0.22285, gpu_memory=10.41 GB, lr=0.00400, valid_loss=2.0968]\n"
     ]
    },
    {
     "ename": "KeyboardInterrupt",
     "evalue": "",
     "output_type": "error",
     "traceback": [
      "\u001b[0;31m---------------------------------------------------------------------------\u001b[0m",
      "\u001b[0;31mKeyboardInterrupt\u001b[0m                         Traceback (most recent call last)",
      "\u001b[0;32m<ipython-input-12-fc4d88cda795>\u001b[0m in \u001b[0;36m<module>\u001b[0;34m\u001b[0m\n\u001b[1;32m     16\u001b[0m                                              \u001b[0mstep_size\u001b[0m\u001b[0;34m=\u001b[0m\u001b[0;36m20\u001b[0m\u001b[0;34m,\u001b[0m                                        \u001b[0;31m# за сколько эпох уменьшить lr\u001b[0m\u001b[0;34m\u001b[0m\u001b[0;34m\u001b[0m\u001b[0m\n\u001b[1;32m     17\u001b[0m                                              \u001b[0mgamma\u001b[0m\u001b[0;34m=\u001b[0m\u001b[0;36m0.1\u001b[0m\u001b[0;34m,\u001b[0m                                            \u001b[0;31m# Во сколько раз уменьшить lr\u001b[0m\u001b[0;34m\u001b[0m\u001b[0;34m\u001b[0m\u001b[0m\n\u001b[0;32m---> 18\u001b[0;31m                                              momentum=0.95)#,                                        # коэфицент сохранения момента\n\u001b[0m\u001b[1;32m     19\u001b[0m \u001b[0;31m#                                              rootAA=\"/workspace/proj/autoalbument/examples/imagenette/resnet50/outputs/2022-08-03/15-10-06/policy/latest.json\")\u001b[0m\u001b[0;34m\u001b[0m\u001b[0;34m\u001b[0m\u001b[0;34m\u001b[0m\u001b[0m\n",
      "\u001b[0;32m/workspace/proj/clasificashion/train.py\u001b[0m in \u001b[0;36mtrain\u001b[0;34m(train_dirr, val_dirr, model_name, Dataset_name, metod_aug_name, task_name, train_annotation, val_annotation, N_class, num_epochs, batch_size, snp_path, pretrained, multicl, num_workers, pin_memory, drop_last_v, drop_last_t, transforms, SIZE, lr, step_size, gamma, momentum, nesterov, classification_criterion, rootAA, path, Dataset, t_shuffle, v_shuffle, v_rasp_file, t_rasp_file)\u001b[0m\n\u001b[1;32m     93\u001b[0m                                                                   \u001b[0mnum_epochs\u001b[0m\u001b[0;34m,\u001b[0m\u001b[0;34m\u001b[0m\u001b[0;34m\u001b[0m\u001b[0m\n\u001b[1;32m     94\u001b[0m                                                                   \u001b[0mN_class\u001b[0m\u001b[0;34m,\u001b[0m\u001b[0;34m\u001b[0m\u001b[0;34m\u001b[0m\u001b[0m\n\u001b[0;32m---> 95\u001b[0;31m                                                                   multicl)\n\u001b[0m\u001b[1;32m     96\u001b[0m     \u001b[0;32mreturn\u001b[0m \u001b[0mmodel_loss\u001b[0m\u001b[0;34m,\u001b[0m \u001b[0mmodel_acc\u001b[0m\u001b[0;34m,\u001b[0m \u001b[0moverfit_model\u001b[0m\u001b[0;34m,\u001b[0m \u001b[0mbest_acc\u001b[0m\u001b[0;34m\u001b[0m\u001b[0;34m\u001b[0m\u001b[0m\n",
      "\u001b[0;32m/workspace/proj/clasificashion/train_alg.py\u001b[0m in \u001b[0;36mtrain_model\u001b[0;34m(model, classification_criterion, optimizer, dataloaders, scheduler, batch_size, snp_path, Name_experement, num_epochs, N_class, multiclass)\u001b[0m\n\u001b[1;32m     49\u001b[0m             pbar = tqdm(enumerate(dataloaders[phase]), total=len(dataloaders[phase]), \n\u001b[1;32m     50\u001b[0m                         desc=\"Epocha \"+phase+\" \"+str(epoch+1)+\"/\"+str(num_epochs))\n\u001b[0;32m---> 51\u001b[0;31m             \u001b[0;32mfor\u001b[0m \u001b[0mstep\u001b[0m\u001b[0;34m,\u001b[0m \u001b[0;34m(\u001b[0m\u001b[0minputs\u001b[0m\u001b[0;34m,\u001b[0m \u001b[0mlabels\u001b[0m\u001b[0;34m)\u001b[0m \u001b[0;32min\u001b[0m \u001b[0mpbar\u001b[0m\u001b[0;34m:\u001b[0m\u001b[0;34m\u001b[0m\u001b[0;34m\u001b[0m\u001b[0m\n\u001b[0m\u001b[1;32m     52\u001b[0m \u001b[0;34m\u001b[0m\u001b[0m\n\u001b[1;32m     53\u001b[0m                 \u001b[0;31m# a = np.zeros((batch_size,N_class))\u001b[0m\u001b[0;34m\u001b[0m\u001b[0;34m\u001b[0m\u001b[0;34m\u001b[0m\u001b[0m\n",
      "\u001b[0;32m/opt/conda/lib/python3.6/site-packages/tqdm/std.py\u001b[0m in \u001b[0;36m__iter__\u001b[0;34m(self)\u001b[0m\n\u001b[1;32m   1193\u001b[0m \u001b[0;34m\u001b[0m\u001b[0m\n\u001b[1;32m   1194\u001b[0m         \u001b[0;32mtry\u001b[0m\u001b[0;34m:\u001b[0m\u001b[0;34m\u001b[0m\u001b[0;34m\u001b[0m\u001b[0m\n\u001b[0;32m-> 1195\u001b[0;31m             \u001b[0;32mfor\u001b[0m \u001b[0mobj\u001b[0m \u001b[0;32min\u001b[0m \u001b[0miterable\u001b[0m\u001b[0;34m:\u001b[0m\u001b[0;34m\u001b[0m\u001b[0;34m\u001b[0m\u001b[0m\n\u001b[0m\u001b[1;32m   1196\u001b[0m                 \u001b[0;32myield\u001b[0m \u001b[0mobj\u001b[0m\u001b[0;34m\u001b[0m\u001b[0;34m\u001b[0m\u001b[0m\n\u001b[1;32m   1197\u001b[0m                 \u001b[0;31m# Update and possibly print the progressbar.\u001b[0m\u001b[0;34m\u001b[0m\u001b[0;34m\u001b[0m\u001b[0;34m\u001b[0m\u001b[0m\n",
      "\u001b[0;32m/opt/conda/lib/python3.6/site-packages/torch/utils/data/dataloader.py\u001b[0m in \u001b[0;36m__next__\u001b[0;34m(self)\u001b[0m\n\u001b[1;32m    361\u001b[0m \u001b[0;34m\u001b[0m\u001b[0m\n\u001b[1;32m    362\u001b[0m     \u001b[0;32mdef\u001b[0m \u001b[0m__next__\u001b[0m\u001b[0;34m(\u001b[0m\u001b[0mself\u001b[0m\u001b[0;34m)\u001b[0m\u001b[0;34m:\u001b[0m\u001b[0;34m\u001b[0m\u001b[0;34m\u001b[0m\u001b[0m\n\u001b[0;32m--> 363\u001b[0;31m         \u001b[0mdata\u001b[0m \u001b[0;34m=\u001b[0m \u001b[0mself\u001b[0m\u001b[0;34m.\u001b[0m\u001b[0m_next_data\u001b[0m\u001b[0;34m(\u001b[0m\u001b[0;34m)\u001b[0m\u001b[0;34m\u001b[0m\u001b[0;34m\u001b[0m\u001b[0m\n\u001b[0m\u001b[1;32m    364\u001b[0m         \u001b[0mself\u001b[0m\u001b[0;34m.\u001b[0m\u001b[0m_num_yielded\u001b[0m \u001b[0;34m+=\u001b[0m \u001b[0;36m1\u001b[0m\u001b[0;34m\u001b[0m\u001b[0;34m\u001b[0m\u001b[0m\n\u001b[1;32m    365\u001b[0m         \u001b[0;32mif\u001b[0m \u001b[0mself\u001b[0m\u001b[0;34m.\u001b[0m\u001b[0m_dataset_kind\u001b[0m \u001b[0;34m==\u001b[0m \u001b[0m_DatasetKind\u001b[0m\u001b[0;34m.\u001b[0m\u001b[0mIterable\u001b[0m \u001b[0;32mand\u001b[0m\u001b[0;31m \u001b[0m\u001b[0;31m\\\u001b[0m\u001b[0;34m\u001b[0m\u001b[0;34m\u001b[0m\u001b[0m\n",
      "\u001b[0;32m/opt/conda/lib/python3.6/site-packages/torch/utils/data/dataloader.py\u001b[0m in \u001b[0;36m_next_data\u001b[0;34m(self)\u001b[0m\n\u001b[1;32m    961\u001b[0m             \u001b[0;32melse\u001b[0m\u001b[0;34m:\u001b[0m\u001b[0;34m\u001b[0m\u001b[0;34m\u001b[0m\u001b[0m\n\u001b[1;32m    962\u001b[0m                 \u001b[0;31m# no valid `self._rcvd_idx` is found (i.e., didn't break)\u001b[0m\u001b[0;34m\u001b[0m\u001b[0;34m\u001b[0m\u001b[0;34m\u001b[0m\u001b[0m\n\u001b[0;32m--> 963\u001b[0;31m                 \u001b[0mself\u001b[0m\u001b[0;34m.\u001b[0m\u001b[0m_shutdown_workers\u001b[0m\u001b[0;34m(\u001b[0m\u001b[0;34m)\u001b[0m\u001b[0;34m\u001b[0m\u001b[0;34m\u001b[0m\u001b[0m\n\u001b[0m\u001b[1;32m    964\u001b[0m                 \u001b[0;32mraise\u001b[0m \u001b[0mStopIteration\u001b[0m\u001b[0;34m\u001b[0m\u001b[0;34m\u001b[0m\u001b[0m\n\u001b[1;32m    965\u001b[0m \u001b[0;34m\u001b[0m\u001b[0m\n",
      "\u001b[0;32m/opt/conda/lib/python3.6/site-packages/torch/utils/data/dataloader.py\u001b[0m in \u001b[0;36m_shutdown_workers\u001b[0;34m(self)\u001b[0m\n\u001b[1;32m   1073\u001b[0m                         \u001b[0mself\u001b[0m\u001b[0;34m.\u001b[0m\u001b[0m_shutdown_worker\u001b[0m\u001b[0;34m(\u001b[0m\u001b[0mworker_id\u001b[0m\u001b[0;34m)\u001b[0m\u001b[0;34m\u001b[0m\u001b[0;34m\u001b[0m\u001b[0m\n\u001b[1;32m   1074\u001b[0m                 \u001b[0;32mfor\u001b[0m \u001b[0mw\u001b[0m \u001b[0;32min\u001b[0m \u001b[0mself\u001b[0m\u001b[0;34m.\u001b[0m\u001b[0m_workers\u001b[0m\u001b[0;34m:\u001b[0m\u001b[0;34m\u001b[0m\u001b[0;34m\u001b[0m\u001b[0m\n\u001b[0;32m-> 1075\u001b[0;31m                     \u001b[0mw\u001b[0m\u001b[0;34m.\u001b[0m\u001b[0mjoin\u001b[0m\u001b[0;34m(\u001b[0m\u001b[0mtimeout\u001b[0m\u001b[0;34m=\u001b[0m\u001b[0m_utils\u001b[0m\u001b[0;34m.\u001b[0m\u001b[0mMP_STATUS_CHECK_INTERVAL\u001b[0m\u001b[0;34m)\u001b[0m\u001b[0;34m\u001b[0m\u001b[0;34m\u001b[0m\u001b[0m\n\u001b[0m\u001b[1;32m   1076\u001b[0m                     \u001b[0;32mif\u001b[0m \u001b[0mw\u001b[0m\u001b[0;34m.\u001b[0m\u001b[0mis_alive\u001b[0m\u001b[0;34m(\u001b[0m\u001b[0;34m)\u001b[0m\u001b[0;34m:\u001b[0m\u001b[0;34m\u001b[0m\u001b[0;34m\u001b[0m\u001b[0m\n\u001b[1;32m   1077\u001b[0m                         \u001b[0;31m# Existing mechanisms try to make the workers exit\u001b[0m\u001b[0;34m\u001b[0m\u001b[0;34m\u001b[0m\u001b[0;34m\u001b[0m\u001b[0m\n",
      "\u001b[0;32m/opt/conda/lib/python3.6/multiprocessing/process.py\u001b[0m in \u001b[0;36mjoin\u001b[0;34m(self, timeout)\u001b[0m\n\u001b[1;32m    122\u001b[0m         \u001b[0;32massert\u001b[0m \u001b[0mself\u001b[0m\u001b[0;34m.\u001b[0m\u001b[0m_parent_pid\u001b[0m \u001b[0;34m==\u001b[0m \u001b[0mos\u001b[0m\u001b[0;34m.\u001b[0m\u001b[0mgetpid\u001b[0m\u001b[0;34m(\u001b[0m\u001b[0;34m)\u001b[0m\u001b[0;34m,\u001b[0m \u001b[0;34m'can only join a child process'\u001b[0m\u001b[0;34m\u001b[0m\u001b[0;34m\u001b[0m\u001b[0m\n\u001b[1;32m    123\u001b[0m         \u001b[0;32massert\u001b[0m \u001b[0mself\u001b[0m\u001b[0;34m.\u001b[0m\u001b[0m_popen\u001b[0m \u001b[0;32mis\u001b[0m \u001b[0;32mnot\u001b[0m \u001b[0;32mNone\u001b[0m\u001b[0;34m,\u001b[0m \u001b[0;34m'can only join a started process'\u001b[0m\u001b[0;34m\u001b[0m\u001b[0;34m\u001b[0m\u001b[0m\n\u001b[0;32m--> 124\u001b[0;31m         \u001b[0mres\u001b[0m \u001b[0;34m=\u001b[0m \u001b[0mself\u001b[0m\u001b[0;34m.\u001b[0m\u001b[0m_popen\u001b[0m\u001b[0;34m.\u001b[0m\u001b[0mwait\u001b[0m\u001b[0;34m(\u001b[0m\u001b[0mtimeout\u001b[0m\u001b[0;34m)\u001b[0m\u001b[0;34m\u001b[0m\u001b[0;34m\u001b[0m\u001b[0m\n\u001b[0m\u001b[1;32m    125\u001b[0m         \u001b[0;32mif\u001b[0m \u001b[0mres\u001b[0m \u001b[0;32mis\u001b[0m \u001b[0;32mnot\u001b[0m \u001b[0;32mNone\u001b[0m\u001b[0;34m:\u001b[0m\u001b[0;34m\u001b[0m\u001b[0;34m\u001b[0m\u001b[0m\n\u001b[1;32m    126\u001b[0m             \u001b[0m_children\u001b[0m\u001b[0;34m.\u001b[0m\u001b[0mdiscard\u001b[0m\u001b[0;34m(\u001b[0m\u001b[0mself\u001b[0m\u001b[0;34m)\u001b[0m\u001b[0;34m\u001b[0m\u001b[0;34m\u001b[0m\u001b[0m\n",
      "\u001b[0;32m/opt/conda/lib/python3.6/multiprocessing/popen_fork.py\u001b[0m in \u001b[0;36mwait\u001b[0;34m(self, timeout)\u001b[0m\n\u001b[1;32m     45\u001b[0m             \u001b[0;32mif\u001b[0m \u001b[0mtimeout\u001b[0m \u001b[0;32mis\u001b[0m \u001b[0;32mnot\u001b[0m \u001b[0;32mNone\u001b[0m\u001b[0;34m:\u001b[0m\u001b[0;34m\u001b[0m\u001b[0;34m\u001b[0m\u001b[0m\n\u001b[1;32m     46\u001b[0m                 \u001b[0;32mfrom\u001b[0m \u001b[0mmultiprocessing\u001b[0m\u001b[0;34m.\u001b[0m\u001b[0mconnection\u001b[0m \u001b[0;32mimport\u001b[0m \u001b[0mwait\u001b[0m\u001b[0;34m\u001b[0m\u001b[0;34m\u001b[0m\u001b[0m\n\u001b[0;32m---> 47\u001b[0;31m                 \u001b[0;32mif\u001b[0m \u001b[0;32mnot\u001b[0m \u001b[0mwait\u001b[0m\u001b[0;34m(\u001b[0m\u001b[0;34m[\u001b[0m\u001b[0mself\u001b[0m\u001b[0;34m.\u001b[0m\u001b[0msentinel\u001b[0m\u001b[0;34m]\u001b[0m\u001b[0;34m,\u001b[0m \u001b[0mtimeout\u001b[0m\u001b[0;34m)\u001b[0m\u001b[0;34m:\u001b[0m\u001b[0;34m\u001b[0m\u001b[0;34m\u001b[0m\u001b[0m\n\u001b[0m\u001b[1;32m     48\u001b[0m                     \u001b[0;32mreturn\u001b[0m \u001b[0;32mNone\u001b[0m\u001b[0;34m\u001b[0m\u001b[0;34m\u001b[0m\u001b[0m\n\u001b[1;32m     49\u001b[0m             \u001b[0;31m# This shouldn't block if wait() returned successfully.\u001b[0m\u001b[0;34m\u001b[0m\u001b[0;34m\u001b[0m\u001b[0;34m\u001b[0m\u001b[0m\n",
      "\u001b[0;32m/opt/conda/lib/python3.6/multiprocessing/connection.py\u001b[0m in \u001b[0;36mwait\u001b[0;34m(object_list, timeout)\u001b[0m\n\u001b[1;32m    909\u001b[0m \u001b[0;34m\u001b[0m\u001b[0m\n\u001b[1;32m    910\u001b[0m             \u001b[0;32mwhile\u001b[0m \u001b[0;32mTrue\u001b[0m\u001b[0;34m:\u001b[0m\u001b[0;34m\u001b[0m\u001b[0;34m\u001b[0m\u001b[0m\n\u001b[0;32m--> 911\u001b[0;31m                 \u001b[0mready\u001b[0m \u001b[0;34m=\u001b[0m \u001b[0mselector\u001b[0m\u001b[0;34m.\u001b[0m\u001b[0mselect\u001b[0m\u001b[0;34m(\u001b[0m\u001b[0mtimeout\u001b[0m\u001b[0;34m)\u001b[0m\u001b[0;34m\u001b[0m\u001b[0;34m\u001b[0m\u001b[0m\n\u001b[0m\u001b[1;32m    912\u001b[0m                 \u001b[0;32mif\u001b[0m \u001b[0mready\u001b[0m\u001b[0;34m:\u001b[0m\u001b[0;34m\u001b[0m\u001b[0;34m\u001b[0m\u001b[0m\n\u001b[1;32m    913\u001b[0m                     \u001b[0;32mreturn\u001b[0m \u001b[0;34m[\u001b[0m\u001b[0mkey\u001b[0m\u001b[0;34m.\u001b[0m\u001b[0mfileobj\u001b[0m \u001b[0;32mfor\u001b[0m \u001b[0;34m(\u001b[0m\u001b[0mkey\u001b[0m\u001b[0;34m,\u001b[0m \u001b[0mevents\u001b[0m\u001b[0;34m)\u001b[0m \u001b[0;32min\u001b[0m \u001b[0mready\u001b[0m\u001b[0;34m]\u001b[0m\u001b[0;34m\u001b[0m\u001b[0;34m\u001b[0m\u001b[0m\n",
      "\u001b[0;32m/opt/conda/lib/python3.6/selectors.py\u001b[0m in \u001b[0;36mselect\u001b[0;34m(self, timeout)\u001b[0m\n\u001b[1;32m    374\u001b[0m             \u001b[0mready\u001b[0m \u001b[0;34m=\u001b[0m \u001b[0;34m[\u001b[0m\u001b[0;34m]\u001b[0m\u001b[0;34m\u001b[0m\u001b[0;34m\u001b[0m\u001b[0m\n\u001b[1;32m    375\u001b[0m             \u001b[0;32mtry\u001b[0m\u001b[0;34m:\u001b[0m\u001b[0;34m\u001b[0m\u001b[0;34m\u001b[0m\u001b[0m\n\u001b[0;32m--> 376\u001b[0;31m                 \u001b[0mfd_event_list\u001b[0m \u001b[0;34m=\u001b[0m \u001b[0mself\u001b[0m\u001b[0;34m.\u001b[0m\u001b[0m_poll\u001b[0m\u001b[0;34m.\u001b[0m\u001b[0mpoll\u001b[0m\u001b[0;34m(\u001b[0m\u001b[0mtimeout\u001b[0m\u001b[0;34m)\u001b[0m\u001b[0;34m\u001b[0m\u001b[0;34m\u001b[0m\u001b[0m\n\u001b[0m\u001b[1;32m    377\u001b[0m             \u001b[0;32mexcept\u001b[0m \u001b[0mInterruptedError\u001b[0m\u001b[0;34m:\u001b[0m\u001b[0;34m\u001b[0m\u001b[0;34m\u001b[0m\u001b[0m\n\u001b[1;32m    378\u001b[0m                 \u001b[0;32mreturn\u001b[0m \u001b[0mready\u001b[0m\u001b[0;34m\u001b[0m\u001b[0;34m\u001b[0m\u001b[0m\n",
      "\u001b[0;31mKeyboardInterrupt\u001b[0m: "
     ]
    }
   ],
   "source": [
    "model_loss, model_acc, overfit_model,best_acc = train.train(train_dirr=\"/workspace/proj/paradigma/db/imagewoof2\",                                           # Путь до папки с train or directori\n",
    "                                             val_dirr=\"/workspace/proj/paradigma/db/imagewoof2\",                                             # Путь до папки с описанием val\n",
    "                                             model_name =\"resnet18\",                             # Название модели timm or пользовательские из кода\n",
    "                                             Dataset_name =\"imagewoof\",                            # Название Dataset (при сохранении)\n",
    "                                             metod_aug_name=\"baseline\",#\"FsAA\",                # Название metoda (при сохранении)\n",
    "                                             task_name=\"clasification\",                          # Название задачи  (при сохранении)\n",
    "                                             train_annotation='/workspace/proj/paradigma/db/imagewoof2/noisy_imagewoof.csv',                                # Путь до файла с описанием train\n",
    "                                             val_annotation='/workspace/proj/paradigma/db/imagewoof2/noisy_imagewoof.csv',                                  # Путь до файла с описанием val\n",
    "                                             N_class = 10,                                          # Количество классов в задаче\n",
    "                                             num_epochs=200,                                        # Количество эпох обучения\n",
    "                                             batch_size = 64,                                       \n",
    "                                             snp_path = '/workspace/proj/paradigma/snp/',     # Путь к папке, в которую сохранять готовые модели\n",
    "                                             pretrained = False,                                   # True - загрузить предобученную модель\n",
    "                                             SIZE = 224,                                           # Размер входа (SIZE*SIZE)\n",
    "                                             lr=0.004,                                        # Коэффициент скорости обучения (Learning rate)\n",
    "                                             step_size=20,                                        # за сколько эпох уменьшить lr\n",
    "                                             gamma=0.1,                                            # Во сколько раз уменьшить lr\n",
    "                                             momentum=0.95)#,                                        # коэфицент сохранения момента\n",
    "#                                              rootAA=\"/workspace/proj/autoalbument/examples/imagenette/resnet50/outputs/2022-08-03/15-10-06/policy/latest.json\")\n"
   ]
  },
  {
   "cell_type": "code",
   "execution_count": null,
   "metadata": {
    "scrolled": true
   },
   "outputs": [
    {
     "name": "stdout",
     "output_type": "stream",
     "text": [
      "/workspace/proj/paradigma/snp/imagewoof/resnet50/baseline/07_09_2022/09_39_21/\n"
     ]
    },
    {
     "name": "stderr",
     "output_type": "stream",
     "text": [
      "Epocha train 1/200: 100%|██████████| 141/141 [00:40<00:00,  3.47it/s, acc=0.00000, gpu_memory=10.12 GB, lr=0.00004, valid_loss=0.6445]\n",
      "Epocha val 1/200: 100%|██████████| 61/61 [00:07<00:00,  7.87it/s, acc=0.86957, gpu_memory=10.12 GB, lr=0.00004, valid_loss=0.2323]\n"
     ]
    },
    {
     "name": "stdout",
     "output_type": "stream",
     "text": [
      "Best val Loss classification: 0.232346,Best val Acc classification:0.000000\n"
     ]
    },
    {
     "name": "stderr",
     "output_type": "stream",
     "text": [
      "Epocha train 2/200: 100%|██████████| 141/141 [00:39<00:00,  3.57it/s, acc=0.93263, gpu_memory=10.14 GB, lr=0.00004, valid_loss=0.1970]\n",
      "Epocha val 2/200: 100%|██████████| 61/61 [00:07<00:00,  8.58it/s, acc=0.94404, gpu_memory=10.14 GB, lr=0.00004, valid_loss=0.2272]\n"
     ]
    },
    {
     "name": "stdout",
     "output_type": "stream",
     "text": [
      "Best val Loss classification: 0.227198,Best val Acc classification:0.932633\n"
     ]
    },
    {
     "name": "stderr",
     "output_type": "stream",
     "text": [
      "Epocha train 3/200: 100%|██████████| 141/141 [00:39<00:00,  3.60it/s, acc=0.93417, gpu_memory=10.15 GB, lr=0.00004, valid_loss=0.1534]\n",
      "Epocha val 3/200: 100%|██████████| 61/61 [00:07<00:00,  8.49it/s, acc=0.95667, gpu_memory=10.15 GB, lr=0.00004, valid_loss=0.2066]\n"
     ]
    },
    {
     "name": "stdout",
     "output_type": "stream",
     "text": [
      "Best val Loss classification: 0.206627,Best val Acc classification:0.934170\n"
     ]
    },
    {
     "name": "stderr",
     "output_type": "stream",
     "text": [
      "Epocha train 4/200: 100%|██████████| 141/141 [00:39<00:00,  3.59it/s, acc=0.94057, gpu_memory=10.15 GB, lr=0.00004, valid_loss=0.1201]\n",
      "Epocha val 4/200: 100%|██████████| 61/61 [00:07<00:00,  8.34it/s, acc=0.96332, gpu_memory=10.15 GB, lr=0.00004, valid_loss=0.2328]\n",
      "Epocha train 5/200: 100%|██████████| 141/141 [00:39<00:00,  3.61it/s, acc=0.93417, gpu_memory=10.15 GB, lr=0.00004, valid_loss=0.1070]\n",
      "Epocha val 5/200: 100%|██████████| 61/61 [00:07<00:00,  8.45it/s, acc=0.96897, gpu_memory=10.15 GB, lr=0.00004, valid_loss=0.2083]\n"
     ]
    },
    {
     "name": "stdout",
     "output_type": "stream",
     "text": [
      "Best val Loss classification: 0.206627,Best val Acc classification:0.940574\n"
     ]
    },
    {
     "name": "stderr",
     "output_type": "stream",
     "text": [
      "Epocha train 6/200: 100%|██████████| 141/141 [00:39<00:00,  3.60it/s, acc=0.94160, gpu_memory=10.15 GB, lr=0.00004, valid_loss=0.0834]\n",
      "Epocha val 6/200: 100%|██████████| 61/61 [00:07<00:00,  8.62it/s, acc=0.97473, gpu_memory=10.15 GB, lr=0.00004, valid_loss=0.2194]\n",
      "Epocha train 7/200: 100%|██████████| 141/141 [00:39<00:00,  3.55it/s, acc=0.93878, gpu_memory=10.15 GB, lr=0.00004, valid_loss=0.0769]\n",
      "Epocha val 7/200: 100%|██████████| 61/61 [00:07<00:00,  8.65it/s, acc=0.97850, gpu_memory=10.15 GB, lr=0.00004, valid_loss=0.2151]\n",
      "Epocha train 8/200: 100%|██████████| 141/141 [00:39<00:00,  3.60it/s, acc=0.94057, gpu_memory=10.15 GB, lr=0.00004, valid_loss=0.0632]\n",
      "Epocha val 8/200: 100%|██████████| 61/61 [00:07<00:00,  8.51it/s, acc=0.98016, gpu_memory=10.15 GB, lr=0.00004, valid_loss=0.2298]\n",
      "Epocha train 9/200: 100%|██████████| 141/141 [00:38<00:00,  3.63it/s, acc=0.93981, gpu_memory=10.15 GB, lr=0.00004, valid_loss=0.0619]\n",
      "Epocha val 9/200: 100%|██████████| 61/61 [00:07<00:00,  8.30it/s, acc=0.98293, gpu_memory=10.15 GB, lr=0.00004, valid_loss=0.2289]\n",
      "Epocha train 10/200: 100%|██████████| 141/141 [00:38<00:00,  3.62it/s, acc=0.93468, gpu_memory=10.15 GB, lr=0.00004, valid_loss=0.0605]\n",
      "Epocha val 10/200: 100%|██████████| 61/61 [00:07<00:00,  8.52it/s, acc=0.98227, gpu_memory=10.15 GB, lr=0.00004, valid_loss=0.2233]\n",
      "Epocha train 11/200: 100%|██████████| 141/141 [00:39<00:00,  3.61it/s, acc=0.93878, gpu_memory=10.15 GB, lr=0.00004, valid_loss=0.0519]\n",
      "Epocha val 11/200: 100%|██████████| 61/61 [00:07<00:00,  8.55it/s, acc=0.98404, gpu_memory=10.15 GB, lr=0.00004, valid_loss=0.2437]\n",
      "Epocha train 12/200: 100%|██████████| 141/141 [00:39<00:00,  3.61it/s, acc=0.93238, gpu_memory=10.15 GB, lr=0.00004, valid_loss=0.0488]\n",
      "Epocha val 12/200: 100%|██████████| 61/61 [00:07<00:00,  8.59it/s, acc=0.98449, gpu_memory=10.15 GB, lr=0.00004, valid_loss=0.2471]\n",
      "Epocha train 13/200: 100%|██████████| 141/141 [00:39<00:00,  3.60it/s, acc=0.93494, gpu_memory=10.15 GB, lr=0.00004, valid_loss=0.0448]\n",
      "Epocha val 13/200: 100%|██████████| 61/61 [00:07<00:00,  8.33it/s, acc=0.98692, gpu_memory=10.15 GB, lr=0.00004, valid_loss=0.2329]\n",
      "Epocha train 14/200: 100%|██████████| 141/141 [00:39<00:00,  3.60it/s, acc=0.93801, gpu_memory=10.15 GB, lr=0.00004, valid_loss=0.0434]\n",
      "Epocha val 14/200: 100%|██████████| 61/61 [00:07<00:00,  8.39it/s, acc=0.98759, gpu_memory=10.15 GB, lr=0.00004, valid_loss=0.2679]\n",
      "Epocha train 15/200: 100%|██████████| 141/141 [00:39<00:00,  3.56it/s, acc=0.93110, gpu_memory=10.15 GB, lr=0.00004, valid_loss=0.0370]\n",
      "Epocha val 15/200: 100%|██████████| 61/61 [00:06<00:00,  8.78it/s, acc=0.98958, gpu_memory=10.15 GB, lr=0.00004, valid_loss=0.2616]\n",
      "Epocha train 16/200:  33%|███▎      | 47/141 [00:13<00:25,  3.67it/s, acc=0.93340, gpu_memory=10.15 GB, lr=0.00004, valid_loss=0.0347]"
     ]
    }
   ],
   "source": [
    "model_loss, model_acc, overfit_model,best_acc = train.train(train_dirr=\"/workspace/proj/paradigma/db/imagewoof2\",                                           # Путь до папки с train or directori\n",
    "                                             val_dirr=\"/workspace/proj/paradigma/db/imagewoof2\",                                             # Путь до папки с описанием val\n",
    "                                             model_name =\"resnet50\",                             # Название модели timm or пользовательские из кода\n",
    "                                             Dataset_name =\"imagewoof\",                            # Название Dataset (при сохранении)\n",
    "                                             metod_aug_name=\"baseline\",#\"FsAA\",                # Название metoda (при сохранении)\n",
    "                                             task_name=\"clasification\",                          # Название задачи  (при сохранении)\n",
    "                                             train_annotation='/workspace/proj/paradigma/db/imagewoof2/noisy_imagewoof.csv',                                # Путь до файла с описанием train\n",
    "                                             val_annotation='/workspace/proj/paradigma/db/imagewoof2/noisy_imagewoof.csv',                                  # Путь до файла с описанием val\n",
    "                                             N_class = 10,                                          # Количество классов в задаче\n",
    "                                             num_epochs=200,                                        # Количество эпох обучения\n",
    "                                             batch_size = 64,                                       \n",
    "                                             snp_path = '/workspace/proj/paradigma/snp/',     # Путь к папке, в которую сохранять готовые модели\n",
    "                                             pretrained = True,                                   # True - загрузить предобученную модель\n",
    "                                             SIZE = 224,                                           # Размер входа (SIZE*SIZE)\n",
    "                                             lr=0.00004,                                        # Коэффициент скорости обучения (Learning rate)\n",
    "                                             step_size=1000,                                        # за сколько эпох уменьшить lr\n",
    "                                             gamma=0.1,                                            # Во сколько раз уменьшить lr\n",
    "                                             momentum=0.95)#,                                        # коэфицент сохранения момента\n",
    "#                                              rootAA=\"/workspace/proj/autoalbument/examples/imagenette/resnet50/outputs/2022-08-03/15-10-06/policy/latest.json\")\n"
   ]
  },
  {
   "cell_type": "code",
   "execution_count": null,
   "metadata": {
    "scrolled": true
   },
   "outputs": [
    {
     "name": "stdout",
     "output_type": "stream",
     "text": [
      "/workspace/proj/paradigma/snp/imagewoof/resnet50/baseline/07_09_2022/08_52_51/\n"
     ]
    },
    {
     "name": "stderr",
     "output_type": "stream",
     "text": [
      "Epocha train 1/200: 100%|██████████| 90/90 [00:39<00:00,  2.29it/s, acc=0.00000, gpu_memory=10.01 GB, lr=0.00040, valid_loss=0.6413]\n",
      "Epocha val 1/200: 100%|██████████| 39/39 [00:09<00:00,  4.07it/s, acc=0.80722, gpu_memory=10.01 GB, lr=0.00040, valid_loss=0.4867]\n"
     ]
    },
    {
     "name": "stdout",
     "output_type": "stream",
     "text": [
      "Best val Loss classification: 0.486687,Best val Acc classification:0.000000\n"
     ]
    },
    {
     "name": "stderr",
     "output_type": "stream",
     "text": [
      "Epocha train 2/200: 100%|██████████| 90/90 [00:39<00:00,  2.29it/s, acc=0.84615, gpu_memory=10.03 GB, lr=0.00040, valid_loss=0.4026]\n",
      "Epocha val 2/200: 100%|██████████| 39/39 [00:08<00:00,  4.51it/s, acc=0.86956, gpu_memory=10.03 GB, lr=0.00040, valid_loss=0.4045]\n"
     ]
    },
    {
     "name": "stdout",
     "output_type": "stream",
     "text": [
      "Best val Loss classification: 0.404464,Best val Acc classification:0.846154\n"
     ]
    },
    {
     "name": "stderr",
     "output_type": "stream",
     "text": [
      "Epocha train 3/200: 100%|██████████| 90/90 [00:39<00:00,  2.30it/s, acc=0.87872, gpu_memory=10.04 GB, lr=0.00040, valid_loss=0.3554]\n",
      "Epocha val 3/200: 100%|██████████| 39/39 [00:07<00:00,  5.22it/s, acc=0.88322, gpu_memory=10.04 GB, lr=0.00040, valid_loss=0.4024]\n",
      "Epocha train 4/200: 100%|██████████| 90/90 [00:38<00:00,  2.34it/s, acc=0.87564, gpu_memory=10.04 GB, lr=0.00040, valid_loss=0.3131]\n",
      "Epocha val 4/200: 100%|██████████| 39/39 [00:07<00:00,  5.29it/s, acc=0.89789, gpu_memory=10.04 GB, lr=0.00040, valid_loss=0.4019]\n",
      "Epocha train 5/200: 100%|██████████| 90/90 [00:38<00:00,  2.32it/s, acc=0.87051, gpu_memory=10.04 GB, lr=0.00040, valid_loss=0.2914]\n",
      "Epocha val 5/200: 100%|██████████| 39/39 [00:07<00:00,  5.05it/s, acc=0.90411, gpu_memory=10.04 GB, lr=0.00040, valid_loss=0.3974]\n",
      "Epocha train 6/200: 100%|██████████| 90/90 [00:38<00:00,  2.34it/s, acc=0.87462, gpu_memory=10.04 GB, lr=0.00040, valid_loss=0.2559]\n",
      "Epocha val 6/200: 100%|██████████| 39/39 [00:07<00:00,  5.18it/s, acc=0.91833, gpu_memory=10.04 GB, lr=0.00040, valid_loss=0.3945]\n",
      "Epocha train 7/200: 100%|██████████| 90/90 [00:38<00:00,  2.33it/s, acc=0.87846, gpu_memory=10.04 GB, lr=0.00040, valid_loss=0.2394]\n",
      "Epocha val 7/200: 100%|██████████| 39/39 [00:07<00:00,  5.30it/s, acc=0.91867, gpu_memory=10.04 GB, lr=0.00040, valid_loss=0.3968]\n",
      "Epocha train 8/200: 100%|██████████| 90/90 [00:38<00:00,  2.31it/s, acc=0.87667, gpu_memory=10.04 GB, lr=0.00040, valid_loss=0.2205]\n",
      "Epocha val 8/200: 100%|██████████| 39/39 [00:07<00:00,  5.06it/s, acc=0.92889, gpu_memory=10.04 GB, lr=0.00040, valid_loss=0.4164]\n",
      "Epocha train 9/200: 100%|██████████| 90/90 [00:38<00:00,  2.32it/s, acc=0.87410, gpu_memory=10.04 GB, lr=0.00040, valid_loss=0.2215]\n",
      "Epocha val 9/200: 100%|██████████| 39/39 [00:07<00:00,  5.26it/s, acc=0.92589, gpu_memory=10.04 GB, lr=0.00040, valid_loss=0.4272]\n",
      "Epocha train 10/200: 100%|██████████| 90/90 [00:38<00:00,  2.32it/s, acc=0.87513, gpu_memory=10.04 GB, lr=0.00040, valid_loss=0.1995]\n",
      "Epocha val 10/200: 100%|██████████| 39/39 [00:07<00:00,  5.15it/s, acc=0.93367, gpu_memory=10.04 GB, lr=0.00040, valid_loss=0.4081]\n",
      "Epocha train 11/200: 100%|██████████| 90/90 [00:38<00:00,  2.33it/s, acc=0.87359, gpu_memory=10.04 GB, lr=0.00040, valid_loss=0.1879]\n",
      "Epocha val 11/200: 100%|██████████| 39/39 [00:07<00:00,  5.19it/s, acc=0.94078, gpu_memory=10.04 GB, lr=0.00040, valid_loss=0.4268]\n",
      "Epocha train 12/200: 100%|██████████| 90/90 [00:39<00:00,  2.31it/s, acc=0.87154, gpu_memory=10.04 GB, lr=0.00040, valid_loss=0.1616]\n",
      "Epocha val 12/200: 100%|██████████| 39/39 [00:07<00:00,  5.12it/s, acc=0.94756, gpu_memory=10.04 GB, lr=0.00040, valid_loss=0.3876]\n"
     ]
    },
    {
     "name": "stdout",
     "output_type": "stream",
     "text": [
      "Best val Loss classification: 0.387617,Best val Acc classification:0.878718\n"
     ]
    },
    {
     "name": "stderr",
     "output_type": "stream",
     "text": [
      "Epocha train 13/200: 100%|██████████| 90/90 [00:39<00:00,  2.28it/s, acc=0.89179, gpu_memory=10.04 GB, lr=0.00040, valid_loss=0.1762]\n",
      "Epocha val 13/200: 100%|██████████| 39/39 [00:07<00:00,  5.20it/s, acc=0.94089, gpu_memory=10.04 GB, lr=0.00040, valid_loss=0.4378]\n",
      "Epocha train 14/200: 100%|██████████| 90/90 [00:39<00:00,  2.30it/s, acc=0.87513, gpu_memory=10.04 GB, lr=0.00040, valid_loss=0.1691]\n",
      "Epocha val 14/200: 100%|██████████| 39/39 [00:07<00:00,  5.26it/s, acc=0.94467, gpu_memory=10.04 GB, lr=0.00040, valid_loss=0.4245]\n",
      "Epocha train 15/200: 100%|██████████| 90/90 [00:39<00:00,  2.29it/s, acc=0.87564, gpu_memory=10.04 GB, lr=0.00040, valid_loss=0.1474]\n",
      "Epocha val 15/200: 100%|██████████| 39/39 [00:07<00:00,  4.99it/s, acc=0.95000, gpu_memory=10.04 GB, lr=0.00040, valid_loss=0.4188]\n",
      "Epocha train 16/200: 100%|██████████| 90/90 [00:40<00:00,  2.23it/s, acc=0.87872, gpu_memory=10.04 GB, lr=0.00040, valid_loss=0.1396]\n",
      "Epocha val 16/200: 100%|██████████| 39/39 [00:07<00:00,  5.26it/s, acc=0.95489, gpu_memory=10.04 GB, lr=0.00040, valid_loss=0.4331]\n",
      "Epocha train 17/200: 100%|██████████| 90/90 [00:39<00:00,  2.29it/s, acc=0.88026, gpu_memory=10.04 GB, lr=0.00040, valid_loss=0.1427]\n",
      "Epocha val 17/200: 100%|██████████| 39/39 [00:07<00:00,  5.21it/s, acc=0.95300, gpu_memory=10.04 GB, lr=0.00040, valid_loss=0.4243]\n",
      "Epocha train 18/200: 100%|██████████| 90/90 [00:39<00:00,  2.31it/s, acc=0.88410, gpu_memory=10.04 GB, lr=0.00040, valid_loss=0.1395]\n",
      "Epocha val 18/200: 100%|██████████| 39/39 [00:08<00:00,  4.66it/s, acc=0.95411, gpu_memory=10.04 GB, lr=0.00040, valid_loss=0.4475]\n",
      "Epocha train 19/200: 100%|██████████| 90/90 [00:39<00:00,  2.27it/s, acc=0.87923, gpu_memory=10.04 GB, lr=0.00040, valid_loss=0.1317]\n",
      "Epocha val 19/200: 100%|██████████| 39/39 [00:07<00:00,  4.94it/s, acc=0.95600, gpu_memory=10.04 GB, lr=0.00040, valid_loss=0.4710]\n",
      "Epocha train 20/200: 100%|██████████| 90/90 [00:39<00:00,  2.30it/s, acc=0.87821, gpu_memory=10.04 GB, lr=0.00040, valid_loss=0.1234]\n",
      "Epocha val 20/200: 100%|██████████| 39/39 [00:07<00:00,  5.08it/s, acc=0.95889, gpu_memory=10.04 GB, lr=0.00040, valid_loss=0.4137]\n",
      "Epocha train 21/200: 100%|██████████| 90/90 [00:39<00:00,  2.28it/s, acc=0.87974, gpu_memory=10.04 GB, lr=0.00040, valid_loss=0.1237]\n",
      "Epocha val 21/200: 100%|██████████| 39/39 [00:07<00:00,  5.17it/s, acc=0.95967, gpu_memory=10.04 GB, lr=0.00040, valid_loss=0.4231]\n",
      "Epocha train 22/200: 100%|██████████| 90/90 [00:39<00:00,  2.29it/s, acc=0.88487, gpu_memory=10.04 GB, lr=0.00040, valid_loss=0.1091]\n",
      "Epocha val 22/200: 100%|██████████| 39/39 [00:07<00:00,  5.02it/s, acc=0.96600, gpu_memory=10.04 GB, lr=0.00040, valid_loss=0.4301]\n",
      "Epocha train 23/200: 100%|██████████| 90/90 [00:39<00:00,  2.29it/s, acc=0.88308, gpu_memory=10.04 GB, lr=0.00040, valid_loss=0.1072]\n",
      "Epocha val 23/200: 100%|██████████| 39/39 [00:07<00:00,  4.99it/s, acc=0.96556, gpu_memory=10.04 GB, lr=0.00040, valid_loss=0.4653]\n",
      "Epocha train 24/200: 100%|██████████| 90/90 [00:39<00:00,  2.27it/s, acc=0.88308, gpu_memory=10.04 GB, lr=0.00040, valid_loss=0.1171]\n",
      "Epocha val 24/200: 100%|██████████| 39/39 [00:07<00:00,  4.90it/s, acc=0.96200, gpu_memory=10.04 GB, lr=0.00040, valid_loss=0.4478]\n",
      "Epocha train 25/200: 100%|██████████| 90/90 [00:39<00:00,  2.28it/s, acc=0.88077, gpu_memory=10.04 GB, lr=0.00040, valid_loss=0.1061]\n",
      "Epocha val 25/200: 100%|██████████| 39/39 [00:07<00:00,  4.91it/s, acc=0.96644, gpu_memory=10.04 GB, lr=0.00040, valid_loss=0.4526]\n",
      "Epocha train 26/200: 100%|██████████| 90/90 [00:39<00:00,  2.27it/s, acc=0.87410, gpu_memory=10.04 GB, lr=0.00040, valid_loss=0.0979]\n",
      "Epocha val 26/200: 100%|██████████| 39/39 [00:07<00:00,  4.93it/s, acc=0.96767, gpu_memory=10.04 GB, lr=0.00040, valid_loss=0.4380]\n",
      "Epocha train 27/200: 100%|██████████| 90/90 [00:39<00:00,  2.27it/s, acc=0.88436, gpu_memory=10.04 GB, lr=0.00040, valid_loss=0.1059]\n",
      "Epocha val 27/200: 100%|██████████| 39/39 [00:07<00:00,  5.11it/s, acc=0.96356, gpu_memory=10.04 GB, lr=0.00040, valid_loss=0.4446]\n",
      "Epocha train 28/200: 100%|██████████| 90/90 [00:39<00:00,  2.27it/s, acc=0.87974, gpu_memory=10.04 GB, lr=0.00040, valid_loss=0.0912]\n",
      "Epocha val 28/200: 100%|██████████| 39/39 [00:07<00:00,  4.97it/s, acc=0.97000, gpu_memory=10.04 GB, lr=0.00040, valid_loss=0.4751]\n",
      "Epocha train 29/200: 100%|██████████| 90/90 [00:39<00:00,  2.29it/s, acc=0.87692, gpu_memory=10.04 GB, lr=0.00040, valid_loss=0.0908]\n",
      "Epocha val 29/200: 100%|██████████| 39/39 [00:07<00:00,  4.97it/s, acc=0.96967, gpu_memory=10.04 GB, lr=0.00040, valid_loss=0.4686]\n",
      "Epocha train 30/200: 100%|██████████| 90/90 [00:39<00:00,  2.27it/s, acc=0.87462, gpu_memory=10.04 GB, lr=0.00040, valid_loss=0.1019]\n",
      "Epocha val 30/200: 100%|██████████| 39/39 [00:07<00:00,  4.95it/s, acc=0.96489, gpu_memory=10.04 GB, lr=0.00040, valid_loss=0.4597]\n",
      "Epocha train 31/200: 100%|██████████| 90/90 [00:39<00:00,  2.29it/s, acc=0.88000, gpu_memory=10.04 GB, lr=0.00040, valid_loss=0.0942]\n",
      "Epocha val 31/200: 100%|██████████| 39/39 [00:07<00:00,  5.16it/s, acc=0.97111, gpu_memory=10.04 GB, lr=0.00040, valid_loss=0.4799]\n",
      "Epocha train 32/200: 100%|██████████| 90/90 [00:39<00:00,  2.28it/s, acc=0.87333, gpu_memory=10.04 GB, lr=0.00040, valid_loss=0.0927]\n",
      "Epocha val 32/200: 100%|██████████| 39/39 [00:07<00:00,  5.03it/s, acc=0.96978, gpu_memory=10.04 GB, lr=0.00040, valid_loss=0.5188]\n",
      "Epocha train 33/200: 100%|██████████| 90/90 [00:39<00:00,  2.27it/s, acc=0.86974, gpu_memory=10.04 GB, lr=0.00040, valid_loss=0.0926]\n",
      "Epocha val 33/200: 100%|██████████| 39/39 [00:08<00:00,  4.81it/s, acc=0.97100, gpu_memory=10.04 GB, lr=0.00040, valid_loss=0.4346]\n",
      "Epocha train 34/200: 100%|██████████| 90/90 [00:44<00:00,  2.04it/s, acc=0.88872, gpu_memory=10.04 GB, lr=0.00040, valid_loss=0.0783]\n",
      "Epocha val 34/200: 100%|██████████| 39/39 [00:07<00:00,  5.16it/s, acc=0.97333, gpu_memory=10.04 GB, lr=0.00040, valid_loss=0.4476]\n",
      "Epocha train 35/200: 100%|██████████| 90/90 [00:39<00:00,  2.31it/s, acc=0.88026, gpu_memory=10.04 GB, lr=0.00040, valid_loss=0.0818]\n",
      "Epocha val 35/200: 100%|██████████| 39/39 [00:07<00:00,  4.94it/s, acc=0.96956, gpu_memory=10.04 GB, lr=0.00040, valid_loss=0.4600]\n",
      "Epocha train 36/200: 100%|██████████| 90/90 [00:39<00:00,  2.28it/s, acc=0.88333, gpu_memory=10.04 GB, lr=0.00040, valid_loss=0.0873]\n",
      "Epocha val 36/200: 100%|██████████| 39/39 [00:07<00:00,  4.89it/s, acc=0.97111, gpu_memory=10.04 GB, lr=0.00040, valid_loss=0.4977]\n",
      "Epocha train 37/200: 100%|██████████| 90/90 [00:39<00:00,  2.30it/s, acc=0.88462, gpu_memory=10.04 GB, lr=0.00040, valid_loss=0.0832]\n",
      "Epocha val 37/200: 100%|██████████| 39/39 [00:07<00:00,  5.08it/s, acc=0.97144, gpu_memory=10.04 GB, lr=0.00040, valid_loss=0.4755]\n",
      "Epocha train 38/200: 100%|██████████| 90/90 [00:39<00:00,  2.29it/s, acc=0.87615, gpu_memory=10.04 GB, lr=0.00040, valid_loss=0.0727]\n",
      "Epocha val 38/200: 100%|██████████| 39/39 [00:08<00:00,  4.81it/s, acc=0.97700, gpu_memory=10.04 GB, lr=0.00040, valid_loss=0.5100]\n",
      "Epocha train 39/200: 100%|██████████| 90/90 [00:39<00:00,  2.28it/s, acc=0.87205, gpu_memory=10.04 GB, lr=0.00040, valid_loss=0.0723]\n",
      "Epocha val 39/200: 100%|██████████| 39/39 [00:07<00:00,  4.89it/s, acc=0.97522, gpu_memory=10.04 GB, lr=0.00040, valid_loss=0.4873]\n",
      "Epocha train 40/200: 100%|██████████| 90/90 [00:39<00:00,  2.26it/s, acc=0.87923, gpu_memory=10.04 GB, lr=0.00040, valid_loss=0.0850]\n",
      "Epocha val 40/200: 100%|██████████| 39/39 [00:07<00:00,  5.12it/s, acc=0.97111, gpu_memory=10.04 GB, lr=0.00040, valid_loss=0.4909]\n",
      "Epocha train 41/200: 100%|██████████| 90/90 [00:39<00:00,  2.30it/s, acc=0.87641, gpu_memory=10.04 GB, lr=0.00040, valid_loss=0.0839]\n",
      "Epocha val 41/200: 100%|██████████| 39/39 [00:07<00:00,  5.15it/s, acc=0.97200, gpu_memory=10.04 GB, lr=0.00040, valid_loss=0.4970]\n",
      "Epocha train 42/200: 100%|██████████| 90/90 [00:38<00:00,  2.32it/s, acc=0.87923, gpu_memory=10.04 GB, lr=0.00040, valid_loss=0.0593]\n",
      "Epocha val 42/200: 100%|██████████| 39/39 [00:07<00:00,  5.11it/s, acc=0.97978, gpu_memory=10.04 GB, lr=0.00040, valid_loss=0.5544]\n",
      "Epocha train 43/200: 100%|██████████| 90/90 [00:39<00:00,  2.30it/s, acc=0.87436, gpu_memory=10.04 GB, lr=0.00040, valid_loss=0.0753]\n",
      "Epocha val 43/200: 100%|██████████| 39/39 [00:07<00:00,  5.04it/s, acc=0.97500, gpu_memory=10.04 GB, lr=0.00040, valid_loss=0.4915]\n",
      "Epocha train 44/200: 100%|██████████| 90/90 [00:38<00:00,  2.31it/s, acc=0.87949, gpu_memory=10.04 GB, lr=0.00040, valid_loss=0.0632]\n",
      "Epocha val 44/200: 100%|██████████| 39/39 [00:08<00:00,  4.78it/s, acc=0.98122, gpu_memory=10.04 GB, lr=0.00040, valid_loss=0.4889]\n",
      "Epocha train 45/200: 100%|██████████| 90/90 [00:39<00:00,  2.30it/s, acc=0.88487, gpu_memory=10.04 GB, lr=0.00040, valid_loss=0.0694]\n",
      "Epocha val 45/200: 100%|██████████| 39/39 [00:07<00:00,  5.19it/s, acc=0.97667, gpu_memory=10.04 GB, lr=0.00040, valid_loss=0.4920]\n",
      "Epocha train 46/200: 100%|██████████| 90/90 [00:39<00:00,  2.29it/s, acc=0.87718, gpu_memory=10.04 GB, lr=0.00040, valid_loss=0.0649]\n",
      "Epocha val 46/200: 100%|██████████| 39/39 [00:07<00:00,  5.03it/s, acc=0.97889, gpu_memory=10.04 GB, lr=0.00040, valid_loss=0.4973]\n",
      "Epocha train 47/200: 100%|██████████| 90/90 [00:39<00:00,  2.28it/s, acc=0.87897, gpu_memory=10.04 GB, lr=0.00040, valid_loss=0.0587]\n",
      "Epocha val 47/200: 100%|██████████| 39/39 [00:07<00:00,  5.15it/s, acc=0.97989, gpu_memory=10.04 GB, lr=0.00040, valid_loss=0.5090]\n",
      "Epocha train 48/200: 100%|██████████| 90/90 [00:39<00:00,  2.28it/s, acc=0.88590, gpu_memory=10.04 GB, lr=0.00040, valid_loss=0.0586]\n",
      "Epocha val 48/200: 100%|██████████| 39/39 [00:08<00:00,  4.75it/s, acc=0.98133, gpu_memory=10.04 GB, lr=0.00040, valid_loss=0.5097]\n",
      "Epocha train 49/200: 100%|██████████| 90/90 [00:39<00:00,  2.29it/s, acc=0.87744, gpu_memory=10.04 GB, lr=0.00040, valid_loss=0.0601]\n",
      "Epocha val 49/200: 100%|██████████| 39/39 [00:07<00:00,  5.12it/s, acc=0.98178, gpu_memory=10.04 GB, lr=0.00040, valid_loss=0.5500]\n",
      "Epocha train 50/200: 100%|██████████| 90/90 [00:39<00:00,  2.30it/s, acc=0.87333, gpu_memory=10.04 GB, lr=0.00040, valid_loss=0.0648]\n",
      "Epocha val 50/200: 100%|██████████| 39/39 [00:07<00:00,  5.10it/s, acc=0.97911, gpu_memory=10.04 GB, lr=0.00040, valid_loss=0.5298]\n",
      "Epocha train 51/200: 100%|██████████| 90/90 [00:39<00:00,  2.29it/s, acc=0.87077, gpu_memory=10.04 GB, lr=0.00040, valid_loss=0.0599]\n",
      "Epocha val 51/200: 100%|██████████| 39/39 [00:07<00:00,  4.94it/s, acc=0.98200, gpu_memory=10.04 GB, lr=0.00040, valid_loss=0.4956]\n",
      "Epocha train 52/200: 100%|██████████| 90/90 [00:39<00:00,  2.28it/s, acc=0.87949, gpu_memory=10.04 GB, lr=0.00040, valid_loss=0.0632]\n",
      "Epocha val 52/200: 100%|██████████| 39/39 [00:07<00:00,  5.04it/s, acc=0.98011, gpu_memory=10.04 GB, lr=0.00040, valid_loss=0.5174]\n",
      "Epocha train 53/200: 100%|██████████| 90/90 [00:39<00:00,  2.30it/s, acc=0.87897, gpu_memory=10.04 GB, lr=0.00040, valid_loss=0.0599]\n",
      "Epocha val 53/200: 100%|██████████| 39/39 [00:07<00:00,  4.94it/s, acc=0.97967, gpu_memory=10.04 GB, lr=0.00040, valid_loss=0.5493]\n",
      "Epocha train 54/200: 100%|██████████| 90/90 [00:39<00:00,  2.29it/s, acc=0.87513, gpu_memory=10.04 GB, lr=0.00040, valid_loss=0.0622]\n",
      "Epocha val 54/200: 100%|██████████| 39/39 [00:07<00:00,  5.12it/s, acc=0.97911, gpu_memory=10.04 GB, lr=0.00040, valid_loss=0.5109]\n",
      "Epocha train 55/200: 100%|██████████| 90/90 [00:39<00:00,  2.26it/s, acc=0.87769, gpu_memory=10.04 GB, lr=0.00040, valid_loss=0.0532]\n",
      "Epocha val 55/200: 100%|██████████| 39/39 [00:08<00:00,  4.83it/s, acc=0.98044, gpu_memory=10.04 GB, lr=0.00040, valid_loss=0.4951]\n",
      "Epocha train 56/200:  88%|████████▊ | 79/90 [00:34<00:04,  2.43it/s, acc=0.87821, gpu_memory=10.04 GB, lr=0.00040, valid_loss=0.0448]"
     ]
    }
   ],
   "source": [
    "model_loss, model_acc, overfit_model,best_acc = train.train(train_dirr=\"/workspace/proj/paradigma/db/imagewoof2\",                                           # Путь до папки с train or directori\n",
    "                                             val_dirr=\"/workspace/proj/paradigma/db/imagewoof2\",                                             # Путь до папки с описанием val\n",
    "                                             model_name =\"resnet50\",                             # Название модели timm or пользовательские из кода\n",
    "                                             Dataset_name =\"imagewoof\",                            # Название Dataset (при сохранении)\n",
    "                                             metod_aug_name=\"baseline\",#\"FsAA\",                # Название metoda (при сохранении)\n",
    "                                             task_name=\"clasification\",                          # Название задачи  (при сохранении)\n",
    "                                             train_annotation='/workspace/proj/paradigma/db/imagewoof2/noisy_imagewoof.csv',                                # Путь до файла с описанием train\n",
    "                                             val_annotation='/workspace/proj/paradigma/db/imagewoof2/noisy_imagewoof.csv',                                  # Путь до файла с описанием val\n",
    "                                             N_class = 10,                                          # Количество классов в задаче\n",
    "                                             num_epochs=200,                                        # Количество эпох обучения\n",
    "                                             batch_size = 64,                                       \n",
    "                                             snp_path = '/workspace/proj/paradigma/snp/',     # Путь к папке, в которую сохранять готовые модели\n",
    "                                             pretrained = True,                                   # True - загрузить предобученную модель\n",
    "                                             SIZE = 224,                                           # Размер входа (SIZE*SIZE)\n",
    "                                             lr=0.0004,                                        # Коэффициент скорости обучения (Learning rate)\n",
    "                                             step_size=1000,                                        # за сколько эпох уменьшить lr\n",
    "                                             gamma=0.1,                                            # Во сколько раз уменьшить lr\n",
    "                                             momentum=0.95)#,                                        # коэфицент сохранения момента\n",
    "#                                              rootAA=\"/workspace/proj/autoalbument/examples/imagenette/resnet50/outputs/2022-08-03/15-10-06/policy/latest.json\")\n"
   ]
  }
 ],
 "metadata": {
  "kernelspec": {
   "display_name": "Python 3",
   "language": "python",
   "name": "python3"
  },
  "language_info": {
   "codemirror_mode": {
    "name": "ipython",
    "version": 3
   },
   "file_extension": ".py",
   "mimetype": "text/x-python",
   "name": "python",
   "nbconvert_exporter": "python",
   "pygments_lexer": "ipython3",
   "version": "3.6.9"
  }
 },
 "nbformat": 4,
 "nbformat_minor": 4
}
