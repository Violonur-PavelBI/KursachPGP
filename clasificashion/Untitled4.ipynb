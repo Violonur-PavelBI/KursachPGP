{
 "cells": [
  {
   "cell_type": "code",
   "execution_count": 1,
   "id": "cf5e2cb1",
   "metadata": {},
   "outputs": [],
   "source": [
    "import os\n",
    "# from train import train\n",
    "# import Dataset\n",
    "os.environ[\"CUDA_VISIBLE_DEVICES\"] = \"8\"\n",
    "import train"
   ]
  },
  {
   "cell_type": "code",
   "execution_count": 4,
   "id": "91493c93",
   "metadata": {
    "scrolled": true
   },
   "outputs": [
    {
     "name": "stdout",
     "output_type": "stream",
     "text": [
      "/workspace/proj/paradigma/snp/imagewoof/resnet18/baseline/07_09_2022/13_08_40/\n"
     ]
    },
    {
     "name": "stderr",
     "output_type": "stream",
     "text": [
      "Epocha train 1/100: 100%|██████████| 141/141 [00:15<00:00,  9.00it/s, acc=0.00000, gpu_memory=2.45 GB, lr=0.00010, valid_loss=2.2033]\n",
      "Epocha val 1/100: 100%|██████████| 61/61 [00:06<00:00,  9.77it/s, acc=0.19149, gpu_memory=2.45 GB, lr=0.00010, valid_loss=2.1389]\n"
     ]
    },
    {
     "name": "stdout",
     "output_type": "stream",
     "text": [
      "Best val Loss classification: 2.138944,Best val Acc classification:0.000000\n"
     ]
    },
    {
     "name": "stderr",
     "output_type": "stream",
     "text": [
      "Epocha train 2/100: 100%|██████████| 141/141 [00:16<00:00,  8.65it/s, acc=0.21901, gpu_memory=2.45 GB, lr=0.00010, valid_loss=2.1196]\n",
      "Epocha val 2/100: 100%|██████████| 61/61 [00:06<00:00, 10.02it/s, acc=0.23160, gpu_memory=2.45 GB, lr=0.00010, valid_loss=2.0817]\n"
     ]
    },
    {
     "name": "stdout",
     "output_type": "stream",
     "text": [
      "Best val Loss classification: 2.081727,Best val Acc classification:0.219006\n"
     ]
    },
    {
     "name": "stderr",
     "output_type": "stream",
     "text": [
      "Epocha train 3/100: 100%|██████████| 141/141 [00:15<00:00,  9.31it/s, acc=0.25051, gpu_memory=2.45 GB, lr=0.00010, valid_loss=2.0646]\n",
      "Epocha val 3/100: 100%|██████████| 61/61 [00:06<00:00,  9.99it/s, acc=0.25510, gpu_memory=2.45 GB, lr=0.00010, valid_loss=2.0104]\n"
     ]
    },
    {
     "name": "stdout",
     "output_type": "stream",
     "text": [
      "Best val Loss classification: 2.010417,Best val Acc classification:0.250512\n"
     ]
    },
    {
     "name": "stderr",
     "output_type": "stream",
     "text": [
      "Epocha train 4/100: 100%|██████████| 141/141 [00:15<00:00,  9.31it/s, acc=0.28817, gpu_memory=2.45 GB, lr=0.00010, valid_loss=1.9952]\n",
      "Epocha val 4/100: 100%|██████████| 61/61 [00:05<00:00, 10.61it/s, acc=0.28568, gpu_memory=2.45 GB, lr=0.00010, valid_loss=1.9425]\n"
     ]
    },
    {
     "name": "stdout",
     "output_type": "stream",
     "text": [
      "Best val Loss classification: 1.942493,Best val Acc classification:0.288166\n"
     ]
    },
    {
     "name": "stderr",
     "output_type": "stream",
     "text": [
      "Epocha train 5/100: 100%|██████████| 141/141 [00:15<00:00,  9.11it/s, acc=0.31224, gpu_memory=2.45 GB, lr=0.00010, valid_loss=1.9311]\n",
      "Epocha val 5/100: 100%|██████████| 61/61 [00:06<00:00,  9.55it/s, acc=0.31959, gpu_memory=2.45 GB, lr=0.00010, valid_loss=1.8807]\n"
     ]
    },
    {
     "name": "stdout",
     "output_type": "stream",
     "text": [
      "Best val Loss classification: 1.880723,Best val Acc classification:0.312244\n"
     ]
    },
    {
     "name": "stderr",
     "output_type": "stream",
     "text": [
      "Epocha train 6/100: 100%|██████████| 141/141 [00:16<00:00,  8.56it/s, acc=0.33504, gpu_memory=2.45 GB, lr=0.00010, valid_loss=1.8686]\n",
      "Epocha val 6/100: 100%|██████████| 61/61 [00:06<00:00,  9.91it/s, acc=0.33511, gpu_memory=2.45 GB, lr=0.00010, valid_loss=1.8248]\n"
     ]
    },
    {
     "name": "stdout",
     "output_type": "stream",
     "text": [
      "Best val Loss classification: 1.824795,Best val Acc classification:0.335041\n"
     ]
    },
    {
     "name": "stderr",
     "output_type": "stream",
     "text": [
      "Epocha train 7/100: 100%|██████████| 141/141 [00:15<00:00,  8.82it/s, acc=0.35348, gpu_memory=2.45 GB, lr=0.00010, valid_loss=1.8167]\n",
      "Epocha val 7/100: 100%|██████████| 61/61 [00:05<00:00, 10.43it/s, acc=0.35716, gpu_memory=2.45 GB, lr=0.00010, valid_loss=1.7703]\n"
     ]
    },
    {
     "name": "stdout",
     "output_type": "stream",
     "text": [
      "Best val Loss classification: 1.770313,Best val Acc classification:0.353484\n"
     ]
    },
    {
     "name": "stderr",
     "output_type": "stream",
     "text": [
      "Epocha train 8/100: 100%|██████████| 141/141 [00:15<00:00,  9.22it/s, acc=0.37654, gpu_memory=2.45 GB, lr=0.00010, valid_loss=1.7641]\n",
      "Epocha val 8/100: 100%|██████████| 61/61 [00:06<00:00,  9.70it/s, acc=0.37145, gpu_memory=2.45 GB, lr=0.00010, valid_loss=1.7059]\n"
     ]
    },
    {
     "name": "stdout",
     "output_type": "stream",
     "text": [
      "Best val Loss classification: 1.705854,Best val Acc classification:0.376537\n"
     ]
    },
    {
     "name": "stderr",
     "output_type": "stream",
     "text": [
      "Epocha train 9/100: 100%|██████████| 141/141 [00:15<00:00,  9.28it/s, acc=0.39780, gpu_memory=2.45 GB, lr=0.00010, valid_loss=1.7119]\n",
      "Epocha val 9/100: 100%|██████████| 61/61 [00:06<00:00,  9.45it/s, acc=0.39838, gpu_memory=2.45 GB, lr=0.00010, valid_loss=1.6629]\n"
     ]
    },
    {
     "name": "stdout",
     "output_type": "stream",
     "text": [
      "Best val Loss classification: 1.662911,Best val Acc classification:0.397797\n"
     ]
    },
    {
     "name": "stderr",
     "output_type": "stream",
     "text": [
      "Epocha train 10/100: 100%|██████████| 141/141 [00:16<00:00,  8.43it/s, acc=0.41317, gpu_memory=2.45 GB, lr=0.00010, valid_loss=1.6715]\n",
      "Epocha val 10/100: 100%|██████████| 61/61 [00:06<00:00,  9.92it/s, acc=0.41478, gpu_memory=2.45 GB, lr=0.00010, valid_loss=1.6122]\n"
     ]
    },
    {
     "name": "stdout",
     "output_type": "stream",
     "text": [
      "Best val Loss classification: 1.612233,Best val Acc classification:0.413166\n"
     ]
    },
    {
     "name": "stderr",
     "output_type": "stream",
     "text": [
      "Epocha train 11/100: 100%|██████████| 141/141 [00:15<00:00,  9.34it/s, acc=0.43852, gpu_memory=2.45 GB, lr=0.00010, valid_loss=1.6283]\n",
      "Epocha val 11/100: 100%|██████████| 61/61 [00:06<00:00, 10.06it/s, acc=0.42775, gpu_memory=2.45 GB, lr=0.00010, valid_loss=1.5988]\n",
      "Epocha train 12/100: 100%|██████████| 141/141 [00:15<00:00,  9.38it/s, acc=0.42751, gpu_memory=2.45 GB, lr=0.00010, valid_loss=1.5923]\n",
      "Epocha val 12/100: 100%|██████████| 61/61 [00:06<00:00,  9.56it/s, acc=0.43340, gpu_memory=2.45 GB, lr=0.00010, valid_loss=1.5333]\n"
     ]
    },
    {
     "name": "stdout",
     "output_type": "stream",
     "text": [
      "Best val Loss classification: 1.533256,Best val Acc classification:0.438525\n"
     ]
    },
    {
     "name": "stderr",
     "output_type": "stream",
     "text": [
      "Epocha train 13/100: 100%|██████████| 141/141 [00:14<00:00,  9.47it/s, acc=0.46388, gpu_memory=2.45 GB, lr=0.00010, valid_loss=1.5624]\n",
      "Epocha val 13/100: 100%|██████████| 61/61 [00:06<00:00, 10.13it/s, acc=0.44537, gpu_memory=2.45 GB, lr=0.00010, valid_loss=1.5037]\n"
     ]
    },
    {
     "name": "stdout",
     "output_type": "stream",
     "text": [
      "Best val Loss classification: 1.503718,Best val Acc classification:0.463883\n"
     ]
    },
    {
     "name": "stderr",
     "output_type": "stream",
     "text": [
      "Epocha train 14/100: 100%|██████████| 141/141 [00:15<00:00,  9.17it/s, acc=0.47336, gpu_memory=2.45 GB, lr=0.00010, valid_loss=1.5222]\n",
      "Epocha val 14/100: 100%|██████████| 61/61 [00:05<00:00, 10.44it/s, acc=0.46166, gpu_memory=2.45 GB, lr=0.00010, valid_loss=1.4733]\n"
     ]
    },
    {
     "name": "stdout",
     "output_type": "stream",
     "text": [
      "Best val Loss classification: 1.473318,Best val Acc classification:0.473361\n"
     ]
    },
    {
     "name": "stderr",
     "output_type": "stream",
     "text": [
      "Epocha train 15/100: 100%|██████████| 141/141 [00:14<00:00,  9.44it/s, acc=0.48489, gpu_memory=2.45 GB, lr=0.00010, valid_loss=1.4901]\n",
      "Epocha val 15/100: 100%|██████████| 61/61 [00:06<00:00, 10.01it/s, acc=0.48061, gpu_memory=2.45 GB, lr=0.00009, valid_loss=1.4703]\n"
     ]
    },
    {
     "name": "stdout",
     "output_type": "stream",
     "text": [
      "Best val Loss classification: 1.470324,Best val Acc classification:0.484887\n"
     ]
    },
    {
     "name": "stderr",
     "output_type": "stream",
     "text": [
      "Epocha train 16/100: 100%|██████████| 141/141 [00:15<00:00,  8.90it/s, acc=0.48617, gpu_memory=2.45 GB, lr=0.00009, valid_loss=1.4751]\n",
      "Epocha val 16/100: 100%|██████████| 61/61 [00:06<00:00, 10.00it/s, acc=0.47795, gpu_memory=2.45 GB, lr=0.00009, valid_loss=1.4370]\n"
     ]
    },
    {
     "name": "stdout",
     "output_type": "stream",
     "text": [
      "Best val Loss classification: 1.436957,Best val Acc classification:0.486168\n"
     ]
    },
    {
     "name": "stderr",
     "output_type": "stream",
     "text": [
      "Epocha train 17/100: 100%|██████████| 141/141 [00:15<00:00,  9.22it/s, acc=0.48847, gpu_memory=2.45 GB, lr=0.00009, valid_loss=1.4401]\n",
      "Epocha val 17/100: 100%|██████████| 61/61 [00:05<00:00, 10.19it/s, acc=0.49291, gpu_memory=2.45 GB, lr=0.00009, valid_loss=1.4165]\n"
     ]
    },
    {
     "name": "stdout",
     "output_type": "stream",
     "text": [
      "Best val Loss classification: 1.416544,Best val Acc classification:0.488473\n"
     ]
    },
    {
     "name": "stderr",
     "output_type": "stream",
     "text": [
      "Epocha train 18/100: 100%|██████████| 141/141 [00:15<00:00,  8.91it/s, acc=0.49923, gpu_memory=2.45 GB, lr=0.00009, valid_loss=1.4205]\n",
      "Epocha val 18/100: 100%|██████████| 61/61 [00:06<00:00,  9.63it/s, acc=0.49978, gpu_memory=2.45 GB, lr=0.00009, valid_loss=1.4049]\n"
     ]
    },
    {
     "name": "stdout",
     "output_type": "stream",
     "text": [
      "Best val Loss classification: 1.404903,Best val Acc classification:0.499232\n"
     ]
    },
    {
     "name": "stderr",
     "output_type": "stream",
     "text": [
      "Epocha train 19/100: 100%|██████████| 141/141 [00:16<00:00,  8.73it/s, acc=0.50231, gpu_memory=2.45 GB, lr=0.00009, valid_loss=1.3845]\n",
      "Epocha val 19/100: 100%|██████████| 61/61 [00:06<00:00,  9.95it/s, acc=0.51186, gpu_memory=2.45 GB, lr=0.00009, valid_loss=1.3678]\n"
     ]
    },
    {
     "name": "stdout",
     "output_type": "stream",
     "text": [
      "Best val Loss classification: 1.367831,Best val Acc classification:0.502305\n"
     ]
    },
    {
     "name": "stderr",
     "output_type": "stream",
     "text": [
      "Epocha train 20/100: 100%|██████████| 141/141 [00:15<00:00,  8.92it/s, acc=0.52561, gpu_memory=2.45 GB, lr=0.00009, valid_loss=1.3610]\n",
      "Epocha val 20/100: 100%|██████████| 61/61 [00:06<00:00,  9.85it/s, acc=0.52338, gpu_memory=2.45 GB, lr=0.00009, valid_loss=1.3520]\n"
     ]
    },
    {
     "name": "stdout",
     "output_type": "stream",
     "text": [
      "Best val Loss classification: 1.351966,Best val Acc classification:0.525615\n"
     ]
    },
    {
     "name": "stderr",
     "output_type": "stream",
     "text": [
      "Epocha train 21/100: 100%|██████████| 141/141 [00:15<00:00,  9.18it/s, acc=0.53253, gpu_memory=2.45 GB, lr=0.00009, valid_loss=1.3393]\n",
      "Epocha val 21/100: 100%|██████████| 61/61 [00:06<00:00,  9.90it/s, acc=0.52848, gpu_memory=2.45 GB, lr=0.00009, valid_loss=1.3474]\n",
      "Epocha train 22/100: 100%|██████████| 141/141 [00:16<00:00,  8.72it/s, acc=0.52818, gpu_memory=2.45 GB, lr=0.00009, valid_loss=1.3201]\n",
      "Epocha val 22/100: 100%|██████████| 61/61 [00:06<00:00,  9.68it/s, acc=0.54078, gpu_memory=2.45 GB, lr=0.00009, valid_loss=1.3162]\n"
     ]
    },
    {
     "name": "stdout",
     "output_type": "stream",
     "text": [
      "Best val Loss classification: 1.316219,Best val Acc classification:0.532531\n"
     ]
    },
    {
     "name": "stderr",
     "output_type": "stream",
     "text": [
      "Epocha train 23/100: 100%|██████████| 141/141 [00:15<00:00,  9.29it/s, acc=0.54252, gpu_memory=2.45 GB, lr=0.00009, valid_loss=1.3018]\n",
      "Epocha val 23/100: 100%|██████████| 61/61 [00:05<00:00, 10.32it/s, acc=0.54643, gpu_memory=2.45 GB, lr=0.00009, valid_loss=1.3364]\n",
      "Epocha train 24/100: 100%|██████████| 141/141 [00:15<00:00,  9.01it/s, acc=0.52638, gpu_memory=2.45 GB, lr=0.00009, valid_loss=1.2751]\n",
      "Epocha val 24/100: 100%|██████████| 61/61 [00:06<00:00,  9.95it/s, acc=0.55386, gpu_memory=2.45 GB, lr=0.00009, valid_loss=1.2789]\n"
     ]
    },
    {
     "name": "stdout",
     "output_type": "stream",
     "text": [
      "Best val Loss classification: 1.278867,Best val Acc classification:0.542520\n"
     ]
    },
    {
     "name": "stderr",
     "output_type": "stream",
     "text": [
      "Epocha train 25/100: 100%|██████████| 141/141 [00:16<00:00,  8.81it/s, acc=0.54867, gpu_memory=2.45 GB, lr=0.00009, valid_loss=1.2751]\n",
      "Epocha val 25/100: 100%|██████████| 61/61 [00:05<00:00, 10.25it/s, acc=0.55663, gpu_memory=2.45 GB, lr=0.00009, valid_loss=1.2959]\n",
      "Epocha train 26/100: 100%|██████████| 141/141 [00:14<00:00,  9.44it/s, acc=0.54764, gpu_memory=2.45 GB, lr=0.00009, valid_loss=1.2468]\n",
      "Epocha val 26/100: 100%|██████████| 61/61 [00:05<00:00, 10.27it/s, acc=0.56472, gpu_memory=2.45 GB, lr=0.00008, valid_loss=1.2495]\n"
     ]
    },
    {
     "name": "stdout",
     "output_type": "stream",
     "text": [
      "Best val Loss classification: 1.249497,Best val Acc classification:0.548668\n"
     ]
    },
    {
     "name": "stderr",
     "output_type": "stream",
     "text": [
      "Epocha train 27/100: 100%|██████████| 141/141 [00:14<00:00,  9.70it/s, acc=0.56122, gpu_memory=2.45 GB, lr=0.00008, valid_loss=1.2294]\n",
      "Epocha val 27/100: 100%|██████████| 61/61 [00:06<00:00, 10.03it/s, acc=0.57402, gpu_memory=2.45 GB, lr=0.00008, valid_loss=1.2656]\n",
      "Epocha train 28/100: 100%|██████████| 141/141 [00:15<00:00,  9.02it/s, acc=0.55917, gpu_memory=2.45 GB, lr=0.00008, valid_loss=1.2089]\n",
      "Epocha val 28/100: 100%|██████████| 61/61 [00:06<00:00, 10.00it/s, acc=0.58045, gpu_memory=2.45 GB, lr=0.00008, valid_loss=1.2290]\n"
     ]
    },
    {
     "name": "stdout",
     "output_type": "stream",
     "text": [
      "Best val Loss classification: 1.228995,Best val Acc classification:0.561219\n"
     ]
    },
    {
     "name": "stderr",
     "output_type": "stream",
     "text": [
      "Epocha train 29/100: 100%|██████████| 141/141 [00:15<00:00,  8.89it/s, acc=0.56916, gpu_memory=2.45 GB, lr=0.00008, valid_loss=1.1794]\n",
      "Epocha val 29/100: 100%|██████████| 61/61 [00:06<00:00, 10.07it/s, acc=0.58067, gpu_memory=2.45 GB, lr=0.00008, valid_loss=1.1957]\n"
     ]
    },
    {
     "name": "stdout",
     "output_type": "stream",
     "text": [
      "Best val Loss classification: 1.195704,Best val Acc classification:0.569160\n"
     ]
    },
    {
     "name": "stderr",
     "output_type": "stream",
     "text": [
      "Epocha train 30/100: 100%|██████████| 141/141 [00:16<00:00,  8.76it/s, acc=0.58735, gpu_memory=2.45 GB, lr=0.00008, valid_loss=1.1732]\n",
      "Epocha val 30/100: 100%|██████████| 61/61 [00:06<00:00,  9.83it/s, acc=0.59608, gpu_memory=2.45 GB, lr=0.00008, valid_loss=1.2255]\n",
      "Epocha train 31/100: 100%|██████████| 141/141 [00:15<00:00,  9.20it/s, acc=0.57275, gpu_memory=2.45 GB, lr=0.00008, valid_loss=1.1492]\n",
      "Epocha val 31/100: 100%|██████████| 61/61 [00:06<00:00, 10.12it/s, acc=0.59741, gpu_memory=2.45 GB, lr=0.00008, valid_loss=1.2062]\n",
      "Epocha train 32/100: 100%|██████████| 141/141 [00:16<00:00,  8.57it/s, acc=0.56865, gpu_memory=2.45 GB, lr=0.00008, valid_loss=1.1488]\n",
      "Epocha val 32/100: 100%|██████████| 61/61 [00:06<00:00,  9.86it/s, acc=0.60140, gpu_memory=2.45 GB, lr=0.00008, valid_loss=1.1823]\n"
     ]
    },
    {
     "name": "stdout",
     "output_type": "stream",
     "text": [
      "Best val Loss classification: 1.182273,Best val Acc classification:0.587346\n"
     ]
    },
    {
     "name": "stderr",
     "output_type": "stream",
     "text": [
      "Epocha train 33/100: 100%|██████████| 141/141 [00:15<00:00,  9.20it/s, acc=0.59016, gpu_memory=2.45 GB, lr=0.00008, valid_loss=1.1346]\n",
      "Epocha val 33/100: 100%|██████████| 61/61 [00:05<00:00, 10.26it/s, acc=0.60838, gpu_memory=2.45 GB, lr=0.00008, valid_loss=1.1845]\n",
      "Epocha train 34/100: 100%|██████████| 141/141 [00:14<00:00,  9.43it/s, acc=0.58888, gpu_memory=2.45 GB, lr=0.00008, valid_loss=1.1038]\n",
      "Epocha val 34/100: 100%|██████████| 61/61 [00:06<00:00,  9.56it/s, acc=0.61514, gpu_memory=2.45 GB, lr=0.00007, valid_loss=1.1877]\n"
     ]
    },
    {
     "name": "stdout",
     "output_type": "stream",
     "text": [
      "Best val Loss classification: 1.182273,Best val Acc classification:0.590164\n"
     ]
    },
    {
     "name": "stderr",
     "output_type": "stream",
     "text": [
      "Epocha train 35/100: 100%|██████████| 141/141 [00:14<00:00,  9.71it/s, acc=0.59298, gpu_memory=2.45 GB, lr=0.00007, valid_loss=1.0804]\n",
      "Epocha val 35/100: 100%|██████████| 61/61 [00:05<00:00, 10.74it/s, acc=0.62832, gpu_memory=2.45 GB, lr=0.00007, valid_loss=1.1741]\n"
     ]
    },
    {
     "name": "stdout",
     "output_type": "stream",
     "text": [
      "Best val Loss classification: 1.174131,Best val Acc classification:0.592982\n"
     ]
    },
    {
     "name": "stderr",
     "output_type": "stream",
     "text": [
      "Epocha train 36/100: 100%|██████████| 141/141 [00:15<00:00,  9.05it/s, acc=0.59375, gpu_memory=2.45 GB, lr=0.00007, valid_loss=1.0705]\n",
      "Epocha val 36/100: 100%|██████████| 61/61 [00:06<00:00,  9.98it/s, acc=0.63165, gpu_memory=2.45 GB, lr=0.00007, valid_loss=1.1459]\n"
     ]
    },
    {
     "name": "stdout",
     "output_type": "stream",
     "text": [
      "Best val Loss classification: 1.145861,Best val Acc classification:0.593750\n"
     ]
    },
    {
     "name": "stderr",
     "output_type": "stream",
     "text": [
      "Epocha train 37/100: 100%|██████████| 141/141 [00:14<00:00,  9.70it/s, acc=0.61194, gpu_memory=2.45 GB, lr=0.00007, valid_loss=1.0445]\n",
      "Epocha val 37/100: 100%|██████████| 61/61 [00:05<00:00, 10.31it/s, acc=0.64351, gpu_memory=2.45 GB, lr=0.00007, valid_loss=1.1545]\n",
      "Epocha train 38/100: 100%|██████████| 141/141 [00:15<00:00,  9.15it/s, acc=0.60246, gpu_memory=2.45 GB, lr=0.00007, valid_loss=1.0366]\n",
      "Epocha val 38/100: 100%|██████████| 61/61 [00:06<00:00,  9.85it/s, acc=0.64118, gpu_memory=2.45 GB, lr=0.00007, valid_loss=1.1535]\n",
      "Epocha train 39/100: 100%|██████████| 141/141 [00:16<00:00,  8.77it/s, acc=0.60169, gpu_memory=2.45 GB, lr=0.00007, valid_loss=1.0347]\n",
      "Epocha val 39/100: 100%|██████████| 61/61 [00:06<00:00,  9.99it/s, acc=0.64506, gpu_memory=2.45 GB, lr=0.00007, valid_loss=1.1465]\n",
      "Epocha train 40/100: 100%|██████████| 141/141 [00:15<00:00,  9.12it/s, acc=0.60476, gpu_memory=2.45 GB, lr=0.00007, valid_loss=1.0109]\n",
      "Epocha val 40/100: 100%|██████████| 61/61 [00:06<00:00,  9.88it/s, acc=0.65492, gpu_memory=2.45 GB, lr=0.00007, valid_loss=1.1262]\n",
      "Epocha train 41/100: 100%|██████████| 141/141 [00:15<00:00,  9.22it/s, acc=0.60425, gpu_memory=2.45 GB, lr=0.00007, valid_loss=1.0161]\n",
      "Epocha val 41/100: 100%|██████████| 61/61 [00:06<00:00, 10.12it/s, acc=0.65547, gpu_memory=2.45 GB, lr=0.00006, valid_loss=1.1201]\n"
     ]
    },
    {
     "name": "stdout",
     "output_type": "stream",
     "text": [
      "Best val Loss classification: 1.120131,Best val Acc classification:0.611936\n"
     ]
    },
    {
     "name": "stderr",
     "output_type": "stream",
     "text": [
      "Epocha train 42/100: 100%|██████████| 141/141 [00:14<00:00,  9.41it/s, acc=0.61373, gpu_memory=2.45 GB, lr=0.00006, valid_loss=0.9689]\n",
      "Epocha val 42/100: 100%|██████████| 61/61 [00:06<00:00, 10.12it/s, acc=0.67176, gpu_memory=2.45 GB, lr=0.00006, valid_loss=1.1154]\n"
     ]
    },
    {
     "name": "stdout",
     "output_type": "stream",
     "text": [
      "Best val Loss classification: 1.115378,Best val Acc classification:0.613730\n"
     ]
    },
    {
     "name": "stderr",
     "output_type": "stream",
     "text": [
      "Epocha train 43/100: 100%|██████████| 141/141 [00:15<00:00,  8.99it/s, acc=0.62551, gpu_memory=2.45 GB, lr=0.00006, valid_loss=0.9643]\n",
      "Epocha val 43/100: 100%|██████████| 61/61 [00:06<00:00,  9.58it/s, acc=0.67254, gpu_memory=2.45 GB, lr=0.00006, valid_loss=1.0940]\n",
      "Epocha train 44/100: 100%|██████████| 141/141 [00:14<00:00,  9.40it/s, acc=0.62551, gpu_memory=2.45 GB, lr=0.00006, valid_loss=0.9536]\n",
      "Epocha val 44/100: 100%|██████████| 61/61 [00:06<00:00,  9.99it/s, acc=0.67154, gpu_memory=2.45 GB, lr=0.00006, valid_loss=1.1199]\n",
      "Epocha train 45/100: 100%|██████████| 141/141 [00:15<00:00,  8.93it/s, acc=0.61296, gpu_memory=2.45 GB, lr=0.00006, valid_loss=0.9482]\n",
      "Epocha val 45/100: 100%|██████████| 61/61 [00:06<00:00,  9.91it/s, acc=0.67298, gpu_memory=2.45 GB, lr=0.00006, valid_loss=1.0974]\n",
      "Epocha train 46/100: 100%|██████████| 141/141 [00:15<00:00,  9.27it/s, acc=0.62526, gpu_memory=2.45 GB, lr=0.00006, valid_loss=0.9346]\n",
      "Epocha val 46/100: 100%|██████████| 61/61 [00:06<00:00, 10.13it/s, acc=0.68185, gpu_memory=2.45 GB, lr=0.00006, valid_loss=1.0946]\n",
      "Epocha train 47/100: 100%|██████████| 141/141 [00:15<00:00,  9.08it/s, acc=0.62039, gpu_memory=2.45 GB, lr=0.00006, valid_loss=0.9085]\n",
      "Epocha val 47/100: 100%|██████████| 61/61 [00:06<00:00,  9.86it/s, acc=0.69714, gpu_memory=2.45 GB, lr=0.00005, valid_loss=1.0888]\n"
     ]
    },
    {
     "name": "stdout",
     "output_type": "stream",
     "text": [
      "Best val Loss classification: 1.088811,Best val Acc classification:0.625512\n"
     ]
    },
    {
     "name": "stderr",
     "output_type": "stream",
     "text": [
      "Epocha train 48/100: 100%|██████████| 141/141 [00:15<00:00,  9.06it/s, acc=0.62833, gpu_memory=2.45 GB, lr=0.00005, valid_loss=0.9085]\n",
      "Epocha val 48/100: 100%|██████████| 61/61 [00:06<00:00, 10.12it/s, acc=0.68938, gpu_memory=2.45 GB, lr=0.00005, valid_loss=1.0718]\n"
     ]
    },
    {
     "name": "stdout",
     "output_type": "stream",
     "text": [
      "Best val Loss classification: 1.071845,Best val Acc classification:0.628330\n"
     ]
    },
    {
     "name": "stderr",
     "output_type": "stream",
     "text": [
      "Epocha train 49/100: 100%|██████████| 141/141 [00:15<00:00,  9.32it/s, acc=0.63115, gpu_memory=2.45 GB, lr=0.00005, valid_loss=0.8895]\n",
      "Epocha val 49/100: 100%|██████████| 61/61 [00:06<00:00,  9.43it/s, acc=0.69526, gpu_memory=2.45 GB, lr=0.00005, valid_loss=1.0724]\n",
      "Epocha train 50/100: 100%|██████████| 141/141 [00:15<00:00,  9.37it/s, acc=0.62910, gpu_memory=2.45 GB, lr=0.00005, valid_loss=0.8718]\n",
      "Epocha val 50/100: 100%|██████████| 61/61 [00:06<00:00, 10.04it/s, acc=0.70900, gpu_memory=2.45 GB, lr=0.00005, valid_loss=1.0763]\n",
      "Epocha train 51/100: 100%|██████████| 141/141 [00:15<00:00,  9.13it/s, acc=0.63012, gpu_memory=2.45 GB, lr=0.00005, valid_loss=0.8695]\n",
      "Epocha val 51/100: 100%|██████████| 61/61 [00:06<00:00,  9.97it/s, acc=0.70723, gpu_memory=2.45 GB, lr=0.00005, valid_loss=1.0879]\n",
      "Epocha train 52/100: 100%|██████████| 141/141 [00:15<00:00,  9.19it/s, acc=0.62551, gpu_memory=2.45 GB, lr=0.00005, valid_loss=0.8466]\n",
      "Epocha val 52/100: 100%|██████████| 61/61 [00:06<00:00, 10.14it/s, acc=0.71254, gpu_memory=2.45 GB, lr=0.00005, valid_loss=1.0592]\n"
     ]
    },
    {
     "name": "stdout",
     "output_type": "stream",
     "text": [
      "Best val Loss classification: 1.059236,Best val Acc classification:0.631148\n"
     ]
    },
    {
     "name": "stderr",
     "output_type": "stream",
     "text": [
      "Epocha train 53/100: 100%|██████████| 141/141 [00:15<00:00,  9.04it/s, acc=0.63909, gpu_memory=2.45 GB, lr=0.00005, valid_loss=0.8364]\n",
      "Epocha val 53/100: 100%|██████████| 61/61 [00:06<00:00, 10.03it/s, acc=0.71676, gpu_memory=2.45 GB, lr=0.00005, valid_loss=1.0666]\n",
      "Epocha train 54/100: 100%|██████████| 141/141 [00:15<00:00,  9.36it/s, acc=0.63166, gpu_memory=2.45 GB, lr=0.00005, valid_loss=0.8252]\n",
      "Epocha val 54/100: 100%|██████████| 61/61 [00:05<00:00, 10.28it/s, acc=0.72473, gpu_memory=2.45 GB, lr=0.00004, valid_loss=1.0787]\n",
      "Epocha train 55/100: 100%|██████████| 141/141 [00:15<00:00,  9.14it/s, acc=0.63064, gpu_memory=2.45 GB, lr=0.00004, valid_loss=0.8137]\n",
      "Epocha val 55/100: 100%|██████████| 61/61 [00:06<00:00,  9.98it/s, acc=0.72440, gpu_memory=2.45 GB, lr=0.00004, valid_loss=1.0973]\n",
      "Epocha train 56/100: 100%|██████████| 141/141 [00:15<00:00,  9.18it/s, acc=0.62628, gpu_memory=2.45 GB, lr=0.00004, valid_loss=0.8053]\n",
      "Epocha val 56/100: 100%|██████████| 61/61 [00:06<00:00, 10.03it/s, acc=0.72861, gpu_memory=2.45 GB, lr=0.00004, valid_loss=1.0413]\n",
      "Epocha train 57/100: 100%|██████████| 141/141 [00:15<00:00,  9.05it/s, acc=0.63678, gpu_memory=2.45 GB, lr=0.00004, valid_loss=0.7900]\n",
      "Epocha val 57/100: 100%|██████████| 61/61 [00:05<00:00, 10.24it/s, acc=0.73194, gpu_memory=2.45 GB, lr=0.00004, valid_loss=1.0737]\n",
      "Epocha train 58/100: 100%|██████████| 141/141 [00:15<00:00,  9.28it/s, acc=0.62910, gpu_memory=2.45 GB, lr=0.00004, valid_loss=0.7716]\n",
      "Epocha val 58/100: 100%|██████████| 61/61 [00:06<00:00,  9.16it/s, acc=0.73859, gpu_memory=2.45 GB, lr=0.00004, valid_loss=1.0617]\n"
     ]
    },
    {
     "name": "stdout",
     "output_type": "stream",
     "text": [
      "Best val Loss classification: 1.041293,Best val Acc classification:0.639088\n"
     ]
    },
    {
     "name": "stderr",
     "output_type": "stream",
     "text": [
      "Epocha train 59/100: 100%|██████████| 141/141 [00:15<00:00,  9.22it/s, acc=0.64370, gpu_memory=2.45 GB, lr=0.00004, valid_loss=0.7658]\n",
      "Epocha val 59/100: 100%|██████████| 61/61 [00:06<00:00, 10.11it/s, acc=0.74335, gpu_memory=2.45 GB, lr=0.00004, valid_loss=1.0536]\n",
      "Epocha train 60/100: 100%|██████████| 141/141 [00:15<00:00,  8.88it/s, acc=0.64037, gpu_memory=2.45 GB, lr=0.00004, valid_loss=0.7538]\n",
      "Epocha val 60/100: 100%|██████████| 61/61 [00:06<00:00,  9.77it/s, acc=0.74479, gpu_memory=2.45 GB, lr=0.00003, valid_loss=1.0510]\n",
      "Epocha train 61/100: 100%|██████████| 141/141 [00:15<00:00,  9.08it/s, acc=0.64139, gpu_memory=2.45 GB, lr=0.00003, valid_loss=0.7368]\n",
      "Epocha val 61/100: 100%|██████████| 61/61 [00:06<00:00,  9.58it/s, acc=0.75421, gpu_memory=2.45 GB, lr=0.00003, valid_loss=1.0480]\n"
     ]
    },
    {
     "name": "stdout",
     "output_type": "stream",
     "text": [
      "Best val Loss classification: 1.041293,Best val Acc classification:0.643699\n"
     ]
    },
    {
     "name": "stderr",
     "output_type": "stream",
     "text": [
      "Epocha train 62/100: 100%|██████████| 141/141 [00:15<00:00,  9.13it/s, acc=0.64780, gpu_memory=2.45 GB, lr=0.00003, valid_loss=0.7261]\n",
      "Epocha val 62/100: 100%|██████████| 61/61 [00:05<00:00, 10.19it/s, acc=0.75853, gpu_memory=2.45 GB, lr=0.00003, valid_loss=1.0470]\n",
      "Epocha train 63/100: 100%|██████████| 141/141 [00:15<00:00,  9.16it/s, acc=0.64370, gpu_memory=2.45 GB, lr=0.00003, valid_loss=0.7307]\n",
      "Epocha val 63/100: 100%|██████████| 61/61 [00:06<00:00, 10.02it/s, acc=0.75953, gpu_memory=2.45 GB, lr=0.00003, valid_loss=1.0411]\n",
      "Epocha train 64/100: 100%|██████████| 141/141 [00:15<00:00,  9.11it/s, acc=0.63909, gpu_memory=2.45 GB, lr=0.00003, valid_loss=0.7198]\n",
      "Epocha val 64/100: 100%|██████████| 61/61 [00:05<00:00, 10.26it/s, acc=0.75809, gpu_memory=2.45 GB, lr=0.00003, valid_loss=1.0322]\n",
      "Epocha train 65/100: 100%|██████████| 141/141 [00:17<00:00,  8.29it/s, acc=0.64754, gpu_memory=2.45 GB, lr=0.00003, valid_loss=0.7024]\n",
      "Epocha val 65/100: 100%|██████████| 61/61 [00:06<00:00,  9.91it/s, acc=0.76474, gpu_memory=2.45 GB, lr=0.00003, valid_loss=1.0384]\n",
      "Epocha train 66/100: 100%|██████████| 141/141 [00:15<00:00,  9.18it/s, acc=0.64447, gpu_memory=2.45 GB, lr=0.00003, valid_loss=0.7029]\n",
      "Epocha val 66/100: 100%|██████████| 61/61 [00:05<00:00, 10.49it/s, acc=0.77050, gpu_memory=2.45 GB, lr=0.00003, valid_loss=1.0248]\n"
     ]
    },
    {
     "name": "stdout",
     "output_type": "stream",
     "text": [
      "Best val Loss classification: 1.024843,Best val Acc classification:0.647797\n"
     ]
    },
    {
     "name": "stderr",
     "output_type": "stream",
     "text": [
      "Epocha train 67/100: 100%|██████████| 141/141 [00:15<00:00,  8.86it/s, acc=0.64933, gpu_memory=2.45 GB, lr=0.00003, valid_loss=0.6901]\n",
      "Epocha val 67/100: 100%|██████████| 61/61 [00:06<00:00,  9.95it/s, acc=0.76984, gpu_memory=2.45 GB, lr=0.00002, valid_loss=1.0436]\n",
      "Epocha train 68/100: 100%|██████████| 141/141 [00:15<00:00,  9.30it/s, acc=0.64062, gpu_memory=2.45 GB, lr=0.00002, valid_loss=0.6708]\n",
      "Epocha val 68/100: 100%|██████████| 61/61 [00:05<00:00, 10.49it/s, acc=0.78092, gpu_memory=2.45 GB, lr=0.00002, valid_loss=1.0360]\n",
      "Epocha train 69/100: 100%|██████████| 141/141 [00:14<00:00,  9.44it/s, acc=0.64037, gpu_memory=2.45 GB, lr=0.00002, valid_loss=0.6745]\n",
      "Epocha val 69/100: 100%|██████████| 61/61 [00:06<00:00,  9.84it/s, acc=0.78147, gpu_memory=2.45 GB, lr=0.00002, valid_loss=1.0396]\n"
     ]
    },
    {
     "name": "stdout",
     "output_type": "stream",
     "text": [
      "Best val Loss classification: 1.024843,Best val Acc classification:0.649334\n"
     ]
    },
    {
     "name": "stderr",
     "output_type": "stream",
     "text": [
      "Epocha train 70/100: 100%|██████████| 141/141 [00:16<00:00,  8.62it/s, acc=0.65061, gpu_memory=2.45 GB, lr=0.00002, valid_loss=0.6721]\n",
      "Epocha val 70/100: 100%|██████████| 61/61 [00:06<00:00, 10.02it/s, acc=0.78092, gpu_memory=2.45 GB, lr=0.00002, valid_loss=1.0362]\n"
     ]
    },
    {
     "name": "stdout",
     "output_type": "stream",
     "text": [
      "Best val Loss classification: 1.024843,Best val Acc classification:0.650615\n"
     ]
    },
    {
     "name": "stderr",
     "output_type": "stream",
     "text": [
      "Epocha train 71/100: 100%|██████████| 141/141 [00:15<00:00,  9.10it/s, acc=0.65343, gpu_memory=2.45 GB, lr=0.00002, valid_loss=0.6531]\n",
      "Epocha val 71/100: 100%|██████████| 61/61 [00:06<00:00,  8.94it/s, acc=0.78380, gpu_memory=2.45 GB, lr=0.00002, valid_loss=1.0283]\n"
     ]
    },
    {
     "name": "stdout",
     "output_type": "stream",
     "text": [
      "Best val Loss classification: 1.024843,Best val Acc classification:0.653432\n"
     ]
    },
    {
     "name": "stderr",
     "output_type": "stream",
     "text": [
      "Epocha train 72/100: 100%|██████████| 141/141 [00:15<00:00,  9.39it/s, acc=0.65497, gpu_memory=2.45 GB, lr=0.00002, valid_loss=0.6384]\n",
      "Epocha val 72/100: 100%|██████████| 61/61 [00:05<00:00, 10.56it/s, acc=0.79322, gpu_memory=2.45 GB, lr=0.00002, valid_loss=1.0110]\n"
     ]
    },
    {
     "name": "stdout",
     "output_type": "stream",
     "text": [
      "Best val Loss classification: 1.010966,Best val Acc classification:0.654969\n"
     ]
    },
    {
     "name": "stderr",
     "output_type": "stream",
     "text": [
      "Epocha train 73/100: 100%|██████████| 141/141 [00:14<00:00,  9.68it/s, acc=0.65548, gpu_memory=2.45 GB, lr=0.00002, valid_loss=0.6473]\n",
      "Epocha val 73/100: 100%|██████████| 61/61 [00:05<00:00, 10.42it/s, acc=0.78845, gpu_memory=2.45 GB, lr=0.00002, valid_loss=1.0202]\n"
     ]
    },
    {
     "name": "stdout",
     "output_type": "stream",
     "text": [
      "Best val Loss classification: 1.010966,Best val Acc classification:0.655482\n"
     ]
    },
    {
     "name": "stderr",
     "output_type": "stream",
     "text": [
      "Epocha train 74/100: 100%|██████████| 141/141 [00:15<00:00,  9.08it/s, acc=0.65676, gpu_memory=2.45 GB, lr=0.00002, valid_loss=0.6406]\n",
      "Epocha val 74/100: 100%|██████████| 61/61 [00:05<00:00, 10.61it/s, acc=0.79355, gpu_memory=2.45 GB, lr=0.00002, valid_loss=1.0331]\n",
      "Epocha train 75/100: 100%|██████████| 141/141 [00:15<00:00,  9.30it/s, acc=0.64728, gpu_memory=2.45 GB, lr=0.00002, valid_loss=0.6332]\n",
      "Epocha val 75/100: 100%|██████████| 61/61 [00:06<00:00, 10.00it/s, acc=0.79787, gpu_memory=2.45 GB, lr=0.00001, valid_loss=1.0286]\n",
      "Epocha train 76/100: 100%|██████████| 141/141 [00:15<00:00,  9.28it/s, acc=0.65599, gpu_memory=2.45 GB, lr=0.00001, valid_loss=0.6363]\n",
      "Epocha val 76/100: 100%|██████████| 61/61 [00:06<00:00, 10.05it/s, acc=0.78912, gpu_memory=2.45 GB, lr=0.00001, valid_loss=1.0147]\n"
     ]
    },
    {
     "name": "stdout",
     "output_type": "stream",
     "text": [
      "Best val Loss classification: 1.010966,Best val Acc classification:0.656762\n"
     ]
    },
    {
     "name": "stderr",
     "output_type": "stream",
     "text": [
      "Epocha train 77/100: 100%|██████████| 141/141 [00:15<00:00,  9.26it/s, acc=0.66291, gpu_memory=2.45 GB, lr=0.00001, valid_loss=0.6252]\n",
      "Epocha val 77/100: 100%|██████████| 61/61 [00:06<00:00,  9.18it/s, acc=0.79599, gpu_memory=2.45 GB, lr=0.00001, valid_loss=1.0078]\n",
      "Epocha train 78/100: 100%|██████████| 141/141 [00:16<00:00,  8.48it/s, acc=0.65471, gpu_memory=2.45 GB, lr=0.00001, valid_loss=0.6159]\n",
      "Epocha val 78/100: 100%|██████████| 61/61 [00:06<00:00,  9.64it/s, acc=0.79898, gpu_memory=2.45 GB, lr=0.00001, valid_loss=1.0174]\n",
      "Epocha train 79/100: 100%|██████████| 141/141 [00:15<00:00,  9.09it/s, acc=0.65881, gpu_memory=2.45 GB, lr=0.00001, valid_loss=0.6082]\n",
      "Epocha val 79/100: 100%|██████████| 61/61 [00:06<00:00,  9.48it/s, acc=0.80452, gpu_memory=2.45 GB, lr=0.00001, valid_loss=1.0036]\n",
      "Epocha train 80/100: 100%|██████████| 141/141 [00:15<00:00,  9.23it/s, acc=0.65881, gpu_memory=2.45 GB, lr=0.00001, valid_loss=0.6129]\n",
      "Epocha val 80/100: 100%|██████████| 61/61 [00:05<00:00, 10.38it/s, acc=0.79898, gpu_memory=2.45 GB, lr=0.00001, valid_loss=1.0141]\n",
      "Epocha train 81/100: 100%|██████████| 141/141 [00:14<00:00,  9.44it/s, acc=0.65856, gpu_memory=2.45 GB, lr=0.00001, valid_loss=0.6047]\n",
      "Epocha val 81/100: 100%|██████████| 61/61 [00:05<00:00, 10.72it/s, acc=0.80208, gpu_memory=2.45 GB, lr=0.00001, valid_loss=1.0113]\n",
      "Epocha train 82/100: 100%|██████████| 141/141 [00:15<00:00,  9.00it/s, acc=0.65779, gpu_memory=2.45 GB, lr=0.00001, valid_loss=0.6015]\n",
      "Epocha val 82/100: 100%|██████████| 61/61 [00:06<00:00,  9.76it/s, acc=0.80685, gpu_memory=2.45 GB, lr=0.00001, valid_loss=1.0100]\n",
      "Epocha train 83/100: 100%|██████████| 141/141 [00:15<00:00,  9.31it/s, acc=0.65702, gpu_memory=2.45 GB, lr=0.00001, valid_loss=0.5898]\n",
      "Epocha val 83/100: 100%|██████████| 61/61 [00:06<00:00,  9.85it/s, acc=0.81184, gpu_memory=2.45 GB, lr=0.00001, valid_loss=1.0200]\n",
      "Epocha train 84/100: 100%|██████████| 141/141 [00:16<00:00,  8.43it/s, acc=0.65292, gpu_memory=2.45 GB, lr=0.00001, valid_loss=0.5881]\n",
      "Epocha val 84/100: 100%|██████████| 61/61 [00:05<00:00, 10.66it/s, acc=0.81217, gpu_memory=2.45 GB, lr=0.00001, valid_loss=1.0049]\n",
      "Epocha train 85/100: 100%|██████████| 141/141 [00:15<00:00,  9.06it/s, acc=0.65804, gpu_memory=2.45 GB, lr=0.00001, valid_loss=0.5891]\n",
      "Epocha val 85/100: 100%|██████████| 61/61 [00:06<00:00, 10.10it/s, acc=0.80918, gpu_memory=2.45 GB, lr=0.00001, valid_loss=1.0104]\n",
      "Epocha train 86/100: 100%|██████████| 141/141 [00:15<00:00,  9.12it/s, acc=0.65856, gpu_memory=2.45 GB, lr=0.00001, valid_loss=0.5871]\n",
      "Epocha val 86/100: 100%|██████████| 61/61 [00:06<00:00, 10.08it/s, acc=0.81361, gpu_memory=2.45 GB, lr=0.00000, valid_loss=1.0111]\n"
     ]
    },
    {
     "name": "stdout",
     "output_type": "stream",
     "text": [
      "Best val Loss classification: 1.003621,Best val Acc classification:0.662910\n"
     ]
    },
    {
     "name": "stderr",
     "output_type": "stream",
     "text": [
      "Epocha train 87/100: 100%|██████████| 141/141 [00:15<00:00,  9.36it/s, acc=0.66675, gpu_memory=2.45 GB, lr=0.00000, valid_loss=0.5759]\n",
      "Epocha val 87/100: 100%|██████████| 61/61 [00:05<00:00, 10.43it/s, acc=0.81715, gpu_memory=2.45 GB, lr=0.00000, valid_loss=1.0031]\n",
      "Epocha train 88/100: 100%|██████████| 141/141 [00:15<00:00,  9.30it/s, acc=0.65676, gpu_memory=2.45 GB, lr=0.00000, valid_loss=0.5820]\n",
      "Epocha val 88/100: 100%|██████████| 61/61 [00:06<00:00,  9.97it/s, acc=0.81283, gpu_memory=2.45 GB, lr=0.00000, valid_loss=1.0080]\n",
      "Epocha train 89/100: 100%|██████████| 141/141 [00:15<00:00,  9.25it/s, acc=0.65523, gpu_memory=2.45 GB, lr=0.00000, valid_loss=0.5791]\n",
      "Epocha val 89/100: 100%|██████████| 61/61 [00:05<00:00, 10.37it/s, acc=0.81582, gpu_memory=2.45 GB, lr=0.00000, valid_loss=0.9994]\n",
      "Epocha train 90/100: 100%|██████████| 141/141 [00:14<00:00,  9.50it/s, acc=0.66317, gpu_memory=2.45 GB, lr=0.00000, valid_loss=0.5787]\n",
      "Epocha val 90/100: 100%|██████████| 61/61 [00:05<00:00, 10.33it/s, acc=0.81361, gpu_memory=2.45 GB, lr=0.00000, valid_loss=1.0037]\n",
      "Epocha train 91/100: 100%|██████████| 141/141 [00:15<00:00,  9.11it/s, acc=0.66163, gpu_memory=2.45 GB, lr=0.00000, valid_loss=0.5854]\n",
      "Epocha val 91/100: 100%|██████████| 61/61 [00:06<00:00,  9.88it/s, acc=0.80840, gpu_memory=2.45 GB, lr=0.00000, valid_loss=1.0012]\n",
      "Epocha train 92/100: 100%|██████████| 141/141 [00:16<00:00,  8.62it/s, acc=0.65830, gpu_memory=2.45 GB, lr=0.00000, valid_loss=0.5816]\n",
      "Epocha val 92/100: 100%|██████████| 61/61 [00:06<00:00, 10.02it/s, acc=0.81272, gpu_memory=2.45 GB, lr=0.00000, valid_loss=1.0026]\n",
      "Epocha train 93/100: 100%|██████████| 141/141 [00:15<00:00,  9.24it/s, acc=0.66522, gpu_memory=2.45 GB, lr=0.00000, valid_loss=0.5696]\n",
      "Epocha val 93/100: 100%|██████████| 61/61 [00:06<00:00,  9.65it/s, acc=0.81871, gpu_memory=2.45 GB, lr=0.00000, valid_loss=1.0024]\n",
      "Epocha train 94/100: 100%|██████████| 141/141 [00:15<00:00,  8.93it/s, acc=0.66291, gpu_memory=2.45 GB, lr=0.00000, valid_loss=0.5694]\n",
      "Epocha val 94/100: 100%|██████████| 61/61 [00:06<00:00,  9.62it/s, acc=0.82236, gpu_memory=2.45 GB, lr=0.00000, valid_loss=0.9968]\n",
      "Epocha train 95/100: 100%|██████████| 141/141 [00:15<00:00,  8.91it/s, acc=0.66240, gpu_memory=2.45 GB, lr=0.00000, valid_loss=0.5690]\n",
      "Epocha val 95/100: 100%|██████████| 61/61 [00:06<00:00,  9.80it/s, acc=0.81416, gpu_memory=2.45 GB, lr=0.00000, valid_loss=0.9944]\n",
      "Epocha train 96/100: 100%|██████████| 141/141 [00:16<00:00,  8.35it/s, acc=0.66112, gpu_memory=2.45 GB, lr=0.00000, valid_loss=0.5778]\n",
      "Epocha val 96/100: 100%|██████████| 61/61 [00:05<00:00, 10.29it/s, acc=0.81472, gpu_memory=2.45 GB, lr=0.00000, valid_loss=1.0029]\n",
      "Epocha train 97/100: 100%|██████████| 141/141 [00:15<00:00,  9.10it/s, acc=0.66368, gpu_memory=2.45 GB, lr=0.00000, valid_loss=0.5797]\n",
      "Epocha val 97/100: 100%|██████████| 61/61 [00:06<00:00, 10.05it/s, acc=0.81461, gpu_memory=2.45 GB, lr=0.00000, valid_loss=1.0051]\n",
      "Epocha train 98/100: 100%|██████████| 141/141 [00:15<00:00,  8.85it/s, acc=0.66240, gpu_memory=2.45 GB, lr=0.00000, valid_loss=0.5637]\n",
      "Epocha val 98/100: 100%|██████████| 61/61 [00:06<00:00,  9.96it/s, acc=0.82170, gpu_memory=2.45 GB, lr=0.00000, valid_loss=0.9963]\n"
     ]
    },
    {
     "name": "stdout",
     "output_type": "stream",
     "text": [
      "Best val Loss classification: 0.994444,Best val Acc classification:0.666752\n"
     ]
    },
    {
     "name": "stderr",
     "output_type": "stream",
     "text": [
      "Epocha train 99/100: 100%|██████████| 141/141 [00:15<00:00,  9.30it/s, acc=0.66778, gpu_memory=2.45 GB, lr=0.00000, valid_loss=0.5757]\n",
      "Epocha val 99/100: 100%|██████████| 61/61 [00:06<00:00,  9.38it/s, acc=0.81948, gpu_memory=2.45 GB, lr=0.00000, valid_loss=1.0025]\n",
      "Epocha train 100/100: 100%|██████████| 141/141 [00:16<00:00,  8.79it/s, acc=0.66778, gpu_memory=2.45 GB, lr=0.00000, valid_loss=0.5677]\n",
      "Epocha val 100/100: 100%|██████████| 61/61 [00:06<00:00,  9.94it/s, acc=0.81882, gpu_memory=2.45 GB, lr=0.00000, valid_loss=1.0152]\n"
     ]
    },
    {
     "name": "stdout",
     "output_type": "stream",
     "text": [
      "Training complete in 39m 22s\n",
      "Best val Loss classification: 0.9944 epoch 95  \n",
      "Best val Loss accuracy: 0.6678 epoch 98\n"
     ]
    },
    {
     "data": {
      "image/png": "[encoded data removed]",
      "text/plain": [
       "<Figure size 432x288 with 1 Axes>"
      ]
     },
     "metadata": {
      "needs_background": "light"
     },
     "output_type": "display_data"
    },
    {
     "data": {
      "image/png": "[encoded data removed]",
      "text/plain": [
       "<Figure size 432x288 with 1 Axes>"
      ]
     },
     "metadata": {
      "needs_background": "light"
     },
     "output_type": "display_data"
    }
   ],
   "source": [
    "model_loss, model_acc, overfit_model,best_acc = train.train(train_dirr=\"/workspace/proj/paradigma/db/imagewoof2\",                                           # Путь до папки с train or directori\n",
    "                                             val_dirr=\"/workspace/proj/paradigma/db/imagewoof2\",                                             # Путь до папки с описанием val\n",
    "                                             model_name =\"resnet18\",                             # Название модели timm or пользовательские из кода\n",
    "                                             Dataset_name =\"imagewoof\",                            # Название Dataset (при сохранении)\n",
    "                                             metod_aug_name=\"baseline\",#\"FsAA\",                # Название metoda (при сохранении)\n",
    "                                             task_name=\"clasification\",                          # Название задачи  (при сохранении)\n",
    "                                             train_annotation='/workspace/proj/paradigma/db/imagewoof2/noisy_imagewoof.csv',                                # Путь до файла с описанием train\n",
    "                                             val_annotation='/workspace/proj/paradigma/db/imagewoof2/noisy_imagewoof.csv',                                  # Путь до файла с описанием val\n",
    "                                             N_class = 10,                                          # Количество классов в задаче\n",
    "                                             num_epochs=100,                                        # Количество эпох обучения\n",
    "                                             batch_size = 64,                                       \n",
    "                                             snp_path = '/workspace/proj/paradigma/snp/',     # Путь к папке, в которую сохранять готовые модели\n",
    "                                             pretrained = False,                                   # True - загрузить предобученную модель\n",
    "                                             SIZE = 224,                                           # Размер входа (SIZE*SIZE)\n",
    "                                             lr=0.0001,                                        # Коэффициент скорости обучения (Learning rate)\n",
    "                                             momentum=0.9)#,                                        # коэфицент сохранения момента\n",
    "#                                              rootAA=\"/workspace/proj/autoalbument/examples/imagenette/resnet50/outputs/2022-08-03/15-10-06/policy/latest.json\")"
   ]
  },
  {
   "cell_type": "code",
   "execution_count": null,
   "id": "1a05ecf6",
   "metadata": {},
   "outputs": [],
   "source": []
  },
  {
   "cell_type": "code",
   "execution_count": 8,
   "id": "ae7cbcb8",
   "metadata": {
    "scrolled": true
   },
   "outputs": [
    {
     "name": "stdout",
     "output_type": "stream",
     "text": [
      "/workspace/proj/paradigma/snp/imagewoof/resnet18/baseline/08_09_2022/09_37_28/\n"
     ]
    },
    {
     "name": "stderr",
     "output_type": "stream",
     "text": [
      "Epocha train 1/100: 100%|██████████| 141/141 [00:15<00:00,  9.39it/s, acc=0.00000, gpu_memory=2.47 GB, lr=0.01000, valid_loss=2.2099]\n",
      "Epocha val 1/100: 100%|██████████| 61/61 [00:05<00:00, 10.47it/s, acc=0.17365, gpu_memory=2.47 GB, lr=0.01000, valid_loss=2.0605]\n"
     ]
    },
    {
     "name": "stdout",
     "output_type": "stream",
     "text": [
      "Best val Loss classification: 2.060518,Best val Acc classification:0.000000\n"
     ]
    },
    {
     "name": "stderr",
     "output_type": "stream",
     "text": [
      "Epocha train 2/100: 100%|██████████| 141/141 [00:14<00:00,  9.70it/s, acc=0.22182, gpu_memory=2.47 GB, lr=0.01000, valid_loss=2.0579]\n",
      "Epocha val 2/100: 100%|██████████| 61/61 [00:05<00:00, 10.64it/s, acc=0.22318, gpu_memory=2.47 GB, lr=0.00999, valid_loss=2.0373]\n"
     ]
    },
    {
     "name": "stdout",
     "output_type": "stream",
     "text": [
      "Best val Loss classification: 2.037345,Best val Acc classification:0.221824\n"
     ]
    },
    {
     "name": "stderr",
     "output_type": "stream",
     "text": [
      "Epocha train 3/100: 100%|██████████| 141/141 [00:15<00:00,  9.00it/s, acc=0.25256, gpu_memory=2.47 GB, lr=0.00999, valid_loss=1.9747]\n",
      "Epocha val 3/100: 100%|██████████| 61/61 [00:06<00:00, 10.05it/s, acc=0.26729, gpu_memory=2.47 GB, lr=0.00998, valid_loss=1.9076]\n"
     ]
    },
    {
     "name": "stdout",
     "output_type": "stream",
     "text": [
      "Best val Loss classification: 1.907552,Best val Acc classification:0.252561\n"
     ]
    },
    {
     "name": "stderr",
     "output_type": "stream",
     "text": [
      "Epocha train 4/100: 100%|██████████| 141/141 [00:14<00:00,  9.76it/s, acc=0.28227, gpu_memory=2.47 GB, lr=0.00998, valid_loss=1.8954]\n",
      "Epocha val 4/100: 100%|██████████| 61/61 [00:05<00:00, 10.51it/s, acc=0.29754, gpu_memory=2.47 GB, lr=0.00996, valid_loss=1.7769]\n"
     ]
    },
    {
     "name": "stdout",
     "output_type": "stream",
     "text": [
      "Best val Loss classification: 1.776868,Best val Acc classification:0.282275\n"
     ]
    },
    {
     "name": "stderr",
     "output_type": "stream",
     "text": [
      "Epocha train 5/100: 100%|██████████| 141/141 [00:14<00:00,  9.67it/s, acc=0.35784, gpu_memory=2.47 GB, lr=0.00996, valid_loss=1.7853]\n",
      "Epocha val 5/100: 100%|██████████| 61/61 [00:06<00:00,  9.06it/s, acc=0.34874, gpu_memory=2.47 GB, lr=0.00994, valid_loss=1.6640]\n"
     ]
    },
    {
     "name": "stdout",
     "output_type": "stream",
     "text": [
      "Best val Loss classification: 1.663953,Best val Acc classification:0.357838\n"
     ]
    },
    {
     "name": "stderr",
     "output_type": "stream",
     "text": [
      "Epocha train 6/100: 100%|██████████| 141/141 [00:15<00:00,  9.37it/s, acc=0.40548, gpu_memory=2.47 GB, lr=0.00994, valid_loss=1.6751]\n",
      "Epocha val 6/100: 100%|██████████| 61/61 [00:05<00:00, 11.02it/s, acc=0.39439, gpu_memory=2.47 GB, lr=0.00991, valid_loss=1.5982]\n"
     ]
    },
    {
     "name": "stdout",
     "output_type": "stream",
     "text": [
      "Best val Loss classification: 1.598217,Best val Acc classification:0.405482\n"
     ]
    },
    {
     "name": "stderr",
     "output_type": "stream",
     "text": [
      "Epocha train 7/100: 100%|██████████| 141/141 [00:15<00:00,  9.22it/s, acc=0.42853, gpu_memory=2.47 GB, lr=0.00991, valid_loss=1.6012]\n",
      "Epocha val 7/100: 100%|██████████| 61/61 [00:06<00:00, 10.01it/s, acc=0.42542, gpu_memory=2.47 GB, lr=0.00988, valid_loss=1.5039]\n"
     ]
    },
    {
     "name": "stdout",
     "output_type": "stream",
     "text": [
      "Best val Loss classification: 1.503886,Best val Acc classification:0.428535\n"
     ]
    },
    {
     "name": "stderr",
     "output_type": "stream",
     "text": [
      "Epocha train 8/100: 100%|██████████| 141/141 [00:14<00:00,  9.63it/s, acc=0.46158, gpu_memory=2.47 GB, lr=0.00988, valid_loss=1.5487]\n",
      "Epocha val 8/100: 100%|██████████| 61/61 [00:06<00:00,  9.93it/s, acc=0.44803, gpu_memory=2.47 GB, lr=0.00984, valid_loss=1.4583]\n"
     ]
    },
    {
     "name": "stdout",
     "output_type": "stream",
     "text": [
      "Best val Loss classification: 1.458332,Best val Acc classification:0.461578\n"
     ]
    },
    {
     "name": "stderr",
     "output_type": "stream",
     "text": [
      "Epocha train 9/100: 100%|██████████| 141/141 [00:14<00:00,  9.55it/s, acc=0.48694, gpu_memory=2.47 GB, lr=0.00984, valid_loss=1.4896]\n",
      "Epocha val 9/100: 100%|██████████| 61/61 [00:06<00:00,  9.73it/s, acc=0.46786, gpu_memory=2.47 GB, lr=0.00980, valid_loss=1.4044]\n"
     ]
    },
    {
     "name": "stdout",
     "output_type": "stream",
     "text": [
      "Best val Loss classification: 1.404364,Best val Acc classification:0.486936\n"
     ]
    },
    {
     "name": "stderr",
     "output_type": "stream",
     "text": [
      "Epocha train 10/100: 100%|██████████| 141/141 [00:14<00:00,  9.53it/s, acc=0.50768, gpu_memory=2.47 GB, lr=0.00980, valid_loss=1.4238]\n",
      "Epocha val 10/100: 100%|██████████| 61/61 [00:06<00:00, 10.07it/s, acc=0.49102, gpu_memory=2.47 GB, lr=0.00976, valid_loss=1.3387]\n"
     ]
    },
    {
     "name": "stdout",
     "output_type": "stream",
     "text": [
      "Best val Loss classification: 1.338656,Best val Acc classification:0.507684\n"
     ]
    },
    {
     "name": "stderr",
     "output_type": "stream",
     "text": [
      "Epocha train 11/100: 100%|██████████| 141/141 [00:14<00:00,  9.45it/s, acc=0.52280, gpu_memory=2.47 GB, lr=0.00976, valid_loss=1.3681]\n",
      "Epocha val 11/100: 100%|██████████| 61/61 [00:06<00:00,  9.48it/s, acc=0.51363, gpu_memory=2.47 GB, lr=0.00970, valid_loss=1.2894]\n"
     ]
    },
    {
     "name": "stdout",
     "output_type": "stream",
     "text": [
      "Best val Loss classification: 1.289399,Best val Acc classification:0.522797\n"
     ]
    },
    {
     "name": "stderr",
     "output_type": "stream",
     "text": [
      "Epocha train 12/100: 100%|██████████| 141/141 [00:15<00:00,  9.02it/s, acc=0.54150, gpu_memory=2.47 GB, lr=0.00970, valid_loss=1.3078]\n",
      "Epocha val 12/100: 100%|██████████| 61/61 [00:06<00:00, 10.11it/s, acc=0.54078, gpu_memory=2.47 GB, lr=0.00965, valid_loss=1.2298]\n"
     ]
    },
    {
     "name": "stdout",
     "output_type": "stream",
     "text": [
      "Best val Loss classification: 1.229760,Best val Acc classification:0.541496\n"
     ]
    },
    {
     "name": "stderr",
     "output_type": "stream",
     "text": [
      "Epocha train 13/100: 100%|██████████| 141/141 [00:15<00:00,  9.10it/s, acc=0.56916, gpu_memory=2.47 GB, lr=0.00965, valid_loss=1.2416]\n",
      "Epocha val 13/100: 100%|██████████| 61/61 [00:06<00:00,  9.89it/s, acc=0.56693, gpu_memory=2.47 GB, lr=0.00959, valid_loss=1.2195]\n",
      "Epocha train 14/100: 100%|██████████| 141/141 [00:15<00:00,  8.95it/s, acc=0.56711, gpu_memory=2.47 GB, lr=0.00959, valid_loss=1.1844]\n",
      "Epocha val 14/100: 100%|██████████| 61/61 [00:05<00:00, 10.25it/s, acc=0.58777, gpu_memory=2.47 GB, lr=0.00952, valid_loss=1.1633]\n"
     ]
    },
    {
     "name": "stdout",
     "output_type": "stream",
     "text": [
      "Best val Loss classification: 1.163314,Best val Acc classification:0.569160\n"
     ]
    },
    {
     "name": "stderr",
     "output_type": "stream",
     "text": [
      "Epocha train 15/100: 100%|██████████| 141/141 [00:15<00:00,  9.22it/s, acc=0.59734, gpu_memory=2.47 GB, lr=0.00952, valid_loss=1.1528]\n",
      "Epocha val 15/100: 100%|██████████| 61/61 [00:05<00:00, 10.48it/s, acc=0.58898, gpu_memory=2.47 GB, lr=0.00946, valid_loss=1.0965]\n"
     ]
    },
    {
     "name": "stdout",
     "output_type": "stream",
     "text": [
      "Best val Loss classification: 1.096471,Best val Acc classification:0.597336\n"
     ]
    },
    {
     "name": "stderr",
     "output_type": "stream",
     "text": [
      "Epocha train 16/100: 100%|██████████| 141/141 [00:14<00:00,  9.54it/s, acc=0.62500, gpu_memory=2.47 GB, lr=0.00946, valid_loss=1.0955]\n",
      "Epocha val 16/100: 100%|██████████| 61/61 [00:05<00:00, 10.41it/s, acc=0.61525, gpu_memory=2.47 GB, lr=0.00938, valid_loss=1.1374]\n",
      "Epocha train 17/100: 100%|██████████| 141/141 [00:15<00:00,  9.25it/s, acc=0.60528, gpu_memory=2.47 GB, lr=0.00938, valid_loss=1.0616]\n",
      "Epocha val 17/100: 100%|██████████| 61/61 [00:05<00:00, 10.55it/s, acc=0.63143, gpu_memory=2.47 GB, lr=0.00930, valid_loss=1.0709]\n"
     ]
    },
    {
     "name": "stdout",
     "output_type": "stream",
     "text": [
      "Best val Loss classification: 1.070919,Best val Acc classification:0.625000\n"
     ]
    },
    {
     "name": "stderr",
     "output_type": "stream",
     "text": [
      "Epocha train 18/100: 100%|██████████| 141/141 [00:15<00:00,  9.39it/s, acc=0.63499, gpu_memory=2.47 GB, lr=0.00930, valid_loss=0.9958]\n",
      "Epocha val 18/100: 100%|██████████| 61/61 [00:06<00:00,  8.95it/s, acc=0.64960, gpu_memory=2.47 GB, lr=0.00922, valid_loss=1.0534]\n"
     ]
    },
    {
     "name": "stdout",
     "output_type": "stream",
     "text": [
      "Best val Loss classification: 1.053355,Best val Acc classification:0.634990\n"
     ]
    },
    {
     "name": "stderr",
     "output_type": "stream",
     "text": [
      "Epocha train 19/100: 100%|██████████| 141/141 [00:15<00:00,  9.11it/s, acc=0.64088, gpu_memory=2.47 GB, lr=0.00922, valid_loss=0.9665]\n",
      "Epocha val 19/100: 100%|██████████| 61/61 [00:05<00:00, 10.60it/s, acc=0.65980, gpu_memory=2.47 GB, lr=0.00914, valid_loss=1.0067]\n"
     ]
    },
    {
     "name": "stdout",
     "output_type": "stream",
     "text": [
      "Best val Loss classification: 1.006742,Best val Acc classification:0.640881\n"
     ]
    },
    {
     "name": "stderr",
     "output_type": "stream",
     "text": [
      "Epocha train 20/100: 100%|██████████| 141/141 [00:15<00:00,  9.30it/s, acc=0.65548, gpu_memory=2.47 GB, lr=0.00914, valid_loss=0.9085]\n",
      "Epocha val 20/100: 100%|██████████| 61/61 [00:05<00:00, 10.66it/s, acc=0.68340, gpu_memory=2.47 GB, lr=0.00905, valid_loss=0.9961]\n"
     ]
    },
    {
     "name": "stdout",
     "output_type": "stream",
     "text": [
      "Best val Loss classification: 0.996126,Best val Acc classification:0.655482\n"
     ]
    },
    {
     "name": "stderr",
     "output_type": "stream",
     "text": [
      "Epocha train 21/100: 100%|██████████| 141/141 [00:15<00:00,  8.99it/s, acc=0.66573, gpu_memory=2.47 GB, lr=0.00905, valid_loss=0.8879]\n",
      "Epocha val 21/100: 100%|██████████| 61/61 [00:06<00:00, 10.12it/s, acc=0.68916, gpu_memory=2.47 GB, lr=0.00895, valid_loss=0.9948]\n"
     ]
    },
    {
     "name": "stdout",
     "output_type": "stream",
     "text": [
      "Best val Loss classification: 0.994843,Best val Acc classification:0.665727\n"
     ]
    },
    {
     "name": "stderr",
     "output_type": "stream",
     "text": [
      "Epocha train 22/100: 100%|██████████| 141/141 [00:15<00:00,  9.11it/s, acc=0.66598, gpu_memory=2.47 GB, lr=0.00895, valid_loss=0.8391]\n",
      "Epocha val 22/100: 100%|██████████| 61/61 [00:06<00:00,  9.81it/s, acc=0.71254, gpu_memory=2.47 GB, lr=0.00885, valid_loss=0.9415]\n"
     ]
    },
    {
     "name": "stdout",
     "output_type": "stream",
     "text": [
      "Best val Loss classification: 0.941526,Best val Acc classification:0.665984\n"
     ]
    },
    {
     "name": "stderr",
     "output_type": "stream",
     "text": [
      "Epocha train 23/100: 100%|██████████| 141/141 [00:15<00:00,  8.85it/s, acc=0.68007, gpu_memory=2.47 GB, lr=0.00885, valid_loss=0.8205]\n",
      "Epocha val 23/100: 100%|██████████| 61/61 [00:05<00:00, 10.24it/s, acc=0.71620, gpu_memory=2.47 GB, lr=0.00875, valid_loss=0.9338]\n"
     ]
    },
    {
     "name": "stdout",
     "output_type": "stream",
     "text": [
      "Best val Loss classification: 0.933759,Best val Acc classification:0.680072\n"
     ]
    },
    {
     "name": "stderr",
     "output_type": "stream",
     "text": [
      "Epocha train 24/100: 100%|██████████| 141/141 [00:14<00:00,  9.58it/s, acc=0.68135, gpu_memory=2.47 GB, lr=0.00875, valid_loss=0.7626]\n",
      "Epocha val 24/100: 100%|██████████| 61/61 [00:06<00:00, 10.12it/s, acc=0.73692, gpu_memory=2.47 GB, lr=0.00864, valid_loss=0.9082]\n"
     ]
    },
    {
     "name": "stdout",
     "output_type": "stream",
     "text": [
      "Best val Loss classification: 0.908160,Best val Acc classification:0.681352\n"
     ]
    },
    {
     "name": "stderr",
     "output_type": "stream",
     "text": [
      "Epocha train 25/100: 100%|██████████| 141/141 [00:15<00:00,  8.83it/s, acc=0.70697, gpu_memory=2.47 GB, lr=0.00864, valid_loss=0.7595]\n",
      "Epocha val 25/100: 100%|██████████| 61/61 [00:06<00:00, 10.11it/s, acc=0.73759, gpu_memory=2.47 GB, lr=0.00854, valid_loss=0.8976]\n",
      "Epocha train 26/100: 100%|██████████| 141/141 [00:14<00:00,  9.47it/s, acc=0.69416, gpu_memory=2.47 GB, lr=0.00854, valid_loss=0.7256]\n",
      "Epocha val 26/100: 100%|██████████| 61/61 [00:05<00:00, 10.42it/s, acc=0.75222, gpu_memory=2.47 GB, lr=0.00842, valid_loss=0.8858]\n",
      "Epocha train 27/100: 100%|██████████| 141/141 [00:17<00:00,  8.13it/s, acc=0.70492, gpu_memory=2.47 GB, lr=0.00842, valid_loss=0.6925]\n",
      "Epocha val 27/100: 100%|██████████| 61/61 [00:05<00:00, 10.33it/s, acc=0.75953, gpu_memory=2.47 GB, lr=0.00831, valid_loss=0.8880]\n"
     ]
    },
    {
     "name": "stdout",
     "output_type": "stream",
     "text": [
      "Best val Loss classification: 0.885801,Best val Acc classification:0.706967\n"
     ]
    },
    {
     "name": "stderr",
     "output_type": "stream",
     "text": [
      "Epocha train 28/100: 100%|██████████| 141/141 [00:15<00:00,  9.15it/s, acc=0.70953, gpu_memory=2.47 GB, lr=0.00831, valid_loss=0.6587]\n",
      "Epocha val 28/100: 100%|██████████| 61/61 [00:06<00:00,  9.84it/s, acc=0.77770, gpu_memory=2.47 GB, lr=0.00819, valid_loss=0.8555]\n"
     ]
    },
    {
     "name": "stdout",
     "output_type": "stream",
     "text": [
      "Best val Loss classification: 0.855506,Best val Acc classification:0.709529\n"
     ]
    },
    {
     "name": "stderr",
     "output_type": "stream",
     "text": [
      "Epocha train 29/100: 100%|██████████| 141/141 [00:15<00:00,  9.17it/s, acc=0.72259, gpu_memory=2.47 GB, lr=0.00819, valid_loss=0.6222]\n",
      "Epocha val 29/100: 100%|██████████| 61/61 [00:05<00:00, 10.46it/s, acc=0.78424, gpu_memory=2.47 GB, lr=0.00806, valid_loss=0.9225]\n",
      "Epocha train 30/100: 100%|██████████| 141/141 [00:14<00:00,  9.42it/s, acc=0.70441, gpu_memory=2.47 GB, lr=0.00806, valid_loss=0.6021]\n",
      "Epocha val 30/100: 100%|██████████| 61/61 [00:05<00:00, 10.23it/s, acc=0.79167, gpu_memory=2.47 GB, lr=0.00794, valid_loss=0.9076]\n",
      "Epocha train 31/100: 100%|██████████| 141/141 [00:16<00:00,  8.64it/s, acc=0.71440, gpu_memory=2.47 GB, lr=0.00794, valid_loss=0.5934]\n",
      "Epocha val 31/100: 100%|██████████| 61/61 [00:05<00:00, 10.65it/s, acc=0.79798, gpu_memory=2.47 GB, lr=0.00781, valid_loss=0.8846]\n",
      "Epocha train 32/100: 100%|██████████| 141/141 [00:16<00:00,  8.34it/s, acc=0.71901, gpu_memory=2.47 GB, lr=0.00781, valid_loss=0.5665]\n",
      "Epocha val 32/100: 100%|██████████| 61/61 [00:06<00:00,  9.56it/s, acc=0.80508, gpu_memory=2.47 GB, lr=0.00768, valid_loss=0.8729]\n",
      "Epocha train 33/100: 100%|██████████| 141/141 [00:15<00:00,  9.22it/s, acc=0.71235, gpu_memory=2.47 GB, lr=0.00768, valid_loss=0.5508]\n",
      "Epocha val 33/100: 100%|██████████| 61/61 [00:06<00:00,  9.19it/s, acc=0.81505, gpu_memory=2.47 GB, lr=0.00755, valid_loss=0.8581]\n"
     ]
    },
    {
     "name": "stdout",
     "output_type": "stream",
     "text": [
      "Best val Loss classification: 0.855506,Best val Acc classification:0.722592\n"
     ]
    },
    {
     "name": "stderr",
     "output_type": "stream",
     "text": [
      "Epocha train 34/100: 100%|██████████| 141/141 [00:16<00:00,  8.76it/s, acc=0.73540, gpu_memory=2.47 GB, lr=0.00755, valid_loss=0.5416]\n",
      "Epocha val 34/100: 100%|██████████| 61/61 [00:06<00:00,  9.85it/s, acc=0.82281, gpu_memory=2.47 GB, lr=0.00741, valid_loss=0.7950]\n"
     ]
    },
    {
     "name": "stdout",
     "output_type": "stream",
     "text": [
      "Best val Loss classification: 0.794978,Best val Acc classification:0.735400\n"
     ]
    },
    {
     "name": "stderr",
     "output_type": "stream",
     "text": [
      "Epocha train 35/100: 100%|██████████| 141/141 [00:15<00:00,  8.98it/s, acc=0.74539, gpu_memory=2.47 GB, lr=0.00741, valid_loss=0.5014]\n",
      "Epocha val 35/100: 100%|██████████| 61/61 [00:06<00:00,  9.88it/s, acc=0.82835, gpu_memory=2.47 GB, lr=0.00727, valid_loss=0.8214]\n",
      "Epocha train 36/100: 100%|██████████| 141/141 [00:15<00:00,  9.13it/s, acc=0.74027, gpu_memory=2.47 GB, lr=0.00727, valid_loss=0.4970]\n",
      "Epocha val 36/100: 100%|██████████| 61/61 [00:06<00:00,  9.68it/s, acc=0.83245, gpu_memory=2.47 GB, lr=0.00713, valid_loss=0.8528]\n",
      "Epocha train 37/100: 100%|██████████| 141/141 [00:15<00:00,  9.32it/s, acc=0.72310, gpu_memory=2.47 GB, lr=0.00713, valid_loss=0.4796]\n",
      "Epocha val 37/100: 100%|██████████| 61/61 [00:06<00:00,  9.88it/s, acc=0.83710, gpu_memory=2.47 GB, lr=0.00699, valid_loss=0.8356]\n",
      "Epocha train 38/100: 100%|██████████| 141/141 [00:15<00:00,  8.86it/s, acc=0.74436, gpu_memory=2.47 GB, lr=0.00699, valid_loss=0.4505]\n",
      "Epocha val 38/100: 100%|██████████| 61/61 [00:06<00:00,  9.14it/s, acc=0.84785, gpu_memory=2.47 GB, lr=0.00684, valid_loss=0.8163]\n"
     ]
    },
    {
     "name": "stdout",
     "output_type": "stream",
     "text": [
      "Best val Loss classification: 0.794978,Best val Acc classification:0.745389\n"
     ]
    },
    {
     "name": "stderr",
     "output_type": "stream",
     "text": [
      "Epocha train 39/100: 100%|██████████| 141/141 [00:15<00:00,  9.20it/s, acc=0.74693, gpu_memory=2.47 GB, lr=0.00684, valid_loss=0.4514]\n",
      "Epocha val 39/100: 100%|██████████| 61/61 [00:06<00:00,  9.93it/s, acc=0.84486, gpu_memory=2.47 GB, lr=0.00669, valid_loss=0.8520]\n",
      "Epocha train 40/100: 100%|██████████| 141/141 [00:16<00:00,  8.71it/s, acc=0.74257, gpu_memory=2.47 GB, lr=0.00669, valid_loss=0.4311]\n",
      "Epocha val 40/100: 100%|██████████| 61/61 [00:06<00:00,  9.74it/s, acc=0.85516, gpu_memory=2.47 GB, lr=0.00655, valid_loss=0.8730]\n",
      "Epocha train 41/100: 100%|██████████| 141/141 [00:15<00:00,  9.08it/s, acc=0.74078, gpu_memory=2.47 GB, lr=0.00655, valid_loss=0.4197]\n",
      "Epocha val 41/100: 100%|██████████| 61/61 [00:06<00:00, 10.08it/s, acc=0.85694, gpu_memory=2.47 GB, lr=0.00639, valid_loss=0.8497]\n",
      "Epocha train 42/100: 100%|██████████| 141/141 [00:14<00:00,  9.76it/s, acc=0.73822, gpu_memory=2.47 GB, lr=0.00639, valid_loss=0.4031]\n",
      "Epocha val 42/100: 100%|██████████| 61/61 [00:05<00:00, 10.26it/s, acc=0.86879, gpu_memory=2.47 GB, lr=0.00624, valid_loss=0.8881]\n",
      "Epocha train 43/100: 100%|██████████| 141/141 [00:15<00:00,  9.02it/s, acc=0.73386, gpu_memory=2.47 GB, lr=0.00624, valid_loss=0.3983]\n",
      "Epocha val 43/100: 100%|██████████| 61/61 [00:06<00:00,  8.98it/s, acc=0.86846, gpu_memory=2.47 GB, lr=0.00609, valid_loss=0.8871]\n",
      "Epocha train 44/100: 100%|██████████| 141/141 [00:15<00:00,  8.98it/s, acc=0.73617, gpu_memory=2.47 GB, lr=0.00609, valid_loss=0.3977]\n",
      "Epocha val 44/100: 100%|██████████| 61/61 [00:06<00:00,  9.67it/s, acc=0.86237, gpu_memory=2.47 GB, lr=0.00594, valid_loss=0.8061]\n"
     ]
    },
    {
     "name": "stdout",
     "output_type": "stream",
     "text": [
      "Best val Loss classification: 0.794978,Best val Acc classification:0.746926\n"
     ]
    },
    {
     "name": "stderr",
     "output_type": "stream",
     "text": [
      "Epocha train 45/100: 100%|██████████| 141/141 [00:16<00:00,  8.43it/s, acc=0.76101, gpu_memory=2.47 GB, lr=0.00594, valid_loss=0.3755]\n",
      "Epocha val 45/100: 100%|██████████| 61/61 [00:06<00:00,  9.29it/s, acc=0.87156, gpu_memory=2.47 GB, lr=0.00578, valid_loss=0.8361]\n",
      "Epocha train 46/100: 100%|██████████| 141/141 [00:15<00:00,  8.97it/s, acc=0.75102, gpu_memory=2.47 GB, lr=0.00578, valid_loss=0.3683]\n",
      "Epocha val 46/100: 100%|██████████| 61/61 [00:06<00:00, 10.04it/s, acc=0.87589, gpu_memory=2.47 GB, lr=0.00563, valid_loss=0.8155]\n",
      "Epocha train 47/100: 100%|██████████| 141/141 [00:15<00:00,  9.22it/s, acc=0.76050, gpu_memory=2.47 GB, lr=0.00563, valid_loss=0.3332]\n",
      "Epocha val 47/100: 100%|██████████| 61/61 [00:05<00:00, 10.38it/s, acc=0.88963, gpu_memory=2.47 GB, lr=0.00547, valid_loss=0.8898]\n",
      "Epocha train 48/100: 100%|██████████| 141/141 [00:16<00:00,  8.66it/s, acc=0.74821, gpu_memory=2.47 GB, lr=0.00547, valid_loss=0.3370]\n",
      "Epocha val 48/100: 100%|██████████| 61/61 [00:05<00:00, 10.40it/s, acc=0.88697, gpu_memory=2.47 GB, lr=0.00531, valid_loss=0.8660]\n",
      "Epocha train 49/100: 100%|██████████| 141/141 [00:15<00:00,  8.91it/s, acc=0.75102, gpu_memory=2.47 GB, lr=0.00531, valid_loss=0.3340]\n",
      "Epocha val 49/100: 100%|██████████| 61/61 [00:06<00:00, 10.03it/s, acc=0.88575, gpu_memory=2.47 GB, lr=0.00516, valid_loss=0.8034]\n",
      "Epocha train 50/100: 100%|██████████| 141/141 [00:15<00:00,  8.94it/s, acc=0.75922, gpu_memory=2.47 GB, lr=0.00516, valid_loss=0.3113]\n",
      "Epocha val 50/100: 100%|██████████| 61/61 [00:06<00:00,  9.68it/s, acc=0.89461, gpu_memory=2.47 GB, lr=0.00500, valid_loss=0.8528]\n",
      "Epocha train 51/100: 100%|██████████| 141/141 [00:16<00:00,  8.74it/s, acc=0.75717, gpu_memory=2.47 GB, lr=0.00500, valid_loss=0.3188]\n",
      "Epocha val 51/100: 100%|██████████| 61/61 [00:06<00:00, 10.14it/s, acc=0.89140, gpu_memory=2.47 GB, lr=0.00484, valid_loss=0.8439]\n",
      "Epocha train 52/100: 100%|██████████| 141/141 [00:15<00:00,  8.99it/s, acc=0.75435, gpu_memory=2.47 GB, lr=0.00484, valid_loss=0.3003]\n",
      "Epocha val 52/100: 100%|██████████| 61/61 [00:06<00:00,  9.49it/s, acc=0.89982, gpu_memory=2.47 GB, lr=0.00469, valid_loss=0.8073]\n"
     ]
    },
    {
     "name": "stdout",
     "output_type": "stream",
     "text": [
      "Best val Loss classification: 0.794978,Best val Acc classification:0.761014\n"
     ]
    },
    {
     "name": "stderr",
     "output_type": "stream",
     "text": [
      "Epocha train 53/100: 100%|██████████| 141/141 [00:15<00:00,  8.83it/s, acc=0.76588, gpu_memory=2.47 GB, lr=0.00469, valid_loss=0.2724]\n",
      "Epocha val 53/100: 100%|██████████| 61/61 [00:05<00:00, 10.28it/s, acc=0.90880, gpu_memory=2.47 GB, lr=0.00453, valid_loss=0.8488]\n",
      "Epocha train 54/100: 100%|██████████| 141/141 [00:15<00:00,  9.25it/s, acc=0.76562, gpu_memory=2.47 GB, lr=0.00453, valid_loss=0.2776]\n",
      "Epocha val 54/100: 100%|██████████| 61/61 [00:06<00:00,  9.93it/s, acc=0.90691, gpu_memory=2.47 GB, lr=0.00437, valid_loss=0.8836]\n",
      "Epocha train 55/100: 100%|██████████| 141/141 [00:15<00:00,  9.12it/s, acc=0.75820, gpu_memory=2.47 GB, lr=0.00437, valid_loss=0.2840]\n",
      "Epocha val 55/100: 100%|██████████| 61/61 [00:06<00:00,  9.32it/s, acc=0.90592, gpu_memory=2.47 GB, lr=0.00422, valid_loss=0.8734]\n",
      "Epocha train 56/100: 100%|██████████| 141/141 [00:15<00:00,  9.28it/s, acc=0.76434, gpu_memory=2.47 GB, lr=0.00422, valid_loss=0.2577]\n",
      "Epocha val 56/100: 100%|██████████| 61/61 [00:06<00:00,  9.90it/s, acc=0.91434, gpu_memory=2.47 GB, lr=0.00406, valid_loss=0.8794]\n",
      "Epocha train 57/100: 100%|██████████| 141/141 [00:16<00:00,  8.54it/s, acc=0.75640, gpu_memory=2.47 GB, lr=0.00406, valid_loss=0.2483]\n",
      "Epocha val 57/100: 100%|██████████| 61/61 [00:06<00:00,  9.50it/s, acc=0.91645, gpu_memory=2.47 GB, lr=0.00391, valid_loss=0.8461]\n"
     ]
    },
    {
     "name": "stdout",
     "output_type": "stream",
     "text": [
      "Best val Loss classification: 0.794978,Best val Acc classification:0.765881\n"
     ]
    },
    {
     "name": "stderr",
     "output_type": "stream",
     "text": [
      "Epocha train 58/100: 100%|██████████| 141/141 [00:15<00:00,  8.84it/s, acc=0.77203, gpu_memory=2.47 GB, lr=0.00391, valid_loss=0.2507]\n",
      "Epocha val 58/100: 100%|██████████| 61/61 [00:06<00:00,  9.50it/s, acc=0.91711, gpu_memory=2.47 GB, lr=0.00376, valid_loss=0.8610]\n",
      "Epocha train 59/100: 100%|██████████| 141/141 [00:16<00:00,  8.33it/s, acc=0.75743, gpu_memory=2.47 GB, lr=0.00376, valid_loss=0.2361]\n",
      "Epocha val 59/100: 100%|██████████| 61/61 [00:06<00:00,  9.97it/s, acc=0.91866, gpu_memory=2.47 GB, lr=0.00361, valid_loss=0.8811]\n",
      "Epocha train 60/100: 100%|██████████| 141/141 [00:15<00:00,  9.26it/s, acc=0.76153, gpu_memory=2.47 GB, lr=0.00361, valid_loss=0.2154]\n",
      "Epocha val 60/100: 100%|██████████| 61/61 [00:06<00:00,  9.94it/s, acc=0.92664, gpu_memory=2.47 GB, lr=0.00345, valid_loss=0.9131]\n",
      "Epocha train 61/100: 100%|██████████| 141/141 [00:15<00:00,  9.31it/s, acc=0.75666, gpu_memory=2.47 GB, lr=0.00345, valid_loss=0.2221]\n",
      "Epocha val 61/100: 100%|██████████| 61/61 [00:06<00:00, 10.08it/s, acc=0.92542, gpu_memory=2.47 GB, lr=0.00331, valid_loss=0.8766]\n",
      "Epocha train 62/100: 100%|██████████| 141/141 [00:15<00:00,  9.30it/s, acc=0.76409, gpu_memory=2.47 GB, lr=0.00331, valid_loss=0.2017]\n",
      "Epocha val 62/100: 100%|██████████| 61/61 [00:06<00:00,  9.53it/s, acc=0.93362, gpu_memory=2.47 GB, lr=0.00316, valid_loss=0.9072]\n",
      "Epocha train 63/100: 100%|██████████| 141/141 [00:15<00:00,  9.25it/s, acc=0.76972, gpu_memory=2.47 GB, lr=0.00316, valid_loss=0.2095]\n",
      "Epocha val 63/100: 100%|██████████| 61/61 [00:06<00:00,  9.45it/s, acc=0.93163, gpu_memory=2.47 GB, lr=0.00301, valid_loss=0.8744]\n",
      "Epocha train 64/100: 100%|██████████| 141/141 [00:15<00:00,  8.87it/s, acc=0.76562, gpu_memory=2.47 GB, lr=0.00301, valid_loss=0.1886]\n",
      "Epocha val 64/100: 100%|██████████| 61/61 [00:06<00:00,  9.97it/s, acc=0.93584, gpu_memory=2.47 GB, lr=0.00287, valid_loss=0.9043]\n",
      "Epocha train 65/100: 100%|██████████| 141/141 [00:15<00:00,  9.20it/s, acc=0.76895, gpu_memory=2.47 GB, lr=0.00287, valid_loss=0.2002]\n",
      "Epocha val 65/100: 100%|██████████| 61/61 [00:05<00:00, 10.50it/s, acc=0.93406, gpu_memory=2.47 GB, lr=0.00273, valid_loss=0.8538]\n"
     ]
    },
    {
     "name": "stdout",
     "output_type": "stream",
     "text": [
      "Best val Loss classification: 0.794978,Best val Acc classification:0.772029\n"
     ]
    },
    {
     "name": "stderr",
     "output_type": "stream",
     "text": [
      "Epocha train 66/100: 100%|██████████| 141/141 [00:15<00:00,  8.98it/s, acc=0.77715, gpu_memory=2.47 GB, lr=0.00273, valid_loss=0.1831]\n",
      "Epocha val 66/100: 100%|██████████| 61/61 [00:05<00:00, 10.26it/s, acc=0.93905, gpu_memory=2.47 GB, lr=0.00259, valid_loss=0.8826]\n"
     ]
    },
    {
     "name": "stdout",
     "output_type": "stream",
     "text": [
      "Best val Loss classification: 0.794978,Best val Acc classification:0.777152\n"
     ]
    },
    {
     "name": "stderr",
     "output_type": "stream",
     "text": [
      "Epocha train 67/100: 100%|██████████| 141/141 [00:15<00:00,  9.14it/s, acc=0.78023, gpu_memory=2.47 GB, lr=0.00259, valid_loss=0.1733]\n",
      "Epocha val 67/100: 100%|██████████| 61/61 [00:06<00:00,  9.87it/s, acc=0.94426, gpu_memory=2.47 GB, lr=0.00245, valid_loss=0.8567]\n"
     ]
    },
    {
     "name": "stdout",
     "output_type": "stream",
     "text": [
      "Best val Loss classification: 0.794978,Best val Acc classification:0.780225\n"
     ]
    },
    {
     "name": "stderr",
     "output_type": "stream",
     "text": [
      "Epocha train 68/100: 100%|██████████| 141/141 [00:16<00:00,  8.71it/s, acc=0.78458, gpu_memory=2.47 GB, lr=0.00245, valid_loss=0.1586]\n",
      "Epocha val 68/100: 100%|██████████| 61/61 [00:06<00:00, 10.07it/s, acc=0.94548, gpu_memory=2.47 GB, lr=0.00232, valid_loss=0.8979]\n",
      "Epocha train 69/100: 100%|██████████| 141/141 [00:15<00:00,  8.89it/s, acc=0.77587, gpu_memory=2.47 GB, lr=0.00232, valid_loss=0.1579]\n",
      "Epocha val 69/100: 100%|██████████| 61/61 [00:06<00:00,  9.39it/s, acc=0.94736, gpu_memory=2.47 GB, lr=0.00219, valid_loss=0.9102]\n",
      "Epocha train 70/100: 100%|██████████| 141/141 [00:15<00:00,  9.14it/s, acc=0.77536, gpu_memory=2.47 GB, lr=0.00219, valid_loss=0.1385]\n",
      "Epocha val 70/100: 100%|██████████| 61/61 [00:06<00:00,  9.79it/s, acc=0.95368, gpu_memory=2.47 GB, lr=0.00206, valid_loss=0.9327]\n",
      "Epocha train 71/100: 100%|██████████| 141/141 [00:16<00:00,  8.55it/s, acc=0.77305, gpu_memory=2.47 GB, lr=0.00206, valid_loss=0.1485]\n",
      "Epocha val 71/100: 100%|██████████| 61/61 [00:06<00:00,  9.91it/s, acc=0.94969, gpu_memory=2.47 GB, lr=0.00194, valid_loss=0.9006]\n",
      "Epocha train 72/100: 100%|██████████| 141/141 [00:15<00:00,  9.09it/s, acc=0.78151, gpu_memory=2.47 GB, lr=0.00194, valid_loss=0.1465]\n",
      "Epocha val 72/100: 100%|██████████| 61/61 [00:06<00:00, 10.07it/s, acc=0.95047, gpu_memory=2.47 GB, lr=0.00181, valid_loss=0.8945]\n",
      "Epocha train 73/100: 100%|██████████| 141/141 [00:15<00:00,  9.15it/s, acc=0.78048, gpu_memory=2.47 GB, lr=0.00181, valid_loss=0.1430]\n",
      "Epocha val 73/100: 100%|██████████| 61/61 [00:06<00:00,  9.29it/s, acc=0.95379, gpu_memory=2.47 GB, lr=0.00169, valid_loss=0.8934]\n",
      "Epocha train 74/100: 100%|██████████| 141/141 [00:15<00:00,  9.34it/s, acc=0.78304, gpu_memory=2.47 GB, lr=0.00169, valid_loss=0.1326]\n",
      "Epocha val 74/100: 100%|██████████| 61/61 [00:06<00:00,  9.91it/s, acc=0.95490, gpu_memory=2.47 GB, lr=0.00158, valid_loss=0.8999]\n",
      "Epocha train 75/100: 100%|██████████| 141/141 [00:15<00:00,  8.89it/s, acc=0.78279, gpu_memory=2.47 GB, lr=0.00158, valid_loss=0.1266]\n",
      "Epocha val 75/100: 100%|██████████| 61/61 [00:06<00:00, 10.07it/s, acc=0.95966, gpu_memory=2.47 GB, lr=0.00146, valid_loss=0.8957]\n",
      "Epocha train 76/100: 100%|██████████| 141/141 [00:16<00:00,  8.66it/s, acc=0.78227, gpu_memory=2.47 GB, lr=0.00146, valid_loss=0.1182]\n",
      "Epocha val 76/100: 100%|██████████| 61/61 [00:06<00:00, 10.11it/s, acc=0.96155, gpu_memory=2.47 GB, lr=0.00136, valid_loss=0.9425]\n",
      "Epocha train 77/100: 100%|██████████| 141/141 [00:15<00:00,  8.98it/s, acc=0.78227, gpu_memory=2.47 GB, lr=0.00136, valid_loss=0.1113]\n",
      "Epocha val 77/100: 100%|██████████| 61/61 [00:06<00:00,  9.98it/s, acc=0.96554, gpu_memory=2.47 GB, lr=0.00125, valid_loss=0.9536]\n",
      "Epocha train 78/100: 100%|██████████| 141/141 [00:15<00:00,  8.88it/s, acc=0.77690, gpu_memory=2.47 GB, lr=0.00125, valid_loss=0.1189]\n",
      "Epocha val 78/100: 100%|██████████| 61/61 [00:06<00:00, 10.00it/s, acc=0.96044, gpu_memory=2.47 GB, lr=0.00115, valid_loss=0.9060]\n"
     ]
    },
    {
     "name": "stdout",
     "output_type": "stream",
     "text": [
      "Best val Loss classification: 0.794978,Best val Acc classification:0.784580\n"
     ]
    },
    {
     "name": "stderr",
     "output_type": "stream",
     "text": [
      "Epocha train 79/100: 100%|██████████| 141/141 [00:15<00:00,  9.34it/s, acc=0.78765, gpu_memory=2.47 GB, lr=0.00115, valid_loss=0.1138]\n",
      "Epocha val 79/100: 100%|██████████| 61/61 [00:05<00:00, 10.32it/s, acc=0.96133, gpu_memory=2.47 GB, lr=0.00105, valid_loss=0.8953]\n",
      "Epocha train 80/100: 100%|██████████| 141/141 [00:15<00:00,  9.23it/s, acc=0.78509, gpu_memory=2.47 GB, lr=0.00105, valid_loss=0.1088]\n",
      "Epocha val 80/100: 100%|██████████| 61/61 [00:06<00:00,  9.99it/s, acc=0.96188, gpu_memory=2.47 GB, lr=0.00095, valid_loss=0.9068]\n",
      "Epocha train 81/100: 100%|██████████| 141/141 [00:15<00:00,  9.37it/s, acc=0.78381, gpu_memory=2.47 GB, lr=0.00095, valid_loss=0.0926]\n",
      "Epocha val 81/100: 100%|██████████| 61/61 [00:05<00:00, 10.51it/s, acc=0.96964, gpu_memory=2.47 GB, lr=0.00086, valid_loss=0.9195]\n",
      "Epocha train 82/100: 100%|██████████| 141/141 [00:16<00:00,  8.43it/s, acc=0.78765, gpu_memory=2.47 GB, lr=0.00086, valid_loss=0.0933]\n",
      "Epocha val 82/100: 100%|██████████| 61/61 [00:05<00:00, 10.58it/s, acc=0.96831, gpu_memory=2.47 GB, lr=0.00078, valid_loss=0.9381]\n",
      "Epocha train 83/100: 100%|██████████| 141/141 [00:15<00:00,  9.38it/s, acc=0.78714, gpu_memory=2.47 GB, lr=0.00078, valid_loss=0.0911]\n",
      "Epocha val 83/100: 100%|██████████| 61/61 [00:06<00:00,  9.63it/s, acc=0.96941, gpu_memory=2.47 GB, lr=0.00070, valid_loss=0.9460]\n",
      "Epocha train 84/100: 100%|██████████| 141/141 [00:14<00:00,  9.48it/s, acc=0.78330, gpu_memory=2.47 GB, lr=0.00070, valid_loss=0.0902]\n",
      "Epocha val 84/100: 100%|██████████| 61/61 [00:05<00:00, 11.15it/s, acc=0.97108, gpu_memory=2.47 GB, lr=0.00062, valid_loss=0.9535]\n"
     ]
    },
    {
     "name": "stdout",
     "output_type": "stream",
     "text": [
      "Best val Loss classification: 0.794978,Best val Acc classification:0.787654\n"
     ]
    },
    {
     "name": "stderr",
     "output_type": "stream",
     "text": [
      "Epocha train 85/100: 100%|██████████| 141/141 [00:15<00:00,  9.37it/s, acc=0.78893, gpu_memory=2.47 GB, lr=0.00062, valid_loss=0.0917]\n",
      "Epocha val 85/100: 100%|██████████| 61/61 [00:06<00:00,  9.66it/s, acc=0.97019, gpu_memory=2.47 GB, lr=0.00054, valid_loss=0.9506]\n",
      "Epocha train 86/100: 100%|██████████| 141/141 [00:14<00:00,  9.56it/s, acc=0.78176, gpu_memory=2.47 GB, lr=0.00054, valid_loss=0.0913]\n",
      "Epocha val 86/100: 100%|██████████| 61/61 [00:05<00:00, 10.24it/s, acc=0.96875, gpu_memory=2.47 GB, lr=0.00048, valid_loss=0.9310]\n",
      "Epocha train 87/100: 100%|██████████| 141/141 [00:15<00:00,  9.28it/s, acc=0.78560, gpu_memory=2.47 GB, lr=0.00048, valid_loss=0.0861]\n",
      "Epocha val 87/100: 100%|██████████| 61/61 [00:06<00:00,  9.86it/s, acc=0.97130, gpu_memory=2.47 GB, lr=0.00041, valid_loss=0.9329]\n",
      "Epocha train 88/100: 100%|██████████| 141/141 [00:15<00:00,  9.09it/s, acc=0.78791, gpu_memory=2.47 GB, lr=0.00041, valid_loss=0.0806]\n",
      "Epocha val 88/100: 100%|██████████| 61/61 [00:06<00:00,  8.92it/s, acc=0.97296, gpu_memory=2.47 GB, lr=0.00035, valid_loss=0.9441]\n"
     ]
    },
    {
     "name": "stdout",
     "output_type": "stream",
     "text": [
      "Best val Loss classification: 0.794978,Best val Acc classification:0.788934\n"
     ]
    },
    {
     "name": "stderr",
     "output_type": "stream",
     "text": [
      "Epocha train 89/100: 100%|██████████| 141/141 [00:15<00:00,  9.06it/s, acc=0.78970, gpu_memory=2.47 GB, lr=0.00035, valid_loss=0.0789]\n",
      "Epocha val 89/100: 100%|██████████| 61/61 [00:06<00:00, 10.01it/s, acc=0.97396, gpu_memory=2.47 GB, lr=0.00030, valid_loss=0.9241]\n",
      "Epocha train 90/100: 100%|██████████| 141/141 [00:15<00:00,  9.15it/s, acc=0.78893, gpu_memory=2.47 GB, lr=0.00030, valid_loss=0.0783]\n",
      "Epocha val 90/100: 100%|██████████| 61/61 [00:06<00:00,  9.79it/s, acc=0.97263, gpu_memory=2.47 GB, lr=0.00024, valid_loss=0.9394]\n"
     ]
    },
    {
     "name": "stdout",
     "output_type": "stream",
     "text": [
      "Best val Loss classification: 0.794978,Best val Acc classification:0.789703\n"
     ]
    },
    {
     "name": "stderr",
     "output_type": "stream",
     "text": [
      "Epocha train 91/100: 100%|██████████| 141/141 [00:16<00:00,  8.69it/s, acc=0.79431, gpu_memory=2.47 GB, lr=0.00024, valid_loss=0.0759]\n",
      "Epocha val 91/100: 100%|██████████| 61/61 [00:06<00:00,  9.77it/s, acc=0.97662, gpu_memory=2.47 GB, lr=0.00020, valid_loss=0.9402]\n",
      "Epocha train 92/100: 100%|██████████| 141/141 [00:16<00:00,  8.63it/s, acc=0.78202, gpu_memory=2.47 GB, lr=0.00020, valid_loss=0.0773]\n",
      "Epocha val 92/100: 100%|██████████| 61/61 [00:06<00:00,  9.86it/s, acc=0.97540, gpu_memory=2.47 GB, lr=0.00016, valid_loss=0.9240]\n",
      "Epocha train 93/100: 100%|██████████| 141/141 [00:15<00:00,  8.88it/s, acc=0.78970, gpu_memory=2.47 GB, lr=0.00016, valid_loss=0.0652]\n",
      "Epocha val 93/100: 100%|██████████| 61/61 [00:05<00:00, 10.21it/s, acc=0.97961, gpu_memory=2.47 GB, lr=0.00012, valid_loss=0.9304]\n",
      "Epocha train 94/100: 100%|██████████| 141/141 [00:15<00:00,  8.97it/s, acc=0.78868, gpu_memory=2.47 GB, lr=0.00012, valid_loss=0.0661]\n",
      "Epocha val 94/100: 100%|██████████| 61/61 [00:06<00:00,  9.92it/s, acc=0.97706, gpu_memory=2.47 GB, lr=0.00009, valid_loss=0.9380]\n",
      "Epocha train 95/100: 100%|██████████| 141/141 [00:16<00:00,  8.74it/s, acc=0.78919, gpu_memory=2.47 GB, lr=0.00009, valid_loss=0.0737]\n",
      "Epocha val 95/100: 100%|██████████| 61/61 [00:06<00:00,  9.50it/s, acc=0.97640, gpu_memory=2.47 GB, lr=0.00006, valid_loss=0.9513]\n",
      "Epocha train 96/100: 100%|██████████| 141/141 [00:15<00:00,  9.05it/s, acc=0.78970, gpu_memory=2.47 GB, lr=0.00006, valid_loss=0.0629]\n",
      "Epocha val 96/100: 100%|██████████| 61/61 [00:06<00:00,  9.46it/s, acc=0.97850, gpu_memory=2.47 GB, lr=0.00004, valid_loss=0.9483]\n",
      "Epocha train 97/100: 100%|██████████| 141/141 [00:15<00:00,  9.15it/s, acc=0.78484, gpu_memory=2.47 GB, lr=0.00004, valid_loss=0.0730]\n",
      "Epocha val 97/100: 100%|██████████| 61/61 [00:06<00:00,  8.79it/s, acc=0.97418, gpu_memory=2.47 GB, lr=0.00002, valid_loss=0.9286]\n",
      "Epocha train 98/100: 100%|██████████| 141/141 [00:15<00:00,  8.89it/s, acc=0.78919, gpu_memory=2.47 GB, lr=0.00002, valid_loss=0.0687]\n",
      "Epocha val 98/100: 100%|██████████| 61/61 [00:06<00:00,  9.91it/s, acc=0.97762, gpu_memory=2.47 GB, lr=0.00001, valid_loss=0.9344]\n"
     ]
    },
    {
     "name": "stdout",
     "output_type": "stream",
     "text": [
      "Best val Loss classification: 0.794978,Best val Acc classification:0.794314\n"
     ]
    },
    {
     "name": "stderr",
     "output_type": "stream",
     "text": [
      "Epocha train 99/100: 100%|██████████| 141/141 [00:16<00:00,  8.80it/s, acc=0.79816, gpu_memory=2.47 GB, lr=0.00001, valid_loss=0.0690]\n",
      "Epocha val 99/100: 100%|██████████| 61/61 [00:06<00:00,  9.99it/s, acc=0.97629, gpu_memory=2.47 GB, lr=0.00000, valid_loss=0.9225]\n",
      "Epocha train 100/100: 100%|██████████| 141/141 [00:15<00:00,  8.92it/s, acc=0.79073, gpu_memory=2.47 GB, lr=0.00000, valid_loss=0.0711]\n",
      "Epocha val 100/100: 100%|██████████| 61/61 [00:06<00:00,  9.65it/s, acc=0.97385, gpu_memory=2.47 GB, lr=0.00000, valid_loss=0.9106]\n"
     ]
    },
    {
     "name": "stdout",
     "output_type": "stream",
     "text": [
      "Training complete in 39m 25s\n",
      "Best val Loss classification: 0.7950 epoch 34  \n",
      "Best val Loss accuracy: 0.7982 epoch 98\n"
     ]
    },
    {
     "data": {
      "image/png": "[encoded data removed]",
      "text/plain": [
       "<Figure size 432x288 with 1 Axes>"
      ]
     },
     "metadata": {
      "needs_background": "light"
     },
     "output_type": "display_data"
    },
    {
     "data": {
      "image/png": "[encoded data removed]",
      "text/plain": [
       "<Figure size 432x288 with 1 Axes>"
      ]
     },
     "metadata": {
      "needs_background": "light"
     },
     "output_type": "display_data"
    }
   ],
   "source": [
    "model_loss, model_acc, overfit_model,best_acc = train.train(train_dirr=\"/workspace/proj/paradigma/db/imagewoof2\",                                           # Путь до папки с train or directori\n",
    "                                             val_dirr=\"/workspace/proj/paradigma/db/imagewoof2\",                                             # Путь до папки с описанием val\n",
    "                                             model_name =\"resnet18\",       \"resnet152\"                      # Название модели timm or пользовательские из кода\n",
    "                                             Dataset_name =\"imagewoof\",                            # Название Dataset (при сохранении)\n",
    "                                             metod_aug_name=\"baseline\",#\"FsAA\",                # Название metoda (при сохранении)\n",
    "                                             task_name=\"clasification\",                          # Название задачи  (при сохранении)\n",
    "                                             train_annotation='/workspace/proj/paradigma/db/imagewoof2/noisy_imagewoof.csv',                                # Путь до файла с описанием train\n",
    "                                             val_annotation='/workspace/proj/paradigma/db/imagewoof2/noisy_imagewoof.csv',                                  # Путь до файла с описанием val\n",
    "                                             N_class = 10,                                          # Количество классов в задаче\n",
    "                                             num_epochs=100,                                        # Количество эпох обучения\n",
    "                                             batch_size = 64,                                       \n",
    "                                             snp_path = '/workspace/proj/paradigma/snp/',     # Путь к папке, в которую сохранять готовые модели\n",
    "                                             pretrained = False,                                   # True - загрузить предобученную модель\n",
    "                                             SIZE = 224,                                           # Размер входа (SIZE*SIZE)\n",
    "                                             lr=0.01,                                        # Коэффициент скорости обучения (Learning rate)\n",
    "                                             momentum=0.9,                                        # коэфицент сохранения момента\n",
    "                                             rootAA=\"/workspace/proj/autoalbument/examples/imageWoof/resnet50/outputs/2022-08-01/21-18-39/policy/latest.json\")"
   ]
  },
  {
   "cell_type": "code",
   "execution_count": 9,
   "id": "dfce7dea",
   "metadata": {
    "scrolled": true
   },
   "outputs": [
    {
     "name": "stdout",
     "output_type": "stream",
     "text": [
      "/workspace/proj/paradigma/snp/imagewoof/resnet18/baseline/08_09_2022/11_26_40/\n"
     ]
    },
    {
     "name": "stderr",
     "output_type": "stream",
     "text": [
      "Epocha train 1/100: 100%|██████████| 141/141 [00:15<00:00,  9.33it/s, acc=0.00000, gpu_memory=2.47 GB, lr=0.00100, valid_loss=2.1583]\n",
      "Epocha val 1/100: 100%|██████████| 61/61 [00:05<00:00, 10.31it/s, acc=0.19681, gpu_memory=2.47 GB, lr=0.00100, valid_loss=2.0701]\n"
     ]
    },
    {
     "name": "stdout",
     "output_type": "stream",
     "text": [
      "Best val Loss classification: 2.070075,Best val Acc classification:0.000000\n"
     ]
    },
    {
     "name": "stderr",
     "output_type": "stream",
     "text": [
      "Epocha train 2/100: 100%|██████████| 141/141 [00:15<00:00,  9.40it/s, acc=0.23053, gpu_memory=2.47 GB, lr=0.00100, valid_loss=2.0116]\n",
      "Epocha val 2/100: 100%|██████████| 61/61 [00:05<00:00, 10.84it/s, acc=0.26208, gpu_memory=2.47 GB, lr=0.00100, valid_loss=1.9012]\n"
     ]
    },
    {
     "name": "stdout",
     "output_type": "stream",
     "text": [
      "Best val Loss classification: 1.901178,Best val Acc classification:0.230533\n"
     ]
    },
    {
     "name": "stderr",
     "output_type": "stream",
     "text": [
      "Epocha train 3/100: 100%|██████████| 141/141 [00:14<00:00,  9.91it/s, acc=0.31942, gpu_memory=2.47 GB, lr=0.00100, valid_loss=1.8645]\n",
      "Epocha val 3/100: 100%|██████████| 61/61 [00:05<00:00, 11.03it/s, acc=0.32170, gpu_memory=2.47 GB, lr=0.00100, valid_loss=1.7544]\n"
     ]
    },
    {
     "name": "stdout",
     "output_type": "stream",
     "text": [
      "Best val Loss classification: 1.754410,Best val Acc classification:0.319416\n"
     ]
    },
    {
     "name": "stderr",
     "output_type": "stream",
     "text": [
      "Epocha train 4/100: 100%|██████████| 141/141 [00:14<00:00,  9.73it/s, acc=0.36783, gpu_memory=2.47 GB, lr=0.00100, valid_loss=1.7612]\n",
      "Epocha val 4/100: 100%|██████████| 61/61 [00:06<00:00,  9.34it/s, acc=0.35672, gpu_memory=2.47 GB, lr=0.00100, valid_loss=1.6548]\n"
     ]
    },
    {
     "name": "stdout",
     "output_type": "stream",
     "text": [
      "Best val Loss classification: 1.654843,Best val Acc classification:0.367828\n"
     ]
    },
    {
     "name": "stderr",
     "output_type": "stream",
     "text": [
      "Epocha train 5/100: 100%|██████████| 141/141 [00:14<00:00,  9.79it/s, acc=0.40138, gpu_memory=2.47 GB, lr=0.00100, valid_loss=1.6829]\n",
      "Epocha val 5/100: 100%|██████████| 61/61 [00:05<00:00, 10.26it/s, acc=0.39838, gpu_memory=2.47 GB, lr=0.00099, valid_loss=1.5808]\n"
     ]
    },
    {
     "name": "stdout",
     "output_type": "stream",
     "text": [
      "Best val Loss classification: 1.580814,Best val Acc classification:0.401383\n"
     ]
    },
    {
     "name": "stderr",
     "output_type": "stream",
     "text": [
      "Epocha train 6/100: 100%|██████████| 141/141 [00:14<00:00,  9.62it/s, acc=0.43545, gpu_memory=2.47 GB, lr=0.00099, valid_loss=1.5971]\n",
      "Epocha val 6/100: 100%|██████████| 61/61 [00:05<00:00, 10.57it/s, acc=0.42653, gpu_memory=2.47 GB, lr=0.00099, valid_loss=1.5568]\n"
     ]
    },
    {
     "name": "stdout",
     "output_type": "stream",
     "text": [
      "Best val Loss classification: 1.556818,Best val Acc classification:0.435451\n"
     ]
    },
    {
     "name": "stderr",
     "output_type": "stream",
     "text": [
      "Epocha train 7/100: 100%|██████████| 141/141 [00:15<00:00,  9.36it/s, acc=0.45261, gpu_memory=2.47 GB, lr=0.00099, valid_loss=1.5533]\n",
      "Epocha val 7/100: 100%|██████████| 61/61 [00:06<00:00, 10.02it/s, acc=0.44648, gpu_memory=2.47 GB, lr=0.00099, valid_loss=1.4401]\n"
     ]
    },
    {
     "name": "stdout",
     "output_type": "stream",
     "text": [
      "Best val Loss classification: 1.440073,Best val Acc classification:0.452613\n"
     ]
    },
    {
     "name": "stderr",
     "output_type": "stream",
     "text": [
      "Epocha train 8/100: 100%|██████████| 141/141 [00:15<00:00,  8.83it/s, acc=0.49283, gpu_memory=2.47 GB, lr=0.00099, valid_loss=1.4810]\n",
      "Epocha val 8/100: 100%|██████████| 61/61 [00:06<00:00,  9.80it/s, acc=0.46831, gpu_memory=2.47 GB, lr=0.00098, valid_loss=1.3849]\n"
     ]
    },
    {
     "name": "stdout",
     "output_type": "stream",
     "text": [
      "Best val Loss classification: 1.384918,Best val Acc classification:0.492828\n"
     ]
    },
    {
     "name": "stderr",
     "output_type": "stream",
     "text": [
      "Epocha train 9/100: 100%|██████████| 141/141 [00:14<00:00,  9.54it/s, acc=0.50282, gpu_memory=2.47 GB, lr=0.00098, valid_loss=1.4379]\n",
      "Epocha val 9/100: 100%|██████████| 61/61 [00:06<00:00, 10.01it/s, acc=0.49169, gpu_memory=2.47 GB, lr=0.00098, valid_loss=1.3770]\n"
     ]
    },
    {
     "name": "stdout",
     "output_type": "stream",
     "text": [
      "Best val Loss classification: 1.377020,Best val Acc classification:0.502818\n"
     ]
    },
    {
     "name": "stderr",
     "output_type": "stream",
     "text": [
      "Epocha train 10/100: 100%|██████████| 141/141 [00:14<00:00,  9.53it/s, acc=0.51255, gpu_memory=2.47 GB, lr=0.00098, valid_loss=1.3890]\n",
      "Epocha val 10/100: 100%|██████████| 61/61 [00:05<00:00, 10.23it/s, acc=0.49867, gpu_memory=2.47 GB, lr=0.00098, valid_loss=1.3232]\n"
     ]
    },
    {
     "name": "stdout",
     "output_type": "stream",
     "text": [
      "Best val Loss classification: 1.323238,Best val Acc classification:0.512551\n"
     ]
    },
    {
     "name": "stderr",
     "output_type": "stream",
     "text": [
      "Epocha train 11/100: 100%|██████████| 141/141 [00:14<00:00,  9.41it/s, acc=0.52408, gpu_memory=2.47 GB, lr=0.00098, valid_loss=1.3325]\n",
      "Epocha val 11/100: 100%|██████████| 61/61 [00:05<00:00, 10.62it/s, acc=0.52493, gpu_memory=2.47 GB, lr=0.00097, valid_loss=1.2537]\n"
     ]
    },
    {
     "name": "stdout",
     "output_type": "stream",
     "text": [
      "Best val Loss classification: 1.253696,Best val Acc classification:0.524078\n"
     ]
    },
    {
     "name": "stderr",
     "output_type": "stream",
     "text": [
      "Epocha train 12/100: 100%|██████████| 141/141 [00:14<00:00,  9.53it/s, acc=0.55507, gpu_memory=2.47 GB, lr=0.00097, valid_loss=1.2747]\n",
      "Epocha val 12/100: 100%|██████████| 61/61 [00:05<00:00, 10.72it/s, acc=0.54776, gpu_memory=2.47 GB, lr=0.00096, valid_loss=1.2468]\n"
     ]
    },
    {
     "name": "stdout",
     "output_type": "stream",
     "text": [
      "Best val Loss classification: 1.246772,Best val Acc classification:0.555072\n"
     ]
    },
    {
     "name": "stderr",
     "output_type": "stream",
     "text": [
      "Epocha train 13/100: 100%|██████████| 141/141 [00:14<00:00,  9.61it/s, acc=0.57351, gpu_memory=2.47 GB, lr=0.00096, valid_loss=1.2357]\n",
      "Epocha val 13/100: 100%|██████████| 61/61 [00:05<00:00, 10.80it/s, acc=0.56361, gpu_memory=2.47 GB, lr=0.00096, valid_loss=1.1721]\n"
     ]
    },
    {
     "name": "stdout",
     "output_type": "stream",
     "text": [
      "Best val Loss classification: 1.172133,Best val Acc classification:0.573514\n"
     ]
    },
    {
     "name": "stderr",
     "output_type": "stream",
     "text": [
      "Epocha train 14/100: 100%|██████████| 141/141 [00:15<00:00,  8.87it/s, acc=0.58248, gpu_memory=2.47 GB, lr=0.00096, valid_loss=1.1975]\n",
      "Epocha val 14/100: 100%|██████████| 61/61 [00:05<00:00, 10.68it/s, acc=0.57824, gpu_memory=2.47 GB, lr=0.00095, valid_loss=1.1226]\n"
     ]
    },
    {
     "name": "stdout",
     "output_type": "stream",
     "text": [
      "Best val Loss classification: 1.122563,Best val Acc classification:0.582480\n"
     ]
    },
    {
     "name": "stderr",
     "output_type": "stream",
     "text": [
      "Epocha train 15/100: 100%|██████████| 141/141 [00:14<00:00,  9.57it/s, acc=0.61962, gpu_memory=2.47 GB, lr=0.00095, valid_loss=1.1399]\n",
      "Epocha val 15/100: 100%|██████████| 61/61 [00:05<00:00, 10.65it/s, acc=0.59852, gpu_memory=2.47 GB, lr=0.00095, valid_loss=1.1384]\n",
      "Epocha train 16/100: 100%|██████████| 141/141 [00:14<00:00,  9.61it/s, acc=0.60605, gpu_memory=2.47 GB, lr=0.00095, valid_loss=1.1146]\n",
      "Epocha val 16/100: 100%|██████████| 61/61 [00:05<00:00, 10.52it/s, acc=0.60949, gpu_memory=2.47 GB, lr=0.00094, valid_loss=1.1035]\n"
     ]
    },
    {
     "name": "stdout",
     "output_type": "stream",
     "text": [
      "Best val Loss classification: 1.103494,Best val Acc classification:0.619621\n"
     ]
    },
    {
     "name": "stderr",
     "output_type": "stream",
     "text": [
      "Epocha train 17/100: 100%|██████████| 141/141 [00:14<00:00,  9.81it/s, acc=0.62244, gpu_memory=2.47 GB, lr=0.00094, valid_loss=1.0646]\n",
      "Epocha val 17/100: 100%|██████████| 61/61 [00:05<00:00, 10.42it/s, acc=0.62766, gpu_memory=2.47 GB, lr=0.00093, valid_loss=1.0710]\n"
     ]
    },
    {
     "name": "stdout",
     "output_type": "stream",
     "text": [
      "Best val Loss classification: 1.070954,Best val Acc classification:0.622439\n"
     ]
    },
    {
     "name": "stderr",
     "output_type": "stream",
     "text": [
      "Epocha train 18/100: 100%|██████████| 141/141 [00:14<00:00,  9.71it/s, acc=0.62679, gpu_memory=2.47 GB, lr=0.00093, valid_loss=1.0227]\n",
      "Epocha val 18/100: 100%|██████████| 61/61 [00:05<00:00, 10.52it/s, acc=0.63907, gpu_memory=2.47 GB, lr=0.00092, valid_loss=1.0405]\n"
     ]
    },
    {
     "name": "stdout",
     "output_type": "stream",
     "text": [
      "Best val Loss classification: 1.040489,Best val Acc classification:0.626793\n"
     ]
    },
    {
     "name": "stderr",
     "output_type": "stream",
     "text": [
      "Epocha train 19/100: 100%|██████████| 141/141 [00:14<00:00,  9.69it/s, acc=0.63909, gpu_memory=2.47 GB, lr=0.00092, valid_loss=0.9782]\n",
      "Epocha val 19/100: 100%|██████████| 61/61 [00:05<00:00, 10.54it/s, acc=0.65847, gpu_memory=2.47 GB, lr=0.00091, valid_loss=1.0060]\n"
     ]
    },
    {
     "name": "stdout",
     "output_type": "stream",
     "text": [
      "Best val Loss classification: 1.005957,Best val Acc classification:0.639088\n"
     ]
    },
    {
     "name": "stderr",
     "output_type": "stream",
     "text": [
      "Epocha train 20/100: 100%|██████████| 141/141 [00:15<00:00,  9.30it/s, acc=0.64395, gpu_memory=2.47 GB, lr=0.00091, valid_loss=0.9511]\n",
      "Epocha val 20/100: 100%|██████████| 61/61 [00:05<00:00, 10.40it/s, acc=0.66833, gpu_memory=2.47 GB, lr=0.00090, valid_loss=0.9797]\n"
     ]
    },
    {
     "name": "stdout",
     "output_type": "stream",
     "text": [
      "Best val Loss classification: 0.979722,Best val Acc classification:0.643955\n"
     ]
    },
    {
     "name": "stderr",
     "output_type": "stream",
     "text": [
      "Epocha train 21/100: 100%|██████████| 141/141 [00:14<00:00,  9.58it/s, acc=0.66675, gpu_memory=2.47 GB, lr=0.00090, valid_loss=0.9089]\n",
      "Epocha val 21/100: 100%|██████████| 61/61 [00:05<00:00, 10.58it/s, acc=0.68318, gpu_memory=2.47 GB, lr=0.00090, valid_loss=0.9676]\n"
     ]
    },
    {
     "name": "stdout",
     "output_type": "stream",
     "text": [
      "Best val Loss classification: 0.967609,Best val Acc classification:0.666752\n"
     ]
    },
    {
     "name": "stderr",
     "output_type": "stream",
     "text": [
      "Epocha train 22/100: 100%|██████████| 141/141 [00:14<00:00,  9.65it/s, acc=0.67879, gpu_memory=2.47 GB, lr=0.00090, valid_loss=0.8760]\n",
      "Epocha val 22/100: 100%|██████████| 61/61 [00:05<00:00, 10.44it/s, acc=0.69548, gpu_memory=2.47 GB, lr=0.00089, valid_loss=0.9666]\n",
      "Epocha train 23/100: 100%|██████████| 141/141 [00:14<00:00,  9.67it/s, acc=0.66060, gpu_memory=2.47 GB, lr=0.00089, valid_loss=0.8403]\n",
      "Epocha val 23/100: 100%|██████████| 61/61 [00:05<00:00, 10.57it/s, acc=0.71243, gpu_memory=2.47 GB, lr=0.00088, valid_loss=0.9557]\n",
      "Epocha train 24/100: 100%|██████████| 141/141 [00:14<00:00,  9.70it/s, acc=0.67111, gpu_memory=2.47 GB, lr=0.00088, valid_loss=0.8140]\n",
      "Epocha val 24/100: 100%|██████████| 61/61 [00:05<00:00, 10.66it/s, acc=0.71875, gpu_memory=2.47 GB, lr=0.00086, valid_loss=0.9339]\n"
     ]
    },
    {
     "name": "stdout",
     "output_type": "stream",
     "text": [
      "Best val Loss classification: 0.933948,Best val Acc classification:0.678791\n"
     ]
    },
    {
     "name": "stderr",
     "output_type": "stream",
     "text": [
      "Epocha train 25/100: 100%|██████████| 141/141 [00:14<00:00,  9.51it/s, acc=0.69006, gpu_memory=2.47 GB, lr=0.00086, valid_loss=0.7892]\n",
      "Epocha val 25/100: 100%|██████████| 61/61 [00:05<00:00, 10.52it/s, acc=0.73149, gpu_memory=2.47 GB, lr=0.00085, valid_loss=0.8888]\n"
     ]
    },
    {
     "name": "stdout",
     "output_type": "stream",
     "text": [
      "Best val Loss classification: 0.888800,Best val Acc classification:0.690061\n"
     ]
    },
    {
     "name": "stderr",
     "output_type": "stream",
     "text": [
      "Epocha train 26/100: 100%|██████████| 141/141 [00:15<00:00,  9.12it/s, acc=0.70210, gpu_memory=2.47 GB, lr=0.00085, valid_loss=0.7489]\n",
      "Epocha val 26/100: 100%|██████████| 61/61 [00:05<00:00, 10.31it/s, acc=0.73825, gpu_memory=2.47 GB, lr=0.00084, valid_loss=0.8654]\n"
     ]
    },
    {
     "name": "stdout",
     "output_type": "stream",
     "text": [
      "Best val Loss classification: 0.865434,Best val Acc classification:0.702100\n"
     ]
    },
    {
     "name": "stderr",
     "output_type": "stream",
     "text": [
      "Epocha train 27/100: 100%|██████████| 141/141 [00:14<00:00,  9.52it/s, acc=0.71388, gpu_memory=2.47 GB, lr=0.00084, valid_loss=0.7028]\n",
      "Epocha val 27/100: 100%|██████████| 61/61 [00:05<00:00, 10.55it/s, acc=0.75798, gpu_memory=2.47 GB, lr=0.00083, valid_loss=0.8737]\n"
     ]
    },
    {
     "name": "stdout",
     "output_type": "stream",
     "text": [
      "Best val Loss classification: 0.865434,Best val Acc classification:0.713883\n"
     ]
    },
    {
     "name": "stderr",
     "output_type": "stream",
     "text": [
      "Epocha train 28/100: 100%|██████████| 141/141 [00:14<00:00,  9.51it/s, acc=0.71440, gpu_memory=2.47 GB, lr=0.00083, valid_loss=0.6896]\n",
      "Epocha val 28/100: 100%|██████████| 61/61 [00:06<00:00,  9.88it/s, acc=0.76252, gpu_memory=2.47 GB, lr=0.00082, valid_loss=0.8479]\n"
     ]
    },
    {
     "name": "stdout",
     "output_type": "stream",
     "text": [
      "Best val Loss classification: 0.847897,Best val Acc classification:0.714395\n"
     ]
    },
    {
     "name": "stderr",
     "output_type": "stream",
     "text": [
      "Epocha train 29/100: 100%|██████████| 141/141 [00:14<00:00,  9.62it/s, acc=0.71644, gpu_memory=2.47 GB, lr=0.00082, valid_loss=0.6664]\n",
      "Epocha val 29/100: 100%|██████████| 61/61 [00:06<00:00,  8.77it/s, acc=0.77227, gpu_memory=2.47 GB, lr=0.00081, valid_loss=0.8542]\n",
      "Epocha train 30/100: 100%|██████████| 141/141 [00:14<00:00,  9.44it/s, acc=0.71644, gpu_memory=2.47 GB, lr=0.00081, valid_loss=0.6424]\n",
      "Epocha val 30/100: 100%|██████████| 61/61 [00:05<00:00, 10.44it/s, acc=0.77892, gpu_memory=2.47 GB, lr=0.00079, valid_loss=0.8473]\n"
     ]
    },
    {
     "name": "stdout",
     "output_type": "stream",
     "text": [
      "Best val Loss classification: 0.847273,Best val Acc classification:0.716445\n"
     ]
    },
    {
     "name": "stderr",
     "output_type": "stream",
     "text": [
      "Epocha train 31/100: 100%|██████████| 141/141 [00:14<00:00,  9.73it/s, acc=0.72080, gpu_memory=2.47 GB, lr=0.00079, valid_loss=0.6030]\n",
      "Epocha val 31/100: 100%|██████████| 61/61 [00:05<00:00, 10.41it/s, acc=0.79555, gpu_memory=2.47 GB, lr=0.00078, valid_loss=0.8443]\n"
     ]
    },
    {
     "name": "stdout",
     "output_type": "stream",
     "text": [
      "Best val Loss classification: 0.844261,Best val Acc classification:0.720799\n"
     ]
    },
    {
     "name": "stderr",
     "output_type": "stream",
     "text": [
      "Epocha train 32/100: 100%|██████████| 141/141 [00:15<00:00,  9.32it/s, acc=0.72362, gpu_memory=2.47 GB, lr=0.00078, valid_loss=0.5949]\n",
      "Epocha val 32/100: 100%|██████████| 61/61 [00:06<00:00,  9.54it/s, acc=0.79410, gpu_memory=2.47 GB, lr=0.00077, valid_loss=0.8402]\n"
     ]
    },
    {
     "name": "stdout",
     "output_type": "stream",
     "text": [
      "Best val Loss classification: 0.840237,Best val Acc classification:0.723617\n"
     ]
    },
    {
     "name": "stderr",
     "output_type": "stream",
     "text": [
      "Epocha train 33/100: 100%|██████████| 141/141 [00:17<00:00,  8.08it/s, acc=0.72900, gpu_memory=2.47 GB, lr=0.00077, valid_loss=0.5709]\n",
      "Epocha val 33/100: 100%|██████████| 61/61 [00:05<00:00, 10.64it/s, acc=0.80773, gpu_memory=2.47 GB, lr=0.00075, valid_loss=0.8495]\n",
      "Epocha train 34/100: 100%|██████████| 141/141 [00:14<00:00,  9.53it/s, acc=0.72669, gpu_memory=2.47 GB, lr=0.00075, valid_loss=0.5576]\n",
      "Epocha val 34/100: 100%|██████████| 61/61 [00:05<00:00, 10.41it/s, acc=0.81006, gpu_memory=2.47 GB, lr=0.00074, valid_loss=0.8327]\n",
      "Epocha train 35/100: 100%|██████████| 141/141 [00:14<00:00,  9.53it/s, acc=0.72720, gpu_memory=2.47 GB, lr=0.00074, valid_loss=0.5311]\n",
      "Epocha val 35/100: 100%|██████████| 61/61 [00:05<00:00, 10.28it/s, acc=0.81649, gpu_memory=2.47 GB, lr=0.00073, valid_loss=0.8371]\n"
     ]
    },
    {
     "name": "stdout",
     "output_type": "stream",
     "text": [
      "Best val Loss classification: 0.832704,Best val Acc classification:0.728996\n"
     ]
    },
    {
     "name": "stderr",
     "output_type": "stream",
     "text": [
      "Epocha train 36/100: 100%|██████████| 141/141 [00:14<00:00,  9.50it/s, acc=0.73053, gpu_memory=2.47 GB, lr=0.00073, valid_loss=0.4903]\n",
      "Epocha val 36/100: 100%|██████████| 61/61 [00:05<00:00, 10.31it/s, acc=0.83577, gpu_memory=2.47 GB, lr=0.00071, valid_loss=0.8174]\n"
     ]
    },
    {
     "name": "stdout",
     "output_type": "stream",
     "text": [
      "Best val Loss classification: 0.817375,Best val Acc classification:0.730533\n"
     ]
    },
    {
     "name": "stderr",
     "output_type": "stream",
     "text": [
      "Epocha train 37/100: 100%|██████████| 141/141 [00:14<00:00,  9.44it/s, acc=0.74308, gpu_memory=2.47 GB, lr=0.00071, valid_loss=0.4933]\n",
      "Epocha val 37/100: 100%|██████████| 61/61 [00:05<00:00, 10.68it/s, acc=0.82879, gpu_memory=2.47 GB, lr=0.00070, valid_loss=0.7692]\n"
     ]
    },
    {
     "name": "stdout",
     "output_type": "stream",
     "text": [
      "Best val Loss classification: 0.769216,Best val Acc classification:0.743084\n"
     ]
    },
    {
     "name": "stderr",
     "output_type": "stream",
     "text": [
      "Epocha train 38/100: 100%|██████████| 141/141 [00:15<00:00,  9.25it/s, acc=0.75179, gpu_memory=2.47 GB, lr=0.00070, valid_loss=0.4798]\n",
      "Epocha val 38/100: 100%|██████████| 61/61 [00:06<00:00,  9.87it/s, acc=0.83954, gpu_memory=2.47 GB, lr=0.00068, valid_loss=0.8217]\n",
      "Epocha train 39/100: 100%|██████████| 141/141 [00:14<00:00,  9.69it/s, acc=0.74001, gpu_memory=2.47 GB, lr=0.00068, valid_loss=0.4484]\n",
      "Epocha val 39/100: 100%|██████████| 61/61 [00:05<00:00, 10.53it/s, acc=0.84996, gpu_memory=2.47 GB, lr=0.00067, valid_loss=0.8375]\n",
      "Epocha train 40/100: 100%|██████████| 141/141 [00:15<00:00,  9.35it/s, acc=0.73514, gpu_memory=2.47 GB, lr=0.00067, valid_loss=0.4605]\n",
      "Epocha val 40/100: 100%|██████████| 61/61 [00:05<00:00, 10.45it/s, acc=0.83976, gpu_memory=2.47 GB, lr=0.00065, valid_loss=0.8018]\n",
      "Epocha train 41/100: 100%|██████████| 141/141 [00:15<00:00,  9.35it/s, acc=0.74360, gpu_memory=2.47 GB, lr=0.00065, valid_loss=0.4295]\n",
      "Epocha val 41/100: 100%|██████████| 61/61 [00:05<00:00, 10.34it/s, acc=0.85051, gpu_memory=2.47 GB, lr=0.00064, valid_loss=0.8166]\n",
      "Epocha train 42/100: 100%|██████████| 141/141 [00:14<00:00,  9.56it/s, acc=0.74718, gpu_memory=2.47 GB, lr=0.00064, valid_loss=0.4168]\n",
      "Epocha val 42/100: 100%|██████████| 61/61 [00:05<00:00, 10.22it/s, acc=0.85926, gpu_memory=2.47 GB, lr=0.00062, valid_loss=0.8099]\n",
      "Epocha train 43/100: 100%|██████████| 141/141 [00:14<00:00,  9.54it/s, acc=0.75154, gpu_memory=2.47 GB, lr=0.00062, valid_loss=0.4035]\n",
      "Epocha val 43/100: 100%|██████████| 61/61 [00:06<00:00, 10.12it/s, acc=0.86503, gpu_memory=2.47 GB, lr=0.00061, valid_loss=0.8059]\n",
      "Epocha train 44/100: 100%|██████████| 141/141 [00:14<00:00,  9.74it/s, acc=0.75154, gpu_memory=2.47 GB, lr=0.00061, valid_loss=0.4059]\n",
      "Epocha val 44/100: 100%|██████████| 61/61 [00:06<00:00,  9.37it/s, acc=0.86591, gpu_memory=2.47 GB, lr=0.00059, valid_loss=0.8081]\n"
     ]
    },
    {
     "name": "stdout",
     "output_type": "stream",
     "text": [
      "Best val Loss classification: 0.769216,Best val Acc classification:0.751793\n"
     ]
    },
    {
     "name": "stderr",
     "output_type": "stream",
     "text": [
      "Epocha train 45/100: 100%|██████████| 141/141 [00:14<00:00,  9.44it/s, acc=0.75256, gpu_memory=2.47 GB, lr=0.00059, valid_loss=0.3805]\n",
      "Epocha val 45/100: 100%|██████████| 61/61 [00:05<00:00, 10.30it/s, acc=0.87212, gpu_memory=2.47 GB, lr=0.00058, valid_loss=0.8167]\n",
      "Epocha train 46/100: 100%|██████████| 141/141 [00:15<00:00,  9.17it/s, acc=0.74846, gpu_memory=2.47 GB, lr=0.00058, valid_loss=0.3704]\n",
      "Epocha val 46/100: 100%|██████████| 61/61 [00:06<00:00,  8.76it/s, acc=0.87699, gpu_memory=2.47 GB, lr=0.00056, valid_loss=0.8464]\n",
      "Epocha train 47/100: 100%|██████████| 141/141 [00:14<00:00,  9.65it/s, acc=0.74974, gpu_memory=2.47 GB, lr=0.00056, valid_loss=0.3667]\n",
      "Epocha val 47/100: 100%|██████████| 61/61 [00:05<00:00, 10.72it/s, acc=0.87988, gpu_memory=2.47 GB, lr=0.00055, valid_loss=0.8499]\n",
      "Epocha train 48/100: 100%|██████████| 141/141 [00:16<00:00,  8.35it/s, acc=0.74334, gpu_memory=2.47 GB, lr=0.00055, valid_loss=0.3480]\n",
      "Epocha val 48/100: 100%|██████████| 61/61 [00:05<00:00, 10.17it/s, acc=0.88220, gpu_memory=2.47 GB, lr=0.00053, valid_loss=0.8168]\n"
     ]
    },
    {
     "name": "stdout",
     "output_type": "stream",
     "text": [
      "Best val Loss classification: 0.769216,Best val Acc classification:0.752561\n"
     ]
    },
    {
     "name": "stderr",
     "output_type": "stream",
     "text": [
      "Epocha train 49/100: 100%|██████████| 141/141 [00:14<00:00,  9.69it/s, acc=0.75487, gpu_memory=2.47 GB, lr=0.00053, valid_loss=0.3439]\n",
      "Epocha val 49/100: 100%|██████████| 61/61 [00:05<00:00, 10.51it/s, acc=0.88508, gpu_memory=2.47 GB, lr=0.00052, valid_loss=0.8377]\n",
      "Epocha train 50/100: 100%|██████████| 141/141 [00:14<00:00,  9.50it/s, acc=0.75102, gpu_memory=2.47 GB, lr=0.00052, valid_loss=0.3327]\n",
      "Epocha val 50/100: 100%|██████████| 61/61 [00:06<00:00,  9.51it/s, acc=0.88630, gpu_memory=2.47 GB, lr=0.00050, valid_loss=0.7944]\n"
     ]
    },
    {
     "name": "stdout",
     "output_type": "stream",
     "text": [
      "Best val Loss classification: 0.769216,Best val Acc classification:0.754867\n"
     ]
    },
    {
     "name": "stderr",
     "output_type": "stream",
     "text": [
      "Epocha train 51/100: 100%|██████████| 141/141 [00:14<00:00,  9.58it/s, acc=0.76204, gpu_memory=2.47 GB, lr=0.00050, valid_loss=0.3221]\n",
      "Epocha val 51/100: 100%|██████████| 61/61 [00:05<00:00, 10.77it/s, acc=0.89218, gpu_memory=2.47 GB, lr=0.00048, valid_loss=0.8298]\n",
      "Epocha train 52/100: 100%|██████████| 141/141 [00:14<00:00,  9.56it/s, acc=0.75179, gpu_memory=2.47 GB, lr=0.00048, valid_loss=0.3050]\n",
      "Epocha val 52/100: 100%|██████████| 61/61 [00:05<00:00, 10.39it/s, acc=0.90016, gpu_memory=2.47 GB, lr=0.00047, valid_loss=0.8422]\n",
      "Epocha train 53/100: 100%|██████████| 141/141 [00:14<00:00,  9.79it/s, acc=0.76076, gpu_memory=2.47 GB, lr=0.00047, valid_loss=0.2972]\n",
      "Epocha val 53/100: 100%|██████████| 61/61 [00:05<00:00, 10.92it/s, acc=0.90093, gpu_memory=2.47 GB, lr=0.00045, valid_loss=0.8089]\n"
     ]
    },
    {
     "name": "stdout",
     "output_type": "stream",
     "text": [
      "Best val Loss classification: 0.769216,Best val Acc classification:0.762039\n"
     ]
    },
    {
     "name": "stderr",
     "output_type": "stream",
     "text": [
      "Epocha train 54/100: 100%|██████████| 141/141 [00:18<00:00,  7.75it/s, acc=0.76358, gpu_memory=2.47 GB, lr=0.00045, valid_loss=0.2917]\n",
      "Epocha val 54/100: 100%|██████████| 61/61 [00:05<00:00, 10.46it/s, acc=0.90293, gpu_memory=2.47 GB, lr=0.00044, valid_loss=0.8425]\n",
      "Epocha train 55/100: 100%|██████████| 141/141 [00:14<00:00,  9.56it/s, acc=0.75461, gpu_memory=2.47 GB, lr=0.00044, valid_loss=0.2872]\n",
      "Epocha val 55/100: 100%|██████████| 61/61 [00:05<00:00, 10.67it/s, acc=0.90570, gpu_memory=2.47 GB, lr=0.00042, valid_loss=0.8221]\n",
      "Epocha train 56/100: 100%|██████████| 141/141 [00:14<00:00,  9.55it/s, acc=0.76127, gpu_memory=2.47 GB, lr=0.00042, valid_loss=0.2773]\n",
      "Epocha val 56/100: 100%|██████████| 61/61 [00:06<00:00,  9.61it/s, acc=0.90669, gpu_memory=2.47 GB, lr=0.00041, valid_loss=0.8194]\n",
      "Epocha train 57/100: 100%|██████████| 141/141 [00:15<00:00,  9.20it/s, acc=0.76127, gpu_memory=2.47 GB, lr=0.00041, valid_loss=0.2603]\n",
      "Epocha val 57/100: 100%|██████████| 61/61 [00:05<00:00, 10.75it/s, acc=0.91645, gpu_memory=2.47 GB, lr=0.00039, valid_loss=0.8044]\n"
     ]
    },
    {
     "name": "stdout",
     "output_type": "stream",
     "text": [
      "Best val Loss classification: 0.769216,Best val Acc classification:0.763576\n"
     ]
    },
    {
     "name": "stderr",
     "output_type": "stream",
     "text": [
      "Epocha train 58/100: 100%|██████████| 141/141 [00:14<00:00,  9.53it/s, acc=0.76742, gpu_memory=2.47 GB, lr=0.00039, valid_loss=0.2575]\n",
      "Epocha val 58/100: 100%|██████████| 61/61 [00:05<00:00, 10.33it/s, acc=0.91656, gpu_memory=2.47 GB, lr=0.00038, valid_loss=0.8444]\n",
      "Epocha train 59/100: 100%|██████████| 141/141 [00:14<00:00,  9.52it/s, acc=0.74923, gpu_memory=2.47 GB, lr=0.00038, valid_loss=0.2516]\n",
      "Epocha val 59/100: 100%|██████████| 61/61 [00:09<00:00,  6.65it/s, acc=0.91678, gpu_memory=2.47 GB, lr=0.00036, valid_loss=0.7967]\n"
     ]
    },
    {
     "name": "stdout",
     "output_type": "stream",
     "text": [
      "Best val Loss classification: 0.769216,Best val Acc classification:0.767418\n"
     ]
    },
    {
     "name": "stderr",
     "output_type": "stream",
     "text": [
      "Epocha train 60/100: 100%|██████████| 141/141 [00:14<00:00,  9.66it/s, acc=0.77792, gpu_memory=2.47 GB, lr=0.00036, valid_loss=0.2501]\n",
      "Epocha val 60/100: 100%|██████████| 61/61 [00:05<00:00, 10.89it/s, acc=0.91600, gpu_memory=2.47 GB, lr=0.00035, valid_loss=0.8168]\n",
      "Epocha train 61/100: 100%|██████████| 141/141 [00:14<00:00,  9.67it/s, acc=0.77152, gpu_memory=2.47 GB, lr=0.00035, valid_loss=0.2434]\n",
      "Epocha val 61/100: 100%|██████████| 61/61 [00:06<00:00,  9.47it/s, acc=0.91800, gpu_memory=2.47 GB, lr=0.00033, valid_loss=0.8332]\n",
      "Epocha train 62/100: 100%|██████████| 141/141 [00:14<00:00,  9.75it/s, acc=0.76460, gpu_memory=2.47 GB, lr=0.00033, valid_loss=0.2322]\n",
      "Epocha val 62/100: 100%|██████████| 61/61 [00:06<00:00,  9.66it/s, acc=0.92232, gpu_memory=2.47 GB, lr=0.00032, valid_loss=0.8271]\n",
      "Epocha train 63/100: 100%|██████████| 141/141 [00:17<00:00,  8.10it/s, acc=0.76486, gpu_memory=2.47 GB, lr=0.00032, valid_loss=0.2282]\n",
      "Epocha val 63/100: 100%|██████████| 61/61 [00:05<00:00, 10.34it/s, acc=0.92564, gpu_memory=2.47 GB, lr=0.00030, valid_loss=0.8157]\n",
      "Epocha train 64/100: 100%|██████████| 141/141 [00:15<00:00,  9.33it/s, acc=0.77152, gpu_memory=2.47 GB, lr=0.00030, valid_loss=0.2149]\n",
      "Epocha val 64/100: 100%|██████████| 61/61 [00:05<00:00, 10.39it/s, acc=0.92852, gpu_memory=2.47 GB, lr=0.00029, valid_loss=0.8235]\n",
      "Epocha train 65/100: 100%|██████████| 141/141 [00:15<00:00,  9.39it/s, acc=0.76972, gpu_memory=2.47 GB, lr=0.00029, valid_loss=0.2080]\n",
      "Epocha val 65/100: 100%|██████████| 61/61 [00:06<00:00,  9.99it/s, acc=0.93096, gpu_memory=2.47 GB, lr=0.00027, valid_loss=0.8297]\n",
      "Epocha train 66/100: 100%|██████████| 141/141 [00:14<00:00,  9.41it/s, acc=0.77357, gpu_memory=2.47 GB, lr=0.00027, valid_loss=0.2010]\n",
      "Epocha val 66/100: 100%|██████████| 61/61 [00:05<00:00, 10.46it/s, acc=0.93207, gpu_memory=2.47 GB, lr=0.00026, valid_loss=0.8047]\n",
      "Epocha train 67/100: 100%|██████████| 141/141 [00:14<00:00,  9.47it/s, acc=0.77766, gpu_memory=2.47 GB, lr=0.00026, valid_loss=0.1971]\n",
      "Epocha val 67/100: 100%|██████████| 61/61 [00:05<00:00, 10.27it/s, acc=0.93351, gpu_memory=2.47 GB, lr=0.00025, valid_loss=0.8355]\n",
      "Epocha train 68/100: 100%|██████████| 141/141 [00:14<00:00,  9.55it/s, acc=0.77049, gpu_memory=2.47 GB, lr=0.00025, valid_loss=0.1834]\n",
      "Epocha val 68/100: 100%|██████████| 61/61 [00:05<00:00, 10.82it/s, acc=0.93961, gpu_memory=2.47 GB, lr=0.00023, valid_loss=0.8289]\n",
      "Epocha train 69/100: 100%|██████████| 141/141 [00:14<00:00,  9.59it/s, acc=0.77536, gpu_memory=2.47 GB, lr=0.00023, valid_loss=0.1775]\n",
      "Epocha val 69/100: 100%|██████████| 61/61 [00:06<00:00,  9.85it/s, acc=0.94116, gpu_memory=2.47 GB, lr=0.00022, valid_loss=0.8329]\n",
      "Epocha train 70/100: 100%|██████████| 141/141 [00:15<00:00,  9.15it/s, acc=0.76819, gpu_memory=2.47 GB, lr=0.00022, valid_loss=0.1723]\n",
      "Epocha val 70/100: 100%|██████████| 61/61 [00:05<00:00, 10.42it/s, acc=0.94404, gpu_memory=2.47 GB, lr=0.00021, valid_loss=0.8434]\n",
      "Epocha train 71/100: 100%|██████████| 141/141 [00:15<00:00,  9.33it/s, acc=0.77357, gpu_memory=2.47 GB, lr=0.00021, valid_loss=0.1715]\n",
      "Epocha val 71/100: 100%|██████████| 61/61 [00:06<00:00,  8.95it/s, acc=0.94437, gpu_memory=2.47 GB, lr=0.00019, valid_loss=0.8308]\n"
     ]
    },
    {
     "name": "stdout",
     "output_type": "stream",
     "text": [
      "Best val Loss classification: 0.769216,Best val Acc classification:0.777920\n"
     ]
    },
    {
     "name": "stderr",
     "output_type": "stream",
     "text": [
      "Epocha train 72/100: 100%|██████████| 141/141 [00:15<00:00,  9.30it/s, acc=0.77920, gpu_memory=2.47 GB, lr=0.00019, valid_loss=0.1768]\n",
      "Epocha val 72/100: 100%|██████████| 61/61 [00:06<00:00, 10.16it/s, acc=0.94138, gpu_memory=2.47 GB, lr=0.00018, valid_loss=0.8280]\n",
      "Epocha train 73/100: 100%|██████████| 141/141 [00:15<00:00,  9.29it/s, acc=0.77228, gpu_memory=2.47 GB, lr=0.00018, valid_loss=0.1653]\n",
      "Epocha val 73/100: 100%|██████████| 61/61 [00:05<00:00, 10.36it/s, acc=0.94581, gpu_memory=2.47 GB, lr=0.00017, valid_loss=0.8433]\n",
      "Epocha train 74/100: 100%|██████████| 141/141 [00:16<00:00,  8.71it/s, acc=0.77690, gpu_memory=2.47 GB, lr=0.00017, valid_loss=0.1617]\n",
      "Epocha val 74/100: 100%|██████████| 61/61 [00:06<00:00,  9.87it/s, acc=0.94426, gpu_memory=2.47 GB, lr=0.00016, valid_loss=0.8282]\n",
      "Epocha train 75/100: 100%|██████████| 141/141 [00:14<00:00,  9.49it/s, acc=0.77613, gpu_memory=2.47 GB, lr=0.00016, valid_loss=0.1564]\n",
      "Epocha val 75/100: 100%|██████████| 61/61 [00:05<00:00, 10.32it/s, acc=0.94858, gpu_memory=2.47 GB, lr=0.00015, valid_loss=0.8290]\n",
      "Epocha train 76/100: 100%|██████████| 141/141 [00:14<00:00,  9.61it/s, acc=0.77792, gpu_memory=2.47 GB, lr=0.00015, valid_loss=0.1521]\n",
      "Epocha val 76/100: 100%|██████████| 61/61 [00:06<00:00, 10.02it/s, acc=0.94991, gpu_memory=2.47 GB, lr=0.00014, valid_loss=0.8189]\n"
     ]
    },
    {
     "name": "stdout",
     "output_type": "stream",
     "text": [
      "Best val Loss classification: 0.769216,Best val Acc classification:0.779201\n"
     ]
    },
    {
     "name": "stderr",
     "output_type": "stream",
     "text": [
      "Epocha train 77/100: 100%|██████████| 141/141 [00:15<00:00,  9.26it/s, acc=0.78714, gpu_memory=2.47 GB, lr=0.00014, valid_loss=0.1456]\n",
      "Epocha val 77/100: 100%|██████████| 61/61 [00:05<00:00, 10.39it/s, acc=0.95168, gpu_memory=2.47 GB, lr=0.00012, valid_loss=0.8171]\n"
     ]
    },
    {
     "name": "stdout",
     "output_type": "stream",
     "text": [
      "Best val Loss classification: 0.769216,Best val Acc classification:0.787141\n"
     ]
    },
    {
     "name": "stderr",
     "output_type": "stream",
     "text": [
      "Epocha train 78/100: 100%|██████████| 141/141 [00:15<00:00,  9.32it/s, acc=0.78740, gpu_memory=2.47 GB, lr=0.00012, valid_loss=0.1519]\n",
      "Epocha val 78/100: 100%|██████████| 61/61 [00:05<00:00, 10.32it/s, acc=0.94825, gpu_memory=2.47 GB, lr=0.00011, valid_loss=0.8196]\n",
      "Epocha train 79/100: 100%|██████████| 141/141 [00:15<00:00,  9.27it/s, acc=0.78202, gpu_memory=2.47 GB, lr=0.00011, valid_loss=0.1353]\n",
      "Epocha val 79/100: 100%|██████████| 61/61 [00:06<00:00, 10.17it/s, acc=0.95556, gpu_memory=2.47 GB, lr=0.00010, valid_loss=0.8234]\n",
      "Epocha train 80/100: 100%|██████████| 141/141 [00:15<00:00,  9.31it/s, acc=0.78740, gpu_memory=2.47 GB, lr=0.00010, valid_loss=0.1305]\n",
      "Epocha val 80/100: 100%|██████████| 61/61 [00:06<00:00, 10.04it/s, acc=0.95745, gpu_memory=2.47 GB, lr=0.00010, valid_loss=0.8468]\n",
      "Epocha train 81/100: 100%|██████████| 141/141 [00:14<00:00,  9.49it/s, acc=0.78099, gpu_memory=2.47 GB, lr=0.00010, valid_loss=0.1316]\n",
      "Epocha val 81/100: 100%|██████████| 61/61 [00:05<00:00, 10.25it/s, acc=0.95745, gpu_memory=2.47 GB, lr=0.00009, valid_loss=0.8471]\n",
      "Epocha train 82/100: 100%|██████████| 141/141 [00:14<00:00,  9.55it/s, acc=0.78407, gpu_memory=2.47 GB, lr=0.00009, valid_loss=0.1357]\n",
      "Epocha val 82/100: 100%|██████████| 61/61 [00:05<00:00, 10.58it/s, acc=0.95235, gpu_memory=2.47 GB, lr=0.00008, valid_loss=0.8531]\n",
      "Epocha train 83/100: 100%|██████████| 141/141 [00:15<00:00,  9.34it/s, acc=0.78227, gpu_memory=2.47 GB, lr=0.00008, valid_loss=0.1253]\n",
      "Epocha val 83/100: 100%|██████████| 61/61 [00:05<00:00, 10.21it/s, acc=0.95700, gpu_memory=2.47 GB, lr=0.00007, valid_loss=0.8437]\n",
      "Epocha train 84/100: 100%|██████████| 141/141 [00:14<00:00,  9.68it/s, acc=0.78432, gpu_memory=2.47 GB, lr=0.00007, valid_loss=0.1302]\n",
      "Epocha val 84/100: 100%|██████████| 61/61 [00:05<00:00, 10.30it/s, acc=0.95324, gpu_memory=2.47 GB, lr=0.00006, valid_loss=0.8208]\n"
     ]
    },
    {
     "name": "stdout",
     "output_type": "stream",
     "text": [
      "Best val Loss classification: 0.769216,Best val Acc classification:0.787398\n"
     ]
    },
    {
     "name": "stderr",
     "output_type": "stream",
     "text": [
      "Epocha train 85/100: 100%|██████████| 141/141 [00:15<00:00,  9.22it/s, acc=0.79073, gpu_memory=2.47 GB, lr=0.00006, valid_loss=0.1208]\n",
      "Epocha val 85/100: 100%|██████████| 61/61 [00:05<00:00, 10.21it/s, acc=0.96144, gpu_memory=2.47 GB, lr=0.00005, valid_loss=0.8277]\n",
      "Epocha train 86/100: 100%|██████████| 141/141 [00:15<00:00,  9.37it/s, acc=0.78970, gpu_memory=2.47 GB, lr=0.00005, valid_loss=0.1142]\n",
      "Epocha val 86/100: 100%|██████████| 61/61 [00:06<00:00,  9.93it/s, acc=0.96454, gpu_memory=2.47 GB, lr=0.00005, valid_loss=0.8385]\n",
      "Epocha train 87/100: 100%|██████████| 141/141 [00:14<00:00,  9.50it/s, acc=0.78176, gpu_memory=2.47 GB, lr=0.00005, valid_loss=0.1199]\n",
      "Epocha val 87/100: 100%|██████████| 61/61 [00:05<00:00, 10.45it/s, acc=0.95988, gpu_memory=2.47 GB, lr=0.00004, valid_loss=0.8314]\n",
      "Epocha train 88/100: 100%|██████████| 141/141 [00:16<00:00,  8.81it/s, acc=0.78535, gpu_memory=2.47 GB, lr=0.00004, valid_loss=0.1186]\n",
      "Epocha val 88/100: 100%|██████████| 61/61 [00:06<00:00,  9.20it/s, acc=0.95944, gpu_memory=2.47 GB, lr=0.00004, valid_loss=0.8310]\n",
      "Epocha train 89/100: 100%|██████████| 141/141 [00:14<00:00,  9.40it/s, acc=0.78535, gpu_memory=2.47 GB, lr=0.00004, valid_loss=0.1138]\n",
      "Epocha val 89/100: 100%|██████████| 61/61 [00:06<00:00,  9.69it/s, acc=0.96155, gpu_memory=2.47 GB, lr=0.00003, valid_loss=0.8311]\n",
      "Epocha train 90/100: 100%|██████████| 141/141 [00:14<00:00,  9.46it/s, acc=0.78381, gpu_memory=2.47 GB, lr=0.00003, valid_loss=0.1229]\n",
      "Epocha val 90/100: 100%|██████████| 61/61 [00:05<00:00, 10.87it/s, acc=0.95955, gpu_memory=2.47 GB, lr=0.00002, valid_loss=0.8291]\n",
      "Epocha train 91/100: 100%|██████████| 141/141 [00:15<00:00,  9.38it/s, acc=0.78586, gpu_memory=2.47 GB, lr=0.00002, valid_loss=0.1150]\n",
      "Epocha val 91/100: 100%|██████████| 61/61 [00:05<00:00, 10.78it/s, acc=0.96177, gpu_memory=2.47 GB, lr=0.00002, valid_loss=0.8280]\n",
      "Epocha train 92/100: 100%|██████████| 141/141 [00:14<00:00,  9.97it/s, acc=0.78612, gpu_memory=2.47 GB, lr=0.00002, valid_loss=0.1119]\n",
      "Epocha val 92/100: 100%|██████████| 61/61 [00:05<00:00, 10.40it/s, acc=0.96188, gpu_memory=2.47 GB, lr=0.00002, valid_loss=0.8233]\n",
      "Epocha train 93/100: 100%|██████████| 141/141 [00:15<00:00,  9.04it/s, acc=0.78714, gpu_memory=2.47 GB, lr=0.00002, valid_loss=0.1090]\n",
      "Epocha val 93/100: 100%|██████████| 61/61 [00:05<00:00, 10.70it/s, acc=0.96598, gpu_memory=2.47 GB, lr=0.00001, valid_loss=0.8190]\n",
      "Epocha train 94/100: 100%|██████████| 141/141 [00:15<00:00,  9.29it/s, acc=0.78714, gpu_memory=2.47 GB, lr=0.00001, valid_loss=0.1071]\n",
      "Epocha val 94/100: 100%|██████████| 61/61 [00:05<00:00, 10.31it/s, acc=0.96653, gpu_memory=2.47 GB, lr=0.00001, valid_loss=0.8296]\n",
      "Epocha train 95/100: 100%|██████████| 141/141 [00:14<00:00,  9.65it/s, acc=0.78612, gpu_memory=2.47 GB, lr=0.00001, valid_loss=0.1051]\n",
      "Epocha val 95/100: 100%|██████████| 61/61 [00:07<00:00,  8.50it/s, acc=0.96454, gpu_memory=2.47 GB, lr=0.00001, valid_loss=0.8372]\n"
     ]
    },
    {
     "name": "stdout",
     "output_type": "stream",
     "text": [
      "Best val Loss classification: 0.769216,Best val Acc classification:0.790727\n"
     ]
    },
    {
     "name": "stderr",
     "output_type": "stream",
     "text": [
      "Epocha train 96/100: 100%|██████████| 141/141 [00:14<00:00,  9.52it/s, acc=0.79252, gpu_memory=2.47 GB, lr=0.00001, valid_loss=0.1175]\n",
      "Epocha val 96/100: 100%|██████████| 61/61 [00:06<00:00,  8.95it/s, acc=0.96210, gpu_memory=2.47 GB, lr=0.00000, valid_loss=0.8280]\n",
      "Epocha train 97/100: 100%|██████████| 141/141 [00:15<00:00,  9.31it/s, acc=0.78765, gpu_memory=2.47 GB, lr=0.00000, valid_loss=0.1059]\n",
      "Epocha val 97/100: 100%|██████████| 61/61 [00:05<00:00, 10.80it/s, acc=0.96498, gpu_memory=2.47 GB, lr=0.00000, valid_loss=0.8228]\n",
      "Epocha train 98/100: 100%|██████████| 141/141 [00:15<00:00,  9.09it/s, acc=0.78330, gpu_memory=2.47 GB, lr=0.00000, valid_loss=0.1009]\n",
      "Epocha val 98/100: 100%|██████████| 61/61 [00:06<00:00,  9.33it/s, acc=0.96664, gpu_memory=2.47 GB, lr=0.00000, valid_loss=0.8252]\n",
      "Epocha train 99/100: 100%|██████████| 141/141 [00:16<00:00,  8.80it/s, acc=0.78689, gpu_memory=2.47 GB, lr=0.00000, valid_loss=0.1032]\n",
      "Epocha val 99/100: 100%|██████████| 61/61 [00:05<00:00, 10.20it/s, acc=0.96554, gpu_memory=2.47 GB, lr=0.00000, valid_loss=0.8436]\n",
      "Epocha train 100/100: 100%|██████████| 141/141 [00:17<00:00,  8.02it/s, acc=0.78227, gpu_memory=2.47 GB, lr=0.00000, valid_loss=0.1072]\n",
      "Epocha val 100/100: 100%|██████████| 61/61 [00:05<00:00, 10.82it/s, acc=0.96465, gpu_memory=2.47 GB, lr=0.00000, valid_loss=0.8157]\n"
     ]
    },
    {
     "name": "stdout",
     "output_type": "stream",
     "text": [
      "Training complete in 38m 18s\n",
      "Best val Loss classification: 0.7692 epoch 37  \n",
      "Best val Loss accuracy: 0.7925 epoch 95\n"
     ]
    },
    {
     "data": {
      "image/png": "[encoded data removed]",
      "text/plain": [
       "<Figure size 432x288 with 1 Axes>"
      ]
     },
     "metadata": {
      "needs_background": "light"
     },
     "output_type": "display_data"
    },
    {
     "data": {
      "image/png": "[encoded data removed]",
      "text/plain": [
       "<Figure size 432x288 with 1 Axes>"
      ]
     },
     "metadata": {
      "needs_background": "light"
     },
     "output_type": "display_data"
    }
   ],
   "source": [
    "model_loss, model_acc, overfit_model,best_acc = train.train(train_dirr=\"/workspace/proj/paradigma/db/imagewoof2\",                                           # Путь до папки с train or directori\n",
    "                                             val_dirr=\"/workspace/proj/paradigma/db/imagewoof2\",                                             # Путь до папки с описанием val\n",
    "                                             model_name =\"resnet18\",                             # Название модели timm or пользовательские из кода\n",
    "                                             Dataset_name =\"imagewoof\",                            # Название Dataset (при сохранении)\n",
    "                                             metod_aug_name=\"baseline\",#\"FsAA\",                # Название metoda (при сохранении)\n",
    "                                             task_name=\"clasification\",                          # Название задачи  (при сохранении)\n",
    "                                             train_annotation='/workspace/proj/paradigma/db/imagewoof2/noisy_imagewoof.csv',                                # Путь до файла с описанием train\n",
    "                                             val_annotation='/workspace/proj/paradigma/db/imagewoof2/noisy_imagewoof.csv',                                  # Путь до файла с описанием val\n",
    "                                             N_class = 10,                                          # Количество классов в задаче\n",
    "                                             num_epochs=100,                                        # Количество эпох обучения\n",
    "                                             batch_size = 64,                                       \n",
    "                                             snp_path = '/workspace/proj/paradigma/snp/',     # Путь к папке, в которую сохранять готовые модели\n",
    "                                             pretrained = False,                                   # True - загрузить предобученную модель\n",
    "                                             SIZE = 224,                                           # Размер входа (SIZE*SIZE)\n",
    "                                             lr=0.001,                                        # Коэффициент скорости обучения (Learning rate)\n",
    "                                             momentum=0.9)#,                                        # коэфицент сохранения момента\n",
    "#                                              rootAA=\"/workspace/proj/autoalbument/examples/imageWoof/resnet50/outputs/2022-08-01/21-18-39/policy/latest.json\")"
   ]
  },
  {
   "cell_type": "code",
   "execution_count": null,
   "id": "c3818381",
   "metadata": {},
   "outputs": [],
   "source": []
  }
 ],
 "metadata": {
  "kernelspec": {
   "display_name": "Python 3",
   "language": "python",
   "name": "python3"
  },
  "language_info": {
   "codemirror_mode": {
    "name": "ipython",
    "version": 3
   },
   "file_extension": ".py",
   "mimetype": "text/x-python",
   "name": "python",
   "nbconvert_exporter": "python",
   "pygments_lexer": "ipython3",
   "version": "3.6.9"
  }
 },
 "nbformat": 4,
 "nbformat_minor": 5
}
