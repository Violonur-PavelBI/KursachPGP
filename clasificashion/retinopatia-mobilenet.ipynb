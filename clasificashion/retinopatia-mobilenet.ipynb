{
 "cells": [
  {
   "cell_type": "code",
   "execution_count": 1,
   "metadata": {},
   "outputs": [],
   "source": [
    "import os\n",
    "# from train import train\n",
    "# import Dataset\n",
    "os.environ[\"CUDA_VISIBLE_DEVICES\"] = \"6\"\n",
    "import train"
   ]
  },
  {
   "cell_type": "code",
   "execution_count": 2,
   "metadata": {
    "scrolled": true,
    "tags": []
   },
   "outputs": [
    {
     "name": "stdout",
     "output_type": "stream",
     "text": [
      "/workspace/proj/paradigma/snp/imagewoof/mobilenetv2_100/FsAA/04_08_2022/10_13_23/\n"
     ]
    },
    {
     "name": "stderr",
     "output_type": "stream",
     "text": [
      "Epocha train 1/300: 100%|██████████| 225/225 [00:37<00:00,  6.03it/s, acc=0.00000, gpu_memory=2.87 GB, lr=0.00100, valid_loss=2.6893]\n",
      "Epocha val 1/300: 100%|██████████| 98/98 [00:13<00:00,  7.19it/s, acc=0.13422, gpu_memory=2.87 GB, lr=0.00100, valid_loss=2.4922]\n"
     ]
    },
    {
     "name": "stdout",
     "output_type": "stream",
     "text": [
      "Best val Loss classification: 2.492197,Best val Acc classification:0.000000\n"
     ]
    },
    {
     "name": "stderr",
     "output_type": "stream",
     "text": [
      "Epocha train 2/300: 100%|██████████| 225/225 [00:35<00:00,  6.28it/s, acc=0.14668, gpu_memory=2.88 GB, lr=0.00100, valid_loss=2.4241]\n",
      "Epocha val 2/300: 100%|██████████| 98/98 [00:13<00:00,  7.50it/s, acc=0.15956, gpu_memory=2.88 GB, lr=0.00100, valid_loss=2.2824]\n"
     ]
    },
    {
     "name": "stdout",
     "output_type": "stream",
     "text": [
      "Best val Loss classification: 2.282413,Best val Acc classification:0.146684\n"
     ]
    },
    {
     "name": "stderr",
     "output_type": "stream",
     "text": [
      "Epocha train 3/300: 100%|██████████| 225/225 [00:42<00:00,  5.30it/s, acc=0.18495, gpu_memory=2.88 GB, lr=0.00100, valid_loss=2.2236]\n",
      "Epocha val 3/300: 100%|██████████| 98/98 [00:09<00:00, 10.77it/s, acc=0.18322, gpu_memory=2.88 GB, lr=0.00100, valid_loss=2.1591]\n"
     ]
    },
    {
     "name": "stdout",
     "output_type": "stream",
     "text": [
      "Best val Loss classification: 2.159073,Best val Acc classification:0.184949\n"
     ]
    },
    {
     "name": "stderr",
     "output_type": "stream",
     "text": [
      "Epocha train 4/300: 100%|██████████| 225/225 [00:40<00:00,  5.54it/s, acc=0.20357, gpu_memory=2.88 GB, lr=0.00100, valid_loss=2.1191]\n",
      "Epocha val 4/300: 100%|██████████| 98/98 [00:13<00:00,  7.33it/s, acc=0.20922, gpu_memory=2.88 GB, lr=0.00100, valid_loss=2.0281]\n"
     ]
    },
    {
     "name": "stdout",
     "output_type": "stream",
     "text": [
      "Best val Loss classification: 2.028074,Best val Acc classification:0.203571\n"
     ]
    },
    {
     "name": "stderr",
     "output_type": "stream",
     "text": [
      "Epocha train 5/300: 100%|██████████| 225/225 [00:35<00:00,  6.36it/s, acc=0.25306, gpu_memory=2.88 GB, lr=0.00100, valid_loss=2.0558]\n",
      "Epocha val 5/300: 100%|██████████| 98/98 [00:13<00:00,  7.31it/s, acc=0.22478, gpu_memory=2.88 GB, lr=0.00100, valid_loss=1.9925]\n"
     ]
    },
    {
     "name": "stdout",
     "output_type": "stream",
     "text": [
      "Best val Loss classification: 1.992533,Best val Acc classification:0.253061\n"
     ]
    },
    {
     "name": "stderr",
     "output_type": "stream",
     "text": [
      "Epocha train 6/300: 100%|██████████| 225/225 [00:39<00:00,  5.67it/s, acc=0.26327, gpu_memory=2.88 GB, lr=0.00100, valid_loss=2.0373]\n",
      "Epocha val 6/300: 100%|██████████| 98/98 [00:08<00:00, 12.06it/s, acc=0.23456, gpu_memory=2.88 GB, lr=0.00100, valid_loss=1.9630]\n"
     ]
    },
    {
     "name": "stdout",
     "output_type": "stream",
     "text": [
      "Best val Loss classification: 1.963011,Best val Acc classification:0.263265\n"
     ]
    },
    {
     "name": "stderr",
     "output_type": "stream",
     "text": [
      "Epocha train 7/300: 100%|██████████| 225/225 [00:42<00:00,  5.35it/s, acc=0.27270, gpu_memory=2.88 GB, lr=0.00100, valid_loss=1.9892]\n",
      "Epocha val 7/300: 100%|██████████| 98/98 [00:13<00:00,  7.36it/s, acc=0.25567, gpu_memory=2.88 GB, lr=0.00100, valid_loss=1.9196]\n"
     ]
    },
    {
     "name": "stdout",
     "output_type": "stream",
     "text": [
      "Best val Loss classification: 1.919578,Best val Acc classification:0.272704\n"
     ]
    },
    {
     "name": "stderr",
     "output_type": "stream",
     "text": [
      "Epocha train 8/300: 100%|██████████| 225/225 [00:37<00:00,  6.07it/s, acc=0.29515, gpu_memory=2.88 GB, lr=0.00100, valid_loss=1.9776]\n",
      "Epocha val 8/300: 100%|██████████| 98/98 [00:13<00:00,  7.41it/s, acc=0.27167, gpu_memory=2.88 GB, lr=0.00100, valid_loss=1.9145]\n",
      "Epocha train 9/300: 100%|██████████| 225/225 [00:37<00:00,  6.08it/s, acc=0.28240, gpu_memory=2.88 GB, lr=0.00100, valid_loss=1.9617]\n",
      "Epocha val 9/300: 100%|██████████| 98/98 [00:12<00:00,  7.76it/s, acc=0.27644, gpu_memory=2.88 GB, lr=0.00100, valid_loss=1.8716]\n"
     ]
    },
    {
     "name": "stdout",
     "output_type": "stream",
     "text": [
      "Best val Loss classification: 1.871609,Best val Acc classification:0.295153\n"
     ]
    },
    {
     "name": "stderr",
     "output_type": "stream",
     "text": [
      "Epocha train 10/300: 100%|██████████| 225/225 [00:42<00:00,  5.36it/s, acc=0.31122, gpu_memory=2.88 GB, lr=0.00100, valid_loss=1.9339]\n",
      "Epocha val 10/300: 100%|██████████| 98/98 [00:09<00:00, 10.25it/s, acc=0.28644, gpu_memory=2.88 GB, lr=0.00100, valid_loss=1.9251]\n",
      "Epocha train 11/300: 100%|██████████| 225/225 [00:40<00:00,  5.54it/s, acc=0.27934, gpu_memory=2.88 GB, lr=0.00100, valid_loss=1.9223]\n",
      "Epocha val 11/300: 100%|██████████| 98/98 [00:13<00:00,  7.01it/s, acc=0.29989, gpu_memory=2.88 GB, lr=0.00100, valid_loss=1.8386]\n"
     ]
    },
    {
     "name": "stdout",
     "output_type": "stream",
     "text": [
      "Best val Loss classification: 1.838620,Best val Acc classification:0.311224\n"
     ]
    },
    {
     "name": "stderr",
     "output_type": "stream",
     "text": [
      "Epocha train 12/300: 100%|██████████| 225/225 [00:34<00:00,  6.44it/s, acc=0.33469, gpu_memory=2.88 GB, lr=0.00100, valid_loss=1.8731]\n",
      "Epocha val 12/300: 100%|██████████| 98/98 [00:12<00:00,  7.65it/s, acc=0.31444, gpu_memory=2.88 GB, lr=0.00100, valid_loss=1.8120]\n"
     ]
    },
    {
     "name": "stdout",
     "output_type": "stream",
     "text": [
      "Best val Loss classification: 1.812038,Best val Acc classification:0.334694\n"
     ]
    },
    {
     "name": "stderr",
     "output_type": "stream",
     "text": [
      "Epocha train 13/300: 100%|██████████| 225/225 [00:40<00:00,  5.61it/s, acc=0.34643, gpu_memory=2.88 GB, lr=0.00100, valid_loss=1.8655]\n",
      "Epocha val 13/300: 100%|██████████| 98/98 [00:07<00:00, 12.51it/s, acc=0.32278, gpu_memory=2.88 GB, lr=0.00100, valid_loss=1.8259]\n",
      "Epocha train 14/300: 100%|██████████| 225/225 [00:45<00:00,  4.96it/s, acc=0.34158, gpu_memory=2.88 GB, lr=0.00100, valid_loss=1.8499]\n",
      "Epocha val 14/300: 100%|██████████| 98/98 [00:12<00:00,  7.92it/s, acc=0.31611, gpu_memory=2.88 GB, lr=0.00100, valid_loss=1.7882]\n",
      "Epocha train 15/300: 100%|██████████| 225/225 [00:37<00:00,  6.04it/s, acc=0.33163, gpu_memory=2.88 GB, lr=0.00100, valid_loss=1.8098]\n",
      "Epocha val 15/300: 100%|██████████| 98/98 [00:12<00:00,  7.58it/s, acc=0.34211, gpu_memory=2.88 GB, lr=0.00100, valid_loss=1.7267]\n"
     ]
    },
    {
     "name": "stdout",
     "output_type": "stream",
     "text": [
      "Best val Loss classification: 1.726740,Best val Acc classification:0.346429\n"
     ]
    },
    {
     "name": "stderr",
     "output_type": "stream",
     "text": [
      "Epocha train 16/300: 100%|██████████| 225/225 [00:36<00:00,  6.18it/s, acc=0.37781, gpu_memory=2.88 GB, lr=0.00100, valid_loss=1.7907]\n",
      "Epocha val 16/300: 100%|██████████| 98/98 [00:12<00:00,  7.62it/s, acc=0.35333, gpu_memory=2.88 GB, lr=0.00100, valid_loss=1.7178]\n"
     ]
    },
    {
     "name": "stdout",
     "output_type": "stream",
     "text": [
      "Best val Loss classification: 1.717827,Best val Acc classification:0.377806\n"
     ]
    },
    {
     "name": "stderr",
     "output_type": "stream",
     "text": [
      "Epocha train 17/300: 100%|██████████| 225/225 [00:42<00:00,  5.35it/s, acc=0.38418, gpu_memory=2.88 GB, lr=0.00100, valid_loss=1.7838]\n",
      "Epocha val 17/300: 100%|██████████| 98/98 [00:08<00:00, 10.92it/s, acc=0.35311, gpu_memory=2.88 GB, lr=0.00100, valid_loss=1.7272]\n",
      "Epocha train 18/300: 100%|██████████| 225/225 [00:38<00:00,  5.78it/s, acc=0.37526, gpu_memory=2.88 GB, lr=0.00100, valid_loss=1.7569]\n",
      "Epocha val 18/300: 100%|██████████| 98/98 [00:12<00:00,  7.54it/s, acc=0.36567, gpu_memory=2.88 GB, lr=0.00100, valid_loss=1.7318]\n",
      "Epocha train 19/300: 100%|██████████| 225/225 [00:35<00:00,  6.43it/s, acc=0.37551, gpu_memory=2.88 GB, lr=0.00100, valid_loss=1.7405]\n",
      "Epocha val 19/300: 100%|██████████| 98/98 [00:13<00:00,  7.41it/s, acc=0.37500, gpu_memory=2.88 GB, lr=0.00100, valid_loss=1.7091]\n",
      "Epocha train 20/300: 100%|██████████| 225/225 [00:40<00:00,  5.56it/s, acc=0.38214, gpu_memory=2.88 GB, lr=0.00100, valid_loss=1.7309]\n",
      "Epocha val 20/300: 100%|██████████| 98/98 [00:08<00:00, 11.74it/s, acc=0.38144, gpu_memory=2.88 GB, lr=0.00100, valid_loss=1.6682]\n"
     ]
    },
    {
     "name": "stdout",
     "output_type": "stream",
     "text": [
      "Best val Loss classification: 1.668225,Best val Acc classification:0.384184\n"
     ]
    },
    {
     "name": "stderr",
     "output_type": "stream",
     "text": [
      "Epocha train 21/300: 100%|██████████| 225/225 [00:42<00:00,  5.33it/s, acc=0.39694, gpu_memory=2.88 GB, lr=0.00100, valid_loss=1.7067]\n",
      "Epocha val 21/300: 100%|██████████| 98/98 [00:13<00:00,  7.27it/s, acc=0.38544, gpu_memory=2.88 GB, lr=0.00100, valid_loss=1.6563]\n",
      "Epocha train 22/300: 100%|██████████| 225/225 [00:35<00:00,  6.40it/s, acc=0.39694, gpu_memory=2.88 GB, lr=0.00100, valid_loss=1.7130]\n",
      "Epocha val 22/300: 100%|██████████| 98/98 [00:13<00:00,  7.27it/s, acc=0.38144, gpu_memory=2.88 GB, lr=0.00100, valid_loss=1.6662]\n"
     ]
    },
    {
     "name": "stdout",
     "output_type": "stream",
     "text": [
      "Best val Loss classification: 1.656260,Best val Acc classification:0.396939\n"
     ]
    },
    {
     "name": "stderr",
     "output_type": "stream",
     "text": [
      "Epocha train 23/300: 100%|██████████| 225/225 [00:38<00:00,  5.87it/s, acc=0.40995, gpu_memory=2.88 GB, lr=0.00100, valid_loss=1.6757]\n",
      "Epocha val 23/300: 100%|██████████| 98/98 [00:10<00:00,  9.34it/s, acc=0.39789, gpu_memory=2.88 GB, lr=0.00100, valid_loss=1.6257]\n"
     ]
    },
    {
     "name": "stdout",
     "output_type": "stream",
     "text": [
      "Best val Loss classification: 1.625734,Best val Acc classification:0.409949\n"
     ]
    },
    {
     "name": "stderr",
     "output_type": "stream",
     "text": [
      "Epocha train 24/300: 100%|██████████| 225/225 [00:42<00:00,  5.35it/s, acc=0.41862, gpu_memory=2.88 GB, lr=0.00100, valid_loss=1.6616]\n",
      "Epocha val 24/300: 100%|██████████| 98/98 [00:09<00:00,  9.82it/s, acc=0.39900, gpu_memory=2.88 GB, lr=0.00100, valid_loss=1.6242]\n",
      "Epocha train 25/300: 100%|██████████| 225/225 [00:37<00:00,  5.98it/s, acc=0.41454, gpu_memory=2.88 GB, lr=0.00100, valid_loss=1.6459]\n",
      "Epocha val 25/300: 100%|██████████| 98/98 [00:13<00:00,  7.36it/s, acc=0.40778, gpu_memory=2.88 GB, lr=0.00100, valid_loss=1.5912]\n"
     ]
    },
    {
     "name": "stdout",
     "output_type": "stream",
     "text": [
      "Best val Loss classification: 1.591158,Best val Acc classification:0.418622\n"
     ]
    },
    {
     "name": "stderr",
     "output_type": "stream",
     "text": [
      "Epocha train 26/300: 100%|██████████| 225/225 [00:34<00:00,  6.45it/s, acc=0.42806, gpu_memory=2.88 GB, lr=0.00100, valid_loss=1.6245]\n",
      "Epocha val 26/300: 100%|██████████| 98/98 [00:13<00:00,  7.11it/s, acc=0.41889, gpu_memory=2.88 GB, lr=0.00100, valid_loss=1.5853]\n"
     ]
    },
    {
     "name": "stdout",
     "output_type": "stream",
     "text": [
      "Best val Loss classification: 1.585306,Best val Acc classification:0.428061\n"
     ]
    },
    {
     "name": "stderr",
     "output_type": "stream",
     "text": [
      "Epocha train 27/300: 100%|██████████| 225/225 [00:41<00:00,  5.37it/s, acc=0.43163, gpu_memory=2.88 GB, lr=0.00100, valid_loss=1.6216]\n",
      "Epocha val 27/300: 100%|██████████| 98/98 [00:09<00:00, 10.40it/s, acc=0.41611, gpu_memory=2.88 GB, lr=0.00100, valid_loss=1.5815]\n"
     ]
    },
    {
     "name": "stdout",
     "output_type": "stream",
     "text": [
      "Best val Loss classification: 1.581520,Best val Acc classification:0.431633\n"
     ]
    },
    {
     "name": "stderr",
     "output_type": "stream",
     "text": [
      "Epocha train 28/300: 100%|██████████| 225/225 [00:42<00:00,  5.36it/s, acc=0.43801, gpu_memory=2.88 GB, lr=0.00100, valid_loss=1.5983]\n",
      "Epocha val 28/300: 100%|██████████| 98/98 [00:13<00:00,  7.46it/s, acc=0.42300, gpu_memory=2.88 GB, lr=0.00100, valid_loss=1.5679]\n"
     ]
    },
    {
     "name": "stdout",
     "output_type": "stream",
     "text": [
      "Best val Loss classification: 1.567904,Best val Acc classification:0.438010\n"
     ]
    },
    {
     "name": "stderr",
     "output_type": "stream",
     "text": [
      "Epocha train 29/300: 100%|██████████| 225/225 [00:34<00:00,  6.51it/s, acc=0.44056, gpu_memory=2.88 GB, lr=0.00100, valid_loss=1.5792]\n",
      "Epocha val 29/300: 100%|██████████| 98/98 [00:13<00:00,  7.10it/s, acc=0.43344, gpu_memory=2.88 GB, lr=0.00100, valid_loss=1.5470]\n"
     ]
    },
    {
     "name": "stdout",
     "output_type": "stream",
     "text": [
      "Best val Loss classification: 1.547045,Best val Acc classification:0.440561\n"
     ]
    },
    {
     "name": "stderr",
     "output_type": "stream",
     "text": [
      "Epocha train 30/300: 100%|██████████| 225/225 [00:38<00:00,  5.86it/s, acc=0.44796, gpu_memory=2.88 GB, lr=0.00100, valid_loss=1.5471]\n",
      "Epocha val 30/300: 100%|██████████| 98/98 [00:09<00:00, 10.08it/s, acc=0.45467, gpu_memory=2.88 GB, lr=0.00100, valid_loss=1.5137]\n"
     ]
    },
    {
     "name": "stdout",
     "output_type": "stream",
     "text": [
      "Best val Loss classification: 1.513692,Best val Acc classification:0.447959\n"
     ]
    },
    {
     "name": "stderr",
     "output_type": "stream",
     "text": [
      "Epocha train 31/300: 100%|██████████| 225/225 [00:42<00:00,  5.34it/s, acc=0.46148, gpu_memory=2.88 GB, lr=0.00100, valid_loss=1.5358]\n",
      "Epocha val 31/300: 100%|██████████| 98/98 [00:10<00:00,  9.47it/s, acc=0.45644, gpu_memory=2.88 GB, lr=0.00100, valid_loss=1.5273]\n"
     ]
    },
    {
     "name": "stdout",
     "output_type": "stream",
     "text": [
      "Best val Loss classification: 1.513692,Best val Acc classification:0.461480\n"
     ]
    },
    {
     "name": "stderr",
     "output_type": "stream",
     "text": [
      "Epocha train 32/300: 100%|██████████| 225/225 [00:37<00:00,  6.08it/s, acc=0.46862, gpu_memory=2.88 GB, lr=0.00100, valid_loss=1.5251]\n",
      "Epocha val 32/300: 100%|██████████| 98/98 [00:13<00:00,  7.47it/s, acc=0.45878, gpu_memory=2.88 GB, lr=0.00100, valid_loss=1.5224]\n",
      "Epocha train 33/300: 100%|██████████| 225/225 [00:35<00:00,  6.30it/s, acc=0.45867, gpu_memory=2.88 GB, lr=0.00100, valid_loss=1.5080]\n",
      "Epocha val 33/300: 100%|██████████| 98/98 [00:13<00:00,  7.46it/s, acc=0.46800, gpu_memory=2.88 GB, lr=0.00100, valid_loss=1.5030]\n"
     ]
    },
    {
     "name": "stdout",
     "output_type": "stream",
     "text": [
      "Best val Loss classification: 1.503039,Best val Acc classification:0.468622\n"
     ]
    },
    {
     "name": "stderr",
     "output_type": "stream",
     "text": [
      "Epocha train 34/300: 100%|██████████| 225/225 [00:41<00:00,  5.36it/s, acc=0.47194, gpu_memory=2.88 GB, lr=0.00100, valid_loss=1.4931]\n",
      "Epocha val 34/300: 100%|██████████| 98/98 [00:08<00:00, 11.29it/s, acc=0.47178, gpu_memory=2.88 GB, lr=0.00100, valid_loss=1.5046]\n"
     ]
    },
    {
     "name": "stdout",
     "output_type": "stream",
     "text": [
      "Best val Loss classification: 1.503039,Best val Acc classification:0.471939\n"
     ]
    },
    {
     "name": "stderr",
     "output_type": "stream",
     "text": [
      "Epocha train 35/300: 100%|██████████| 225/225 [00:39<00:00,  5.70it/s, acc=0.48163, gpu_memory=2.88 GB, lr=0.00100, valid_loss=1.4750]\n",
      "Epocha val 35/300: 100%|██████████| 98/98 [00:13<00:00,  7.36it/s, acc=0.48122, gpu_memory=2.88 GB, lr=0.00100, valid_loss=1.4672]\n"
     ]
    },
    {
     "name": "stdout",
     "output_type": "stream",
     "text": [
      "Best val Loss classification: 1.467225,Best val Acc classification:0.481633\n"
     ]
    },
    {
     "name": "stderr",
     "output_type": "stream",
     "text": [
      "Epocha train 36/300: 100%|██████████| 225/225 [00:35<00:00,  6.27it/s, acc=0.48929, gpu_memory=2.88 GB, lr=0.00100, valid_loss=1.4786]\n",
      "Epocha val 36/300: 100%|██████████| 98/98 [00:13<00:00,  7.25it/s, acc=0.47256, gpu_memory=2.88 GB, lr=0.00100, valid_loss=1.4674]\n",
      "Epocha train 37/300: 100%|██████████| 225/225 [00:39<00:00,  5.76it/s, acc=0.48138, gpu_memory=2.88 GB, lr=0.00100, valid_loss=1.4670]\n",
      "Epocha val 37/300: 100%|██████████| 98/98 [00:08<00:00, 11.47it/s, acc=0.48556, gpu_memory=2.88 GB, lr=0.00100, valid_loss=1.4602]\n",
      "Epocha train 38/300: 100%|██████████| 225/225 [00:42<00:00,  5.35it/s, acc=0.48776, gpu_memory=2.88 GB, lr=0.00100, valid_loss=1.4471]\n",
      "Epocha val 38/300: 100%|██████████| 98/98 [00:12<00:00,  7.70it/s, acc=0.48222, gpu_memory=2.88 GB, lr=0.00100, valid_loss=1.4417]\n"
     ]
    },
    {
     "name": "stdout",
     "output_type": "stream",
     "text": [
      "Best val Loss classification: 1.441655,Best val Acc classification:0.489286\n"
     ]
    },
    {
     "name": "stderr",
     "output_type": "stream",
     "text": [
      "Epocha train 39/300: 100%|██████████| 225/225 [00:36<00:00,  6.10it/s, acc=0.49362, gpu_memory=2.88 GB, lr=0.00100, valid_loss=1.4081]\n",
      "Epocha val 39/300: 100%|██████████| 98/98 [00:13<00:00,  7.44it/s, acc=0.50100, gpu_memory=2.88 GB, lr=0.00100, valid_loss=1.4429]\n",
      "Epocha train 40/300: 100%|██████████| 225/225 [00:36<00:00,  6.19it/s, acc=0.49362, gpu_memory=2.88 GB, lr=0.00100, valid_loss=1.3974]\n",
      "Epocha val 40/300: 100%|██████████| 98/98 [00:13<00:00,  7.27it/s, acc=0.50456, gpu_memory=2.88 GB, lr=0.00100, valid_loss=1.4273]\n"
     ]
    },
    {
     "name": "stdout",
     "output_type": "stream",
     "text": [
      "Best val Loss classification: 1.427325,Best val Acc classification:0.493622\n"
     ]
    },
    {
     "name": "stderr",
     "output_type": "stream",
     "text": [
      "Epocha train 41/300: 100%|██████████| 225/225 [00:42<00:00,  5.35it/s, acc=0.50434, gpu_memory=2.88 GB, lr=0.00100, valid_loss=1.4016]\n",
      "Epocha val 41/300: 100%|██████████| 98/98 [00:08<00:00, 11.41it/s, acc=0.50422, gpu_memory=2.88 GB, lr=0.00100, valid_loss=1.4384]\n",
      "Epocha train 42/300: 100%|██████████| 225/225 [00:38<00:00,  5.79it/s, acc=0.50230, gpu_memory=2.88 GB, lr=0.00100, valid_loss=1.3796]\n",
      "Epocha val 42/300: 100%|██████████| 98/98 [00:13<00:00,  7.39it/s, acc=0.51878, gpu_memory=2.88 GB, lr=0.00100, valid_loss=1.4035]\n"
     ]
    },
    {
     "name": "stdout",
     "output_type": "stream",
     "text": [
      "Best val Loss classification: 1.403459,Best val Acc classification:0.504337\n"
     ]
    },
    {
     "name": "stderr",
     "output_type": "stream",
     "text": [
      "Epocha train 43/300: 100%|██████████| 225/225 [00:35<00:00,  6.39it/s, acc=0.52143, gpu_memory=2.88 GB, lr=0.00100, valid_loss=1.3641]\n",
      "Epocha val 43/300: 100%|██████████| 98/98 [00:12<00:00,  7.72it/s, acc=0.52244, gpu_memory=2.88 GB, lr=0.00100, valid_loss=1.4151]\n",
      "Epocha train 44/300: 100%|██████████| 225/225 [00:40<00:00,  5.60it/s, acc=0.50867, gpu_memory=2.88 GB, lr=0.00100, valid_loss=1.3451]\n",
      "Epocha val 44/300: 100%|██████████| 98/98 [00:08<00:00, 11.92it/s, acc=0.52178, gpu_memory=2.88 GB, lr=0.00100, valid_loss=1.4136]\n",
      "Epocha train 45/300: 100%|██████████| 225/225 [00:42<00:00,  5.34it/s, acc=0.50791, gpu_memory=2.88 GB, lr=0.00100, valid_loss=1.3338]\n",
      "Epocha val 45/300: 100%|██████████| 98/98 [00:12<00:00,  7.64it/s, acc=0.53944, gpu_memory=2.88 GB, lr=0.00100, valid_loss=1.3969]\n",
      "Epocha train 46/300: 100%|██████████| 225/225 [00:35<00:00,  6.37it/s, acc=0.51505, gpu_memory=2.88 GB, lr=0.00100, valid_loss=1.3221]\n",
      "Epocha val 46/300: 100%|██████████| 98/98 [00:12<00:00,  7.64it/s, acc=0.53756, gpu_memory=2.88 GB, lr=0.00100, valid_loss=1.4011]\n"
     ]
    },
    {
     "name": "stdout",
     "output_type": "stream",
     "text": [
      "Best val Loss classification: 1.396916,Best val Acc classification:0.521429\n"
     ]
    },
    {
     "name": "stderr",
     "output_type": "stream",
     "text": [
      "Epocha train 47/300: 100%|██████████| 225/225 [00:38<00:00,  5.81it/s, acc=0.52398, gpu_memory=2.88 GB, lr=0.00100, valid_loss=1.3036]\n",
      "Epocha val 47/300: 100%|██████████| 98/98 [00:09<00:00, 10.55it/s, acc=0.54256, gpu_memory=2.88 GB, lr=0.00100, valid_loss=1.4028]\n",
      "Epocha train 48/300: 100%|██████████| 225/225 [00:42<00:00,  5.32it/s, acc=0.51760, gpu_memory=2.88 GB, lr=0.00100, valid_loss=1.3061]\n",
      "Epocha val 48/300: 100%|██████████| 98/98 [00:10<00:00,  9.00it/s, acc=0.54100, gpu_memory=2.88 GB, lr=0.00100, valid_loss=1.3588]\n"
     ]
    },
    {
     "name": "stdout",
     "output_type": "stream",
     "text": [
      "Best val Loss classification: 1.358756,Best val Acc classification:0.523980\n"
     ]
    },
    {
     "name": "stderr",
     "output_type": "stream",
     "text": [
      "Epocha train 49/300: 100%|██████████| 225/225 [00:37<00:00,  6.04it/s, acc=0.52602, gpu_memory=2.88 GB, lr=0.00100, valid_loss=1.2900]\n",
      "Epocha val 49/300: 100%|██████████| 98/98 [00:12<00:00,  7.63it/s, acc=0.55522, gpu_memory=2.88 GB, lr=0.00100, valid_loss=1.3675]"
     ]
    },
    {
     "name": "stdout",
     "output_type": "stream",
     "text": [
      "Best val Loss classification: 1.358756,Best val Acc classification:0.526020\n"
     ]
    },
    {
     "name": "stderr",
     "output_type": "stream",
     "text": [
      "\n",
      "Epocha train 50/300: 100%|██████████| 225/225 [00:36<00:00,  6.23it/s, acc=0.53827, gpu_memory=2.88 GB, lr=0.00100, valid_loss=1.2804]\n",
      "Epocha val 50/300: 100%|██████████| 98/98 [00:13<00:00,  7.53it/s, acc=0.55144, gpu_memory=2.88 GB, lr=0.00010, valid_loss=1.3592]\n",
      "Epocha train 51/300: 100%|██████████| 225/225 [00:42<00:00,  5.36it/s, acc=0.53367, gpu_memory=2.88 GB, lr=0.00010, valid_loss=1.2599]\n",
      "Epocha val 51/300: 100%|██████████| 98/98 [00:08<00:00, 11.67it/s, acc=0.56011, gpu_memory=2.88 GB, lr=0.00010, valid_loss=1.3312]\n"
     ]
    },
    {
     "name": "stdout",
     "output_type": "stream",
     "text": [
      "Best val Loss classification: 1.331155,Best val Acc classification:0.538265\n"
     ]
    },
    {
     "name": "stderr",
     "output_type": "stream",
     "text": [
      "Epocha train 52/300: 100%|██████████| 225/225 [00:38<00:00,  5.84it/s, acc=0.54005, gpu_memory=2.88 GB, lr=0.00010, valid_loss=1.2323]\n",
      "Epocha val 52/300: 100%|██████████| 98/98 [00:12<00:00,  7.87it/s, acc=0.57167, gpu_memory=2.88 GB, lr=0.00010, valid_loss=1.3216]\n"
     ]
    },
    {
     "name": "stdout",
     "output_type": "stream",
     "text": [
      "Best val Loss classification: 1.321596,Best val Acc classification:0.540051\n"
     ]
    },
    {
     "name": "stderr",
     "output_type": "stream",
     "text": [
      "Epocha train 53/300: 100%|██████████| 225/225 [00:35<00:00,  6.27it/s, acc=0.54260, gpu_memory=2.88 GB, lr=0.00010, valid_loss=1.1855]\n",
      "Epocha val 53/300: 100%|██████████| 98/98 [00:13<00:00,  7.25it/s, acc=0.59278, gpu_memory=2.88 GB, lr=0.00010, valid_loss=1.3026]\n"
     ]
    },
    {
     "name": "stdout",
     "output_type": "stream",
     "text": [
      "Best val Loss classification: 1.302640,Best val Acc classification:0.542602\n"
     ]
    },
    {
     "name": "stderr",
     "output_type": "stream",
     "text": [
      "Epocha train 54/300: 100%|██████████| 225/225 [00:40<00:00,  5.62it/s, acc=0.54694, gpu_memory=2.88 GB, lr=0.00010, valid_loss=1.1936]\n",
      "Epocha val 54/300: 100%|██████████| 98/98 [00:08<00:00, 11.83it/s, acc=0.58911, gpu_memory=2.88 GB, lr=0.00010, valid_loss=1.3187]\n"
     ]
    },
    {
     "name": "stdout",
     "output_type": "stream",
     "text": [
      "Best val Loss classification: 1.302640,Best val Acc classification:0.546939\n"
     ]
    },
    {
     "name": "stderr",
     "output_type": "stream",
     "text": [
      "Epocha train 55/300: 100%|██████████| 225/225 [00:42<00:00,  5.35it/s, acc=0.54796, gpu_memory=2.88 GB, lr=0.00010, valid_loss=1.1708]\n",
      "Epocha val 55/300: 100%|██████████| 98/98 [00:13<00:00,  7.38it/s, acc=0.59144, gpu_memory=2.88 GB, lr=0.00010, valid_loss=1.3036]\n"
     ]
    },
    {
     "name": "stdout",
     "output_type": "stream",
     "text": [
      "Best val Loss classification: 1.302640,Best val Acc classification:0.547959\n"
     ]
    },
    {
     "name": "stderr",
     "output_type": "stream",
     "text": [
      "Epocha train 56/300: 100%|██████████| 225/225 [00:35<00:00,  6.30it/s, acc=0.55408, gpu_memory=2.88 GB, lr=0.00010, valid_loss=1.1503]\n",
      "Epocha val 56/300: 100%|██████████| 98/98 [00:13<00:00,  7.48it/s, acc=0.59778, gpu_memory=2.88 GB, lr=0.00010, valid_loss=1.3111]\n",
      "Epocha train 57/300: 100%|██████████| 225/225 [00:38<00:00,  5.91it/s, acc=0.54719, gpu_memory=2.88 GB, lr=0.00010, valid_loss=1.1622]\n",
      "Epocha val 57/300: 100%|██████████| 98/98 [00:10<00:00,  8.99it/s, acc=0.60489, gpu_memory=2.88 GB, lr=0.00010, valid_loss=1.2837]\n"
     ]
    },
    {
     "name": "stdout",
     "output_type": "stream",
     "text": [
      "Best val Loss classification: 1.283650,Best val Acc classification:0.554082\n"
     ]
    },
    {
     "name": "stderr",
     "output_type": "stream",
     "text": [
      "Epocha train 58/300: 100%|██████████| 225/225 [00:42<00:00,  5.33it/s, acc=0.55842, gpu_memory=2.88 GB, lr=0.00010, valid_loss=1.1480]\n",
      "Epocha val 58/300: 100%|██████████| 98/98 [00:09<00:00,  9.94it/s, acc=0.60578, gpu_memory=2.88 GB, lr=0.00010, valid_loss=1.2900]\n"
     ]
    },
    {
     "name": "stdout",
     "output_type": "stream",
     "text": [
      "Best val Loss classification: 1.283650,Best val Acc classification:0.558418\n"
     ]
    },
    {
     "name": "stderr",
     "output_type": "stream",
     "text": [
      "Epocha train 59/300: 100%|██████████| 225/225 [00:39<00:00,  5.76it/s, acc=0.56148, gpu_memory=2.88 GB, lr=0.00010, valid_loss=1.1403]\n",
      "Epocha val 59/300: 100%|██████████| 98/98 [00:13<00:00,  7.34it/s, acc=0.60744, gpu_memory=2.88 GB, lr=0.00010, valid_loss=1.2851]\n",
      "Epocha train 60/300: 100%|██████████| 225/225 [00:35<00:00,  6.25it/s, acc=0.55791, gpu_memory=2.88 GB, lr=0.00010, valid_loss=1.1065]\n",
      "Epocha val 60/300: 100%|██████████| 98/98 [00:13<00:00,  7.42it/s, acc=0.62011, gpu_memory=2.88 GB, lr=0.00010, valid_loss=1.2814]\n"
     ]
    },
    {
     "name": "stdout",
     "output_type": "stream",
     "text": [
      "Best val Loss classification: 1.281381,Best val Acc classification:0.561480\n"
     ]
    },
    {
     "name": "stderr",
     "output_type": "stream",
     "text": [
      "Epocha train 61/300: 100%|██████████| 225/225 [00:39<00:00,  5.67it/s, acc=0.56888, gpu_memory=2.88 GB, lr=0.00010, valid_loss=1.1193]\n",
      "Epocha val 61/300: 100%|██████████| 98/98 [00:09<00:00, 10.81it/s, acc=0.61322, gpu_memory=2.88 GB, lr=0.00010, valid_loss=1.2941]\n",
      "Epocha train 62/300: 100%|██████████| 225/225 [00:41<00:00,  5.37it/s, acc=0.55995, gpu_memory=2.88 GB, lr=0.00010, valid_loss=1.1152]\n",
      "Epocha val 62/300: 100%|██████████| 98/98 [00:13<00:00,  7.03it/s, acc=0.61622, gpu_memory=2.88 GB, lr=0.00010, valid_loss=1.2755]\n",
      "Epocha train 63/300: 100%|██████████| 225/225 [00:37<00:00,  6.00it/s, acc=0.56403, gpu_memory=2.88 GB, lr=0.00010, valid_loss=1.1126]\n",
      "Epocha val 63/300: 100%|██████████| 98/98 [00:12<00:00,  7.55it/s, acc=0.62133, gpu_memory=2.88 GB, lr=0.00010, valid_loss=1.2938]\n",
      "Epocha train 64/300: 100%|██████████| 225/225 [00:36<00:00,  6.15it/s, acc=0.55077, gpu_memory=2.88 GB, lr=0.00010, valid_loss=1.0993]\n",
      "Epocha val 64/300: 100%|██████████| 98/98 [00:13<00:00,  7.51it/s, acc=0.61967, gpu_memory=2.88 GB, lr=0.00010, valid_loss=1.2739]\n",
      "Epocha train 65/300: 100%|██████████| 225/225 [00:41<00:00,  5.38it/s, acc=0.56122, gpu_memory=2.88 GB, lr=0.00010, valid_loss=1.0941]\n",
      "Epocha val 65/300: 100%|██████████| 98/98 [00:08<00:00, 11.45it/s, acc=0.62489, gpu_memory=2.88 GB, lr=0.00010, valid_loss=1.2905]\n",
      "Epocha train 66/300: 100%|██████████| 225/225 [00:39<00:00,  5.70it/s, acc=0.55638, gpu_memory=2.88 GB, lr=0.00010, valid_loss=1.0921]\n",
      "Epocha val 66/300: 100%|██████████| 98/98 [00:12<00:00,  7.56it/s, acc=0.62200, gpu_memory=2.88 GB, lr=0.00010, valid_loss=1.2834]\n",
      "Epocha train 67/300: 100%|██████████| 225/225 [00:36<00:00,  6.22it/s, acc=0.56250, gpu_memory=2.88 GB, lr=0.00010, valid_loss=1.0778]\n",
      "Epocha val 67/300: 100%|██████████| 98/98 [00:13<00:00,  7.53it/s, acc=0.62978, gpu_memory=2.88 GB, lr=0.00010, valid_loss=1.2869]\n"
     ]
    },
    {
     "name": "stdout",
     "output_type": "stream",
     "text": [
      "Best val Loss classification: 1.273928,Best val Acc classification:0.568878\n"
     ]
    },
    {
     "name": "stderr",
     "output_type": "stream",
     "text": [
      "Epocha train 68/300: 100%|██████████| 225/225 [00:39<00:00,  5.69it/s, acc=0.56964, gpu_memory=2.88 GB, lr=0.00010, valid_loss=1.0727]\n",
      "Epocha val 68/300: 100%|██████████| 98/98 [00:08<00:00, 11.86it/s, acc=0.62944, gpu_memory=2.88 GB, lr=0.00010, valid_loss=1.2826]\n",
      "Epocha train 69/300: 100%|██████████| 225/225 [00:42<00:00,  5.30it/s, acc=0.56582, gpu_memory=2.88 GB, lr=0.00010, valid_loss=1.0705]\n",
      "Epocha val 69/300: 100%|██████████| 98/98 [00:13<00:00,  7.45it/s, acc=0.63411, gpu_memory=2.88 GB, lr=0.00010, valid_loss=1.2821]\n",
      "Epocha train 70/300: 100%|██████████| 225/225 [00:37<00:00,  5.98it/s, acc=0.56633, gpu_memory=2.88 GB, lr=0.00010, valid_loss=1.0659]\n",
      "Epocha val 70/300: 100%|██████████| 98/98 [00:12<00:00,  7.88it/s, acc=0.63400, gpu_memory=2.88 GB, lr=0.00010, valid_loss=1.2908]\n",
      "Epocha train 71/300: 100%|██████████| 225/225 [00:36<00:00,  6.12it/s, acc=0.55740, gpu_memory=2.88 GB, lr=0.00010, valid_loss=1.0750]\n",
      "Epocha val 71/300: 100%|██████████| 98/98 [00:11<00:00,  8.17it/s, acc=0.63556, gpu_memory=2.88 GB, lr=0.00010, valid_loss=1.3047]\n",
      "Epocha train 72/300: 100%|██████████| 225/225 [00:42<00:00,  5.35it/s, acc=0.56173, gpu_memory=2.88 GB, lr=0.00010, valid_loss=1.0597]\n",
      "Epocha val 72/300: 100%|██████████| 98/98 [00:09<00:00, 10.45it/s, acc=0.63578, gpu_memory=2.88 GB, lr=0.00010, valid_loss=1.2724]\n"
     ]
    },
    {
     "name": "stdout",
     "output_type": "stream",
     "text": [
      "Best val Loss classification: 1.272449,Best val Acc classification:0.569643\n"
     ]
    },
    {
     "name": "stderr",
     "output_type": "stream",
     "text": [
      "Epocha train 73/300: 100%|██████████| 225/225 [00:38<00:00,  5.80it/s, acc=0.57015, gpu_memory=2.88 GB, lr=0.00010, valid_loss=1.0633]\n",
      "Epocha val 73/300: 100%|██████████| 98/98 [00:13<00:00,  7.41it/s, acc=0.63700, gpu_memory=2.88 GB, lr=0.00010, valid_loss=1.2851]\n",
      "Epocha train 74/300: 100%|██████████| 225/225 [00:34<00:00,  6.46it/s, acc=0.56888, gpu_memory=2.88 GB, lr=0.00010, valid_loss=1.0381]\n",
      "Epocha val 74/300: 100%|██████████| 98/98 [00:13<00:00,  7.33it/s, acc=0.64467, gpu_memory=2.88 GB, lr=0.00010, valid_loss=1.2842]\n",
      "Epocha train 75/300: 100%|██████████| 225/225 [00:40<00:00,  5.58it/s, acc=0.56173, gpu_memory=2.88 GB, lr=0.00010, valid_loss=1.0530]\n",
      "Epocha val 75/300: 100%|██████████| 98/98 [00:08<00:00, 11.63it/s, acc=0.64378, gpu_memory=2.88 GB, lr=0.00010, valid_loss=1.2845]\n",
      "Epocha train 76/300: 100%|██████████| 225/225 [00:42<00:00,  5.36it/s, acc=0.56276, gpu_memory=2.88 GB, lr=0.00010, valid_loss=1.0625]\n",
      "Epocha val 76/300: 100%|██████████| 98/98 [00:13<00:00,  7.33it/s, acc=0.63600, gpu_memory=2.88 GB, lr=0.00010, valid_loss=1.2969]\n",
      "Epocha train 77/300: 100%|██████████| 225/225 [00:35<00:00,  6.33it/s, acc=0.55842, gpu_memory=2.88 GB, lr=0.00010, valid_loss=1.0392]\n",
      "Epocha val 77/300: 100%|██████████| 98/98 [00:13<00:00,  7.27it/s, acc=0.64489, gpu_memory=2.88 GB, lr=0.00010, valid_loss=1.2897]\n",
      "Epocha train 78/300: 100%|██████████| 225/225 [00:38<00:00,  5.88it/s, acc=0.56888, gpu_memory=2.88 GB, lr=0.00010, valid_loss=1.0369]\n",
      "Epocha val 78/300: 100%|██████████| 98/98 [00:10<00:00,  9.18it/s, acc=0.64022, gpu_memory=2.88 GB, lr=0.00010, valid_loss=1.2804]"
     ]
    },
    {
     "name": "stdout",
     "output_type": "stream",
     "text": [
      "Best val Loss classification: 1.272449,Best val Acc classification:0.570153\n"
     ]
    },
    {
     "name": "stderr",
     "output_type": "stream",
     "text": [
      "\n",
      "Epocha train 79/300: 100%|██████████| 225/225 [00:41<00:00,  5.37it/s, acc=0.57194, gpu_memory=2.88 GB, lr=0.00010, valid_loss=1.0334]\n",
      "Epocha val 79/300: 100%|██████████| 98/98 [00:10<00:00,  9.55it/s, acc=0.65111, gpu_memory=2.88 GB, lr=0.00010, valid_loss=1.3018]\n",
      "Epocha train 80/300: 100%|██████████| 225/225 [00:38<00:00,  5.91it/s, acc=0.56020, gpu_memory=2.88 GB, lr=0.00010, valid_loss=1.0397]\n",
      "Epocha val 80/300: 100%|██████████| 98/98 [00:13<00:00,  7.35it/s, acc=0.64367, gpu_memory=2.88 GB, lr=0.00010, valid_loss=1.2912]\n",
      "Epocha train 81/300: 100%|██████████| 225/225 [00:35<00:00,  6.29it/s, acc=0.56658, gpu_memory=2.88 GB, lr=0.00010, valid_loss=1.0179]\n",
      "Epocha val 81/300: 100%|██████████| 98/98 [00:13<00:00,  7.31it/s, acc=0.64844, gpu_memory=2.88 GB, lr=0.00010, valid_loss=1.2878]\n",
      "Epocha train 82/300: 100%|██████████| 225/225 [00:41<00:00,  5.43it/s, acc=0.56199, gpu_memory=2.88 GB, lr=0.00010, valid_loss=1.0247]\n",
      "Epocha val 82/300: 100%|██████████| 98/98 [00:09<00:00, 10.71it/s, acc=0.65178, gpu_memory=2.88 GB, lr=0.00010, valid_loss=1.2956]\n",
      "Epocha train 83/300: 100%|██████████| 225/225 [00:42<00:00,  5.34it/s, acc=0.55816, gpu_memory=2.88 GB, lr=0.00010, valid_loss=1.0242]\n",
      "Epocha val 83/300: 100%|██████████| 98/98 [00:13<00:00,  7.51it/s, acc=0.64978, gpu_memory=2.88 GB, lr=0.00010, valid_loss=1.2898]\n",
      "Epocha train 84/300: 100%|██████████| 225/225 [00:36<00:00,  6.25it/s, acc=0.56378, gpu_memory=2.88 GB, lr=0.00010, valid_loss=0.9940]\n",
      "Epocha val 84/300: 100%|██████████| 98/98 [00:13<00:00,  7.38it/s, acc=0.65922, gpu_memory=2.88 GB, lr=0.00010, valid_loss=1.2875]\n",
      "Epocha train 85/300: 100%|██████████| 225/225 [00:38<00:00,  5.89it/s, acc=0.56505, gpu_memory=2.88 GB, lr=0.00010, valid_loss=1.0109]\n",
      "Epocha val 85/300: 100%|██████████| 98/98 [00:11<00:00,  8.38it/s, acc=0.65556, gpu_memory=2.88 GB, lr=0.00010, valid_loss=1.2774]\n",
      "Epocha train 86/300: 100%|██████████| 225/225 [00:42<00:00,  5.33it/s, acc=0.56429, gpu_memory=2.88 GB, lr=0.00010, valid_loss=1.0009]\n",
      "Epocha val 86/300: 100%|██████████| 98/98 [00:09<00:00, 10.00it/s, acc=0.66211, gpu_memory=2.88 GB, lr=0.00010, valid_loss=1.2948]\n",
      "Epocha train 87/300: 100%|██████████| 225/225 [00:39<00:00,  5.72it/s, acc=0.56429, gpu_memory=2.88 GB, lr=0.00010, valid_loss=1.0008]\n",
      "Epocha val 87/300: 100%|██████████| 98/98 [00:12<00:00,  7.69it/s, acc=0.66356, gpu_memory=2.88 GB, lr=0.00010, valid_loss=1.2994]\n",
      "Epocha train 88/300: 100%|██████████| 225/225 [00:36<00:00,  6.19it/s, acc=0.57143, gpu_memory=2.88 GB, lr=0.00010, valid_loss=0.9853]\n",
      "Epocha val 88/300: 100%|██████████| 98/98 [00:13<00:00,  7.53it/s, acc=0.66667, gpu_memory=2.88 GB, lr=0.00010, valid_loss=1.2971]\n",
      "Epocha train 89/300: 100%|██████████| 225/225 [00:40<00:00,  5.60it/s, acc=0.56582, gpu_memory=2.88 GB, lr=0.00010, valid_loss=0.9918]\n",
      "Epocha val 89/300: 100%|██████████| 98/98 [00:08<00:00, 12.19it/s, acc=0.66622, gpu_memory=2.88 GB, lr=0.00010, valid_loss=1.2984]\n",
      "Epocha train 90/300: 100%|██████████| 225/225 [00:42<00:00,  5.36it/s, acc=0.56327, gpu_memory=2.88 GB, lr=0.00010, valid_loss=0.9889]\n",
      "Epocha val 90/300: 100%|██████████| 98/98 [00:13<00:00,  7.54it/s, acc=0.67056, gpu_memory=2.88 GB, lr=0.00010, valid_loss=1.2892]\n",
      "Epocha train 91/300: 100%|██████████| 225/225 [00:35<00:00,  6.28it/s, acc=0.57015, gpu_memory=2.88 GB, lr=0.00010, valid_loss=0.9797]\n",
      "Epocha val 91/300: 100%|██████████| 98/98 [00:12<00:00,  7.76it/s, acc=0.67389, gpu_memory=2.88 GB, lr=0.00010, valid_loss=1.2939]\n",
      "Epocha train 92/300: 100%|██████████| 225/225 [00:38<00:00,  5.87it/s, acc=0.56837, gpu_memory=2.88 GB, lr=0.00010, valid_loss=0.9768]\n",
      "Epocha val 92/300: 100%|██████████| 98/98 [00:10<00:00,  9.25it/s, acc=0.66967, gpu_memory=2.88 GB, lr=0.00010, valid_loss=1.3022]\n"
     ]
    },
    {
     "name": "stdout",
     "output_type": "stream",
     "text": [
      "Best val Loss classification: 1.272449,Best val Acc classification:0.571939\n"
     ]
    },
    {
     "name": "stderr",
     "output_type": "stream",
     "text": [
      "Epocha train 93/300: 100%|██████████| 225/225 [00:43<00:00,  5.21it/s, acc=0.57245, gpu_memory=2.88 GB, lr=0.00010, valid_loss=0.9882]\n",
      "Epocha val 93/300: 100%|██████████| 98/98 [00:10<00:00,  8.92it/s, acc=0.66211, gpu_memory=2.88 GB, lr=0.00010, valid_loss=1.3013]\n",
      "Epocha train 94/300: 100%|██████████| 225/225 [00:39<00:00,  5.67it/s, acc=0.56378, gpu_memory=2.88 GB, lr=0.00010, valid_loss=0.9724]\n",
      "Epocha val 94/300: 100%|██████████| 98/98 [00:13<00:00,  7.31it/s, acc=0.67067, gpu_memory=2.88 GB, lr=0.00010, valid_loss=1.2938]\n",
      "Epocha train 95/300: 100%|██████████| 225/225 [00:37<00:00,  6.06it/s, acc=0.57245, gpu_memory=2.88 GB, lr=0.00010, valid_loss=0.9587]\n",
      "Epocha val 95/300: 100%|██████████| 98/98 [00:13<00:00,  7.32it/s, acc=0.67533, gpu_memory=2.88 GB, lr=0.00010, valid_loss=1.3051]\n",
      "Epocha train 96/300: 100%|██████████| 225/225 [00:38<00:00,  5.78it/s, acc=0.56582, gpu_memory=2.88 GB, lr=0.00010, valid_loss=0.9785]\n",
      "Epocha val 96/300: 100%|██████████| 98/98 [00:09<00:00, 10.65it/s, acc=0.67044, gpu_memory=2.88 GB, lr=0.00010, valid_loss=1.2862]\n",
      "Epocha train 97/300: 100%|██████████| 225/225 [00:41<00:00,  5.36it/s, acc=0.56913, gpu_memory=2.88 GB, lr=0.00010, valid_loss=0.9512]\n",
      "Epocha val 97/300: 100%|██████████| 98/98 [00:12<00:00,  7.76it/s, acc=0.67922, gpu_memory=2.88 GB, lr=0.00010, valid_loss=1.3075]\n",
      "Epocha train 98/300: 100%|██████████| 225/225 [00:38<00:00,  5.85it/s, acc=0.56454, gpu_memory=2.88 GB, lr=0.00010, valid_loss=0.9692]\n",
      "Epocha val 98/300: 100%|██████████| 98/98 [00:13<00:00,  7.48it/s, acc=0.67400, gpu_memory=2.88 GB, lr=0.00010, valid_loss=1.3009]\n",
      "Epocha train 99/300: 100%|██████████| 225/225 [00:35<00:00,  6.28it/s, acc=0.56352, gpu_memory=2.88 GB, lr=0.00010, valid_loss=0.9420]\n",
      "Epocha val 99/300: 100%|██████████| 98/98 [00:13<00:00,  7.42it/s, acc=0.68300, gpu_memory=2.88 GB, lr=0.00010, valid_loss=1.2953]\n",
      "Epocha train 100/300: 100%|██████████| 225/225 [00:41<00:00,  5.36it/s, acc=0.56403, gpu_memory=2.88 GB, lr=0.00010, valid_loss=0.9566]\n",
      "Epocha val 100/300: 100%|██████████| 98/98 [00:08<00:00, 11.10it/s, acc=0.67533, gpu_memory=2.88 GB, lr=0.00001, valid_loss=1.3009]\n",
      "Epocha train 101/300: 100%|██████████| 225/225 [00:40<00:00,  5.54it/s, acc=0.56505, gpu_memory=2.88 GB, lr=0.00001, valid_loss=0.9491]\n",
      "Epocha val 101/300: 100%|██████████| 98/98 [00:13<00:00,  7.44it/s, acc=0.68200, gpu_memory=2.88 GB, lr=0.00001, valid_loss=1.3004]\n"
     ]
    },
    {
     "name": "stdout",
     "output_type": "stream",
     "text": [
      "Best val Loss classification: 1.272449,Best val Acc classification:0.572449\n"
     ]
    },
    {
     "name": "stderr",
     "output_type": "stream",
     "text": [
      "Epocha train 102/300: 100%|██████████| 225/225 [00:35<00:00,  6.28it/s, acc=0.57321, gpu_memory=2.88 GB, lr=0.00001, valid_loss=0.9276]\n",
      "Epocha val 102/300: 100%|██████████| 98/98 [00:13<00:00,  7.17it/s, acc=0.68833, gpu_memory=2.88 GB, lr=0.00001, valid_loss=1.2899]\n",
      "Epocha train 103/300: 100%|██████████| 225/225 [00:38<00:00,  5.81it/s, acc=0.57219, gpu_memory=2.88 GB, lr=0.00001, valid_loss=0.9332]\n",
      "Epocha val 103/300: 100%|██████████| 98/98 [00:10<00:00,  9.43it/s, acc=0.68767, gpu_memory=2.88 GB, lr=0.00001, valid_loss=1.2948]\n",
      "Epocha train 104/300: 100%|██████████| 225/225 [00:42<00:00,  5.35it/s, acc=0.57117, gpu_memory=2.88 GB, lr=0.00001, valid_loss=0.9391]\n",
      "Epocha val 104/300: 100%|██████████| 98/98 [00:10<00:00,  9.72it/s, acc=0.68356, gpu_memory=2.88 GB, lr=0.00001, valid_loss=1.2986]\n",
      "Epocha train 105/300: 100%|██████████| 225/225 [00:38<00:00,  5.79it/s, acc=0.56556, gpu_memory=2.88 GB, lr=0.00001, valid_loss=0.9369]\n",
      "Epocha val 105/300: 100%|██████████| 98/98 [00:12<00:00,  7.68it/s, acc=0.68956, gpu_memory=2.88 GB, lr=0.00001, valid_loss=1.2831]\n"
     ]
    },
    {
     "name": "stdout",
     "output_type": "stream",
     "text": [
      "Best val Loss classification: 1.272449,Best val Acc classification:0.573214\n"
     ]
    },
    {
     "name": "stderr",
     "output_type": "stream",
     "text": [
      "Epocha train 106/300: 100%|██████████| 225/225 [00:35<00:00,  6.26it/s, acc=0.57883, gpu_memory=2.88 GB, lr=0.00001, valid_loss=0.9255]\n",
      "Epocha val 106/300: 100%|██████████| 98/98 [00:13<00:00,  7.34it/s, acc=0.69333, gpu_memory=2.88 GB, lr=0.00001, valid_loss=1.2910]\n",
      "Epocha train 107/300: 100%|██████████| 225/225 [00:41<00:00,  5.45it/s, acc=0.56378, gpu_memory=2.88 GB, lr=0.00001, valid_loss=0.9389]\n",
      "Epocha val 107/300: 100%|██████████| 98/98 [00:08<00:00, 10.93it/s, acc=0.68711, gpu_memory=2.88 GB, lr=0.00001, valid_loss=1.2857]\n",
      "Epocha train 108/300: 100%|██████████| 225/225 [00:42<00:00,  5.34it/s, acc=0.56327, gpu_memory=2.88 GB, lr=0.00001, valid_loss=0.9265]\n",
      "Epocha val 108/300: 100%|██████████| 98/98 [00:13<00:00,  7.32it/s, acc=0.68633, gpu_memory=2.88 GB, lr=0.00001, valid_loss=1.2786]\n",
      "Epocha train 109/300: 100%|██████████| 225/225 [00:36<00:00,  6.22it/s, acc=0.56786, gpu_memory=2.88 GB, lr=0.00001, valid_loss=0.9356]\n",
      "Epocha val 109/300: 100%|██████████| 98/98 [00:12<00:00,  7.65it/s, acc=0.68433, gpu_memory=2.88 GB, lr=0.00001, valid_loss=1.2910]\n",
      "Epocha train 110/300: 100%|██████████| 225/225 [00:38<00:00,  5.85it/s, acc=0.56378, gpu_memory=2.88 GB, lr=0.00001, valid_loss=0.9181]\n",
      "Epocha val 110/300: 100%|██████████| 98/98 [00:11<00:00,  8.67it/s, acc=0.69289, gpu_memory=2.88 GB, lr=0.00001, valid_loss=1.2869]\n",
      "Epocha train 111/300: 100%|██████████| 225/225 [00:42<00:00,  5.34it/s, acc=0.56582, gpu_memory=2.88 GB, lr=0.00001, valid_loss=0.9099]\n",
      "Epocha val 111/300: 100%|██████████| 98/98 [00:09<00:00,  9.82it/s, acc=0.69000, gpu_memory=2.88 GB, lr=0.00001, valid_loss=1.2764]\n",
      "Epocha train 112/300: 100%|██████████| 225/225 [00:39<00:00,  5.74it/s, acc=0.57143, gpu_memory=2.88 GB, lr=0.00001, valid_loss=0.9215]\n",
      "Epocha val 112/300: 100%|██████████| 98/98 [00:13<00:00,  7.40it/s, acc=0.69378, gpu_memory=2.88 GB, lr=0.00001, valid_loss=1.2903]\n",
      "Epocha train 113/300: 100%|██████████| 225/225 [00:35<00:00,  6.28it/s, acc=0.57143, gpu_memory=2.88 GB, lr=0.00001, valid_loss=0.9351]\n",
      "Epocha val 113/300: 100%|██████████| 98/98 [00:13<00:00,  7.35it/s, acc=0.68944, gpu_memory=2.88 GB, lr=0.00001, valid_loss=1.2825]\n",
      "Epocha train 114/300: 100%|██████████| 225/225 [00:40<00:00,  5.61it/s, acc=0.57066, gpu_memory=2.88 GB, lr=0.00001, valid_loss=0.9227]\n",
      "Epocha val 114/300: 100%|██████████| 98/98 [00:08<00:00, 11.67it/s, acc=0.68811, gpu_memory=2.88 GB, lr=0.00001, valid_loss=1.2784]\n",
      "Epocha train 115/300: 100%|██████████| 225/225 [00:41<00:00,  5.36it/s, acc=0.57143, gpu_memory=2.88 GB, lr=0.00001, valid_loss=0.9071]\n",
      "Epocha val 115/300: 100%|██████████| 98/98 [00:13<00:00,  7.45it/s, acc=0.69778, gpu_memory=2.88 GB, lr=0.00001, valid_loss=1.2908]\n",
      "Epocha train 116/300: 100%|██████████| 225/225 [00:35<00:00,  6.28it/s, acc=0.57117, gpu_memory=2.88 GB, lr=0.00001, valid_loss=0.8972]\n",
      "Epocha val 116/300: 100%|██████████| 98/98 [00:12<00:00,  7.60it/s, acc=0.69978, gpu_memory=2.88 GB, lr=0.00001, valid_loss=1.2881]\n",
      "Epocha train 117/300: 100%|██████████| 225/225 [00:38<00:00,  5.86it/s, acc=0.56276, gpu_memory=2.88 GB, lr=0.00001, valid_loss=0.9207]\n",
      "Epocha val 117/300: 100%|██████████| 98/98 [00:11<00:00,  8.78it/s, acc=0.69778, gpu_memory=2.88 GB, lr=0.00001, valid_loss=1.2891]\n",
      "Epocha train 118/300: 100%|██████████| 225/225 [00:42<00:00,  5.34it/s, acc=0.57347, gpu_memory=2.88 GB, lr=0.00001, valid_loss=0.9010]\n",
      "Epocha val 118/300: 100%|██████████| 98/98 [00:10<00:00,  9.66it/s, acc=0.69456, gpu_memory=2.88 GB, lr=0.00001, valid_loss=1.2898]\n",
      "Epocha train 119/300: 100%|██████████| 225/225 [00:39<00:00,  5.76it/s, acc=0.57245, gpu_memory=2.88 GB, lr=0.00001, valid_loss=0.8995]\n",
      "Epocha val 119/300: 100%|██████████| 98/98 [00:12<00:00,  7.56it/s, acc=0.69911, gpu_memory=2.88 GB, lr=0.00001, valid_loss=1.2839]\n",
      "Epocha train 120/300: 100%|██████████| 225/225 [00:36<00:00,  6.14it/s, acc=0.57832, gpu_memory=2.88 GB, lr=0.00001, valid_loss=0.9226]\n",
      "Epocha val 120/300: 100%|██████████| 98/98 [00:12<00:00,  7.56it/s, acc=0.68678, gpu_memory=2.88 GB, lr=0.00001, valid_loss=1.2907]\n",
      "Epocha train 121/300: 100%|██████████| 225/225 [00:40<00:00,  5.59it/s, acc=0.56352, gpu_memory=2.88 GB, lr=0.00001, valid_loss=0.9087]\n",
      "Epocha val 121/300: 100%|██████████| 98/98 [00:08<00:00, 11.75it/s, acc=0.69956, gpu_memory=2.88 GB, lr=0.00001, valid_loss=1.2924]\n",
      "Epocha train 122/300: 100%|██████████| 225/225 [00:42<00:00,  5.34it/s, acc=0.56301, gpu_memory=2.88 GB, lr=0.00001, valid_loss=0.9236]\n",
      "Epocha val 122/300: 100%|██████████| 98/98 [00:13<00:00,  7.35it/s, acc=0.69456, gpu_memory=2.88 GB, lr=0.00001, valid_loss=1.2838]\n",
      "Epocha train 123/300: 100%|██████████| 225/225 [00:36<00:00,  6.20it/s, acc=0.57526, gpu_memory=2.88 GB, lr=0.00001, valid_loss=0.8927]\n",
      "Epocha val 123/300: 100%|██████████| 98/98 [00:13<00:00,  7.38it/s, acc=0.69844, gpu_memory=2.88 GB, lr=0.00001, valid_loss=1.2908]\n",
      "Epocha train 124/300: 100%|██████████| 225/225 [00:38<00:00,  5.89it/s, acc=0.57194, gpu_memory=2.88 GB, lr=0.00001, valid_loss=0.9146]\n",
      "Epocha val 124/300: 100%|██████████| 98/98 [00:12<00:00,  7.80it/s, acc=0.69589, gpu_memory=2.88 GB, lr=0.00001, valid_loss=1.2857]\n",
      "Epocha train 125/300: 100%|██████████| 225/225 [00:42<00:00,  5.32it/s, acc=0.57270, gpu_memory=2.88 GB, lr=0.00001, valid_loss=0.8944]\n",
      "Epocha val 125/300: 100%|██████████| 98/98 [00:08<00:00, 11.15it/s, acc=0.70222, gpu_memory=2.88 GB, lr=0.00001, valid_loss=1.2951]\n",
      "Epocha train 126/300: 100%|██████████| 225/225 [00:39<00:00,  5.68it/s, acc=0.57449, gpu_memory=2.88 GB, lr=0.00001, valid_loss=0.9136]\n",
      "Epocha val 126/300: 100%|██████████| 98/98 [00:12<00:00,  7.77it/s, acc=0.69567, gpu_memory=2.88 GB, lr=0.00001, valid_loss=1.2931]\n"
     ]
    },
    {
     "name": "stdout",
     "output_type": "stream",
     "text": [
      "Best val Loss classification: 1.272449,Best val Acc classification:0.578827\n"
     ]
    },
    {
     "name": "stderr",
     "output_type": "stream",
     "text": [
      "Epocha train 127/300: 100%|██████████| 225/225 [00:36<00:00,  6.22it/s, acc=0.57934, gpu_memory=2.88 GB, lr=0.00001, valid_loss=0.9051]\n",
      "Epocha val 127/300: 100%|██████████| 98/98 [00:12<00:00,  7.67it/s, acc=0.69967, gpu_memory=2.88 GB, lr=0.00001, valid_loss=1.3023]\n",
      "Epocha train 128/300: 100%|██████████| 225/225 [00:40<00:00,  5.61it/s, acc=0.56556, gpu_memory=2.88 GB, lr=0.00001, valid_loss=0.9172]\n",
      "Epocha val 128/300: 100%|██████████| 98/98 [00:08<00:00, 11.95it/s, acc=0.69000, gpu_memory=2.88 GB, lr=0.00001, valid_loss=1.2936]\n",
      "Epocha train 129/300: 100%|██████████| 225/225 [00:42<00:00,  5.35it/s, acc=0.56862, gpu_memory=2.88 GB, lr=0.00001, valid_loss=0.9034]\n",
      "Epocha val 129/300: 100%|██████████| 98/98 [00:13<00:00,  7.51it/s, acc=0.69744, gpu_memory=2.88 GB, lr=0.00001, valid_loss=1.2957]\n",
      "Epocha train 130/300: 100%|██████████| 225/225 [00:36<00:00,  6.23it/s, acc=0.56429, gpu_memory=2.88 GB, lr=0.00001, valid_loss=0.9067]\n",
      "Epocha val 130/300: 100%|██████████| 98/98 [00:12<00:00,  7.71it/s, acc=0.70067, gpu_memory=2.88 GB, lr=0.00001, valid_loss=1.3215]\n",
      "Epocha train 131/300: 100%|██████████| 225/225 [00:38<00:00,  5.88it/s, acc=0.56071, gpu_memory=2.88 GB, lr=0.00001, valid_loss=0.9168]\n",
      "Epocha val 131/300: 100%|██████████| 98/98 [00:11<00:00,  8.61it/s, acc=0.69378, gpu_memory=2.88 GB, lr=0.00001, valid_loss=1.3047]\n",
      "Epocha train 132/300: 100%|██████████| 225/225 [00:42<00:00,  5.33it/s, acc=0.56735, gpu_memory=2.88 GB, lr=0.00001, valid_loss=0.8875]\n",
      "Epocha val 132/300: 100%|██████████| 98/98 [00:09<00:00, 10.19it/s, acc=0.70511, gpu_memory=2.88 GB, lr=0.00001, valid_loss=1.2880]\n",
      "Epocha train 133/300: 100%|██████████| 225/225 [00:38<00:00,  5.82it/s, acc=0.57194, gpu_memory=2.88 GB, lr=0.00001, valid_loss=0.8850]\n",
      "Epocha val 133/300: 100%|██████████| 98/98 [00:13<00:00,  7.46it/s, acc=0.70144, gpu_memory=2.88 GB, lr=0.00001, valid_loss=1.3060]\n",
      "Epocha train 134/300: 100%|██████████| 225/225 [00:36<00:00,  6.17it/s, acc=0.57526, gpu_memory=2.88 GB, lr=0.00001, valid_loss=0.8895]\n",
      "Epocha val 134/300: 100%|██████████| 98/98 [00:13<00:00,  7.33it/s, acc=0.70411, gpu_memory=2.88 GB, lr=0.00001, valid_loss=1.2912]\n",
      "Epocha train 135/300: 100%|██████████| 225/225 [00:40<00:00,  5.61it/s, acc=0.57398, gpu_memory=2.88 GB, lr=0.00001, valid_loss=0.9070]\n",
      "Epocha val 135/300: 100%|██████████| 98/98 [00:08<00:00, 11.51it/s, acc=0.70022, gpu_memory=2.88 GB, lr=0.00001, valid_loss=1.2953]\n",
      "Epocha train 136/300: 100%|██████████| 225/225 [00:42<00:00,  5.36it/s, acc=0.56454, gpu_memory=2.88 GB, lr=0.00001, valid_loss=0.8920]\n",
      "Epocha val 136/300: 100%|██████████| 98/98 [00:12<00:00,  7.59it/s, acc=0.70333, gpu_memory=2.88 GB, lr=0.00001, valid_loss=1.2869]\n",
      "Epocha train 137/300: 100%|██████████| 225/225 [00:36<00:00,  6.20it/s, acc=0.56352, gpu_memory=2.88 GB, lr=0.00001, valid_loss=0.8950]\n",
      "Epocha val 137/300: 100%|██████████| 98/98 [00:12<00:00,  7.79it/s, acc=0.70300, gpu_memory=2.88 GB, lr=0.00001, valid_loss=1.2932]\n",
      "Epocha train 138/300: 100%|██████████| 225/225 [00:38<00:00,  5.92it/s, acc=0.57092, gpu_memory=2.88 GB, lr=0.00001, valid_loss=0.9063]\n",
      "Epocha val 138/300: 100%|██████████| 98/98 [00:12<00:00,  8.13it/s, acc=0.69889, gpu_memory=2.88 GB, lr=0.00001, valid_loss=1.2906]\n",
      "Epocha train 139/300: 100%|██████████| 225/225 [00:42<00:00,  5.34it/s, acc=0.57066, gpu_memory=2.88 GB, lr=0.00001, valid_loss=0.9047]\n",
      "Epocha val 139/300: 100%|██████████| 98/98 [00:09<00:00, 10.18it/s, acc=0.69644, gpu_memory=2.88 GB, lr=0.00001, valid_loss=1.3019]\n",
      "Epocha train 140/300: 100%|██████████| 225/225 [00:39<00:00,  5.74it/s, acc=0.57347, gpu_memory=2.88 GB, lr=0.00001, valid_loss=0.9034]\n",
      "Epocha val 140/300: 100%|██████████| 98/98 [00:13<00:00,  7.43it/s, acc=0.69933, gpu_memory=2.88 GB, lr=0.00001, valid_loss=1.2975]\n",
      "Epocha train 141/300: 100%|██████████| 225/225 [00:35<00:00,  6.30it/s, acc=0.56735, gpu_memory=2.88 GB, lr=0.00001, valid_loss=0.8879]\n",
      "Epocha val 141/300: 100%|██████████| 98/98 [00:13<00:00,  7.52it/s, acc=0.69933, gpu_memory=2.88 GB, lr=0.00001, valid_loss=1.2867]\n",
      "Epocha train 142/300: 100%|██████████| 225/225 [00:39<00:00,  5.65it/s, acc=0.57015, gpu_memory=2.88 GB, lr=0.00001, valid_loss=0.8877]\n",
      "Epocha val 142/300: 100%|██████████| 98/98 [00:09<00:00, 10.86it/s, acc=0.70322, gpu_memory=2.88 GB, lr=0.00001, valid_loss=1.3032]\n",
      "Epocha train 143/300: 100%|██████████| 225/225 [00:42<00:00,  5.31it/s, acc=0.56990, gpu_memory=2.88 GB, lr=0.00001, valid_loss=0.8965]\n",
      "Epocha val 143/300: 100%|██████████| 98/98 [00:12<00:00,  7.65it/s, acc=0.70244, gpu_memory=2.88 GB, lr=0.00001, valid_loss=1.3138]\n",
      "Epocha train 144/300: 100%|██████████| 225/225 [00:36<00:00,  6.10it/s, acc=0.56480, gpu_memory=2.88 GB, lr=0.00001, valid_loss=0.8722]\n",
      "Epocha val 144/300: 100%|██████████| 98/98 [00:13<00:00,  7.41it/s, acc=0.71156, gpu_memory=2.88 GB, lr=0.00001, valid_loss=1.3074]\n",
      "Epocha train 145/300: 100%|██████████| 225/225 [00:37<00:00,  6.03it/s, acc=0.56403, gpu_memory=2.88 GB, lr=0.00001, valid_loss=0.8895]\n",
      "Epocha val 145/300: 100%|██████████| 98/98 [00:12<00:00,  7.71it/s, acc=0.70478, gpu_memory=2.88 GB, lr=0.00001, valid_loss=1.3036]\n",
      "Epocha train 146/300: 100%|██████████| 225/225 [00:42<00:00,  5.34it/s, acc=0.56786, gpu_memory=2.88 GB, lr=0.00001, valid_loss=0.8998]\n",
      "Epocha val 146/300: 100%|██████████| 98/98 [00:09<00:00, 10.71it/s, acc=0.70133, gpu_memory=2.88 GB, lr=0.00001, valid_loss=1.2742]\n",
      "Epocha train 147/300: 100%|██████████| 225/225 [00:39<00:00,  5.76it/s, acc=0.57602, gpu_memory=2.88 GB, lr=0.00001, valid_loss=0.8938]\n",
      "Epocha val 147/300: 100%|██████████| 98/98 [00:13<00:00,  7.35it/s, acc=0.69933, gpu_memory=2.88 GB, lr=0.00001, valid_loss=1.3015]\n",
      "Epocha train 148/300: 100%|██████████| 225/225 [00:36<00:00,  6.21it/s, acc=0.56939, gpu_memory=2.88 GB, lr=0.00001, valid_loss=0.8901]\n",
      "Epocha val 148/300: 100%|██████████| 98/98 [00:12<00:00,  7.75it/s, acc=0.70689, gpu_memory=2.88 GB, lr=0.00001, valid_loss=1.3050]\n",
      "Epocha train 149/300: 100%|██████████| 225/225 [00:39<00:00,  5.66it/s, acc=0.57423, gpu_memory=2.88 GB, lr=0.00001, valid_loss=0.8804]\n",
      "Epocha val 149/300: 100%|██████████| 98/98 [00:08<00:00, 11.45it/s, acc=0.70411, gpu_memory=2.88 GB, lr=0.00001, valid_loss=1.3015]\n",
      "Epocha train 150/300: 100%|██████████| 225/225 [00:42<00:00,  5.34it/s, acc=0.57423, gpu_memory=2.88 GB, lr=0.00001, valid_loss=0.9021]\n",
      "Epocha val 150/300: 100%|██████████| 98/98 [00:13<00:00,  7.35it/s, acc=0.70133, gpu_memory=2.88 GB, lr=0.00000, valid_loss=1.3249]\n",
      "Epocha train 151/300: 100%|██████████| 225/225 [00:36<00:00,  6.08it/s, acc=0.56276, gpu_memory=2.88 GB, lr=0.00000, valid_loss=0.8905]\n",
      "Epocha val 151/300: 100%|██████████| 98/98 [00:12<00:00,  7.72it/s, acc=0.70911, gpu_memory=2.88 GB, lr=0.00000, valid_loss=1.3044]\n",
      "Epocha train 152/300: 100%|██████████| 225/225 [00:37<00:00,  6.02it/s, acc=0.56684, gpu_memory=2.88 GB, lr=0.00000, valid_loss=0.8923]\n",
      "Epocha val 152/300: 100%|██████████| 98/98 [00:12<00:00,  7.62it/s, acc=0.70500, gpu_memory=2.88 GB, lr=0.00000, valid_loss=1.2998]\n",
      "Epocha train 153/300: 100%|██████████| 225/225 [00:42<00:00,  5.36it/s, acc=0.56888, gpu_memory=2.88 GB, lr=0.00000, valid_loss=0.8848]\n",
      "Epocha val 153/300: 100%|██████████| 98/98 [00:09<00:00, 10.45it/s, acc=0.70356, gpu_memory=2.88 GB, lr=0.00000, valid_loss=1.2963]\n",
      "Epocha train 154/300: 100%|██████████| 225/225 [00:39<00:00,  5.66it/s, acc=0.57755, gpu_memory=2.88 GB, lr=0.00000, valid_loss=0.8733]\n",
      "Epocha val 154/300: 100%|██████████| 98/98 [00:13<00:00,  7.25it/s, acc=0.71311, gpu_memory=2.88 GB, lr=0.00000, valid_loss=1.3025]\n",
      "Epocha train 155/300: 100%|██████████| 225/225 [00:36<00:00,  6.20it/s, acc=0.57168, gpu_memory=2.88 GB, lr=0.00000, valid_loss=0.8798]\n",
      "Epocha val 155/300: 100%|██████████| 98/98 [00:13<00:00,  7.48it/s, acc=0.71089, gpu_memory=2.88 GB, lr=0.00000, valid_loss=1.3038]\n",
      "Epocha train 156/300: 100%|██████████| 225/225 [00:39<00:00,  5.71it/s, acc=0.57168, gpu_memory=2.88 GB, lr=0.00000, valid_loss=0.8969]\n",
      "Epocha val 156/300: 100%|██████████| 98/98 [00:09<00:00, 10.29it/s, acc=0.70122, gpu_memory=2.88 GB, lr=0.00000, valid_loss=1.3003]\n",
      "Epocha train 157/300: 100%|██████████| 225/225 [00:41<00:00,  5.37it/s, acc=0.57755, gpu_memory=2.88 GB, lr=0.00000, valid_loss=0.8793]\n",
      "Epocha val 157/300: 100%|██████████| 98/98 [00:12<00:00,  7.88it/s, acc=0.70978, gpu_memory=2.88 GB, lr=0.00000, valid_loss=1.2864]\n",
      "Epocha train 158/300: 100%|██████████| 225/225 [00:38<00:00,  5.87it/s, acc=0.57270, gpu_memory=2.88 GB, lr=0.00000, valid_loss=0.8830]\n",
      "Epocha val 158/300: 100%|██████████| 98/98 [00:12<00:00,  7.57it/s, acc=0.71022, gpu_memory=2.88 GB, lr=0.00000, valid_loss=1.3048]\n",
      "Epocha train 159/300: 100%|██████████| 225/225 [00:36<00:00,  6.24it/s, acc=0.56352, gpu_memory=2.88 GB, lr=0.00000, valid_loss=0.8886]\n",
      "Epocha val 159/300: 100%|██████████| 98/98 [00:12<00:00,  7.63it/s, acc=0.70833, gpu_memory=2.88 GB, lr=0.00000, valid_loss=1.2773]\n",
      "Epocha train 160/300: 100%|██████████| 225/225 [00:42<00:00,  5.35it/s, acc=0.57015, gpu_memory=2.88 GB, lr=0.00000, valid_loss=0.8983]\n",
      "Epocha val 160/300: 100%|██████████| 98/98 [00:08<00:00, 11.68it/s, acc=0.70511, gpu_memory=2.88 GB, lr=0.00000, valid_loss=1.3054]\n",
      "Epocha train 161/300: 100%|██████████| 225/225 [00:39<00:00,  5.66it/s, acc=0.56480, gpu_memory=2.88 GB, lr=0.00000, valid_loss=0.8797]\n",
      "Epocha val 161/300: 100%|██████████| 98/98 [00:13<00:00,  7.43it/s, acc=0.70733, gpu_memory=2.88 GB, lr=0.00000, valid_loss=1.3102]\n",
      "Epocha train 162/300: 100%|██████████| 225/225 [00:36<00:00,  6.20it/s, acc=0.56352, gpu_memory=2.88 GB, lr=0.00000, valid_loss=0.8856]\n",
      "Epocha val 162/300: 100%|██████████| 98/98 [00:13<00:00,  7.38it/s, acc=0.70456, gpu_memory=2.88 GB, lr=0.00000, valid_loss=1.2858]\n",
      "Epocha train 163/300: 100%|██████████| 225/225 [00:39<00:00,  5.73it/s, acc=0.56862, gpu_memory=2.88 GB, lr=0.00000, valid_loss=0.8745]\n",
      "Epocha val 163/300: 100%|██████████| 98/98 [00:09<00:00, 10.67it/s, acc=0.70656, gpu_memory=2.88 GB, lr=0.00000, valid_loss=1.3072]\n",
      "Epocha train 164/300: 100%|██████████| 225/225 [00:42<00:00,  5.33it/s, acc=0.56199, gpu_memory=2.88 GB, lr=0.00000, valid_loss=0.8929]\n",
      "Epocha val 164/300: 100%|██████████| 98/98 [00:12<00:00,  7.82it/s, acc=0.70444, gpu_memory=2.88 GB, lr=0.00000, valid_loss=1.3042]\n",
      "Epocha train 165/300: 100%|██████████| 225/225 [00:38<00:00,  5.84it/s, acc=0.56862, gpu_memory=2.88 GB, lr=0.00000, valid_loss=0.8822]\n",
      "Epocha val 165/300: 100%|██████████| 98/98 [00:13<00:00,  7.32it/s, acc=0.69822, gpu_memory=2.88 GB, lr=0.00000, valid_loss=1.2862]\n",
      "Epocha train 166/300: 100%|██████████| 225/225 [00:36<00:00,  6.15it/s, acc=0.57526, gpu_memory=2.88 GB, lr=0.00000, valid_loss=0.8751]\n",
      "Epocha val 166/300: 100%|██████████| 98/98 [00:13<00:00,  7.36it/s, acc=0.70778, gpu_memory=2.88 GB, lr=0.00000, valid_loss=1.2970]\n",
      "Epocha train 167/300: 100%|██████████| 225/225 [00:42<00:00,  5.27it/s, acc=0.56556, gpu_memory=2.88 GB, lr=0.00000, valid_loss=0.8805]\n",
      "Epocha val 167/300: 100%|██████████| 98/98 [00:08<00:00, 11.53it/s, acc=0.70678, gpu_memory=2.88 GB, lr=0.00000, valid_loss=1.2935]\n",
      "Epocha train 168/300: 100%|██████████| 225/225 [00:40<00:00,  5.53it/s, acc=0.56378, gpu_memory=2.88 GB, lr=0.00000, valid_loss=0.8931]\n",
      "Epocha val 168/300: 100%|██████████| 98/98 [00:13<00:00,  7.43it/s, acc=0.69922, gpu_memory=2.88 GB, lr=0.00000, valid_loss=1.3012]\n",
      "Epocha train 169/300: 100%|██████████| 225/225 [00:36<00:00,  6.15it/s, acc=0.56020, gpu_memory=2.88 GB, lr=0.00000, valid_loss=0.8894]\n",
      "Epocha val 169/300: 100%|██████████| 98/98 [00:13<00:00,  7.37it/s, acc=0.70222, gpu_memory=2.88 GB, lr=0.00000, valid_loss=1.2937]\n",
      "Epocha train 170/300: 100%|██████████| 225/225 [00:39<00:00,  5.65it/s, acc=0.57041, gpu_memory=2.88 GB, lr=0.00000, valid_loss=0.8687]\n",
      "Epocha val 170/300: 100%|██████████| 98/98 [00:08<00:00, 11.65it/s, acc=0.71044, gpu_memory=2.88 GB, lr=0.00000, valid_loss=1.3047]\n",
      "Epocha train 171/300: 100%|██████████| 225/225 [00:42<00:00,  5.29it/s, acc=0.57041, gpu_memory=2.88 GB, lr=0.00000, valid_loss=0.8667]\n",
      "Epocha val 171/300: 100%|██████████| 98/98 [00:13<00:00,  7.36it/s, acc=0.71489, gpu_memory=2.88 GB, lr=0.00000, valid_loss=1.3065]\n",
      "Epocha train 172/300: 100%|██████████| 225/225 [00:38<00:00,  5.85it/s, acc=0.56224, gpu_memory=2.88 GB, lr=0.00000, valid_loss=0.8779]\n",
      "Epocha val 172/300: 100%|██████████| 98/98 [00:13<00:00,  7.27it/s, acc=0.71311, gpu_memory=2.88 GB, lr=0.00000, valid_loss=1.2972]\n",
      "Epocha train 173/300: 100%|██████████| 225/225 [00:36<00:00,  6.17it/s, acc=0.57143, gpu_memory=2.88 GB, lr=0.00000, valid_loss=0.8912]\n",
      "Epocha val 173/300: 100%|██████████| 98/98 [00:13<00:00,  7.12it/s, acc=0.70833, gpu_memory=2.88 GB, lr=0.00000, valid_loss=1.3067]\n",
      "Epocha train 174/300: 100%|██████████| 225/225 [00:42<00:00,  5.28it/s, acc=0.56709, gpu_memory=2.88 GB, lr=0.00000, valid_loss=0.9045]\n",
      "Epocha val 174/300: 100%|██████████| 98/98 [00:08<00:00, 11.30it/s, acc=0.69978, gpu_memory=2.88 GB, lr=0.00000, valid_loss=1.3102]\n",
      "Epocha train 175/300: 100%|██████████| 225/225 [00:40<00:00,  5.53it/s, acc=0.56913, gpu_memory=2.88 GB, lr=0.00000, valid_loss=0.8811]\n",
      "Epocha val 175/300: 100%|██████████| 98/98 [00:12<00:00,  7.65it/s, acc=0.70656, gpu_memory=2.88 GB, lr=0.00000, valid_loss=1.3043]\n",
      "Epocha train 176/300: 100%|██████████| 225/225 [00:36<00:00,  6.10it/s, acc=0.57423, gpu_memory=2.88 GB, lr=0.00000, valid_loss=0.8879]\n",
      "Epocha val 176/300: 100%|██████████| 98/98 [00:12<00:00,  7.61it/s, acc=0.71067, gpu_memory=2.88 GB, lr=0.00000, valid_loss=1.2957]\n",
      "Epocha train 177/300: 100%|██████████| 225/225 [00:39<00:00,  5.67it/s, acc=0.56964, gpu_memory=2.88 GB, lr=0.00000, valid_loss=0.8826]\n",
      "Epocha val 177/300: 100%|██████████| 98/98 [00:09<00:00, 10.75it/s, acc=0.70267, gpu_memory=2.88 GB, lr=0.00000, valid_loss=1.2883]\n",
      "Epocha train 178/300: 100%|██████████| 225/225 [00:42<00:00,  5.29it/s, acc=0.57270, gpu_memory=2.88 GB, lr=0.00000, valid_loss=0.8911]\n",
      "Epocha val 178/300: 100%|██████████| 98/98 [00:12<00:00,  7.95it/s, acc=0.70511, gpu_memory=2.88 GB, lr=0.00000, valid_loss=1.3044]\n",
      "Epocha train 179/300: 100%|██████████| 225/225 [00:38<00:00,  5.85it/s, acc=0.56990, gpu_memory=2.88 GB, lr=0.00000, valid_loss=0.8851]\n",
      "Epocha val 179/300: 100%|██████████| 98/98 [00:13<00:00,  7.29it/s, acc=0.70778, gpu_memory=2.88 GB, lr=0.00000, valid_loss=1.2996]\n",
      "Epocha train 180/300: 100%|██████████| 225/225 [00:36<00:00,  6.15it/s, acc=0.56837, gpu_memory=2.88 GB, lr=0.00000, valid_loss=0.8977]\n",
      "Epocha val 180/300: 100%|██████████| 98/98 [00:13<00:00,  7.30it/s, acc=0.69989, gpu_memory=2.88 GB, lr=0.00000, valid_loss=1.2979]\n",
      "Epocha train 181/300: 100%|██████████| 225/225 [00:44<00:00,  5.08it/s, acc=0.57168, gpu_memory=2.88 GB, lr=0.00000, valid_loss=0.8924]\n",
      "Epocha val 181/300: 100%|██████████| 98/98 [00:09<00:00, 10.67it/s, acc=0.70700, gpu_memory=2.88 GB, lr=0.00000, valid_loss=1.2931]\n",
      "Epocha train 182/300: 100%|██████████| 225/225 [00:42<00:00,  5.28it/s, acc=0.57296, gpu_memory=2.88 GB, lr=0.00000, valid_loss=0.8830]\n",
      "Epocha val 182/300: 100%|██████████| 98/98 [00:13<00:00,  7.33it/s, acc=0.71000, gpu_memory=2.88 GB, lr=0.00000, valid_loss=1.2884]\n",
      "Epocha train 183/300: 100%|██████████| 225/225 [00:36<00:00,  6.12it/s, acc=0.57679, gpu_memory=2.88 GB, lr=0.00000, valid_loss=0.8987]\n",
      "Epocha val 183/300: 100%|██████████| 98/98 [00:13<00:00,  7.44it/s, acc=0.70000, gpu_memory=2.88 GB, lr=0.00000, valid_loss=1.2955]\n",
      "Epocha train 184/300: 100%|██████████| 225/225 [00:38<00:00,  5.84it/s, acc=0.56990, gpu_memory=2.88 GB, lr=0.00000, valid_loss=0.8842]\n",
      "Epocha val 184/300: 100%|██████████| 98/98 [00:11<00:00,  8.18it/s, acc=0.69944, gpu_memory=2.88 GB, lr=0.00000, valid_loss=1.3077]\n",
      "Epocha train 185/300: 100%|██████████| 225/225 [00:42<00:00,  5.31it/s, acc=0.57577, gpu_memory=2.88 GB, lr=0.00000, valid_loss=0.8902]\n",
      "Epocha val 185/300: 100%|██████████| 98/98 [00:09<00:00, 10.56it/s, acc=0.70567, gpu_memory=2.88 GB, lr=0.00000, valid_loss=1.3028]\n",
      "Epocha train 186/300: 100%|██████████| 225/225 [00:39<00:00,  5.74it/s, acc=0.56735, gpu_memory=2.88 GB, lr=0.00000, valid_loss=0.8684]\n",
      "Epocha val 186/300: 100%|██████████| 98/98 [00:13<00:00,  7.23it/s, acc=0.71889, gpu_memory=2.88 GB, lr=0.00000, valid_loss=1.3068]\n",
      "Epocha train 187/300: 100%|██████████| 225/225 [00:36<00:00,  6.22it/s, acc=0.56837, gpu_memory=2.88 GB, lr=0.00000, valid_loss=0.8876]\n",
      "Epocha val 187/300: 100%|██████████| 98/98 [00:13<00:00,  7.29it/s, acc=0.70322, gpu_memory=2.88 GB, lr=0.00000, valid_loss=1.3099]\n",
      "Epocha train 188/300: 100%|██████████| 225/225 [00:40<00:00,  5.49it/s, acc=0.56020, gpu_memory=2.88 GB, lr=0.00000, valid_loss=0.8716]\n",
      "Epocha val 188/300: 100%|██████████| 98/98 [00:08<00:00, 11.10it/s, acc=0.71100, gpu_memory=2.88 GB, lr=0.00000, valid_loss=1.3006]\n",
      "Epocha train 189/300: 100%|██████████| 225/225 [00:42<00:00,  5.28it/s, acc=0.56964, gpu_memory=2.88 GB, lr=0.00000, valid_loss=0.8906]\n",
      "Epocha val 189/300: 100%|██████████| 98/98 [00:13<00:00,  7.40it/s, acc=0.70533, gpu_memory=2.88 GB, lr=0.00000, valid_loss=1.3028]\n",
      "Epocha train 190/300: 100%|██████████| 225/225 [00:36<00:00,  6.23it/s, acc=0.56990, gpu_memory=2.88 GB, lr=0.00000, valid_loss=0.8723]\n",
      "Epocha val 190/300: 100%|██████████| 98/98 [00:13<00:00,  7.40it/s, acc=0.71367, gpu_memory=2.88 GB, lr=0.00000, valid_loss=1.3050]\n",
      "Epocha train 191/300: 100%|██████████| 225/225 [00:38<00:00,  5.83it/s, acc=0.56811, gpu_memory=2.88 GB, lr=0.00000, valid_loss=0.9080]\n",
      "Epocha val 191/300: 100%|██████████| 98/98 [00:11<00:00,  8.71it/s, acc=0.70178, gpu_memory=2.88 GB, lr=0.00000, valid_loss=1.2992]\n",
      "Epocha train 192/300: 100%|██████████| 225/225 [00:42<00:00,  5.31it/s, acc=0.57066, gpu_memory=2.88 GB, lr=0.00000, valid_loss=0.8897]\n",
      "Epocha val 192/300: 100%|██████████| 98/98 [00:09<00:00,  9.94it/s, acc=0.70300, gpu_memory=2.88 GB, lr=0.00000, valid_loss=1.3016]\n",
      "Epocha train 193/300: 100%|██████████| 225/225 [00:38<00:00,  5.78it/s, acc=0.56837, gpu_memory=2.88 GB, lr=0.00000, valid_loss=0.8858]\n",
      "Epocha val 193/300: 100%|██████████| 98/98 [00:12<00:00,  7.69it/s, acc=0.70733, gpu_memory=2.88 GB, lr=0.00000, valid_loss=1.2904]\n",
      "Epocha train 194/300: 100%|██████████| 225/225 [00:36<00:00,  6.14it/s, acc=0.57347, gpu_memory=2.88 GB, lr=0.00000, valid_loss=0.8672]\n",
      "Epocha val 194/300: 100%|██████████| 98/98 [00:13<00:00,  7.48it/s, acc=0.71322, gpu_memory=2.88 GB, lr=0.00000, valid_loss=1.3004]\n",
      "Epocha train 195/300: 100%|██████████| 225/225 [00:41<00:00,  5.38it/s, acc=0.57245, gpu_memory=2.88 GB, lr=0.00000, valid_loss=0.8864]\n",
      "Epocha val 195/300: 100%|██████████| 98/98 [00:09<00:00, 10.75it/s, acc=0.70233, gpu_memory=2.88 GB, lr=0.00000, valid_loss=1.3020]\n",
      "Epocha train 196/300: 100%|██████████| 225/225 [00:42<00:00,  5.28it/s, acc=0.56735, gpu_memory=2.88 GB, lr=0.00000, valid_loss=0.8820]\n",
      "Epocha val 196/300: 100%|██████████| 98/98 [00:13<00:00,  7.40it/s, acc=0.70544, gpu_memory=2.88 GB, lr=0.00000, valid_loss=1.2968]\n",
      "Epocha train 197/300: 100%|██████████| 225/225 [00:36<00:00,  6.18it/s, acc=0.56429, gpu_memory=2.88 GB, lr=0.00000, valid_loss=0.8748]\n",
      "Epocha val 197/300: 100%|██████████| 98/98 [00:13<00:00,  7.39it/s, acc=0.71289, gpu_memory=2.88 GB, lr=0.00000, valid_loss=1.2902]\n",
      "Epocha train 198/300: 100%|██████████| 225/225 [00:38<00:00,  5.86it/s, acc=0.56684, gpu_memory=2.88 GB, lr=0.00000, valid_loss=0.8852]\n",
      "Epocha val 198/300: 100%|██████████| 98/98 [00:10<00:00,  8.95it/s, acc=0.70578, gpu_memory=2.88 GB, lr=0.00000, valid_loss=1.2869]\n",
      "Epocha train 199/300: 100%|██████████| 225/225 [00:42<00:00,  5.29it/s, acc=0.57679, gpu_memory=2.88 GB, lr=0.00000, valid_loss=0.8897]\n",
      "Epocha val 199/300: 100%|██████████| 98/98 [00:10<00:00,  9.71it/s, acc=0.70189, gpu_memory=2.88 GB, lr=0.00000, valid_loss=1.2991]\n",
      "Epocha train 200/300: 100%|██████████| 225/225 [00:39<00:00,  5.73it/s, acc=0.56454, gpu_memory=2.88 GB, lr=0.00000, valid_loss=0.8777]\n",
      "Epocha val 200/300: 100%|██████████| 98/98 [00:13<00:00,  7.47it/s, acc=0.71356, gpu_memory=2.88 GB, lr=0.00000, valid_loss=1.2985]\n",
      "Epocha train 201/300: 100%|██████████| 225/225 [00:36<00:00,  6.15it/s, acc=0.57526, gpu_memory=2.88 GB, lr=0.00000, valid_loss=0.8849]\n",
      "Epocha val 201/300: 100%|██████████| 98/98 [00:13<00:00,  7.32it/s, acc=0.70767, gpu_memory=2.88 GB, lr=0.00000, valid_loss=1.2922]\n",
      "Epocha train 202/300: 100%|██████████| 225/225 [00:41<00:00,  5.47it/s, acc=0.56633, gpu_memory=2.88 GB, lr=0.00000, valid_loss=0.8868]\n",
      "Epocha val 202/300: 100%|██████████| 98/98 [00:08<00:00, 11.22it/s, acc=0.70322, gpu_memory=2.88 GB, lr=0.00000, valid_loss=1.3025]\n",
      "Epocha train 203/300: 100%|██████████| 225/225 [00:42<00:00,  5.25it/s, acc=0.57398, gpu_memory=2.88 GB, lr=0.00000, valid_loss=0.8920]\n",
      "Epocha val 203/300: 100%|██████████| 98/98 [00:13<00:00,  7.24it/s, acc=0.70311, gpu_memory=2.88 GB, lr=0.00000, valid_loss=1.2918]\n",
      "Epocha train 204/300: 100%|██████████| 225/225 [00:36<00:00,  6.17it/s, acc=0.57474, gpu_memory=2.88 GB, lr=0.00000, valid_loss=0.9059]\n",
      "Epocha val 204/300: 100%|██████████| 98/98 [00:13<00:00,  7.21it/s, acc=0.70233, gpu_memory=2.88 GB, lr=0.00000, valid_loss=1.3138]\n",
      "Epocha train 205/300: 100%|██████████| 225/225 [00:38<00:00,  5.88it/s, acc=0.56760, gpu_memory=2.88 GB, lr=0.00000, valid_loss=0.8999]\n",
      "Epocha val 205/300: 100%|██████████| 98/98 [00:12<00:00,  8.08it/s, acc=0.69856, gpu_memory=2.88 GB, lr=0.00000, valid_loss=1.2937]\n",
      "Epocha train 206/300: 100%|██████████| 225/225 [00:42<00:00,  5.30it/s, acc=0.57168, gpu_memory=2.88 GB, lr=0.00000, valid_loss=0.8841]\n",
      "Epocha val 206/300: 100%|██████████| 98/98 [00:09<00:00, 10.21it/s, acc=0.70622, gpu_memory=2.88 GB, lr=0.00000, valid_loss=1.2825]\n",
      "Epocha train 207/300: 100%|██████████| 225/225 [00:39<00:00,  5.72it/s, acc=0.56939, gpu_memory=2.88 GB, lr=0.00000, valid_loss=0.8773]\n",
      "Epocha val 207/300: 100%|██████████| 98/98 [00:13<00:00,  7.06it/s, acc=0.70811, gpu_memory=2.88 GB, lr=0.00000, valid_loss=1.3093]\n",
      "Epocha train 208/300: 100%|██████████| 225/225 [00:36<00:00,  6.24it/s, acc=0.57423, gpu_memory=2.88 GB, lr=0.00000, valid_loss=0.8921]\n",
      "Epocha val 208/300: 100%|██████████| 98/98 [00:13<00:00,  7.28it/s, acc=0.70133, gpu_memory=2.88 GB, lr=0.00000, valid_loss=1.2986]\n",
      "Epocha train 209/300: 100%|██████████| 225/225 [00:40<00:00,  5.54it/s, acc=0.56122, gpu_memory=2.88 GB, lr=0.00000, valid_loss=0.8814]\n",
      "Epocha val 209/300: 100%|██████████| 98/98 [00:08<00:00, 10.92it/s, acc=0.70844, gpu_memory=2.88 GB, lr=0.00000, valid_loss=1.3053]\n",
      "Epocha train 210/300: 100%|██████████| 225/225 [00:42<00:00,  5.31it/s, acc=0.57270, gpu_memory=2.88 GB, lr=0.00000, valid_loss=0.8823]\n",
      "Epocha val 210/300: 100%|██████████| 98/98 [00:13<00:00,  7.31it/s, acc=0.70922, gpu_memory=2.88 GB, lr=0.00000, valid_loss=1.2902]\n",
      "Epocha train 211/300: 100%|██████████| 225/225 [00:36<00:00,  6.13it/s, acc=0.57117, gpu_memory=2.88 GB, lr=0.00000, valid_loss=0.8837]\n",
      "Epocha val 211/300: 100%|██████████| 98/98 [00:13<00:00,  7.42it/s, acc=0.70322, gpu_memory=2.88 GB, lr=0.00000, valid_loss=1.3061]\n",
      "Epocha train 212/300: 100%|██████████| 225/225 [00:38<00:00,  5.86it/s, acc=0.57143, gpu_memory=2.88 GB, lr=0.00000, valid_loss=0.8802]\n",
      "Epocha val 212/300: 100%|██████████| 98/98 [00:12<00:00,  7.90it/s, acc=0.70356, gpu_memory=2.88 GB, lr=0.00000, valid_loss=1.2936]\n",
      "Epocha train 213/300: 100%|██████████| 225/225 [00:42<00:00,  5.29it/s, acc=0.57194, gpu_memory=2.88 GB, lr=0.00000, valid_loss=0.8875]\n",
      "Epocha val 213/300: 100%|██████████| 98/98 [00:09<00:00, 10.39it/s, acc=0.70511, gpu_memory=2.88 GB, lr=0.00000, valid_loss=1.3049]\n",
      "Epocha train 214/300: 100%|██████████| 225/225 [00:39<00:00,  5.63it/s, acc=0.56633, gpu_memory=2.88 GB, lr=0.00000, valid_loss=0.8732]\n",
      "Epocha val 214/300: 100%|██████████| 98/98 [00:13<00:00,  7.25it/s, acc=0.71111, gpu_memory=2.88 GB, lr=0.00000, valid_loss=1.2989]\n",
      "Epocha train 215/300: 100%|██████████| 225/225 [00:36<00:00,  6.18it/s, acc=0.56480, gpu_memory=2.88 GB, lr=0.00000, valid_loss=0.8901]\n",
      "Epocha val 215/300: 100%|██████████| 98/98 [00:13<00:00,  7.47it/s, acc=0.70156, gpu_memory=2.88 GB, lr=0.00000, valid_loss=1.3124]\n",
      "Epocha train 216/300: 100%|██████████| 225/225 [00:40<00:00,  5.58it/s, acc=0.56760, gpu_memory=2.88 GB, lr=0.00000, valid_loss=0.9025]\n",
      "Epocha val 216/300: 100%|██████████| 98/98 [00:08<00:00, 11.00it/s, acc=0.70056, gpu_memory=2.88 GB, lr=0.00000, valid_loss=1.3105]\n",
      "Epocha train 217/300: 100%|██████████| 225/225 [00:42<00:00,  5.28it/s, acc=0.56199, gpu_memory=2.88 GB, lr=0.00000, valid_loss=0.8748]\n",
      "Epocha val 217/300: 100%|██████████| 98/98 [00:12<00:00,  7.71it/s, acc=0.71000, gpu_memory=2.88 GB, lr=0.00000, valid_loss=1.2948]\n",
      "Epocha train 218/300: 100%|██████████| 225/225 [00:36<00:00,  6.11it/s, acc=0.57500, gpu_memory=2.88 GB, lr=0.00000, valid_loss=0.8709]\n",
      "Epocha val 218/300: 100%|██████████| 98/98 [00:13<00:00,  7.25it/s, acc=0.71256, gpu_memory=2.88 GB, lr=0.00000, valid_loss=1.2987]\n",
      "Epocha train 219/300: 100%|██████████| 225/225 [00:37<00:00,  5.93it/s, acc=0.57066, gpu_memory=2.88 GB, lr=0.00000, valid_loss=0.8879]\n",
      "Epocha val 219/300: 100%|██████████| 98/98 [00:13<00:00,  7.53it/s, acc=0.70278, gpu_memory=2.88 GB, lr=0.00000, valid_loss=1.2820]\n",
      "Epocha train 220/300: 100%|██████████| 225/225 [00:42<00:00,  5.31it/s, acc=0.57398, gpu_memory=2.88 GB, lr=0.00000, valid_loss=0.8800]\n",
      "Epocha val 220/300: 100%|██████████| 98/98 [00:08<00:00, 10.92it/s, acc=0.70611, gpu_memory=2.88 GB, lr=0.00000, valid_loss=1.3067]\n",
      "Epocha train 221/300: 100%|██████████| 225/225 [00:39<00:00,  5.63it/s, acc=0.56862, gpu_memory=2.88 GB, lr=0.00000, valid_loss=0.8849]\n",
      "Epocha val 221/300: 100%|██████████| 98/98 [00:13<00:00,  7.37it/s, acc=0.70444, gpu_memory=2.88 GB, lr=0.00000, valid_loss=1.3057]\n",
      "Epocha train 222/300: 100%|██████████| 225/225 [00:36<00:00,  6.14it/s, acc=0.56327, gpu_memory=2.88 GB, lr=0.00000, valid_loss=0.8955]\n",
      "Epocha val 222/300: 100%|██████████| 98/98 [00:13<00:00,  7.51it/s, acc=0.70156, gpu_memory=2.88 GB, lr=0.00000, valid_loss=1.3044]\n",
      "Epocha train 223/300: 100%|██████████| 225/225 [00:39<00:00,  5.66it/s, acc=0.57577, gpu_memory=2.88 GB, lr=0.00000, valid_loss=0.8764]\n",
      "Epocha val 223/300: 100%|██████████| 98/98 [00:09<00:00, 10.36it/s, acc=0.71222, gpu_memory=2.88 GB, lr=0.00000, valid_loss=1.2883]\n",
      "Epocha train 224/300: 100%|██████████| 225/225 [00:42<00:00,  5.32it/s, acc=0.57092, gpu_memory=2.88 GB, lr=0.00000, valid_loss=0.8792]\n",
      "Epocha val 224/300: 100%|██████████| 98/98 [00:13<00:00,  7.53it/s, acc=0.70689, gpu_memory=2.88 GB, lr=0.00000, valid_loss=1.2911]\n",
      "Epocha train 225/300: 100%|██████████| 225/225 [00:38<00:00,  5.89it/s, acc=0.57270, gpu_memory=2.88 GB, lr=0.00000, valid_loss=0.9020]\n",
      "Epocha val 225/300: 100%|██████████| 98/98 [00:13<00:00,  7.01it/s, acc=0.70400, gpu_memory=2.88 GB, lr=0.00000, valid_loss=1.2896]\n",
      "Epocha train 226/300: 100%|██████████| 225/225 [00:36<00:00,  6.18it/s, acc=0.56913, gpu_memory=2.88 GB, lr=0.00000, valid_loss=0.8588]\n",
      "Epocha val 226/300: 100%|██████████| 98/98 [00:13<00:00,  7.35it/s, acc=0.70967, gpu_memory=2.88 GB, lr=0.00000, valid_loss=1.2948]\n",
      "Epocha train 227/300: 100%|██████████| 225/225 [00:42<00:00,  5.33it/s, acc=0.57066, gpu_memory=2.88 GB, lr=0.00000, valid_loss=0.8832]\n",
      "Epocha val 227/300: 100%|██████████| 98/98 [00:08<00:00, 11.04it/s, acc=0.69989, gpu_memory=2.88 GB, lr=0.00000, valid_loss=1.3003]\n",
      "Epocha train 228/300: 100%|██████████| 225/225 [00:40<00:00,  5.53it/s, acc=0.57474, gpu_memory=2.88 GB, lr=0.00000, valid_loss=0.8855]\n",
      "Epocha val 228/300: 100%|██████████| 98/98 [00:13<00:00,  7.29it/s, acc=0.70444, gpu_memory=2.88 GB, lr=0.00000, valid_loss=1.2903]\n",
      "Epocha train 229/300: 100%|██████████| 225/225 [00:36<00:00,  6.13it/s, acc=0.57857, gpu_memory=2.88 GB, lr=0.00000, valid_loss=0.8840]\n",
      "Epocha val 229/300: 100%|██████████| 98/98 [00:13<00:00,  7.42it/s, acc=0.70422, gpu_memory=2.88 GB, lr=0.00000, valid_loss=1.2976]\n",
      "Epocha train 230/300: 100%|██████████| 225/225 [00:39<00:00,  5.74it/s, acc=0.56990, gpu_memory=2.88 GB, lr=0.00000, valid_loss=0.8770]\n",
      "Epocha val 230/300: 100%|██████████| 98/98 [00:08<00:00, 11.14it/s, acc=0.70822, gpu_memory=2.88 GB, lr=0.00000, valid_loss=1.3003]\n",
      "Epocha train 231/300: 100%|██████████| 225/225 [00:42<00:00,  5.32it/s, acc=0.56429, gpu_memory=2.88 GB, lr=0.00000, valid_loss=0.8796]\n",
      "Epocha val 231/300: 100%|██████████| 98/98 [00:11<00:00,  8.36it/s, acc=0.70567, gpu_memory=2.88 GB, lr=0.00000, valid_loss=1.3024]\n",
      "Epocha train 232/300: 100%|██████████| 225/225 [00:38<00:00,  5.79it/s, acc=0.57398, gpu_memory=2.88 GB, lr=0.00000, valid_loss=0.9011]\n",
      "Epocha val 232/300: 100%|██████████| 98/98 [00:13<00:00,  7.46it/s, acc=0.70389, gpu_memory=2.88 GB, lr=0.00000, valid_loss=1.2835]\n",
      "Epocha train 233/300: 100%|██████████| 225/225 [00:36<00:00,  6.14it/s, acc=0.57883, gpu_memory=2.88 GB, lr=0.00000, valid_loss=0.8926]\n",
      "Epocha val 233/300: 100%|██████████| 98/98 [00:12<00:00,  7.59it/s, acc=0.70156, gpu_memory=2.88 GB, lr=0.00000, valid_loss=1.3179]\n",
      "Epocha train 234/300: 100%|██████████| 225/225 [00:42<00:00,  5.29it/s, acc=0.56173, gpu_memory=2.88 GB, lr=0.00000, valid_loss=0.8821]\n",
      "Epocha val 234/300: 100%|██████████| 98/98 [00:09<00:00, 10.28it/s, acc=0.70767, gpu_memory=2.88 GB, lr=0.00000, valid_loss=1.3084]\n",
      "Epocha train 235/300: 100%|██████████| 225/225 [00:42<00:00,  5.32it/s, acc=0.56913, gpu_memory=2.88 GB, lr=0.00000, valid_loss=0.8695]\n",
      "Epocha val 235/300: 100%|██████████| 98/98 [00:13<00:00,  7.47it/s, acc=0.71156, gpu_memory=2.88 GB, lr=0.00000, valid_loss=1.2851]\n",
      "Epocha train 236/300: 100%|██████████| 225/225 [00:36<00:00,  6.18it/s, acc=0.57474, gpu_memory=2.88 GB, lr=0.00000, valid_loss=0.8804]\n",
      "Epocha val 236/300: 100%|██████████| 98/98 [00:13<00:00,  7.23it/s, acc=0.70856, gpu_memory=2.88 GB, lr=0.00000, valid_loss=1.2921]\n",
      "Epocha train 237/300: 100%|██████████| 225/225 [00:38<00:00,  5.81it/s, acc=0.57143, gpu_memory=2.88 GB, lr=0.00000, valid_loss=0.8908]\n",
      "Epocha val 237/300: 100%|██████████| 98/98 [00:10<00:00,  9.74it/s, acc=0.70300, gpu_memory=2.88 GB, lr=0.00000, valid_loss=1.3059]\n",
      "Epocha train 238/300: 100%|██████████| 225/225 [00:42<00:00,  5.30it/s, acc=0.56760, gpu_memory=2.88 GB, lr=0.00000, valid_loss=0.8859]\n",
      "Epocha val 238/300: 100%|██████████| 98/98 [00:10<00:00,  9.33it/s, acc=0.69700, gpu_memory=2.88 GB, lr=0.00000, valid_loss=1.2943]\n",
      "Epocha train 239/300: 100%|██████████| 225/225 [00:38<00:00,  5.80it/s, acc=0.56990, gpu_memory=2.88 GB, lr=0.00000, valid_loss=0.8729]\n",
      "Epocha val 239/300: 100%|██████████| 98/98 [00:13<00:00,  7.26it/s, acc=0.71578, gpu_memory=2.88 GB, lr=0.00000, valid_loss=1.2981]\n",
      "Epocha train 240/300: 100%|██████████| 225/225 [00:36<00:00,  6.23it/s, acc=0.56939, gpu_memory=2.88 GB, lr=0.00000, valid_loss=0.8797]\n",
      "Epocha val 240/300: 100%|██████████| 98/98 [00:12<00:00,  7.58it/s, acc=0.70533, gpu_memory=2.88 GB, lr=0.00000, valid_loss=1.2970]\n",
      "Epocha train 241/300: 100%|██████████| 225/225 [00:42<00:00,  5.30it/s, acc=0.57423, gpu_memory=2.88 GB, lr=0.00000, valid_loss=0.8955]\n",
      "Epocha val 241/300: 100%|██████████| 98/98 [00:09<00:00, 10.32it/s, acc=0.70122, gpu_memory=2.88 GB, lr=0.00000, valid_loss=1.2933]\n",
      "Epocha train 242/300: 100%|██████████| 225/225 [00:42<00:00,  5.30it/s, acc=0.57092, gpu_memory=2.88 GB, lr=0.00000, valid_loss=0.8780]\n",
      "Epocha val 242/300: 100%|██████████| 98/98 [00:13<00:00,  7.43it/s, acc=0.71089, gpu_memory=2.88 GB, lr=0.00000, valid_loss=1.2957]\n",
      "Epocha train 243/300: 100%|██████████| 225/225 [00:36<00:00,  6.23it/s, acc=0.56862, gpu_memory=2.88 GB, lr=0.00000, valid_loss=0.8939]\n",
      "Epocha val 243/300: 100%|██████████| 98/98 [00:13<00:00,  7.24it/s, acc=0.70133, gpu_memory=2.88 GB, lr=0.00000, valid_loss=1.2834]\n",
      "Epocha train 244/300: 100%|██████████| 225/225 [00:39<00:00,  5.76it/s, acc=0.57577, gpu_memory=2.88 GB, lr=0.00000, valid_loss=0.8930]\n",
      "Epocha val 244/300: 100%|██████████| 98/98 [00:11<00:00,  8.85it/s, acc=0.69989, gpu_memory=2.88 GB, lr=0.00000, valid_loss=1.2900]\n",
      "Epocha train 245/300: 100%|██████████| 225/225 [00:42<00:00,  5.28it/s, acc=0.57219, gpu_memory=2.88 GB, lr=0.00000, valid_loss=0.8890]\n",
      "Epocha val 245/300: 100%|██████████| 98/98 [00:10<00:00,  9.49it/s, acc=0.70189, gpu_memory=2.88 GB, lr=0.00000, valid_loss=1.3064]\n",
      "Epocha train 246/300: 100%|██████████| 225/225 [00:39<00:00,  5.70it/s, acc=0.56607, gpu_memory=2.88 GB, lr=0.00000, valid_loss=0.8738]\n",
      "Epocha val 246/300: 100%|██████████| 98/98 [00:13<00:00,  7.43it/s, acc=0.70878, gpu_memory=2.88 GB, lr=0.00000, valid_loss=1.2876]\n",
      "Epocha train 247/300: 100%|██████████| 225/225 [00:36<00:00,  6.17it/s, acc=0.57857, gpu_memory=2.88 GB, lr=0.00000, valid_loss=0.9037]\n",
      "Epocha val 247/300: 100%|██████████| 98/98 [00:13<00:00,  7.36it/s, acc=0.70278, gpu_memory=2.88 GB, lr=0.00000, valid_loss=1.2912]\n",
      "Epocha train 248/300: 100%|██████████| 225/225 [00:41<00:00,  5.46it/s, acc=0.56964, gpu_memory=2.88 GB, lr=0.00000, valid_loss=0.8760]\n",
      "Epocha val 248/300: 100%|██████████| 98/98 [00:08<00:00, 11.20it/s, acc=0.70767, gpu_memory=2.88 GB, lr=0.00000, valid_loss=1.2965]\n",
      "Epocha train 249/300: 100%|██████████| 225/225 [00:42<00:00,  5.24it/s, acc=0.57194, gpu_memory=2.88 GB, lr=0.00000, valid_loss=0.8799]\n",
      "Epocha val 249/300: 100%|██████████| 98/98 [00:13<00:00,  7.44it/s, acc=0.70256, gpu_memory=2.88 GB, lr=0.00000, valid_loss=1.2935]\n",
      "Epocha train 250/300: 100%|██████████| 225/225 [00:36<00:00,  6.18it/s, acc=0.56837, gpu_memory=2.88 GB, lr=0.00000, valid_loss=0.8750]\n",
      "Epocha val 250/300: 100%|██████████| 98/98 [00:13<00:00,  7.40it/s, acc=0.70789, gpu_memory=2.88 GB, lr=0.00000, valid_loss=1.2954]\n",
      "Epocha train 251/300: 100%|██████████| 225/225 [00:38<00:00,  5.83it/s, acc=0.56837, gpu_memory=2.88 GB, lr=0.00000, valid_loss=0.8669]\n",
      "Epocha val 251/300: 100%|██████████| 98/98 [00:11<00:00,  8.57it/s, acc=0.71044, gpu_memory=2.88 GB, lr=0.00000, valid_loss=1.3034]\n",
      "Epocha train 252/300: 100%|██████████| 225/225 [00:42<00:00,  5.29it/s, acc=0.56939, gpu_memory=2.88 GB, lr=0.00000, valid_loss=0.8727]\n",
      "Epocha val 252/300: 100%|██████████| 98/98 [00:09<00:00,  9.81it/s, acc=0.71467, gpu_memory=2.88 GB, lr=0.00000, valid_loss=1.3088]\n",
      "Epocha train 253/300: 100%|██████████| 225/225 [00:39<00:00,  5.68it/s, acc=0.57245, gpu_memory=2.88 GB, lr=0.00000, valid_loss=0.8868]\n",
      "Epocha val 253/300: 100%|██████████| 98/98 [00:13<00:00,  7.49it/s, acc=0.70622, gpu_memory=2.88 GB, lr=0.00000, valid_loss=1.3022]\n",
      "Epocha train 254/300: 100%|██████████| 225/225 [00:35<00:00,  6.30it/s, acc=0.56684, gpu_memory=2.88 GB, lr=0.00000, valid_loss=0.8757]\n",
      "Epocha val 254/300: 100%|██████████| 98/98 [00:13<00:00,  7.30it/s, acc=0.70511, gpu_memory=2.88 GB, lr=0.00000, valid_loss=1.3069]\n",
      "Epocha train 255/300: 100%|██████████| 225/225 [00:41<00:00,  5.42it/s, acc=0.56684, gpu_memory=2.88 GB, lr=0.00000, valid_loss=0.8803]\n",
      "Epocha val 255/300: 100%|██████████| 98/98 [00:09<00:00, 10.78it/s, acc=0.70789, gpu_memory=2.88 GB, lr=0.00000, valid_loss=1.3018]\n",
      "Epocha train 256/300: 100%|██████████| 225/225 [00:42<00:00,  5.30it/s, acc=0.56786, gpu_memory=2.88 GB, lr=0.00000, valid_loss=0.8871]\n",
      "Epocha val 256/300: 100%|██████████| 98/98 [00:12<00:00,  7.56it/s, acc=0.70911, gpu_memory=2.88 GB, lr=0.00000, valid_loss=1.3033]\n",
      "Epocha train 257/300: 100%|██████████| 225/225 [00:36<00:00,  6.24it/s, acc=0.56505, gpu_memory=2.88 GB, lr=0.00000, valid_loss=0.8597]\n",
      "Epocha val 257/300: 100%|██████████| 98/98 [00:13<00:00,  7.24it/s, acc=0.72122, gpu_memory=2.88 GB, lr=0.00000, valid_loss=1.3080]\n",
      "Epocha train 258/300: 100%|██████████| 225/225 [00:38<00:00,  5.83it/s, acc=0.57551, gpu_memory=2.88 GB, lr=0.00000, valid_loss=0.8842]\n",
      "Epocha val 258/300: 100%|██████████| 98/98 [00:10<00:00,  8.92it/s, acc=0.70344, gpu_memory=2.88 GB, lr=0.00000, valid_loss=1.2983]\n",
      "Epocha train 259/300: 100%|██████████| 225/225 [00:42<00:00,  5.31it/s, acc=0.57730, gpu_memory=2.88 GB, lr=0.00000, valid_loss=0.8822]\n",
      "Epocha val 259/300: 100%|██████████| 98/98 [00:09<00:00,  9.83it/s, acc=0.70456, gpu_memory=2.88 GB, lr=0.00000, valid_loss=1.2988]\n",
      "Epocha train 260/300: 100%|██████████| 225/225 [00:38<00:00,  5.79it/s, acc=0.57321, gpu_memory=2.88 GB, lr=0.00000, valid_loss=0.8918]\n",
      "Epocha val 260/300: 100%|██████████| 98/98 [00:13<00:00,  7.54it/s, acc=0.70444, gpu_memory=2.88 GB, lr=0.00000, valid_loss=1.2904]\n",
      "Epocha train 261/300: 100%|██████████| 225/225 [00:36<00:00,  6.24it/s, acc=0.56454, gpu_memory=2.88 GB, lr=0.00000, valid_loss=0.8783]\n",
      "Epocha val 261/300: 100%|██████████| 98/98 [00:13<00:00,  7.48it/s, acc=0.70444, gpu_memory=2.88 GB, lr=0.00000, valid_loss=1.3052]\n",
      "Epocha train 262/300: 100%|██████████| 225/225 [00:42<00:00,  5.31it/s, acc=0.56913, gpu_memory=2.88 GB, lr=0.00000, valid_loss=0.8703]\n",
      "Epocha val 262/300: 100%|██████████| 98/98 [00:09<00:00, 10.55it/s, acc=0.71178, gpu_memory=2.88 GB, lr=0.00000, valid_loss=1.2963]\n",
      "Epocha train 263/300: 100%|██████████| 225/225 [00:41<00:00,  5.40it/s, acc=0.57041, gpu_memory=2.88 GB, lr=0.00000, valid_loss=0.8898]\n",
      "Epocha val 263/300: 100%|██████████| 98/98 [00:12<00:00,  7.58it/s, acc=0.70200, gpu_memory=2.88 GB, lr=0.00000, valid_loss=1.2942]\n",
      "Epocha train 264/300: 100%|██████████| 225/225 [00:35<00:00,  6.26it/s, acc=0.57219, gpu_memory=2.88 GB, lr=0.00000, valid_loss=0.8878]\n",
      "Epocha val 264/300: 100%|██████████| 98/98 [00:13<00:00,  7.45it/s, acc=0.70289, gpu_memory=2.88 GB, lr=0.00000, valid_loss=1.2984]\n",
      "Epocha train 265/300: 100%|██████████| 225/225 [00:40<00:00,  5.50it/s, acc=0.57526, gpu_memory=2.88 GB, lr=0.00000, valid_loss=0.8905]\n",
      "Epocha val 265/300: 100%|██████████| 98/98 [00:10<00:00,  9.19it/s, acc=0.70367, gpu_memory=2.88 GB, lr=0.00000, valid_loss=1.2958]\n",
      "Epocha train 266/300: 100%|██████████| 225/225 [00:42<00:00,  5.31it/s, acc=0.57194, gpu_memory=2.88 GB, lr=0.00000, valid_loss=0.8984]\n",
      "Epocha val 266/300: 100%|██████████| 98/98 [00:10<00:00,  9.45it/s, acc=0.70022, gpu_memory=2.88 GB, lr=0.00000, valid_loss=1.2962]\n",
      "Epocha train 267/300: 100%|██████████| 225/225 [00:38<00:00,  5.77it/s, acc=0.57398, gpu_memory=2.88 GB, lr=0.00000, valid_loss=0.8832]\n",
      "Epocha val 267/300: 100%|██████████| 98/98 [00:12<00:00,  7.74it/s, acc=0.70700, gpu_memory=2.88 GB, lr=0.00000, valid_loss=1.2988]\n",
      "Epocha train 268/300: 100%|██████████| 225/225 [00:36<00:00,  6.17it/s, acc=0.57092, gpu_memory=2.88 GB, lr=0.00000, valid_loss=0.8858]\n",
      "Epocha val 268/300: 100%|██████████| 98/98 [00:13<00:00,  7.41it/s, acc=0.70678, gpu_memory=2.88 GB, lr=0.00000, valid_loss=1.3090]\n",
      "Epocha train 269/300: 100%|██████████| 225/225 [00:41<00:00,  5.37it/s, acc=0.56990, gpu_memory=2.88 GB, lr=0.00000, valid_loss=0.8858]\n",
      "Epocha val 269/300: 100%|██████████| 98/98 [00:09<00:00, 10.47it/s, acc=0.70378, gpu_memory=2.88 GB, lr=0.00000, valid_loss=1.3145]\n",
      "Epocha train 270/300: 100%|██████████| 225/225 [00:42<00:00,  5.30it/s, acc=0.57219, gpu_memory=2.88 GB, lr=0.00000, valid_loss=0.8847]\n",
      "Epocha val 270/300: 100%|██████████| 98/98 [00:12<00:00,  7.57it/s, acc=0.70589, gpu_memory=2.88 GB, lr=0.00000, valid_loss=1.3133]\n",
      "Epocha train 271/300: 100%|██████████| 225/225 [00:35<00:00,  6.27it/s, acc=0.57015, gpu_memory=2.88 GB, lr=0.00000, valid_loss=0.8890]\n",
      "Epocha val 271/300: 100%|██████████| 98/98 [00:13<00:00,  7.34it/s, acc=0.70233, gpu_memory=2.88 GB, lr=0.00000, valid_loss=1.3069]\n",
      "Epocha train 272/300: 100%|██████████| 225/225 [00:38<00:00,  5.80it/s, acc=0.56480, gpu_memory=2.88 GB, lr=0.00000, valid_loss=0.8977]\n",
      "Epocha val 272/300: 100%|██████████| 98/98 [00:09<00:00, 10.70it/s, acc=0.70356, gpu_memory=2.88 GB, lr=0.00000, valid_loss=1.3010]\n",
      "Epocha train 273/300: 100%|██████████| 225/225 [00:42<00:00,  5.30it/s, acc=0.57143, gpu_memory=2.88 GB, lr=0.00000, valid_loss=0.8803]\n",
      "Epocha val 273/300: 100%|██████████| 98/98 [00:11<00:00,  8.76it/s, acc=0.70200, gpu_memory=2.88 GB, lr=0.00000, valid_loss=1.2991]\n",
      "Epocha train 274/300: 100%|██████████| 225/225 [00:38<00:00,  5.79it/s, acc=0.56913, gpu_memory=2.88 GB, lr=0.00000, valid_loss=0.8880]\n",
      "Epocha val 274/300: 100%|██████████| 98/98 [00:13<00:00,  7.37it/s, acc=0.70844, gpu_memory=2.88 GB, lr=0.00000, valid_loss=1.2838]\n",
      "Epocha train 275/300: 100%|██████████| 225/225 [00:36<00:00,  6.24it/s, acc=0.57117, gpu_memory=2.88 GB, lr=0.00000, valid_loss=0.8663]\n",
      "Epocha val 275/300: 100%|██████████| 98/98 [00:13<00:00,  7.21it/s, acc=0.71300, gpu_memory=2.88 GB, lr=0.00000, valid_loss=1.2918]\n",
      "Epocha train 276/300: 100%|██████████| 225/225 [00:42<00:00,  5.30it/s, acc=0.57143, gpu_memory=2.88 GB, lr=0.00000, valid_loss=0.8777]\n",
      "Epocha val 276/300: 100%|██████████| 98/98 [00:09<00:00, 10.58it/s, acc=0.70622, gpu_memory=2.88 GB, lr=0.00000, valid_loss=1.2991]\n",
      "Epocha train 277/300: 100%|██████████| 225/225 [00:42<00:00,  5.35it/s, acc=0.57168, gpu_memory=2.88 GB, lr=0.00000, valid_loss=0.8793]\n",
      "Epocha val 277/300: 100%|██████████| 98/98 [00:13<00:00,  7.15it/s, acc=0.70400, gpu_memory=2.88 GB, lr=0.00000, valid_loss=1.2902]\n",
      "Epocha train 278/300: 100%|██████████| 225/225 [00:35<00:00,  6.25it/s, acc=0.57015, gpu_memory=2.88 GB, lr=0.00000, valid_loss=0.8937]\n",
      "Epocha val 278/300: 100%|██████████| 98/98 [00:13<00:00,  7.23it/s, acc=0.70322, gpu_memory=2.88 GB, lr=0.00000, valid_loss=1.2852]\n",
      "Epocha train 279/300: 100%|██████████| 225/225 [00:38<00:00,  5.82it/s, acc=0.57832, gpu_memory=2.88 GB, lr=0.00000, valid_loss=0.8832]\n",
      "Epocha val 279/300: 100%|██████████| 98/98 [00:09<00:00,  9.82it/s, acc=0.70956, gpu_memory=2.88 GB, lr=0.00000, valid_loss=1.3035]\n",
      "Epocha train 280/300: 100%|██████████| 225/225 [00:42<00:00,  5.30it/s, acc=0.57219, gpu_memory=2.88 GB, lr=0.00000, valid_loss=0.8845]\n",
      "Epocha val 280/300: 100%|██████████| 98/98 [00:10<00:00,  9.40it/s, acc=0.70478, gpu_memory=2.88 GB, lr=0.00000, valid_loss=1.3015]\n",
      "Epocha train 281/300: 100%|██████████| 225/225 [00:38<00:00,  5.85it/s, acc=0.57372, gpu_memory=2.88 GB, lr=0.00000, valid_loss=0.8927]\n",
      "Epocha val 281/300: 100%|██████████| 98/98 [00:13<00:00,  7.42it/s, acc=0.69933, gpu_memory=2.88 GB, lr=0.00000, valid_loss=1.3049]\n",
      "Epocha train 282/300: 100%|██████████| 225/225 [00:36<00:00,  6.24it/s, acc=0.56071, gpu_memory=2.88 GB, lr=0.00000, valid_loss=0.8836]\n",
      "Epocha val 282/300: 100%|██████████| 98/98 [00:13<00:00,  7.18it/s, acc=0.70533, gpu_memory=2.88 GB, lr=0.00000, valid_loss=1.2988]\n",
      "Epocha train 283/300: 100%|██████████| 225/225 [00:42<00:00,  5.30it/s, acc=0.56862, gpu_memory=2.88 GB, lr=0.00000, valid_loss=0.8726]\n",
      "Epocha val 283/300: 100%|██████████| 98/98 [00:08<00:00, 11.50it/s, acc=0.70878, gpu_memory=2.88 GB, lr=0.00000, valid_loss=1.3015]\n",
      "Epocha train 284/300: 100%|██████████| 225/225 [00:41<00:00,  5.48it/s, acc=0.57245, gpu_memory=2.88 GB, lr=0.00000, valid_loss=0.8906]\n",
      "Epocha val 284/300: 100%|██████████| 98/98 [00:12<00:00,  7.62it/s, acc=0.70322, gpu_memory=2.88 GB, lr=0.00000, valid_loss=1.3006]\n",
      "Epocha train 285/300: 100%|██████████| 225/225 [00:36<00:00,  6.12it/s, acc=0.56582, gpu_memory=2.88 GB, lr=0.00000, valid_loss=0.8918]\n",
      "Epocha val 285/300: 100%|██████████| 98/98 [00:13<00:00,  7.37it/s, acc=0.70033, gpu_memory=2.88 GB, lr=0.00000, valid_loss=1.2937]\n",
      "Epocha train 286/300: 100%|██████████| 225/225 [00:39<00:00,  5.71it/s, acc=0.57168, gpu_memory=2.88 GB, lr=0.00000, valid_loss=0.8793]\n",
      "Epocha val 286/300: 100%|██████████| 98/98 [00:09<00:00, 10.62it/s, acc=0.70433, gpu_memory=2.88 GB, lr=0.00000, valid_loss=1.3089]\n",
      "Epocha train 287/300: 100%|██████████| 225/225 [00:42<00:00,  5.28it/s, acc=0.56837, gpu_memory=2.88 GB, lr=0.00000, valid_loss=0.9054]\n",
      "Epocha val 287/300: 100%|██████████| 98/98 [00:11<00:00,  8.64it/s, acc=0.69833, gpu_memory=2.88 GB, lr=0.00000, valid_loss=1.3213]\n",
      "Epocha train 288/300: 100%|██████████| 225/225 [00:38<00:00,  5.89it/s, acc=0.56913, gpu_memory=2.88 GB, lr=0.00000, valid_loss=0.8927]\n",
      "Epocha val 288/300: 100%|██████████| 98/98 [00:12<00:00,  7.80it/s, acc=0.70156, gpu_memory=2.88 GB, lr=0.00000, valid_loss=1.2906]\n",
      "Epocha train 289/300: 100%|██████████| 225/225 [00:37<00:00,  6.08it/s, acc=0.57321, gpu_memory=2.88 GB, lr=0.00000, valid_loss=0.8883]\n",
      "Epocha val 289/300: 100%|██████████| 98/98 [00:13<00:00,  7.27it/s, acc=0.70867, gpu_memory=2.88 GB, lr=0.00000, valid_loss=1.3026]\n",
      "Epocha train 290/300: 100%|██████████| 225/225 [00:42<00:00,  5.28it/s, acc=0.56811, gpu_memory=2.88 GB, lr=0.00000, valid_loss=0.8919]\n",
      "Epocha val 290/300: 100%|██████████| 98/98 [00:08<00:00, 11.28it/s, acc=0.70178, gpu_memory=2.88 GB, lr=0.00000, valid_loss=1.3089]\n",
      "Epocha train 291/300: 100%|██████████| 225/225 [00:40<00:00,  5.57it/s, acc=0.57194, gpu_memory=2.88 GB, lr=0.00000, valid_loss=0.8924]\n",
      "Epocha val 291/300: 100%|██████████| 98/98 [00:12<00:00,  7.70it/s, acc=0.70078, gpu_memory=2.88 GB, lr=0.00000, valid_loss=1.3036]\n",
      "Epocha train 292/300: 100%|██████████| 225/225 [00:36<00:00,  6.17it/s, acc=0.56658, gpu_memory=2.88 GB, lr=0.00000, valid_loss=0.8935]\n",
      "Epocha val 292/300: 100%|██████████| 98/98 [00:13<00:00,  7.53it/s, acc=0.70256, gpu_memory=2.88 GB, lr=0.00000, valid_loss=1.3158]\n",
      "Epocha train 293/300: 100%|██████████| 225/225 [00:39<00:00,  5.64it/s, acc=0.56760, gpu_memory=2.88 GB, lr=0.00000, valid_loss=0.8888]\n",
      "Epocha val 293/300: 100%|██████████| 98/98 [00:08<00:00, 11.44it/s, acc=0.71178, gpu_memory=2.88 GB, lr=0.00000, valid_loss=1.2962]\n",
      "Epocha train 294/300: 100%|██████████| 225/225 [00:42<00:00,  5.30it/s, acc=0.56862, gpu_memory=2.88 GB, lr=0.00000, valid_loss=0.8729]\n",
      "Epocha val 294/300: 100%|██████████| 98/98 [00:13<00:00,  7.48it/s, acc=0.70711, gpu_memory=2.88 GB, lr=0.00000, valid_loss=1.3078]\n",
      "Epocha train 295/300: 100%|██████████| 225/225 [00:37<00:00,  5.98it/s, acc=0.56862, gpu_memory=2.88 GB, lr=0.00000, valid_loss=0.8911]\n",
      "Epocha val 295/300: 100%|██████████| 98/98 [00:13<00:00,  7.44it/s, acc=0.71378, gpu_memory=2.88 GB, lr=0.00000, valid_loss=1.2912]\n",
      "Epocha train 296/300: 100%|██████████| 225/225 [00:37<00:00,  6.00it/s, acc=0.57168, gpu_memory=2.88 GB, lr=0.00000, valid_loss=0.8783]\n",
      "Epocha val 296/300: 100%|██████████| 98/98 [00:13<00:00,  7.48it/s, acc=0.70900, gpu_memory=2.88 GB, lr=0.00000, valid_loss=1.2874]\n",
      "Epocha train 297/300: 100%|██████████| 225/225 [00:42<00:00,  5.30it/s, acc=0.56709, gpu_memory=2.88 GB, lr=0.00000, valid_loss=0.8885]\n",
      "Epocha val 297/300: 100%|██████████| 98/98 [00:09<00:00, 10.86it/s, acc=0.70100, gpu_memory=2.88 GB, lr=0.00000, valid_loss=1.2889]\n",
      "Epocha train 298/300: 100%|██████████| 225/225 [00:39<00:00,  5.64it/s, acc=0.56760, gpu_memory=2.88 GB, lr=0.00000, valid_loss=0.8775]\n",
      "Epocha val 298/300: 100%|██████████| 98/98 [00:13<00:00,  7.25it/s, acc=0.70867, gpu_memory=2.88 GB, lr=0.00000, valid_loss=1.3003]\n",
      "Epocha train 299/300: 100%|██████████| 225/225 [00:36<00:00,  6.25it/s, acc=0.57347, gpu_memory=2.88 GB, lr=0.00000, valid_loss=0.8847]\n",
      "Epocha val 299/300: 100%|██████████| 98/98 [00:12<00:00,  7.56it/s, acc=0.70389, gpu_memory=2.88 GB, lr=0.00000, valid_loss=1.2949]\n",
      "Epocha train 300/300: 100%|██████████| 225/225 [00:40<00:00,  5.60it/s, acc=0.56837, gpu_memory=2.88 GB, lr=0.00000, valid_loss=0.8833]\n",
      "Epocha val 300/300: 100%|██████████| 98/98 [00:08<00:00, 11.81it/s, acc=0.70789, gpu_memory=2.88 GB, lr=0.00000, valid_loss=1.2797]\n"
     ]
    },
    {
     "name": "stdout",
     "output_type": "stream",
     "text": [
      "Training complete in 262m 32s\n",
      "Best val Loss classification: 1.2724 epoch 72  \n",
      "Best val Loss accuracy: 0.5793 epoch 126\n"
     ]
    },
    {
     "data": {
      "image/png": "[encoded data removed]",
      "text/plain": [
       "<Figure size 432x288 with 1 Axes>"
      ]
     },
     "metadata": {
      "needs_background": "light"
     },
     "output_type": "display_data"
    },
    {
     "data": {
      "image/png": "[encoded data removed]",
      "text/plain": [
       "<Figure size 432x288 with 1 Axes>"
      ]
     },
     "metadata": {
      "needs_background": "light"
     },
     "output_type": "display_data"
    }
   ],
   "source": [
    "model_loss, model_acc, overfit_model = train.train(train_dirr=\"/workspace/proj/paradigma/db/imagewoof2\",                                           # Путь до папки с train or directori\n",
    "                                             val_dirr=\"/workspace/proj/paradigma/db/imagewoof2\",                                             # Путь до папки с описанием val\n",
    "                                             model_name =\"mobilenetv2_100\",                             # Название модели timm or пользовательские из кода\n",
    "                                             Dataset_name =\"imagewoof\",                            # Название Dataset (при сохранении)\n",
    "                                             metod_aug_name=\"FsAA\", #=\"baseline\",                # Название metoda (при сохранении)\n",
    "                                             task_name=\"clasification\",                          # Название задачи  (при сохранении)\n",
    "                                             train_annotation=\"/workspace/proj/paradigma/db/imagewoof2/noisy_imagewoof.csv\",                                # Путь до файла с описанием train\n",
    "                                             val_annotation=\"/workspace/proj/paradigma/db/imagewoof2/noisy_imagewoof.csv\",                                  # Путь до файла с описанием val\n",
    "                                             N_class = 10,                                          # Количество классов в задаче\n",
    "                                             num_epochs=300,                                        # Количество эпох обучения\n",
    "                                             batch_size = 40,                                       \n",
    "                                             snp_path = '/workspace/proj/paradigma/snp/',     # Путь к папке, в которую сохранять готовые модели\n",
    "                                             pretrained = False,                                   # True - загрузить предобученную модель\n",
    "                                             SIZE = 224,                                           # Размер входа (SIZE*SIZE)\n",
    "                                             lr=0.001,                                           # Коэффициент скорости обучения (Learning rate)\n",
    "                                             step_size=50,                                         # за сколько эпох уменьшить lr\n",
    "                                             gamma=0.1,                                            # Во сколько раз уменьшить lr\n",
    "                                             momentum=0.999,                                        # коэфицент сохранения момента\n",
    "                                             rootAA=\"/workspace/proj/autoalbument/examples/imageWoof/mobilenet2/outputs/2022-08-01/21-18-28/policy/latest.json\")\n",
    "\n"
   ]
  },
  {
   "cell_type": "code",
   "execution_count": 3,
   "metadata": {
    "scrolled": true
   },
   "outputs": [
    {
     "name": "stdout",
     "output_type": "stream",
     "text": [
      "/workspace/proj/paradigma/snp/imagewoof/mobilenetv2_100/baseline/04_08_2022/14_36_03/\n"
     ]
    },
    {
     "name": "stderr",
     "output_type": "stream",
     "text": [
      "Epocha train 1/300: 100%|██████████| 225/225 [00:42<00:00,  5.35it/s, acc=0.00000, gpu_memory=2.88 GB, lr=0.00100, valid_loss=2.6439]\n",
      "Epocha val 1/300: 100%|██████████| 98/98 [00:13<00:00,  7.44it/s, acc=0.12922, gpu_memory=2.88 GB, lr=0.00100, valid_loss=2.5900]\n"
     ]
    },
    {
     "name": "stdout",
     "output_type": "stream",
     "text": [
      "Best val Loss classification: 2.589958,Best val Acc classification:0.000000\n"
     ]
    },
    {
     "name": "stderr",
     "output_type": "stream",
     "text": [
      "Epocha train 2/300: 100%|██████████| 225/225 [00:37<00:00,  5.96it/s, acc=0.16071, gpu_memory=2.89 GB, lr=0.00100, valid_loss=2.4357]\n",
      "Epocha val 2/300: 100%|██████████| 98/98 [00:12<00:00,  7.64it/s, acc=0.15478, gpu_memory=2.89 GB, lr=0.00100, valid_loss=2.2258]\n"
     ]
    },
    {
     "name": "stdout",
     "output_type": "stream",
     "text": [
      "Best val Loss classification: 2.225793,Best val Acc classification:0.160714\n"
     ]
    },
    {
     "name": "stderr",
     "output_type": "stream",
     "text": [
      "Epocha train 3/300: 100%|██████████| 225/225 [00:36<00:00,  6.12it/s, acc=0.17985, gpu_memory=2.89 GB, lr=0.00100, valid_loss=2.1972]\n",
      "Epocha val 3/300: 100%|██████████| 98/98 [00:12<00:00,  7.57it/s, acc=0.19989, gpu_memory=2.89 GB, lr=0.00100, valid_loss=2.1429]\n"
     ]
    },
    {
     "name": "stdout",
     "output_type": "stream",
     "text": [
      "Best val Loss classification: 2.142900,Best val Acc classification:0.179847\n"
     ]
    },
    {
     "name": "stderr",
     "output_type": "stream",
     "text": [
      "Epocha train 4/300: 100%|██████████| 225/225 [00:42<00:00,  5.31it/s, acc=0.21862, gpu_memory=2.89 GB, lr=0.00100, valid_loss=2.1190]\n",
      "Epocha val 4/300: 100%|██████████| 98/98 [00:08<00:00, 11.32it/s, acc=0.22200, gpu_memory=2.89 GB, lr=0.00100, valid_loss=2.1146]\n",
      "Epocha train 5/300: 100%|██████████| 225/225 [00:39<00:00,  5.65it/s, acc=0.21505, gpu_memory=2.89 GB, lr=0.00100, valid_loss=2.1044]\n",
      "Epocha val 5/300: 100%|██████████| 98/98 [00:12<00:00,  7.68it/s, acc=0.22700, gpu_memory=2.89 GB, lr=0.00100, valid_loss=2.0853]\n",
      "Epocha train 6/300: 100%|██████████| 225/225 [00:35<00:00,  6.27it/s, acc=0.21709, gpu_memory=2.89 GB, lr=0.00100, valid_loss=2.0543]\n",
      "Epocha val 6/300: 100%|██████████| 98/98 [00:13<00:00,  7.15it/s, acc=0.24611, gpu_memory=2.89 GB, lr=0.00100, valid_loss=2.0143]\n"
     ]
    },
    {
     "name": "stdout",
     "output_type": "stream",
     "text": [
      "Best val Loss classification: 2.014329,Best val Acc classification:0.218622\n"
     ]
    },
    {
     "name": "stderr",
     "output_type": "stream",
     "text": [
      "Epocha train 7/300: 100%|██████████| 225/225 [00:39<00:00,  5.66it/s, acc=0.24898, gpu_memory=2.89 GB, lr=0.00100, valid_loss=2.0090]\n",
      "Epocha val 7/300: 100%|██████████| 98/98 [00:08<00:00, 11.45it/s, acc=0.26633, gpu_memory=2.89 GB, lr=0.00100, valid_loss=1.9822]\n"
     ]
    },
    {
     "name": "stdout",
     "output_type": "stream",
     "text": [
      "Best val Loss classification: 1.982220,Best val Acc classification:0.248980\n"
     ]
    },
    {
     "name": "stderr",
     "output_type": "stream",
     "text": [
      "Epocha train 8/300: 100%|██████████| 225/225 [00:42<00:00,  5.29it/s, acc=0.26862, gpu_memory=2.89 GB, lr=0.00100, valid_loss=1.9656]\n",
      "Epocha val 8/300: 100%|██████████| 98/98 [00:13<00:00,  7.22it/s, acc=0.27011, gpu_memory=2.89 GB, lr=0.00100, valid_loss=1.9001]\n"
     ]
    },
    {
     "name": "stdout",
     "output_type": "stream",
     "text": [
      "Best val Loss classification: 1.900080,Best val Acc classification:0.268622\n"
     ]
    },
    {
     "name": "stderr",
     "output_type": "stream",
     "text": [
      "Epocha train 9/300: 100%|██████████| 225/225 [00:40<00:00,  5.50it/s, acc=0.31020, gpu_memory=2.89 GB, lr=0.00100, valid_loss=1.9601]\n",
      "Epocha val 9/300: 100%|██████████| 98/98 [00:12<00:00,  7.73it/s, acc=0.27511, gpu_memory=2.89 GB, lr=0.00100, valid_loss=1.9493]\n",
      "Epocha train 10/300: 100%|██████████| 225/225 [00:36<00:00,  6.12it/s, acc=0.28163, gpu_memory=2.89 GB, lr=0.00100, valid_loss=1.9411]\n",
      "Epocha val 10/300: 100%|██████████| 98/98 [00:13<00:00,  7.53it/s, acc=0.28944, gpu_memory=2.89 GB, lr=0.00100, valid_loss=1.9340]\n",
      "Epocha train 11/300: 100%|██████████| 225/225 [00:42<00:00,  5.31it/s, acc=0.28903, gpu_memory=2.89 GB, lr=0.00100, valid_loss=1.8953]\n",
      "Epocha val 11/300: 100%|██████████| 98/98 [00:08<00:00, 11.31it/s, acc=0.30589, gpu_memory=2.89 GB, lr=0.00100, valid_loss=1.8858]\n",
      "Epocha train 12/300: 100%|██████████| 225/225 [00:39<00:00,  5.64it/s, acc=0.30689, gpu_memory=2.89 GB, lr=0.00100, valid_loss=1.8779]\n",
      "Epocha val 12/300: 100%|██████████| 98/98 [00:13<00:00,  7.28it/s, acc=0.31322, gpu_memory=2.89 GB, lr=0.00100, valid_loss=1.8732]\n"
     ]
    },
    {
     "name": "stdout",
     "output_type": "stream",
     "text": [
      "Best val Loss classification: 1.873233,Best val Acc classification:0.310204\n"
     ]
    },
    {
     "name": "stderr",
     "output_type": "stream",
     "text": [
      "Epocha train 13/300: 100%|██████████| 225/225 [00:36<00:00,  6.20it/s, acc=0.32806, gpu_memory=2.89 GB, lr=0.00100, valid_loss=1.8507]\n",
      "Epocha val 13/300: 100%|██████████| 98/98 [00:13<00:00,  7.38it/s, acc=0.32167, gpu_memory=2.89 GB, lr=0.00100, valid_loss=1.8134]\n"
     ]
    },
    {
     "name": "stdout",
     "output_type": "stream",
     "text": [
      "Best val Loss classification: 1.813410,Best val Acc classification:0.328061\n"
     ]
    },
    {
     "name": "stderr",
     "output_type": "stream",
     "text": [
      "Epocha train 14/300: 100%|██████████| 225/225 [00:39<00:00,  5.65it/s, acc=0.33316, gpu_memory=2.89 GB, lr=0.00100, valid_loss=1.8223]\n",
      "Epocha val 14/300: 100%|██████████| 98/98 [00:08<00:00, 11.15it/s, acc=0.34022, gpu_memory=2.89 GB, lr=0.00100, valid_loss=1.8100]\n"
     ]
    },
    {
     "name": "stdout",
     "output_type": "stream",
     "text": [
      "Best val Loss classification: 1.810002,Best val Acc classification:0.333163\n"
     ]
    },
    {
     "name": "stderr",
     "output_type": "stream",
     "text": [
      "Epocha train 15/300: 100%|██████████| 225/225 [00:42<00:00,  5.32it/s, acc=0.34847, gpu_memory=2.89 GB, lr=0.00100, valid_loss=1.7830]\n",
      "Epocha val 15/300: 100%|██████████| 98/98 [00:13<00:00,  7.32it/s, acc=0.34900, gpu_memory=2.89 GB, lr=0.00100, valid_loss=1.7913]\n"
     ]
    },
    {
     "name": "stdout",
     "output_type": "stream",
     "text": [
      "Best val Loss classification: 1.791318,Best val Acc classification:0.348469\n"
     ]
    },
    {
     "name": "stderr",
     "output_type": "stream",
     "text": [
      "Epocha train 16/300: 100%|██████████| 225/225 [00:38<00:00,  5.91it/s, acc=0.35230, gpu_memory=2.89 GB, lr=0.00100, valid_loss=1.7662]\n",
      "Epocha val 16/300: 100%|██████████| 98/98 [00:13<00:00,  7.31it/s, acc=0.35700, gpu_memory=2.89 GB, lr=0.00100, valid_loss=1.7676]\n",
      "Epocha train 17/300: 100%|██████████| 225/225 [00:36<00:00,  6.23it/s, acc=0.35000, gpu_memory=2.89 GB, lr=0.00100, valid_loss=1.7357]\n",
      "Epocha val 17/300: 100%|██████████| 98/98 [00:13<00:00,  7.44it/s, acc=0.37478, gpu_memory=2.89 GB, lr=0.00100, valid_loss=1.7361]\n"
     ]
    },
    {
     "name": "stdout",
     "output_type": "stream",
     "text": [
      "Best val Loss classification: 1.736103,Best val Acc classification:0.352296\n"
     ]
    },
    {
     "name": "stderr",
     "output_type": "stream",
     "text": [
      "Epocha train 18/300: 100%|██████████| 225/225 [00:42<00:00,  5.35it/s, acc=0.36403, gpu_memory=2.89 GB, lr=0.00100, valid_loss=1.7180]\n",
      "Epocha val 18/300: 100%|██████████| 98/98 [00:08<00:00, 11.28it/s, acc=0.37267, gpu_memory=2.89 GB, lr=0.00100, valid_loss=1.7221]\n"
     ]
    },
    {
     "name": "stdout",
     "output_type": "stream",
     "text": [
      "Best val Loss classification: 1.722122,Best val Acc classification:0.364031\n"
     ]
    },
    {
     "name": "stderr",
     "output_type": "stream",
     "text": [
      "Epocha train 19/300: 100%|██████████| 225/225 [00:40<00:00,  5.62it/s, acc=0.37985, gpu_memory=2.90 GB, lr=0.00100, valid_loss=1.6968]\n",
      "Epocha val 19/300: 100%|██████████| 98/98 [00:13<00:00,  7.32it/s, acc=0.38433, gpu_memory=2.90 GB, lr=0.00100, valid_loss=1.6975]\n"
     ]
    },
    {
     "name": "stdout",
     "output_type": "stream",
     "text": [
      "Best val Loss classification: 1.697486,Best val Acc classification:0.379847\n"
     ]
    },
    {
     "name": "stderr",
     "output_type": "stream",
     "text": [
      "Epocha train 20/300: 100%|██████████| 225/225 [00:36<00:00,  6.19it/s, acc=0.38061, gpu_memory=2.90 GB, lr=0.00100, valid_loss=1.6625]\n",
      "Epocha val 20/300: 100%|██████████| 98/98 [00:12<00:00,  7.77it/s, acc=0.39778, gpu_memory=2.90 GB, lr=0.00100, valid_loss=1.6950]\n"
     ]
    },
    {
     "name": "stdout",
     "output_type": "stream",
     "text": [
      "Best val Loss classification: 1.695029,Best val Acc classification:0.380612\n"
     ]
    },
    {
     "name": "stderr",
     "output_type": "stream",
     "text": [
      "Epocha train 21/300: 100%|██████████| 225/225 [00:39<00:00,  5.70it/s, acc=0.39031, gpu_memory=2.90 GB, lr=0.00100, valid_loss=1.6517]\n",
      "Epocha val 21/300: 100%|██████████| 98/98 [00:08<00:00, 11.38it/s, acc=0.40444, gpu_memory=2.90 GB, lr=0.00100, valid_loss=1.6749]\n"
     ]
    },
    {
     "name": "stdout",
     "output_type": "stream",
     "text": [
      "Best val Loss classification: 1.674931,Best val Acc classification:0.390306\n"
     ]
    },
    {
     "name": "stderr",
     "output_type": "stream",
     "text": [
      "Epocha train 22/300: 100%|██████████| 225/225 [00:42<00:00,  5.30it/s, acc=0.39796, gpu_memory=2.90 GB, lr=0.00100, valid_loss=1.6255]\n",
      "Epocha val 22/300: 100%|██████████| 98/98 [00:12<00:00,  7.56it/s, acc=0.41478, gpu_memory=2.90 GB, lr=0.00100, valid_loss=1.6692]\n"
     ]
    },
    {
     "name": "stdout",
     "output_type": "stream",
     "text": [
      "Best val Loss classification: 1.669240,Best val Acc classification:0.397959\n"
     ]
    },
    {
     "name": "stderr",
     "output_type": "stream",
     "text": [
      "Epocha train 23/300: 100%|██████████| 225/225 [00:37<00:00,  6.07it/s, acc=0.39923, gpu_memory=2.90 GB, lr=0.00100, valid_loss=1.6280]\n",
      "Epocha val 23/300: 100%|██████████| 98/98 [00:13<00:00,  7.35it/s, acc=0.41511, gpu_memory=2.90 GB, lr=0.00100, valid_loss=1.6791]"
     ]
    },
    {
     "name": "stdout",
     "output_type": "stream",
     "text": [
      "Best val Loss classification: 1.669240,Best val Acc classification:0.399235\n"
     ]
    },
    {
     "name": "stderr",
     "output_type": "stream",
     "text": [
      "\n",
      "Epocha train 24/300: 100%|██████████| 225/225 [00:37<00:00,  6.00it/s, acc=0.40255, gpu_memory=2.90 GB, lr=0.00100, valid_loss=1.6144]\n",
      "Epocha val 24/300: 100%|██████████| 98/98 [00:12<00:00,  7.84it/s, acc=0.41144, gpu_memory=2.90 GB, lr=0.00100, valid_loss=1.6652]\n",
      "Epocha train 25/300: 100%|██████████| 225/225 [00:42<00:00,  5.32it/s, acc=0.40204, gpu_memory=2.90 GB, lr=0.00100, valid_loss=1.5914]\n",
      "Epocha val 25/300: 100%|██████████| 98/98 [00:09<00:00, 10.12it/s, acc=0.43100, gpu_memory=2.90 GB, lr=0.00100, valid_loss=1.6433]\n"
     ]
    },
    {
     "name": "stdout",
     "output_type": "stream",
     "text": [
      "Best val Loss classification: 1.643284,Best val Acc classification:0.402551\n"
     ]
    },
    {
     "name": "stderr",
     "output_type": "stream",
     "text": [
      "Epocha train 26/300: 100%|██████████| 225/225 [00:40<00:00,  5.61it/s, acc=0.41454, gpu_memory=2.90 GB, lr=0.00100, valid_loss=1.5803]\n",
      "Epocha val 26/300: 100%|██████████| 98/98 [00:13<00:00,  7.51it/s, acc=0.43800, gpu_memory=2.90 GB, lr=0.00100, valid_loss=1.6082]\n"
     ]
    },
    {
     "name": "stdout",
     "output_type": "stream",
     "text": [
      "Best val Loss classification: 1.608209,Best val Acc classification:0.414541\n"
     ]
    },
    {
     "name": "stderr",
     "output_type": "stream",
     "text": [
      "Epocha train 27/300: 100%|██████████| 225/225 [00:36<00:00,  6.21it/s, acc=0.43597, gpu_memory=2.90 GB, lr=0.00100, valid_loss=1.5386]\n",
      "Epocha val 27/300: 100%|██████████| 98/98 [00:13<00:00,  7.22it/s, acc=0.45200, gpu_memory=2.90 GB, lr=0.00100, valid_loss=1.6099]\n",
      "Epocha train 28/300: 100%|██████████| 225/225 [00:40<00:00,  5.62it/s, acc=0.43291, gpu_memory=2.90 GB, lr=0.00100, valid_loss=1.5192]\n",
      "Epocha val 28/300: 100%|██████████| 98/98 [00:08<00:00, 11.28it/s, acc=0.45878, gpu_memory=2.90 GB, lr=0.00100, valid_loss=1.5859]\n"
     ]
    },
    {
     "name": "stdout",
     "output_type": "stream",
     "text": [
      "Best val Loss classification: 1.585933,Best val Acc classification:0.435969\n"
     ]
    },
    {
     "name": "stderr",
     "output_type": "stream",
     "text": [
      "Epocha train 29/300: 100%|██████████| 225/225 [00:42<00:00,  5.30it/s, acc=0.44541, gpu_memory=2.90 GB, lr=0.00100, valid_loss=1.4833]\n",
      "Epocha val 29/300: 100%|██████████| 98/98 [00:13<00:00,  7.53it/s, acc=0.47589, gpu_memory=2.90 GB, lr=0.00100, valid_loss=1.5678]\n"
     ]
    },
    {
     "name": "stdout",
     "output_type": "stream",
     "text": [
      "Best val Loss classification: 1.567757,Best val Acc classification:0.445408\n"
     ]
    },
    {
     "name": "stderr",
     "output_type": "stream",
     "text": [
      "Epocha train 30/300: 100%|██████████| 225/225 [00:36<00:00,  6.13it/s, acc=0.45536, gpu_memory=2.90 GB, lr=0.00100, valid_loss=1.4716]\n",
      "Epocha val 30/300: 100%|██████████| 98/98 [00:12<00:00,  7.54it/s, acc=0.47278, gpu_memory=2.90 GB, lr=0.00100, valid_loss=1.5484]\n",
      "Epocha train 31/300: 100%|██████████| 225/225 [00:38<00:00,  5.87it/s, acc=0.44949, gpu_memory=2.90 GB, lr=0.00100, valid_loss=1.4560]\n",
      "Epocha val 31/300: 100%|██████████| 98/98 [00:12<00:00,  8.01it/s, acc=0.48044, gpu_memory=2.90 GB, lr=0.00100, valid_loss=1.5408]\n"
     ]
    },
    {
     "name": "stdout",
     "output_type": "stream",
     "text": [
      "Best val Loss classification: 1.540751,Best val Acc classification:0.455357\n"
     ]
    },
    {
     "name": "stderr",
     "output_type": "stream",
     "text": [
      "Epocha train 32/300: 100%|██████████| 225/225 [00:42<00:00,  5.32it/s, acc=0.45918, gpu_memory=2.90 GB, lr=0.00100, valid_loss=1.4331]\n",
      "Epocha val 32/300: 100%|██████████| 98/98 [00:09<00:00, 10.32it/s, acc=0.48589, gpu_memory=2.90 GB, lr=0.00100, valid_loss=1.5466]\n",
      "Epocha train 33/300: 100%|██████████| 225/225 [00:39<00:00,  5.69it/s, acc=0.45561, gpu_memory=2.90 GB, lr=0.00100, valid_loss=1.4336]\n",
      "Epocha val 33/300: 100%|██████████| 98/98 [00:13<00:00,  7.51it/s, acc=0.49033, gpu_memory=2.90 GB, lr=0.00100, valid_loss=1.5423]\n",
      "Epocha train 34/300: 100%|██████████| 225/225 [00:36<00:00,  6.22it/s, acc=0.45408, gpu_memory=2.90 GB, lr=0.00100, valid_loss=1.3959]\n",
      "Epocha val 34/300: 100%|██████████| 98/98 [00:13<00:00,  7.44it/s, acc=0.50556, gpu_memory=2.90 GB, lr=0.00100, valid_loss=1.5048]\n"
     ]
    },
    {
     "name": "stdout",
     "output_type": "stream",
     "text": [
      "Best val Loss classification: 1.504792,Best val Acc classification:0.459184\n"
     ]
    },
    {
     "name": "stderr",
     "output_type": "stream",
     "text": [
      "Epocha train 35/300: 100%|██████████| 225/225 [00:40<00:00,  5.52it/s, acc=0.47806, gpu_memory=2.90 GB, lr=0.00100, valid_loss=1.3879]\n",
      "Epocha val 35/300: 100%|██████████| 98/98 [00:08<00:00, 11.39it/s, acc=0.50956, gpu_memory=2.90 GB, lr=0.00100, valid_loss=1.5440]\n",
      "Epocha train 36/300: 100%|██████████| 225/225 [00:42<00:00,  5.33it/s, acc=0.45918, gpu_memory=2.90 GB, lr=0.00100, valid_loss=1.3682]\n",
      "Epocha val 36/300: 100%|██████████| 98/98 [00:13<00:00,  7.35it/s, acc=0.51144, gpu_memory=2.90 GB, lr=0.00100, valid_loss=1.5106]\n",
      "Epocha train 37/300: 100%|██████████| 225/225 [00:36<00:00,  6.19it/s, acc=0.47398, gpu_memory=2.90 GB, lr=0.00100, valid_loss=1.3433]\n",
      "Epocha val 37/300: 100%|██████████| 98/98 [00:13<00:00,  7.23it/s, acc=0.52400, gpu_memory=2.90 GB, lr=0.00100, valid_loss=1.5095]\n",
      "Epocha train 38/300: 100%|██████████| 225/225 [00:38<00:00,  5.85it/s, acc=0.47500, gpu_memory=2.90 GB, lr=0.00100, valid_loss=1.3335]\n",
      "Epocha val 38/300: 100%|██████████| 98/98 [00:10<00:00,  9.01it/s, acc=0.52689, gpu_memory=2.90 GB, lr=0.00100, valid_loss=1.5111]\n",
      "Epocha train 39/300: 100%|██████████| 225/225 [00:42<00:00,  5.31it/s, acc=0.47755, gpu_memory=2.90 GB, lr=0.00100, valid_loss=1.3120]\n",
      "Epocha val 39/300: 100%|██████████| 98/98 [00:09<00:00, 10.25it/s, acc=0.53544, gpu_memory=2.90 GB, lr=0.00100, valid_loss=1.5056]\n"
     ]
    },
    {
     "name": "stdout",
     "output_type": "stream",
     "text": [
      "Best val Loss classification: 1.504792,Best val Acc classification:0.478061\n"
     ]
    },
    {
     "name": "stderr",
     "output_type": "stream",
     "text": [
      "Epocha train 40/300: 100%|██████████| 225/225 [00:38<00:00,  5.86it/s, acc=0.47857, gpu_memory=2.90 GB, lr=0.00100, valid_loss=1.2986]\n",
      "Epocha val 40/300: 100%|██████████| 98/98 [00:13<00:00,  7.51it/s, acc=0.53856, gpu_memory=2.90 GB, lr=0.00100, valid_loss=1.5204]"
     ]
    },
    {
     "name": "stdout",
     "output_type": "stream",
     "text": [
      "Best val Loss classification: 1.504792,Best val Acc classification:0.478571\n"
     ]
    },
    {
     "name": "stderr",
     "output_type": "stream",
     "text": [
      "\n",
      "Epocha train 41/300: 100%|██████████| 225/225 [00:35<00:00,  6.25it/s, acc=0.48469, gpu_memory=2.90 GB, lr=0.00100, valid_loss=1.2966]\n",
      "Epocha val 41/300: 100%|██████████| 98/98 [00:13<00:00,  7.42it/s, acc=0.54367, gpu_memory=2.90 GB, lr=0.00100, valid_loss=1.4793]\n"
     ]
    },
    {
     "name": "stdout",
     "output_type": "stream",
     "text": [
      "Best val Loss classification: 1.479329,Best val Acc classification:0.484694\n"
     ]
    },
    {
     "name": "stderr",
     "output_type": "stream",
     "text": [
      "Epocha train 42/300: 100%|██████████| 225/225 [00:42<00:00,  5.31it/s, acc=0.48750, gpu_memory=2.90 GB, lr=0.00100, valid_loss=1.2837]\n",
      "Epocha val 42/300: 100%|██████████| 98/98 [00:09<00:00, 10.40it/s, acc=0.55033, gpu_memory=2.90 GB, lr=0.00100, valid_loss=1.4715]\n",
      "Epocha train 43/300: 100%|██████████| 225/225 [00:41<00:00,  5.42it/s, acc=0.48622, gpu_memory=2.90 GB, lr=0.00100, valid_loss=1.2524]\n",
      "Epocha val 43/300: 100%|██████████| 98/98 [00:12<00:00,  7.72it/s, acc=0.55689, gpu_memory=2.90 GB, lr=0.00100, valid_loss=1.4779]\n",
      "Epocha train 44/300: 100%|██████████| 225/225 [00:36<00:00,  6.23it/s, acc=0.48265, gpu_memory=2.90 GB, lr=0.00100, valid_loss=1.2183]\n",
      "Epocha val 44/300: 100%|██████████| 98/98 [00:12<00:00,  7.63it/s, acc=0.57289, gpu_memory=2.90 GB, lr=0.00100, valid_loss=1.4465]\n"
     ]
    },
    {
     "name": "stdout",
     "output_type": "stream",
     "text": [
      "Best val Loss classification: 1.446507,Best val Acc classification:0.487500\n"
     ]
    },
    {
     "name": "stderr",
     "output_type": "stream",
     "text": [
      "Epocha train 45/300: 100%|██████████| 225/225 [00:39<00:00,  5.73it/s, acc=0.50026, gpu_memory=2.90 GB, lr=0.00100, valid_loss=1.2074]\n",
      "Epocha val 45/300: 100%|██████████| 98/98 [00:09<00:00, 10.15it/s, acc=0.58067, gpu_memory=2.90 GB, lr=0.00100, valid_loss=1.4875]\n",
      "Epocha train 46/300: 100%|██████████| 225/225 [00:42<00:00,  5.32it/s, acc=0.49490, gpu_memory=2.90 GB, lr=0.00100, valid_loss=1.2160]\n",
      "Epocha val 46/300: 100%|██████████| 98/98 [00:11<00:00,  8.34it/s, acc=0.57756, gpu_memory=2.90 GB, lr=0.00100, valid_loss=1.4795]\n",
      "Epocha train 47/300: 100%|██████████| 225/225 [00:38<00:00,  5.85it/s, acc=0.49235, gpu_memory=2.90 GB, lr=0.00100, valid_loss=1.2046]\n",
      "Epocha val 47/300: 100%|██████████| 98/98 [00:13<00:00,  7.53it/s, acc=0.58500, gpu_memory=2.90 GB, lr=0.00100, valid_loss=1.4750]\n"
     ]
    },
    {
     "name": "stdout",
     "output_type": "stream",
     "text": [
      "Best val Loss classification: 1.446507,Best val Acc classification:0.500255\n"
     ]
    },
    {
     "name": "stderr",
     "output_type": "stream",
     "text": [
      "Epocha train 48/300: 100%|██████████| 225/225 [00:36<00:00,  6.24it/s, acc=0.50204, gpu_memory=2.90 GB, lr=0.00100, valid_loss=1.1815]\n",
      "Epocha val 48/300: 100%|██████████| 98/98 [00:12<00:00,  7.60it/s, acc=0.58967, gpu_memory=2.90 GB, lr=0.00100, valid_loss=1.4675]\n",
      "Epocha train 49/300: 100%|██████████| 225/225 [00:42<00:00,  5.31it/s, acc=0.50179, gpu_memory=2.90 GB, lr=0.00100, valid_loss=1.1538]\n",
      "Epocha val 49/300: 100%|██████████| 98/98 [00:08<00:00, 11.75it/s, acc=0.59933, gpu_memory=2.90 GB, lr=0.00100, valid_loss=1.4763]\n",
      "Epocha train 50/300: 100%|██████████| 225/225 [00:39<00:00,  5.64it/s, acc=0.50179, gpu_memory=2.90 GB, lr=0.00100, valid_loss=1.1487]\n",
      "Epocha val 50/300: 100%|██████████| 98/98 [00:13<00:00,  7.51it/s, acc=0.60633, gpu_memory=2.90 GB, lr=0.00010, valid_loss=1.4422]\n"
     ]
    },
    {
     "name": "stdout",
     "output_type": "stream",
     "text": [
      "Best val Loss classification: 1.442170,Best val Acc classification:0.502041\n"
     ]
    },
    {
     "name": "stderr",
     "output_type": "stream",
     "text": [
      "Epocha train 51/300: 100%|██████████| 225/225 [00:36<00:00,  6.24it/s, acc=0.51071, gpu_memory=2.90 GB, lr=0.00010, valid_loss=1.0969]\n",
      "Epocha val 51/300: 100%|██████████| 98/98 [00:13<00:00,  7.40it/s, acc=0.62211, gpu_memory=2.90 GB, lr=0.00010, valid_loss=1.4048]\n"
     ]
    },
    {
     "name": "stdout",
     "output_type": "stream",
     "text": [
      "Best val Loss classification: 1.404769,Best val Acc classification:0.510714\n"
     ]
    },
    {
     "name": "stderr",
     "output_type": "stream",
     "text": [
      "Epocha train 52/300: 100%|██████████| 225/225 [00:39<00:00,  5.65it/s, acc=0.52730, gpu_memory=2.90 GB, lr=0.00010, valid_loss=1.0619]\n",
      "Epocha val 52/300: 100%|██████████| 98/98 [00:08<00:00, 11.12it/s, acc=0.63200, gpu_memory=2.90 GB, lr=0.00010, valid_loss=1.4000]\n"
     ]
    },
    {
     "name": "stdout",
     "output_type": "stream",
     "text": [
      "Best val Loss classification: 1.400015,Best val Acc classification:0.527296\n"
     ]
    },
    {
     "name": "stderr",
     "output_type": "stream",
     "text": [
      "Epocha train 53/300: 100%|██████████| 225/225 [00:42<00:00,  5.33it/s, acc=0.52755, gpu_memory=2.90 GB, lr=0.00010, valid_loss=1.0602]\n",
      "Epocha val 53/300: 100%|██████████| 98/98 [00:13<00:00,  7.42it/s, acc=0.63856, gpu_memory=2.90 GB, lr=0.00010, valid_loss=1.3861]\n"
     ]
    },
    {
     "name": "stdout",
     "output_type": "stream",
     "text": [
      "Best val Loss classification: 1.386103,Best val Acc classification:0.527551\n"
     ]
    },
    {
     "name": "stderr",
     "output_type": "stream",
     "text": [
      "Epocha train 54/300: 100%|██████████| 225/225 [00:36<00:00,  6.10it/s, acc=0.53342, gpu_memory=2.90 GB, lr=0.00010, valid_loss=1.0267]\n",
      "Epocha val 54/300: 100%|██████████| 98/98 [00:13<00:00,  7.28it/s, acc=0.64756, gpu_memory=2.90 GB, lr=0.00010, valid_loss=1.3992]\n",
      "Epocha train 55/300: 100%|██████████| 225/225 [00:37<00:00,  5.97it/s, acc=0.53010, gpu_memory=2.90 GB, lr=0.00010, valid_loss=1.0188]\n",
      "Epocha val 55/300: 100%|██████████| 98/98 [00:12<00:00,  7.57it/s, acc=0.65567, gpu_memory=2.90 GB, lr=0.00010, valid_loss=1.3953]\n",
      "Epocha train 56/300: 100%|██████████| 225/225 [00:42<00:00,  5.33it/s, acc=0.53087, gpu_memory=2.90 GB, lr=0.00010, valid_loss=0.9966]\n",
      "Epocha val 56/300: 100%|██████████| 98/98 [00:09<00:00, 10.61it/s, acc=0.66022, gpu_memory=2.90 GB, lr=0.00010, valid_loss=1.3934]\n",
      "Epocha train 57/300: 100%|██████████| 225/225 [00:39<00:00,  5.69it/s, acc=0.53291, gpu_memory=2.90 GB, lr=0.00010, valid_loss=0.9891]\n",
      "Epocha val 57/300: 100%|██████████| 98/98 [00:13<00:00,  7.40it/s, acc=0.66144, gpu_memory=2.90 GB, lr=0.00010, valid_loss=1.3961]\n",
      "Epocha train 58/300: 100%|██████████| 225/225 [00:35<00:00,  6.32it/s, acc=0.53163, gpu_memory=2.90 GB, lr=0.00010, valid_loss=0.9615]\n",
      "Epocha val 58/300: 100%|██████████| 98/98 [00:13<00:00,  7.40it/s, acc=0.66944, gpu_memory=2.90 GB, lr=0.00010, valid_loss=1.4027]\n",
      "Epocha train 59/300: 100%|██████████| 225/225 [00:40<00:00,  5.55it/s, acc=0.52959, gpu_memory=2.90 GB, lr=0.00010, valid_loss=0.9711]\n",
      "Epocha val 59/300: 100%|██████████| 98/98 [00:08<00:00, 10.99it/s, acc=0.67000, gpu_memory=2.90 GB, lr=0.00010, valid_loss=1.4075]\n"
     ]
    },
    {
     "name": "stdout",
     "output_type": "stream",
     "text": [
      "Best val Loss classification: 1.386103,Best val Acc classification:0.533418\n"
     ]
    },
    {
     "name": "stderr",
     "output_type": "stream",
     "text": [
      "Epocha train 60/300: 100%|██████████| 225/225 [00:42<00:00,  5.31it/s, acc=0.53597, gpu_memory=2.90 GB, lr=0.00010, valid_loss=0.9504]\n",
      "Epocha val 60/300: 100%|██████████| 98/98 [00:12<00:00,  7.56it/s, acc=0.67944, gpu_memory=2.90 GB, lr=0.00010, valid_loss=1.3956]"
     ]
    },
    {
     "name": "stdout",
     "output_type": "stream",
     "text": [
      "Best val Loss classification: 1.386103,Best val Acc classification:0.535969\n"
     ]
    },
    {
     "name": "stderr",
     "output_type": "stream",
     "text": [
      "\n",
      "Epocha train 61/300: 100%|██████████| 225/225 [00:36<00:00,  6.25it/s, acc=0.54260, gpu_memory=2.90 GB, lr=0.00010, valid_loss=0.9522]\n",
      "Epocha val 61/300: 100%|██████████| 98/98 [00:12<00:00,  7.72it/s, acc=0.67911, gpu_memory=2.90 GB, lr=0.00010, valid_loss=1.4020]\n",
      "Epocha train 62/300: 100%|██████████| 225/225 [00:38<00:00,  5.82it/s, acc=0.53444, gpu_memory=2.90 GB, lr=0.00010, valid_loss=0.9383]\n",
      "Epocha val 62/300: 100%|██████████| 98/98 [00:10<00:00,  9.77it/s, acc=0.68378, gpu_memory=2.90 GB, lr=0.00010, valid_loss=1.4061]\n",
      "Epocha train 63/300: 100%|██████████| 225/225 [00:42<00:00,  5.28it/s, acc=0.54005, gpu_memory=2.90 GB, lr=0.00010, valid_loss=0.9172]\n",
      "Epocha val 63/300: 100%|██████████| 98/98 [00:10<00:00,  9.03it/s, acc=0.69100, gpu_memory=2.90 GB, lr=0.00010, valid_loss=1.4036]\n"
     ]
    },
    {
     "name": "stdout",
     "output_type": "stream",
     "text": [
      "Best val Loss classification: 1.386103,Best val Acc classification:0.542602\n"
     ]
    },
    {
     "name": "stderr",
     "output_type": "stream",
     "text": [
      "Epocha train 64/300: 100%|██████████| 225/225 [00:38<00:00,  5.81it/s, acc=0.54566, gpu_memory=2.90 GB, lr=0.00010, valid_loss=0.9173]\n",
      "Epocha val 64/300: 100%|██████████| 98/98 [00:13<00:00,  7.47it/s, acc=0.69133, gpu_memory=2.90 GB, lr=0.00010, valid_loss=1.4126]\n",
      "Epocha train 65/300: 100%|██████████| 225/225 [00:36<00:00,  6.15it/s, acc=0.53929, gpu_memory=2.90 GB, lr=0.00010, valid_loss=0.8964]\n",
      "Epocha val 65/300: 100%|██████████| 98/98 [00:13<00:00,  7.47it/s, acc=0.70089, gpu_memory=2.90 GB, lr=0.00010, valid_loss=1.4116]\n",
      "Epocha train 66/300: 100%|██████████| 225/225 [00:42<00:00,  5.30it/s, acc=0.53291, gpu_memory=2.90 GB, lr=0.00010, valid_loss=0.8983]\n",
      "Epocha val 66/300: 100%|██████████| 98/98 [00:09<00:00, 10.11it/s, acc=0.70189, gpu_memory=2.90 GB, lr=0.00010, valid_loss=1.4303]\n",
      "Epocha train 67/300: 100%|██████████| 225/225 [00:42<00:00,  5.32it/s, acc=0.53520, gpu_memory=2.90 GB, lr=0.00010, valid_loss=0.8832]\n",
      "Epocha val 67/300: 100%|██████████| 98/98 [00:13<00:00,  7.09it/s, acc=0.70611, gpu_memory=2.90 GB, lr=0.00010, valid_loss=1.4125]\n"
     ]
    },
    {
     "name": "stdout",
     "output_type": "stream",
     "text": [
      "Best val Loss classification: 1.386103,Best val Acc classification:0.545663\n"
     ]
    },
    {
     "name": "stderr",
     "output_type": "stream",
     "text": [
      "Epocha train 68/300: 100%|██████████| 225/225 [00:36<00:00,  6.19it/s, acc=0.54592, gpu_memory=2.90 GB, lr=0.00010, valid_loss=0.8876]\n",
      "Epocha val 68/300: 100%|██████████| 98/98 [00:13<00:00,  7.51it/s, acc=0.70222, gpu_memory=2.90 GB, lr=0.00010, valid_loss=1.4104]\n",
      "Epocha train 69/300: 100%|██████████| 225/225 [00:38<00:00,  5.78it/s, acc=0.53929, gpu_memory=2.90 GB, lr=0.00010, valid_loss=0.8857]\n",
      "Epocha val 69/300: 100%|██████████| 98/98 [00:09<00:00, 10.21it/s, acc=0.70256, gpu_memory=2.90 GB, lr=0.00010, valid_loss=1.4293]\n",
      "Epocha train 70/300: 100%|██████████| 225/225 [00:42<00:00,  5.31it/s, acc=0.53469, gpu_memory=2.90 GB, lr=0.00010, valid_loss=0.8793]\n",
      "Epocha val 70/300: 100%|██████████| 98/98 [00:11<00:00,  8.90it/s, acc=0.70111, gpu_memory=2.90 GB, lr=0.00010, valid_loss=1.4218]\n",
      "Epocha train 71/300: 100%|██████████| 225/225 [00:38<00:00,  5.86it/s, acc=0.53750, gpu_memory=2.90 GB, lr=0.00010, valid_loss=0.8559]\n",
      "Epocha val 71/300: 100%|██████████| 98/98 [00:13<00:00,  7.25it/s, acc=0.72378, gpu_memory=2.90 GB, lr=0.00010, valid_loss=1.4347]\n",
      "Epocha train 72/300: 100%|██████████| 225/225 [00:36<00:00,  6.22it/s, acc=0.53240, gpu_memory=2.90 GB, lr=0.00010, valid_loss=0.8567]\n",
      "Epocha val 72/300: 100%|██████████| 98/98 [00:12<00:00,  7.89it/s, acc=0.71633, gpu_memory=2.90 GB, lr=0.00010, valid_loss=1.4358]\n",
      "Epocha train 73/300: 100%|██████████| 225/225 [00:42<00:00,  5.33it/s, acc=0.53750, gpu_memory=2.90 GB, lr=0.00010, valid_loss=0.8498]\n",
      "Epocha val 73/300: 100%|██████████| 98/98 [00:08<00:00, 11.16it/s, acc=0.71722, gpu_memory=2.90 GB, lr=0.00010, valid_loss=1.4350]\n",
      "Epocha train 74/300: 100%|██████████| 225/225 [00:39<00:00,  5.63it/s, acc=0.53852, gpu_memory=2.90 GB, lr=0.00010, valid_loss=0.8383]\n",
      "Epocha val 74/300: 100%|██████████| 98/98 [00:13<00:00,  7.53it/s, acc=0.72578, gpu_memory=2.90 GB, lr=0.00010, valid_loss=1.4376]\n",
      "Epocha train 75/300: 100%|██████████| 225/225 [00:35<00:00,  6.26it/s, acc=0.54209, gpu_memory=2.90 GB, lr=0.00010, valid_loss=0.8290]\n",
      "Epocha val 75/300: 100%|██████████| 98/98 [00:13<00:00,  7.33it/s, acc=0.72444, gpu_memory=2.90 GB, lr=0.00010, valid_loss=1.4607]\n",
      "Epocha train 76/300: 100%|██████████| 225/225 [00:39<00:00,  5.64it/s, acc=0.53520, gpu_memory=2.90 GB, lr=0.00010, valid_loss=0.8369]\n",
      "Epocha val 76/300: 100%|██████████| 98/98 [00:09<00:00, 10.07it/s, acc=0.72111, gpu_memory=2.90 GB, lr=0.00010, valid_loss=1.4531]\n",
      "Epocha train 77/300: 100%|██████████| 225/225 [00:42<00:00,  5.33it/s, acc=0.53673, gpu_memory=2.90 GB, lr=0.00010, valid_loss=0.8234]\n",
      "Epocha val 77/300: 100%|██████████| 98/98 [00:12<00:00,  7.55it/s, acc=0.73344, gpu_memory=2.90 GB, lr=0.00010, valid_loss=1.4530]\n",
      "Epocha train 78/300: 100%|██████████| 225/225 [00:37<00:00,  6.04it/s, acc=0.53929, gpu_memory=2.90 GB, lr=0.00010, valid_loss=0.8183]\n",
      "Epocha val 78/300: 100%|██████████| 98/98 [00:13<00:00,  7.21it/s, acc=0.73022, gpu_memory=2.90 GB, lr=0.00010, valid_loss=1.4595]\n",
      "Epocha train 79/300: 100%|██████████| 225/225 [00:36<00:00,  6.08it/s, acc=0.53240, gpu_memory=2.90 GB, lr=0.00010, valid_loss=0.7972]\n",
      "Epocha val 79/300: 100%|██████████| 98/98 [00:13<00:00,  7.52it/s, acc=0.74033, gpu_memory=2.90 GB, lr=0.00010, valid_loss=1.4580]\n",
      "Epocha train 80/300: 100%|██████████| 225/225 [00:42<00:00,  5.33it/s, acc=0.52449, gpu_memory=2.90 GB, lr=0.00010, valid_loss=0.7957]\n",
      "Epocha val 80/300: 100%|██████████| 98/98 [00:08<00:00, 11.45it/s, acc=0.73800, gpu_memory=2.90 GB, lr=0.00010, valid_loss=1.4714]\n",
      "Epocha train 81/300: 100%|██████████| 225/225 [00:38<00:00,  5.77it/s, acc=0.53801, gpu_memory=2.90 GB, lr=0.00010, valid_loss=0.8069]\n",
      "Epocha val 81/300: 100%|██████████| 98/98 [00:12<00:00,  7.56it/s, acc=0.73800, gpu_memory=2.90 GB, lr=0.00010, valid_loss=1.4554]\n",
      "Epocha train 82/300: 100%|██████████| 225/225 [00:35<00:00,  6.27it/s, acc=0.54031, gpu_memory=2.90 GB, lr=0.00010, valid_loss=0.7951]\n",
      "Epocha val 82/300: 100%|██████████| 98/98 [00:12<00:00,  7.62it/s, acc=0.74389, gpu_memory=2.90 GB, lr=0.00010, valid_loss=1.4642]\n",
      "Epocha train 83/300: 100%|██████████| 225/225 [00:41<00:00,  5.43it/s, acc=0.54311, gpu_memory=2.90 GB, lr=0.00010, valid_loss=0.7993]\n",
      "Epocha val 83/300: 100%|██████████| 98/98 [00:08<00:00, 10.98it/s, acc=0.73700, gpu_memory=2.90 GB, lr=0.00010, valid_loss=1.4791]\n",
      "Epocha train 84/300: 100%|██████████| 225/225 [00:42<00:00,  5.32it/s, acc=0.52500, gpu_memory=2.90 GB, lr=0.00010, valid_loss=0.7883]\n",
      "Epocha val 84/300: 100%|██████████| 98/98 [00:12<00:00,  7.68it/s, acc=0.74411, gpu_memory=2.90 GB, lr=0.00010, valid_loss=1.4561]\n",
      "Epocha train 85/300: 100%|██████████| 225/225 [00:35<00:00,  6.27it/s, acc=0.53571, gpu_memory=2.90 GB, lr=0.00010, valid_loss=0.7982]\n",
      "Epocha val 85/300: 100%|██████████| 98/98 [00:13<00:00,  7.44it/s, acc=0.74333, gpu_memory=2.90 GB, lr=0.00010, valid_loss=1.4567]\n",
      "Epocha train 86/300: 100%|██████████| 225/225 [00:39<00:00,  5.74it/s, acc=0.53827, gpu_memory=2.90 GB, lr=0.00010, valid_loss=0.7861]\n",
      "Epocha val 86/300: 100%|██████████| 98/98 [00:09<00:00, 10.10it/s, acc=0.74711, gpu_memory=2.90 GB, lr=0.00010, valid_loss=1.4635]\n",
      "Epocha train 87/300: 100%|██████████| 225/225 [00:42<00:00,  5.32it/s, acc=0.53316, gpu_memory=2.90 GB, lr=0.00010, valid_loss=0.7831]\n",
      "Epocha val 87/300: 100%|██████████| 98/98 [00:11<00:00,  8.80it/s, acc=0.74878, gpu_memory=2.90 GB, lr=0.00010, valid_loss=1.4609]\n",
      "Epocha train 88/300: 100%|██████████| 225/225 [00:38<00:00,  5.86it/s, acc=0.53393, gpu_memory=2.90 GB, lr=0.00010, valid_loss=0.7715]\n",
      "Epocha val 88/300: 100%|██████████| 98/98 [00:13<00:00,  7.31it/s, acc=0.75189, gpu_memory=2.90 GB, lr=0.00010, valid_loss=1.4663]\n",
      "Epocha train 89/300: 100%|██████████| 225/225 [00:36<00:00,  6.22it/s, acc=0.53597, gpu_memory=2.90 GB, lr=0.00010, valid_loss=0.7657]\n",
      "Epocha val 89/300: 100%|██████████| 98/98 [00:12<00:00,  7.55it/s, acc=0.74989, gpu_memory=2.90 GB, lr=0.00010, valid_loss=1.4810]\n",
      "Epocha train 90/300: 100%|██████████| 225/225 [00:42<00:00,  5.34it/s, acc=0.53316, gpu_memory=2.90 GB, lr=0.00010, valid_loss=0.7690]\n",
      "Epocha val 90/300: 100%|██████████| 98/98 [00:08<00:00, 11.15it/s, acc=0.75111, gpu_memory=2.90 GB, lr=0.00010, valid_loss=1.4753]\n",
      "Epocha train 91/300: 100%|██████████| 225/225 [00:40<00:00,  5.60it/s, acc=0.53520, gpu_memory=2.90 GB, lr=0.00010, valid_loss=0.7555]\n",
      "Epocha val 91/300: 100%|██████████| 98/98 [00:13<00:00,  7.09it/s, acc=0.75422, gpu_memory=2.90 GB, lr=0.00010, valid_loss=1.4924]\n",
      "Epocha train 92/300: 100%|██████████| 225/225 [00:36<00:00,  6.20it/s, acc=0.53520, gpu_memory=2.90 GB, lr=0.00010, valid_loss=0.7493]\n",
      "Epocha val 92/300: 100%|██████████| 98/98 [00:13<00:00,  7.41it/s, acc=0.76044, gpu_memory=2.90 GB, lr=0.00010, valid_loss=1.4890]\n",
      "Epocha train 93/300: 100%|██████████| 225/225 [00:39<00:00,  5.67it/s, acc=0.53342, gpu_memory=2.90 GB, lr=0.00010, valid_loss=0.7484]\n",
      "Epocha val 93/300: 100%|██████████| 98/98 [00:09<00:00, 10.52it/s, acc=0.76378, gpu_memory=2.90 GB, lr=0.00010, valid_loss=1.4907]\n",
      "Epocha train 94/300: 100%|██████████| 225/225 [00:42<00:00,  5.32it/s, acc=0.53036, gpu_memory=2.90 GB, lr=0.00010, valid_loss=0.7362]\n",
      "Epocha val 94/300: 100%|██████████| 98/98 [00:13<00:00,  7.51it/s, acc=0.75922, gpu_memory=2.90 GB, lr=0.00010, valid_loss=1.4914]\n",
      "Epocha train 95/300: 100%|██████████| 225/225 [00:38<00:00,  5.87it/s, acc=0.54133, gpu_memory=2.90 GB, lr=0.00010, valid_loss=0.7467]\n",
      "Epocha val 95/300: 100%|██████████| 98/98 [00:13<00:00,  7.35it/s, acc=0.75989, gpu_memory=2.90 GB, lr=0.00010, valid_loss=1.4877]\n",
      "Epocha train 96/300: 100%|██████████| 225/225 [00:36<00:00,  6.21it/s, acc=0.53903, gpu_memory=2.90 GB, lr=0.00010, valid_loss=0.7182]\n",
      "Epocha val 96/300: 100%|██████████| 98/98 [00:13<00:00,  7.38it/s, acc=0.77211, gpu_memory=2.90 GB, lr=0.00010, valid_loss=1.4976]\n",
      "Epocha train 97/300: 100%|██████████| 225/225 [00:42<00:00,  5.31it/s, acc=0.52985, gpu_memory=2.90 GB, lr=0.00010, valid_loss=0.7132]\n",
      "Epocha val 97/300: 100%|██████████| 98/98 [00:08<00:00, 11.15it/s, acc=0.77511, gpu_memory=2.90 GB, lr=0.00010, valid_loss=1.4966]\n",
      "Epocha train 98/300: 100%|██████████| 225/225 [00:39<00:00,  5.65it/s, acc=0.52806, gpu_memory=2.90 GB, lr=0.00010, valid_loss=0.7174]\n",
      "Epocha val 98/300: 100%|██████████| 98/98 [00:12<00:00,  7.57it/s, acc=0.76889, gpu_memory=2.90 GB, lr=0.00010, valid_loss=1.4831]\n",
      "Epocha train 99/300: 100%|██████████| 225/225 [00:36<00:00,  6.14it/s, acc=0.53571, gpu_memory=2.90 GB, lr=0.00010, valid_loss=0.7259]\n",
      "Epocha val 99/300: 100%|██████████| 98/98 [00:13<00:00,  7.45it/s, acc=0.76756, gpu_memory=2.90 GB, lr=0.00010, valid_loss=1.4815]\n",
      "Epocha train 100/300: 100%|██████████| 225/225 [00:40<00:00,  5.60it/s, acc=0.53827, gpu_memory=2.90 GB, lr=0.00010, valid_loss=0.7001]\n",
      "Epocha val 100/300: 100%|██████████| 98/98 [00:07<00:00, 12.41it/s, acc=0.77800, gpu_memory=2.90 GB, lr=0.00001, valid_loss=1.5076]\n",
      "Epocha train 101/300: 100%|██████████| 225/225 [00:42<00:00,  5.28it/s, acc=0.52883, gpu_memory=2.90 GB, lr=0.00001, valid_loss=0.6968]\n",
      "Epocha val 101/300: 100%|██████████| 98/98 [00:12<00:00,  7.56it/s, acc=0.78278, gpu_memory=2.90 GB, lr=0.00001, valid_loss=1.4974]\n",
      "Epocha train 102/300: 100%|██████████| 225/225 [00:36<00:00,  6.08it/s, acc=0.53291, gpu_memory=2.90 GB, lr=0.00001, valid_loss=0.7083]\n",
      "Epocha val 102/300: 100%|██████████| 98/98 [00:13<00:00,  7.41it/s, acc=0.77389, gpu_memory=2.90 GB, lr=0.00001, valid_loss=1.4911]\n",
      "Epocha train 103/300: 100%|██████████| 225/225 [00:38<00:00,  5.84it/s, acc=0.53750, gpu_memory=2.90 GB, lr=0.00001, valid_loss=0.6790]\n",
      "Epocha val 103/300: 100%|██████████| 98/98 [00:11<00:00,  8.44it/s, acc=0.78267, gpu_memory=2.90 GB, lr=0.00001, valid_loss=1.5001]\n",
      "Epocha train 104/300: 100%|██████████| 225/225 [00:42<00:00,  5.30it/s, acc=0.52832, gpu_memory=2.90 GB, lr=0.00001, valid_loss=0.7253]\n",
      "Epocha val 104/300: 100%|██████████| 98/98 [00:10<00:00,  9.79it/s, acc=0.76367, gpu_memory=2.90 GB, lr=0.00001, valid_loss=1.4970]\n",
      "Epocha train 105/300: 100%|██████████| 225/225 [00:39<00:00,  5.74it/s, acc=0.54286, gpu_memory=2.90 GB, lr=0.00001, valid_loss=0.7013]\n",
      "Epocha val 105/300: 100%|██████████| 98/98 [00:13<00:00,  7.41it/s, acc=0.77556, gpu_memory=2.90 GB, lr=0.00001, valid_loss=1.5084]\n",
      "Epocha train 106/300: 100%|██████████| 225/225 [00:36<00:00,  6.15it/s, acc=0.53546, gpu_memory=2.90 GB, lr=0.00001, valid_loss=0.6815]\n",
      "Epocha val 106/300: 100%|██████████| 98/98 [00:13<00:00,  7.15it/s, acc=0.78111, gpu_memory=2.90 GB, lr=0.00001, valid_loss=1.4900]\n",
      "Epocha train 107/300: 100%|██████████| 225/225 [00:40<00:00,  5.55it/s, acc=0.54388, gpu_memory=2.90 GB, lr=0.00001, valid_loss=0.6770]\n",
      "Epocha val 107/300: 100%|██████████| 98/98 [00:09<00:00, 10.21it/s, acc=0.78478, gpu_memory=2.90 GB, lr=0.00001, valid_loss=1.5000]\n",
      "Epocha train 108/300: 100%|██████████| 225/225 [00:42<00:00,  5.32it/s, acc=0.54592, gpu_memory=2.90 GB, lr=0.00001, valid_loss=0.6763]\n",
      "Epocha val 108/300: 100%|██████████| 98/98 [00:13<00:00,  7.37it/s, acc=0.78322, gpu_memory=2.90 GB, lr=0.00001, valid_loss=1.4895]\n",
      "Epocha train 109/300: 100%|██████████| 225/225 [00:36<00:00,  6.25it/s, acc=0.54158, gpu_memory=2.90 GB, lr=0.00001, valid_loss=0.6753]\n",
      "Epocha val 109/300: 100%|██████████| 98/98 [00:13<00:00,  7.19it/s, acc=0.78344, gpu_memory=2.90 GB, lr=0.00001, valid_loss=1.5219]\n",
      "Epocha train 110/300: 100%|██████████| 225/225 [00:38<00:00,  5.91it/s, acc=0.53367, gpu_memory=2.90 GB, lr=0.00001, valid_loss=0.7035]\n",
      "Epocha val 110/300: 100%|██████████| 98/98 [00:12<00:00,  7.64it/s, acc=0.77967, gpu_memory=2.90 GB, lr=0.00001, valid_loss=1.4908]\n",
      "Epocha train 111/300: 100%|██████████| 225/225 [00:42<00:00,  5.31it/s, acc=0.54311, gpu_memory=2.90 GB, lr=0.00001, valid_loss=0.6796]\n",
      "Epocha val 111/300: 100%|██████████| 98/98 [00:09<00:00, 10.32it/s, acc=0.78767, gpu_memory=2.90 GB, lr=0.00001, valid_loss=1.4795]\n",
      "Epocha train 112/300: 100%|██████████| 225/225 [00:39<00:00,  5.68it/s, acc=0.54413, gpu_memory=2.90 GB, lr=0.00001, valid_loss=0.6761]\n",
      "Epocha val 112/300: 100%|██████████| 98/98 [00:13<00:00,  7.35it/s, acc=0.78667, gpu_memory=2.90 GB, lr=0.00001, valid_loss=1.4940]\n",
      "Epocha train 113/300: 100%|██████████| 225/225 [00:36<00:00,  6.21it/s, acc=0.53316, gpu_memory=2.90 GB, lr=0.00001, valid_loss=0.6740]\n",
      "Epocha val 113/300: 100%|██████████| 98/98 [00:13<00:00,  7.10it/s, acc=0.78789, gpu_memory=2.90 GB, lr=0.00001, valid_loss=1.4757]\n",
      "Epocha train 114/300: 100%|██████████| 225/225 [00:40<00:00,  5.61it/s, acc=0.53878, gpu_memory=2.90 GB, lr=0.00001, valid_loss=0.6710]\n",
      "Epocha val 114/300: 100%|██████████| 98/98 [00:08<00:00, 10.92it/s, acc=0.78656, gpu_memory=2.90 GB, lr=0.00001, valid_loss=1.4924]\n",
      "Epocha train 115/300: 100%|██████████| 225/225 [00:42<00:00,  5.33it/s, acc=0.53776, gpu_memory=2.90 GB, lr=0.00001, valid_loss=0.6838]\n",
      "Epocha val 115/300: 100%|██████████| 98/98 [00:13<00:00,  7.44it/s, acc=0.78200, gpu_memory=2.90 GB, lr=0.00001, valid_loss=1.4951]\n",
      "Epocha train 116/300: 100%|██████████| 225/225 [00:36<00:00,  6.12it/s, acc=0.54107, gpu_memory=2.90 GB, lr=0.00001, valid_loss=0.6680]\n",
      "Epocha val 116/300: 100%|██████████| 98/98 [00:13<00:00,  7.42it/s, acc=0.79111, gpu_memory=2.90 GB, lr=0.00001, valid_loss=1.4983]\n",
      "Epocha train 117/300: 100%|██████████| 225/225 [00:37<00:00,  5.92it/s, acc=0.54158, gpu_memory=2.90 GB, lr=0.00001, valid_loss=0.6698]\n",
      "Epocha val 117/300: 100%|██████████| 98/98 [00:13<00:00,  7.45it/s, acc=0.78700, gpu_memory=2.90 GB, lr=0.00001, valid_loss=1.4814]\n",
      "Epocha train 118/300: 100%|██████████| 225/225 [00:42<00:00,  5.31it/s, acc=0.54260, gpu_memory=2.90 GB, lr=0.00001, valid_loss=0.6608]\n",
      "Epocha val 118/300: 100%|██████████| 98/98 [00:08<00:00, 11.02it/s, acc=0.79156, gpu_memory=2.90 GB, lr=0.00001, valid_loss=1.4872]\n",
      "Epocha train 119/300: 100%|██████████| 225/225 [00:39<00:00,  5.65it/s, acc=0.53699, gpu_memory=2.90 GB, lr=0.00001, valid_loss=0.6690]\n",
      "Epocha val 119/300: 100%|██████████| 98/98 [00:13<00:00,  7.51it/s, acc=0.78944, gpu_memory=2.90 GB, lr=0.00001, valid_loss=1.4909]\n",
      "Epocha train 120/300: 100%|██████████| 225/225 [00:33<00:00,  6.79it/s, acc=0.54515, gpu_memory=2.90 GB, lr=0.00001, valid_loss=0.6774]\n",
      "Epocha val 120/300: 100%|██████████| 98/98 [00:12<00:00,  7.55it/s, acc=0.78178, gpu_memory=2.90 GB, lr=0.00001, valid_loss=1.4881]\n",
      "Epocha train 121/300: 100%|██████████| 225/225 [00:42<00:00,  5.32it/s, acc=0.54439, gpu_memory=2.90 GB, lr=0.00001, valid_loss=0.6765]\n",
      "Epocha val 121/300: 100%|██████████| 98/98 [00:09<00:00, 10.19it/s, acc=0.78733, gpu_memory=2.90 GB, lr=0.00001, valid_loss=1.4957]\n",
      "Epocha train 122/300: 100%|██████████| 225/225 [00:41<00:00,  5.42it/s, acc=0.53827, gpu_memory=2.90 GB, lr=0.00001, valid_loss=0.6935]\n",
      "Epocha val 122/300: 100%|██████████| 98/98 [00:13<00:00,  7.26it/s, acc=0.78589, gpu_memory=2.90 GB, lr=0.00001, valid_loss=1.5109]\n",
      "Epocha train 123/300: 100%|██████████| 225/225 [00:34<00:00,  6.44it/s, acc=0.54056, gpu_memory=2.90 GB, lr=0.00001, valid_loss=0.6581]\n",
      "Epocha val 123/300: 100%|██████████| 98/98 [00:13<00:00,  7.24it/s, acc=0.79144, gpu_memory=2.90 GB, lr=0.00001, valid_loss=1.5160]\n",
      "Epocha train 124/300: 100%|██████████| 225/225 [00:39<00:00,  5.72it/s, acc=0.53776, gpu_memory=2.90 GB, lr=0.00001, valid_loss=0.6667]\n",
      "Epocha val 124/300: 100%|██████████| 98/98 [00:08<00:00, 11.71it/s, acc=0.78767, gpu_memory=2.90 GB, lr=0.00001, valid_loss=1.5059]\n",
      "Epocha train 125/300: 100%|██████████| 225/225 [00:42<00:00,  5.32it/s, acc=0.53673, gpu_memory=2.90 GB, lr=0.00001, valid_loss=0.6823]\n",
      "Epocha val 125/300: 100%|██████████| 98/98 [00:13<00:00,  7.24it/s, acc=0.78033, gpu_memory=2.90 GB, lr=0.00001, valid_loss=1.5128]\n",
      "Epocha train 126/300: 100%|██████████| 225/225 [00:37<00:00,  6.00it/s, acc=0.53801, gpu_memory=2.90 GB, lr=0.00001, valid_loss=0.6761]\n",
      "Epocha val 126/300: 100%|██████████| 98/98 [00:13<00:00,  7.33it/s, acc=0.78489, gpu_memory=2.90 GB, lr=0.00001, valid_loss=1.4916]\n",
      "Epocha train 127/300: 100%|██████████| 225/225 [00:37<00:00,  6.06it/s, acc=0.54031, gpu_memory=2.90 GB, lr=0.00001, valid_loss=0.6475]\n",
      "Epocha val 127/300: 100%|██████████| 98/98 [00:12<00:00,  7.83it/s, acc=0.79667, gpu_memory=2.90 GB, lr=0.00001, valid_loss=1.4985]\n",
      "Epocha train 128/300: 100%|██████████| 225/225 [00:42<00:00,  5.28it/s, acc=0.53750, gpu_memory=2.90 GB, lr=0.00001, valid_loss=0.6635]\n",
      "Epocha val 128/300: 100%|██████████| 98/98 [00:09<00:00,  9.89it/s, acc=0.78978, gpu_memory=2.90 GB, lr=0.00001, valid_loss=1.5050]\n",
      "Epocha train 129/300: 100%|██████████| 225/225 [00:38<00:00,  5.85it/s, acc=0.53546, gpu_memory=2.90 GB, lr=0.00001, valid_loss=0.6433]\n",
      "Epocha val 129/300: 100%|██████████| 98/98 [00:13<00:00,  7.19it/s, acc=0.80000, gpu_memory=2.90 GB, lr=0.00001, valid_loss=1.4926]\n",
      "Epocha train 130/300: 100%|██████████| 225/225 [00:35<00:00,  6.42it/s, acc=0.53648, gpu_memory=2.90 GB, lr=0.00001, valid_loss=0.6613]\n",
      "Epocha val 130/300: 100%|██████████| 98/98 [00:13<00:00,  7.26it/s, acc=0.79044, gpu_memory=2.90 GB, lr=0.00001, valid_loss=1.5100]\n",
      "Epocha train 131/300: 100%|██████████| 225/225 [00:40<00:00,  5.49it/s, acc=0.53980, gpu_memory=2.90 GB, lr=0.00001, valid_loss=0.6463]\n",
      "Epocha val 131/300: 100%|██████████| 98/98 [00:09<00:00, 10.85it/s, acc=0.80167, gpu_memory=2.90 GB, lr=0.00001, valid_loss=1.5082]\n",
      "Epocha train 132/300: 100%|██████████| 225/225 [00:42<00:00,  5.35it/s, acc=0.53776, gpu_memory=2.90 GB, lr=0.00001, valid_loss=0.6458]\n",
      "Epocha val 132/300: 100%|██████████| 98/98 [00:13<00:00,  7.04it/s, acc=0.80133, gpu_memory=2.90 GB, lr=0.00001, valid_loss=1.4902]\n",
      "Epocha train 133/300: 100%|██████████| 225/225 [00:35<00:00,  6.38it/s, acc=0.53673, gpu_memory=2.90 GB, lr=0.00001, valid_loss=0.6574]\n",
      "Epocha val 133/300: 100%|██████████| 98/98 [00:13<00:00,  7.23it/s, acc=0.79200, gpu_memory=2.90 GB, lr=0.00001, valid_loss=1.5166]\n",
      "Epocha train 134/300: 100%|██████████| 225/225 [00:39<00:00,  5.77it/s, acc=0.53469, gpu_memory=2.90 GB, lr=0.00001, valid_loss=0.6514]\n",
      "Epocha val 134/300: 100%|██████████| 98/98 [00:08<00:00, 11.62it/s, acc=0.79589, gpu_memory=2.90 GB, lr=0.00001, valid_loss=1.4961]"
     ]
    },
    {
     "name": "stdout",
     "output_type": "stream",
     "text": [
      "Best val Loss classification: 1.386103,Best val Acc classification:0.545918\n"
     ]
    },
    {
     "name": "stderr",
     "output_type": "stream",
     "text": [
      "\n",
      "Epocha train 135/300: 100%|██████████| 225/225 [00:42<00:00,  5.31it/s, acc=0.55102, gpu_memory=2.90 GB, lr=0.00001, valid_loss=0.6595]\n",
      "Epocha val 135/300: 100%|██████████| 98/98 [00:12<00:00,  7.82it/s, acc=0.79178, gpu_memory=2.90 GB, lr=0.00001, valid_loss=1.4943]\n",
      "Epocha train 136/300: 100%|██████████| 225/225 [00:37<00:00,  6.02it/s, acc=0.53980, gpu_memory=2.90 GB, lr=0.00001, valid_loss=0.6492]\n",
      "Epocha val 136/300: 100%|██████████| 98/98 [00:13<00:00,  7.26it/s, acc=0.79533, gpu_memory=2.90 GB, lr=0.00001, valid_loss=1.4898]\n",
      "Epocha train 137/300: 100%|██████████| 225/225 [00:37<00:00,  6.01it/s, acc=0.53801, gpu_memory=2.90 GB, lr=0.00001, valid_loss=0.6586]\n",
      "Epocha val 137/300: 100%|██████████| 98/98 [00:13<00:00,  7.18it/s, acc=0.79478, gpu_memory=2.90 GB, lr=0.00001, valid_loss=1.5039]\n",
      "Epocha train 138/300: 100%|██████████| 225/225 [00:42<00:00,  5.28it/s, acc=0.53724, gpu_memory=2.90 GB, lr=0.00001, valid_loss=0.6578]\n",
      "Epocha val 138/300: 100%|██████████| 98/98 [00:08<00:00, 10.97it/s, acc=0.78900, gpu_memory=2.90 GB, lr=0.00001, valid_loss=1.4894]\n",
      "Epocha train 139/300: 100%|██████████| 225/225 [00:37<00:00,  5.93it/s, acc=0.54464, gpu_memory=2.90 GB, lr=0.00001, valid_loss=0.6520]\n",
      "Epocha val 139/300: 100%|██████████| 98/98 [00:13<00:00,  7.21it/s, acc=0.79033, gpu_memory=2.90 GB, lr=0.00001, valid_loss=1.5182]\n",
      "Epocha train 140/300: 100%|██████████| 225/225 [00:34<00:00,  6.49it/s, acc=0.53648, gpu_memory=2.90 GB, lr=0.00001, valid_loss=0.6599]\n",
      "Epocha val 140/300: 100%|██████████| 98/98 [00:13<00:00,  7.27it/s, acc=0.78522, gpu_memory=2.90 GB, lr=0.00001, valid_loss=1.5199]\n",
      "Epocha train 141/300: 100%|██████████| 225/225 [00:41<00:00,  5.40it/s, acc=0.54439, gpu_memory=2.90 GB, lr=0.00001, valid_loss=0.6615]\n",
      "Epocha val 141/300: 100%|██████████| 98/98 [00:08<00:00, 10.94it/s, acc=0.79233, gpu_memory=2.90 GB, lr=0.00001, valid_loss=1.5043]\n",
      "Epocha train 142/300: 100%|██████████| 225/225 [00:41<00:00,  5.38it/s, acc=0.54031, gpu_memory=2.90 GB, lr=0.00001, valid_loss=0.6568]\n",
      "Epocha val 142/300: 100%|██████████| 98/98 [00:13<00:00,  7.41it/s, acc=0.79256, gpu_memory=2.90 GB, lr=0.00001, valid_loss=1.5237]\n",
      "Epocha train 143/300: 100%|██████████| 225/225 [00:35<00:00,  6.42it/s, acc=0.53469, gpu_memory=2.90 GB, lr=0.00001, valid_loss=0.6584]\n",
      "Epocha val 143/300: 100%|██████████| 98/98 [00:13<00:00,  7.23it/s, acc=0.79411, gpu_memory=2.90 GB, lr=0.00001, valid_loss=1.5150]\n",
      "Epocha train 144/300: 100%|██████████| 225/225 [00:39<00:00,  5.71it/s, acc=0.53724, gpu_memory=2.90 GB, lr=0.00001, valid_loss=0.6483]\n",
      "Epocha val 144/300: 100%|██████████| 98/98 [00:08<00:00, 11.93it/s, acc=0.79633, gpu_memory=2.90 GB, lr=0.00001, valid_loss=1.4974]\n",
      "Epocha train 145/300: 100%|██████████| 225/225 [00:42<00:00,  5.31it/s, acc=0.54464, gpu_memory=2.90 GB, lr=0.00001, valid_loss=0.6463]\n",
      "Epocha val 145/300: 100%|██████████| 98/98 [00:13<00:00,  7.29it/s, acc=0.79844, gpu_memory=2.90 GB, lr=0.00001, valid_loss=1.5017]\n",
      "Epocha train 146/300: 100%|██████████| 225/225 [00:35<00:00,  6.28it/s, acc=0.53214, gpu_memory=2.90 GB, lr=0.00001, valid_loss=0.6573]\n",
      "Epocha val 146/300: 100%|██████████| 98/98 [00:13<00:00,  7.08it/s, acc=0.79567, gpu_memory=2.90 GB, lr=0.00001, valid_loss=1.5055]\n",
      "Epocha train 147/300: 100%|██████████| 225/225 [00:38<00:00,  5.90it/s, acc=0.54031, gpu_memory=2.90 GB, lr=0.00001, valid_loss=0.6613]\n",
      "Epocha val 147/300: 100%|██████████| 98/98 [00:11<00:00,  8.53it/s, acc=0.79156, gpu_memory=2.90 GB, lr=0.00001, valid_loss=1.4936]\n",
      "Epocha train 148/300: 100%|██████████| 225/225 [00:42<00:00,  5.32it/s, acc=0.54260, gpu_memory=2.90 GB, lr=0.00001, valid_loss=0.6479]\n",
      "Epocha val 148/300: 100%|██████████| 98/98 [00:09<00:00,  9.97it/s, acc=0.79822, gpu_memory=2.90 GB, lr=0.00001, valid_loss=1.5023]\n",
      "Epocha train 149/300: 100%|██████████| 225/225 [00:37<00:00,  6.02it/s, acc=0.53878, gpu_memory=2.90 GB, lr=0.00001, valid_loss=0.6377]\n",
      "Epocha val 149/300: 100%|██████████| 98/98 [00:13<00:00,  7.52it/s, acc=0.79944, gpu_memory=2.90 GB, lr=0.00001, valid_loss=1.5258]\n",
      "Epocha train 150/300: 100%|██████████| 225/225 [00:34<00:00,  6.53it/s, acc=0.53214, gpu_memory=2.90 GB, lr=0.00001, valid_loss=0.6519]\n",
      "Epocha val 150/300: 100%|██████████| 98/98 [00:12<00:00,  7.61it/s, acc=0.79567, gpu_memory=2.90 GB, lr=0.00000, valid_loss=1.5125]\n",
      "Epocha train 151/300: 100%|██████████| 225/225 [00:41<00:00,  5.39it/s, acc=0.53520, gpu_memory=2.90 GB, lr=0.00000, valid_loss=0.6448]\n",
      "Epocha val 151/300: 100%|██████████| 98/98 [00:08<00:00, 11.71it/s, acc=0.79389, gpu_memory=2.90 GB, lr=0.00000, valid_loss=1.5027]\n",
      "Epocha train 152/300: 100%|██████████| 225/225 [00:38<00:00,  5.87it/s, acc=0.54490, gpu_memory=2.90 GB, lr=0.00000, valid_loss=0.6473]\n",
      "Epocha val 152/300: 100%|██████████| 98/98 [00:13<00:00,  7.38it/s, acc=0.79700, gpu_memory=2.90 GB, lr=0.00000, valid_loss=1.5096]\n",
      "Epocha train 153/300: 100%|██████████| 225/225 [00:34<00:00,  6.50it/s, acc=0.53724, gpu_memory=2.90 GB, lr=0.00000, valid_loss=0.6611]\n",
      "Epocha val 153/300: 100%|██████████| 98/98 [00:13<00:00,  7.40it/s, acc=0.78833, gpu_memory=2.90 GB, lr=0.00000, valid_loss=1.4966]\n",
      "Epocha train 154/300: 100%|██████████| 225/225 [00:40<00:00,  5.56it/s, acc=0.54745, gpu_memory=2.90 GB, lr=0.00000, valid_loss=0.6555]\n",
      "Epocha val 154/300: 100%|██████████| 98/98 [00:08<00:00, 11.15it/s, acc=0.79244, gpu_memory=2.90 GB, lr=0.00000, valid_loss=1.5098]\n",
      "Epocha train 155/300: 100%|██████████| 225/225 [00:41<00:00,  5.49it/s, acc=0.53929, gpu_memory=2.90 GB, lr=0.00000, valid_loss=0.6358]\n",
      "Epocha val 155/300: 100%|██████████| 98/98 [00:12<00:00,  7.68it/s, acc=0.80100, gpu_memory=2.90 GB, lr=0.00000, valid_loss=1.5001]\n",
      "Epocha train 156/300: 100%|██████████| 225/225 [00:35<00:00,  6.40it/s, acc=0.54260, gpu_memory=2.90 GB, lr=0.00000, valid_loss=0.6329]\n",
      "Epocha val 156/300: 100%|██████████| 98/98 [00:12<00:00,  7.79it/s, acc=0.80367, gpu_memory=2.90 GB, lr=0.00000, valid_loss=1.5048]\n",
      "Epocha train 157/300: 100%|██████████| 225/225 [00:39<00:00,  5.75it/s, acc=0.54311, gpu_memory=2.90 GB, lr=0.00000, valid_loss=0.6442]\n",
      "Epocha val 157/300: 100%|██████████| 98/98 [00:08<00:00, 11.26it/s, acc=0.79467, gpu_memory=2.90 GB, lr=0.00000, valid_loss=1.5147]\n",
      "Epocha train 158/300: 100%|██████████| 225/225 [00:41<00:00,  5.37it/s, acc=0.54209, gpu_memory=2.90 GB, lr=0.00000, valid_loss=0.6439]\n",
      "Epocha val 158/300: 100%|██████████| 98/98 [00:12<00:00,  7.91it/s, acc=0.79211, gpu_memory=2.90 GB, lr=0.00000, valid_loss=1.5077]\n",
      "Epocha train 159/300: 100%|██████████| 225/225 [00:35<00:00,  6.32it/s, acc=0.54082, gpu_memory=2.90 GB, lr=0.00000, valid_loss=0.6451]\n",
      "Epocha val 159/300: 100%|██████████| 98/98 [00:12<00:00,  7.54it/s, acc=0.79456, gpu_memory=2.90 GB, lr=0.00000, valid_loss=1.4953]\n",
      "Epocha train 160/300: 100%|██████████| 225/225 [00:38<00:00,  5.91it/s, acc=0.54158, gpu_memory=2.90 GB, lr=0.00000, valid_loss=0.6626]\n",
      "Epocha val 160/300: 100%|██████████| 98/98 [00:09<00:00,  9.96it/s, acc=0.79233, gpu_memory=2.90 GB, lr=0.00000, valid_loss=1.4899]\n",
      "Epocha train 161/300: 100%|██████████| 225/225 [00:42<00:00,  5.35it/s, acc=0.54107, gpu_memory=2.90 GB, lr=0.00000, valid_loss=0.6468]\n",
      "Epocha val 161/300: 100%|██████████| 98/98 [00:10<00:00,  9.19it/s, acc=0.79900, gpu_memory=2.90 GB, lr=0.00000, valid_loss=1.4893]\n",
      "Epocha train 162/300: 100%|██████████| 225/225 [00:37<00:00,  6.00it/s, acc=0.54515, gpu_memory=2.90 GB, lr=0.00000, valid_loss=0.6351]\n",
      "Epocha val 162/300: 100%|██████████| 98/98 [00:13<00:00,  7.41it/s, acc=0.79378, gpu_memory=2.90 GB, lr=0.00000, valid_loss=1.5128]\n",
      "Epocha train 163/300: 100%|██████████| 225/225 [00:34<00:00,  6.55it/s, acc=0.53750, gpu_memory=2.90 GB, lr=0.00000, valid_loss=0.6443]\n",
      "Epocha val 163/300: 100%|██████████| 98/98 [00:13<00:00,  7.38it/s, acc=0.79667, gpu_memory=2.90 GB, lr=0.00000, valid_loss=1.4931]\n",
      "Epocha train 164/300: 100%|██████████| 225/225 [00:41<00:00,  5.37it/s, acc=0.54209, gpu_memory=2.90 GB, lr=0.00000, valid_loss=0.6276]\n",
      "Epocha val 164/300: 100%|██████████| 98/98 [00:08<00:00, 11.59it/s, acc=0.80400, gpu_memory=2.90 GB, lr=0.00000, valid_loss=1.5056]\n",
      "Epocha train 165/300: 100%|██████████| 225/225 [00:38<00:00,  5.77it/s, acc=0.53571, gpu_memory=2.90 GB, lr=0.00000, valid_loss=0.6529]\n",
      "Epocha val 165/300: 100%|██████████| 98/98 [00:12<00:00,  7.59it/s, acc=0.79744, gpu_memory=2.90 GB, lr=0.00000, valid_loss=1.4894]\n",
      "Epocha train 166/300: 100%|██████████| 225/225 [00:34<00:00,  6.56it/s, acc=0.53827, gpu_memory=2.90 GB, lr=0.00000, valid_loss=0.6446]\n",
      "Epocha val 166/300: 100%|██████████| 98/98 [00:13<00:00,  7.34it/s, acc=0.79967, gpu_memory=2.90 GB, lr=0.00000, valid_loss=1.5178]\n",
      "Epocha train 167/300: 100%|██████████| 225/225 [00:39<00:00,  5.64it/s, acc=0.53776, gpu_memory=2.90 GB, lr=0.00000, valid_loss=0.6436]\n",
      "Epocha val 167/300: 100%|██████████| 98/98 [00:08<00:00, 11.50it/s, acc=0.79878, gpu_memory=2.90 GB, lr=0.00000, valid_loss=1.5160]\n",
      "Epocha train 168/300: 100%|██████████| 225/225 [00:41<00:00,  5.38it/s, acc=0.53801, gpu_memory=2.90 GB, lr=0.00000, valid_loss=0.6395]\n",
      "Epocha val 168/300: 100%|██████████| 98/98 [00:13<00:00,  7.38it/s, acc=0.80044, gpu_memory=2.90 GB, lr=0.00000, valid_loss=1.4930]\n",
      "Epocha train 169/300: 100%|██████████| 225/225 [00:34<00:00,  6.59it/s, acc=0.53367, gpu_memory=2.90 GB, lr=0.00000, valid_loss=0.6375]\n",
      "Epocha val 169/300: 100%|██████████| 98/98 [00:12<00:00,  7.59it/s, acc=0.79800, gpu_memory=2.90 GB, lr=0.00000, valid_loss=1.4957]\n",
      "Epocha train 170/300: 100%|██████████| 225/225 [00:38<00:00,  5.82it/s, acc=0.53903, gpu_memory=2.90 GB, lr=0.00000, valid_loss=0.6497]\n",
      "Epocha val 170/300: 100%|██████████| 98/98 [00:07<00:00, 12.53it/s, acc=0.79222, gpu_memory=2.90 GB, lr=0.00000, valid_loss=1.5085]\n",
      "Epocha train 171/300: 100%|██████████| 225/225 [00:41<00:00,  5.38it/s, acc=0.53878, gpu_memory=2.90 GB, lr=0.00000, valid_loss=0.6483]\n",
      "Epocha val 171/300: 100%|██████████| 98/98 [00:13<00:00,  7.52it/s, acc=0.79900, gpu_memory=2.90 GB, lr=0.00000, valid_loss=1.5061]\n",
      "Epocha train 172/300: 100%|██████████| 225/225 [00:35<00:00,  6.36it/s, acc=0.53648, gpu_memory=2.90 GB, lr=0.00000, valid_loss=0.6287]\n",
      "Epocha val 172/300: 100%|██████████| 98/98 [00:13<00:00,  7.48it/s, acc=0.80600, gpu_memory=2.90 GB, lr=0.00000, valid_loss=1.5231]\n",
      "Epocha train 173/300: 100%|██████████| 225/225 [00:37<00:00,  5.94it/s, acc=0.53724, gpu_memory=2.90 GB, lr=0.00000, valid_loss=0.6488]\n",
      "Epocha val 173/300: 100%|██████████| 98/98 [00:09<00:00, 10.09it/s, acc=0.79533, gpu_memory=2.90 GB, lr=0.00000, valid_loss=1.5210]\n",
      "Epocha train 174/300: 100%|██████████| 225/225 [00:41<00:00,  5.38it/s, acc=0.53954, gpu_memory=2.90 GB, lr=0.00000, valid_loss=0.6522]\n",
      "Epocha val 174/300: 100%|██████████| 98/98 [00:10<00:00,  9.37it/s, acc=0.80189, gpu_memory=2.90 GB, lr=0.00000, valid_loss=1.5293]\n",
      "Epocha train 175/300: 100%|██████████| 225/225 [00:36<00:00,  6.11it/s, acc=0.53929, gpu_memory=2.90 GB, lr=0.00000, valid_loss=0.6525]\n",
      "Epocha val 175/300: 100%|██████████| 98/98 [00:12<00:00,  7.64it/s, acc=0.79922, gpu_memory=2.90 GB, lr=0.00000, valid_loss=1.5225]\n",
      "Epocha train 176/300: 100%|██████████| 225/225 [00:36<00:00,  6.21it/s, acc=0.54056, gpu_memory=2.90 GB, lr=0.00000, valid_loss=0.6522]\n",
      "Epocha val 176/300: 100%|██████████| 98/98 [00:12<00:00,  7.65it/s, acc=0.79333, gpu_memory=2.90 GB, lr=0.00000, valid_loss=1.4892]\n",
      "Epocha train 177/300: 100%|██████████| 225/225 [00:41<00:00,  5.36it/s, acc=0.53954, gpu_memory=2.90 GB, lr=0.00000, valid_loss=0.6494]\n",
      "Epocha val 177/300: 100%|██████████| 98/98 [00:09<00:00, 10.64it/s, acc=0.79389, gpu_memory=2.90 GB, lr=0.00000, valid_loss=1.5049]\n",
      "Epocha train 178/300: 100%|██████████| 225/225 [00:38<00:00,  5.87it/s, acc=0.53776, gpu_memory=2.90 GB, lr=0.00000, valid_loss=0.6342]\n",
      "Epocha val 178/300: 100%|██████████| 98/98 [00:12<00:00,  7.88it/s, acc=0.80278, gpu_memory=2.90 GB, lr=0.00000, valid_loss=1.5100]\n",
      "Epocha train 179/300: 100%|██████████| 225/225 [00:34<00:00,  6.47it/s, acc=0.54005, gpu_memory=2.90 GB, lr=0.00000, valid_loss=0.6435]\n",
      "Epocha val 179/300: 100%|██████████| 98/98 [00:13<00:00,  7.52it/s, acc=0.79867, gpu_memory=2.90 GB, lr=0.00000, valid_loss=1.4988]\n",
      "Epocha train 180/300: 100%|██████████| 225/225 [00:39<00:00,  5.63it/s, acc=0.54107, gpu_memory=2.90 GB, lr=0.00000, valid_loss=0.6389]\n",
      "Epocha val 180/300: 100%|██████████| 98/98 [00:08<00:00, 11.61it/s, acc=0.79600, gpu_memory=2.90 GB, lr=0.00000, valid_loss=1.4864]\n"
     ]
    },
    {
     "name": "stdout",
     "output_type": "stream",
     "text": [
      "Best val Loss classification: 1.386103,Best val Acc classification:0.551020\n"
     ]
    },
    {
     "name": "stderr",
     "output_type": "stream",
     "text": [
      "Epocha train 181/300: 100%|██████████| 225/225 [00:41<00:00,  5.39it/s, acc=0.55536, gpu_memory=2.90 GB, lr=0.00000, valid_loss=0.6329]\n",
      "Epocha val 181/300: 100%|██████████| 98/98 [00:12<00:00,  7.70it/s, acc=0.79922, gpu_memory=2.90 GB, lr=0.00000, valid_loss=1.5047]\n",
      "Epocha train 182/300: 100%|██████████| 225/225 [00:35<00:00,  6.41it/s, acc=0.54005, gpu_memory=2.90 GB, lr=0.00000, valid_loss=0.6515]\n",
      "Epocha val 182/300: 100%|██████████| 98/98 [00:13<00:00,  7.52it/s, acc=0.79733, gpu_memory=2.90 GB, lr=0.00000, valid_loss=1.4896]\n",
      "Epocha train 183/300: 100%|██████████| 225/225 [00:38<00:00,  5.81it/s, acc=0.54464, gpu_memory=2.90 GB, lr=0.00000, valid_loss=0.6626]\n",
      "Epocha val 183/300: 100%|██████████| 98/98 [00:08<00:00, 11.33it/s, acc=0.79400, gpu_memory=2.90 GB, lr=0.00000, valid_loss=1.5027]\n",
      "Epocha train 184/300: 100%|██████████| 225/225 [00:41<00:00,  5.37it/s, acc=0.53980, gpu_memory=2.90 GB, lr=0.00000, valid_loss=0.6487]\n",
      "Epocha val 184/300: 100%|██████████| 98/98 [00:12<00:00,  7.62it/s, acc=0.79789, gpu_memory=2.90 GB, lr=0.00000, valid_loss=1.4909]\n",
      "Epocha train 185/300: 100%|██████████| 225/225 [00:37<00:00,  6.01it/s, acc=0.54082, gpu_memory=2.90 GB, lr=0.00000, valid_loss=0.6326]\n",
      "Epocha val 185/300: 100%|██████████| 98/98 [00:13<00:00,  7.48it/s, acc=0.79600, gpu_memory=2.90 GB, lr=0.00000, valid_loss=1.4933]\n",
      "Epocha train 186/300: 100%|██████████| 225/225 [00:36<00:00,  6.16it/s, acc=0.54082, gpu_memory=2.90 GB, lr=0.00000, valid_loss=0.6414]\n",
      "Epocha val 186/300: 100%|██████████| 98/98 [00:12<00:00,  7.72it/s, acc=0.79689, gpu_memory=2.90 GB, lr=0.00000, valid_loss=1.4924]\n",
      "Epocha train 187/300: 100%|██████████| 225/225 [00:41<00:00,  5.37it/s, acc=0.53801, gpu_memory=2.90 GB, lr=0.00000, valid_loss=0.6535]\n",
      "Epocha val 187/300: 100%|██████████| 98/98 [00:09<00:00, 10.75it/s, acc=0.79644, gpu_memory=2.90 GB, lr=0.00000, valid_loss=1.5053]\n",
      "Epocha train 188/300: 100%|██████████| 225/225 [00:38<00:00,  5.89it/s, acc=0.53980, gpu_memory=2.90 GB, lr=0.00000, valid_loss=0.6490]\n",
      "Epocha val 188/300: 100%|██████████| 98/98 [00:13<00:00,  7.50it/s, acc=0.79189, gpu_memory=2.90 GB, lr=0.00000, valid_loss=1.5166]\n",
      "Epocha train 189/300: 100%|██████████| 225/225 [00:34<00:00,  6.43it/s, acc=0.53342, gpu_memory=2.90 GB, lr=0.00000, valid_loss=0.6597]\n",
      "Epocha val 189/300: 100%|██████████| 98/98 [00:12<00:00,  7.59it/s, acc=0.79744, gpu_memory=2.90 GB, lr=0.00000, valid_loss=1.5080]\n",
      "Epocha train 190/300: 100%|██████████| 225/225 [00:41<00:00,  5.45it/s, acc=0.54005, gpu_memory=2.90 GB, lr=0.00000, valid_loss=0.6480]\n",
      "Epocha val 190/300: 100%|██████████| 98/98 [00:09<00:00, 10.87it/s, acc=0.79622, gpu_memory=2.90 GB, lr=0.00000, valid_loss=1.5025]\n",
      "Epocha train 191/300: 100%|██████████| 225/225 [00:41<00:00,  5.49it/s, acc=0.54082, gpu_memory=2.90 GB, lr=0.00000, valid_loss=0.6360]\n",
      "Epocha val 191/300: 100%|██████████| 98/98 [00:13<00:00,  7.45it/s, acc=0.80278, gpu_memory=2.90 GB, lr=0.00000, valid_loss=1.5083]\n",
      "Epocha train 192/300: 100%|██████████| 225/225 [00:34<00:00,  6.52it/s, acc=0.53112, gpu_memory=2.90 GB, lr=0.00000, valid_loss=0.6494]\n",
      "Epocha val 192/300: 100%|██████████| 98/98 [00:12<00:00,  7.57it/s, acc=0.79456, gpu_memory=2.90 GB, lr=0.00000, valid_loss=1.5001]\n",
      "Epocha train 193/300: 100%|██████████| 225/225 [00:39<00:00,  5.77it/s, acc=0.53827, gpu_memory=2.90 GB, lr=0.00000, valid_loss=0.6471]\n",
      "Epocha val 193/300: 100%|██████████| 98/98 [00:07<00:00, 12.62it/s, acc=0.79989, gpu_memory=2.90 GB, lr=0.00000, valid_loss=1.5154]\n",
      "Epocha train 194/300: 100%|██████████| 225/225 [00:41<00:00,  5.37it/s, acc=0.53444, gpu_memory=2.90 GB, lr=0.00000, valid_loss=0.6652]\n",
      "Epocha val 194/300: 100%|██████████| 98/98 [00:12<00:00,  7.57it/s, acc=0.79189, gpu_memory=2.90 GB, lr=0.00000, valid_loss=1.5116]\n",
      "Epocha train 195/300: 100%|██████████| 225/225 [00:36<00:00,  6.08it/s, acc=0.53878, gpu_memory=2.90 GB, lr=0.00000, valid_loss=0.6318]\n",
      "Epocha val 195/300: 100%|██████████| 98/98 [00:12<00:00,  7.55it/s, acc=0.79967, gpu_memory=2.90 GB, lr=0.00000, valid_loss=1.5129]\n",
      "Epocha train 196/300: 100%|██████████| 225/225 [00:37<00:00,  6.05it/s, acc=0.53776, gpu_memory=2.90 GB, lr=0.00000, valid_loss=0.6367]\n",
      "Epocha val 196/300: 100%|██████████| 98/98 [00:11<00:00,  8.45it/s, acc=0.80089, gpu_memory=2.90 GB, lr=0.00000, valid_loss=1.5039]\n",
      "Epocha train 197/300: 100%|██████████| 225/225 [00:41<00:00,  5.41it/s, acc=0.53878, gpu_memory=2.90 GB, lr=0.00000, valid_loss=0.6447]\n",
      "Epocha val 197/300: 100%|██████████| 98/98 [00:09<00:00, 10.33it/s, acc=0.79644, gpu_memory=2.90 GB, lr=0.00000, valid_loss=1.5000]\n",
      "Epocha train 198/300: 100%|██████████| 225/225 [00:37<00:00,  6.04it/s, acc=0.54872, gpu_memory=2.90 GB, lr=0.00000, valid_loss=0.6463]\n",
      "Epocha val 198/300: 100%|██████████| 98/98 [00:12<00:00,  7.58it/s, acc=0.79833, gpu_memory=2.90 GB, lr=0.00000, valid_loss=1.5132]\n",
      "Epocha train 199/300: 100%|██████████| 225/225 [00:34<00:00,  6.48it/s, acc=0.53878, gpu_memory=2.90 GB, lr=0.00000, valid_loss=0.6359]\n",
      "Epocha val 199/300: 100%|██████████| 98/98 [00:13<00:00,  7.53it/s, acc=0.80378, gpu_memory=2.90 GB, lr=0.00000, valid_loss=1.4986]\n",
      "Epocha train 200/300: 100%|██████████| 225/225 [00:41<00:00,  5.38it/s, acc=0.53673, gpu_memory=2.90 GB, lr=0.00000, valid_loss=0.6404]\n",
      "Epocha val 200/300: 100%|██████████| 98/98 [00:08<00:00, 10.93it/s, acc=0.79667, gpu_memory=2.90 GB, lr=0.00000, valid_loss=1.5008]\n",
      "Epocha train 201/300: 100%|██████████| 225/225 [00:38<00:00,  5.91it/s, acc=0.54464, gpu_memory=2.90 GB, lr=0.00000, valid_loss=0.6444]\n",
      "Epocha val 201/300: 100%|██████████| 98/98 [00:13<00:00,  7.37it/s, acc=0.80078, gpu_memory=2.90 GB, lr=0.00000, valid_loss=1.4910]\n",
      "Epocha train 202/300: 100%|██████████| 225/225 [00:34<00:00,  6.49it/s, acc=0.54337, gpu_memory=2.90 GB, lr=0.00000, valid_loss=0.6464]\n",
      "Epocha val 202/300: 100%|██████████| 98/98 [00:13<00:00,  7.25it/s, acc=0.79911, gpu_memory=2.90 GB, lr=0.00000, valid_loss=1.5157]\n",
      "Epocha train 203/300: 100%|██████████| 225/225 [00:40<00:00,  5.62it/s, acc=0.52883, gpu_memory=2.90 GB, lr=0.00000, valid_loss=0.6347]\n",
      "Epocha val 203/300: 100%|██████████| 98/98 [00:08<00:00, 11.16it/s, acc=0.79978, gpu_memory=2.90 GB, lr=0.00000, valid_loss=1.5235]\n",
      "Epocha train 204/300: 100%|██████████| 225/225 [00:41<00:00,  5.36it/s, acc=0.53852, gpu_memory=2.90 GB, lr=0.00000, valid_loss=0.6398]\n",
      "Epocha val 204/300: 100%|██████████| 98/98 [00:12<00:00,  7.59it/s, acc=0.79811, gpu_memory=2.90 GB, lr=0.00000, valid_loss=1.5044]\n",
      "Epocha train 205/300: 100%|██████████| 225/225 [00:35<00:00,  6.43it/s, acc=0.54490, gpu_memory=2.90 GB, lr=0.00000, valid_loss=0.6261]\n",
      "Epocha val 205/300: 100%|██████████| 98/98 [00:12<00:00,  7.70it/s, acc=0.80433, gpu_memory=2.90 GB, lr=0.00000, valid_loss=1.5026]\n",
      "Epocha train 206/300: 100%|██████████| 225/225 [00:38<00:00,  5.81it/s, acc=0.54056, gpu_memory=2.90 GB, lr=0.00000, valid_loss=0.6292]\n",
      "Epocha val 206/300: 100%|██████████| 98/98 [00:08<00:00, 11.28it/s, acc=0.80256, gpu_memory=2.90 GB, lr=0.00000, valid_loss=1.5113]\n",
      "Epocha train 207/300: 100%|██████████| 225/225 [00:41<00:00,  5.37it/s, acc=0.53393, gpu_memory=2.90 GB, lr=0.00000, valid_loss=0.6651]\n",
      "Epocha val 207/300: 100%|██████████| 98/98 [00:12<00:00,  7.87it/s, acc=0.78711, gpu_memory=2.90 GB, lr=0.00000, valid_loss=1.5086]\n",
      "Epocha train 208/300: 100%|██████████| 225/225 [00:36<00:00,  6.11it/s, acc=0.53342, gpu_memory=2.90 GB, lr=0.00000, valid_loss=0.6483]\n",
      "Epocha val 208/300: 100%|██████████| 98/98 [00:12<00:00,  7.54it/s, acc=0.79633, gpu_memory=2.90 GB, lr=0.00000, valid_loss=1.5159]\n",
      "Epocha train 209/300: 100%|██████████| 225/225 [00:37<00:00,  6.00it/s, acc=0.53903, gpu_memory=2.90 GB, lr=0.00000, valid_loss=0.6547]\n",
      "Epocha val 209/300: 100%|██████████| 98/98 [00:12<00:00,  7.61it/s, acc=0.79689, gpu_memory=2.90 GB, lr=0.00000, valid_loss=1.5224]\n",
      "Epocha train 210/300: 100%|██████████| 225/225 [00:41<00:00,  5.38it/s, acc=0.53597, gpu_memory=2.90 GB, lr=0.00000, valid_loss=0.6490]\n",
      "Epocha val 210/300: 100%|██████████| 98/98 [00:08<00:00, 10.90it/s, acc=0.79489, gpu_memory=2.90 GB, lr=0.00000, valid_loss=1.5297]\n",
      "Epocha train 211/300: 100%|██████████| 225/225 [00:38<00:00,  5.88it/s, acc=0.53622, gpu_memory=2.90 GB, lr=0.00000, valid_loss=0.6528]\n",
      "Epocha val 211/300: 100%|██████████| 98/98 [00:12<00:00,  7.70it/s, acc=0.79033, gpu_memory=2.90 GB, lr=0.00000, valid_loss=1.5045]\n",
      "Epocha train 212/300: 100%|██████████| 225/225 [00:35<00:00,  6.34it/s, acc=0.54082, gpu_memory=2.90 GB, lr=0.00000, valid_loss=0.6448]\n",
      "Epocha val 212/300: 100%|██████████| 98/98 [00:12<00:00,  7.59it/s, acc=0.79522, gpu_memory=2.90 GB, lr=0.00000, valid_loss=1.5117]\n",
      "Epocha train 213/300: 100%|██████████| 225/225 [00:41<00:00,  5.41it/s, acc=0.53393, gpu_memory=2.90 GB, lr=0.00000, valid_loss=0.6380]\n",
      "Epocha val 213/300: 100%|██████████| 98/98 [00:09<00:00, 10.57it/s, acc=0.80122, gpu_memory=2.90 GB, lr=0.00000, valid_loss=1.4937]\n",
      "Epocha train 214/300: 100%|██████████| 225/225 [00:41<00:00,  5.45it/s, acc=0.53801, gpu_memory=2.90 GB, lr=0.00000, valid_loss=0.6492]\n",
      "Epocha val 214/300: 100%|██████████| 98/98 [00:12<00:00,  7.63it/s, acc=0.79322, gpu_memory=2.90 GB, lr=0.00000, valid_loss=1.5049]\n",
      "Epocha train 215/300: 100%|██████████| 225/225 [00:35<00:00,  6.32it/s, acc=0.53801, gpu_memory=2.90 GB, lr=0.00000, valid_loss=0.6571]\n",
      "Epocha val 215/300: 100%|██████████| 98/98 [00:12<00:00,  7.65it/s, acc=0.79444, gpu_memory=2.90 GB, lr=0.00000, valid_loss=1.5162]\n",
      "Epocha train 216/300: 100%|██████████| 225/225 [00:38<00:00,  5.78it/s, acc=0.53929, gpu_memory=2.90 GB, lr=0.00000, valid_loss=0.6376]\n",
      "Epocha val 216/300: 100%|██████████| 98/98 [00:08<00:00, 11.19it/s, acc=0.79800, gpu_memory=2.90 GB, lr=0.00000, valid_loss=1.5167]\n",
      "Epocha train 217/300: 100%|██████████| 225/225 [00:41<00:00,  5.38it/s, acc=0.53980, gpu_memory=2.90 GB, lr=0.00000, valid_loss=0.6273]\n",
      "Epocha val 217/300: 100%|██████████| 98/98 [00:12<00:00,  7.73it/s, acc=0.79889, gpu_memory=2.90 GB, lr=0.00000, valid_loss=1.5090]\n",
      "Epocha train 218/300: 100%|██████████| 225/225 [00:36<00:00,  6.12it/s, acc=0.54464, gpu_memory=2.90 GB, lr=0.00000, valid_loss=0.6453]\n",
      "Epocha val 218/300: 100%|██████████| 98/98 [00:12<00:00,  7.61it/s, acc=0.79711, gpu_memory=2.90 GB, lr=0.00000, valid_loss=1.4934]\n",
      "Epocha train 219/300: 100%|██████████| 225/225 [00:37<00:00,  5.99it/s, acc=0.53827, gpu_memory=2.90 GB, lr=0.00000, valid_loss=0.6558]\n",
      "Epocha val 219/300: 100%|██████████| 98/98 [00:13<00:00,  7.35it/s, acc=0.79600, gpu_memory=2.90 GB, lr=0.00000, valid_loss=1.5112]\n",
      "Epocha train 220/300: 100%|██████████| 225/225 [00:42<00:00,  5.35it/s, acc=0.54031, gpu_memory=2.90 GB, lr=0.00000, valid_loss=0.6394]\n",
      "Epocha val 220/300: 100%|██████████| 98/98 [00:08<00:00, 11.10it/s, acc=0.80122, gpu_memory=2.90 GB, lr=0.00000, valid_loss=1.4922]\n",
      "Epocha train 221/300: 100%|██████████| 225/225 [00:38<00:00,  5.84it/s, acc=0.54184, gpu_memory=2.90 GB, lr=0.00000, valid_loss=0.6487]\n",
      "Epocha val 221/300: 100%|██████████| 98/98 [00:12<00:00,  7.55it/s, acc=0.79511, gpu_memory=2.90 GB, lr=0.00000, valid_loss=1.4987]\n",
      "Epocha train 222/300: 100%|██████████| 225/225 [00:35<00:00,  6.33it/s, acc=0.54286, gpu_memory=2.90 GB, lr=0.00000, valid_loss=0.6624]\n",
      "Epocha val 222/300: 100%|██████████| 98/98 [00:13<00:00,  7.32it/s, acc=0.79056, gpu_memory=2.90 GB, lr=0.00000, valid_loss=1.5251]\n",
      "Epocha train 223/300: 100%|██████████| 225/225 [00:39<00:00,  5.63it/s, acc=0.53495, gpu_memory=2.90 GB, lr=0.00000, valid_loss=0.6419]\n",
      "Epocha val 223/300: 100%|██████████| 98/98 [00:08<00:00, 11.27it/s, acc=0.80044, gpu_memory=2.90 GB, lr=0.00000, valid_loss=1.5208]\n",
      "Epocha train 224/300: 100%|██████████| 225/225 [00:41<00:00,  5.37it/s, acc=0.53469, gpu_memory=2.90 GB, lr=0.00000, valid_loss=0.6388]\n",
      "Epocha val 224/300: 100%|██████████| 98/98 [00:13<00:00,  7.32it/s, acc=0.80211, gpu_memory=2.90 GB, lr=0.00000, valid_loss=1.5018]\n",
      "Epocha train 225/300: 100%|██████████| 225/225 [00:35<00:00,  6.39it/s, acc=0.54515, gpu_memory=2.90 GB, lr=0.00000, valid_loss=0.6525]\n",
      "Epocha val 225/300: 100%|██████████| 98/98 [00:12<00:00,  7.68it/s, acc=0.79467, gpu_memory=2.90 GB, lr=0.00000, valid_loss=1.5178]\n",
      "Epocha train 226/300: 100%|██████████| 225/225 [00:38<00:00,  5.88it/s, acc=0.54133, gpu_memory=2.90 GB, lr=0.00000, valid_loss=0.6439]\n",
      "Epocha val 226/300: 100%|██████████| 98/98 [00:08<00:00, 11.81it/s, acc=0.79544, gpu_memory=2.90 GB, lr=0.00000, valid_loss=1.4954]\n",
      "Epocha train 227/300: 100%|██████████| 225/225 [00:42<00:00,  5.34it/s, acc=0.54337, gpu_memory=2.90 GB, lr=0.00000, valid_loss=0.6230]\n",
      "Epocha val 227/300: 100%|██████████| 98/98 [00:11<00:00,  8.38it/s, acc=0.80333, gpu_memory=2.90 GB, lr=0.00000, valid_loss=1.5037]\n",
      "Epocha train 228/300: 100%|██████████| 225/225 [00:36<00:00,  6.11it/s, acc=0.53316, gpu_memory=2.90 GB, lr=0.00000, valid_loss=0.6493]\n",
      "Epocha val 228/300: 100%|██████████| 98/98 [00:12<00:00,  7.67it/s, acc=0.79633, gpu_memory=2.90 GB, lr=0.00000, valid_loss=1.5107]\n",
      "Epocha train 229/300: 100%|██████████| 225/225 [00:37<00:00,  6.01it/s, acc=0.53265, gpu_memory=2.90 GB, lr=0.00000, valid_loss=0.6208]\n",
      "Epocha val 229/300: 100%|██████████| 98/98 [00:12<00:00,  7.67it/s, acc=0.80444, gpu_memory=2.90 GB, lr=0.00000, valid_loss=1.4860]\n",
      "Epocha train 230/300: 100%|██████████| 225/225 [00:41<00:00,  5.38it/s, acc=0.54413, gpu_memory=2.90 GB, lr=0.00000, valid_loss=0.6252]\n",
      "Epocha val 230/300: 100%|██████████| 98/98 [00:09<00:00, 10.42it/s, acc=0.80489, gpu_memory=2.90 GB, lr=0.00000, valid_loss=1.5146]\n",
      "Epocha train 231/300: 100%|██████████| 225/225 [00:38<00:00,  5.86it/s, acc=0.53852, gpu_memory=2.90 GB, lr=0.00000, valid_loss=0.6494]\n",
      "Epocha val 231/300: 100%|██████████| 98/98 [00:13<00:00,  7.45it/s, acc=0.79300, gpu_memory=2.90 GB, lr=0.00000, valid_loss=1.5270]\n",
      "Epocha train 232/300: 100%|██████████| 225/225 [00:35<00:00,  6.29it/s, acc=0.54082, gpu_memory=2.90 GB, lr=0.00000, valid_loss=0.6501]\n",
      "Epocha val 232/300: 100%|██████████| 98/98 [00:12<00:00,  7.61it/s, acc=0.80011, gpu_memory=2.90 GB, lr=0.00000, valid_loss=1.5002]\n",
      "Epocha train 233/300: 100%|██████████| 225/225 [00:40<00:00,  5.62it/s, acc=0.53673, gpu_memory=2.90 GB, lr=0.00000, valid_loss=0.6308]\n",
      "Epocha val 233/300: 100%|██████████| 98/98 [00:08<00:00, 11.40it/s, acc=0.80189, gpu_memory=2.90 GB, lr=0.00000, valid_loss=1.5016]\n",
      "Epocha train 234/300: 100%|██████████| 225/225 [00:41<00:00,  5.38it/s, acc=0.54439, gpu_memory=2.90 GB, lr=0.00000, valid_loss=0.6301]\n",
      "Epocha val 234/300: 100%|██████████| 98/98 [00:12<00:00,  7.67it/s, acc=0.80211, gpu_memory=2.90 GB, lr=0.00000, valid_loss=1.5020]\n",
      "Epocha train 235/300: 100%|██████████| 225/225 [00:35<00:00,  6.39it/s, acc=0.53622, gpu_memory=2.90 GB, lr=0.00000, valid_loss=0.6450]\n",
      "Epocha val 235/300: 100%|██████████| 98/98 [00:13<00:00,  7.45it/s, acc=0.79933, gpu_memory=2.90 GB, lr=0.00000, valid_loss=1.5206]\n",
      "Epocha train 236/300: 100%|██████████| 225/225 [00:38<00:00,  5.89it/s, acc=0.53495, gpu_memory=2.90 GB, lr=0.00000, valid_loss=0.6321]\n",
      "Epocha val 236/300: 100%|██████████| 98/98 [00:10<00:00,  9.76it/s, acc=0.80056, gpu_memory=2.90 GB, lr=0.00000, valid_loss=1.5066]\n",
      "Epocha train 237/300: 100%|██████████| 225/225 [00:41<00:00,  5.38it/s, acc=0.53954, gpu_memory=2.90 GB, lr=0.00000, valid_loss=0.6396]\n",
      "Epocha val 237/300: 100%|██████████| 98/98 [00:10<00:00,  9.18it/s, acc=0.79533, gpu_memory=2.90 GB, lr=0.00000, valid_loss=1.5121]\n",
      "Epocha train 238/300: 100%|██████████| 225/225 [00:36<00:00,  6.10it/s, acc=0.53699, gpu_memory=2.90 GB, lr=0.00000, valid_loss=0.6365]\n",
      "Epocha val 238/300: 100%|██████████| 98/98 [00:13<00:00,  7.35it/s, acc=0.80244, gpu_memory=2.90 GB, lr=0.00000, valid_loss=1.5194]\n",
      "Epocha train 239/300: 100%|██████████| 225/225 [00:35<00:00,  6.26it/s, acc=0.54235, gpu_memory=2.90 GB, lr=0.00000, valid_loss=0.6446]\n",
      "Epocha val 239/300: 100%|██████████| 98/98 [00:12<00:00,  7.76it/s, acc=0.79533, gpu_memory=2.90 GB, lr=0.00000, valid_loss=1.5085]\n",
      "Epocha train 240/300: 100%|██████████| 225/225 [00:41<00:00,  5.40it/s, acc=0.54107, gpu_memory=2.90 GB, lr=0.00000, valid_loss=0.6285]\n",
      "Epocha val 240/300: 100%|██████████| 98/98 [00:09<00:00, 10.88it/s, acc=0.80211, gpu_memory=2.90 GB, lr=0.00000, valid_loss=1.5114]\n",
      "Epocha train 241/300: 100%|██████████| 225/225 [00:39<00:00,  5.66it/s, acc=0.53189, gpu_memory=2.90 GB, lr=0.00000, valid_loss=0.6349]\n",
      "Epocha val 241/300: 100%|██████████| 98/98 [00:12<00:00,  7.56it/s, acc=0.79856, gpu_memory=2.90 GB, lr=0.00000, valid_loss=1.5105]\n",
      "Epocha train 242/300: 100%|██████████| 225/225 [00:35<00:00,  6.32it/s, acc=0.54311, gpu_memory=2.90 GB, lr=0.00000, valid_loss=0.6510]\n",
      "Epocha val 242/300: 100%|██████████| 98/98 [00:13<00:00,  7.47it/s, acc=0.79767, gpu_memory=2.90 GB, lr=0.00000, valid_loss=1.5178]\n",
      "Epocha train 243/300: 100%|██████████| 225/225 [00:39<00:00,  5.68it/s, acc=0.53163, gpu_memory=2.90 GB, lr=0.00000, valid_loss=0.6363]\n",
      "Epocha val 243/300: 100%|██████████| 98/98 [00:08<00:00, 12.14it/s, acc=0.79522, gpu_memory=2.90 GB, lr=0.00000, valid_loss=1.4923]\n",
      "Epocha train 244/300: 100%|██████████| 225/225 [00:41<00:00,  5.37it/s, acc=0.54362, gpu_memory=2.90 GB, lr=0.00000, valid_loss=0.6430]\n",
      "Epocha val 244/300: 100%|██████████| 98/98 [00:12<00:00,  7.55it/s, acc=0.80078, gpu_memory=2.90 GB, lr=0.00000, valid_loss=1.4989]\n",
      "Epocha train 245/300: 100%|██████████| 225/225 [00:35<00:00,  6.28it/s, acc=0.53929, gpu_memory=2.90 GB, lr=0.00000, valid_loss=0.6397]\n",
      "Epocha val 245/300: 100%|██████████| 98/98 [00:12<00:00,  7.61it/s, acc=0.79822, gpu_memory=2.90 GB, lr=0.00000, valid_loss=1.5188]\n",
      "Epocha train 246/300: 100%|██████████| 225/225 [00:37<00:00,  5.93it/s, acc=0.53878, gpu_memory=2.90 GB, lr=0.00000, valid_loss=0.6406]\n",
      "Epocha val 246/300: 100%|██████████| 98/98 [00:10<00:00,  9.25it/s, acc=0.79867, gpu_memory=2.90 GB, lr=0.00000, valid_loss=1.4778]\n",
      "Epocha train 247/300: 100%|██████████| 225/225 [00:41<00:00,  5.36it/s, acc=0.54821, gpu_memory=2.90 GB, lr=0.00000, valid_loss=0.6514]\n",
      "Epocha val 247/300: 100%|██████████| 98/98 [00:10<00:00,  9.79it/s, acc=0.79733, gpu_memory=2.90 GB, lr=0.00000, valid_loss=1.5102]\n",
      "Epocha train 248/300: 100%|██████████| 225/225 [00:38<00:00,  5.88it/s, acc=0.53444, gpu_memory=2.90 GB, lr=0.00000, valid_loss=0.6276]\n",
      "Epocha val 248/300: 100%|██████████| 98/98 [00:13<00:00,  7.39it/s, acc=0.80078, gpu_memory=2.90 GB, lr=0.00000, valid_loss=1.5043]\n",
      "Epocha train 249/300: 100%|██████████| 225/225 [00:35<00:00,  6.31it/s, acc=0.54031, gpu_memory=2.90 GB, lr=0.00000, valid_loss=0.6343]\n",
      "Epocha val 249/300: 100%|██████████| 98/98 [00:13<00:00,  7.46it/s, acc=0.80389, gpu_memory=2.90 GB, lr=0.00000, valid_loss=1.5059]\n",
      "Epocha train 250/300: 100%|██████████| 225/225 [00:42<00:00,  5.33it/s, acc=0.53163, gpu_memory=2.90 GB, lr=0.00000, valid_loss=0.6410]\n",
      "Epocha val 250/300: 100%|██████████| 98/98 [00:09<00:00, 10.24it/s, acc=0.80244, gpu_memory=2.90 GB, lr=0.00000, valid_loss=1.5211]\n",
      "Epocha train 251/300: 100%|██████████| 225/225 [00:41<00:00,  5.41it/s, acc=0.54133, gpu_memory=2.90 GB, lr=0.00000, valid_loss=0.6371]\n",
      "Epocha val 251/300: 100%|██████████| 98/98 [00:12<00:00,  7.74it/s, acc=0.79811, gpu_memory=2.90 GB, lr=0.00000, valid_loss=1.5044]\n",
      "Epocha train 252/300: 100%|██████████| 225/225 [00:35<00:00,  6.29it/s, acc=0.54388, gpu_memory=2.90 GB, lr=0.00000, valid_loss=0.6431]\n",
      "Epocha val 252/300: 100%|██████████| 98/98 [00:13<00:00,  7.50it/s, acc=0.80056, gpu_memory=2.90 GB, lr=0.00000, valid_loss=1.5093]\n",
      "Epocha train 253/300: 100%|██████████| 225/225 [00:38<00:00,  5.81it/s, acc=0.53699, gpu_memory=2.90 GB, lr=0.00000, valid_loss=0.6382]\n",
      "Epocha val 253/300: 100%|██████████| 98/98 [00:10<00:00,  9.55it/s, acc=0.80022, gpu_memory=2.90 GB, lr=0.00000, valid_loss=1.5116]\n",
      "Epocha train 254/300: 100%|██████████| 225/225 [00:41<00:00,  5.37it/s, acc=0.53673, gpu_memory=2.90 GB, lr=0.00000, valid_loss=0.6568]\n",
      "Epocha val 254/300: 100%|██████████| 98/98 [00:10<00:00,  9.05it/s, acc=0.79256, gpu_memory=2.90 GB, lr=0.00000, valid_loss=1.5092]\n",
      "Epocha train 255/300: 100%|██████████| 225/225 [00:37<00:00,  5.95it/s, acc=0.54005, gpu_memory=2.90 GB, lr=0.00000, valid_loss=0.6497]\n",
      "Epocha val 255/300: 100%|██████████| 98/98 [00:12<00:00,  7.75it/s, acc=0.79722, gpu_memory=2.90 GB, lr=0.00000, valid_loss=1.5125]\n",
      "Epocha train 256/300: 100%|██████████| 225/225 [00:35<00:00,  6.27it/s, acc=0.53980, gpu_memory=2.90 GB, lr=0.00000, valid_loss=0.6509]\n",
      "Epocha val 256/300: 100%|██████████| 98/98 [00:12<00:00,  7.65it/s, acc=0.79833, gpu_memory=2.90 GB, lr=0.00000, valid_loss=1.5040]\n",
      "Epocha train 257/300: 100%|██████████| 225/225 [00:41<00:00,  5.36it/s, acc=0.54235, gpu_memory=2.90 GB, lr=0.00000, valid_loss=0.6378]\n",
      "Epocha val 257/300: 100%|██████████| 98/98 [00:08<00:00, 12.02it/s, acc=0.80178, gpu_memory=2.90 GB, lr=0.00000, valid_loss=1.5121]\n",
      "Epocha train 258/300: 100%|██████████| 225/225 [00:39<00:00,  5.72it/s, acc=0.53495, gpu_memory=2.90 GB, lr=0.00000, valid_loss=0.6141]\n",
      "Epocha val 258/300: 100%|██████████| 98/98 [00:12<00:00,  7.88it/s, acc=0.80767, gpu_memory=2.90 GB, lr=0.00000, valid_loss=1.4968]\n",
      "Epocha train 259/300: 100%|██████████| 225/225 [00:35<00:00,  6.28it/s, acc=0.54770, gpu_memory=2.90 GB, lr=0.00000, valid_loss=0.6383]\n",
      "Epocha val 259/300: 100%|██████████| 98/98 [00:12<00:00,  7.73it/s, acc=0.79733, gpu_memory=2.90 GB, lr=0.00000, valid_loss=1.5091]\n",
      "Epocha train 260/300: 100%|██████████| 225/225 [00:39<00:00,  5.63it/s, acc=0.54107, gpu_memory=2.90 GB, lr=0.00000, valid_loss=0.6262]\n",
      "Epocha val 260/300: 100%|██████████| 98/98 [00:08<00:00, 11.71it/s, acc=0.80567, gpu_memory=2.90 GB, lr=0.00000, valid_loss=1.5128]\n",
      "Epocha train 261/300: 100%|██████████| 225/225 [00:42<00:00,  5.33it/s, acc=0.53929, gpu_memory=2.90 GB, lr=0.00000, valid_loss=0.6651]\n",
      "Epocha val 261/300: 100%|██████████| 98/98 [00:13<00:00,  7.45it/s, acc=0.79189, gpu_memory=2.90 GB, lr=0.00000, valid_loss=1.5032]\n",
      "Epocha train 262/300: 100%|██████████| 225/225 [00:35<00:00,  6.28it/s, acc=0.54184, gpu_memory=2.90 GB, lr=0.00000, valid_loss=0.6433]\n",
      "Epocha val 262/300: 100%|██████████| 98/98 [00:12<00:00,  7.68it/s, acc=0.79989, gpu_memory=2.90 GB, lr=0.00000, valid_loss=1.5258]\n",
      "Epocha train 263/300: 100%|██████████| 225/225 [00:38<00:00,  5.87it/s, acc=0.53673, gpu_memory=2.90 GB, lr=0.00000, valid_loss=0.6268]\n",
      "Epocha val 263/300: 100%|██████████| 98/98 [00:10<00:00,  9.51it/s, acc=0.80589, gpu_memory=2.90 GB, lr=0.00000, valid_loss=1.5140]\n",
      "Epocha train 264/300: 100%|██████████| 225/225 [00:41<00:00,  5.36it/s, acc=0.53903, gpu_memory=2.90 GB, lr=0.00000, valid_loss=0.6535]\n",
      "Epocha val 264/300: 100%|██████████| 98/98 [00:10<00:00,  9.45it/s, acc=0.79489, gpu_memory=2.90 GB, lr=0.00000, valid_loss=1.5063]\n",
      "Epocha train 265/300: 100%|██████████| 225/225 [00:37<00:00,  5.99it/s, acc=0.53495, gpu_memory=2.90 GB, lr=0.00000, valid_loss=0.6346]\n",
      "Epocha val 265/300: 100%|██████████| 98/98 [00:12<00:00,  7.70it/s, acc=0.80044, gpu_memory=2.90 GB, lr=0.00000, valid_loss=1.5183]\n",
      "Epocha train 266/300: 100%|██████████| 225/225 [00:34<00:00,  6.46it/s, acc=0.53265, gpu_memory=2.90 GB, lr=0.00000, valid_loss=0.6436]\n",
      "Epocha val 266/300: 100%|██████████| 98/98 [00:12<00:00,  8.03it/s, acc=0.79756, gpu_memory=2.90 GB, lr=0.00000, valid_loss=1.5134]\n",
      "Epocha train 267/300: 100%|██████████| 225/225 [00:41<00:00,  5.46it/s, acc=0.55077, gpu_memory=2.90 GB, lr=0.00000, valid_loss=0.6228]\n",
      "Epocha val 267/300: 100%|██████████| 98/98 [00:08<00:00, 11.68it/s, acc=0.80622, gpu_memory=2.90 GB, lr=0.00000, valid_loss=1.5194]\n",
      "Epocha train 268/300: 100%|██████████| 225/225 [00:37<00:00,  5.96it/s, acc=0.53673, gpu_memory=2.90 GB, lr=0.00000, valid_loss=0.6585]\n",
      "Epocha val 268/300: 100%|██████████| 98/98 [00:12<00:00,  7.82it/s, acc=0.79567, gpu_memory=2.90 GB, lr=0.00000, valid_loss=1.5461]\n",
      "Epocha train 269/300: 100%|██████████| 225/225 [00:34<00:00,  6.49it/s, acc=0.53750, gpu_memory=2.90 GB, lr=0.00000, valid_loss=0.6210]\n",
      "Epocha val 269/300: 100%|██████████| 98/98 [00:12<00:00,  7.71it/s, acc=0.80333, gpu_memory=2.90 GB, lr=0.00000, valid_loss=1.5132]\n",
      "Epocha train 270/300: 100%|██████████| 225/225 [00:39<00:00,  5.63it/s, acc=0.54158, gpu_memory=2.90 GB, lr=0.00000, valid_loss=0.6480]\n",
      "Epocha val 270/300: 100%|██████████| 98/98 [00:08<00:00, 11.33it/s, acc=0.79922, gpu_memory=2.90 GB, lr=0.00000, valid_loss=1.4984]\n",
      "Epocha train 271/300: 100%|██████████| 225/225 [00:41<00:00,  5.46it/s, acc=0.54235, gpu_memory=2.90 GB, lr=0.00000, valid_loss=0.6515]\n",
      "Epocha val 271/300: 100%|██████████| 98/98 [00:12<00:00,  7.71it/s, acc=0.79344, gpu_memory=2.90 GB, lr=0.00000, valid_loss=1.5106]\n",
      "Epocha train 272/300: 100%|██████████| 225/225 [00:33<00:00,  6.72it/s, acc=0.53827, gpu_memory=2.90 GB, lr=0.00000, valid_loss=0.6427]\n",
      "Epocha val 272/300: 100%|██████████| 98/98 [00:12<00:00,  7.85it/s, acc=0.80011, gpu_memory=2.90 GB, lr=0.00000, valid_loss=1.5133]\n",
      "Epocha train 273/300: 100%|██████████| 225/225 [00:38<00:00,  5.89it/s, acc=0.54413, gpu_memory=2.90 GB, lr=0.00000, valid_loss=0.6267]\n",
      "Epocha val 273/300: 100%|██████████| 98/98 [00:07<00:00, 13.21it/s, acc=0.80511, gpu_memory=2.90 GB, lr=0.00000, valid_loss=1.5137]\n",
      "Epocha train 274/300: 100%|██████████| 225/225 [00:41<00:00,  5.47it/s, acc=0.53801, gpu_memory=2.90 GB, lr=0.00000, valid_loss=0.6394]\n",
      "Epocha val 274/300: 100%|██████████| 98/98 [00:12<00:00,  7.64it/s, acc=0.80267, gpu_memory=2.90 GB, lr=0.00000, valid_loss=1.4987]\n",
      "Epocha train 275/300: 100%|██████████| 225/225 [00:34<00:00,  6.45it/s, acc=0.54362, gpu_memory=2.90 GB, lr=0.00000, valid_loss=0.6362]\n",
      "Epocha val 275/300: 100%|██████████| 98/98 [00:12<00:00,  7.76it/s, acc=0.80211, gpu_memory=2.90 GB, lr=0.00000, valid_loss=1.5057]\n",
      "Epocha train 276/300: 100%|██████████| 225/225 [00:37<00:00,  6.05it/s, acc=0.53954, gpu_memory=2.90 GB, lr=0.00000, valid_loss=0.6553]\n",
      "Epocha val 276/300: 100%|██████████| 98/98 [00:10<00:00,  9.51it/s, acc=0.79244, gpu_memory=2.90 GB, lr=0.00000, valid_loss=1.5006]\n",
      "Epocha train 277/300: 100%|██████████| 225/225 [00:41<00:00,  5.46it/s, acc=0.54617, gpu_memory=2.90 GB, lr=0.00000, valid_loss=0.6373]\n",
      "Epocha val 277/300: 100%|██████████| 98/98 [00:09<00:00, 10.05it/s, acc=0.80344, gpu_memory=2.90 GB, lr=0.00000, valid_loss=1.5108]\n",
      "Epocha train 278/300: 100%|██████████| 225/225 [00:37<00:00,  6.04it/s, acc=0.53750, gpu_memory=2.90 GB, lr=0.00000, valid_loss=0.6369]\n",
      "Epocha val 278/300: 100%|██████████| 98/98 [00:12<00:00,  8.04it/s, acc=0.80133, gpu_memory=2.90 GB, lr=0.00000, valid_loss=1.5162]\n",
      "Epocha train 279/300: 100%|██████████| 225/225 [00:34<00:00,  6.50it/s, acc=0.53571, gpu_memory=2.90 GB, lr=0.00000, valid_loss=0.6430]\n",
      "Epocha val 279/300: 100%|██████████| 98/98 [00:12<00:00,  7.84it/s, acc=0.80100, gpu_memory=2.90 GB, lr=0.00000, valid_loss=1.5343]\n",
      "Epocha train 280/300: 100%|██████████| 225/225 [00:41<00:00,  5.42it/s, acc=0.53316, gpu_memory=2.90 GB, lr=0.00000, valid_loss=0.6495]\n",
      "Epocha val 280/300: 100%|██████████| 98/98 [00:07<00:00, 12.41it/s, acc=0.79489, gpu_memory=2.90 GB, lr=0.00000, valid_loss=1.5061]\n",
      "Epocha train 281/300: 100%|██████████| 225/225 [00:38<00:00,  5.90it/s, acc=0.54515, gpu_memory=2.90 GB, lr=0.00000, valid_loss=0.6533]\n",
      "Epocha val 281/300: 100%|██████████| 98/98 [00:11<00:00,  8.27it/s, acc=0.79544, gpu_memory=2.90 GB, lr=0.00000, valid_loss=1.4990]\n",
      "Epocha train 282/300: 100%|██████████| 225/225 [00:34<00:00,  6.44it/s, acc=0.54362, gpu_memory=2.90 GB, lr=0.00000, valid_loss=0.6333]\n",
      "Epocha val 282/300: 100%|██████████| 98/98 [00:12<00:00,  7.68it/s, acc=0.80678, gpu_memory=2.90 GB, lr=0.00000, valid_loss=1.5159]\n",
      "Epocha train 283/300: 100%|██████████| 225/225 [00:39<00:00,  5.63it/s, acc=0.54617, gpu_memory=2.90 GB, lr=0.00000, valid_loss=0.6166]\n",
      "Epocha val 283/300: 100%|██████████| 98/98 [00:08<00:00, 11.39it/s, acc=0.80833, gpu_memory=2.90 GB, lr=0.00000, valid_loss=1.5070]\n",
      "Epocha train 284/300: 100%|██████████| 225/225 [00:41<00:00,  5.44it/s, acc=0.54082, gpu_memory=2.90 GB, lr=0.00000, valid_loss=0.6486]\n",
      "Epocha val 284/300: 100%|██████████| 98/98 [00:12<00:00,  8.09it/s, acc=0.79678, gpu_memory=2.90 GB, lr=0.00000, valid_loss=1.5013]\n",
      "Epocha train 285/300: 100%|██████████| 225/225 [00:34<00:00,  6.43it/s, acc=0.53980, gpu_memory=2.90 GB, lr=0.00000, valid_loss=0.6400]\n",
      "Epocha val 285/300: 100%|██████████| 98/98 [00:12<00:00,  7.83it/s, acc=0.79711, gpu_memory=2.90 GB, lr=0.00000, valid_loss=1.4967]\n",
      "Epocha train 286/300: 100%|██████████| 225/225 [00:38<00:00,  5.92it/s, acc=0.53801, gpu_memory=2.90 GB, lr=0.00000, valid_loss=0.6311]\n",
      "Epocha val 286/300: 100%|██████████| 98/98 [00:08<00:00, 10.93it/s, acc=0.80556, gpu_memory=2.90 GB, lr=0.00000, valid_loss=1.5094]\n",
      "Epocha train 287/300: 100%|██████████| 225/225 [00:41<00:00,  5.46it/s, acc=0.53342, gpu_memory=2.90 GB, lr=0.00000, valid_loss=0.6444]\n",
      "Epocha val 287/300: 100%|██████████| 98/98 [00:11<00:00,  8.49it/s, acc=0.79944, gpu_memory=2.90 GB, lr=0.00000, valid_loss=1.5128]\n",
      "Epocha train 288/300: 100%|██████████| 225/225 [00:37<00:00,  6.07it/s, acc=0.53801, gpu_memory=2.90 GB, lr=0.00000, valid_loss=0.6286]\n",
      "Epocha val 288/300: 100%|██████████| 98/98 [00:12<00:00,  7.73it/s, acc=0.80333, gpu_memory=2.90 GB, lr=0.00000, valid_loss=1.5083]\n",
      "Epocha train 289/300: 100%|██████████| 225/225 [00:35<00:00,  6.34it/s, acc=0.53903, gpu_memory=2.90 GB, lr=0.00000, valid_loss=0.6338]\n",
      "Epocha val 289/300: 100%|██████████| 98/98 [00:12<00:00,  7.64it/s, acc=0.79644, gpu_memory=2.90 GB, lr=0.00000, valid_loss=1.4922]\n",
      "Epocha train 290/300: 100%|██████████| 225/225 [00:41<00:00,  5.46it/s, acc=0.54184, gpu_memory=2.90 GB, lr=0.00000, valid_loss=0.6484]\n",
      "Epocha val 290/300: 100%|██████████| 98/98 [00:08<00:00, 11.83it/s, acc=0.80167, gpu_memory=2.90 GB, lr=0.00000, valid_loss=1.5083]\n",
      "Epocha train 291/300: 100%|██████████| 225/225 [00:38<00:00,  5.92it/s, acc=0.53418, gpu_memory=2.90 GB, lr=0.00000, valid_loss=0.6316]\n",
      "Epocha val 291/300: 100%|██████████| 98/98 [00:12<00:00,  7.87it/s, acc=0.80222, gpu_memory=2.90 GB, lr=0.00000, valid_loss=1.5036]\n",
      "Epocha train 292/300: 100%|██████████| 225/225 [00:35<00:00,  6.42it/s, acc=0.53980, gpu_memory=2.90 GB, lr=0.00000, valid_loss=0.6446]\n",
      "Epocha val 292/300: 100%|██████████| 98/98 [00:13<00:00,  7.53it/s, acc=0.79700, gpu_memory=2.90 GB, lr=0.00000, valid_loss=1.5104]\n",
      "Epocha train 293/300: 100%|██████████| 225/225 [00:39<00:00,  5.66it/s, acc=0.54209, gpu_memory=2.90 GB, lr=0.00000, valid_loss=0.6270]\n",
      "Epocha val 293/300: 100%|██████████| 98/98 [00:08<00:00, 11.62it/s, acc=0.80556, gpu_memory=2.90 GB, lr=0.00000, valid_loss=1.4912]\n",
      "Epocha train 294/300: 100%|██████████| 225/225 [00:41<00:00,  5.45it/s, acc=0.54490, gpu_memory=2.90 GB, lr=0.00000, valid_loss=0.6278]\n",
      "Epocha val 294/300: 100%|██████████| 98/98 [00:12<00:00,  7.89it/s, acc=0.79978, gpu_memory=2.90 GB, lr=0.00000, valid_loss=1.5073]\n",
      "Epocha train 295/300: 100%|██████████| 225/225 [00:34<00:00,  6.49it/s, acc=0.54158, gpu_memory=2.90 GB, lr=0.00000, valid_loss=0.6413]\n",
      "Epocha val 295/300: 100%|██████████| 98/98 [00:12<00:00,  7.96it/s, acc=0.79700, gpu_memory=2.90 GB, lr=0.00000, valid_loss=1.5034]\n",
      "Epocha train 296/300: 100%|██████████| 225/225 [00:38<00:00,  5.86it/s, acc=0.54107, gpu_memory=2.90 GB, lr=0.00000, valid_loss=0.6464]\n",
      "Epocha val 296/300: 100%|██████████| 98/98 [00:08<00:00, 11.38it/s, acc=0.79556, gpu_memory=2.90 GB, lr=0.00000, valid_loss=1.5013]\n",
      "Epocha train 297/300: 100%|██████████| 225/225 [00:41<00:00,  5.44it/s, acc=0.54847, gpu_memory=2.90 GB, lr=0.00000, valid_loss=0.6411]\n",
      "Epocha val 297/300: 100%|██████████| 98/98 [00:12<00:00,  8.15it/s, acc=0.80100, gpu_memory=2.90 GB, lr=0.00000, valid_loss=1.4869]\n",
      "Epocha train 298/300: 100%|██████████| 225/225 [00:36<00:00,  6.10it/s, acc=0.53724, gpu_memory=2.90 GB, lr=0.00000, valid_loss=0.6311]\n",
      "Epocha val 298/300: 100%|██████████| 98/98 [00:12<00:00,  7.88it/s, acc=0.80700, gpu_memory=2.90 GB, lr=0.00000, valid_loss=1.4956]\n",
      "Epocha train 299/300: 100%|██████████| 225/225 [00:36<00:00,  6.20it/s, acc=0.54107, gpu_memory=2.90 GB, lr=0.00000, valid_loss=0.6550]\n",
      "Epocha val 299/300: 100%|██████████| 98/98 [00:12<00:00,  7.84it/s, acc=0.79267, gpu_memory=2.90 GB, lr=0.00000, valid_loss=1.5126]\n",
      "Epocha train 300/300: 100%|██████████| 225/225 [00:41<00:00,  5.45it/s, acc=0.54005, gpu_memory=2.90 GB, lr=0.00000, valid_loss=0.6430]\n",
      "Epocha val 300/300: 100%|██████████| 98/98 [00:08<00:00, 11.45it/s, acc=0.79956, gpu_memory=2.90 GB, lr=0.00000, valid_loss=1.5087]\n"
     ]
    },
    {
     "name": "stdout",
     "output_type": "stream",
     "text": [
      "Training complete in 259m 59s\n",
      "Best val Loss classification: 1.3861 epoch 53  \n",
      "Best val Loss accuracy: 0.5554 epoch 180\n"
     ]
    },
    {
     "data": {
      "image/png": "[encoded data removed]",
      "text/plain": [
       "<Figure size 432x288 with 1 Axes>"
      ]
     },
     "metadata": {
      "needs_background": "light"
     },
     "output_type": "display_data"
    },
    {
     "data": {
      "image/png": "[encoded data removed]",
      "text/plain": [
       "<Figure size 432x288 with 1 Axes>"
      ]
     },
     "metadata": {
      "needs_background": "light"
     },
     "output_type": "display_data"
    }
   ],
   "source": [
    "model_loss, model_acc, overfit_model = train.train(train_dirr=\"/workspace/proj/paradigma/db/imagewoof2\",                                           # Путь до папки с train or directori\n",
    "                                             val_dirr=\"/workspace/proj/paradigma/db/imagewoof2\",                                             # Путь до папки с описанием val\n",
    "                                             model_name =\"mobilenetv2_100\",                             # Название модели timm or пользовательские из кода\n",
    "                                             Dataset_name =\"imagewoof\",                            # Название Dataset (при сохранении)\n",
    "                                             metod_aug_name=\"baseline\",                # Название metoda (при сохранении)\n",
    "                                             task_name=\"clasification\",                          # Название задачи  (при сохранении)\n",
    "                                             train_annotation=\"/workspace/proj/paradigma/db/imagewoof2/noisy_imagewoof.csv\",                                # Путь до файла с описанием train\n",
    "                                             val_annotation=\"/workspace/proj/paradigma/db/imagewoof2/noisy_imagewoof.csv\",                                  # Путь до файла с описанием val\n",
    "                                             N_class = 10,                                          # Количество классов в задаче\n",
    "                                             num_epochs=300,                                        # Количество эпох обучения\n",
    "                                             batch_size = 40,                                       \n",
    "                                             snp_path = '/workspace/proj/paradigma/snp/',     # Путь к папке, в которую сохранять готовые модели\n",
    "                                             pretrained = False,                                   # True - загрузить предобученную модель\n",
    "                                             SIZE = 224,                                           # Размер входа (SIZE*SIZE)\n",
    "                                             lr=0.001,                                           # Коэффициент скорости обучения (Learning rate)\n",
    "                                             step_size=50,                                         # за сколько эпох уменьшить lr\n",
    "                                             gamma=0.1,                                            # Во сколько раз уменьшить lr\n",
    "                                             momentum=0.999)#,                                        # коэфицент сохранения момента\n",
    "#                                              rootAA=\"/workspace/proj/autoalbument/examples/imageWoof/mobilenet2/outputs/2022-08-01/21-18-28/policy/latest.json\")\n",
    "\n"
   ]
  },
  {
   "cell_type": "code",
   "execution_count": null,
   "metadata": {
    "scrolled": true,
    "tags": []
   },
   "outputs": [],
   "source": [
    "model_loss, model_acc, overfit_model = train('../retinopatia/train_images', \n",
    "                                             'train_train.csv',\n",
    "                                             '../retinopatia/train_images', \n",
    "                                             'train_val.csv',\n",
    "                                             Dataset.MyDataset,\n",
    "                                             zagr = 0,\n",
    "                                             SIZE = 224,  \n",
    "                                             magistral = \"mobilenetv2_100\",\n",
    "                                             num_epochs=100,\n",
    "                                             batch_size = 100,\n",
    "                                             N_class = 5,    \n",
    "                                             Name = \"retinopatia/mobilenet_retinopatia_5\")"
   ]
  },
  {
   "cell_type": "code",
   "execution_count": null,
   "metadata": {
    "scrolled": true,
    "tags": []
   },
   "outputs": [],
   "source": [
    "model_loss, model_acc, overfit_model = train('../retinopatia/train_images', \n",
    "                                             'train_train.csv',\n",
    "                                             '../retinopatia/train_images', \n",
    "                                             'train_val.csv',\n",
    "                                             Dataset.retinopatia_2,\n",
    "                                             zagr = 0,\n",
    "                                             SIZE = 224,  \n",
    "                                             magistral = \"mobilenetv2_100\",\n",
    "                                             path = \"../snp/retinopatia/2_class_acc_86-0.9714.tar\",\n",
    "                                             num_epochs=100,\n",
    "                                             batch_size = 100,\n",
    "                                             N_class = 2,    \n",
    "                                             Name = \"retinopatia/mobilenet2_100\")"
   ]
  },
  {
   "cell_type": "code",
   "execution_count": null,
   "metadata": {},
   "outputs": [],
   "source": []
  }
 ],
 "metadata": {
  "kernelspec": {
   "display_name": "Python 3",
   "language": "python",
   "name": "python3"
  },
  "language_info": {
   "codemirror_mode": {
    "name": "ipython",
    "version": 3
   },
   "file_extension": ".py",
   "mimetype": "text/x-python",
   "name": "python",
   "nbconvert_exporter": "python",
   "pygments_lexer": "ipython3",
   "version": "3.6.9"
  }
 },
 "nbformat": 4,
 "nbformat_minor": 4
}
