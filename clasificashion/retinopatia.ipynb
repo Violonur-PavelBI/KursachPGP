{
 "cells": [
  {
   "cell_type": "code",
   "execution_count": 1,
   "metadata": {},
   "outputs": [],
   "source": [
    "import os\n",
    "# from train import train\n",
    "# import Dataset\n",
    "os.environ[\"CUDA_VISIBLE_DEVICES\"] = \"6\"\n",
    "import train"
   ]
  },
  {
   "cell_type": "code",
   "execution_count": 2,
   "metadata": {
    "scrolled": true
   },
   "outputs": [
    {
     "name": "stdout",
     "output_type": "stream",
     "text": [
      "/workspace/proj/paradigma/snp/imagewoof/resnet50/baseline/04_08_2022/10_12_43/\n"
     ]
    },
    {
     "name": "stderr",
     "output_type": "stream",
     "text": [
      "Epocha train 1/300: 100%|██████████| 180/180 [00:39<00:00,  4.51it/s, acc=0.00000, gpu_memory=5.38 GB, lr=0.00100, valid_loss=2.2017]\n",
      "Epocha val 1/300: 100%|██████████| 78/78 [00:12<00:00,  6.47it/s, acc=0.18756, gpu_memory=5.38 GB, lr=0.00100, valid_loss=2.1829]\n"
     ]
    },
    {
     "name": "stdout",
     "output_type": "stream",
     "text": [
      "Best val Loss classification: 2.182886,Best val Acc classification:0.000000\n"
     ]
    },
    {
     "name": "stderr",
     "output_type": "stream",
     "text": [
      "Epocha train 2/300: 100%|██████████| 180/180 [01:00<00:00,  2.99it/s, acc=0.19154, gpu_memory=5.40 GB, lr=0.00100, valid_loss=2.1452]\n",
      "Epocha val 2/300: 100%|██████████| 78/78 [00:12<00:00,  6.05it/s, acc=0.22822, gpu_memory=5.40 GB, lr=0.00100, valid_loss=2.1229]\n"
     ]
    },
    {
     "name": "stdout",
     "output_type": "stream",
     "text": [
      "Best val Loss classification: 2.122909,Best val Acc classification:0.191538\n"
     ]
    },
    {
     "name": "stderr",
     "output_type": "stream",
     "text": [
      "Epocha train 3/300: 100%|██████████| 180/180 [01:00<00:00,  3.00it/s, acc=0.24205, gpu_memory=5.42 GB, lr=0.00100, valid_loss=2.1191]\n",
      "Epocha val 3/300: 100%|██████████| 78/78 [00:09<00:00,  8.54it/s, acc=0.24344, gpu_memory=5.42 GB, lr=0.00100, valid_loss=2.1764]\n",
      "Epocha train 4/300: 100%|██████████| 180/180 [01:00<00:00,  3.00it/s, acc=0.22897, gpu_memory=5.42 GB, lr=0.00100, valid_loss=2.0612]\n",
      "Epocha val 4/300: 100%|██████████| 78/78 [00:12<00:00,  6.18it/s, acc=0.26122, gpu_memory=5.42 GB, lr=0.00100, valid_loss=2.0270]\n"
     ]
    },
    {
     "name": "stdout",
     "output_type": "stream",
     "text": [
      "Best val Loss classification: 2.026956,Best val Acc classification:0.242051\n"
     ]
    },
    {
     "name": "stderr",
     "output_type": "stream",
     "text": [
      "Epocha train 5/300: 100%|██████████| 180/180 [01:00<00:00,  2.98it/s, acc=0.26103, gpu_memory=5.42 GB, lr=0.00100, valid_loss=1.9865]\n",
      "Epocha val 5/300: 100%|██████████| 78/78 [00:10<00:00,  7.34it/s, acc=0.28733, gpu_memory=5.42 GB, lr=0.00100, valid_loss=2.0158]\n"
     ]
    },
    {
     "name": "stdout",
     "output_type": "stream",
     "text": [
      "Best val Loss classification: 2.015769,Best val Acc classification:0.261026\n"
     ]
    },
    {
     "name": "stderr",
     "output_type": "stream",
     "text": [
      "Epocha train 6/300: 100%|██████████| 180/180 [00:59<00:00,  3.00it/s, acc=0.28846, gpu_memory=5.42 GB, lr=0.00100, valid_loss=1.9317]\n",
      "Epocha val 6/300: 100%|██████████| 78/78 [00:12<00:00,  6.21it/s, acc=0.30478, gpu_memory=5.42 GB, lr=0.00100, valid_loss=1.8791]\n"
     ]
    },
    {
     "name": "stdout",
     "output_type": "stream",
     "text": [
      "Best val Loss classification: 1.879101,Best val Acc classification:0.288462\n"
     ]
    },
    {
     "name": "stderr",
     "output_type": "stream",
     "text": [
      "Epocha train 7/300: 100%|██████████| 180/180 [01:00<00:00,  2.97it/s, acc=0.32256, gpu_memory=5.42 GB, lr=0.00100, valid_loss=1.8841]\n",
      "Epocha val 7/300: 100%|██████████| 78/78 [00:12<00:00,  6.12it/s, acc=0.32167, gpu_memory=5.42 GB, lr=0.00100, valid_loss=1.8409]\n"
     ]
    },
    {
     "name": "stdout",
     "output_type": "stream",
     "text": [
      "Best val Loss classification: 1.840878,Best val Acc classification:0.322564\n"
     ]
    },
    {
     "name": "stderr",
     "output_type": "stream",
     "text": [
      "Epocha train 8/300: 100%|██████████| 180/180 [00:59<00:00,  3.00it/s, acc=0.34436, gpu_memory=5.42 GB, lr=0.00100, valid_loss=1.8140]\n",
      "Epocha val 8/300: 100%|██████████| 78/78 [00:10<00:00,  7.71it/s, acc=0.36333, gpu_memory=5.42 GB, lr=0.00100, valid_loss=1.7811]\n"
     ]
    },
    {
     "name": "stdout",
     "output_type": "stream",
     "text": [
      "Best val Loss classification: 1.781071,Best val Acc classification:0.344359\n"
     ]
    },
    {
     "name": "stderr",
     "output_type": "stream",
     "text": [
      "Epocha train 9/300: 100%|██████████| 180/180 [00:59<00:00,  3.03it/s, acc=0.37231, gpu_memory=5.42 GB, lr=0.00100, valid_loss=1.7307]\n",
      "Epocha val 9/300: 100%|██████████| 78/78 [00:12<00:00,  6.11it/s, acc=0.38844, gpu_memory=5.42 GB, lr=0.00100, valid_loss=1.7296]\n"
     ]
    },
    {
     "name": "stdout",
     "output_type": "stream",
     "text": [
      "Best val Loss classification: 1.729613,Best val Acc classification:0.372308\n"
     ]
    },
    {
     "name": "stderr",
     "output_type": "stream",
     "text": [
      "Epocha train 10/300: 100%|██████████| 180/180 [01:01<00:00,  2.95it/s, acc=0.38949, gpu_memory=5.42 GB, lr=0.00100, valid_loss=1.6719]\n",
      "Epocha val 10/300: 100%|██████████| 78/78 [00:09<00:00,  8.08it/s, acc=0.41133, gpu_memory=5.42 GB, lr=0.00100, valid_loss=1.6719]\n"
     ]
    },
    {
     "name": "stdout",
     "output_type": "stream",
     "text": [
      "Best val Loss classification: 1.671889,Best val Acc classification:0.389487\n"
     ]
    },
    {
     "name": "stderr",
     "output_type": "stream",
     "text": [
      "Epocha train 11/300: 100%|██████████| 180/180 [00:59<00:00,  3.02it/s, acc=0.40949, gpu_memory=5.42 GB, lr=0.00100, valid_loss=1.6161]\n",
      "Epocha val 11/300: 100%|██████████| 78/78 [00:11<00:00,  6.55it/s, acc=0.42278, gpu_memory=5.42 GB, lr=0.00100, valid_loss=1.6248]\n"
     ]
    },
    {
     "name": "stdout",
     "output_type": "stream",
     "text": [
      "Best val Loss classification: 1.624785,Best val Acc classification:0.409487\n"
     ]
    },
    {
     "name": "stderr",
     "output_type": "stream",
     "text": [
      "Epocha train 12/300: 100%|██████████| 180/180 [01:00<00:00,  2.96it/s, acc=0.43436, gpu_memory=5.42 GB, lr=0.00100, valid_loss=1.5826]\n",
      "Epocha val 12/300: 100%|██████████| 78/78 [00:12<00:00,  6.14it/s, acc=0.44856, gpu_memory=5.42 GB, lr=0.00100, valid_loss=1.5694]\n"
     ]
    },
    {
     "name": "stdout",
     "output_type": "stream",
     "text": [
      "Best val Loss classification: 1.569428,Best val Acc classification:0.434359\n"
     ]
    },
    {
     "name": "stderr",
     "output_type": "stream",
     "text": [
      "Epocha train 13/300: 100%|██████████| 180/180 [00:59<00:00,  3.01it/s, acc=0.44385, gpu_memory=5.42 GB, lr=0.00100, valid_loss=1.5235]\n",
      "Epocha val 13/300: 100%|██████████| 78/78 [00:09<00:00,  7.86it/s, acc=0.46933, gpu_memory=5.42 GB, lr=0.00100, valid_loss=1.5235]\n"
     ]
    },
    {
     "name": "stdout",
     "output_type": "stream",
     "text": [
      "Best val Loss classification: 1.523550,Best val Acc classification:0.443846\n"
     ]
    },
    {
     "name": "stderr",
     "output_type": "stream",
     "text": [
      "Epocha train 14/300: 100%|██████████| 180/180 [01:00<00:00,  2.97it/s, acc=0.46949, gpu_memory=5.42 GB, lr=0.00100, valid_loss=1.4699]\n",
      "Epocha val 14/300: 100%|██████████| 78/78 [00:12<00:00,  6.13it/s, acc=0.48489, gpu_memory=5.42 GB, lr=0.00100, valid_loss=1.4893]\n"
     ]
    },
    {
     "name": "stdout",
     "output_type": "stream",
     "text": [
      "Best val Loss classification: 1.489294,Best val Acc classification:0.469487\n"
     ]
    },
    {
     "name": "stderr",
     "output_type": "stream",
     "text": [
      "Epocha train 15/300: 100%|██████████| 180/180 [01:00<00:00,  2.98it/s, acc=0.48641, gpu_memory=5.42 GB, lr=0.00100, valid_loss=1.4233]\n",
      "Epocha val 15/300: 100%|██████████| 78/78 [00:08<00:00,  8.80it/s, acc=0.49711, gpu_memory=5.42 GB, lr=0.00100, valid_loss=1.4562]\n"
     ]
    },
    {
     "name": "stdout",
     "output_type": "stream",
     "text": [
      "Best val Loss classification: 1.456243,Best val Acc classification:0.486410\n"
     ]
    },
    {
     "name": "stderr",
     "output_type": "stream",
     "text": [
      "Epocha train 16/300: 100%|██████████| 180/180 [01:00<00:00,  3.00it/s, acc=0.49538, gpu_memory=5.42 GB, lr=0.00100, valid_loss=1.3866]\n",
      "Epocha val 16/300: 100%|██████████| 78/78 [00:12<00:00,  6.12it/s, acc=0.51589, gpu_memory=5.42 GB, lr=0.00100, valid_loss=1.3799]\n"
     ]
    },
    {
     "name": "stdout",
     "output_type": "stream",
     "text": [
      "Best val Loss classification: 1.379862,Best val Acc classification:0.495385\n"
     ]
    },
    {
     "name": "stderr",
     "output_type": "stream",
     "text": [
      "Epocha train 17/300: 100%|██████████| 180/180 [01:00<00:00,  2.99it/s, acc=0.52179, gpu_memory=5.42 GB, lr=0.00100, valid_loss=1.3215]\n",
      "Epocha val 17/300: 100%|██████████| 78/78 [00:11<00:00,  6.75it/s, acc=0.53544, gpu_memory=5.42 GB, lr=0.00100, valid_loss=1.3511]\n"
     ]
    },
    {
     "name": "stdout",
     "output_type": "stream",
     "text": [
      "Best val Loss classification: 1.351143,Best val Acc classification:0.521795\n"
     ]
    },
    {
     "name": "stderr",
     "output_type": "stream",
     "text": [
      "Epocha train 18/300: 100%|██████████| 180/180 [00:59<00:00,  3.02it/s, acc=0.53051, gpu_memory=5.42 GB, lr=0.00100, valid_loss=1.2859]\n",
      "Epocha val 18/300: 100%|██████████| 78/78 [00:11<00:00,  7.07it/s, acc=0.55256, gpu_memory=5.42 GB, lr=0.00100, valid_loss=1.3158]\n"
     ]
    },
    {
     "name": "stdout",
     "output_type": "stream",
     "text": [
      "Best val Loss classification: 1.315772,Best val Acc classification:0.530513\n"
     ]
    },
    {
     "name": "stderr",
     "output_type": "stream",
     "text": [
      "Epocha train 19/300: 100%|██████████| 180/180 [01:00<00:00,  2.99it/s, acc=0.53692, gpu_memory=5.42 GB, lr=0.00100, valid_loss=1.2566]\n",
      "Epocha val 19/300: 100%|██████████| 78/78 [00:12<00:00,  6.18it/s, acc=0.55889, gpu_memory=5.42 GB, lr=0.00100, valid_loss=1.2992]\n"
     ]
    },
    {
     "name": "stdout",
     "output_type": "stream",
     "text": [
      "Best val Loss classification: 1.299154,Best val Acc classification:0.536923\n"
     ]
    },
    {
     "name": "stderr",
     "output_type": "stream",
     "text": [
      "Epocha train 20/300: 100%|██████████| 180/180 [00:59<00:00,  3.01it/s, acc=0.54667, gpu_memory=5.42 GB, lr=0.00100, valid_loss=1.2226]\n",
      "Epocha val 20/300: 100%|██████████| 78/78 [00:09<00:00,  8.61it/s, acc=0.57078, gpu_memory=5.42 GB, lr=0.00100, valid_loss=1.3025]\n"
     ]
    },
    {
     "name": "stdout",
     "output_type": "stream",
     "text": [
      "Best val Loss classification: 1.299154,Best val Acc classification:0.546667\n"
     ]
    },
    {
     "name": "stderr",
     "output_type": "stream",
     "text": [
      "Epocha train 21/300: 100%|██████████| 180/180 [01:00<00:00,  2.98it/s, acc=0.55462, gpu_memory=5.42 GB, lr=0.00100, valid_loss=1.1674]\n",
      "Epocha val 21/300: 100%|██████████| 78/78 [00:12<00:00,  6.20it/s, acc=0.59856, gpu_memory=5.42 GB, lr=0.00100, valid_loss=1.2605]\n"
     ]
    },
    {
     "name": "stdout",
     "output_type": "stream",
     "text": [
      "Best val Loss classification: 1.260511,Best val Acc classification:0.554615\n"
     ]
    },
    {
     "name": "stderr",
     "output_type": "stream",
     "text": [
      "Epocha train 22/300: 100%|██████████| 180/180 [00:59<00:00,  3.00it/s, acc=0.57769, gpu_memory=5.42 GB, lr=0.00100, valid_loss=1.1416]\n",
      "Epocha val 22/300: 100%|██████████| 78/78 [00:11<00:00,  6.93it/s, acc=0.60067, gpu_memory=5.42 GB, lr=0.00100, valid_loss=1.2449]\n",
      "Epocha train 23/300: 100%|██████████| 180/180 [00:59<00:00,  3.03it/s, acc=0.57692, gpu_memory=5.42 GB, lr=0.00100, valid_loss=1.1102]\n",
      "Epocha val 23/300: 100%|██████████| 78/78 [00:11<00:00,  6.81it/s, acc=0.61000, gpu_memory=5.42 GB, lr=0.00100, valid_loss=1.1985]\n"
     ]
    },
    {
     "name": "stdout",
     "output_type": "stream",
     "text": [
      "Best val Loss classification: 1.198538,Best val Acc classification:0.577692\n"
     ]
    },
    {
     "name": "stderr",
     "output_type": "stream",
     "text": [
      "Epocha train 24/300: 100%|██████████| 180/180 [01:00<00:00,  2.98it/s, acc=0.58641, gpu_memory=5.42 GB, lr=0.00100, valid_loss=1.1015]\n",
      "Epocha val 24/300: 100%|██████████| 78/78 [00:12<00:00,  6.15it/s, acc=0.61444, gpu_memory=5.42 GB, lr=0.00100, valid_loss=1.2415]\n",
      "Epocha train 25/300: 100%|██████████| 180/180 [00:59<00:00,  3.02it/s, acc=0.57256, gpu_memory=5.42 GB, lr=0.00100, valid_loss=1.0657]\n",
      "Epocha val 25/300: 100%|██████████| 78/78 [00:08<00:00,  9.02it/s, acc=0.63578, gpu_memory=5.42 GB, lr=0.00100, valid_loss=1.1588]\n"
     ]
    },
    {
     "name": "stdout",
     "output_type": "stream",
     "text": [
      "Best val Loss classification: 1.158774,Best val Acc classification:0.586410\n"
     ]
    },
    {
     "name": "stderr",
     "output_type": "stream",
     "text": [
      "Epocha train 26/300: 100%|██████████| 180/180 [01:00<00:00,  2.98it/s, acc=0.60692, gpu_memory=5.42 GB, lr=0.00100, valid_loss=1.0490]\n",
      "Epocha val 26/300: 100%|██████████| 78/78 [00:12<00:00,  6.21it/s, acc=0.63633, gpu_memory=5.42 GB, lr=0.00100, valid_loss=1.1909]\n",
      "Epocha train 27/300: 100%|██████████| 180/180 [01:00<00:00,  2.99it/s, acc=0.59154, gpu_memory=5.42 GB, lr=0.00100, valid_loss=1.0146]\n",
      "Epocha val 27/300: 100%|██████████| 78/78 [00:10<00:00,  7.50it/s, acc=0.64844, gpu_memory=5.42 GB, lr=0.00100, valid_loss=1.1172]\n"
     ]
    },
    {
     "name": "stdout",
     "output_type": "stream",
     "text": [
      "Best val Loss classification: 1.117165,Best val Acc classification:0.606923\n"
     ]
    },
    {
     "name": "stderr",
     "output_type": "stream",
     "text": [
      "Epocha train 28/300: 100%|██████████| 180/180 [00:59<00:00,  3.02it/s, acc=0.61410, gpu_memory=5.42 GB, lr=0.00100, valid_loss=0.9713]\n",
      "Epocha val 28/300: 100%|██████████| 78/78 [00:12<00:00,  6.45it/s, acc=0.66467, gpu_memory=5.42 GB, lr=0.00100, valid_loss=1.1168]\n"
     ]
    },
    {
     "name": "stdout",
     "output_type": "stream",
     "text": [
      "Best val Loss classification: 1.116833,Best val Acc classification:0.614103\n"
     ]
    },
    {
     "name": "stderr",
     "output_type": "stream",
     "text": [
      "Epocha train 29/300: 100%|██████████| 180/180 [01:00<00:00,  2.98it/s, acc=0.61821, gpu_memory=5.42 GB, lr=0.00100, valid_loss=0.9491]\n",
      "Epocha val 29/300: 100%|██████████| 78/78 [00:12<00:00,  6.11it/s, acc=0.66667, gpu_memory=5.42 GB, lr=0.00100, valid_loss=1.0825]\n"
     ]
    },
    {
     "name": "stdout",
     "output_type": "stream",
     "text": [
      "Best val Loss classification: 1.082516,Best val Acc classification:0.618205\n"
     ]
    },
    {
     "name": "stderr",
     "output_type": "stream",
     "text": [
      "Epocha train 30/300: 100%|██████████| 180/180 [00:59<00:00,  3.02it/s, acc=0.62590, gpu_memory=5.42 GB, lr=0.00100, valid_loss=0.9088]\n",
      "Epocha val 30/300: 100%|██████████| 78/78 [00:09<00:00,  8.17it/s, acc=0.68322, gpu_memory=5.42 GB, lr=0.00100, valid_loss=1.0883]\n"
     ]
    },
    {
     "name": "stdout",
     "output_type": "stream",
     "text": [
      "Best val Loss classification: 1.082516,Best val Acc classification:0.625897\n"
     ]
    },
    {
     "name": "stderr",
     "output_type": "stream",
     "text": [
      "Epocha train 31/300: 100%|██████████| 180/180 [01:00<00:00,  2.98it/s, acc=0.64103, gpu_memory=5.42 GB, lr=0.00100, valid_loss=0.8822]\n",
      "Epocha val 31/300: 100%|██████████| 78/78 [00:12<00:00,  6.17it/s, acc=0.69567, gpu_memory=5.42 GB, lr=0.00100, valid_loss=1.0234]\n"
     ]
    },
    {
     "name": "stdout",
     "output_type": "stream",
     "text": [
      "Best val Loss classification: 1.023396,Best val Acc classification:0.641026\n"
     ]
    },
    {
     "name": "stderr",
     "output_type": "stream",
     "text": [
      "Epocha train 32/300: 100%|██████████| 180/180 [01:01<00:00,  2.95it/s, acc=0.64897, gpu_memory=5.42 GB, lr=0.00100, valid_loss=0.8333]\n",
      "Epocha val 32/300: 100%|██████████| 78/78 [00:08<00:00,  8.86it/s, acc=0.71667, gpu_memory=5.42 GB, lr=0.00100, valid_loss=1.0025]\n"
     ]
    },
    {
     "name": "stdout",
     "output_type": "stream",
     "text": [
      "Best val Loss classification: 1.002532,Best val Acc classification:0.648974\n"
     ]
    },
    {
     "name": "stderr",
     "output_type": "stream",
     "text": [
      "Epocha train 33/300: 100%|██████████| 180/180 [01:00<00:00,  2.97it/s, acc=0.65846, gpu_memory=5.42 GB, lr=0.00100, valid_loss=0.7868]\n",
      "Epocha val 33/300: 100%|██████████| 78/78 [00:12<00:00,  6.10it/s, acc=0.73144, gpu_memory=5.42 GB, lr=0.00100, valid_loss=0.9971]\n"
     ]
    },
    {
     "name": "stdout",
     "output_type": "stream",
     "text": [
      "Best val Loss classification: 0.997081,Best val Acc classification:0.658462\n"
     ]
    },
    {
     "name": "stderr",
     "output_type": "stream",
     "text": [
      "Epocha train 34/300: 100%|██████████| 180/180 [01:00<00:00,  2.96it/s, acc=0.66231, gpu_memory=5.42 GB, lr=0.00100, valid_loss=0.7494]\n",
      "Epocha val 34/300: 100%|██████████| 78/78 [00:10<00:00,  7.14it/s, acc=0.74167, gpu_memory=5.42 GB, lr=0.00100, valid_loss=1.0214]\n"
     ]
    },
    {
     "name": "stdout",
     "output_type": "stream",
     "text": [
      "Best val Loss classification: 0.997081,Best val Acc classification:0.662308\n"
     ]
    },
    {
     "name": "stderr",
     "output_type": "stream",
     "text": [
      "Epocha train 35/300: 100%|██████████| 180/180 [00:59<00:00,  3.01it/s, acc=0.66487, gpu_memory=5.42 GB, lr=0.00100, valid_loss=0.7764]\n",
      "Epocha val 35/300: 100%|██████████| 78/78 [00:11<00:00,  6.58it/s, acc=0.73900, gpu_memory=5.42 GB, lr=0.00100, valid_loss=0.9940]\n"
     ]
    },
    {
     "name": "stdout",
     "output_type": "stream",
     "text": [
      "Best val Loss classification: 0.994033,Best val Acc classification:0.664872\n"
     ]
    },
    {
     "name": "stderr",
     "output_type": "stream",
     "text": [
      "Epocha train 36/300: 100%|██████████| 180/180 [01:01<00:00,  2.95it/s, acc=0.66667, gpu_memory=5.42 GB, lr=0.00100, valid_loss=0.7154]\n",
      "Epocha val 36/300: 100%|██████████| 78/78 [00:12<00:00,  6.21it/s, acc=0.74911, gpu_memory=5.42 GB, lr=0.00100, valid_loss=1.0024]\n"
     ]
    },
    {
     "name": "stdout",
     "output_type": "stream",
     "text": [
      "Best val Loss classification: 0.994033,Best val Acc classification:0.666667\n"
     ]
    },
    {
     "name": "stderr",
     "output_type": "stream",
     "text": [
      "Epocha train 37/300: 100%|██████████| 180/180 [00:59<00:00,  3.02it/s, acc=0.66692, gpu_memory=5.42 GB, lr=0.00100, valid_loss=0.6977]\n",
      "Epocha val 37/300: 100%|██████████| 78/78 [00:09<00:00,  7.82it/s, acc=0.75956, gpu_memory=5.42 GB, lr=0.00100, valid_loss=0.9644]\n"
     ]
    },
    {
     "name": "stdout",
     "output_type": "stream",
     "text": [
      "Best val Loss classification: 0.964410,Best val Acc classification:0.666923\n"
     ]
    },
    {
     "name": "stderr",
     "output_type": "stream",
     "text": [
      "Epocha train 38/300: 100%|██████████| 180/180 [01:00<00:00,  2.95it/s, acc=0.68103, gpu_memory=5.42 GB, lr=0.00100, valid_loss=0.6902]\n",
      "Epocha val 38/300: 100%|██████████| 78/78 [00:12<00:00,  6.18it/s, acc=0.76789, gpu_memory=5.42 GB, lr=0.00100, valid_loss=0.9669]\n",
      "Epocha train 39/300: 100%|██████████| 180/180 [01:00<00:00,  2.99it/s, acc=0.67974, gpu_memory=5.42 GB, lr=0.00100, valid_loss=0.6422]\n",
      "Epocha val 39/300: 100%|██████████| 78/78 [00:08<00:00,  8.69it/s, acc=0.77944, gpu_memory=5.42 GB, lr=0.00100, valid_loss=0.9534]\n"
     ]
    },
    {
     "name": "stdout",
     "output_type": "stream",
     "text": [
      "Best val Loss classification: 0.953375,Best val Acc classification:0.681026\n"
     ]
    },
    {
     "name": "stderr",
     "output_type": "stream",
     "text": [
      "Epocha train 40/300: 100%|██████████| 180/180 [00:59<00:00,  3.02it/s, acc=0.69051, gpu_memory=5.42 GB, lr=0.00100, valid_loss=0.6246]\n",
      "Epocha val 40/300: 100%|██████████| 78/78 [00:12<00:00,  6.14it/s, acc=0.78222, gpu_memory=5.42 GB, lr=0.00100, valid_loss=0.9582]\n"
     ]
    },
    {
     "name": "stdout",
     "output_type": "stream",
     "text": [
      "Best val Loss classification: 0.953375,Best val Acc classification:0.690513\n"
     ]
    },
    {
     "name": "stderr",
     "output_type": "stream",
     "text": [
      "Epocha train 41/300: 100%|██████████| 180/180 [01:00<00:00,  2.98it/s, acc=0.70385, gpu_memory=5.42 GB, lr=0.00100, valid_loss=0.6068]\n",
      "Epocha val 41/300: 100%|██████████| 78/78 [00:11<00:00,  6.62it/s, acc=0.79256, gpu_memory=5.42 GB, lr=0.00100, valid_loss=0.9358]\n",
      "Epocha train 42/300: 100%|██████████| 180/180 [00:59<00:00,  3.02it/s, acc=0.70333, gpu_memory=5.42 GB, lr=0.00100, valid_loss=0.5961]\n",
      "Epocha val 42/300: 100%|██████████| 78/78 [00:10<00:00,  7.48it/s, acc=0.79678, gpu_memory=5.42 GB, lr=0.00100, valid_loss=0.9492]\n",
      "Epocha train 43/300: 100%|██████████| 180/180 [01:00<00:00,  2.99it/s, acc=0.69385, gpu_memory=5.42 GB, lr=0.00100, valid_loss=0.5638]\n",
      "Epocha val 43/300: 100%|██████████| 78/78 [00:12<00:00,  6.23it/s, acc=0.80744, gpu_memory=5.42 GB, lr=0.00100, valid_loss=0.9446]\n",
      "Epocha train 44/300: 100%|██████████| 180/180 [01:00<00:00,  2.99it/s, acc=0.69718, gpu_memory=5.42 GB, lr=0.00100, valid_loss=0.5322]\n",
      "Epocha val 44/300: 100%|██████████| 78/78 [00:08<00:00,  8.70it/s, acc=0.81556, gpu_memory=5.42 GB, lr=0.00100, valid_loss=0.9507]\n",
      "Epocha train 45/300: 100%|██████████| 180/180 [00:59<00:00,  3.04it/s, acc=0.69923, gpu_memory=5.42 GB, lr=0.00100, valid_loss=0.5180]\n",
      "Epocha val 45/300: 100%|██████████| 78/78 [00:12<00:00,  6.21it/s, acc=0.82200, gpu_memory=5.42 GB, lr=0.00100, valid_loss=0.9466]\n"
     ]
    },
    {
     "name": "stdout",
     "output_type": "stream",
     "text": [
      "Best val Loss classification: 0.935809,Best val Acc classification:0.703846\n"
     ]
    },
    {
     "name": "stderr",
     "output_type": "stream",
     "text": [
      "Epocha train 46/300: 100%|██████████| 180/180 [01:00<00:00,  2.98it/s, acc=0.70949, gpu_memory=5.42 GB, lr=0.00100, valid_loss=0.5126]\n",
      "Epocha val 46/300: 100%|██████████| 78/78 [00:12<00:00,  6.19it/s, acc=0.82756, gpu_memory=5.42 GB, lr=0.00100, valid_loss=0.8873]\n"
     ]
    },
    {
     "name": "stdout",
     "output_type": "stream",
     "text": [
      "Best val Loss classification: 0.887263,Best val Acc classification:0.709487\n"
     ]
    },
    {
     "name": "stderr",
     "output_type": "stream",
     "text": [
      "Epocha train 47/300: 100%|██████████| 180/180 [00:59<00:00,  3.03it/s, acc=0.72513, gpu_memory=5.42 GB, lr=0.00100, valid_loss=0.4785]\n",
      "Epocha val 47/300: 100%|██████████| 78/78 [00:09<00:00,  8.03it/s, acc=0.83711, gpu_memory=5.42 GB, lr=0.00100, valid_loss=0.9603]\n",
      "Epocha train 48/300: 100%|██████████| 180/180 [01:00<00:00,  2.98it/s, acc=0.71205, gpu_memory=5.42 GB, lr=0.00100, valid_loss=0.4783]\n",
      "Epocha val 48/300: 100%|██████████| 78/78 [00:12<00:00,  6.20it/s, acc=0.83711, gpu_memory=5.42 GB, lr=0.00100, valid_loss=0.9442]\n",
      "Epocha train 49/300: 100%|██████████| 180/180 [01:00<00:00,  2.98it/s, acc=0.72000, gpu_memory=5.42 GB, lr=0.00100, valid_loss=0.4829]\n",
      "Epocha val 49/300: 100%|██████████| 78/78 [00:09<00:00,  8.20it/s, acc=0.83422, gpu_memory=5.42 GB, lr=0.00100, valid_loss=0.9755]\n",
      "Epocha train 50/300: 100%|██████████| 180/180 [00:59<00:00,  3.02it/s, acc=0.71359, gpu_memory=5.42 GB, lr=0.00100, valid_loss=0.4501]\n",
      "Epocha val 50/300: 100%|██████████| 78/78 [00:12<00:00,  6.15it/s, acc=0.84967, gpu_memory=5.42 GB, lr=0.00010, valid_loss=0.9685]\n",
      "Epocha train 51/300: 100%|██████████| 180/180 [01:00<00:00,  2.95it/s, acc=0.71026, gpu_memory=5.42 GB, lr=0.00010, valid_loss=0.4109]\n",
      "Epocha val 51/300: 100%|██████████| 78/78 [00:12<00:00,  6.06it/s, acc=0.86400, gpu_memory=5.42 GB, lr=0.00010, valid_loss=0.8819]\n"
     ]
    },
    {
     "name": "stdout",
     "output_type": "stream",
     "text": [
      "Best val Loss classification: 0.881908,Best val Acc classification:0.725128\n"
     ]
    },
    {
     "name": "stderr",
     "output_type": "stream",
     "text": [
      "Epocha train 52/300: 100%|██████████| 180/180 [00:59<00:00,  3.02it/s, acc=0.73359, gpu_memory=5.42 GB, lr=0.00010, valid_loss=0.3711]\n",
      "Epocha val 52/300: 100%|██████████| 78/78 [00:09<00:00,  7.82it/s, acc=0.87678, gpu_memory=5.42 GB, lr=0.00010, valid_loss=0.8807]\n",
      "Epocha train 53/300: 100%|██████████| 180/180 [01:00<00:00,  2.98it/s, acc=0.73231, gpu_memory=5.42 GB, lr=0.00010, valid_loss=0.3523]\n",
      "Epocha val 53/300: 100%|██████████| 78/78 [00:12<00:00,  6.22it/s, acc=0.88133, gpu_memory=5.42 GB, lr=0.00010, valid_loss=0.8768]\n"
     ]
    },
    {
     "name": "stdout",
     "output_type": "stream",
     "text": [
      "Best val Loss classification: 0.876799,Best val Acc classification:0.733590\n"
     ]
    },
    {
     "name": "stderr",
     "output_type": "stream",
     "text": [
      "Epocha train 54/300: 100%|██████████| 180/180 [01:00<00:00,  2.98it/s, acc=0.73846, gpu_memory=5.42 GB, lr=0.00010, valid_loss=0.3406]\n",
      "Epocha val 54/300: 100%|██████████| 78/78 [00:08<00:00,  8.99it/s, acc=0.88933, gpu_memory=5.42 GB, lr=0.00010, valid_loss=0.8508]\n"
     ]
    },
    {
     "name": "stdout",
     "output_type": "stream",
     "text": [
      "Best val Loss classification: 0.850794,Best val Acc classification:0.738462\n"
     ]
    },
    {
     "name": "stderr",
     "output_type": "stream",
     "text": [
      "Epocha train 55/300: 100%|██████████| 180/180 [00:59<00:00,  3.01it/s, acc=0.74795, gpu_memory=5.42 GB, lr=0.00010, valid_loss=0.3097]\n",
      "Epocha val 55/300: 100%|██████████| 78/78 [00:12<00:00,  6.28it/s, acc=0.89644, gpu_memory=5.42 GB, lr=0.00010, valid_loss=0.8478]\n",
      "Epocha train 56/300: 100%|██████████| 180/180 [01:00<00:00,  2.98it/s, acc=0.74718, gpu_memory=5.42 GB, lr=0.00010, valid_loss=0.3046]\n",
      "Epocha val 56/300: 100%|██████████| 78/78 [00:11<00:00,  6.68it/s, acc=0.90133, gpu_memory=5.42 GB, lr=0.00010, valid_loss=0.8438]\n"
     ]
    },
    {
     "name": "stdout",
     "output_type": "stream",
     "text": [
      "Best val Loss classification: 0.843844,Best val Acc classification:0.747949\n"
     ]
    },
    {
     "name": "stderr",
     "output_type": "stream",
     "text": [
      "Epocha train 57/300: 100%|██████████| 180/180 [00:59<00:00,  3.01it/s, acc=0.75154, gpu_memory=5.42 GB, lr=0.00010, valid_loss=0.2879]\n",
      "Epocha val 57/300: 100%|██████████| 78/78 [00:10<00:00,  7.14it/s, acc=0.90567, gpu_memory=5.42 GB, lr=0.00010, valid_loss=0.8526]\n"
     ]
    },
    {
     "name": "stdout",
     "output_type": "stream",
     "text": [
      "Best val Loss classification: 0.843844,Best val Acc classification:0.751538\n"
     ]
    },
    {
     "name": "stderr",
     "output_type": "stream",
     "text": [
      "Epocha train 58/300: 100%|██████████| 180/180 [01:00<00:00,  2.98it/s, acc=0.75359, gpu_memory=5.42 GB, lr=0.00010, valid_loss=0.2849]\n",
      "Epocha val 58/300: 100%|██████████| 78/78 [00:12<00:00,  6.16it/s, acc=0.90789, gpu_memory=5.42 GB, lr=0.00010, valid_loss=0.8487]\n"
     ]
    },
    {
     "name": "stdout",
     "output_type": "stream",
     "text": [
      "Best val Loss classification: 0.843844,Best val Acc classification:0.753590\n"
     ]
    },
    {
     "name": "stderr",
     "output_type": "stream",
     "text": [
      "Epocha train 59/300: 100%|██████████| 180/180 [01:00<00:00,  2.99it/s, acc=0.75821, gpu_memory=5.42 GB, lr=0.00010, valid_loss=0.2787]\n",
      "Epocha val 59/300: 100%|██████████| 78/78 [00:09<00:00,  8.55it/s, acc=0.91211, gpu_memory=5.42 GB, lr=0.00010, valid_loss=0.8591]\n",
      "Epocha train 60/300: 100%|██████████| 180/180 [01:00<00:00,  2.99it/s, acc=0.75436, gpu_memory=5.42 GB, lr=0.00010, valid_loss=0.2572]\n",
      "Epocha val 60/300: 100%|██████████| 78/78 [00:12<00:00,  6.10it/s, acc=0.91289, gpu_memory=5.42 GB, lr=0.00010, valid_loss=0.8820]\n",
      "Epocha train 61/300: 100%|██████████| 180/180 [01:00<00:00,  2.97it/s, acc=0.75205, gpu_memory=5.42 GB, lr=0.00010, valid_loss=0.2574]\n",
      "Epocha val 61/300: 100%|██████████| 78/78 [00:11<00:00,  6.78it/s, acc=0.91511, gpu_memory=5.42 GB, lr=0.00010, valid_loss=0.8959]\n",
      "Epocha train 62/300: 100%|██████████| 180/180 [00:59<00:00,  3.01it/s, acc=0.75282, gpu_memory=5.42 GB, lr=0.00010, valid_loss=0.2486]\n",
      "Epocha val 62/300: 100%|██████████| 78/78 [00:10<00:00,  7.62it/s, acc=0.91944, gpu_memory=5.42 GB, lr=0.00010, valid_loss=0.8896]\n",
      "Epocha train 63/300: 100%|██████████| 180/180 [01:00<00:00,  2.96it/s, acc=0.74744, gpu_memory=5.42 GB, lr=0.00010, valid_loss=0.2424]\n",
      "Epocha val 63/300: 100%|██████████| 78/78 [00:12<00:00,  6.22it/s, acc=0.91922, gpu_memory=5.42 GB, lr=0.00010, valid_loss=0.8886]\n",
      "Epocha train 64/300: 100%|██████████| 180/180 [01:00<00:00,  2.97it/s, acc=0.74590, gpu_memory=5.42 GB, lr=0.00010, valid_loss=0.2351]\n",
      "Epocha val 64/300: 100%|██████████| 78/78 [00:08<00:00,  8.75it/s, acc=0.92622, gpu_memory=5.42 GB, lr=0.00010, valid_loss=0.8963]\n",
      "Epocha train 65/300: 100%|██████████| 180/180 [01:00<00:00,  3.00it/s, acc=0.75077, gpu_memory=5.42 GB, lr=0.00010, valid_loss=0.2335]\n",
      "Epocha val 65/300: 100%|██████████| 78/78 [00:12<00:00,  6.15it/s, acc=0.92700, gpu_memory=5.42 GB, lr=0.00010, valid_loss=0.8835]\n",
      "Epocha train 66/300: 100%|██████████| 180/180 [01:00<00:00,  2.96it/s, acc=0.75641, gpu_memory=5.42 GB, lr=0.00010, valid_loss=0.2324]\n",
      "Epocha val 66/300: 100%|██████████| 78/78 [00:11<00:00,  6.85it/s, acc=0.92311, gpu_memory=5.42 GB, lr=0.00010, valid_loss=0.9001]\n",
      "Epocha train 67/300: 100%|██████████| 180/180 [01:00<00:00,  2.99it/s, acc=0.75333, gpu_memory=5.42 GB, lr=0.00010, valid_loss=0.2248]\n",
      "Epocha val 67/300: 100%|██████████| 78/78 [00:09<00:00,  7.92it/s, acc=0.92689, gpu_memory=5.42 GB, lr=0.00010, valid_loss=0.9342]\n",
      "Epocha train 68/300: 100%|██████████| 180/180 [01:00<00:00,  2.98it/s, acc=0.74667, gpu_memory=5.42 GB, lr=0.00010, valid_loss=0.2189]\n",
      "Epocha val 68/300: 100%|██████████| 78/78 [00:12<00:00,  6.20it/s, acc=0.92800, gpu_memory=5.42 GB, lr=0.00010, valid_loss=0.8986]\n",
      "Epocha train 69/300: 100%|██████████| 180/180 [01:00<00:00,  2.96it/s, acc=0.75462, gpu_memory=5.42 GB, lr=0.00010, valid_loss=0.2103]\n",
      "Epocha val 69/300: 100%|██████████| 78/78 [00:10<00:00,  7.74it/s, acc=0.93300, gpu_memory=5.42 GB, lr=0.00010, valid_loss=0.9031]\n",
      "Epocha train 70/300: 100%|██████████| 180/180 [00:59<00:00,  3.02it/s, acc=0.75308, gpu_memory=5.42 GB, lr=0.00010, valid_loss=0.2108]\n",
      "Epocha val 70/300: 100%|██████████| 78/78 [00:12<00:00,  6.47it/s, acc=0.93211, gpu_memory=5.42 GB, lr=0.00010, valid_loss=0.8917]\n",
      "Epocha train 71/300: 100%|██████████| 180/180 [01:00<00:00,  2.98it/s, acc=0.75077, gpu_memory=5.42 GB, lr=0.00010, valid_loss=0.2048]\n",
      "Epocha val 71/300: 100%|██████████| 78/78 [00:12<00:00,  6.17it/s, acc=0.93444, gpu_memory=5.42 GB, lr=0.00010, valid_loss=0.9049]\n",
      "Epocha train 72/300: 100%|██████████| 180/180 [00:59<00:00,  3.02it/s, acc=0.75641, gpu_memory=5.42 GB, lr=0.00010, valid_loss=0.1970]\n",
      "Epocha val 72/300: 100%|██████████| 78/78 [00:08<00:00,  8.87it/s, acc=0.93744, gpu_memory=5.42 GB, lr=0.00010, valid_loss=0.9122]\n",
      "Epocha train 73/300: 100%|██████████| 180/180 [01:00<00:00,  2.99it/s, acc=0.75436, gpu_memory=5.42 GB, lr=0.00010, valid_loss=0.1907]\n",
      "Epocha val 73/300: 100%|██████████| 78/78 [00:12<00:00,  6.17it/s, acc=0.93633, gpu_memory=5.42 GB, lr=0.00010, valid_loss=0.9156]\n",
      "Epocha train 74/300: 100%|██████████| 180/180 [00:59<00:00,  3.00it/s, acc=0.75538, gpu_memory=5.42 GB, lr=0.00010, valid_loss=0.1964]\n",
      "Epocha val 74/300: 100%|██████████| 78/78 [00:11<00:00,  7.04it/s, acc=0.93511, gpu_memory=5.42 GB, lr=0.00010, valid_loss=0.9200]\n",
      "Epocha train 75/300: 100%|██████████| 180/180 [00:59<00:00,  3.02it/s, acc=0.75256, gpu_memory=5.42 GB, lr=0.00010, valid_loss=0.1942]\n",
      "Epocha val 75/300: 100%|██████████| 78/78 [00:11<00:00,  7.01it/s, acc=0.93456, gpu_memory=5.42 GB, lr=0.00010, valid_loss=0.9225]\n",
      "Epocha train 76/300: 100%|██████████| 180/180 [01:00<00:00,  2.98it/s, acc=0.75205, gpu_memory=5.42 GB, lr=0.00010, valid_loss=0.1825]\n",
      "Epocha val 76/300: 100%|██████████| 78/78 [00:12<00:00,  6.19it/s, acc=0.93722, gpu_memory=5.42 GB, lr=0.00010, valid_loss=0.9446]\n",
      "Epocha train 77/300: 100%|██████████| 180/180 [01:00<00:00,  2.98it/s, acc=0.75718, gpu_memory=5.42 GB, lr=0.00010, valid_loss=0.1836]\n",
      "Epocha val 77/300: 100%|██████████| 78/78 [00:09<00:00,  8.63it/s, acc=0.94056, gpu_memory=5.42 GB, lr=0.00010, valid_loss=0.9138]\n"
     ]
    },
    {
     "name": "stdout",
     "output_type": "stream",
     "text": [
      "Best val Loss classification: 0.843844,Best val Acc classification:0.758205\n"
     ]
    },
    {
     "name": "stderr",
     "output_type": "stream",
     "text": [
      "Epocha train 78/300: 100%|██████████| 180/180 [01:00<00:00,  2.99it/s, acc=0.76026, gpu_memory=5.42 GB, lr=0.00010, valid_loss=0.1763]\n",
      "Epocha val 78/300: 100%|██████████| 78/78 [00:12<00:00,  6.08it/s, acc=0.94356, gpu_memory=5.42 GB, lr=0.00010, valid_loss=0.9466]\n",
      "Epocha train 79/300: 100%|██████████| 180/180 [01:00<00:00,  2.97it/s, acc=0.74821, gpu_memory=5.42 GB, lr=0.00010, valid_loss=0.1840]\n",
      "Epocha val 79/300: 100%|██████████| 78/78 [00:11<00:00,  6.88it/s, acc=0.93844, gpu_memory=5.42 GB, lr=0.00010, valid_loss=0.9481]\n",
      "Epocha train 80/300: 100%|██████████| 180/180 [00:59<00:00,  3.00it/s, acc=0.75641, gpu_memory=5.42 GB, lr=0.00010, valid_loss=0.1710]\n",
      "Epocha val 80/300: 100%|██████████| 78/78 [00:10<00:00,  7.42it/s, acc=0.94378, gpu_memory=5.42 GB, lr=0.00010, valid_loss=0.9441]\n",
      "Epocha train 81/300: 100%|██████████| 180/180 [01:00<00:00,  2.97it/s, acc=0.75487, gpu_memory=5.42 GB, lr=0.00010, valid_loss=0.1792]\n",
      "Epocha val 81/300: 100%|██████████| 78/78 [00:12<00:00,  6.19it/s, acc=0.94122, gpu_memory=5.42 GB, lr=0.00010, valid_loss=0.9593]\n",
      "Epocha train 82/300: 100%|██████████| 180/180 [01:00<00:00,  2.97it/s, acc=0.75333, gpu_memory=5.42 GB, lr=0.00010, valid_loss=0.1756]\n",
      "Epocha val 82/300: 100%|██████████| 78/78 [00:08<00:00,  8.67it/s, acc=0.94044, gpu_memory=5.42 GB, lr=0.00010, valid_loss=0.9462]\n",
      "Epocha train 83/300: 100%|██████████| 180/180 [00:59<00:00,  3.00it/s, acc=0.75410, gpu_memory=5.42 GB, lr=0.00010, valid_loss=0.1727]\n",
      "Epocha val 83/300: 100%|██████████| 78/78 [00:12<00:00,  6.15it/s, acc=0.94367, gpu_memory=5.42 GB, lr=0.00010, valid_loss=0.9442]\n",
      "Epocha train 84/300: 100%|██████████| 180/180 [01:01<00:00,  2.95it/s, acc=0.75590, gpu_memory=5.42 GB, lr=0.00010, valid_loss=0.1565]\n",
      "Epocha val 84/300: 100%|██████████| 78/78 [00:11<00:00,  6.76it/s, acc=0.95044, gpu_memory=5.42 GB, lr=0.00010, valid_loss=0.9486]\n",
      "Epocha train 85/300: 100%|██████████| 180/180 [00:59<00:00,  3.02it/s, acc=0.75615, gpu_memory=5.42 GB, lr=0.00010, valid_loss=0.1715]\n",
      "Epocha val 85/300: 100%|██████████| 78/78 [00:10<00:00,  7.33it/s, acc=0.94344, gpu_memory=5.42 GB, lr=0.00010, valid_loss=0.9513]\n",
      "Epocha train 86/300: 100%|██████████| 180/180 [01:00<00:00,  2.98it/s, acc=0.75667, gpu_memory=5.42 GB, lr=0.00010, valid_loss=0.1585]\n",
      "Epocha val 86/300: 100%|██████████| 78/78 [00:12<00:00,  6.14it/s, acc=0.94689, gpu_memory=5.42 GB, lr=0.00010, valid_loss=0.9418]\n",
      "Epocha train 87/300: 100%|██████████| 180/180 [01:00<00:00,  2.96it/s, acc=0.75769, gpu_memory=5.42 GB, lr=0.00010, valid_loss=0.1588]\n",
      "Epocha val 87/300: 100%|██████████| 78/78 [00:08<00:00,  8.80it/s, acc=0.94700, gpu_memory=5.42 GB, lr=0.00010, valid_loss=0.9705]\n",
      "Epocha train 88/300: 100%|██████████| 180/180 [00:59<00:00,  3.02it/s, acc=0.75436, gpu_memory=5.42 GB, lr=0.00010, valid_loss=0.1457]\n",
      "Epocha val 88/300: 100%|██████████| 78/78 [00:12<00:00,  6.22it/s, acc=0.94933, gpu_memory=5.42 GB, lr=0.00010, valid_loss=0.9766]\n",
      "Epocha train 89/300: 100%|██████████| 180/180 [01:00<00:00,  2.99it/s, acc=0.75385, gpu_memory=5.42 GB, lr=0.00010, valid_loss=0.1593]\n",
      "Epocha val 89/300: 100%|██████████| 78/78 [00:12<00:00,  6.20it/s, acc=0.95000, gpu_memory=5.42 GB, lr=0.00010, valid_loss=0.9685]\n",
      "Epocha train 90/300: 100%|██████████| 180/180 [00:59<00:00,  3.00it/s, acc=0.75718, gpu_memory=5.42 GB, lr=0.00010, valid_loss=0.1471]\n",
      "Epocha val 90/300: 100%|██████████| 78/78 [00:09<00:00,  7.83it/s, acc=0.95244, gpu_memory=5.42 GB, lr=0.00010, valid_loss=0.9952]\n",
      "Epocha train 91/300: 100%|██████████| 180/180 [01:00<00:00,  2.95it/s, acc=0.74897, gpu_memory=5.42 GB, lr=0.00010, valid_loss=0.1423]\n",
      "Epocha val 91/300: 100%|██████████| 78/78 [00:12<00:00,  6.15it/s, acc=0.95311, gpu_memory=5.42 GB, lr=0.00010, valid_loss=0.9915]\n",
      "Epocha train 92/300: 100%|██████████| 180/180 [01:00<00:00,  2.95it/s, acc=0.75410, gpu_memory=5.42 GB, lr=0.00010, valid_loss=0.1482]\n",
      "Epocha val 92/300: 100%|██████████| 78/78 [00:08<00:00,  8.68it/s, acc=0.95000, gpu_memory=5.42 GB, lr=0.00010, valid_loss=0.9821]\n",
      "Epocha train 93/300: 100%|██████████| 180/180 [01:00<00:00,  2.98it/s, acc=0.75462, gpu_memory=5.42 GB, lr=0.00010, valid_loss=0.1496]\n",
      "Epocha val 93/300: 100%|██████████| 78/78 [00:12<00:00,  6.14it/s, acc=0.95278, gpu_memory=5.42 GB, lr=0.00010, valid_loss=0.9688]\n",
      "Epocha train 94/300: 100%|██████████| 180/180 [01:01<00:00,  2.95it/s, acc=0.75282, gpu_memory=5.42 GB, lr=0.00010, valid_loss=0.1495]\n",
      "Epocha val 94/300: 100%|██████████| 78/78 [00:11<00:00,  6.80it/s, acc=0.95133, gpu_memory=5.42 GB, lr=0.00010, valid_loss=0.9737]\n",
      "Epocha train 95/300: 100%|██████████| 180/180 [00:59<00:00,  3.01it/s, acc=0.75436, gpu_memory=5.42 GB, lr=0.00010, valid_loss=0.1467]\n",
      "Epocha val 95/300: 100%|██████████| 78/78 [00:11<00:00,  7.08it/s, acc=0.95200, gpu_memory=5.42 GB, lr=0.00010, valid_loss=1.0038]\n",
      "Epocha train 96/300: 100%|██████████| 180/180 [01:00<00:00,  2.98it/s, acc=0.75359, gpu_memory=5.42 GB, lr=0.00010, valid_loss=0.1359]\n",
      "Epocha val 96/300: 100%|██████████| 78/78 [00:12<00:00,  6.18it/s, acc=0.95689, gpu_memory=5.42 GB, lr=0.00010, valid_loss=1.0106]\n",
      "Epocha train 97/300: 100%|██████████| 180/180 [01:00<00:00,  2.99it/s, acc=0.75333, gpu_memory=5.42 GB, lr=0.00010, valid_loss=0.1343]\n",
      "Epocha val 97/300: 100%|██████████| 78/78 [00:08<00:00,  8.81it/s, acc=0.95722, gpu_memory=5.42 GB, lr=0.00010, valid_loss=0.9966]\n",
      "Epocha train 98/300: 100%|██████████| 180/180 [00:59<00:00,  3.02it/s, acc=0.75256, gpu_memory=5.42 GB, lr=0.00010, valid_loss=0.1309]\n",
      "Epocha val 98/300: 100%|██████████| 78/78 [00:12<00:00,  6.13it/s, acc=0.95589, gpu_memory=5.42 GB, lr=0.00010, valid_loss=1.0081]\n",
      "Epocha train 99/300: 100%|██████████| 180/180 [01:00<00:00,  2.95it/s, acc=0.75231, gpu_memory=5.42 GB, lr=0.00010, valid_loss=0.1308]\n",
      "Epocha val 99/300: 100%|██████████| 78/78 [00:11<00:00,  6.57it/s, acc=0.95778, gpu_memory=5.42 GB, lr=0.00010, valid_loss=1.0233]\n",
      "Epocha train 100/300: 100%|██████████| 180/180 [00:59<00:00,  3.02it/s, acc=0.74923, gpu_memory=5.42 GB, lr=0.00010, valid_loss=0.1316]\n",
      "Epocha val 100/300: 100%|██████████| 78/78 [00:10<00:00,  7.75it/s, acc=0.95589, gpu_memory=5.42 GB, lr=0.00001, valid_loss=1.0147]\n",
      "Epocha train 101/300: 100%|██████████| 180/180 [01:00<00:00,  2.98it/s, acc=0.75359, gpu_memory=5.42 GB, lr=0.00001, valid_loss=0.1204]\n",
      "Epocha val 101/300: 100%|██████████| 78/78 [00:12<00:00,  6.09it/s, acc=0.95867, gpu_memory=5.42 GB, lr=0.00001, valid_loss=1.0227]\n",
      "Epocha train 102/300: 100%|██████████| 180/180 [01:00<00:00,  2.97it/s, acc=0.75333, gpu_memory=5.42 GB, lr=0.00001, valid_loss=0.1145]\n",
      "Epocha val 102/300: 100%|██████████| 78/78 [00:08<00:00,  8.84it/s, acc=0.96200, gpu_memory=5.42 GB, lr=0.00001, valid_loss=1.0219]\n",
      "Epocha train 103/300: 100%|██████████| 180/180 [00:59<00:00,  3.03it/s, acc=0.74718, gpu_memory=5.42 GB, lr=0.00001, valid_loss=0.1175]\n",
      "Epocha val 103/300: 100%|██████████| 78/78 [00:12<00:00,  6.16it/s, acc=0.96000, gpu_memory=5.42 GB, lr=0.00001, valid_loss=1.0131]\n",
      "Epocha train 104/300: 100%|██████████| 180/180 [01:00<00:00,  2.98it/s, acc=0.75718, gpu_memory=5.42 GB, lr=0.00001, valid_loss=0.1124]\n",
      "Epocha val 104/300: 100%|██████████| 78/78 [00:12<00:00,  6.15it/s, acc=0.96089, gpu_memory=5.42 GB, lr=0.00001, valid_loss=1.0101]\n",
      "Epocha train 105/300: 100%|██████████| 180/180 [00:59<00:00,  3.02it/s, acc=0.75256, gpu_memory=5.42 GB, lr=0.00001, valid_loss=0.1061]\n",
      "Epocha val 105/300: 100%|██████████| 78/78 [00:09<00:00,  8.28it/s, acc=0.96444, gpu_memory=5.42 GB, lr=0.00001, valid_loss=0.9755]\n"
     ]
    },
    {
     "name": "stdout",
     "output_type": "stream",
     "text": [
      "Best val Loss classification: 0.843844,Best val Acc classification:0.760256\n"
     ]
    },
    {
     "name": "stderr",
     "output_type": "stream",
     "text": [
      "Epocha train 106/300: 100%|██████████| 180/180 [01:00<00:00,  2.98it/s, acc=0.76103, gpu_memory=5.42 GB, lr=0.00001, valid_loss=0.1177]\n",
      "Epocha val 106/300: 100%|██████████| 78/78 [00:12<00:00,  6.10it/s, acc=0.96011, gpu_memory=5.42 GB, lr=0.00001, valid_loss=1.0072]\n",
      "Epocha train 107/300: 100%|██████████| 180/180 [01:00<00:00,  2.96it/s, acc=0.75410, gpu_memory=5.42 GB, lr=0.00001, valid_loss=0.1084]\n",
      "Epocha val 107/300: 100%|██████████| 78/78 [00:09<00:00,  8.35it/s, acc=0.96644, gpu_memory=5.42 GB, lr=0.00001, valid_loss=1.0013]\n",
      "Epocha train 108/300: 100%|██████████| 180/180 [00:59<00:00,  3.02it/s, acc=0.75385, gpu_memory=5.42 GB, lr=0.00001, valid_loss=0.1177]\n",
      "Epocha val 108/300: 100%|██████████| 78/78 [00:12<00:00,  6.15it/s, acc=0.96100, gpu_memory=5.42 GB, lr=0.00001, valid_loss=1.0006]\n",
      "Epocha train 109/300: 100%|██████████| 180/180 [01:01<00:00,  2.95it/s, acc=0.75872, gpu_memory=5.42 GB, lr=0.00001, valid_loss=0.1041]\n",
      "Epocha val 109/300: 100%|██████████| 78/78 [00:12<00:00,  6.23it/s, acc=0.96833, gpu_memory=5.42 GB, lr=0.00001, valid_loss=0.9963]\n",
      "Epocha train 110/300: 100%|██████████| 180/180 [00:59<00:00,  3.01it/s, acc=0.75846, gpu_memory=5.42 GB, lr=0.00001, valid_loss=0.1131]\n",
      "Epocha val 110/300: 100%|██████████| 78/78 [00:09<00:00,  8.33it/s, acc=0.96189, gpu_memory=5.42 GB, lr=0.00001, valid_loss=0.9960]\n",
      "Epocha train 111/300: 100%|██████████| 180/180 [01:00<00:00,  2.99it/s, acc=0.75692, gpu_memory=5.42 GB, lr=0.00001, valid_loss=0.1112]\n",
      "Epocha val 111/300: 100%|██████████| 78/78 [00:12<00:00,  6.20it/s, acc=0.96344, gpu_memory=5.42 GB, lr=0.00001, valid_loss=0.9938]\n",
      "Epocha train 112/300: 100%|██████████| 180/180 [01:00<00:00,  2.97it/s, acc=0.76000, gpu_memory=5.42 GB, lr=0.00001, valid_loss=0.1074]\n",
      "Epocha val 112/300: 100%|██████████| 78/78 [00:10<00:00,  7.77it/s, acc=0.96356, gpu_memory=5.42 GB, lr=0.00001, valid_loss=1.0036]\n",
      "Epocha train 113/300: 100%|██████████| 180/180 [00:59<00:00,  3.00it/s, acc=0.75692, gpu_memory=5.42 GB, lr=0.00001, valid_loss=0.1050]\n",
      "Epocha val 113/300: 100%|██████████| 78/78 [00:12<00:00,  6.37it/s, acc=0.96567, gpu_memory=5.42 GB, lr=0.00001, valid_loss=1.0053]\n",
      "Epocha train 114/300: 100%|██████████| 180/180 [01:00<00:00,  2.96it/s, acc=0.75872, gpu_memory=5.42 GB, lr=0.00001, valid_loss=0.1098]\n",
      "Epocha val 114/300: 100%|██████████| 78/78 [00:12<00:00,  6.09it/s, acc=0.96478, gpu_memory=5.42 GB, lr=0.00001, valid_loss=1.0072]\n",
      "Epocha train 115/300: 100%|██████████| 180/180 [00:59<00:00,  3.01it/s, acc=0.75103, gpu_memory=5.42 GB, lr=0.00001, valid_loss=0.1016]\n",
      "Epocha val 115/300: 100%|██████████| 78/78 [00:09<00:00,  8.48it/s, acc=0.96833, gpu_memory=5.42 GB, lr=0.00001, valid_loss=0.9948]\n",
      "Epocha train 116/300: 100%|██████████| 180/180 [01:00<00:00,  2.97it/s, acc=0.75718, gpu_memory=5.42 GB, lr=0.00001, valid_loss=0.1096]\n",
      "Epocha val 116/300: 100%|██████████| 78/78 [00:12<00:00,  6.15it/s, acc=0.96456, gpu_memory=5.42 GB, lr=0.00001, valid_loss=0.9984]\n",
      "Epocha train 117/300: 100%|██████████| 180/180 [01:00<00:00,  2.97it/s, acc=0.75821, gpu_memory=5.42 GB, lr=0.00001, valid_loss=0.1025]\n",
      "Epocha val 117/300: 100%|██████████| 78/78 [00:10<00:00,  7.71it/s, acc=0.96744, gpu_memory=5.42 GB, lr=0.00001, valid_loss=1.0090]\n",
      "Epocha train 118/300: 100%|██████████| 180/180 [01:00<00:00,  2.98it/s, acc=0.75410, gpu_memory=5.42 GB, lr=0.00001, valid_loss=0.1050]\n",
      "Epocha val 118/300: 100%|██████████| 78/78 [00:12<00:00,  6.26it/s, acc=0.96789, gpu_memory=5.42 GB, lr=0.00001, valid_loss=1.0135]\n",
      "Epocha train 119/300: 100%|██████████| 180/180 [01:01<00:00,  2.93it/s, acc=0.75692, gpu_memory=5.42 GB, lr=0.00001, valid_loss=0.1066]\n",
      "Epocha val 119/300: 100%|██████████| 78/78 [00:13<00:00,  5.99it/s, acc=0.96411, gpu_memory=5.42 GB, lr=0.00001, valid_loss=0.9852]\n",
      "Epocha train 120/300: 100%|██████████| 180/180 [01:00<00:00,  2.98it/s, acc=0.75821, gpu_memory=5.42 GB, lr=0.00001, valid_loss=0.1017]\n",
      "Epocha val 120/300: 100%|██████████| 78/78 [00:09<00:00,  8.55it/s, acc=0.96544, gpu_memory=5.42 GB, lr=0.00001, valid_loss=0.9890]\n",
      "Epocha train 121/300: 100%|██████████| 180/180 [01:01<00:00,  2.93it/s, acc=0.75436, gpu_memory=5.42 GB, lr=0.00001, valid_loss=0.1055]\n",
      "Epocha val 121/300: 100%|██████████| 78/78 [00:12<00:00,  6.07it/s, acc=0.96556, gpu_memory=5.42 GB, lr=0.00001, valid_loss=1.0026]\n",
      "Epocha train 122/300: 100%|██████████| 180/180 [01:01<00:00,  2.93it/s, acc=0.75128, gpu_memory=5.42 GB, lr=0.00001, valid_loss=0.1006]\n",
      "Epocha val 122/300: 100%|██████████| 78/78 [00:10<00:00,  7.44it/s, acc=0.96589, gpu_memory=5.42 GB, lr=0.00001, valid_loss=0.9829]\n"
     ]
    },
    {
     "name": "stdout",
     "output_type": "stream",
     "text": [
      "Best val Loss classification: 0.843844,Best val Acc classification:0.761026\n"
     ]
    },
    {
     "name": "stderr",
     "output_type": "stream",
     "text": [
      "Epocha train 123/300: 100%|██████████| 180/180 [01:00<00:00,  2.97it/s, acc=0.76333, gpu_memory=5.42 GB, lr=0.00001, valid_loss=0.0995]\n",
      "Epocha val 123/300: 100%|██████████| 78/78 [00:12<00:00,  6.08it/s, acc=0.96511, gpu_memory=5.42 GB, lr=0.00001, valid_loss=0.9914]\n",
      "Epocha train 124/300: 100%|██████████| 180/180 [01:01<00:00,  2.94it/s, acc=0.75462, gpu_memory=5.42 GB, lr=0.00001, valid_loss=0.1015]\n",
      "Epocha val 124/300: 100%|██████████| 78/78 [00:12<00:00,  6.16it/s, acc=0.96567, gpu_memory=5.42 GB, lr=0.00001, valid_loss=0.9942]\n",
      "Epocha train 125/300: 100%|██████████| 180/180 [01:00<00:00,  2.99it/s, acc=0.75231, gpu_memory=5.42 GB, lr=0.00001, valid_loss=0.1020]\n",
      "Epocha val 125/300: 100%|██████████| 78/78 [00:08<00:00,  8.76it/s, acc=0.96522, gpu_memory=5.42 GB, lr=0.00001, valid_loss=0.9973]\n",
      "Epocha train 126/300: 100%|██████████| 180/180 [01:01<00:00,  2.91it/s, acc=0.75538, gpu_memory=5.42 GB, lr=0.00001, valid_loss=0.0958]\n",
      "Epocha val 126/300: 100%|██████████| 78/78 [00:12<00:00,  6.15it/s, acc=0.96967, gpu_memory=5.42 GB, lr=0.00001, valid_loss=0.9906]\n",
      "Epocha train 127/300: 100%|██████████| 180/180 [01:01<00:00,  2.92it/s, acc=0.76282, gpu_memory=5.42 GB, lr=0.00001, valid_loss=0.0972]\n",
      "Epocha val 127/300: 100%|██████████| 78/78 [00:10<00:00,  7.67it/s, acc=0.96900, gpu_memory=5.42 GB, lr=0.00001, valid_loss=0.9799]\n",
      "Epocha train 128/300: 100%|██████████| 180/180 [01:00<00:00,  2.97it/s, acc=0.75846, gpu_memory=5.42 GB, lr=0.00001, valid_loss=0.0958]\n",
      "Epocha val 128/300: 100%|██████████| 78/78 [00:12<00:00,  6.23it/s, acc=0.96667, gpu_memory=5.42 GB, lr=0.00001, valid_loss=1.0235]\n",
      "Epocha train 129/300: 100%|██████████| 180/180 [01:01<00:00,  2.95it/s, acc=0.75103, gpu_memory=5.42 GB, lr=0.00001, valid_loss=0.0923]\n",
      "Epocha val 129/300: 100%|██████████| 78/78 [00:12<00:00,  6.08it/s, acc=0.97011, gpu_memory=5.42 GB, lr=0.00001, valid_loss=1.0121]\n",
      "Epocha train 130/300: 100%|██████████| 180/180 [01:00<00:00,  2.99it/s, acc=0.75308, gpu_memory=5.42 GB, lr=0.00001, valid_loss=0.0921]\n",
      "Epocha val 130/300: 100%|██████████| 78/78 [00:09<00:00,  8.45it/s, acc=0.97056, gpu_memory=5.42 GB, lr=0.00001, valid_loss=1.0054]\n",
      "Epocha train 131/300: 100%|██████████| 180/180 [01:00<00:00,  2.98it/s, acc=0.75949, gpu_memory=5.42 GB, lr=0.00001, valid_loss=0.0942]\n",
      "Epocha val 131/300: 100%|██████████| 78/78 [00:12<00:00,  6.10it/s, acc=0.96889, gpu_memory=5.42 GB, lr=0.00001, valid_loss=1.0115]\n",
      "Epocha train 132/300: 100%|██████████| 180/180 [01:01<00:00,  2.93it/s, acc=0.75667, gpu_memory=5.42 GB, lr=0.00001, valid_loss=0.0930]\n",
      "Epocha val 132/300: 100%|██████████| 78/78 [00:11<00:00,  6.52it/s, acc=0.97044, gpu_memory=5.42 GB, lr=0.00001, valid_loss=1.0028]\n",
      "Epocha train 133/300: 100%|██████████| 180/180 [01:00<00:00,  2.97it/s, acc=0.75564, gpu_memory=5.42 GB, lr=0.00001, valid_loss=0.0998]\n",
      "Epocha val 133/300: 100%|██████████| 78/78 [00:11<00:00,  7.06it/s, acc=0.96567, gpu_memory=5.42 GB, lr=0.00001, valid_loss=0.9978]\n",
      "Epocha train 134/300: 100%|██████████| 180/180 [01:01<00:00,  2.94it/s, acc=0.75949, gpu_memory=5.42 GB, lr=0.00001, valid_loss=0.0965]\n",
      "Epocha val 134/300: 100%|██████████| 78/78 [00:12<00:00,  6.11it/s, acc=0.96900, gpu_memory=5.42 GB, lr=0.00001, valid_loss=0.9928]\n",
      "Epocha train 135/300: 100%|██████████| 180/180 [01:00<00:00,  2.95it/s, acc=0.75846, gpu_memory=5.42 GB, lr=0.00001, valid_loss=0.0966]\n",
      "Epocha val 135/300: 100%|██████████| 78/78 [00:09<00:00,  8.65it/s, acc=0.96722, gpu_memory=5.42 GB, lr=0.00001, valid_loss=1.0092]\n",
      "Epocha train 136/300: 100%|██████████| 180/180 [01:00<00:00,  2.97it/s, acc=0.75282, gpu_memory=5.42 GB, lr=0.00001, valid_loss=0.0900]\n",
      "Epocha val 136/300: 100%|██████████| 78/78 [00:12<00:00,  6.08it/s, acc=0.97167, gpu_memory=5.42 GB, lr=0.00001, valid_loss=1.0246]\n",
      "Epocha train 137/300: 100%|██████████| 180/180 [01:00<00:00,  2.96it/s, acc=0.75436, gpu_memory=5.42 GB, lr=0.00001, valid_loss=0.1030]\n",
      "Epocha val 137/300: 100%|██████████| 78/78 [00:12<00:00,  6.46it/s, acc=0.96700, gpu_memory=5.42 GB, lr=0.00001, valid_loss=1.0000]\n"
     ]
    },
    {
     "name": "stdout",
     "output_type": "stream",
     "text": [
      "Best val Loss classification: 0.843844,Best val Acc classification:0.763333\n"
     ]
    },
    {
     "name": "stderr",
     "output_type": "stream",
     "text": [
      "Epocha train 138/300: 100%|██████████| 180/180 [01:00<00:00,  2.99it/s, acc=0.76692, gpu_memory=5.42 GB, lr=0.00001, valid_loss=0.1014]\n",
      "Epocha val 138/300: 100%|██████████| 78/78 [00:10<00:00,  7.38it/s, acc=0.96533, gpu_memory=5.42 GB, lr=0.00001, valid_loss=0.9932]\n",
      "Epocha train 139/300: 100%|██████████| 180/180 [01:01<00:00,  2.91it/s, acc=0.76513, gpu_memory=5.42 GB, lr=0.00001, valid_loss=0.0931]\n",
      "Epocha val 139/300: 100%|██████████| 78/78 [00:13<00:00,  6.00it/s, acc=0.97078, gpu_memory=5.42 GB, lr=0.00001, valid_loss=1.0017]\n",
      "Epocha train 140/300: 100%|██████████| 180/180 [01:01<00:00,  2.93it/s, acc=0.76026, gpu_memory=5.42 GB, lr=0.00001, valid_loss=0.0999]\n",
      "Epocha val 140/300: 100%|██████████| 78/78 [00:09<00:00,  8.60it/s, acc=0.96900, gpu_memory=5.42 GB, lr=0.00001, valid_loss=1.0089]\n",
      "Epocha train 141/300: 100%|██████████| 180/180 [01:00<00:00,  2.96it/s, acc=0.76000, gpu_memory=5.42 GB, lr=0.00001, valid_loss=0.0934]\n",
      "Epocha val 141/300: 100%|██████████| 78/78 [00:12<00:00,  6.13it/s, acc=0.96978, gpu_memory=5.42 GB, lr=0.00001, valid_loss=1.0142]\n",
      "Epocha train 142/300: 100%|██████████| 180/180 [01:01<00:00,  2.94it/s, acc=0.75897, gpu_memory=5.42 GB, lr=0.00001, valid_loss=0.0905]\n",
      "Epocha val 142/300: 100%|██████████| 78/78 [00:11<00:00,  6.63it/s, acc=0.96922, gpu_memory=5.42 GB, lr=0.00001, valid_loss=1.0187]\n",
      "Epocha train 143/300: 100%|██████████| 180/180 [01:00<00:00,  2.98it/s, acc=0.75718, gpu_memory=5.42 GB, lr=0.00001, valid_loss=0.0860]\n",
      "Epocha val 143/300: 100%|██████████| 78/78 [00:10<00:00,  7.18it/s, acc=0.97211, gpu_memory=5.42 GB, lr=0.00001, valid_loss=1.0022]\n",
      "Epocha train 144/300: 100%|██████████| 180/180 [01:01<00:00,  2.93it/s, acc=0.75564, gpu_memory=5.42 GB, lr=0.00001, valid_loss=0.0854]\n",
      "Epocha val 144/300: 100%|██████████| 78/78 [00:12<00:00,  6.19it/s, acc=0.97311, gpu_memory=5.42 GB, lr=0.00001, valid_loss=0.9959]\n",
      "Epocha train 145/300: 100%|██████████| 180/180 [01:01<00:00,  2.94it/s, acc=0.75974, gpu_memory=5.42 GB, lr=0.00001, valid_loss=0.0931]\n",
      "Epocha val 145/300: 100%|██████████| 78/78 [00:08<00:00,  8.90it/s, acc=0.96867, gpu_memory=5.42 GB, lr=0.00001, valid_loss=1.0164]\n",
      "Epocha train 146/300: 100%|██████████| 180/180 [01:00<00:00,  2.98it/s, acc=0.76077, gpu_memory=5.42 GB, lr=0.00001, valid_loss=0.0875]\n",
      "Epocha val 146/300: 100%|██████████| 78/78 [00:12<00:00,  6.02it/s, acc=0.97111, gpu_memory=5.42 GB, lr=0.00001, valid_loss=1.0127]\n",
      "Epocha train 147/300: 100%|██████████| 180/180 [01:01<00:00,  2.95it/s, acc=0.76154, gpu_memory=5.42 GB, lr=0.00001, valid_loss=0.0830]\n",
      "Epocha val 147/300: 100%|██████████| 78/78 [00:12<00:00,  6.33it/s, acc=0.97344, gpu_memory=5.42 GB, lr=0.00001, valid_loss=1.0294]\n",
      "Epocha train 148/300: 100%|██████████| 180/180 [01:00<00:00,  2.96it/s, acc=0.75846, gpu_memory=5.42 GB, lr=0.00001, valid_loss=0.0963]\n",
      "Epocha val 148/300: 100%|██████████| 78/78 [00:10<00:00,  7.20it/s, acc=0.96711, gpu_memory=5.42 GB, lr=0.00001, valid_loss=1.0315]\n",
      "Epocha train 149/300: 100%|██████████| 180/180 [01:01<00:00,  2.95it/s, acc=0.75564, gpu_memory=5.42 GB, lr=0.00001, valid_loss=0.0910]\n",
      "Epocha val 149/300: 100%|██████████| 78/78 [00:12<00:00,  6.03it/s, acc=0.96878, gpu_memory=5.42 GB, lr=0.00001, valid_loss=1.0333]\n",
      "Epocha train 150/300: 100%|██████████| 180/180 [01:01<00:00,  2.93it/s, acc=0.75949, gpu_memory=5.42 GB, lr=0.00001, valid_loss=0.0917]\n",
      "Epocha val 150/300: 100%|██████████| 78/78 [00:09<00:00,  8.62it/s, acc=0.97022, gpu_memory=5.42 GB, lr=0.00000, valid_loss=1.0190]\n",
      "Epocha train 151/300: 100%|██████████| 180/180 [01:00<00:00,  2.99it/s, acc=0.76026, gpu_memory=5.42 GB, lr=0.00000, valid_loss=0.0925]\n",
      "Epocha val 151/300: 100%|██████████| 78/78 [00:12<00:00,  6.13it/s, acc=0.96978, gpu_memory=5.42 GB, lr=0.00000, valid_loss=1.0266]\n",
      "Epocha train 152/300: 100%|██████████| 180/180 [01:01<00:00,  2.93it/s, acc=0.75154, gpu_memory=5.42 GB, lr=0.00000, valid_loss=0.0866]\n",
      "Epocha val 152/300: 100%|██████████| 78/78 [00:12<00:00,  6.27it/s, acc=0.97233, gpu_memory=5.42 GB, lr=0.00000, valid_loss=1.0205]\n",
      "Epocha train 153/300: 100%|██████████| 180/180 [01:00<00:00,  2.98it/s, acc=0.76128, gpu_memory=5.42 GB, lr=0.00000, valid_loss=0.0921]\n",
      "Epocha val 153/300: 100%|██████████| 78/78 [00:09<00:00,  7.81it/s, acc=0.97200, gpu_memory=5.42 GB, lr=0.00000, valid_loss=1.0319]\n",
      "Epocha train 154/300: 100%|██████████| 180/180 [01:01<00:00,  2.95it/s, acc=0.75718, gpu_memory=5.42 GB, lr=0.00000, valid_loss=0.0989]\n",
      "Epocha val 154/300: 100%|██████████| 78/78 [00:12<00:00,  6.06it/s, acc=0.96433, gpu_memory=5.42 GB, lr=0.00000, valid_loss=1.0337]\n",
      "Epocha train 155/300: 100%|██████████| 180/180 [01:01<00:00,  2.93it/s, acc=0.75410, gpu_memory=5.42 GB, lr=0.00000, valid_loss=0.1020]\n",
      "Epocha val 155/300: 100%|██████████| 78/78 [00:09<00:00,  8.34it/s, acc=0.96567, gpu_memory=5.42 GB, lr=0.00000, valid_loss=1.0039]\n",
      "Epocha train 156/300: 100%|██████████| 180/180 [01:00<00:00,  2.99it/s, acc=0.76282, gpu_memory=5.42 GB, lr=0.00000, valid_loss=0.0919]\n",
      "Epocha val 156/300: 100%|██████████| 78/78 [00:13<00:00,  5.98it/s, acc=0.96956, gpu_memory=5.42 GB, lr=0.00000, valid_loss=1.0137]\n",
      "Epocha train 157/300: 100%|██████████| 180/180 [01:01<00:00,  2.95it/s, acc=0.76359, gpu_memory=5.42 GB, lr=0.00000, valid_loss=0.0874]\n",
      "Epocha val 157/300: 100%|██████████| 78/78 [00:12<00:00,  6.21it/s, acc=0.97111, gpu_memory=5.42 GB, lr=0.00000, valid_loss=1.0330]\n",
      "Epocha train 158/300: 100%|██████████| 180/180 [01:00<00:00,  2.98it/s, acc=0.75872, gpu_memory=5.42 GB, lr=0.00000, valid_loss=0.0850]\n",
      "Epocha val 158/300: 100%|██████████| 78/78 [00:09<00:00,  7.99it/s, acc=0.97311, gpu_memory=5.42 GB, lr=0.00000, valid_loss=1.0311]\n",
      "Epocha train 159/300: 100%|██████████| 180/180 [01:01<00:00,  2.94it/s, acc=0.76128, gpu_memory=5.42 GB, lr=0.00000, valid_loss=0.0856]\n",
      "Epocha val 159/300: 100%|██████████| 78/78 [00:12<00:00,  6.18it/s, acc=0.97100, gpu_memory=5.42 GB, lr=0.00000, valid_loss=1.0318]\n",
      "Epocha train 160/300: 100%|██████████| 180/180 [01:01<00:00,  2.95it/s, acc=0.75462, gpu_memory=5.42 GB, lr=0.00000, valid_loss=0.0959]\n",
      "Epocha val 160/300: 100%|██████████| 78/78 [00:09<00:00,  8.03it/s, acc=0.96733, gpu_memory=5.42 GB, lr=0.00000, valid_loss=0.9997]\n",
      "Epocha train 161/300: 100%|██████████| 180/180 [01:00<00:00,  2.99it/s, acc=0.75692, gpu_memory=5.42 GB, lr=0.00000, valid_loss=0.0923]\n",
      "Epocha val 161/300: 100%|██████████| 78/78 [00:12<00:00,  6.16it/s, acc=0.97022, gpu_memory=5.42 GB, lr=0.00000, valid_loss=1.0180]\n",
      "Epocha train 162/300: 100%|██████████| 180/180 [01:00<00:00,  2.97it/s, acc=0.75718, gpu_memory=5.42 GB, lr=0.00000, valid_loss=0.0952]\n",
      "Epocha val 162/300: 100%|██████████| 78/78 [00:12<00:00,  6.12it/s, acc=0.96933, gpu_memory=5.42 GB, lr=0.00000, valid_loss=1.0135]\n",
      "Epocha train 163/300: 100%|██████████| 180/180 [01:00<00:00,  2.98it/s, acc=0.75821, gpu_memory=5.42 GB, lr=0.00000, valid_loss=0.0913]\n",
      "Epocha val 163/300: 100%|██████████| 78/78 [00:08<00:00,  8.95it/s, acc=0.97144, gpu_memory=5.42 GB, lr=0.00000, valid_loss=1.0229]\n",
      "Epocha train 164/300: 100%|██████████| 180/180 [01:00<00:00,  2.96it/s, acc=0.75692, gpu_memory=5.42 GB, lr=0.00000, valid_loss=0.0852]\n",
      "Epocha val 164/300: 100%|██████████| 78/78 [00:12<00:00,  6.12it/s, acc=0.97144, gpu_memory=5.42 GB, lr=0.00000, valid_loss=1.0258]\n",
      "Epocha train 165/300: 100%|██████████| 180/180 [01:01<00:00,  2.94it/s, acc=0.75641, gpu_memory=5.42 GB, lr=0.00000, valid_loss=0.0880]\n",
      "Epocha val 165/300: 100%|██████████| 78/78 [00:11<00:00,  7.09it/s, acc=0.97078, gpu_memory=5.42 GB, lr=0.00000, valid_loss=1.0154]\n",
      "Epocha train 166/300: 100%|██████████| 180/180 [01:00<00:00,  2.98it/s, acc=0.76359, gpu_memory=5.42 GB, lr=0.00000, valid_loss=0.0878]\n",
      "Epocha val 166/300: 100%|██████████| 78/78 [00:11<00:00,  6.56it/s, acc=0.97178, gpu_memory=5.42 GB, lr=0.00000, valid_loss=1.0226]\n",
      "Epocha train 167/300: 100%|██████████| 180/180 [01:01<00:00,  2.94it/s, acc=0.75385, gpu_memory=5.42 GB, lr=0.00000, valid_loss=0.0811]\n",
      "Epocha val 167/300: 100%|██████████| 78/78 [00:12<00:00,  6.04it/s, acc=0.97389, gpu_memory=5.42 GB, lr=0.00000, valid_loss=1.0217]\n",
      "Epocha train 168/300: 100%|██████████| 180/180 [01:00<00:00,  2.97it/s, acc=0.75821, gpu_memory=5.42 GB, lr=0.00000, valid_loss=0.0909]\n",
      "Epocha val 168/300: 100%|██████████| 78/78 [00:08<00:00,  8.83it/s, acc=0.97033, gpu_memory=5.42 GB, lr=0.00000, valid_loss=1.0327]\n",
      "Epocha train 169/300: 100%|██████████| 180/180 [01:01<00:00,  2.95it/s, acc=0.75564, gpu_memory=5.42 GB, lr=0.00000, valid_loss=0.0897]\n",
      "Epocha val 169/300: 100%|██████████| 78/78 [00:12<00:00,  6.07it/s, acc=0.96978, gpu_memory=5.42 GB, lr=0.00000, valid_loss=1.0125]\n",
      "Epocha train 170/300: 100%|██████████| 180/180 [01:00<00:00,  2.95it/s, acc=0.75744, gpu_memory=5.42 GB, lr=0.00000, valid_loss=0.0889]\n",
      "Epocha val 170/300: 100%|██████████| 78/78 [00:11<00:00,  6.85it/s, acc=0.96989, gpu_memory=5.42 GB, lr=0.00000, valid_loss=1.0362]\n",
      "Epocha train 171/300: 100%|██████████| 180/180 [01:00<00:00,  2.97it/s, acc=0.76103, gpu_memory=5.42 GB, lr=0.00000, valid_loss=0.0899]\n",
      "Epocha val 171/300: 100%|██████████| 78/78 [00:11<00:00,  6.77it/s, acc=0.97033, gpu_memory=5.42 GB, lr=0.00000, valid_loss=1.0553]\n",
      "Epocha train 172/300: 100%|██████████| 180/180 [01:01<00:00,  2.94it/s, acc=0.75077, gpu_memory=5.42 GB, lr=0.00000, valid_loss=0.0848]\n",
      "Epocha val 172/300: 100%|██████████| 78/78 [00:12<00:00,  6.11it/s, acc=0.97433, gpu_memory=5.42 GB, lr=0.00000, valid_loss=1.0190]\n",
      "Epocha train 173/300: 100%|██████████| 180/180 [01:01<00:00,  2.93it/s, acc=0.75615, gpu_memory=5.42 GB, lr=0.00000, valid_loss=0.0899]\n",
      "Epocha val 173/300: 100%|██████████| 78/78 [00:09<00:00,  8.56it/s, acc=0.97067, gpu_memory=5.42 GB, lr=0.00000, valid_loss=1.0059]\n",
      "Epocha train 174/300: 100%|██████████| 180/180 [01:01<00:00,  2.94it/s, acc=0.76103, gpu_memory=5.42 GB, lr=0.00000, valid_loss=0.0966]\n",
      "Epocha val 174/300: 100%|██████████| 78/78 [00:12<00:00,  6.16it/s, acc=0.96878, gpu_memory=5.42 GB, lr=0.00000, valid_loss=1.0361]\n",
      "Epocha train 175/300: 100%|██████████| 180/180 [01:01<00:00,  2.94it/s, acc=0.75487, gpu_memory=5.42 GB, lr=0.00000, valid_loss=0.0880]\n",
      "Epocha val 175/300: 100%|██████████| 78/78 [00:11<00:00,  6.73it/s, acc=0.97056, gpu_memory=5.42 GB, lr=0.00000, valid_loss=0.9973]\n",
      "Epocha train 176/300: 100%|██████████| 180/180 [01:00<00:00,  2.98it/s, acc=0.76026, gpu_memory=5.42 GB, lr=0.00000, valid_loss=0.0871]\n",
      "Epocha val 176/300: 100%|██████████| 78/78 [00:10<00:00,  7.44it/s, acc=0.97156, gpu_memory=5.42 GB, lr=0.00000, valid_loss=1.0221]\n",
      "Epocha train 177/300: 100%|██████████| 180/180 [01:01<00:00,  2.93it/s, acc=0.76103, gpu_memory=5.42 GB, lr=0.00000, valid_loss=0.0858]\n",
      "Epocha val 177/300: 100%|██████████| 78/78 [00:12<00:00,  6.01it/s, acc=0.97144, gpu_memory=5.42 GB, lr=0.00000, valid_loss=1.0475]\n",
      "Epocha train 178/300: 100%|██████████| 180/180 [01:01<00:00,  2.93it/s, acc=0.75615, gpu_memory=5.42 GB, lr=0.00000, valid_loss=0.0951]\n",
      "Epocha val 178/300: 100%|██████████| 78/78 [00:08<00:00,  8.67it/s, acc=0.96744, gpu_memory=5.42 GB, lr=0.00000, valid_loss=1.0286]\n",
      "Epocha train 179/300: 100%|██████████| 180/180 [01:00<00:00,  2.96it/s, acc=0.75154, gpu_memory=5.42 GB, lr=0.00000, valid_loss=0.0926]\n",
      "Epocha val 179/300: 100%|██████████| 78/78 [00:12<00:00,  6.06it/s, acc=0.97022, gpu_memory=5.42 GB, lr=0.00000, valid_loss=1.0236]\n",
      "Epocha train 180/300: 100%|██████████| 180/180 [01:01<00:00,  2.92it/s, acc=0.76077, gpu_memory=5.42 GB, lr=0.00000, valid_loss=0.0896]\n",
      "Epocha val 180/300: 100%|██████████| 78/78 [00:11<00:00,  6.64it/s, acc=0.97133, gpu_memory=5.42 GB, lr=0.00000, valid_loss=1.0105]\n",
      "Epocha train 181/300: 100%|██████████| 180/180 [01:00<00:00,  2.98it/s, acc=0.75923, gpu_memory=5.42 GB, lr=0.00000, valid_loss=0.0806]\n",
      "Epocha val 181/300: 100%|██████████| 78/78 [00:11<00:00,  7.06it/s, acc=0.97267, gpu_memory=5.42 GB, lr=0.00000, valid_loss=1.0244]\n",
      "Epocha train 182/300: 100%|██████████| 180/180 [01:01<00:00,  2.92it/s, acc=0.75179, gpu_memory=5.42 GB, lr=0.00000, valid_loss=0.0926]\n",
      "Epocha val 182/300: 100%|██████████| 78/78 [00:12<00:00,  6.08it/s, acc=0.97078, gpu_memory=5.42 GB, lr=0.00000, valid_loss=1.0342]\n",
      "Epocha train 183/300: 100%|██████████| 180/180 [01:01<00:00,  2.95it/s, acc=0.75692, gpu_memory=5.42 GB, lr=0.00000, valid_loss=0.0866]\n",
      "Epocha val 183/300: 100%|██████████| 78/78 [00:09<00:00,  8.64it/s, acc=0.97356, gpu_memory=5.42 GB, lr=0.00000, valid_loss=1.0334]\n",
      "Epocha train 184/300: 100%|██████████| 180/180 [01:01<00:00,  2.95it/s, acc=0.75538, gpu_memory=5.42 GB, lr=0.00000, valid_loss=0.0935]\n",
      "Epocha val 184/300: 100%|██████████| 78/78 [00:12<00:00,  6.13it/s, acc=0.96867, gpu_memory=5.42 GB, lr=0.00000, valid_loss=1.0292]\n",
      "Epocha train 185/300: 100%|██████████| 180/180 [01:01<00:00,  2.95it/s, acc=0.75385, gpu_memory=5.42 GB, lr=0.00000, valid_loss=0.0878]\n",
      "Epocha val 185/300: 100%|██████████| 78/78 [00:11<00:00,  6.74it/s, acc=0.97144, gpu_memory=5.42 GB, lr=0.00000, valid_loss=1.0050]\n",
      "Epocha train 186/300: 100%|██████████| 180/180 [01:00<00:00,  2.97it/s, acc=0.75846, gpu_memory=5.42 GB, lr=0.00000, valid_loss=0.0919]\n",
      "Epocha val 186/300: 100%|██████████| 78/78 [00:11<00:00,  6.97it/s, acc=0.96833, gpu_memory=5.42 GB, lr=0.00000, valid_loss=1.0111]\n",
      "Epocha train 187/300: 100%|██████████| 180/180 [01:01<00:00,  2.93it/s, acc=0.75615, gpu_memory=5.42 GB, lr=0.00000, valid_loss=0.0908]\n",
      "Epocha val 187/300: 100%|██████████| 78/78 [00:12<00:00,  6.05it/s, acc=0.96989, gpu_memory=5.42 GB, lr=0.00000, valid_loss=1.0146]\n",
      "Epocha train 188/300: 100%|██████████| 180/180 [01:01<00:00,  2.94it/s, acc=0.76333, gpu_memory=5.42 GB, lr=0.00000, valid_loss=0.0842]\n",
      "Epocha val 188/300: 100%|██████████| 78/78 [00:09<00:00,  8.30it/s, acc=0.97289, gpu_memory=5.42 GB, lr=0.00000, valid_loss=1.0334]\n",
      "Epocha train 189/300: 100%|██████████| 180/180 [01:01<00:00,  2.94it/s, acc=0.75974, gpu_memory=5.42 GB, lr=0.00000, valid_loss=0.0871]\n",
      "Epocha val 189/300: 100%|██████████| 78/78 [00:12<00:00,  6.08it/s, acc=0.97200, gpu_memory=5.42 GB, lr=0.00000, valid_loss=1.0527]\n",
      "Epocha train 190/300: 100%|██████████| 180/180 [01:01<00:00,  2.93it/s, acc=0.75436, gpu_memory=5.42 GB, lr=0.00000, valid_loss=0.0904]\n",
      "Epocha val 190/300: 100%|██████████| 78/78 [00:10<00:00,  7.45it/s, acc=0.97167, gpu_memory=5.42 GB, lr=0.00000, valid_loss=1.0298]\n",
      "Epocha train 191/300: 100%|██████████| 180/180 [01:00<00:00,  2.99it/s, acc=0.75744, gpu_memory=5.42 GB, lr=0.00000, valid_loss=0.0928]\n",
      "Epocha val 191/300: 100%|██████████| 78/78 [00:10<00:00,  7.11it/s, acc=0.96967, gpu_memory=5.42 GB, lr=0.00000, valid_loss=1.0259]\n",
      "Epocha train 192/300: 100%|██████████| 180/180 [01:01<00:00,  2.91it/s, acc=0.75513, gpu_memory=5.42 GB, lr=0.00000, valid_loss=0.0864]\n",
      "Epocha val 192/300: 100%|██████████| 78/78 [00:12<00:00,  6.09it/s, acc=0.97089, gpu_memory=5.42 GB, lr=0.00000, valid_loss=1.0082]\n",
      "Epocha train 193/300: 100%|██████████| 180/180 [01:00<00:00,  2.96it/s, acc=0.76128, gpu_memory=5.42 GB, lr=0.00000, valid_loss=0.0923]\n",
      "Epocha val 193/300: 100%|██████████| 78/78 [00:09<00:00,  8.43it/s, acc=0.97011, gpu_memory=5.42 GB, lr=0.00000, valid_loss=1.0369]\n",
      "Epocha train 194/300: 100%|██████████| 180/180 [01:01<00:00,  2.94it/s, acc=0.75718, gpu_memory=5.42 GB, lr=0.00000, valid_loss=0.0874]\n",
      "Epocha val 194/300: 100%|██████████| 78/78 [00:12<00:00,  6.03it/s, acc=0.97178, gpu_memory=5.42 GB, lr=0.00000, valid_loss=1.0286]\n",
      "Epocha train 195/300: 100%|██████████| 180/180 [01:01<00:00,  2.93it/s, acc=0.75872, gpu_memory=5.42 GB, lr=0.00000, valid_loss=0.0899]\n",
      "Epocha val 195/300: 100%|██████████| 78/78 [00:11<00:00,  7.06it/s, acc=0.96933, gpu_memory=5.42 GB, lr=0.00000, valid_loss=1.0071]\n",
      "Epocha train 196/300: 100%|██████████| 180/180 [01:00<00:00,  2.96it/s, acc=0.76385, gpu_memory=5.42 GB, lr=0.00000, valid_loss=0.0820]\n",
      "Epocha val 196/300: 100%|██████████| 78/78 [00:11<00:00,  6.58it/s, acc=0.97167, gpu_memory=5.42 GB, lr=0.00000, valid_loss=1.0089]\n",
      "Epocha train 197/300: 100%|██████████| 180/180 [01:01<00:00,  2.94it/s, acc=0.75795, gpu_memory=5.42 GB, lr=0.00000, valid_loss=0.0894]\n",
      "Epocha val 197/300: 100%|██████████| 78/78 [00:12<00:00,  6.18it/s, acc=0.97022, gpu_memory=5.42 GB, lr=0.00000, valid_loss=1.0231]\n",
      "Epocha train 198/300: 100%|██████████| 180/180 [01:00<00:00,  2.96it/s, acc=0.75872, gpu_memory=5.42 GB, lr=0.00000, valid_loss=0.0923]\n",
      "Epocha val 198/300: 100%|██████████| 78/78 [00:09<00:00,  8.57it/s, acc=0.96967, gpu_memory=5.42 GB, lr=0.00000, valid_loss=1.0128]\n",
      "Epocha train 199/300: 100%|██████████| 180/180 [01:01<00:00,  2.95it/s, acc=0.76077, gpu_memory=5.42 GB, lr=0.00000, valid_loss=0.0903]\n",
      "Epocha val 199/300: 100%|██████████| 78/78 [00:12<00:00,  6.12it/s, acc=0.96933, gpu_memory=5.42 GB, lr=0.00000, valid_loss=1.0261]\n",
      "Epocha train 200/300: 100%|██████████| 180/180 [01:01<00:00,  2.94it/s, acc=0.75692, gpu_memory=5.42 GB, lr=0.00000, valid_loss=0.0890]\n",
      "Epocha val 200/300: 100%|██████████| 78/78 [00:11<00:00,  6.87it/s, acc=0.97089, gpu_memory=5.42 GB, lr=0.00000, valid_loss=1.0341]\n",
      "Epocha train 201/300: 100%|██████████| 180/180 [01:00<00:00,  2.96it/s, acc=0.76000, gpu_memory=5.42 GB, lr=0.00000, valid_loss=0.0863]\n",
      "Epocha val 201/300: 100%|██████████| 78/78 [00:11<00:00,  6.64it/s, acc=0.97356, gpu_memory=5.42 GB, lr=0.00000, valid_loss=1.0238]\n",
      "Epocha train 202/300: 100%|██████████| 180/180 [01:01<00:00,  2.93it/s, acc=0.75897, gpu_memory=5.42 GB, lr=0.00000, valid_loss=0.0892]\n",
      "Epocha val 202/300: 100%|██████████| 78/78 [00:12<00:00,  6.06it/s, acc=0.97167, gpu_memory=5.42 GB, lr=0.00000, valid_loss=1.0121]\n",
      "Epocha train 203/300: 100%|██████████| 180/180 [01:00<00:00,  2.98it/s, acc=0.75897, gpu_memory=5.42 GB, lr=0.00000, valid_loss=0.0898]\n",
      "Epocha val 203/300: 100%|██████████| 78/78 [00:08<00:00,  8.85it/s, acc=0.96800, gpu_memory=5.42 GB, lr=0.00000, valid_loss=1.0262]\n",
      "Epocha train 204/300: 100%|██████████| 180/180 [01:01<00:00,  2.93it/s, acc=0.75641, gpu_memory=5.42 GB, lr=0.00000, valid_loss=0.0950]\n",
      "Epocha val 204/300: 100%|██████████| 78/78 [00:12<00:00,  6.10it/s, acc=0.96767, gpu_memory=5.42 GB, lr=0.00000, valid_loss=1.0148]\n",
      "Epocha train 205/300: 100%|██████████| 180/180 [01:01<00:00,  2.94it/s, acc=0.75769, gpu_memory=5.42 GB, lr=0.00000, valid_loss=0.0844]\n",
      "Epocha val 205/300: 100%|██████████| 78/78 [00:10<00:00,  7.25it/s, acc=0.97089, gpu_memory=5.42 GB, lr=0.00000, valid_loss=1.0122]\n",
      "Epocha train 206/300: 100%|██████████| 180/180 [01:00<00:00,  2.97it/s, acc=0.76410, gpu_memory=5.42 GB, lr=0.00000, valid_loss=0.0873]\n",
      "Epocha val 206/300: 100%|██████████| 78/78 [00:12<00:00,  6.29it/s, acc=0.97367, gpu_memory=5.42 GB, lr=0.00000, valid_loss=1.0045]\n",
      "Epocha train 207/300: 100%|██████████| 180/180 [01:02<00:00,  2.90it/s, acc=0.75949, gpu_memory=5.42 GB, lr=0.00000, valid_loss=0.0916]\n",
      "Epocha val 207/300: 100%|██████████| 78/78 [00:12<00:00,  6.11it/s, acc=0.96911, gpu_memory=5.42 GB, lr=0.00000, valid_loss=1.0110]\n",
      "Epocha train 208/300: 100%|██████████| 180/180 [01:00<00:00,  2.98it/s, acc=0.75385, gpu_memory=5.42 GB, lr=0.00000, valid_loss=0.0863]\n",
      "Epocha val 208/300: 100%|██████████| 78/78 [00:09<00:00,  8.25it/s, acc=0.97122, gpu_memory=5.42 GB, lr=0.00000, valid_loss=1.0126]\n",
      "Epocha train 209/300: 100%|██████████| 180/180 [01:01<00:00,  2.92it/s, acc=0.76026, gpu_memory=5.42 GB, lr=0.00000, valid_loss=0.0916]\n",
      "Epocha val 209/300: 100%|██████████| 78/78 [00:12<00:00,  6.08it/s, acc=0.96978, gpu_memory=5.42 GB, lr=0.00000, valid_loss=1.0120]\n",
      "Epocha train 210/300: 100%|██████████| 180/180 [01:01<00:00,  2.92it/s, acc=0.75795, gpu_memory=5.42 GB, lr=0.00000, valid_loss=0.0894]\n",
      "Epocha val 210/300: 100%|██████████| 78/78 [00:09<00:00,  8.06it/s, acc=0.97100, gpu_memory=5.42 GB, lr=0.00000, valid_loss=0.9990]\n",
      "Epocha train 211/300: 100%|██████████| 180/180 [01:00<00:00,  2.99it/s, acc=0.75974, gpu_memory=5.42 GB, lr=0.00000, valid_loss=0.0906]\n",
      "Epocha val 211/300: 100%|██████████| 78/78 [00:12<00:00,  6.10it/s, acc=0.97033, gpu_memory=5.42 GB, lr=0.00000, valid_loss=1.0332]\n",
      "Epocha train 212/300: 100%|██████████| 180/180 [01:01<00:00,  2.92it/s, acc=0.75846, gpu_memory=5.42 GB, lr=0.00000, valid_loss=0.0836]\n",
      "Epocha val 212/300: 100%|██████████| 78/78 [00:12<00:00,  6.23it/s, acc=0.97322, gpu_memory=5.42 GB, lr=0.00000, valid_loss=1.0051]\n",
      "Epocha train 213/300: 100%|██████████| 180/180 [01:00<00:00,  2.98it/s, acc=0.76128, gpu_memory=5.42 GB, lr=0.00000, valid_loss=0.0914]\n",
      "Epocha val 213/300: 100%|██████████| 78/78 [00:09<00:00,  7.85it/s, acc=0.97067, gpu_memory=5.42 GB, lr=0.00000, valid_loss=1.0274]\n",
      "Epocha train 214/300: 100%|██████████| 180/180 [01:00<00:00,  2.95it/s, acc=0.75615, gpu_memory=5.42 GB, lr=0.00000, valid_loss=0.0857]\n",
      "Epocha val 214/300: 100%|██████████| 78/78 [00:12<00:00,  6.14it/s, acc=0.97211, gpu_memory=5.42 GB, lr=0.00000, valid_loss=1.0142]\n",
      "Epocha train 215/300: 100%|██████████| 180/180 [01:01<00:00,  2.94it/s, acc=0.75615, gpu_memory=5.42 GB, lr=0.00000, valid_loss=0.0911]\n",
      "Epocha val 215/300: 100%|██████████| 78/78 [00:09<00:00,  8.08it/s, acc=0.97000, gpu_memory=5.42 GB, lr=0.00000, valid_loss=1.0391]\n",
      "Epocha train 216/300: 100%|██████████| 180/180 [01:00<00:00,  3.00it/s, acc=0.75641, gpu_memory=5.42 GB, lr=0.00000, valid_loss=0.0873]\n",
      "Epocha val 216/300: 100%|██████████| 78/78 [00:12<00:00,  6.16it/s, acc=0.97011, gpu_memory=5.42 GB, lr=0.00000, valid_loss=1.0036]\n",
      "Epocha train 217/300: 100%|██████████| 180/180 [01:01<00:00,  2.94it/s, acc=0.76538, gpu_memory=5.42 GB, lr=0.00000, valid_loss=0.0869]\n",
      "Epocha val 217/300: 100%|██████████| 78/78 [00:12<00:00,  6.14it/s, acc=0.97144, gpu_memory=5.42 GB, lr=0.00000, valid_loss=1.0052]\n",
      "Epocha train 218/300: 100%|██████████| 180/180 [01:00<00:00,  2.99it/s, acc=0.76436, gpu_memory=5.42 GB, lr=0.00000, valid_loss=0.0825]\n",
      "Epocha val 218/300: 100%|██████████| 78/78 [00:09<00:00,  8.10it/s, acc=0.97500, gpu_memory=5.42 GB, lr=0.00000, valid_loss=1.0356]\n",
      "Epocha train 219/300: 100%|██████████| 180/180 [01:01<00:00,  2.93it/s, acc=0.76462, gpu_memory=5.42 GB, lr=0.00000, valid_loss=0.0880]\n",
      "Epocha val 219/300: 100%|██████████| 78/78 [00:12<00:00,  6.12it/s, acc=0.97267, gpu_memory=5.42 GB, lr=0.00000, valid_loss=1.0333]\n",
      "Epocha train 220/300: 100%|██████████| 180/180 [01:00<00:00,  2.96it/s, acc=0.75077, gpu_memory=5.42 GB, lr=0.00000, valid_loss=0.0827]\n",
      "Epocha val 220/300: 100%|██████████| 78/78 [00:09<00:00,  7.98it/s, acc=0.97311, gpu_memory=5.42 GB, lr=0.00000, valid_loss=1.0079]\n",
      "Epocha train 221/300: 100%|██████████| 180/180 [01:00<00:00,  2.98it/s, acc=0.75769, gpu_memory=5.42 GB, lr=0.00000, valid_loss=0.0912]\n",
      "Epocha val 221/300: 100%|██████████| 78/78 [00:13<00:00,  5.64it/s, acc=0.97122, gpu_memory=5.42 GB, lr=0.00000, valid_loss=1.0319]\n",
      "Epocha train 222/300: 100%|██████████| 180/180 [01:02<00:00,  2.90it/s, acc=0.75205, gpu_memory=5.42 GB, lr=0.00000, valid_loss=0.0865]\n",
      "Epocha val 222/300: 100%|██████████| 78/78 [00:12<00:00,  6.03it/s, acc=0.97056, gpu_memory=5.42 GB, lr=0.00000, valid_loss=1.0362]\n",
      "Epocha train 223/300: 100%|██████████| 180/180 [01:00<00:00,  2.99it/s, acc=0.75897, gpu_memory=5.42 GB, lr=0.00000, valid_loss=0.0891]\n",
      "Epocha val 223/300: 100%|██████████| 78/78 [00:09<00:00,  7.90it/s, acc=0.96833, gpu_memory=5.42 GB, lr=0.00000, valid_loss=1.0359]\n",
      "Epocha train 224/300: 100%|██████████| 180/180 [01:01<00:00,  2.93it/s, acc=0.75692, gpu_memory=5.42 GB, lr=0.00000, valid_loss=0.0872]\n",
      "Epocha val 224/300: 100%|██████████| 78/78 [00:12<00:00,  6.20it/s, acc=0.97133, gpu_memory=5.42 GB, lr=0.00000, valid_loss=1.0126]\n",
      "Epocha train 225/300: 100%|██████████| 180/180 [01:01<00:00,  2.94it/s, acc=0.75949, gpu_memory=5.42 GB, lr=0.00000, valid_loss=0.0880]\n",
      "Epocha val 225/300: 100%|██████████| 78/78 [00:09<00:00,  8.02it/s, acc=0.97022, gpu_memory=5.42 GB, lr=0.00000, valid_loss=1.0166]\n",
      "Epocha train 226/300: 100%|██████████| 180/180 [01:00<00:00,  2.97it/s, acc=0.75256, gpu_memory=5.42 GB, lr=0.00000, valid_loss=0.0899]\n",
      "Epocha val 226/300: 100%|██████████| 78/78 [00:12<00:00,  6.23it/s, acc=0.96944, gpu_memory=5.42 GB, lr=0.00000, valid_loss=1.0268]\n",
      "Epocha train 227/300: 100%|██████████| 180/180 [01:01<00:00,  2.93it/s, acc=0.76051, gpu_memory=5.42 GB, lr=0.00000, valid_loss=0.0873]\n",
      "Epocha val 227/300: 100%|██████████| 78/78 [00:12<00:00,  6.19it/s, acc=0.97267, gpu_memory=5.42 GB, lr=0.00000, valid_loss=1.0344]\n",
      "Epocha train 228/300: 100%|██████████| 180/180 [01:00<00:00,  2.99it/s, acc=0.75538, gpu_memory=5.42 GB, lr=0.00000, valid_loss=0.0876]\n",
      "Epocha val 228/300: 100%|██████████| 78/78 [00:09<00:00,  8.36it/s, acc=0.96867, gpu_memory=5.42 GB, lr=0.00000, valid_loss=1.0293]\n",
      "Epocha train 229/300: 100%|██████████| 180/180 [01:00<00:00,  2.95it/s, acc=0.75590, gpu_memory=5.42 GB, lr=0.00000, valid_loss=0.0881]\n",
      "Epocha val 229/300: 100%|██████████| 78/78 [00:12<00:00,  6.12it/s, acc=0.97222, gpu_memory=5.42 GB, lr=0.00000, valid_loss=1.0286]\n",
      "Epocha train 230/300: 100%|██████████| 180/180 [01:02<00:00,  2.90it/s, acc=0.75308, gpu_memory=5.42 GB, lr=0.00000, valid_loss=0.0807]\n",
      "Epocha val 230/300: 100%|██████████| 78/78 [00:09<00:00,  8.04it/s, acc=0.97167, gpu_memory=5.42 GB, lr=0.00000, valid_loss=1.0461]\n",
      "Epocha train 231/300: 100%|██████████| 180/180 [01:00<00:00,  2.97it/s, acc=0.75641, gpu_memory=5.42 GB, lr=0.00000, valid_loss=0.0907]\n",
      "Epocha val 231/300: 100%|██████████| 78/78 [00:12<00:00,  6.14it/s, acc=0.96933, gpu_memory=5.42 GB, lr=0.00000, valid_loss=1.0319]\n",
      "Epocha train 232/300: 100%|██████████| 180/180 [01:01<00:00,  2.94it/s, acc=0.75692, gpu_memory=5.42 GB, lr=0.00000, valid_loss=0.0927]\n",
      "Epocha val 232/300: 100%|██████████| 78/78 [00:12<00:00,  6.09it/s, acc=0.97133, gpu_memory=5.42 GB, lr=0.00000, valid_loss=1.0293]\n",
      "Epocha train 233/300: 100%|██████████| 180/180 [01:00<00:00,  2.97it/s, acc=0.75769, gpu_memory=5.42 GB, lr=0.00000, valid_loss=0.0830]\n",
      "Epocha val 233/300: 100%|██████████| 78/78 [00:09<00:00,  8.13it/s, acc=0.97511, gpu_memory=5.42 GB, lr=0.00000, valid_loss=1.0153]\n",
      "Epocha train 234/300: 100%|██████████| 180/180 [01:01<00:00,  2.91it/s, acc=0.76179, gpu_memory=5.42 GB, lr=0.00000, valid_loss=0.0841]\n",
      "Epocha val 234/300: 100%|██████████| 78/78 [00:12<00:00,  6.11it/s, acc=0.97200, gpu_memory=5.42 GB, lr=0.00000, valid_loss=1.0212]\n",
      "Epocha train 235/300: 100%|██████████| 180/180 [01:01<00:00,  2.94it/s, acc=0.75949, gpu_memory=5.42 GB, lr=0.00000, valid_loss=0.0889]\n",
      "Epocha val 235/300: 100%|██████████| 78/78 [00:09<00:00,  8.13it/s, acc=0.97178, gpu_memory=5.42 GB, lr=0.00000, valid_loss=1.0396]\n",
      "Epocha train 236/300: 100%|██████████| 180/180 [01:00<00:00,  2.98it/s, acc=0.75154, gpu_memory=5.42 GB, lr=0.00000, valid_loss=0.0818]\n",
      "Epocha val 236/300: 100%|██████████| 78/78 [00:12<00:00,  6.09it/s, acc=0.97156, gpu_memory=5.42 GB, lr=0.00000, valid_loss=1.0265]\n",
      "Epocha train 237/300: 100%|██████████| 180/180 [01:01<00:00,  2.92it/s, acc=0.75564, gpu_memory=5.42 GB, lr=0.00000, valid_loss=0.0946]\n",
      "Epocha val 237/300: 100%|██████████| 78/78 [00:12<00:00,  6.15it/s, acc=0.96967, gpu_memory=5.42 GB, lr=0.00000, valid_loss=1.0133]\n",
      "Epocha train 238/300: 100%|██████████| 180/180 [01:00<00:00,  2.96it/s, acc=0.75436, gpu_memory=5.42 GB, lr=0.00000, valid_loss=0.0844]\n",
      "Epocha val 238/300: 100%|██████████| 78/78 [00:10<00:00,  7.23it/s, acc=0.97267, gpu_memory=5.42 GB, lr=0.00000, valid_loss=1.0189]\n",
      "Epocha train 239/300: 100%|██████████| 180/180 [01:01<00:00,  2.91it/s, acc=0.76154, gpu_memory=5.42 GB, lr=0.00000, valid_loss=0.0874]\n",
      "Epocha val 239/300: 100%|██████████| 78/78 [00:12<00:00,  6.13it/s, acc=0.97000, gpu_memory=5.42 GB, lr=0.00000, valid_loss=1.0196]\n",
      "Epocha train 240/300: 100%|██████████| 180/180 [01:01<00:00,  2.93it/s, acc=0.75256, gpu_memory=5.42 GB, lr=0.00000, valid_loss=0.0817]\n",
      "Epocha val 240/300: 100%|██████████| 78/78 [00:09<00:00,  8.53it/s, acc=0.97356, gpu_memory=5.42 GB, lr=0.00000, valid_loss=1.0304]\n",
      "Epocha train 241/300: 100%|██████████| 180/180 [01:01<00:00,  2.94it/s, acc=0.75897, gpu_memory=5.42 GB, lr=0.00000, valid_loss=0.0791]\n",
      "Epocha val 241/300: 100%|██████████| 78/78 [00:12<00:00,  6.15it/s, acc=0.97344, gpu_memory=5.42 GB, lr=0.00000, valid_loss=1.0461]\n",
      "Epocha train 242/300: 100%|██████████| 180/180 [01:01<00:00,  2.94it/s, acc=0.75538, gpu_memory=5.42 GB, lr=0.00000, valid_loss=0.0866]\n",
      "Epocha val 242/300: 100%|██████████| 78/78 [00:11<00:00,  6.66it/s, acc=0.97178, gpu_memory=5.42 GB, lr=0.00000, valid_loss=1.0230]\n",
      "Epocha train 243/300: 100%|██████████| 180/180 [01:00<00:00,  2.96it/s, acc=0.76051, gpu_memory=5.42 GB, lr=0.00000, valid_loss=0.0906]\n",
      "Epocha val 243/300: 100%|██████████| 78/78 [00:11<00:00,  6.83it/s, acc=0.97022, gpu_memory=5.42 GB, lr=0.00000, valid_loss=1.0353]\n",
      "Epocha train 244/300: 100%|██████████| 180/180 [01:01<00:00,  2.92it/s, acc=0.76077, gpu_memory=5.42 GB, lr=0.00000, valid_loss=0.0919]\n",
      "Epocha val 244/300: 100%|██████████| 78/78 [00:13<00:00,  5.97it/s, acc=0.97167, gpu_memory=5.42 GB, lr=0.00000, valid_loss=1.0416]\n",
      "Epocha train 245/300: 100%|██████████| 180/180 [01:00<00:00,  2.97it/s, acc=0.75821, gpu_memory=5.42 GB, lr=0.00000, valid_loss=0.0804]\n",
      "Epocha val 245/300: 100%|██████████| 78/78 [00:09<00:00,  8.65it/s, acc=0.97322, gpu_memory=5.42 GB, lr=0.00000, valid_loss=1.0365]\n",
      "Epocha train 246/300: 100%|██████████| 180/180 [01:01<00:00,  2.93it/s, acc=0.76103, gpu_memory=5.42 GB, lr=0.00000, valid_loss=0.0838]\n",
      "Epocha val 246/300: 100%|██████████| 78/78 [00:12<00:00,  6.10it/s, acc=0.97244, gpu_memory=5.42 GB, lr=0.00000, valid_loss=1.0202]\n",
      "Epocha train 247/300: 100%|██████████| 180/180 [01:01<00:00,  2.92it/s, acc=0.76231, gpu_memory=5.42 GB, lr=0.00000, valid_loss=0.0987]\n",
      "Epocha val 247/300: 100%|██████████| 78/78 [00:10<00:00,  7.44it/s, acc=0.96700, gpu_memory=5.42 GB, lr=0.00000, valid_loss=1.0059]\n",
      "Epocha train 248/300: 100%|██████████| 180/180 [01:00<00:00,  2.97it/s, acc=0.75974, gpu_memory=5.42 GB, lr=0.00000, valid_loss=0.0954]\n",
      "Epocha val 248/300: 100%|██████████| 78/78 [00:12<00:00,  6.32it/s, acc=0.96711, gpu_memory=5.42 GB, lr=0.00000, valid_loss=1.0172]\n",
      "Epocha train 249/300: 100%|██████████| 180/180 [01:01<00:00,  2.93it/s, acc=0.76026, gpu_memory=5.42 GB, lr=0.00000, valid_loss=0.0858]\n",
      "Epocha val 249/300: 100%|██████████| 78/78 [00:12<00:00,  6.12it/s, acc=0.97200, gpu_memory=5.42 GB, lr=0.00000, valid_loss=1.0253]\n",
      "Epocha train 250/300: 100%|██████████| 180/180 [01:00<00:00,  2.98it/s, acc=0.75282, gpu_memory=5.42 GB, lr=0.00000, valid_loss=0.0894]\n",
      "Epocha val 250/300: 100%|██████████| 78/78 [00:09<00:00,  7.81it/s, acc=0.96789, gpu_memory=5.42 GB, lr=0.00000, valid_loss=1.0267]\n",
      "Epocha train 251/300: 100%|██████████| 180/180 [01:01<00:00,  2.92it/s, acc=0.75795, gpu_memory=5.42 GB, lr=0.00000, valid_loss=0.0864]\n",
      "Epocha val 251/300: 100%|██████████| 78/78 [00:12<00:00,  6.15it/s, acc=0.97256, gpu_memory=5.42 GB, lr=0.00000, valid_loss=1.0228]\n",
      "Epocha train 252/300: 100%|██████████| 180/180 [01:01<00:00,  2.93it/s, acc=0.75897, gpu_memory=5.42 GB, lr=0.00000, valid_loss=0.0904]\n",
      "Epocha val 252/300: 100%|██████████| 78/78 [00:09<00:00,  8.13it/s, acc=0.97211, gpu_memory=5.42 GB, lr=0.00000, valid_loss=1.0277]\n",
      "Epocha train 253/300: 100%|██████████| 180/180 [01:00<00:00,  2.98it/s, acc=0.75154, gpu_memory=5.42 GB, lr=0.00000, valid_loss=0.0823]\n",
      "Epocha val 253/300: 100%|██████████| 78/78 [00:12<00:00,  6.08it/s, acc=0.97344, gpu_memory=5.42 GB, lr=0.00000, valid_loss=1.0280]\n",
      "Epocha train 254/300: 100%|██████████| 180/180 [01:01<00:00,  2.93it/s, acc=0.75821, gpu_memory=5.42 GB, lr=0.00000, valid_loss=0.0893]\n",
      "Epocha val 254/300: 100%|██████████| 78/78 [00:12<00:00,  6.08it/s, acc=0.97144, gpu_memory=5.42 GB, lr=0.00000, valid_loss=1.0139]\n",
      "Epocha train 255/300: 100%|██████████| 180/180 [01:00<00:00,  2.97it/s, acc=0.75923, gpu_memory=5.42 GB, lr=0.00000, valid_loss=0.0929]\n",
      "Epocha val 255/300: 100%|██████████| 78/78 [00:10<00:00,  7.56it/s, acc=0.96833, gpu_memory=5.42 GB, lr=0.00000, valid_loss=1.0135]\n",
      "Epocha train 256/300: 100%|██████████| 180/180 [01:01<00:00,  2.93it/s, acc=0.76077, gpu_memory=5.42 GB, lr=0.00000, valid_loss=0.0851]\n",
      "Epocha val 256/300: 100%|██████████| 78/78 [00:12<00:00,  6.06it/s, acc=0.97167, gpu_memory=5.42 GB, lr=0.00000, valid_loss=1.0272]\n",
      "Epocha train 257/300: 100%|██████████| 180/180 [01:01<00:00,  2.91it/s, acc=0.75538, gpu_memory=5.42 GB, lr=0.00000, valid_loss=0.0910]\n",
      "Epocha val 257/300: 100%|██████████| 78/78 [00:08<00:00,  8.69it/s, acc=0.96956, gpu_memory=5.42 GB, lr=0.00000, valid_loss=1.0290]\n",
      "Epocha train 258/300: 100%|██████████| 180/180 [01:00<00:00,  2.97it/s, acc=0.75462, gpu_memory=5.42 GB, lr=0.00000, valid_loss=0.0841]\n",
      "Epocha val 258/300: 100%|██████████| 78/78 [00:12<00:00,  6.13it/s, acc=0.97233, gpu_memory=5.42 GB, lr=0.00000, valid_loss=1.0362]\n",
      "Epocha train 259/300: 100%|██████████| 180/180 [01:02<00:00,  2.90it/s, acc=0.76077, gpu_memory=5.42 GB, lr=0.00000, valid_loss=0.0864]\n",
      "Epocha val 259/300: 100%|██████████| 78/78 [00:11<00:00,  6.75it/s, acc=0.97367, gpu_memory=5.42 GB, lr=0.00000, valid_loss=1.0134]\n",
      "Epocha train 260/300: 100%|██████████| 180/180 [01:00<00:00,  2.96it/s, acc=0.76154, gpu_memory=5.42 GB, lr=0.00000, valid_loss=0.0856]\n",
      "Epocha val 260/300: 100%|██████████| 78/78 [00:11<00:00,  6.69it/s, acc=0.97156, gpu_memory=5.42 GB, lr=0.00000, valid_loss=1.0133]\n",
      "Epocha train 261/300: 100%|██████████| 180/180 [01:01<00:00,  2.92it/s, acc=0.76103, gpu_memory=5.42 GB, lr=0.00000, valid_loss=0.0813]\n",
      "Epocha val 261/300: 100%|██████████| 78/78 [00:12<00:00,  6.07it/s, acc=0.97367, gpu_memory=5.42 GB, lr=0.00000, valid_loss=1.0242]\n",
      "Epocha train 262/300: 100%|██████████| 180/180 [01:01<00:00,  2.94it/s, acc=0.75564, gpu_memory=5.42 GB, lr=0.00000, valid_loss=0.0869]\n",
      "Epocha val 262/300: 100%|██████████| 78/78 [00:09<00:00,  8.58it/s, acc=0.97200, gpu_memory=5.42 GB, lr=0.00000, valid_loss=1.0223]\n",
      "Epocha train 263/300: 100%|██████████| 180/180 [01:01<00:00,  2.94it/s, acc=0.75231, gpu_memory=5.42 GB, lr=0.00000, valid_loss=0.0876]\n",
      "Epocha val 263/300: 100%|██████████| 78/78 [00:12<00:00,  6.14it/s, acc=0.97033, gpu_memory=5.42 GB, lr=0.00000, valid_loss=1.0215]\n",
      "Epocha train 264/300: 100%|██████████| 180/180 [01:01<00:00,  2.92it/s, acc=0.75769, gpu_memory=5.42 GB, lr=0.00000, valid_loss=0.0842]\n",
      "Epocha val 264/300: 100%|██████████| 78/78 [00:11<00:00,  6.93it/s, acc=0.97244, gpu_memory=5.42 GB, lr=0.00000, valid_loss=1.0339]\n",
      "Epocha train 265/300: 100%|██████████| 180/180 [01:01<00:00,  2.94it/s, acc=0.75692, gpu_memory=5.42 GB, lr=0.00000, valid_loss=0.0878]\n",
      "Epocha val 265/300: 100%|██████████| 78/78 [00:11<00:00,  6.50it/s, acc=0.97211, gpu_memory=5.42 GB, lr=0.00000, valid_loss=1.0140]\n",
      "Epocha train 266/300: 100%|██████████| 180/180 [01:01<00:00,  2.94it/s, acc=0.75590, gpu_memory=5.42 GB, lr=0.00000, valid_loss=0.0826]\n",
      "Epocha val 266/300: 100%|██████████| 78/78 [00:12<00:00,  6.11it/s, acc=0.97233, gpu_memory=5.42 GB, lr=0.00000, valid_loss=1.0224]\n",
      "Epocha train 267/300: 100%|██████████| 180/180 [01:00<00:00,  2.95it/s, acc=0.75821, gpu_memory=5.42 GB, lr=0.00000, valid_loss=0.0890]\n",
      "Epocha val 267/300: 100%|██████████| 78/78 [00:09<00:00,  8.25it/s, acc=0.97133, gpu_memory=5.42 GB, lr=0.00000, valid_loss=1.0159]\n",
      "Epocha train 268/300: 100%|██████████| 180/180 [01:01<00:00,  2.92it/s, acc=0.75897, gpu_memory=5.42 GB, lr=0.00000, valid_loss=0.0865]\n",
      "Epocha val 268/300: 100%|██████████| 78/78 [00:12<00:00,  6.15it/s, acc=0.97111, gpu_memory=5.42 GB, lr=0.00000, valid_loss=1.0200]\n",
      "Epocha train 269/300: 100%|██████████| 180/180 [01:01<00:00,  2.93it/s, acc=0.75590, gpu_memory=5.42 GB, lr=0.00000, valid_loss=0.0911]\n",
      "Epocha val 269/300: 100%|██████████| 78/78 [00:09<00:00,  7.93it/s, acc=0.96856, gpu_memory=5.42 GB, lr=0.00000, valid_loss=1.0327]\n",
      "Epocha train 270/300: 100%|██████████| 180/180 [01:00<00:00,  2.98it/s, acc=0.76000, gpu_memory=5.42 GB, lr=0.00000, valid_loss=0.0848]\n",
      "Epocha val 270/300: 100%|██████████| 78/78 [00:12<00:00,  6.12it/s, acc=0.97189, gpu_memory=5.42 GB, lr=0.00000, valid_loss=1.0128]\n",
      "Epocha train 271/300: 100%|██████████| 180/180 [01:01<00:00,  2.95it/s, acc=0.75795, gpu_memory=5.42 GB, lr=0.00000, valid_loss=0.0861]\n",
      "Epocha val 271/300: 100%|██████████| 78/78 [00:12<00:00,  6.02it/s, acc=0.97311, gpu_memory=5.42 GB, lr=0.00000, valid_loss=1.0146]\n",
      "Epocha train 272/300: 100%|██████████| 180/180 [01:00<00:00,  2.98it/s, acc=0.75641, gpu_memory=5.42 GB, lr=0.00000, valid_loss=0.0842]\n",
      "Epocha val 272/300: 100%|██████████| 78/78 [00:10<00:00,  7.53it/s, acc=0.97367, gpu_memory=5.42 GB, lr=0.00000, valid_loss=1.0252]\n",
      "Epocha train 273/300: 100%|██████████| 180/180 [01:02<00:00,  2.90it/s, acc=0.75821, gpu_memory=5.42 GB, lr=0.00000, valid_loss=0.0926]\n",
      "Epocha val 273/300: 100%|██████████| 78/78 [00:12<00:00,  6.01it/s, acc=0.97022, gpu_memory=5.42 GB, lr=0.00000, valid_loss=1.0131]\n",
      "Epocha train 274/300: 100%|██████████| 180/180 [01:01<00:00,  2.92it/s, acc=0.76308, gpu_memory=5.42 GB, lr=0.00000, valid_loss=0.0878]\n",
      "Epocha val 274/300: 100%|██████████| 78/78 [00:09<00:00,  8.55it/s, acc=0.96978, gpu_memory=5.42 GB, lr=0.00000, valid_loss=1.0336]\n",
      "Epocha train 275/300: 100%|██████████| 180/180 [01:01<00:00,  2.93it/s, acc=0.75564, gpu_memory=5.42 GB, lr=0.00000, valid_loss=0.0823]\n",
      "Epocha val 275/300: 100%|██████████| 78/78 [00:13<00:00,  5.93it/s, acc=0.97444, gpu_memory=5.42 GB, lr=0.00000, valid_loss=1.0187]\n",
      "Epocha train 276/300: 100%|██████████| 180/180 [01:01<00:00,  2.93it/s, acc=0.75718, gpu_memory=5.42 GB, lr=0.00000, valid_loss=0.0875]\n",
      "Epocha val 276/300: 100%|██████████| 78/78 [00:10<00:00,  7.12it/s, acc=0.96967, gpu_memory=5.42 GB, lr=0.00000, valid_loss=1.0237]\n",
      "Epocha train 277/300: 100%|██████████| 180/180 [01:00<00:00,  2.98it/s, acc=0.75974, gpu_memory=5.42 GB, lr=0.00000, valid_loss=0.0897]\n",
      "Epocha val 277/300: 100%|██████████| 78/78 [00:12<00:00,  6.22it/s, acc=0.96989, gpu_memory=5.42 GB, lr=0.00000, valid_loss=1.0441]\n",
      "Epocha train 278/300: 100%|██████████| 180/180 [01:01<00:00,  2.94it/s, acc=0.75667, gpu_memory=5.42 GB, lr=0.00000, valid_loss=0.0941]\n",
      "Epocha val 278/300: 100%|██████████| 78/78 [00:12<00:00,  6.07it/s, acc=0.96833, gpu_memory=5.42 GB, lr=0.00000, valid_loss=1.0235]\n",
      "Epocha train 279/300: 100%|██████████| 180/180 [01:00<00:00,  2.97it/s, acc=0.75795, gpu_memory=5.42 GB, lr=0.00000, valid_loss=0.0961]\n",
      "Epocha val 279/300: 100%|██████████| 78/78 [00:09<00:00,  8.33it/s, acc=0.96711, gpu_memory=5.42 GB, lr=0.00000, valid_loss=1.0211]\n",
      "Epocha train 280/300: 100%|██████████| 180/180 [01:01<00:00,  2.94it/s, acc=0.75769, gpu_memory=5.42 GB, lr=0.00000, valid_loss=0.0930]\n",
      "Epocha val 280/300: 100%|██████████| 78/78 [00:12<00:00,  6.08it/s, acc=0.96844, gpu_memory=5.42 GB, lr=0.00000, valid_loss=1.0222]\n",
      "Epocha train 281/300: 100%|██████████| 180/180 [01:01<00:00,  2.91it/s, acc=0.76103, gpu_memory=5.42 GB, lr=0.00000, valid_loss=0.0921]\n",
      "Epocha val 281/300: 100%|██████████| 78/78 [00:10<00:00,  7.75it/s, acc=0.96967, gpu_memory=5.42 GB, lr=0.00000, valid_loss=1.0261]\n",
      "Epocha train 282/300: 100%|██████████| 180/180 [01:00<00:00,  2.97it/s, acc=0.75949, gpu_memory=5.42 GB, lr=0.00000, valid_loss=0.0859]\n",
      "Epocha val 282/300: 100%|██████████| 78/78 [00:12<00:00,  6.08it/s, acc=0.97278, gpu_memory=5.42 GB, lr=0.00000, valid_loss=1.0174]\n",
      "Epocha train 283/300: 100%|██████████| 180/180 [01:01<00:00,  2.93it/s, acc=0.76026, gpu_memory=5.42 GB, lr=0.00000, valid_loss=0.0903]\n",
      "Epocha val 283/300: 100%|██████████| 78/78 [00:12<00:00,  6.06it/s, acc=0.96933, gpu_memory=5.42 GB, lr=0.00000, valid_loss=1.0379]\n",
      "Epocha train 284/300: 100%|██████████| 180/180 [01:00<00:00,  2.96it/s, acc=0.75359, gpu_memory=5.42 GB, lr=0.00000, valid_loss=0.0845]\n",
      "Epocha val 284/300: 100%|██████████| 78/78 [00:09<00:00,  7.92it/s, acc=0.97156, gpu_memory=5.42 GB, lr=0.00000, valid_loss=1.0125]\n",
      "Epocha train 285/300: 100%|██████████| 180/180 [01:01<00:00,  2.92it/s, acc=0.76051, gpu_memory=5.42 GB, lr=0.00000, valid_loss=0.0926]\n",
      "Epocha val 285/300: 100%|██████████| 78/78 [00:12<00:00,  6.02it/s, acc=0.96856, gpu_memory=5.42 GB, lr=0.00000, valid_loss=1.0238]\n",
      "Epocha train 286/300: 100%|██████████| 180/180 [01:01<00:00,  2.91it/s, acc=0.75949, gpu_memory=5.42 GB, lr=0.00000, valid_loss=0.0862]\n",
      "Epocha val 286/300: 100%|██████████| 78/78 [00:09<00:00,  8.25it/s, acc=0.97156, gpu_memory=5.42 GB, lr=0.00000, valid_loss=1.0234]\n",
      "Epocha train 287/300: 100%|██████████| 180/180 [01:01<00:00,  2.95it/s, acc=0.75897, gpu_memory=5.42 GB, lr=0.00000, valid_loss=0.0929]\n",
      "Epocha val 287/300: 100%|██████████| 78/78 [00:12<00:00,  6.01it/s, acc=0.96822, gpu_memory=5.42 GB, lr=0.00000, valid_loss=1.0165]\n",
      "Epocha train 288/300: 100%|██████████| 180/180 [01:01<00:00,  2.92it/s, acc=0.75923, gpu_memory=5.42 GB, lr=0.00000, valid_loss=0.0845]\n",
      "Epocha val 288/300: 100%|██████████| 78/78 [00:11<00:00,  6.64it/s, acc=0.97267, gpu_memory=5.42 GB, lr=0.00000, valid_loss=1.0297]\n",
      "Epocha train 289/300: 100%|██████████| 180/180 [01:00<00:00,  2.98it/s, acc=0.75795, gpu_memory=5.42 GB, lr=0.00000, valid_loss=0.0840]\n",
      "Epocha val 289/300: 100%|██████████| 78/78 [00:10<00:00,  7.22it/s, acc=0.97389, gpu_memory=5.42 GB, lr=0.00000, valid_loss=1.0203]\n",
      "Epocha train 290/300: 100%|██████████| 180/180 [01:01<00:00,  2.92it/s, acc=0.76154, gpu_memory=5.42 GB, lr=0.00000, valid_loss=0.0920]\n",
      "Epocha val 290/300: 100%|██████████| 78/78 [00:12<00:00,  6.13it/s, acc=0.96967, gpu_memory=5.42 GB, lr=0.00000, valid_loss=1.0121]\n",
      "Epocha train 291/300: 100%|██████████| 180/180 [01:00<00:00,  2.95it/s, acc=0.76103, gpu_memory=5.42 GB, lr=0.00000, valid_loss=0.0854]\n",
      "Epocha val 291/300: 100%|██████████| 78/78 [00:08<00:00,  8.81it/s, acc=0.97044, gpu_memory=5.42 GB, lr=0.00000, valid_loss=1.0108]\n",
      "Epocha train 292/300: 100%|██████████| 180/180 [01:00<00:00,  2.99it/s, acc=0.75795, gpu_memory=5.42 GB, lr=0.00000, valid_loss=0.0888]\n",
      "Epocha val 292/300: 100%|██████████| 78/78 [00:12<00:00,  6.13it/s, acc=0.97200, gpu_memory=5.42 GB, lr=0.00000, valid_loss=1.0405]\n",
      "Epocha train 293/300: 100%|██████████| 180/180 [01:01<00:00,  2.95it/s, acc=0.75692, gpu_memory=5.42 GB, lr=0.00000, valid_loss=0.0902]\n",
      "Epocha val 293/300: 100%|██████████| 78/78 [00:12<00:00,  6.21it/s, acc=0.97178, gpu_memory=5.42 GB, lr=0.00000, valid_loss=1.0243]\n",
      "Epocha train 294/300: 100%|██████████| 180/180 [01:00<00:00,  2.97it/s, acc=0.75846, gpu_memory=5.42 GB, lr=0.00000, valid_loss=0.0897]\n",
      "Epocha val 294/300: 100%|██████████| 78/78 [00:10<00:00,  7.53it/s, acc=0.96944, gpu_memory=5.42 GB, lr=0.00000, valid_loss=1.0278]\n",
      "Epocha train 295/300: 100%|██████████| 180/180 [01:01<00:00,  2.95it/s, acc=0.75923, gpu_memory=5.42 GB, lr=0.00000, valid_loss=0.0880]\n",
      "Epocha val 295/300: 100%|██████████| 78/78 [00:12<00:00,  6.07it/s, acc=0.96989, gpu_memory=5.42 GB, lr=0.00000, valid_loss=1.0225]\n",
      "Epocha train 296/300: 100%|██████████| 180/180 [01:01<00:00,  2.95it/s, acc=0.75949, gpu_memory=5.42 GB, lr=0.00000, valid_loss=0.0878]\n",
      "Epocha val 296/300: 100%|██████████| 78/78 [00:09<00:00,  8.46it/s, acc=0.97100, gpu_memory=5.42 GB, lr=0.00000, valid_loss=1.0346]\n",
      "Epocha train 297/300: 100%|██████████| 180/180 [01:00<00:00,  3.00it/s, acc=0.75026, gpu_memory=5.42 GB, lr=0.00000, valid_loss=0.0801]\n",
      "Epocha val 297/300: 100%|██████████| 78/78 [00:12<00:00,  6.07it/s, acc=0.97444, gpu_memory=5.42 GB, lr=0.00000, valid_loss=1.0309]\n",
      "Epocha train 298/300: 100%|██████████| 180/180 [01:01<00:00,  2.94it/s, acc=0.75385, gpu_memory=5.42 GB, lr=0.00000, valid_loss=0.0909]\n",
      "Epocha val 298/300: 100%|██████████| 78/78 [00:12<00:00,  6.12it/s, acc=0.96911, gpu_memory=5.42 GB, lr=0.00000, valid_loss=1.0229]\n",
      "Epocha train 299/300: 100%|██████████| 180/180 [01:00<00:00,  2.99it/s, acc=0.75872, gpu_memory=5.42 GB, lr=0.00000, valid_loss=0.0894]\n",
      "Epocha val 299/300: 100%|██████████| 78/78 [00:10<00:00,  7.72it/s, acc=0.97189, gpu_memory=5.42 GB, lr=0.00000, valid_loss=1.0325]\n",
      "Epocha train 300/300: 100%|██████████| 180/180 [01:01<00:00,  2.93it/s, acc=0.75667, gpu_memory=5.42 GB, lr=0.00000, valid_loss=0.0878]\n",
      "Epocha val 300/300: 100%|██████████| 78/78 [00:12<00:00,  6.20it/s, acc=0.97189, gpu_memory=5.42 GB, lr=0.00000, valid_loss=1.0360]\n"
     ]
    },
    {
     "name": "stdout",
     "output_type": "stream",
     "text": [
      "Training complete in 368m 7s\n",
      "Best val Loss classification: 0.8438 epoch 56  \n",
      "Best val Loss accuracy: 0.7669 epoch 137\n"
     ]
    },
    {
     "data": {
      "image/png": "[encoded data removed]",
      "text/plain": [
       "<Figure size 432x288 with 1 Axes>"
      ]
     },
     "metadata": {
      "needs_background": "light"
     },
     "output_type": "display_data"
    },
    {
     "data": {
      "image/png": "[encoded data removed]",
      "text/plain": [
       "<Figure size 432x288 with 1 Axes>"
      ]
     },
     "metadata": {
      "needs_background": "light"
     },
     "output_type": "display_data"
    }
   ],
   "source": [
    "model_loss, model_acc, overfit_model = train.train(train_dirr=\"/workspace/proj/paradigma/db/imagewoof2\",                                           # Путь до папки с train or directori\n",
    "                                             val_dirr=\"/workspace/proj/paradigma/db/imagewoof2\",                                             # Путь до папки с описанием val\n",
    "                                             model_name =\"resnet50\",                             # Название модели timm or пользовательские из кода\n",
    "                                             Dataset_name =\"imagewoof\",                            # Название Dataset (при сохранении)\n",
    "                                             metod_aug_name=\"baseline\",                # Название metoda (при сохранении)\n",
    "                                             task_name=\"clasification\",                          # Название задачи  (при сохранении)\n",
    "                                             train_annotation=\"/workspace/proj/paradigma/db/imagewoof2/noisy_imagewoof.csv\",                                # Путь до файла с описанием train\n",
    "                                             val_annotation=\"/workspace/proj/paradigma/db/imagewoof2/noisy_imagewoof.csv\",                                  # Путь до файла с описанием val\n",
    "                                             N_class = 10,                                          # Количество классов в задаче\n",
    "                                             num_epochs=300,                                        # Количество эпох обучения\n",
    "                                             batch_size = 50,                                       \n",
    "                                             snp_path = '/workspace/proj/paradigma/snp/',     # Путь к папке, в которую сохранять готовые модели\n",
    "                                             pretrained = False,                                   # True - загрузить предобученную модель\n",
    "                                             SIZE = 224,                                           # Размер входа (SIZE*SIZE)\n",
    "                                             lr=0.001,                                           # Коэффициент скорости обучения (Learning rate)\n",
    "                                             step_size=50,                                         # за сколько эпох уменьшить lr\n",
    "                                             gamma=0.1,                                            # Во сколько раз уменьшить lr\n",
    "                                             momentum=0.999)#,                                        # коэфицент сохранения момента\n",
    "#                                              rootAA=\"/workspace/proj/autoalbument/examples/imageWoof/resnet50/outputs/2022-08-01/21-18-39/policy/latest.json\")\n"
   ]
  },
  {
   "cell_type": "code",
   "execution_count": 3,
   "metadata": {
    "scrolled": true
   },
   "outputs": [
    {
     "name": "stdout",
     "output_type": "stream",
     "text": [
      "/workspace/proj/paradigma/snp/imagewoof/resnet50/FsAA/04_08_2022/16_20_57/\n"
     ]
    },
    {
     "name": "stderr",
     "output_type": "stream",
     "text": [
      "Epocha train 1/300: 100%|██████████| 180/180 [01:01<00:00,  2.93it/s, acc=0.00000, gpu_memory=5.42 GB, lr=0.00100, valid_loss=2.2107]\n",
      "Epocha val 1/300: 100%|██████████| 78/78 [00:09<00:00,  8.42it/s, acc=0.18833, gpu_memory=5.42 GB, lr=0.00100, valid_loss=2.1913]\n"
     ]
    },
    {
     "name": "stdout",
     "output_type": "stream",
     "text": [
      "Best val Loss classification: 2.191264,Best val Acc classification:0.000000\n"
     ]
    },
    {
     "name": "stderr",
     "output_type": "stream",
     "text": [
      "Epocha train 2/300: 100%|██████████| 180/180 [01:01<00:00,  2.93it/s, acc=0.19205, gpu_memory=5.44 GB, lr=0.00100, valid_loss=2.1774]\n",
      "Epocha val 2/300: 100%|██████████| 78/78 [00:12<00:00,  6.17it/s, acc=0.22033, gpu_memory=5.44 GB, lr=0.00100, valid_loss=2.1002]\n"
     ]
    },
    {
     "name": "stdout",
     "output_type": "stream",
     "text": [
      "Best val Loss classification: 2.100219,Best val Acc classification:0.192051\n"
     ]
    },
    {
     "name": "stderr",
     "output_type": "stream",
     "text": [
      "Epocha train 3/300: 100%|██████████| 180/180 [01:01<00:00,  2.94it/s, acc=0.23949, gpu_memory=5.45 GB, lr=0.00100, valid_loss=2.1320]\n",
      "Epocha val 3/300: 100%|██████████| 78/78 [00:10<00:00,  7.39it/s, acc=0.23533, gpu_memory=5.45 GB, lr=0.00100, valid_loss=2.0769]\n"
     ]
    },
    {
     "name": "stdout",
     "output_type": "stream",
     "text": [
      "Best val Loss classification: 2.076882,Best val Acc classification:0.239487\n"
     ]
    },
    {
     "name": "stderr",
     "output_type": "stream",
     "text": [
      "Epocha train 4/300: 100%|██████████| 180/180 [01:00<00:00,  2.97it/s, acc=0.25103, gpu_memory=5.45 GB, lr=0.00100, valid_loss=2.0914]\n",
      "Epocha val 4/300: 100%|██████████| 78/78 [00:12<00:00,  6.12it/s, acc=0.25011, gpu_memory=5.45 GB, lr=0.00100, valid_loss=2.1069]\n",
      "Epocha train 5/300: 100%|██████████| 180/180 [01:01<00:00,  2.93it/s, acc=0.24821, gpu_memory=5.45 GB, lr=0.00100, valid_loss=2.0128]\n",
      "Epocha val 5/300: 100%|██████████| 78/78 [00:12<00:00,  6.08it/s, acc=0.27267, gpu_memory=5.45 GB, lr=0.00100, valid_loss=1.9776]\n"
     ]
    },
    {
     "name": "stdout",
     "output_type": "stream",
     "text": [
      "Best val Loss classification: 1.977613,Best val Acc classification:0.251026\n"
     ]
    },
    {
     "name": "stderr",
     "output_type": "stream",
     "text": [
      "Epocha train 6/300: 100%|██████████| 180/180 [01:00<00:00,  2.97it/s, acc=0.28564, gpu_memory=5.45 GB, lr=0.00100, valid_loss=1.9414]\n",
      "Epocha val 6/300: 100%|██████████| 78/78 [00:09<00:00,  8.04it/s, acc=0.30889, gpu_memory=5.45 GB, lr=0.00100, valid_loss=1.8741]\n"
     ]
    },
    {
     "name": "stdout",
     "output_type": "stream",
     "text": [
      "Best val Loss classification: 1.874113,Best val Acc classification:0.285641\n"
     ]
    },
    {
     "name": "stderr",
     "output_type": "stream",
     "text": [
      "Epocha train 7/300: 100%|██████████| 180/180 [01:01<00:00,  2.94it/s, acc=0.32949, gpu_memory=5.45 GB, lr=0.00100, valid_loss=1.8950]\n",
      "Epocha val 7/300: 100%|██████████| 78/78 [00:12<00:00,  6.05it/s, acc=0.32167, gpu_memory=5.45 GB, lr=0.00100, valid_loss=1.8659]\n"
     ]
    },
    {
     "name": "stdout",
     "output_type": "stream",
     "text": [
      "Best val Loss classification: 1.865897,Best val Acc classification:0.329487\n"
     ]
    },
    {
     "name": "stderr",
     "output_type": "stream",
     "text": [
      "Epocha train 8/300: 100%|██████████| 180/180 [01:01<00:00,  2.93it/s, acc=0.33128, gpu_memory=5.45 GB, lr=0.00100, valid_loss=1.8353]\n",
      "Epocha val 8/300: 100%|██████████| 78/78 [00:08<00:00,  8.73it/s, acc=0.34278, gpu_memory=5.45 GB, lr=0.00100, valid_loss=1.7708]\n"
     ]
    },
    {
     "name": "stdout",
     "output_type": "stream",
     "text": [
      "Best val Loss classification: 1.770775,Best val Acc classification:0.331282\n"
     ]
    },
    {
     "name": "stderr",
     "output_type": "stream",
     "text": [
      "Epocha train 9/300: 100%|██████████| 180/180 [01:01<00:00,  2.94it/s, acc=0.38179, gpu_memory=5.45 GB, lr=0.00100, valid_loss=1.8250]\n",
      "Epocha val 9/300: 100%|██████████| 78/78 [00:12<00:00,  6.03it/s, acc=0.34844, gpu_memory=5.45 GB, lr=0.00100, valid_loss=1.7664]\n",
      "Epocha train 10/300: 100%|██████████| 180/180 [01:01<00:00,  2.93it/s, acc=0.37436, gpu_memory=5.45 GB, lr=0.00100, valid_loss=1.7976]\n",
      "Epocha val 10/300: 100%|██████████| 78/78 [00:11<00:00,  6.95it/s, acc=0.35978, gpu_memory=5.45 GB, lr=0.00100, valid_loss=1.6922]\n"
     ]
    },
    {
     "name": "stdout",
     "output_type": "stream",
     "text": [
      "Best val Loss classification: 1.692240,Best val Acc classification:0.381795\n"
     ]
    },
    {
     "name": "stderr",
     "output_type": "stream",
     "text": [
      "Epocha train 11/300: 100%|██████████| 180/180 [01:00<00:00,  2.96it/s, acc=0.39795, gpu_memory=5.45 GB, lr=0.00100, valid_loss=1.7472]\n",
      "Epocha val 11/300: 100%|██████████| 78/78 [00:12<00:00,  6.12it/s, acc=0.37956, gpu_memory=5.45 GB, lr=0.00100, valid_loss=1.6386]\n"
     ]
    },
    {
     "name": "stdout",
     "output_type": "stream",
     "text": [
      "Best val Loss classification: 1.638550,Best val Acc classification:0.397949\n"
     ]
    },
    {
     "name": "stderr",
     "output_type": "stream",
     "text": [
      "Epocha train 12/300: 100%|██████████| 180/180 [01:01<00:00,  2.93it/s, acc=0.42205, gpu_memory=5.45 GB, lr=0.00100, valid_loss=1.7224]\n",
      "Epocha val 12/300: 100%|██████████| 78/78 [00:12<00:00,  6.05it/s, acc=0.38967, gpu_memory=5.45 GB, lr=0.00100, valid_loss=1.6537]\n",
      "Epocha train 13/300: 100%|██████████| 180/180 [01:00<00:00,  2.97it/s, acc=0.41333, gpu_memory=5.45 GB, lr=0.00100, valid_loss=1.6738]\n",
      "Epocha val 13/300: 100%|██████████| 78/78 [00:09<00:00,  8.20it/s, acc=0.40544, gpu_memory=5.45 GB, lr=0.00100, valid_loss=1.5576]\n"
     ]
    },
    {
     "name": "stdout",
     "output_type": "stream",
     "text": [
      "Best val Loss classification: 1.557565,Best val Acc classification:0.422051\n"
     ]
    },
    {
     "name": "stderr",
     "output_type": "stream",
     "text": [
      "Epocha train 14/300: 100%|██████████| 180/180 [01:02<00:00,  2.90it/s, acc=0.44821, gpu_memory=5.45 GB, lr=0.00100, valid_loss=1.6327]\n",
      "Epocha val 14/300: 100%|██████████| 78/78 [00:12<00:00,  6.07it/s, acc=0.42122, gpu_memory=5.45 GB, lr=0.00100, valid_loss=1.5285]\n"
     ]
    },
    {
     "name": "stdout",
     "output_type": "stream",
     "text": [
      "Best val Loss classification: 1.528541,Best val Acc classification:0.448205\n"
     ]
    },
    {
     "name": "stderr",
     "output_type": "stream",
     "text": [
      "Epocha train 15/300: 100%|██████████| 180/180 [01:01<00:00,  2.92it/s, acc=0.46462, gpu_memory=5.45 GB, lr=0.00100, valid_loss=1.5991]\n",
      "Epocha val 15/300: 100%|██████████| 78/78 [00:08<00:00,  8.70it/s, acc=0.43811, gpu_memory=5.45 GB, lr=0.00100, valid_loss=1.5200]\n"
     ]
    },
    {
     "name": "stdout",
     "output_type": "stream",
     "text": [
      "Best val Loss classification: 1.520002,Best val Acc classification:0.464615\n"
     ]
    },
    {
     "name": "stderr",
     "output_type": "stream",
     "text": [
      "Epocha train 16/300: 100%|██████████| 180/180 [01:01<00:00,  2.90it/s, acc=0.46590, gpu_memory=5.45 GB, lr=0.00100, valid_loss=1.5845]\n",
      "Epocha val 16/300: 100%|██████████| 78/78 [00:12<00:00,  6.02it/s, acc=0.44122, gpu_memory=5.45 GB, lr=0.00100, valid_loss=1.4949]\n"
     ]
    },
    {
     "name": "stdout",
     "output_type": "stream",
     "text": [
      "Best val Loss classification: 1.494883,Best val Acc classification:0.465897\n"
     ]
    },
    {
     "name": "stderr",
     "output_type": "stream",
     "text": [
      "Epocha train 17/300: 100%|██████████| 180/180 [01:01<00:00,  2.93it/s, acc=0.47462, gpu_memory=5.45 GB, lr=0.00100, valid_loss=1.5495]\n",
      "Epocha val 17/300: 100%|██████████| 78/78 [00:10<00:00,  7.54it/s, acc=0.45256, gpu_memory=5.45 GB, lr=0.00100, valid_loss=1.4777]\n"
     ]
    },
    {
     "name": "stdout",
     "output_type": "stream",
     "text": [
      "Best val Loss classification: 1.477686,Best val Acc classification:0.474615\n"
     ]
    },
    {
     "name": "stderr",
     "output_type": "stream",
     "text": [
      "Epocha train 18/300: 100%|██████████| 180/180 [01:00<00:00,  2.97it/s, acc=0.49128, gpu_memory=5.45 GB, lr=0.00100, valid_loss=1.5116]\n",
      "Epocha val 18/300: 100%|██████████| 78/78 [00:12<00:00,  6.08it/s, acc=0.46578, gpu_memory=5.45 GB, lr=0.00100, valid_loss=1.4103]\n"
     ]
    },
    {
     "name": "stdout",
     "output_type": "stream",
     "text": [
      "Best val Loss classification: 1.410314,Best val Acc classification:0.491282\n"
     ]
    },
    {
     "name": "stderr",
     "output_type": "stream",
     "text": [
      "Epocha train 19/300: 100%|██████████| 180/180 [01:01<00:00,  2.93it/s, acc=0.50769, gpu_memory=5.45 GB, lr=0.00100, valid_loss=1.4843]\n",
      "Epocha val 19/300: 100%|██████████| 78/78 [00:12<00:00,  6.28it/s, acc=0.47489, gpu_memory=5.45 GB, lr=0.00100, valid_loss=1.3925]\n"
     ]
    },
    {
     "name": "stdout",
     "output_type": "stream",
     "text": [
      "Best val Loss classification: 1.392538,Best val Acc classification:0.507692\n"
     ]
    },
    {
     "name": "stderr",
     "output_type": "stream",
     "text": [
      "Epocha train 20/300: 100%|██████████| 180/180 [01:00<00:00,  2.97it/s, acc=0.51179, gpu_memory=5.45 GB, lr=0.00100, valid_loss=1.4496]\n",
      "Epocha val 20/300: 100%|██████████| 78/78 [00:11<00:00,  7.02it/s, acc=0.49022, gpu_memory=5.45 GB, lr=0.00100, valid_loss=1.3784]\n"
     ]
    },
    {
     "name": "stdout",
     "output_type": "stream",
     "text": [
      "Best val Loss classification: 1.378436,Best val Acc classification:0.511795\n"
     ]
    },
    {
     "name": "stderr",
     "output_type": "stream",
     "text": [
      "Epocha train 21/300: 100%|██████████| 180/180 [01:01<00:00,  2.95it/s, acc=0.52359, gpu_memory=5.45 GB, lr=0.00100, valid_loss=1.4244]\n",
      "Epocha val 21/300: 100%|██████████| 78/78 [00:12<00:00,  6.16it/s, acc=0.50067, gpu_memory=5.45 GB, lr=0.00100, valid_loss=1.3459]\n"
     ]
    },
    {
     "name": "stdout",
     "output_type": "stream",
     "text": [
      "Best val Loss classification: 1.345927,Best val Acc classification:0.523590\n"
     ]
    },
    {
     "name": "stderr",
     "output_type": "stream",
     "text": [
      "Epocha train 22/300: 100%|██████████| 180/180 [00:59<00:00,  3.01it/s, acc=0.53821, gpu_memory=5.45 GB, lr=0.00100, valid_loss=1.3953]\n",
      "Epocha val 22/300: 100%|██████████| 78/78 [00:09<00:00,  7.92it/s, acc=0.51300, gpu_memory=5.45 GB, lr=0.00100, valid_loss=1.3201]\n",
      "Epocha train 23/300: 100%|██████████| 180/180 [01:00<00:00,  2.96it/s, acc=0.53590, gpu_memory=5.45 GB, lr=0.00100, valid_loss=1.3608]\n",
      "Epocha val 23/300: 100%|██████████| 78/78 [00:12<00:00,  6.13it/s, acc=0.52589, gpu_memory=5.45 GB, lr=0.00100, valid_loss=1.2827]\n"
     ]
    },
    {
     "name": "stdout",
     "output_type": "stream",
     "text": [
      "Best val Loss classification: 1.282739,Best val Acc classification:0.538205\n"
     ]
    },
    {
     "name": "stderr",
     "output_type": "stream",
     "text": [
      "Epocha train 24/300: 100%|██████████| 180/180 [01:00<00:00,  2.96it/s, acc=0.55231, gpu_memory=5.45 GB, lr=0.00100, valid_loss=1.3311]\n",
      "Epocha val 24/300: 100%|██████████| 78/78 [00:08<00:00,  8.77it/s, acc=0.53200, gpu_memory=5.45 GB, lr=0.00100, valid_loss=1.2358]\n"
     ]
    },
    {
     "name": "stdout",
     "output_type": "stream",
     "text": [
      "Best val Loss classification: 1.235758,Best val Acc classification:0.552308\n"
     ]
    },
    {
     "name": "stderr",
     "output_type": "stream",
     "text": [
      "Epocha train 25/300: 100%|██████████| 180/180 [01:01<00:00,  2.95it/s, acc=0.57821, gpu_memory=5.45 GB, lr=0.00100, valid_loss=1.3253]\n",
      "Epocha val 25/300: 100%|██████████| 78/78 [00:12<00:00,  6.17it/s, acc=0.53489, gpu_memory=5.45 GB, lr=0.00100, valid_loss=1.2389]\n",
      "Epocha train 26/300: 100%|██████████| 180/180 [01:01<00:00,  2.93it/s, acc=0.57000, gpu_memory=5.45 GB, lr=0.00100, valid_loss=1.3048]\n",
      "Epocha val 26/300: 100%|██████████| 78/78 [00:10<00:00,  7.67it/s, acc=0.54044, gpu_memory=5.45 GB, lr=0.00100, valid_loss=1.2176]\n"
     ]
    },
    {
     "name": "stdout",
     "output_type": "stream",
     "text": [
      "Best val Loss classification: 1.217566,Best val Acc classification:0.578205\n"
     ]
    },
    {
     "name": "stderr",
     "output_type": "stream",
     "text": [
      "Epocha train 27/300: 100%|██████████| 180/180 [01:00<00:00,  3.00it/s, acc=0.57974, gpu_memory=5.45 GB, lr=0.00100, valid_loss=1.2726]\n",
      "Epocha val 27/300: 100%|██████████| 78/78 [00:12<00:00,  6.14it/s, acc=0.55867, gpu_memory=5.45 GB, lr=0.00100, valid_loss=1.1981]\n"
     ]
    },
    {
     "name": "stdout",
     "output_type": "stream",
     "text": [
      "Best val Loss classification: 1.198135,Best val Acc classification:0.579744\n"
     ]
    },
    {
     "name": "stderr",
     "output_type": "stream",
     "text": [
      "Epocha train 28/300: 100%|██████████| 180/180 [01:01<00:00,  2.95it/s, acc=0.58692, gpu_memory=5.45 GB, lr=0.00100, valid_loss=1.2582]\n",
      "Epocha val 28/300: 100%|██████████| 78/78 [00:12<00:00,  6.44it/s, acc=0.55633, gpu_memory=5.45 GB, lr=0.00100, valid_loss=1.1648]\n"
     ]
    },
    {
     "name": "stdout",
     "output_type": "stream",
     "text": [
      "Best val Loss classification: 1.164807,Best val Acc classification:0.586923\n"
     ]
    },
    {
     "name": "stderr",
     "output_type": "stream",
     "text": [
      "Epocha train 29/300: 100%|██████████| 180/180 [01:00<00:00,  3.00it/s, acc=0.59282, gpu_memory=5.45 GB, lr=0.00100, valid_loss=1.2445]\n",
      "Epocha val 29/300: 100%|██████████| 78/78 [00:11<00:00,  6.94it/s, acc=0.56578, gpu_memory=5.45 GB, lr=0.00100, valid_loss=1.1657]\n"
     ]
    },
    {
     "name": "stdout",
     "output_type": "stream",
     "text": [
      "Best val Loss classification: 1.164807,Best val Acc classification:0.592821\n"
     ]
    },
    {
     "name": "stderr",
     "output_type": "stream",
     "text": [
      "Epocha train 30/300: 100%|██████████| 180/180 [01:00<00:00,  2.96it/s, acc=0.59513, gpu_memory=5.45 GB, lr=0.00100, valid_loss=1.2101]\n",
      "Epocha val 30/300: 100%|██████████| 78/78 [00:12<00:00,  6.17it/s, acc=0.57689, gpu_memory=5.45 GB, lr=0.00100, valid_loss=1.1509]\n"
     ]
    },
    {
     "name": "stdout",
     "output_type": "stream",
     "text": [
      "Best val Loss classification: 1.150877,Best val Acc classification:0.595128\n"
     ]
    },
    {
     "name": "stderr",
     "output_type": "stream",
     "text": [
      "Epocha train 31/300: 100%|██████████| 180/180 [00:59<00:00,  3.02it/s, acc=0.60436, gpu_memory=5.45 GB, lr=0.00100, valid_loss=1.2213]\n",
      "Epocha val 31/300: 100%|██████████| 78/78 [00:09<00:00,  8.26it/s, acc=0.57722, gpu_memory=5.45 GB, lr=0.00100, valid_loss=1.1883]\n",
      "Epocha train 32/300: 100%|██████████| 180/180 [01:01<00:00,  2.93it/s, acc=0.59667, gpu_memory=5.45 GB, lr=0.00100, valid_loss=1.1948]\n",
      "Epocha val 32/300: 100%|██████████| 78/78 [00:12<00:00,  6.19it/s, acc=0.58978, gpu_memory=5.45 GB, lr=0.00100, valid_loss=1.1280]\n"
     ]
    },
    {
     "name": "stdout",
     "output_type": "stream",
     "text": [
      "Best val Loss classification: 1.128011,Best val Acc classification:0.604359\n"
     ]
    },
    {
     "name": "stderr",
     "output_type": "stream",
     "text": [
      "Epocha train 33/300: 100%|██████████| 180/180 [01:00<00:00,  2.95it/s, acc=0.61897, gpu_memory=5.45 GB, lr=0.00100, valid_loss=1.1604]\n",
      "Epocha val 33/300: 100%|██████████| 78/78 [00:08<00:00,  8.99it/s, acc=0.59589, gpu_memory=5.45 GB, lr=0.00100, valid_loss=1.1208]\n",
      "Epocha train 34/300: 100%|██████████| 180/180 [01:00<00:00,  2.98it/s, acc=0.60923, gpu_memory=5.45 GB, lr=0.00100, valid_loss=1.1521]\n",
      "Epocha val 34/300: 100%|██████████| 78/78 [00:12<00:00,  6.10it/s, acc=0.59656, gpu_memory=5.45 GB, lr=0.00100, valid_loss=1.0822]\n"
     ]
    },
    {
     "name": "stdout",
     "output_type": "stream",
     "text": [
      "Best val Loss classification: 1.082213,Best val Acc classification:0.618974\n"
     ]
    },
    {
     "name": "stderr",
     "output_type": "stream",
     "text": [
      "Epocha train 35/300: 100%|██████████| 180/180 [01:01<00:00,  2.94it/s, acc=0.63077, gpu_memory=5.45 GB, lr=0.00100, valid_loss=1.1041]\n",
      "Epocha val 35/300: 100%|██████████| 78/78 [00:10<00:00,  7.19it/s, acc=0.60978, gpu_memory=5.45 GB, lr=0.00100, valid_loss=1.0562]\n"
     ]
    },
    {
     "name": "stdout",
     "output_type": "stream",
     "text": [
      "Best val Loss classification: 1.056236,Best val Acc classification:0.630769\n"
     ]
    },
    {
     "name": "stderr",
     "output_type": "stream",
     "text": [
      "Epocha train 36/300: 100%|██████████| 180/180 [01:00<00:00,  3.00it/s, acc=0.63821, gpu_memory=5.45 GB, lr=0.00100, valid_loss=1.0841]\n",
      "Epocha val 36/300: 100%|██████████| 78/78 [00:12<00:00,  6.17it/s, acc=0.62567, gpu_memory=5.45 GB, lr=0.00100, valid_loss=1.0412]\n"
     ]
    },
    {
     "name": "stdout",
     "output_type": "stream",
     "text": [
      "Best val Loss classification: 1.041223,Best val Acc classification:0.638205\n"
     ]
    },
    {
     "name": "stderr",
     "output_type": "stream",
     "text": [
      "Epocha train 37/300: 100%|██████████| 180/180 [01:00<00:00,  2.96it/s, acc=0.64000, gpu_memory=5.45 GB, lr=0.00100, valid_loss=1.0840]\n",
      "Epocha val 37/300: 100%|██████████| 78/78 [00:12<00:00,  6.48it/s, acc=0.63067, gpu_memory=5.45 GB, lr=0.00100, valid_loss=1.0072]\n"
     ]
    },
    {
     "name": "stdout",
     "output_type": "stream",
     "text": [
      "Best val Loss classification: 1.007183,Best val Acc classification:0.640000\n"
     ]
    },
    {
     "name": "stderr",
     "output_type": "stream",
     "text": [
      "Epocha train 38/300: 100%|██████████| 180/180 [01:00<00:00,  2.97it/s, acc=0.65487, gpu_memory=5.45 GB, lr=0.00100, valid_loss=1.0372]\n",
      "Epocha val 38/300: 100%|██████████| 78/78 [00:11<00:00,  6.74it/s, acc=0.64156, gpu_memory=5.45 GB, lr=0.00100, valid_loss=0.9997]\n"
     ]
    },
    {
     "name": "stdout",
     "output_type": "stream",
     "text": [
      "Best val Loss classification: 0.999650,Best val Acc classification:0.654872\n"
     ]
    },
    {
     "name": "stderr",
     "output_type": "stream",
     "text": [
      "Epocha train 39/300: 100%|██████████| 180/180 [01:01<00:00,  2.93it/s, acc=0.66051, gpu_memory=5.45 GB, lr=0.00100, valid_loss=1.0380]\n",
      "Epocha val 39/300: 100%|██████████| 78/78 [00:12<00:00,  6.20it/s, acc=0.64400, gpu_memory=5.45 GB, lr=0.00100, valid_loss=0.9895]\n",
      "Epocha train 40/300: 100%|██████████| 180/180 [01:00<00:00,  2.99it/s, acc=0.65513, gpu_memory=5.45 GB, lr=0.00100, valid_loss=1.0022]\n",
      "Epocha val 40/300: 100%|██████████| 78/78 [00:09<00:00,  8.12it/s, acc=0.64789, gpu_memory=5.45 GB, lr=0.00100, valid_loss=0.9736]\n"
     ]
    },
    {
     "name": "stdout",
     "output_type": "stream",
     "text": [
      "Best val Loss classification: 0.973558,Best val Acc classification:0.660513\n"
     ]
    },
    {
     "name": "stderr",
     "output_type": "stream",
     "text": [
      "Epocha train 41/300: 100%|██████████| 180/180 [01:00<00:00,  2.98it/s, acc=0.67359, gpu_memory=5.45 GB, lr=0.00100, valid_loss=0.9792]\n",
      "Epocha val 41/300: 100%|██████████| 78/78 [00:12<00:00,  6.14it/s, acc=0.66422, gpu_memory=5.45 GB, lr=0.00100, valid_loss=0.9387]\n"
     ]
    },
    {
     "name": "stdout",
     "output_type": "stream",
     "text": [
      "Best val Loss classification: 0.938676,Best val Acc classification:0.673590\n"
     ]
    },
    {
     "name": "stderr",
     "output_type": "stream",
     "text": [
      "Epocha train 42/300: 100%|██████████| 180/180 [01:01<00:00,  2.94it/s, acc=0.68000, gpu_memory=5.45 GB, lr=0.00100, valid_loss=0.9416]\n",
      "Epocha val 42/300: 100%|██████████| 78/78 [00:08<00:00,  8.78it/s, acc=0.66989, gpu_memory=5.45 GB, lr=0.00100, valid_loss=0.9358]\n"
     ]
    },
    {
     "name": "stdout",
     "output_type": "stream",
     "text": [
      "Best val Loss classification: 0.935804,Best val Acc classification:0.680000\n"
     ]
    },
    {
     "name": "stderr",
     "output_type": "stream",
     "text": [
      "Epocha train 43/300: 100%|██████████| 180/180 [01:01<00:00,  2.93it/s, acc=0.68410, gpu_memory=5.45 GB, lr=0.00100, valid_loss=0.9661]\n",
      "Epocha val 43/300: 100%|██████████| 78/78 [00:12<00:00,  6.19it/s, acc=0.66200, gpu_memory=5.45 GB, lr=0.00100, valid_loss=0.9117]\n"
     ]
    },
    {
     "name": "stdout",
     "output_type": "stream",
     "text": [
      "Best val Loss classification: 0.911663,Best val Acc classification:0.684103\n"
     ]
    },
    {
     "name": "stderr",
     "output_type": "stream",
     "text": [
      "Epocha train 44/300: 100%|██████████| 180/180 [01:00<00:00,  2.95it/s, acc=0.69436, gpu_memory=5.45 GB, lr=0.00100, valid_loss=0.9357]\n",
      "Epocha val 44/300: 100%|██████████| 78/78 [00:10<00:00,  7.55it/s, acc=0.67344, gpu_memory=5.45 GB, lr=0.00100, valid_loss=0.9176]\n"
     ]
    },
    {
     "name": "stdout",
     "output_type": "stream",
     "text": [
      "Best val Loss classification: 0.911663,Best val Acc classification:0.694359\n"
     ]
    },
    {
     "name": "stderr",
     "output_type": "stream",
     "text": [
      "Epocha train 45/300: 100%|██████████| 180/180 [00:59<00:00,  3.00it/s, acc=0.69923, gpu_memory=5.45 GB, lr=0.00100, valid_loss=0.9189]\n",
      "Epocha val 45/300: 100%|██████████| 78/78 [00:12<00:00,  6.16it/s, acc=0.68100, gpu_memory=5.45 GB, lr=0.00100, valid_loss=0.9213]\n",
      "Epocha train 46/300: 100%|██████████| 180/180 [01:00<00:00,  2.95it/s, acc=0.69538, gpu_memory=5.45 GB, lr=0.00100, valid_loss=0.9134]\n",
      "Epocha val 46/300: 100%|██████████| 78/78 [00:12<00:00,  6.12it/s, acc=0.68022, gpu_memory=5.45 GB, lr=0.00100, valid_loss=0.9111]\n",
      "Epocha train 47/300: 100%|██████████| 180/180 [01:00<00:00,  3.00it/s, acc=0.69769, gpu_memory=5.45 GB, lr=0.00100, valid_loss=0.8986]\n",
      "Epocha val 47/300: 100%|██████████| 78/78 [00:10<00:00,  7.70it/s, acc=0.68878, gpu_memory=5.45 GB, lr=0.00100, valid_loss=0.8910]\n",
      "Epocha train 48/300: 100%|██████████| 180/180 [01:01<00:00,  2.94it/s, acc=0.69897, gpu_memory=5.45 GB, lr=0.00100, valid_loss=0.8845]\n",
      "Epocha val 48/300: 100%|██████████| 78/78 [00:12<00:00,  6.17it/s, acc=0.69211, gpu_memory=5.45 GB, lr=0.00100, valid_loss=0.8949]\n"
     ]
    },
    {
     "name": "stdout",
     "output_type": "stream",
     "text": [
      "Best val Loss classification: 0.891027,Best val Acc classification:0.699231\n"
     ]
    },
    {
     "name": "stderr",
     "output_type": "stream",
     "text": [
      "Epocha train 49/300: 100%|██████████| 180/180 [01:01<00:00,  2.95it/s, acc=0.70077, gpu_memory=5.45 GB, lr=0.00100, valid_loss=0.8536]\n",
      "Epocha val 49/300: 100%|██████████| 78/78 [00:09<00:00,  8.60it/s, acc=0.70289, gpu_memory=5.45 GB, lr=0.00100, valid_loss=0.8615]\n"
     ]
    },
    {
     "name": "stdout",
     "output_type": "stream",
     "text": [
      "Best val Loss classification: 0.861468,Best val Acc classification:0.700769\n"
     ]
    },
    {
     "name": "stderr",
     "output_type": "stream",
     "text": [
      "Epocha train 50/300: 100%|██████████| 180/180 [01:00<00:00,  2.96it/s, acc=0.71179, gpu_memory=5.45 GB, lr=0.00100, valid_loss=0.8305]\n",
      "Epocha val 50/300: 100%|██████████| 78/78 [00:12<00:00,  6.21it/s, acc=0.71756, gpu_memory=5.45 GB, lr=0.00010, valid_loss=0.8524]\n"
     ]
    },
    {
     "name": "stdout",
     "output_type": "stream",
     "text": [
      "Best val Loss classification: 0.852356,Best val Acc classification:0.711795\n"
     ]
    },
    {
     "name": "stderr",
     "output_type": "stream",
     "text": [
      "Epocha train 51/300: 100%|██████████| 180/180 [01:00<00:00,  2.95it/s, acc=0.71692, gpu_memory=5.45 GB, lr=0.00010, valid_loss=0.7859]\n",
      "Epocha val 51/300: 100%|██████████| 78/78 [00:10<00:00,  7.70it/s, acc=0.73200, gpu_memory=5.45 GB, lr=0.00010, valid_loss=0.8171]\n"
     ]
    },
    {
     "name": "stdout",
     "output_type": "stream",
     "text": [
      "Best val Loss classification: 0.817065,Best val Acc classification:0.716923\n"
     ]
    },
    {
     "name": "stderr",
     "output_type": "stream",
     "text": [
      "Epocha train 52/300: 100%|██████████| 180/180 [00:59<00:00,  3.02it/s, acc=0.72821, gpu_memory=5.45 GB, lr=0.00010, valid_loss=0.7471]\n",
      "Epocha val 52/300: 100%|██████████| 78/78 [00:12<00:00,  6.18it/s, acc=0.74289, gpu_memory=5.45 GB, lr=0.00010, valid_loss=0.8126]\n",
      "Epocha train 53/300: 100%|██████████| 180/180 [01:00<00:00,  2.95it/s, acc=0.72538, gpu_memory=5.45 GB, lr=0.00010, valid_loss=0.7431]\n",
      "Epocha val 53/300: 100%|██████████| 78/78 [00:12<00:00,  6.17it/s, acc=0.74456, gpu_memory=5.45 GB, lr=0.00010, valid_loss=0.7780]\n"
     ]
    },
    {
     "name": "stdout",
     "output_type": "stream",
     "text": [
      "Best val Loss classification: 0.777982,Best val Acc classification:0.728205\n"
     ]
    },
    {
     "name": "stderr",
     "output_type": "stream",
     "text": [
      "Epocha train 54/300: 100%|██████████| 180/180 [01:00<00:00,  2.98it/s, acc=0.74000, gpu_memory=5.45 GB, lr=0.00010, valid_loss=0.7244]\n",
      "Epocha val 54/300: 100%|██████████| 78/78 [00:11<00:00,  6.94it/s, acc=0.74967, gpu_memory=5.45 GB, lr=0.00010, valid_loss=0.7698]\n"
     ]
    },
    {
     "name": "stdout",
     "output_type": "stream",
     "text": [
      "Best val Loss classification: 0.769772,Best val Acc classification:0.740000\n"
     ]
    },
    {
     "name": "stderr",
     "output_type": "stream",
     "text": [
      "Epocha train 55/300: 100%|██████████| 180/180 [01:01<00:00,  2.95it/s, acc=0.74436, gpu_memory=5.45 GB, lr=0.00010, valid_loss=0.7162]\n",
      "Epocha val 55/300: 100%|██████████| 78/78 [00:12<00:00,  6.19it/s, acc=0.75500, gpu_memory=5.45 GB, lr=0.00010, valid_loss=0.7634]\n"
     ]
    },
    {
     "name": "stdout",
     "output_type": "stream",
     "text": [
      "Best val Loss classification: 0.763428,Best val Acc classification:0.744359\n"
     ]
    },
    {
     "name": "stderr",
     "output_type": "stream",
     "text": [
      "Epocha train 56/300: 100%|██████████| 180/180 [00:59<00:00,  3.01it/s, acc=0.74769, gpu_memory=5.45 GB, lr=0.00010, valid_loss=0.6945]\n",
      "Epocha val 56/300: 100%|██████████| 78/78 [00:09<00:00,  8.24it/s, acc=0.75867, gpu_memory=5.45 GB, lr=0.00010, valid_loss=0.7616]\n"
     ]
    },
    {
     "name": "stdout",
     "output_type": "stream",
     "text": [
      "Best val Loss classification: 0.761578,Best val Acc classification:0.747692\n"
     ]
    },
    {
     "name": "stderr",
     "output_type": "stream",
     "text": [
      "Epocha train 57/300: 100%|██████████| 180/180 [01:00<00:00,  2.96it/s, acc=0.74795, gpu_memory=5.45 GB, lr=0.00010, valid_loss=0.6759]\n",
      "Epocha val 57/300: 100%|██████████| 78/78 [00:12<00:00,  6.15it/s, acc=0.76700, gpu_memory=5.45 GB, lr=0.00010, valid_loss=0.7506]\n"
     ]
    },
    {
     "name": "stdout",
     "output_type": "stream",
     "text": [
      "Best val Loss classification: 0.750567,Best val Acc classification:0.747949\n"
     ]
    },
    {
     "name": "stderr",
     "output_type": "stream",
     "text": [
      "Epocha train 58/300: 100%|██████████| 180/180 [01:00<00:00,  2.97it/s, acc=0.75051, gpu_memory=5.45 GB, lr=0.00010, valid_loss=0.6726]\n",
      "Epocha val 58/300: 100%|██████████| 78/78 [00:08<00:00,  8.79it/s, acc=0.77033, gpu_memory=5.45 GB, lr=0.00010, valid_loss=0.7515]\n"
     ]
    },
    {
     "name": "stdout",
     "output_type": "stream",
     "text": [
      "Best val Loss classification: 0.750567,Best val Acc classification:0.750513\n"
     ]
    },
    {
     "name": "stderr",
     "output_type": "stream",
     "text": [
      "Epocha train 59/300: 100%|██████████| 180/180 [01:00<00:00,  2.96it/s, acc=0.75487, gpu_memory=5.45 GB, lr=0.00010, valid_loss=0.6565]\n",
      "Epocha val 59/300: 100%|██████████| 78/78 [00:12<00:00,  6.23it/s, acc=0.77400, gpu_memory=5.45 GB, lr=0.00010, valid_loss=0.7601]\n"
     ]
    },
    {
     "name": "stdout",
     "output_type": "stream",
     "text": [
      "Best val Loss classification: 0.750567,Best val Acc classification:0.754872\n"
     ]
    },
    {
     "name": "stderr",
     "output_type": "stream",
     "text": [
      "Epocha train 60/300: 100%|██████████| 180/180 [01:01<00:00,  2.95it/s, acc=0.75538, gpu_memory=5.45 GB, lr=0.00010, valid_loss=0.6528]\n",
      "Epocha val 60/300: 100%|██████████| 78/78 [00:10<00:00,  7.20it/s, acc=0.77733, gpu_memory=5.45 GB, lr=0.00010, valid_loss=0.7366]\n"
     ]
    },
    {
     "name": "stdout",
     "output_type": "stream",
     "text": [
      "Best val Loss classification: 0.736560,Best val Acc classification:0.755385\n"
     ]
    },
    {
     "name": "stderr",
     "output_type": "stream",
     "text": [
      "Epocha train 61/300: 100%|██████████| 180/180 [01:00<00:00,  2.99it/s, acc=0.75795, gpu_memory=5.45 GB, lr=0.00010, valid_loss=0.6364]\n",
      "Epocha val 61/300: 100%|██████████| 78/78 [00:12<00:00,  6.11it/s, acc=0.78522, gpu_memory=5.45 GB, lr=0.00010, valid_loss=0.7364]\n",
      "Epocha train 62/300: 100%|██████████| 180/180 [01:01<00:00,  2.93it/s, acc=0.75487, gpu_memory=5.45 GB, lr=0.00010, valid_loss=0.6124]\n",
      "Epocha val 62/300: 100%|██████████| 78/78 [00:12<00:00,  6.16it/s, acc=0.78944, gpu_memory=5.45 GB, lr=0.00010, valid_loss=0.7393]\n",
      "Epocha train 63/300: 100%|██████████| 180/180 [01:00<00:00,  2.99it/s, acc=0.75769, gpu_memory=5.45 GB, lr=0.00010, valid_loss=0.6317]\n",
      "Epocha val 63/300: 100%|██████████| 78/78 [00:09<00:00,  7.92it/s, acc=0.78378, gpu_memory=5.45 GB, lr=0.00010, valid_loss=0.7335]\n"
     ]
    },
    {
     "name": "stdout",
     "output_type": "stream",
     "text": [
      "Best val Loss classification: 0.733546,Best val Acc classification:0.757949\n"
     ]
    },
    {
     "name": "stderr",
     "output_type": "stream",
     "text": [
      "Epocha train 64/300: 100%|██████████| 180/180 [01:01<00:00,  2.93it/s, acc=0.76128, gpu_memory=5.45 GB, lr=0.00010, valid_loss=0.6207]\n",
      "Epocha val 64/300: 100%|██████████| 78/78 [00:12<00:00,  6.13it/s, acc=0.78522, gpu_memory=5.45 GB, lr=0.00010, valid_loss=0.7369]\n",
      "Epocha train 65/300: 100%|██████████| 180/180 [01:01<00:00,  2.93it/s, acc=0.75949, gpu_memory=5.45 GB, lr=0.00010, valid_loss=0.6073]\n",
      "Epocha val 65/300: 100%|██████████| 78/78 [00:09<00:00,  8.60it/s, acc=0.79144, gpu_memory=5.45 GB, lr=0.00010, valid_loss=0.7200]\n"
     ]
    },
    {
     "name": "stdout",
     "output_type": "stream",
     "text": [
      "Best val Loss classification: 0.719968,Best val Acc classification:0.761282\n"
     ]
    },
    {
     "name": "stderr",
     "output_type": "stream",
     "text": [
      "Epocha train 66/300: 100%|██████████| 180/180 [01:01<00:00,  2.94it/s, acc=0.76282, gpu_memory=5.45 GB, lr=0.00010, valid_loss=0.6159]\n",
      "Epocha val 66/300: 100%|██████████| 78/78 [00:12<00:00,  6.12it/s, acc=0.78956, gpu_memory=5.45 GB, lr=0.00010, valid_loss=0.7238]\n",
      "Epocha train 67/300: 100%|██████████| 180/180 [01:01<00:00,  2.95it/s, acc=0.76256, gpu_memory=5.45 GB, lr=0.00010, valid_loss=0.6023]\n",
      "Epocha val 67/300: 100%|██████████| 78/78 [00:10<00:00,  7.42it/s, acc=0.79500, gpu_memory=5.45 GB, lr=0.00010, valid_loss=0.7237]\n"
     ]
    },
    {
     "name": "stdout",
     "output_type": "stream",
     "text": [
      "Best val Loss classification: 0.719968,Best val Acc classification:0.762821\n"
     ]
    },
    {
     "name": "stderr",
     "output_type": "stream",
     "text": [
      "Epocha train 68/300: 100%|██████████| 180/180 [01:00<00:00,  2.99it/s, acc=0.76923, gpu_memory=5.45 GB, lr=0.00010, valid_loss=0.5989]\n",
      "Epocha val 68/300: 100%|██████████| 78/78 [00:12<00:00,  6.18it/s, acc=0.79344, gpu_memory=5.45 GB, lr=0.00010, valid_loss=0.7228]\n"
     ]
    },
    {
     "name": "stdout",
     "output_type": "stream",
     "text": [
      "Best val Loss classification: 0.719968,Best val Acc classification:0.769231\n"
     ]
    },
    {
     "name": "stderr",
     "output_type": "stream",
     "text": [
      "Epocha train 69/300: 100%|██████████| 180/180 [01:01<00:00,  2.94it/s, acc=0.77436, gpu_memory=5.45 GB, lr=0.00010, valid_loss=0.5896]\n",
      "Epocha val 69/300: 100%|██████████| 78/78 [00:12<00:00,  6.15it/s, acc=0.79889, gpu_memory=5.45 GB, lr=0.00010, valid_loss=0.7344]\n",
      "Epocha train 70/300: 100%|██████████| 180/180 [01:00<00:00,  2.99it/s, acc=0.76026, gpu_memory=5.45 GB, lr=0.00010, valid_loss=0.5719]\n",
      "Epocha val 70/300: 100%|██████████| 78/78 [00:09<00:00,  7.85it/s, acc=0.80267, gpu_memory=5.45 GB, lr=0.00010, valid_loss=0.7182]\n",
      "Epocha train 71/300: 100%|██████████| 180/180 [01:01<00:00,  2.95it/s, acc=0.76974, gpu_memory=5.45 GB, lr=0.00010, valid_loss=0.5810]\n",
      "Epocha val 71/300: 100%|██████████| 78/78 [00:12<00:00,  6.18it/s, acc=0.80367, gpu_memory=5.45 GB, lr=0.00010, valid_loss=0.7185]\n",
      "Epocha train 72/300: 100%|██████████| 180/180 [01:00<00:00,  2.96it/s, acc=0.77128, gpu_memory=5.45 GB, lr=0.00010, valid_loss=0.5839]\n",
      "Epocha val 72/300: 100%|██████████| 78/78 [00:08<00:00,  8.87it/s, acc=0.79900, gpu_memory=5.45 GB, lr=0.00010, valid_loss=0.7130]\n",
      "Epocha train 73/300: 100%|██████████| 180/180 [00:59<00:00,  3.01it/s, acc=0.76538, gpu_memory=5.45 GB, lr=0.00010, valid_loss=0.5641]\n",
      "Epocha val 73/300: 100%|██████████| 78/78 [00:12<00:00,  6.16it/s, acc=0.80178, gpu_memory=5.45 GB, lr=0.00010, valid_loss=0.7105]\n",
      "Epocha train 74/300: 100%|██████████| 180/180 [01:01<00:00,  2.94it/s, acc=0.76974, gpu_memory=5.45 GB, lr=0.00010, valid_loss=0.5677]\n",
      "Epocha val 74/300: 100%|██████████| 78/78 [00:11<00:00,  6.93it/s, acc=0.81178, gpu_memory=5.45 GB, lr=0.00010, valid_loss=0.6939]\n"
     ]
    },
    {
     "name": "stdout",
     "output_type": "stream",
     "text": [
      "Best val Loss classification: 0.693864,Best val Acc classification:0.774359\n"
     ]
    },
    {
     "name": "stderr",
     "output_type": "stream",
     "text": [
      "Epocha train 75/300: 100%|██████████| 180/180 [01:00<00:00,  2.99it/s, acc=0.77462, gpu_memory=5.45 GB, lr=0.00010, valid_loss=0.5619]\n",
      "Epocha val 75/300: 100%|██████████| 78/78 [00:12<00:00,  6.10it/s, acc=0.81133, gpu_memory=5.45 GB, lr=0.00010, valid_loss=0.7030]\n"
     ]
    },
    {
     "name": "stdout",
     "output_type": "stream",
     "text": [
      "Best val Loss classification: 0.693864,Best val Acc classification:0.774615\n"
     ]
    },
    {
     "name": "stderr",
     "output_type": "stream",
     "text": [
      "Epocha train 76/300: 100%|██████████| 180/180 [01:01<00:00,  2.94it/s, acc=0.77615, gpu_memory=5.45 GB, lr=0.00010, valid_loss=0.5564]\n",
      "Epocha val 76/300: 100%|██████████| 78/78 [00:12<00:00,  6.20it/s, acc=0.80833, gpu_memory=5.45 GB, lr=0.00010, valid_loss=0.7051]\n",
      "Epocha train 77/300: 100%|██████████| 180/180 [00:59<00:00,  3.00it/s, acc=0.77308, gpu_memory=5.45 GB, lr=0.00010, valid_loss=0.5625]\n",
      "Epocha val 77/300: 100%|██████████| 78/78 [00:10<00:00,  7.78it/s, acc=0.80722, gpu_memory=5.45 GB, lr=0.00010, valid_loss=0.7087]\n"
     ]
    },
    {
     "name": "stdout",
     "output_type": "stream",
     "text": [
      "Best val Loss classification: 0.693864,Best val Acc classification:0.776154\n"
     ]
    },
    {
     "name": "stderr",
     "output_type": "stream",
     "text": [
      "Epocha train 78/300: 100%|██████████| 180/180 [01:00<00:00,  2.96it/s, acc=0.77795, gpu_memory=5.45 GB, lr=0.00010, valid_loss=0.5480]\n",
      "Epocha val 78/300: 100%|██████████| 78/78 [00:12<00:00,  6.16it/s, acc=0.81267, gpu_memory=5.45 GB, lr=0.00010, valid_loss=0.7163]\n",
      "Epocha train 79/300: 100%|██████████| 180/180 [01:01<00:00,  2.95it/s, acc=0.77103, gpu_memory=5.45 GB, lr=0.00010, valid_loss=0.5408]\n",
      "Epocha val 79/300: 100%|██████████| 78/78 [00:08<00:00,  8.78it/s, acc=0.81444, gpu_memory=5.45 GB, lr=0.00010, valid_loss=0.7053]\n",
      "Epocha train 80/300: 100%|██████████| 180/180 [01:00<00:00,  2.96it/s, acc=0.77256, gpu_memory=5.45 GB, lr=0.00010, valid_loss=0.5456]\n",
      "Epocha val 80/300: 100%|██████████| 78/78 [00:12<00:00,  6.25it/s, acc=0.81333, gpu_memory=5.45 GB, lr=0.00010, valid_loss=0.6989]\n",
      "Epocha train 81/300: 100%|██████████| 180/180 [01:01<00:00,  2.95it/s, acc=0.77205, gpu_memory=5.45 GB, lr=0.00010, valid_loss=0.5346]\n",
      "Epocha val 81/300: 100%|██████████| 78/78 [00:11<00:00,  7.06it/s, acc=0.81989, gpu_memory=5.45 GB, lr=0.00010, valid_loss=0.7118]\n",
      "Epocha train 82/300: 100%|██████████| 180/180 [01:00<00:00,  3.00it/s, acc=0.77487, gpu_memory=5.45 GB, lr=0.00010, valid_loss=0.5226]\n",
      "Epocha val 82/300: 100%|██████████| 78/78 [00:12<00:00,  6.49it/s, acc=0.82256, gpu_memory=5.45 GB, lr=0.00010, valid_loss=0.6998]\n"
     ]
    },
    {
     "name": "stdout",
     "output_type": "stream",
     "text": [
      "Best val Loss classification: 0.693864,Best val Acc classification:0.777949\n"
     ]
    },
    {
     "name": "stderr",
     "output_type": "stream",
     "text": [
      "Epocha train 83/300: 100%|██████████| 180/180 [01:00<00:00,  2.96it/s, acc=0.77949, gpu_memory=5.45 GB, lr=0.00010, valid_loss=0.5214]\n",
      "Epocha val 83/300: 100%|██████████| 78/78 [00:12<00:00,  6.12it/s, acc=0.82389, gpu_memory=5.45 GB, lr=0.00010, valid_loss=0.7092]\n",
      "Epocha train 84/300: 100%|██████████| 180/180 [00:59<00:00,  3.00it/s, acc=0.77641, gpu_memory=5.45 GB, lr=0.00010, valid_loss=0.5368]\n",
      "Epocha val 84/300: 100%|██████████| 78/78 [00:09<00:00,  8.21it/s, acc=0.81978, gpu_memory=5.45 GB, lr=0.00010, valid_loss=0.7110]\n",
      "Epocha train 85/300: 100%|██████████| 180/180 [01:01<00:00,  2.95it/s, acc=0.76923, gpu_memory=5.45 GB, lr=0.00010, valid_loss=0.5168]\n",
      "Epocha val 85/300: 100%|██████████| 78/78 [00:12<00:00,  6.10it/s, acc=0.82333, gpu_memory=5.45 GB, lr=0.00010, valid_loss=0.6970]\n",
      "Epocha train 86/300: 100%|██████████| 180/180 [01:01<00:00,  2.94it/s, acc=0.77179, gpu_memory=5.45 GB, lr=0.00010, valid_loss=0.4948]\n",
      "Epocha val 86/300: 100%|██████████| 78/78 [00:09<00:00,  8.36it/s, acc=0.82933, gpu_memory=5.45 GB, lr=0.00010, valid_loss=0.7079]\n",
      "Epocha train 87/300: 100%|██████████| 180/180 [01:00<00:00,  2.99it/s, acc=0.77077, gpu_memory=5.45 GB, lr=0.00010, valid_loss=0.5146]\n",
      "Epocha val 87/300: 100%|██████████| 78/78 [00:12<00:00,  6.13it/s, acc=0.82889, gpu_memory=5.45 GB, lr=0.00010, valid_loss=0.7256]\n",
      "Epocha train 88/300: 100%|██████████| 180/180 [01:01<00:00,  2.94it/s, acc=0.77026, gpu_memory=5.45 GB, lr=0.00010, valid_loss=0.5142]\n",
      "Epocha val 88/300: 100%|██████████| 78/78 [00:11<00:00,  6.76it/s, acc=0.82589, gpu_memory=5.45 GB, lr=0.00010, valid_loss=0.7240]\n",
      "Epocha train 89/300: 100%|██████████| 180/180 [01:00<00:00,  2.99it/s, acc=0.76692, gpu_memory=5.45 GB, lr=0.00010, valid_loss=0.4976]\n",
      "Epocha val 89/300: 100%|██████████| 78/78 [00:11<00:00,  6.88it/s, acc=0.83056, gpu_memory=5.45 GB, lr=0.00010, valid_loss=0.6982]\n",
      "Epocha train 90/300: 100%|██████████| 180/180 [01:01<00:00,  2.94it/s, acc=0.77333, gpu_memory=5.45 GB, lr=0.00010, valid_loss=0.4925]\n",
      "Epocha val 90/300: 100%|██████████| 78/78 [00:12<00:00,  6.24it/s, acc=0.83222, gpu_memory=5.45 GB, lr=0.00010, valid_loss=0.7285]\n",
      "Epocha train 91/300: 100%|██████████| 180/180 [01:00<00:00,  2.96it/s, acc=0.77282, gpu_memory=5.45 GB, lr=0.00010, valid_loss=0.4971]\n",
      "Epocha val 91/300: 100%|██████████| 78/78 [00:09<00:00,  8.44it/s, acc=0.82967, gpu_memory=5.45 GB, lr=0.00010, valid_loss=0.6977]\n",
      "Epocha train 92/300: 100%|██████████| 180/180 [01:01<00:00,  2.94it/s, acc=0.77949, gpu_memory=5.45 GB, lr=0.00010, valid_loss=0.4832]\n",
      "Epocha val 92/300: 100%|██████████| 78/78 [00:12<00:00,  6.18it/s, acc=0.83978, gpu_memory=5.45 GB, lr=0.00010, valid_loss=0.7241]\n",
      "Epocha train 93/300: 100%|██████████| 180/180 [01:00<00:00,  2.95it/s, acc=0.77154, gpu_memory=5.45 GB, lr=0.00010, valid_loss=0.4933]\n",
      "Epocha val 93/300: 100%|██████████| 78/78 [00:10<00:00,  7.23it/s, acc=0.83033, gpu_memory=5.45 GB, lr=0.00010, valid_loss=0.7212]\n",
      "Epocha train 94/300: 100%|██████████| 180/180 [00:59<00:00,  3.00it/s, acc=0.76256, gpu_memory=5.45 GB, lr=0.00010, valid_loss=0.4746]\n",
      "Epocha val 94/300: 100%|██████████| 78/78 [00:11<00:00,  6.64it/s, acc=0.84167, gpu_memory=5.45 GB, lr=0.00010, valid_loss=0.7248]\n",
      "Epocha train 95/300: 100%|██████████| 180/180 [01:01<00:00,  2.93it/s, acc=0.77282, gpu_memory=5.45 GB, lr=0.00010, valid_loss=0.4808]\n",
      "Epocha val 95/300: 100%|██████████| 78/78 [00:12<00:00,  6.19it/s, acc=0.83722, gpu_memory=5.45 GB, lr=0.00010, valid_loss=0.7041]\n",
      "Epocha train 96/300: 100%|██████████| 180/180 [01:00<00:00,  3.00it/s, acc=0.77667, gpu_memory=5.45 GB, lr=0.00010, valid_loss=0.4806]\n",
      "Epocha val 96/300: 100%|██████████| 78/78 [00:09<00:00,  8.06it/s, acc=0.83811, gpu_memory=5.45 GB, lr=0.00010, valid_loss=0.7229]\n",
      "Epocha train 97/300: 100%|██████████| 180/180 [01:01<00:00,  2.93it/s, acc=0.77231, gpu_memory=5.45 GB, lr=0.00010, valid_loss=0.4502]\n",
      "Epocha val 97/300: 100%|██████████| 78/78 [00:12<00:00,  6.15it/s, acc=0.84744, gpu_memory=5.45 GB, lr=0.00010, valid_loss=0.7153]\n",
      "Epocha train 98/300: 100%|██████████| 180/180 [01:01<00:00,  2.93it/s, acc=0.77308, gpu_memory=5.45 GB, lr=0.00010, valid_loss=0.4795]\n",
      "Epocha val 98/300: 100%|██████████| 78/78 [00:08<00:00,  8.87it/s, acc=0.83778, gpu_memory=5.45 GB, lr=0.00010, valid_loss=0.6942]\n"
     ]
    },
    {
     "name": "stdout",
     "output_type": "stream",
     "text": [
      "Best val Loss classification: 0.693864,Best val Acc classification:0.779487\n"
     ]
    },
    {
     "name": "stderr",
     "output_type": "stream",
     "text": [
      "Epocha train 99/300: 100%|██████████| 180/180 [01:00<00:00,  2.98it/s, acc=0.78077, gpu_memory=5.45 GB, lr=0.00010, valid_loss=0.4556]\n",
      "Epocha val 99/300: 100%|██████████| 78/78 [00:12<00:00,  6.15it/s, acc=0.84656, gpu_memory=5.45 GB, lr=0.00010, valid_loss=0.7190]\n",
      "Epocha train 100/300: 100%|██████████| 180/180 [01:01<00:00,  2.94it/s, acc=0.77051, gpu_memory=5.45 GB, lr=0.00010, valid_loss=0.4485]\n",
      "Epocha val 100/300: 100%|██████████| 78/78 [00:11<00:00,  6.99it/s, acc=0.85189, gpu_memory=5.45 GB, lr=0.00001, valid_loss=0.7132]\n",
      "Epocha train 101/300: 100%|██████████| 180/180 [01:00<00:00,  2.99it/s, acc=0.78000, gpu_memory=5.45 GB, lr=0.00001, valid_loss=0.4524]\n",
      "Epocha val 101/300: 100%|██████████| 78/78 [00:11<00:00,  6.93it/s, acc=0.84800, gpu_memory=5.45 GB, lr=0.00001, valid_loss=0.7089]\n"
     ]
    },
    {
     "name": "stdout",
     "output_type": "stream",
     "text": [
      "Best val Loss classification: 0.693864,Best val Acc classification:0.780769\n"
     ]
    },
    {
     "name": "stderr",
     "output_type": "stream",
     "text": [
      "Epocha train 102/300: 100%|██████████| 180/180 [01:00<00:00,  2.96it/s, acc=0.78974, gpu_memory=5.45 GB, lr=0.00001, valid_loss=0.4389]\n",
      "Epocha val 102/300: 100%|██████████| 78/78 [00:12<00:00,  6.29it/s, acc=0.85078, gpu_memory=5.45 GB, lr=0.00001, valid_loss=0.7010]\n",
      "Epocha train 103/300: 100%|██████████| 180/180 [00:59<00:00,  3.04it/s, acc=0.78436, gpu_memory=5.45 GB, lr=0.00001, valid_loss=0.4316]\n",
      "Epocha val 103/300: 100%|██████████| 78/78 [00:09<00:00,  7.99it/s, acc=0.85789, gpu_memory=5.45 GB, lr=0.00001, valid_loss=0.6826]\n",
      "Epocha train 104/300: 100%|██████████| 180/180 [01:00<00:00,  2.98it/s, acc=0.78487, gpu_memory=5.45 GB, lr=0.00001, valid_loss=0.4428]\n",
      "Epocha val 104/300: 100%|██████████| 78/78 [00:12<00:00,  6.28it/s, acc=0.85178, gpu_memory=5.45 GB, lr=0.00001, valid_loss=0.6901]\n",
      "Epocha train 105/300: 100%|██████████| 180/180 [01:00<00:00,  2.99it/s, acc=0.78026, gpu_memory=5.45 GB, lr=0.00001, valid_loss=0.4172]\n",
      "Epocha val 105/300: 100%|██████████| 78/78 [00:08<00:00,  8.83it/s, acc=0.85933, gpu_memory=5.45 GB, lr=0.00001, valid_loss=0.6852]\n",
      "Epocha train 106/300: 100%|██████████| 180/180 [00:59<00:00,  3.01it/s, acc=0.78923, gpu_memory=5.45 GB, lr=0.00001, valid_loss=0.4169]\n",
      "Epocha val 106/300: 100%|██████████| 78/78 [00:12<00:00,  6.26it/s, acc=0.86067, gpu_memory=5.45 GB, lr=0.00001, valid_loss=0.6801]\n"
     ]
    },
    {
     "name": "stdout",
     "output_type": "stream",
     "text": [
      "Best val Loss classification: 0.680126,Best val Acc classification:0.789744\n"
     ]
    },
    {
     "name": "stderr",
     "output_type": "stream",
     "text": [
      "Epocha train 107/300: 100%|██████████| 180/180 [01:00<00:00,  2.98it/s, acc=0.79051, gpu_memory=5.45 GB, lr=0.00001, valid_loss=0.4147]\n",
      "Epocha val 107/300: 100%|██████████| 78/78 [00:10<00:00,  7.66it/s, acc=0.86211, gpu_memory=5.45 GB, lr=0.00001, valid_loss=0.6692]\n",
      "Epocha train 108/300: 100%|██████████| 180/180 [00:59<00:00,  3.05it/s, acc=0.78718, gpu_memory=5.45 GB, lr=0.00001, valid_loss=0.4082]\n",
      "Epocha val 108/300: 100%|██████████| 78/78 [00:12<00:00,  6.29it/s, acc=0.86167, gpu_memory=5.45 GB, lr=0.00001, valid_loss=0.6712]\n",
      "Epocha train 109/300: 100%|██████████| 180/180 [01:00<00:00,  2.97it/s, acc=0.78949, gpu_memory=5.45 GB, lr=0.00001, valid_loss=0.4171]\n",
      "Epocha val 109/300: 100%|██████████| 78/78 [00:11<00:00,  6.74it/s, acc=0.85733, gpu_memory=5.45 GB, lr=0.00001, valid_loss=0.6907]\n",
      "Epocha train 110/300: 100%|██████████| 180/180 [00:59<00:00,  3.03it/s, acc=0.78615, gpu_memory=5.45 GB, lr=0.00001, valid_loss=0.4104]\n",
      "Epocha val 110/300: 100%|██████████| 78/78 [00:11<00:00,  6.92it/s, acc=0.86211, gpu_memory=5.45 GB, lr=0.00001, valid_loss=0.6833]\n",
      "Epocha train 111/300: 100%|██████████| 180/180 [01:00<00:00,  2.98it/s, acc=0.78513, gpu_memory=5.45 GB, lr=0.00001, valid_loss=0.4160]\n",
      "Epocha val 111/300: 100%|██████████| 78/78 [00:12<00:00,  6.24it/s, acc=0.85878, gpu_memory=5.45 GB, lr=0.00001, valid_loss=0.6799]\n",
      "Epocha train 112/300: 100%|██████████| 180/180 [00:58<00:00,  3.06it/s, acc=0.78641, gpu_memory=5.45 GB, lr=0.00001, valid_loss=0.4168]\n",
      "Epocha val 112/300: 100%|██████████| 78/78 [00:09<00:00,  8.22it/s, acc=0.85678, gpu_memory=5.45 GB, lr=0.00001, valid_loss=0.6901]\n"
     ]
    },
    {
     "name": "stdout",
     "output_type": "stream",
     "text": [
      "Best val Loss classification: 0.669208,Best val Acc classification:0.790513\n"
     ]
    },
    {
     "name": "stderr",
     "output_type": "stream",
     "text": [
      "Epocha train 113/300: 100%|██████████| 180/180 [01:00<00:00,  2.96it/s, acc=0.79205, gpu_memory=5.45 GB, lr=0.00001, valid_loss=0.4015]\n",
      "Epocha val 113/300: 100%|██████████| 78/78 [00:12<00:00,  6.33it/s, acc=0.86711, gpu_memory=5.45 GB, lr=0.00001, valid_loss=0.6922]\n",
      "Epocha train 114/300: 100%|██████████| 180/180 [01:00<00:00,  2.99it/s, acc=0.79026, gpu_memory=5.45 GB, lr=0.00001, valid_loss=0.4256]\n",
      "Epocha val 114/300: 100%|██████████| 78/78 [00:08<00:00,  8.84it/s, acc=0.85656, gpu_memory=5.45 GB, lr=0.00001, valid_loss=0.6781]\n",
      "Epocha train 115/300: 100%|██████████| 180/180 [01:00<00:00,  2.98it/s, acc=0.78846, gpu_memory=5.45 GB, lr=0.00001, valid_loss=0.4105]\n",
      "Epocha val 115/300: 100%|██████████| 78/78 [00:12<00:00,  6.33it/s, acc=0.86522, gpu_memory=5.45 GB, lr=0.00001, valid_loss=0.6872]\n",
      "Epocha train 116/300: 100%|██████████| 180/180 [01:00<00:00,  2.98it/s, acc=0.78974, gpu_memory=5.45 GB, lr=0.00001, valid_loss=0.4068]\n",
      "Epocha val 116/300: 100%|██████████| 78/78 [00:10<00:00,  7.41it/s, acc=0.86467, gpu_memory=5.45 GB, lr=0.00001, valid_loss=0.7014]\n",
      "Epocha train 117/300: 100%|██████████| 180/180 [00:59<00:00,  3.03it/s, acc=0.78308, gpu_memory=5.45 GB, lr=0.00001, valid_loss=0.4109]\n",
      "Epocha val 117/300: 100%|██████████| 78/78 [00:11<00:00,  6.58it/s, acc=0.86044, gpu_memory=5.45 GB, lr=0.00001, valid_loss=0.6883]\n",
      "Epocha train 118/300: 100%|██████████| 180/180 [01:00<00:00,  2.98it/s, acc=0.78564, gpu_memory=5.45 GB, lr=0.00001, valid_loss=0.3997]\n",
      "Epocha val 118/300: 100%|██████████| 78/78 [00:12<00:00,  6.30it/s, acc=0.87044, gpu_memory=5.45 GB, lr=0.00001, valid_loss=0.6831]\n",
      "Epocha train 119/300: 100%|██████████| 180/180 [00:59<00:00,  3.03it/s, acc=0.77974, gpu_memory=5.45 GB, lr=0.00001, valid_loss=0.4158]\n",
      "Epocha val 119/300: 100%|██████████| 78/78 [00:09<00:00,  8.00it/s, acc=0.86089, gpu_memory=5.45 GB, lr=0.00001, valid_loss=0.6840]\n",
      "Epocha train 120/300: 100%|██████████| 180/180 [01:00<00:00,  2.96it/s, acc=0.78615, gpu_memory=5.45 GB, lr=0.00001, valid_loss=0.4008]\n",
      "Epocha val 120/300: 100%|██████████| 78/78 [00:12<00:00,  6.24it/s, acc=0.86622, gpu_memory=5.45 GB, lr=0.00001, valid_loss=0.6913]\n",
      "Epocha train 121/300: 100%|██████████| 180/180 [01:00<00:00,  2.99it/s, acc=0.78000, gpu_memory=5.45 GB, lr=0.00001, valid_loss=0.3957]\n",
      "Epocha val 121/300: 100%|██████████| 78/78 [00:08<00:00,  8.86it/s, acc=0.86856, gpu_memory=5.45 GB, lr=0.00001, valid_loss=0.6874]\n",
      "Epocha train 122/300: 100%|██████████| 180/180 [01:00<00:00,  2.98it/s, acc=0.78692, gpu_memory=5.45 GB, lr=0.00001, valid_loss=0.3889]\n",
      "Epocha val 122/300: 100%|██████████| 78/78 [00:12<00:00,  6.28it/s, acc=0.86700, gpu_memory=5.45 GB, lr=0.00001, valid_loss=0.6940]\n",
      "Epocha train 123/300: 100%|██████████| 180/180 [01:00<00:00,  2.96it/s, acc=0.78615, gpu_memory=5.45 GB, lr=0.00001, valid_loss=0.3994]\n",
      "Epocha val 123/300: 100%|██████████| 78/78 [00:10<00:00,  7.50it/s, acc=0.86833, gpu_memory=5.45 GB, lr=0.00001, valid_loss=0.6857]\n",
      "Epocha train 124/300: 100%|██████████| 180/180 [00:59<00:00,  3.03it/s, acc=0.78385, gpu_memory=5.45 GB, lr=0.00001, valid_loss=0.4036]\n",
      "Epocha val 124/300: 100%|██████████| 78/78 [00:12<00:00,  6.32it/s, acc=0.86967, gpu_memory=5.45 GB, lr=0.00001, valid_loss=0.6920]\n",
      "Epocha train 125/300: 100%|██████████| 180/180 [01:00<00:00,  2.96it/s, acc=0.78256, gpu_memory=5.45 GB, lr=0.00001, valid_loss=0.4117]\n",
      "Epocha val 125/300: 100%|██████████| 78/78 [00:12<00:00,  6.26it/s, acc=0.86122, gpu_memory=5.45 GB, lr=0.00001, valid_loss=0.6968]\n",
      "Epocha train 126/300: 100%|██████████| 180/180 [00:59<00:00,  3.03it/s, acc=0.78410, gpu_memory=5.45 GB, lr=0.00001, valid_loss=0.3775]\n",
      "Epocha val 126/300: 100%|██████████| 78/78 [00:07<00:00,  9.90it/s, acc=0.87267, gpu_memory=5.45 GB, lr=0.00001, valid_loss=0.6855]\n",
      "Epocha train 127/300: 100%|██████████| 180/180 [00:39<00:00,  4.55it/s, acc=0.78179, gpu_memory=5.45 GB, lr=0.00001, valid_loss=0.3974]\n",
      "Epocha val 127/300: 100%|██████████| 78/78 [00:07<00:00, 10.96it/s, acc=0.86756, gpu_memory=5.45 GB, lr=0.00001, valid_loss=0.6942]\n",
      "Epocha train 128/300: 100%|██████████| 180/180 [00:39<00:00,  4.55it/s, acc=0.78667, gpu_memory=5.45 GB, lr=0.00001, valid_loss=0.3847]\n",
      "Epocha val 128/300: 100%|██████████| 78/78 [00:06<00:00, 11.20it/s, acc=0.87311, gpu_memory=5.45 GB, lr=0.00001, valid_loss=0.6880]\n",
      "Epocha train 129/300: 100%|██████████| 180/180 [00:39<00:00,  4.56it/s, acc=0.79103, gpu_memory=5.45 GB, lr=0.00001, valid_loss=0.3983]\n",
      "Epocha val 129/300: 100%|██████████| 78/78 [00:07<00:00, 11.06it/s, acc=0.86756, gpu_memory=5.45 GB, lr=0.00001, valid_loss=0.6946]\n",
      "Epocha train 130/300: 100%|██████████| 180/180 [00:39<00:00,  4.56it/s, acc=0.78462, gpu_memory=5.45 GB, lr=0.00001, valid_loss=0.3896]\n",
      "Epocha val 130/300: 100%|██████████| 78/78 [00:07<00:00, 11.05it/s, acc=0.86844, gpu_memory=5.45 GB, lr=0.00001, valid_loss=0.6918]\n",
      "Epocha train 131/300: 100%|██████████| 180/180 [00:39<00:00,  4.58it/s, acc=0.78692, gpu_memory=5.45 GB, lr=0.00001, valid_loss=0.3815]\n",
      "Epocha val 131/300: 100%|██████████| 78/78 [00:07<00:00, 11.06it/s, acc=0.87267, gpu_memory=5.45 GB, lr=0.00001, valid_loss=0.6862]\n",
      "Epocha train 132/300: 100%|██████████| 180/180 [00:39<00:00,  4.57it/s, acc=0.78923, gpu_memory=5.45 GB, lr=0.00001, valid_loss=0.3752]\n",
      "Epocha val 132/300: 100%|██████████| 78/78 [00:06<00:00, 11.18it/s, acc=0.87700, gpu_memory=5.45 GB, lr=0.00001, valid_loss=0.6949]\n",
      "Epocha train 133/300: 100%|██████████| 180/180 [00:39<00:00,  4.56it/s, acc=0.78436, gpu_memory=5.45 GB, lr=0.00001, valid_loss=0.3772]\n",
      "Epocha val 133/300: 100%|██████████| 78/78 [00:07<00:00, 10.86it/s, acc=0.87456, gpu_memory=5.45 GB, lr=0.00001, valid_loss=0.6890]\n",
      "Epocha train 134/300: 100%|██████████| 180/180 [00:39<00:00,  4.56it/s, acc=0.78667, gpu_memory=5.45 GB, lr=0.00001, valid_loss=0.4018]\n",
      "Epocha val 134/300: 100%|██████████| 78/78 [00:06<00:00, 11.29it/s, acc=0.86789, gpu_memory=5.45 GB, lr=0.00001, valid_loss=0.6932]\n",
      "Epocha train 135/300: 100%|██████████| 180/180 [00:39<00:00,  4.59it/s, acc=0.78410, gpu_memory=5.45 GB, lr=0.00001, valid_loss=0.3899]\n",
      "Epocha val 135/300: 100%|██████████| 78/78 [00:07<00:00, 11.06it/s, acc=0.86567, gpu_memory=5.45 GB, lr=0.00001, valid_loss=0.7003]\n",
      "Epocha train 136/300: 100%|██████████| 180/180 [00:39<00:00,  4.58it/s, acc=0.78641, gpu_memory=5.45 GB, lr=0.00001, valid_loss=0.3991]\n",
      "Epocha val 136/300: 100%|██████████| 78/78 [00:06<00:00, 11.17it/s, acc=0.86467, gpu_memory=5.45 GB, lr=0.00001, valid_loss=0.6931]\n",
      "Epocha train 137/300: 100%|██████████| 180/180 [00:39<00:00,  4.59it/s, acc=0.78564, gpu_memory=5.45 GB, lr=0.00001, valid_loss=0.3890]\n",
      "Epocha val 137/300: 100%|██████████| 78/78 [00:07<00:00, 11.03it/s, acc=0.86811, gpu_memory=5.45 GB, lr=0.00001, valid_loss=0.6984]\n",
      "Epocha train 138/300: 100%|██████████| 180/180 [00:39<00:00,  4.58it/s, acc=0.79026, gpu_memory=5.45 GB, lr=0.00001, valid_loss=0.3902]\n",
      "Epocha val 138/300: 100%|██████████| 78/78 [00:07<00:00, 11.06it/s, acc=0.86833, gpu_memory=5.45 GB, lr=0.00001, valid_loss=0.6784]\n"
     ]
    },
    {
     "name": "stdout",
     "output_type": "stream",
     "text": [
      "Best val Loss classification: 0.669208,Best val Acc classification:0.792051\n"
     ]
    },
    {
     "name": "stderr",
     "output_type": "stream",
     "text": [
      "Epocha train 139/300: 100%|██████████| 180/180 [00:39<00:00,  4.56it/s, acc=0.79487, gpu_memory=5.45 GB, lr=0.00001, valid_loss=0.3976]\n",
      "Epocha val 139/300: 100%|██████████| 78/78 [00:06<00:00, 11.37it/s, acc=0.86533, gpu_memory=5.45 GB, lr=0.00001, valid_loss=0.6926]\n",
      "Epocha train 140/300: 100%|██████████| 180/180 [00:39<00:00,  4.60it/s, acc=0.79154, gpu_memory=5.45 GB, lr=0.00001, valid_loss=0.3966]\n",
      "Epocha val 140/300: 100%|██████████| 78/78 [00:07<00:00, 10.38it/s, acc=0.86867, gpu_memory=5.45 GB, lr=0.00001, valid_loss=0.6868]\n",
      "Epocha train 141/300: 100%|██████████| 180/180 [00:39<00:00,  4.57it/s, acc=0.79231, gpu_memory=5.45 GB, lr=0.00001, valid_loss=0.3922]\n",
      "Epocha val 141/300: 100%|██████████| 78/78 [00:06<00:00, 11.33it/s, acc=0.86956, gpu_memory=5.45 GB, lr=0.00001, valid_loss=0.7010]\n",
      "Epocha train 142/300: 100%|██████████| 180/180 [00:39<00:00,  4.60it/s, acc=0.78564, gpu_memory=5.45 GB, lr=0.00001, valid_loss=0.3847]\n",
      "Epocha val 142/300: 100%|██████████| 78/78 [00:06<00:00, 11.37it/s, acc=0.87333, gpu_memory=5.45 GB, lr=0.00001, valid_loss=0.6969]\n",
      "Epocha train 143/300: 100%|██████████| 180/180 [00:39<00:00,  4.57it/s, acc=0.78949, gpu_memory=5.45 GB, lr=0.00001, valid_loss=0.3972]\n",
      "Epocha val 143/300: 100%|██████████| 78/78 [00:06<00:00, 11.27it/s, acc=0.86500, gpu_memory=5.45 GB, lr=0.00001, valid_loss=0.6923]\n",
      "Epocha train 144/300: 100%|██████████| 180/180 [00:39<00:00,  4.57it/s, acc=0.78769, gpu_memory=5.45 GB, lr=0.00001, valid_loss=0.3882]\n",
      "Epocha val 144/300: 100%|██████████| 78/78 [00:06<00:00, 11.14it/s, acc=0.86833, gpu_memory=5.45 GB, lr=0.00001, valid_loss=0.6982]\n",
      "Epocha train 145/300: 100%|██████████| 180/180 [00:39<00:00,  4.59it/s, acc=0.79103, gpu_memory=5.45 GB, lr=0.00001, valid_loss=0.3835]\n",
      "Epocha val 145/300: 100%|██████████| 78/78 [00:07<00:00, 10.89it/s, acc=0.86767, gpu_memory=5.45 GB, lr=0.00001, valid_loss=0.6952]\n",
      "Epocha train 146/300: 100%|██████████| 180/180 [00:39<00:00,  4.59it/s, acc=0.78795, gpu_memory=5.45 GB, lr=0.00001, valid_loss=0.3664]\n",
      "Epocha val 146/300: 100%|██████████| 78/78 [00:07<00:00, 10.84it/s, acc=0.87822, gpu_memory=5.45 GB, lr=0.00001, valid_loss=0.6837]\n",
      "Epocha train 147/300: 100%|██████████| 180/180 [00:39<00:00,  4.57it/s, acc=0.78949, gpu_memory=5.45 GB, lr=0.00001, valid_loss=0.3866]\n",
      "Epocha val 147/300: 100%|██████████| 78/78 [00:06<00:00, 11.17it/s, acc=0.86944, gpu_memory=5.45 GB, lr=0.00001, valid_loss=0.6909]\n",
      "Epocha train 148/300: 100%|██████████| 180/180 [00:39<00:00,  4.57it/s, acc=0.78923, gpu_memory=5.45 GB, lr=0.00001, valid_loss=0.3870]\n",
      "Epocha val 148/300: 100%|██████████| 78/78 [00:07<00:00, 11.08it/s, acc=0.87500, gpu_memory=5.45 GB, lr=0.00001, valid_loss=0.6855]\n",
      "Epocha train 149/300: 100%|██████████| 180/180 [00:39<00:00,  4.57it/s, acc=0.79077, gpu_memory=5.45 GB, lr=0.00001, valid_loss=0.3922]\n",
      "Epocha val 149/300: 100%|██████████| 78/78 [00:07<00:00, 11.08it/s, acc=0.86800, gpu_memory=5.45 GB, lr=0.00001, valid_loss=0.6919]\n",
      "Epocha train 150/300: 100%|██████████| 180/180 [00:39<00:00,  4.57it/s, acc=0.78897, gpu_memory=5.45 GB, lr=0.00001, valid_loss=0.4060]\n",
      "Epocha val 150/300: 100%|██████████| 78/78 [00:07<00:00, 11.06it/s, acc=0.86589, gpu_memory=5.45 GB, lr=0.00000, valid_loss=0.6999]\n",
      "Epocha train 151/300: 100%|██████████| 180/180 [00:39<00:00,  4.59it/s, acc=0.78103, gpu_memory=5.45 GB, lr=0.00000, valid_loss=0.3828]\n",
      "Epocha val 151/300: 100%|██████████| 78/78 [00:07<00:00, 11.04it/s, acc=0.87811, gpu_memory=5.45 GB, lr=0.00000, valid_loss=0.6900]\n",
      "Epocha train 152/300: 100%|██████████| 180/180 [00:39<00:00,  4.57it/s, acc=0.78538, gpu_memory=5.45 GB, lr=0.00000, valid_loss=0.3877]\n",
      "Epocha val 152/300: 100%|██████████| 78/78 [00:06<00:00, 11.42it/s, acc=0.87411, gpu_memory=5.45 GB, lr=0.00000, valid_loss=0.7029]\n",
      "Epocha train 153/300: 100%|██████████| 180/180 [00:39<00:00,  4.60it/s, acc=0.78282, gpu_memory=5.45 GB, lr=0.00000, valid_loss=0.4010]\n",
      "Epocha val 153/300: 100%|██████████| 78/78 [00:06<00:00, 11.31it/s, acc=0.86889, gpu_memory=5.45 GB, lr=0.00000, valid_loss=0.6948]\n",
      "Epocha train 154/300: 100%|██████████| 180/180 [00:39<00:00,  4.57it/s, acc=0.78538, gpu_memory=5.45 GB, lr=0.00000, valid_loss=0.3820]\n",
      "Epocha val 154/300: 100%|██████████| 78/78 [00:07<00:00, 10.78it/s, acc=0.87511, gpu_memory=5.45 GB, lr=0.00000, valid_loss=0.6802]\n",
      "Epocha train 155/300: 100%|██████████| 180/180 [00:39<00:00,  4.56it/s, acc=0.79436, gpu_memory=5.45 GB, lr=0.00000, valid_loss=0.3809]\n",
      "Epocha val 155/300: 100%|██████████| 78/78 [00:07<00:00, 11.08it/s, acc=0.87433, gpu_memory=5.45 GB, lr=0.00000, valid_loss=0.6842]\n",
      "Epocha train 156/300: 100%|██████████| 180/180 [00:39<00:00,  4.58it/s, acc=0.78846, gpu_memory=5.45 GB, lr=0.00000, valid_loss=0.3787]\n",
      "Epocha val 156/300: 100%|██████████| 78/78 [00:06<00:00, 11.21it/s, acc=0.87389, gpu_memory=5.45 GB, lr=0.00000, valid_loss=0.6733]\n",
      "Epocha train 157/300: 100%|██████████| 180/180 [00:39<00:00,  4.58it/s, acc=0.79231, gpu_memory=5.45 GB, lr=0.00000, valid_loss=0.3770]\n",
      "Epocha val 157/300: 100%|██████████| 78/78 [00:06<00:00, 11.24it/s, acc=0.87389, gpu_memory=5.45 GB, lr=0.00000, valid_loss=0.6939]\n",
      "Epocha train 158/300: 100%|██████████| 180/180 [00:39<00:00,  4.58it/s, acc=0.78718, gpu_memory=5.45 GB, lr=0.00000, valid_loss=0.3747]\n",
      "Epocha val 158/300: 100%|██████████| 78/78 [00:07<00:00, 11.01it/s, acc=0.87611, gpu_memory=5.45 GB, lr=0.00000, valid_loss=0.6915]\n",
      "Epocha train 159/300: 100%|██████████| 180/180 [00:39<00:00,  4.56it/s, acc=0.78795, gpu_memory=5.45 GB, lr=0.00000, valid_loss=0.3798]\n",
      "Epocha val 159/300: 100%|██████████| 78/78 [00:07<00:00, 11.10it/s, acc=0.87567, gpu_memory=5.45 GB, lr=0.00000, valid_loss=0.6925]\n",
      "Epocha train 160/300: 100%|██████████| 180/180 [00:39<00:00,  4.53it/s, acc=0.78615, gpu_memory=5.45 GB, lr=0.00000, valid_loss=0.3632]\n",
      "Epocha val 160/300: 100%|██████████| 78/78 [00:07<00:00, 10.60it/s, acc=0.88022, gpu_memory=5.45 GB, lr=0.00000, valid_loss=0.6849]\n",
      "Epocha train 161/300: 100%|██████████| 180/180 [00:39<00:00,  4.59it/s, acc=0.79205, gpu_memory=5.45 GB, lr=0.00000, valid_loss=0.3971]\n",
      "Epocha val 161/300: 100%|██████████| 78/78 [00:06<00:00, 11.23it/s, acc=0.86678, gpu_memory=5.45 GB, lr=0.00000, valid_loss=0.6889]\n",
      "Epocha train 162/300: 100%|██████████| 180/180 [00:39<00:00,  4.58it/s, acc=0.79000, gpu_memory=5.45 GB, lr=0.00000, valid_loss=0.3883]\n",
      "Epocha val 162/300: 100%|██████████| 78/78 [00:07<00:00, 11.06it/s, acc=0.87389, gpu_memory=5.45 GB, lr=0.00000, valid_loss=0.6896]\n",
      "Epocha train 163/300: 100%|██████████| 180/180 [00:39<00:00,  4.59it/s, acc=0.78590, gpu_memory=5.45 GB, lr=0.00000, valid_loss=0.3827]\n",
      "Epocha val 163/300: 100%|██████████| 78/78 [00:06<00:00, 11.34it/s, acc=0.87422, gpu_memory=5.45 GB, lr=0.00000, valid_loss=0.6840]\n",
      "Epocha train 164/300: 100%|██████████| 180/180 [00:39<00:00,  4.58it/s, acc=0.79359, gpu_memory=5.45 GB, lr=0.00000, valid_loss=0.3721]\n",
      "Epocha val 164/300: 100%|██████████| 78/78 [00:07<00:00, 10.99it/s, acc=0.87800, gpu_memory=5.45 GB, lr=0.00000, valid_loss=0.6958]\n",
      "Epocha train 165/300: 100%|██████████| 180/180 [00:39<00:00,  4.56it/s, acc=0.79282, gpu_memory=5.45 GB, lr=0.00000, valid_loss=0.3849]\n",
      "Epocha val 165/300: 100%|██████████| 78/78 [00:07<00:00, 11.06it/s, acc=0.87022, gpu_memory=5.45 GB, lr=0.00000, valid_loss=0.7007]\n",
      "Epocha train 166/300: 100%|██████████| 180/180 [00:39<00:00,  4.57it/s, acc=0.79026, gpu_memory=5.45 GB, lr=0.00000, valid_loss=0.3801]\n",
      "Epocha val 166/300: 100%|██████████| 78/78 [00:07<00:00, 11.10it/s, acc=0.87244, gpu_memory=5.45 GB, lr=0.00000, valid_loss=0.6912]\n",
      "Epocha train 167/300: 100%|██████████| 180/180 [00:39<00:00,  4.58it/s, acc=0.79026, gpu_memory=5.45 GB, lr=0.00000, valid_loss=0.3779]\n",
      "Epocha val 167/300: 100%|██████████| 78/78 [00:07<00:00, 11.10it/s, acc=0.87367, gpu_memory=5.45 GB, lr=0.00000, valid_loss=0.6906]\n",
      "Epocha train 168/300: 100%|██████████| 180/180 [00:39<00:00,  4.58it/s, acc=0.78718, gpu_memory=5.45 GB, lr=0.00000, valid_loss=0.3893]\n",
      "Epocha val 168/300: 100%|██████████| 78/78 [00:06<00:00, 11.32it/s, acc=0.86944, gpu_memory=5.45 GB, lr=0.00000, valid_loss=0.6885]\n",
      "Epocha train 169/300: 100%|██████████| 180/180 [00:39<00:00,  4.59it/s, acc=0.78513, gpu_memory=5.45 GB, lr=0.00000, valid_loss=0.3765]\n",
      "Epocha val 169/300: 100%|██████████| 78/78 [00:06<00:00, 11.30it/s, acc=0.87644, gpu_memory=5.45 GB, lr=0.00000, valid_loss=0.6913]\n",
      "Epocha train 170/300: 100%|██████████| 180/180 [00:39<00:00,  4.60it/s, acc=0.78615, gpu_memory=5.45 GB, lr=0.00000, valid_loss=0.3664]\n",
      "Epocha val 170/300: 100%|██████████| 78/78 [00:07<00:00, 11.12it/s, acc=0.88022, gpu_memory=5.45 GB, lr=0.00000, valid_loss=0.6924]\n",
      "Epocha train 171/300: 100%|██████████| 180/180 [00:39<00:00,  4.58it/s, acc=0.78487, gpu_memory=5.45 GB, lr=0.00000, valid_loss=0.3783]\n",
      "Epocha val 171/300: 100%|██████████| 78/78 [00:07<00:00, 11.05it/s, acc=0.87333, gpu_memory=5.45 GB, lr=0.00000, valid_loss=0.7054]\n",
      "Epocha train 172/300: 100%|██████████| 180/180 [00:39<00:00,  4.60it/s, acc=0.78564, gpu_memory=5.45 GB, lr=0.00000, valid_loss=0.3864]\n",
      "Epocha val 172/300: 100%|██████████| 78/78 [00:06<00:00, 11.20it/s, acc=0.87467, gpu_memory=5.45 GB, lr=0.00000, valid_loss=0.6896]\n",
      "Epocha train 173/300: 100%|██████████| 180/180 [00:39<00:00,  4.56it/s, acc=0.78667, gpu_memory=5.45 GB, lr=0.00000, valid_loss=0.3781]\n",
      "Epocha val 173/300: 100%|██████████| 78/78 [00:07<00:00, 11.02it/s, acc=0.87744, gpu_memory=5.45 GB, lr=0.00000, valid_loss=0.6882]\n",
      "Epocha train 174/300: 100%|██████████| 180/180 [00:39<00:00,  4.55it/s, acc=0.78667, gpu_memory=5.45 GB, lr=0.00000, valid_loss=0.3807]\n",
      "Epocha val 174/300: 100%|██████████| 78/78 [00:07<00:00, 10.96it/s, acc=0.87733, gpu_memory=5.45 GB, lr=0.00000, valid_loss=0.6853]\n",
      "Epocha train 175/300: 100%|██████████| 180/180 [00:39<00:00,  4.57it/s, acc=0.79205, gpu_memory=5.45 GB, lr=0.00000, valid_loss=0.3730]\n",
      "Epocha val 175/300: 100%|██████████| 78/78 [00:06<00:00, 11.15it/s, acc=0.88111, gpu_memory=5.45 GB, lr=0.00000, valid_loss=0.6953]\n",
      "Epocha train 176/300: 100%|██████████| 180/180 [00:39<00:00,  4.59it/s, acc=0.78462, gpu_memory=5.45 GB, lr=0.00000, valid_loss=0.3674]\n",
      "Epocha val 176/300: 100%|██████████| 78/78 [00:06<00:00, 11.16it/s, acc=0.88111, gpu_memory=5.45 GB, lr=0.00000, valid_loss=0.6950]\n",
      "Epocha train 177/300: 100%|██████████| 180/180 [00:39<00:00,  4.60it/s, acc=0.78436, gpu_memory=5.45 GB, lr=0.00000, valid_loss=0.3864]\n",
      "Epocha val 177/300: 100%|██████████| 78/78 [00:07<00:00, 10.88it/s, acc=0.87156, gpu_memory=5.45 GB, lr=0.00000, valid_loss=0.6885]\n",
      "Epocha train 178/300: 100%|██████████| 180/180 [00:39<00:00,  4.59it/s, acc=0.79026, gpu_memory=5.45 GB, lr=0.00000, valid_loss=0.3819]\n",
      "Epocha val 178/300: 100%|██████████| 78/78 [00:07<00:00, 11.11it/s, acc=0.87456, gpu_memory=5.45 GB, lr=0.00000, valid_loss=0.6915]\n",
      "Epocha train 179/300: 100%|██████████| 180/180 [00:39<00:00,  4.56it/s, acc=0.78846, gpu_memory=5.45 GB, lr=0.00000, valid_loss=0.3880]\n",
      "Epocha val 179/300: 100%|██████████| 78/78 [00:07<00:00, 11.01it/s, acc=0.87167, gpu_memory=5.45 GB, lr=0.00000, valid_loss=0.6766]\n",
      "Epocha train 180/300: 100%|██████████| 180/180 [00:39<00:00,  4.57it/s, acc=0.78769, gpu_memory=5.45 GB, lr=0.00000, valid_loss=0.3942]\n",
      "Epocha val 180/300: 100%|██████████| 78/78 [00:06<00:00, 11.19it/s, acc=0.86844, gpu_memory=5.45 GB, lr=0.00000, valid_loss=0.6876]\n"
     ]
    },
    {
     "name": "stdout",
     "output_type": "stream",
     "text": [
      "Best val Loss classification: 0.669208,Best val Acc classification:0.794872\n"
     ]
    },
    {
     "name": "stderr",
     "output_type": "stream",
     "text": [
      "Epocha train 181/300: 100%|██████████| 180/180 [00:39<00:00,  4.60it/s, acc=0.79513, gpu_memory=5.45 GB, lr=0.00000, valid_loss=0.3738]\n",
      "Epocha val 181/300: 100%|██████████| 78/78 [00:07<00:00, 10.93it/s, acc=0.87822, gpu_memory=5.45 GB, lr=0.00000, valid_loss=0.6976]\n",
      "Epocha train 182/300: 100%|██████████| 180/180 [00:39<00:00,  4.55it/s, acc=0.78974, gpu_memory=5.45 GB, lr=0.00000, valid_loss=0.3698]\n",
      "Epocha val 182/300: 100%|██████████| 78/78 [00:07<00:00, 11.01it/s, acc=0.87967, gpu_memory=5.45 GB, lr=0.00000, valid_loss=0.6857]\n",
      "Epocha train 183/300: 100%|██████████| 180/180 [00:39<00:00,  4.57it/s, acc=0.78590, gpu_memory=5.45 GB, lr=0.00000, valid_loss=0.3777]\n",
      "Epocha val 183/300: 100%|██████████| 78/78 [00:07<00:00, 11.11it/s, acc=0.87444, gpu_memory=5.45 GB, lr=0.00000, valid_loss=0.6918]\n",
      "Epocha train 184/300: 100%|██████████| 180/180 [00:39<00:00,  4.56it/s, acc=0.78769, gpu_memory=5.45 GB, lr=0.00000, valid_loss=0.3738]\n",
      "Epocha val 184/300: 100%|██████████| 78/78 [00:06<00:00, 11.44it/s, acc=0.87722, gpu_memory=5.45 GB, lr=0.00000, valid_loss=0.6817]\n",
      "Epocha train 185/300: 100%|██████████| 180/180 [00:39<00:00,  4.58it/s, acc=0.78846, gpu_memory=5.45 GB, lr=0.00000, valid_loss=0.3876]\n",
      "Epocha val 185/300: 100%|██████████| 78/78 [00:06<00:00, 11.34it/s, acc=0.87433, gpu_memory=5.45 GB, lr=0.00000, valid_loss=0.7005]\n",
      "Epocha train 186/300: 100%|██████████| 180/180 [00:39<00:00,  4.59it/s, acc=0.78154, gpu_memory=5.45 GB, lr=0.00000, valid_loss=0.3694]\n",
      "Epocha val 186/300: 100%|██████████| 78/78 [00:07<00:00, 10.95it/s, acc=0.87522, gpu_memory=5.45 GB, lr=0.00000, valid_loss=0.6921]\n",
      "Epocha train 187/300: 100%|██████████| 180/180 [00:39<00:00,  4.57it/s, acc=0.78590, gpu_memory=5.45 GB, lr=0.00000, valid_loss=0.3812]\n",
      "Epocha val 187/300: 100%|██████████| 78/78 [00:06<00:00, 11.17it/s, acc=0.87389, gpu_memory=5.45 GB, lr=0.00000, valid_loss=0.6892]\n",
      "Epocha train 188/300: 100%|██████████| 180/180 [00:39<00:00,  4.55it/s, acc=0.78718, gpu_memory=5.45 GB, lr=0.00000, valid_loss=0.3712]\n",
      "Epocha val 188/300: 100%|██████████| 78/78 [00:06<00:00, 11.23it/s, acc=0.87600, gpu_memory=5.45 GB, lr=0.00000, valid_loss=0.6775]\n"
     ]
    },
    {
     "name": "stdout",
     "output_type": "stream",
     "text": [
      "Best val Loss classification: 0.669208,Best val Acc classification:0.795128\n"
     ]
    },
    {
     "name": "stderr",
     "output_type": "stream",
     "text": [
      "Epocha train 189/300: 100%|██████████| 180/180 [00:39<00:00,  4.59it/s, acc=0.80051, gpu_memory=5.45 GB, lr=0.00000, valid_loss=0.3838]\n",
      "Epocha val 189/300: 100%|██████████| 78/78 [00:07<00:00, 10.91it/s, acc=0.87500, gpu_memory=5.45 GB, lr=0.00000, valid_loss=0.6926]\n",
      "Epocha train 190/300: 100%|██████████| 180/180 [00:39<00:00,  4.58it/s, acc=0.78821, gpu_memory=5.45 GB, lr=0.00000, valid_loss=0.3766]\n",
      "Epocha val 190/300: 100%|██████████| 78/78 [00:06<00:00, 11.17it/s, acc=0.87478, gpu_memory=5.45 GB, lr=0.00000, valid_loss=0.7010]\n",
      "Epocha train 191/300: 100%|██████████| 180/180 [00:39<00:00,  4.57it/s, acc=0.78872, gpu_memory=5.45 GB, lr=0.00000, valid_loss=0.3757]\n",
      "Epocha val 191/300: 100%|██████████| 78/78 [00:07<00:00, 11.06it/s, acc=0.87267, gpu_memory=5.45 GB, lr=0.00000, valid_loss=0.7036]\n",
      "Epocha train 192/300: 100%|██████████| 180/180 [00:39<00:00,  4.55it/s, acc=0.78513, gpu_memory=5.45 GB, lr=0.00000, valid_loss=0.3685]\n",
      "Epocha val 192/300: 100%|██████████| 78/78 [00:06<00:00, 11.35it/s, acc=0.87467, gpu_memory=5.45 GB, lr=0.00000, valid_loss=0.6966]\n",
      "Epocha train 193/300: 100%|██████████| 180/180 [00:39<00:00,  4.58it/s, acc=0.78718, gpu_memory=5.45 GB, lr=0.00000, valid_loss=0.3820]\n",
      "Epocha val 193/300: 100%|██████████| 78/78 [00:07<00:00, 11.03it/s, acc=0.87333, gpu_memory=5.45 GB, lr=0.00000, valid_loss=0.6887]\n",
      "Epocha train 194/300: 100%|██████████| 180/180 [00:39<00:00,  4.57it/s, acc=0.78795, gpu_memory=5.45 GB, lr=0.00000, valid_loss=0.3944]\n",
      "Epocha val 194/300: 100%|██████████| 78/78 [00:06<00:00, 11.22it/s, acc=0.87189, gpu_memory=5.45 GB, lr=0.00000, valid_loss=0.6754]\n",
      "Epocha train 195/300: 100%|██████████| 180/180 [00:39<00:00,  4.58it/s, acc=0.79026, gpu_memory=5.45 GB, lr=0.00000, valid_loss=0.3756]\n",
      "Epocha val 195/300: 100%|██████████| 78/78 [00:07<00:00, 10.91it/s, acc=0.87522, gpu_memory=5.45 GB, lr=0.00000, valid_loss=0.6890]\n",
      "Epocha train 196/300: 100%|██████████| 180/180 [00:39<00:00,  4.58it/s, acc=0.78949, gpu_memory=5.45 GB, lr=0.00000, valid_loss=0.3621]\n",
      "Epocha val 196/300: 100%|██████████| 78/78 [00:06<00:00, 11.17it/s, acc=0.88111, gpu_memory=5.45 GB, lr=0.00000, valid_loss=0.6953]\n",
      "Epocha train 197/300: 100%|██████████| 180/180 [00:39<00:00,  4.57it/s, acc=0.78026, gpu_memory=5.45 GB, lr=0.00000, valid_loss=0.3899]\n",
      "Epocha val 197/300: 100%|██████████| 78/78 [00:07<00:00, 11.11it/s, acc=0.87256, gpu_memory=5.45 GB, lr=0.00000, valid_loss=0.6889]\n",
      "Epocha train 198/300: 100%|██████████| 180/180 [00:39<00:00,  4.57it/s, acc=0.78615, gpu_memory=5.45 GB, lr=0.00000, valid_loss=0.3723]\n",
      "Epocha val 198/300: 100%|██████████| 78/78 [00:06<00:00, 11.25it/s, acc=0.87667, gpu_memory=5.45 GB, lr=0.00000, valid_loss=0.6847]\n",
      "Epocha train 199/300: 100%|██████████| 180/180 [00:39<00:00,  4.56it/s, acc=0.78487, gpu_memory=5.45 GB, lr=0.00000, valid_loss=0.3835]\n",
      "Epocha val 199/300: 100%|██████████| 78/78 [00:07<00:00, 11.11it/s, acc=0.86878, gpu_memory=5.45 GB, lr=0.00000, valid_loss=0.6967]\n",
      "Epocha train 200/300: 100%|██████████| 180/180 [00:39<00:00,  4.57it/s, acc=0.78308, gpu_memory=5.45 GB, lr=0.00000, valid_loss=0.3891]\n",
      "Epocha val 200/300: 100%|██████████| 78/78 [00:07<00:00, 11.06it/s, acc=0.87011, gpu_memory=5.45 GB, lr=0.00000, valid_loss=0.7020]\n",
      "Epocha train 201/300: 100%|██████████| 180/180 [00:39<00:00,  4.58it/s, acc=0.78641, gpu_memory=5.45 GB, lr=0.00000, valid_loss=0.3843]\n",
      "Epocha val 201/300: 100%|██████████| 78/78 [00:07<00:00, 11.11it/s, acc=0.87589, gpu_memory=5.45 GB, lr=0.00000, valid_loss=0.6991]\n",
      "Epocha train 202/300: 100%|██████████| 180/180 [00:39<00:00,  4.56it/s, acc=0.78615, gpu_memory=5.45 GB, lr=0.00000, valid_loss=0.3799]\n",
      "Epocha val 202/300: 100%|██████████| 78/78 [00:06<00:00, 11.24it/s, acc=0.87544, gpu_memory=5.45 GB, lr=0.00000, valid_loss=0.6907]\n",
      "Epocha train 203/300: 100%|██████████| 180/180 [00:39<00:00,  4.55it/s, acc=0.78359, gpu_memory=5.45 GB, lr=0.00000, valid_loss=0.3953]\n",
      "Epocha val 203/300: 100%|██████████| 78/78 [00:07<00:00, 10.99it/s, acc=0.87022, gpu_memory=5.45 GB, lr=0.00000, valid_loss=0.6814]\n",
      "Epocha train 204/300: 100%|██████████| 180/180 [00:39<00:00,  4.57it/s, acc=0.79385, gpu_memory=5.45 GB, lr=0.00000, valid_loss=0.3769]\n",
      "Epocha val 204/300: 100%|██████████| 78/78 [00:06<00:00, 11.14it/s, acc=0.87767, gpu_memory=5.45 GB, lr=0.00000, valid_loss=0.6970]\n",
      "Epocha train 205/300: 100%|██████████| 180/180 [00:39<00:00,  4.57it/s, acc=0.78333, gpu_memory=5.45 GB, lr=0.00000, valid_loss=0.3832]\n",
      "Epocha val 205/300: 100%|██████████| 78/78 [00:07<00:00, 10.99it/s, acc=0.87389, gpu_memory=5.45 GB, lr=0.00000, valid_loss=0.7024]\n",
      "Epocha train 206/300: 100%|██████████| 180/180 [00:39<00:00,  4.56it/s, acc=0.78256, gpu_memory=5.45 GB, lr=0.00000, valid_loss=0.3802]\n",
      "Epocha val 206/300: 100%|██████████| 78/78 [00:07<00:00, 10.81it/s, acc=0.87344, gpu_memory=5.45 GB, lr=0.00000, valid_loss=0.6868]\n",
      "Epocha train 207/300: 100%|██████████| 180/180 [00:39<00:00,  4.56it/s, acc=0.79026, gpu_memory=5.45 GB, lr=0.00000, valid_loss=0.3789]\n",
      "Epocha val 207/300: 100%|██████████| 78/78 [00:06<00:00, 11.27it/s, acc=0.87711, gpu_memory=5.45 GB, lr=0.00000, valid_loss=0.6912]\n",
      "Epocha train 208/300: 100%|██████████| 180/180 [00:39<00:00,  4.57it/s, acc=0.79000, gpu_memory=5.45 GB, lr=0.00000, valid_loss=0.3856]\n",
      "Epocha val 208/300: 100%|██████████| 78/78 [00:06<00:00, 11.32it/s, acc=0.87056, gpu_memory=5.45 GB, lr=0.00000, valid_loss=0.6965]\n",
      "Epocha train 209/300: 100%|██████████| 180/180 [00:39<00:00,  4.54it/s, acc=0.78872, gpu_memory=5.45 GB, lr=0.00000, valid_loss=0.3648]\n",
      "Epocha val 209/300: 100%|██████████| 78/78 [00:07<00:00, 10.63it/s, acc=0.87611, gpu_memory=5.45 GB, lr=0.00000, valid_loss=0.6949]\n",
      "Epocha train 210/300: 100%|██████████| 180/180 [00:39<00:00,  4.56it/s, acc=0.78615, gpu_memory=5.45 GB, lr=0.00000, valid_loss=0.3739]\n",
      "Epocha val 210/300: 100%|██████████| 78/78 [00:06<00:00, 11.15it/s, acc=0.87467, gpu_memory=5.45 GB, lr=0.00000, valid_loss=0.6959]\n",
      "Epocha train 211/300: 100%|██████████| 180/180 [00:39<00:00,  4.58it/s, acc=0.78897, gpu_memory=5.45 GB, lr=0.00000, valid_loss=0.3703]\n",
      "Epocha val 211/300: 100%|██████████| 78/78 [00:07<00:00, 10.95it/s, acc=0.87600, gpu_memory=5.45 GB, lr=0.00000, valid_loss=0.6907]\n",
      "Epocha train 212/300: 100%|██████████| 180/180 [00:39<00:00,  4.57it/s, acc=0.78487, gpu_memory=5.45 GB, lr=0.00000, valid_loss=0.3759]\n",
      "Epocha val 212/300: 100%|██████████| 78/78 [00:07<00:00, 10.92it/s, acc=0.87644, gpu_memory=5.45 GB, lr=0.00000, valid_loss=0.6870]\n",
      "Epocha train 213/300: 100%|██████████| 180/180 [00:39<00:00,  4.58it/s, acc=0.79026, gpu_memory=5.45 GB, lr=0.00000, valid_loss=0.3796]\n",
      "Epocha val 213/300: 100%|██████████| 78/78 [00:06<00:00, 11.15it/s, acc=0.87244, gpu_memory=5.45 GB, lr=0.00000, valid_loss=0.6868]\n",
      "Epocha train 214/300: 100%|██████████| 180/180 [00:39<00:00,  4.57it/s, acc=0.78513, gpu_memory=5.45 GB, lr=0.00000, valid_loss=0.3608]\n",
      "Epocha val 214/300: 100%|██████████| 78/78 [00:06<00:00, 11.29it/s, acc=0.88056, gpu_memory=5.45 GB, lr=0.00000, valid_loss=0.6880]\n",
      "Epocha train 215/300: 100%|██████████| 180/180 [00:39<00:00,  4.59it/s, acc=0.79333, gpu_memory=5.45 GB, lr=0.00000, valid_loss=0.3943]\n",
      "Epocha val 215/300: 100%|██████████| 78/78 [00:07<00:00, 11.11it/s, acc=0.86756, gpu_memory=5.45 GB, lr=0.00000, valid_loss=0.6837]\n",
      "Epocha train 216/300: 100%|██████████| 180/180 [00:39<00:00,  4.58it/s, acc=0.78744, gpu_memory=5.45 GB, lr=0.00000, valid_loss=0.3692]\n",
      "Epocha val 216/300: 100%|██████████| 78/78 [00:07<00:00, 10.89it/s, acc=0.87833, gpu_memory=5.45 GB, lr=0.00000, valid_loss=0.6930]\n",
      "Epocha train 217/300: 100%|██████████| 180/180 [00:39<00:00,  4.57it/s, acc=0.78846, gpu_memory=5.45 GB, lr=0.00000, valid_loss=0.3857]\n",
      "Epocha val 217/300: 100%|██████████| 78/78 [00:07<00:00, 11.05it/s, acc=0.87344, gpu_memory=5.45 GB, lr=0.00000, valid_loss=0.6843]\n",
      "Epocha train 218/300: 100%|██████████| 180/180 [00:39<00:00,  4.58it/s, acc=0.79103, gpu_memory=5.45 GB, lr=0.00000, valid_loss=0.3741]\n",
      "Epocha val 218/300: 100%|██████████| 78/78 [00:07<00:00, 11.08it/s, acc=0.87744, gpu_memory=5.45 GB, lr=0.00000, valid_loss=0.6864]\n",
      "Epocha train 219/300: 100%|██████████| 180/180 [00:39<00:00,  4.58it/s, acc=0.78641, gpu_memory=5.45 GB, lr=0.00000, valid_loss=0.3787]\n",
      "Epocha val 219/300: 100%|██████████| 78/78 [00:07<00:00, 10.90it/s, acc=0.87500, gpu_memory=5.45 GB, lr=0.00000, valid_loss=0.7023]\n",
      "Epocha train 220/300: 100%|██████████| 180/180 [00:39<00:00,  4.56it/s, acc=0.78308, gpu_memory=5.45 GB, lr=0.00000, valid_loss=0.3801]\n",
      "Epocha val 220/300: 100%|██████████| 78/78 [00:07<00:00, 11.00it/s, acc=0.87367, gpu_memory=5.45 GB, lr=0.00000, valid_loss=0.6943]\n",
      "Epocha train 221/300: 100%|██████████| 180/180 [00:39<00:00,  4.58it/s, acc=0.78744, gpu_memory=5.45 GB, lr=0.00000, valid_loss=0.3764]\n",
      "Epocha val 221/300: 100%|██████████| 78/78 [00:06<00:00, 11.27it/s, acc=0.87722, gpu_memory=5.45 GB, lr=0.00000, valid_loss=0.6966]\n",
      "Epocha train 222/300: 100%|██████████| 180/180 [00:39<00:00,  4.59it/s, acc=0.78949, gpu_memory=5.45 GB, lr=0.00000, valid_loss=0.3923]\n",
      "Epocha val 222/300: 100%|██████████| 78/78 [00:07<00:00, 11.02it/s, acc=0.87100, gpu_memory=5.45 GB, lr=0.00000, valid_loss=0.6744]\n",
      "Epocha train 223/300: 100%|██████████| 180/180 [00:39<00:00,  4.59it/s, acc=0.79487, gpu_memory=5.45 GB, lr=0.00000, valid_loss=0.3888]\n",
      "Epocha val 223/300: 100%|██████████| 78/78 [00:07<00:00, 11.09it/s, acc=0.86967, gpu_memory=5.45 GB, lr=0.00000, valid_loss=0.6776]\n",
      "Epocha train 224/300: 100%|██████████| 180/180 [00:39<00:00,  4.58it/s, acc=0.78487, gpu_memory=5.45 GB, lr=0.00000, valid_loss=0.3893]\n",
      "Epocha val 224/300: 100%|██████████| 78/78 [00:06<00:00, 11.36it/s, acc=0.87122, gpu_memory=5.45 GB, lr=0.00000, valid_loss=0.6952]\n",
      "Epocha train 225/300: 100%|██████████| 180/180 [00:39<00:00,  4.57it/s, acc=0.78744, gpu_memory=5.45 GB, lr=0.00000, valid_loss=0.3789]\n",
      "Epocha val 225/300: 100%|██████████| 78/78 [00:07<00:00, 10.99it/s, acc=0.87156, gpu_memory=5.45 GB, lr=0.00000, valid_loss=0.7018]\n",
      "Epocha train 226/300: 100%|██████████| 180/180 [00:39<00:00,  4.57it/s, acc=0.77590, gpu_memory=5.45 GB, lr=0.00000, valid_loss=0.3886]\n",
      "Epocha val 226/300: 100%|██████████| 78/78 [00:07<00:00, 10.96it/s, acc=0.86889, gpu_memory=5.45 GB, lr=0.00000, valid_loss=0.6847]\n",
      "Epocha train 227/300: 100%|██████████| 180/180 [00:39<00:00,  4.57it/s, acc=0.78564, gpu_memory=5.45 GB, lr=0.00000, valid_loss=0.3640]\n",
      "Epocha val 227/300: 100%|██████████| 78/78 [00:07<00:00, 10.59it/s, acc=0.87844, gpu_memory=5.45 GB, lr=0.00000, valid_loss=0.6933]\n",
      "Epocha train 228/300: 100%|██████████| 180/180 [00:39<00:00,  4.58it/s, acc=0.79051, gpu_memory=5.45 GB, lr=0.00000, valid_loss=0.3861]\n",
      "Epocha val 228/300: 100%|██████████| 78/78 [00:06<00:00, 11.16it/s, acc=0.87100, gpu_memory=5.45 GB, lr=0.00000, valid_loss=0.6815]\n",
      "Epocha train 229/300: 100%|██████████| 180/180 [00:39<00:00,  4.57it/s, acc=0.78718, gpu_memory=5.45 GB, lr=0.00000, valid_loss=0.3611]\n",
      "Epocha val 229/300: 100%|██████████| 78/78 [00:06<00:00, 11.29it/s, acc=0.87989, gpu_memory=5.45 GB, lr=0.00000, valid_loss=0.6905]\n",
      "Epocha train 230/300: 100%|██████████| 180/180 [00:39<00:00,  4.57it/s, acc=0.79000, gpu_memory=5.45 GB, lr=0.00000, valid_loss=0.3731]\n",
      "Epocha val 230/300: 100%|██████████| 78/78 [00:07<00:00, 11.10it/s, acc=0.87733, gpu_memory=5.45 GB, lr=0.00000, valid_loss=0.6907]\n",
      "Epocha train 231/300: 100%|██████████| 180/180 [00:39<00:00,  4.57it/s, acc=0.78795, gpu_memory=5.45 GB, lr=0.00000, valid_loss=0.3722]\n",
      "Epocha val 231/300: 100%|██████████| 78/78 [00:07<00:00, 11.09it/s, acc=0.87878, gpu_memory=5.45 GB, lr=0.00000, valid_loss=0.6751]\n",
      "Epocha train 232/300: 100%|██████████| 180/180 [00:39<00:00,  4.58it/s, acc=0.79282, gpu_memory=5.45 GB, lr=0.00000, valid_loss=0.3746]\n",
      "Epocha val 232/300: 100%|██████████| 78/78 [00:07<00:00, 11.01it/s, acc=0.87711, gpu_memory=5.45 GB, lr=0.00000, valid_loss=0.6942]\n",
      "Epocha train 233/300: 100%|██████████| 180/180 [00:39<00:00,  4.58it/s, acc=0.78974, gpu_memory=5.45 GB, lr=0.00000, valid_loss=0.3797]\n",
      "Epocha val 233/300: 100%|██████████| 78/78 [00:06<00:00, 11.46it/s, acc=0.87144, gpu_memory=5.45 GB, lr=0.00000, valid_loss=0.6893]\n",
      "Epocha train 234/300: 100%|██████████| 180/180 [00:39<00:00,  4.58it/s, acc=0.78769, gpu_memory=5.45 GB, lr=0.00000, valid_loss=0.3799]\n",
      "Epocha val 234/300: 100%|██████████| 78/78 [00:07<00:00, 11.13it/s, acc=0.87222, gpu_memory=5.45 GB, lr=0.00000, valid_loss=0.6926]\n",
      "Epocha train 235/300: 100%|██████████| 180/180 [00:39<00:00,  4.57it/s, acc=0.79051, gpu_memory=5.45 GB, lr=0.00000, valid_loss=0.3592]\n",
      "Epocha val 235/300: 100%|██████████| 78/78 [00:07<00:00, 11.04it/s, acc=0.88000, gpu_memory=5.45 GB, lr=0.00000, valid_loss=0.6841]\n",
      "Epocha train 236/300: 100%|██████████| 180/180 [00:39<00:00,  4.58it/s, acc=0.78949, gpu_memory=5.45 GB, lr=0.00000, valid_loss=0.3754]\n",
      "Epocha val 236/300: 100%|██████████| 78/78 [00:07<00:00, 11.14it/s, acc=0.87378, gpu_memory=5.45 GB, lr=0.00000, valid_loss=0.6887]\n",
      "Epocha train 237/300: 100%|██████████| 180/180 [00:39<00:00,  4.56it/s, acc=0.78462, gpu_memory=5.45 GB, lr=0.00000, valid_loss=0.3612]\n",
      "Epocha val 237/300: 100%|██████████| 78/78 [00:06<00:00, 11.39it/s, acc=0.88067, gpu_memory=5.45 GB, lr=0.00000, valid_loss=0.6909]\n",
      "Epocha train 238/300: 100%|██████████| 180/180 [00:39<00:00,  4.58it/s, acc=0.78846, gpu_memory=5.45 GB, lr=0.00000, valid_loss=0.3850]\n",
      "Epocha val 238/300: 100%|██████████| 78/78 [00:06<00:00, 11.17it/s, acc=0.86956, gpu_memory=5.45 GB, lr=0.00000, valid_loss=0.6900]\n",
      "Epocha train 239/300: 100%|██████████| 180/180 [00:39<00:00,  4.57it/s, acc=0.78590, gpu_memory=5.45 GB, lr=0.00000, valid_loss=0.3720]\n",
      "Epocha val 239/300: 100%|██████████| 78/78 [00:06<00:00, 11.20it/s, acc=0.87833, gpu_memory=5.45 GB, lr=0.00000, valid_loss=0.6846]\n",
      "Epocha train 240/300: 100%|██████████| 180/180 [00:39<00:00,  4.55it/s, acc=0.78974, gpu_memory=5.45 GB, lr=0.00000, valid_loss=0.3693]\n",
      "Epocha val 240/300: 100%|██████████| 78/78 [00:07<00:00, 11.11it/s, acc=0.87622, gpu_memory=5.45 GB, lr=0.00000, valid_loss=0.6856]\n",
      "Epocha train 241/300: 100%|██████████| 180/180 [00:39<00:00,  4.57it/s, acc=0.79231, gpu_memory=5.45 GB, lr=0.00000, valid_loss=0.3793]\n",
      "Epocha val 241/300: 100%|██████████| 78/78 [00:06<00:00, 11.31it/s, acc=0.87411, gpu_memory=5.45 GB, lr=0.00000, valid_loss=0.6881]\n",
      "Epocha train 242/300: 100%|██████████| 180/180 [00:39<00:00,  4.56it/s, acc=0.79179, gpu_memory=5.45 GB, lr=0.00000, valid_loss=0.3724]\n",
      "Epocha val 242/300: 100%|██████████| 78/78 [00:06<00:00, 11.23it/s, acc=0.87422, gpu_memory=5.45 GB, lr=0.00000, valid_loss=0.6957]\n",
      "Epocha train 243/300: 100%|██████████| 180/180 [00:39<00:00,  4.59it/s, acc=0.79359, gpu_memory=5.45 GB, lr=0.00000, valid_loss=0.3838]\n",
      "Epocha val 243/300: 100%|██████████| 78/78 [00:07<00:00, 10.86it/s, acc=0.87533, gpu_memory=5.45 GB, lr=0.00000, valid_loss=0.6935]\n",
      "Epocha train 244/300: 100%|██████████| 180/180 [00:39<00:00,  4.59it/s, acc=0.78769, gpu_memory=5.45 GB, lr=0.00000, valid_loss=0.3875]\n",
      "Epocha val 244/300: 100%|██████████| 78/78 [00:07<00:00, 10.79it/s, acc=0.87200, gpu_memory=5.45 GB, lr=0.00000, valid_loss=0.6932]\n",
      "Epocha train 245/300: 100%|██████████| 180/180 [00:39<00:00,  4.55it/s, acc=0.78615, gpu_memory=5.45 GB, lr=0.00000, valid_loss=0.3795]\n",
      "Epocha val 245/300: 100%|██████████| 78/78 [00:07<00:00, 10.93it/s, acc=0.87244, gpu_memory=5.45 GB, lr=0.00000, valid_loss=0.6950]\n",
      "Epocha train 246/300: 100%|██████████| 180/180 [00:39<00:00,  4.56it/s, acc=0.78436, gpu_memory=5.45 GB, lr=0.00000, valid_loss=0.3717]\n",
      "Epocha val 246/300: 100%|██████████| 78/78 [00:07<00:00, 11.02it/s, acc=0.87367, gpu_memory=5.45 GB, lr=0.00000, valid_loss=0.6799]\n",
      "Epocha train 247/300: 100%|██████████| 180/180 [00:39<00:00,  4.57it/s, acc=0.78692, gpu_memory=5.45 GB, lr=0.00000, valid_loss=0.3676]\n",
      "Epocha val 247/300: 100%|██████████| 78/78 [00:07<00:00, 11.11it/s, acc=0.87678, gpu_memory=5.45 GB, lr=0.00000, valid_loss=0.6858]\n",
      "Epocha train 248/300: 100%|██████████| 180/180 [00:39<00:00,  4.56it/s, acc=0.79000, gpu_memory=5.45 GB, lr=0.00000, valid_loss=0.3657]\n",
      "Epocha val 248/300: 100%|██████████| 78/78 [00:07<00:00, 11.04it/s, acc=0.87900, gpu_memory=5.45 GB, lr=0.00000, valid_loss=0.6880]\n",
      "Epocha train 249/300: 100%|██████████| 180/180 [00:39<00:00,  4.55it/s, acc=0.79077, gpu_memory=5.45 GB, lr=0.00000, valid_loss=0.3763]\n",
      "Epocha val 249/300: 100%|██████████| 78/78 [00:07<00:00, 11.10it/s, acc=0.87456, gpu_memory=5.45 GB, lr=0.00000, valid_loss=0.6924]\n",
      "Epocha train 250/300: 100%|██████████| 180/180 [00:39<00:00,  4.57it/s, acc=0.78769, gpu_memory=5.45 GB, lr=0.00000, valid_loss=0.3907]\n",
      "Epocha val 250/300: 100%|██████████| 78/78 [00:06<00:00, 11.19it/s, acc=0.86611, gpu_memory=5.45 GB, lr=0.00000, valid_loss=0.6876]\n",
      "Epocha train 251/300: 100%|██████████| 180/180 [00:39<00:00,  4.55it/s, acc=0.78436, gpu_memory=5.45 GB, lr=0.00000, valid_loss=0.3803]\n",
      "Epocha val 251/300: 100%|██████████| 78/78 [00:06<00:00, 11.21it/s, acc=0.87556, gpu_memory=5.45 GB, lr=0.00000, valid_loss=0.6894]\n",
      "Epocha train 252/300: 100%|██████████| 180/180 [00:39<00:00,  4.59it/s, acc=0.78949, gpu_memory=5.45 GB, lr=0.00000, valid_loss=0.3795]\n",
      "Epocha val 252/300: 100%|██████████| 78/78 [00:06<00:00, 11.18it/s, acc=0.87489, gpu_memory=5.45 GB, lr=0.00000, valid_loss=0.6865]\n",
      "Epocha train 253/300: 100%|██████████| 180/180 [00:39<00:00,  4.58it/s, acc=0.78769, gpu_memory=5.45 GB, lr=0.00000, valid_loss=0.3702]\n",
      "Epocha val 253/300: 100%|██████████| 78/78 [00:07<00:00, 11.13it/s, acc=0.87867, gpu_memory=5.45 GB, lr=0.00000, valid_loss=0.6890]\n",
      "Epocha train 254/300: 100%|██████████| 180/180 [00:39<00:00,  4.59it/s, acc=0.79513, gpu_memory=5.45 GB, lr=0.00000, valid_loss=0.3786]\n",
      "Epocha val 254/300: 100%|██████████| 78/78 [00:07<00:00, 10.93it/s, acc=0.87567, gpu_memory=5.45 GB, lr=0.00000, valid_loss=0.6763]\n",
      "Epocha train 255/300: 100%|██████████| 180/180 [00:39<00:00,  4.57it/s, acc=0.78769, gpu_memory=5.45 GB, lr=0.00000, valid_loss=0.3850]\n",
      "Epocha val 255/300: 100%|██████████| 78/78 [00:06<00:00, 11.17it/s, acc=0.87400, gpu_memory=5.45 GB, lr=0.00000, valid_loss=0.6801]\n",
      "Epocha train 256/300: 100%|██████████| 180/180 [00:39<00:00,  4.58it/s, acc=0.78744, gpu_memory=5.45 GB, lr=0.00000, valid_loss=0.3695]\n",
      "Epocha val 256/300: 100%|██████████| 78/78 [00:07<00:00, 10.99it/s, acc=0.87822, gpu_memory=5.45 GB, lr=0.00000, valid_loss=0.6977]\n",
      "Epocha train 257/300: 100%|██████████| 180/180 [00:39<00:00,  4.58it/s, acc=0.78667, gpu_memory=5.45 GB, lr=0.00000, valid_loss=0.3814]\n",
      "Epocha val 257/300: 100%|██████████| 78/78 [00:06<00:00, 11.24it/s, acc=0.87133, gpu_memory=5.45 GB, lr=0.00000, valid_loss=0.6902]\n",
      "Epocha train 258/300: 100%|██████████| 180/180 [00:39<00:00,  4.58it/s, acc=0.78872, gpu_memory=5.45 GB, lr=0.00000, valid_loss=0.3652]\n",
      "Epocha val 258/300: 100%|██████████| 78/78 [00:07<00:00, 11.13it/s, acc=0.88067, gpu_memory=5.45 GB, lr=0.00000, valid_loss=0.6868]\n",
      "Epocha train 259/300: 100%|██████████| 180/180 [00:39<00:00,  4.56it/s, acc=0.79026, gpu_memory=5.45 GB, lr=0.00000, valid_loss=0.3725]\n",
      "Epocha val 259/300: 100%|██████████| 78/78 [00:07<00:00, 10.94it/s, acc=0.87711, gpu_memory=5.45 GB, lr=0.00000, valid_loss=0.6820]\n",
      "Epocha train 260/300: 100%|██████████| 180/180 [00:39<00:00,  4.57it/s, acc=0.79154, gpu_memory=5.45 GB, lr=0.00000, valid_loss=0.3838]\n",
      "Epocha val 260/300: 100%|██████████| 78/78 [00:07<00:00, 11.01it/s, acc=0.87122, gpu_memory=5.45 GB, lr=0.00000, valid_loss=0.6887]\n",
      "Epocha train 261/300: 100%|██████████| 180/180 [00:39<00:00,  4.58it/s, acc=0.79000, gpu_memory=5.45 GB, lr=0.00000, valid_loss=0.3720]\n",
      "Epocha val 261/300: 100%|██████████| 78/78 [00:06<00:00, 11.22it/s, acc=0.87478, gpu_memory=5.45 GB, lr=0.00000, valid_loss=0.6949]\n",
      "Epocha train 262/300: 100%|██████████| 180/180 [00:39<00:00,  4.60it/s, acc=0.78308, gpu_memory=5.45 GB, lr=0.00000, valid_loss=0.3802]\n",
      "Epocha val 262/300: 100%|██████████| 78/78 [00:07<00:00, 11.00it/s, acc=0.87633, gpu_memory=5.45 GB, lr=0.00000, valid_loss=0.6969]\n",
      "Epocha train 263/300: 100%|██████████| 180/180 [00:39<00:00,  4.54it/s, acc=0.78795, gpu_memory=5.45 GB, lr=0.00000, valid_loss=0.3780]\n",
      "Epocha val 263/300: 100%|██████████| 78/78 [00:07<00:00, 11.06it/s, acc=0.87711, gpu_memory=5.45 GB, lr=0.00000, valid_loss=0.6988]\n",
      "Epocha train 264/300: 100%|██████████| 180/180 [00:39<00:00,  4.60it/s, acc=0.78667, gpu_memory=5.45 GB, lr=0.00000, valid_loss=0.3793]\n",
      "Epocha val 264/300: 100%|██████████| 78/78 [00:07<00:00, 11.00it/s, acc=0.87311, gpu_memory=5.45 GB, lr=0.00000, valid_loss=0.6956]\n",
      "Epocha train 265/300: 100%|██████████| 180/180 [00:39<00:00,  4.59it/s, acc=0.78538, gpu_memory=5.45 GB, lr=0.00000, valid_loss=0.3672]\n",
      "Epocha val 265/300: 100%|██████████| 78/78 [00:07<00:00, 10.85it/s, acc=0.87767, gpu_memory=5.45 GB, lr=0.00000, valid_loss=0.6884]\n",
      "Epocha train 266/300: 100%|██████████| 180/180 [00:39<00:00,  4.58it/s, acc=0.79231, gpu_memory=5.45 GB, lr=0.00000, valid_loss=0.3753]\n",
      "Epocha val 266/300: 100%|██████████| 78/78 [00:07<00:00, 10.99it/s, acc=0.87578, gpu_memory=5.45 GB, lr=0.00000, valid_loss=0.6993]\n",
      "Epocha train 267/300: 100%|██████████| 180/180 [00:39<00:00,  4.59it/s, acc=0.78513, gpu_memory=5.45 GB, lr=0.00000, valid_loss=0.3669]\n",
      "Epocha val 267/300: 100%|██████████| 78/78 [00:06<00:00, 11.28it/s, acc=0.87889, gpu_memory=5.45 GB, lr=0.00000, valid_loss=0.6915]\n",
      "Epocha train 268/300: 100%|██████████| 180/180 [00:39<00:00,  4.57it/s, acc=0.78615, gpu_memory=5.45 GB, lr=0.00000, valid_loss=0.3669]\n",
      "Epocha val 268/300: 100%|██████████| 78/78 [00:07<00:00, 10.99it/s, acc=0.88167, gpu_memory=5.45 GB, lr=0.00000, valid_loss=0.7023]\n",
      "Epocha train 269/300: 100%|██████████| 180/180 [00:39<00:00,  4.56it/s, acc=0.78641, gpu_memory=5.45 GB, lr=0.00000, valid_loss=0.3797]\n",
      "Epocha val 269/300: 100%|██████████| 78/78 [00:07<00:00, 11.04it/s, acc=0.87278, gpu_memory=5.45 GB, lr=0.00000, valid_loss=0.6915]\n",
      "Epocha train 270/300: 100%|██████████| 180/180 [00:39<00:00,  4.59it/s, acc=0.78667, gpu_memory=5.45 GB, lr=0.00000, valid_loss=0.3894]\n",
      "Epocha val 270/300: 100%|██████████| 78/78 [00:06<00:00, 11.20it/s, acc=0.87044, gpu_memory=5.45 GB, lr=0.00000, valid_loss=0.6842]\n",
      "Epocha train 271/300: 100%|██████████| 180/180 [00:39<00:00,  4.58it/s, acc=0.78256, gpu_memory=5.45 GB, lr=0.00000, valid_loss=0.3873]\n",
      "Epocha val 271/300: 100%|██████████| 78/78 [00:06<00:00, 11.37it/s, acc=0.87322, gpu_memory=5.45 GB, lr=0.00000, valid_loss=0.6897]\n",
      "Epocha train 272/300: 100%|██████████| 180/180 [00:39<00:00,  4.58it/s, acc=0.78949, gpu_memory=5.45 GB, lr=0.00000, valid_loss=0.3769]\n",
      "Epocha val 272/300: 100%|██████████| 78/78 [00:06<00:00, 11.31it/s, acc=0.87733, gpu_memory=5.45 GB, lr=0.00000, valid_loss=0.6912]\n",
      "Epocha train 273/300: 100%|██████████| 180/180 [00:39<00:00,  4.59it/s, acc=0.78718, gpu_memory=5.45 GB, lr=0.00000, valid_loss=0.3773]\n",
      "Epocha val 273/300: 100%|██████████| 78/78 [00:06<00:00, 11.20it/s, acc=0.87422, gpu_memory=5.45 GB, lr=0.00000, valid_loss=0.6948]\n",
      "Epocha train 274/300: 100%|██████████| 180/180 [00:39<00:00,  4.57it/s, acc=0.78923, gpu_memory=5.45 GB, lr=0.00000, valid_loss=0.3706]\n",
      "Epocha val 274/300: 100%|██████████| 78/78 [00:07<00:00, 11.10it/s, acc=0.87633, gpu_memory=5.45 GB, lr=0.00000, valid_loss=0.6859]\n",
      "Epocha train 275/300: 100%|██████████| 180/180 [00:39<00:00,  4.57it/s, acc=0.78949, gpu_memory=5.45 GB, lr=0.00000, valid_loss=0.3764]\n",
      "Epocha val 275/300: 100%|██████████| 78/78 [00:07<00:00, 10.81it/s, acc=0.87133, gpu_memory=5.45 GB, lr=0.00000, valid_loss=0.6972]\n",
      "Epocha train 276/300: 100%|██████████| 180/180 [00:39<00:00,  4.59it/s, acc=0.78846, gpu_memory=5.45 GB, lr=0.00000, valid_loss=0.3797]\n",
      "Epocha val 276/300: 100%|██████████| 78/78 [00:06<00:00, 11.19it/s, acc=0.87544, gpu_memory=5.45 GB, lr=0.00000, valid_loss=0.6916]\n",
      "Epocha train 277/300: 100%|██████████| 180/180 [00:39<00:00,  4.57it/s, acc=0.78923, gpu_memory=5.45 GB, lr=0.00000, valid_loss=0.3729]\n",
      "Epocha val 277/300: 100%|██████████| 78/78 [00:06<00:00, 11.39it/s, acc=0.87678, gpu_memory=5.45 GB, lr=0.00000, valid_loss=0.6999]\n",
      "Epocha train 278/300: 100%|██████████| 180/180 [00:39<00:00,  4.59it/s, acc=0.78359, gpu_memory=5.45 GB, lr=0.00000, valid_loss=0.3891]\n",
      "Epocha val 278/300: 100%|██████████| 78/78 [00:07<00:00, 10.63it/s, acc=0.87300, gpu_memory=5.45 GB, lr=0.00000, valid_loss=0.6896]\n",
      "Epocha train 279/300: 100%|██████████| 180/180 [00:39<00:00,  4.57it/s, acc=0.78692, gpu_memory=5.45 GB, lr=0.00000, valid_loss=0.3670]\n",
      "Epocha val 279/300: 100%|██████████| 78/78 [00:06<00:00, 11.29it/s, acc=0.87911, gpu_memory=5.45 GB, lr=0.00000, valid_loss=0.6819]\n",
      "Epocha train 280/300: 100%|██████████| 180/180 [00:39<00:00,  4.58it/s, acc=0.78974, gpu_memory=5.45 GB, lr=0.00000, valid_loss=0.3731]\n",
      "Epocha val 280/300: 100%|██████████| 78/78 [00:07<00:00, 11.09it/s, acc=0.87878, gpu_memory=5.45 GB, lr=0.00000, valid_loss=0.6892]\n",
      "Epocha train 281/300: 100%|██████████| 180/180 [00:39<00:00,  4.59it/s, acc=0.79205, gpu_memory=5.45 GB, lr=0.00000, valid_loss=0.3761]\n",
      "Epocha val 281/300: 100%|██████████| 78/78 [00:06<00:00, 11.15it/s, acc=0.87800, gpu_memory=5.45 GB, lr=0.00000, valid_loss=0.6943]\n",
      "Epocha train 282/300: 100%|██████████| 180/180 [00:39<00:00,  4.56it/s, acc=0.78821, gpu_memory=5.45 GB, lr=0.00000, valid_loss=0.3875]\n",
      "Epocha val 282/300: 100%|██████████| 78/78 [00:07<00:00, 10.96it/s, acc=0.87067, gpu_memory=5.45 GB, lr=0.00000, valid_loss=0.6863]\n",
      "Epocha train 283/300: 100%|██████████| 180/180 [00:39<00:00,  4.56it/s, acc=0.79462, gpu_memory=5.45 GB, lr=0.00000, valid_loss=0.3843]\n",
      "Epocha val 283/300: 100%|██████████| 78/78 [00:07<00:00, 11.00it/s, acc=0.87067, gpu_memory=5.45 GB, lr=0.00000, valid_loss=0.6937]\n",
      "Epocha train 284/300: 100%|██████████| 180/180 [00:39<00:00,  4.57it/s, acc=0.79205, gpu_memory=5.45 GB, lr=0.00000, valid_loss=0.3733]\n",
      "Epocha val 284/300: 100%|██████████| 78/78 [00:07<00:00, 10.99it/s, acc=0.87456, gpu_memory=5.45 GB, lr=0.00000, valid_loss=0.6858]\n",
      "Epocha train 285/300: 100%|██████████| 180/180 [00:39<00:00,  4.56it/s, acc=0.79179, gpu_memory=5.45 GB, lr=0.00000, valid_loss=0.3736]\n",
      "Epocha val 285/300: 100%|██████████| 78/78 [00:06<00:00, 11.39it/s, acc=0.87600, gpu_memory=5.45 GB, lr=0.00000, valid_loss=0.6885]\n",
      "Epocha train 286/300: 100%|██████████| 180/180 [00:39<00:00,  4.56it/s, acc=0.78718, gpu_memory=5.45 GB, lr=0.00000, valid_loss=0.3849]\n",
      "Epocha val 286/300: 100%|██████████| 78/78 [00:07<00:00, 11.10it/s, acc=0.87356, gpu_memory=5.45 GB, lr=0.00000, valid_loss=0.6788]\n",
      "Epocha train 287/300: 100%|██████████| 180/180 [00:39<00:00,  4.56it/s, acc=0.78385, gpu_memory=5.45 GB, lr=0.00000, valid_loss=0.3744]\n",
      "Epocha val 287/300: 100%|██████████| 78/78 [00:07<00:00, 11.06it/s, acc=0.87522, gpu_memory=5.45 GB, lr=0.00000, valid_loss=0.6990]\n",
      "Epocha train 288/300: 100%|██████████| 180/180 [00:39<00:00,  4.58it/s, acc=0.79154, gpu_memory=5.45 GB, lr=0.00000, valid_loss=0.3772]\n",
      "Epocha val 288/300: 100%|██████████| 78/78 [00:06<00:00, 11.25it/s, acc=0.87556, gpu_memory=5.45 GB, lr=0.00000, valid_loss=0.7012]\n",
      "Epocha train 289/300: 100%|██████████| 180/180 [00:39<00:00,  4.57it/s, acc=0.78462, gpu_memory=5.45 GB, lr=0.00000, valid_loss=0.3694]\n",
      "Epocha val 289/300: 100%|██████████| 78/78 [00:06<00:00, 11.27it/s, acc=0.87789, gpu_memory=5.45 GB, lr=0.00000, valid_loss=0.6900]\n",
      "Epocha train 290/300: 100%|██████████| 180/180 [00:39<00:00,  4.59it/s, acc=0.78974, gpu_memory=5.45 GB, lr=0.00000, valid_loss=0.3741]\n",
      "Epocha val 290/300: 100%|██████████| 78/78 [00:07<00:00, 11.14it/s, acc=0.87900, gpu_memory=5.45 GB, lr=0.00000, valid_loss=0.6911]\n",
      "Epocha train 291/300: 100%|██████████| 180/180 [00:39<00:00,  4.58it/s, acc=0.79205, gpu_memory=5.45 GB, lr=0.00000, valid_loss=0.3711]\n",
      "Epocha val 291/300: 100%|██████████| 78/78 [00:07<00:00, 11.03it/s, acc=0.87711, gpu_memory=5.45 GB, lr=0.00000, valid_loss=0.6836]\n",
      "Epocha train 292/300: 100%|██████████| 180/180 [00:39<00:00,  4.58it/s, acc=0.78949, gpu_memory=5.45 GB, lr=0.00000, valid_loss=0.3927]\n",
      "Epocha val 292/300: 100%|██████████| 78/78 [00:07<00:00, 11.08it/s, acc=0.87167, gpu_memory=5.45 GB, lr=0.00000, valid_loss=0.6967]\n",
      "Epocha train 293/300: 100%|██████████| 180/180 [00:39<00:00,  4.56it/s, acc=0.79051, gpu_memory=5.45 GB, lr=0.00000, valid_loss=0.3825]\n",
      "Epocha val 293/300: 100%|██████████| 78/78 [00:06<00:00, 11.21it/s, acc=0.87700, gpu_memory=5.45 GB, lr=0.00000, valid_loss=0.7025]\n",
      "Epocha train 294/300: 100%|██████████| 180/180 [00:39<00:00,  4.61it/s, acc=0.78615, gpu_memory=5.45 GB, lr=0.00000, valid_loss=0.3781]\n",
      "Epocha val 294/300: 100%|██████████| 78/78 [00:07<00:00, 10.88it/s, acc=0.87156, gpu_memory=5.45 GB, lr=0.00000, valid_loss=0.6854]\n",
      "Epocha train 295/300: 100%|██████████| 180/180 [00:39<00:00,  4.59it/s, acc=0.79000, gpu_memory=5.45 GB, lr=0.00000, valid_loss=0.3758]\n",
      "Epocha val 295/300: 100%|██████████| 78/78 [00:06<00:00, 11.28it/s, acc=0.87667, gpu_memory=5.45 GB, lr=0.00000, valid_loss=0.6987]\n",
      "Epocha train 296/300: 100%|██████████| 180/180 [00:39<00:00,  4.55it/s, acc=0.78641, gpu_memory=5.45 GB, lr=0.00000, valid_loss=0.3828]\n",
      "Epocha val 296/300: 100%|██████████| 78/78 [00:07<00:00, 11.08it/s, acc=0.87422, gpu_memory=5.45 GB, lr=0.00000, valid_loss=0.6891]\n",
      "Epocha train 297/300: 100%|██████████| 180/180 [00:39<00:00,  4.54it/s, acc=0.78462, gpu_memory=5.45 GB, lr=0.00000, valid_loss=0.3773]\n",
      "Epocha val 297/300: 100%|██████████| 78/78 [00:06<00:00, 11.24it/s, acc=0.87667, gpu_memory=5.45 GB, lr=0.00000, valid_loss=0.6958]\n",
      "Epocha train 298/300: 100%|██████████| 180/180 [00:39<00:00,  4.56it/s, acc=0.78667, gpu_memory=5.45 GB, lr=0.00000, valid_loss=0.3903]\n",
      "Epocha val 298/300: 100%|██████████| 78/78 [00:07<00:00, 11.03it/s, acc=0.87122, gpu_memory=5.45 GB, lr=0.00000, valid_loss=0.6921]\n",
      "Epocha train 299/300: 100%|██████████| 180/180 [00:39<00:00,  4.56it/s, acc=0.79179, gpu_memory=5.45 GB, lr=0.00000, valid_loss=0.3871]\n",
      "Epocha val 299/300: 100%|██████████| 78/78 [00:06<00:00, 11.17it/s, acc=0.87144, gpu_memory=5.45 GB, lr=0.00000, valid_loss=0.6985]\n",
      "Epocha train 300/300: 100%|██████████| 180/180 [00:39<00:00,  4.57it/s, acc=0.79000, gpu_memory=5.45 GB, lr=0.00000, valid_loss=0.3843]\n",
      "Epocha val 300/300: 100%|██████████| 78/78 [00:07<00:00, 11.04it/s, acc=0.87267, gpu_memory=5.45 GB, lr=0.00000, valid_loss=0.6914]\n"
     ]
    },
    {
     "name": "stdout",
     "output_type": "stream",
     "text": [
      "Training complete in 293m 26s\n",
      "Best val Loss classification: 0.6692 epoch 107  \n",
      "Best val Loss accuracy: 0.8005 epoch 188\n"
     ]
    },
    {
     "data": {
      "image/png": "[encoded data removed]",
      "text/plain": [
       "<Figure size 432x288 with 1 Axes>"
      ]
     },
     "metadata": {
      "needs_background": "light"
     },
     "output_type": "display_data"
    },
    {
     "data": {
      "image/png": "[encoded data removed]",
      "text/plain": [
       "<Figure size 432x288 with 1 Axes>"
      ]
     },
     "metadata": {
      "needs_background": "light"
     },
     "output_type": "display_data"
    }
   ],
   "source": [
    "model_loss, model_acc, overfit_model = train.train(train_dirr=\"/workspace/proj/paradigma/db/imagewoof2\",                                           # Путь до папки с train or directori\n",
    "                                             val_dirr=\"/workspace/proj/paradigma/db/imagewoof2\",                                             # Путь до папки с описанием val\n",
    "                                             model_name =\"resnet50\",                             # Название модели timm or пользовательские из кода\n",
    "                                             Dataset_name =\"imagewoof\",                            # Название Dataset (при сохранении)\n",
    "                                             metod_aug_name=\"FsAA\", #=\"baseline\",                # Название metoda (при сохранении)\n",
    "                                             task_name=\"clasification\",                          # Название задачи  (при сохранении)\n",
    "                                             train_annotation=\"/workspace/proj/paradigma/db/imagewoof2/noisy_imagewoof.csv\",                                # Путь до файла с описанием train\n",
    "                                             val_annotation=\"/workspace/proj/paradigma/db/imagewoof2/noisy_imagewoof.csv\",                                  # Путь до файла с описанием val\n",
    "                                             N_class = 10,                                          # Количество классов в задаче\n",
    "                                             num_epochs=300,                                        # Количество эпох обучения\n",
    "                                             batch_size = 50,                                       \n",
    "                                             snp_path = '/workspace/proj/paradigma/snp/',     # Путь к папке, в которую сохранять готовые модели\n",
    "                                             pretrained = False,                                   # True - загрузить предобученную модель\n",
    "                                             SIZE = 224,                                           # Размер входа (SIZE*SIZE)\n",
    "                                             lr=0.001,                                           # Коэффициент скорости обучения (Learning rate)\n",
    "                                             step_size=50,                                         # за сколько эпох уменьшить lr\n",
    "                                             gamma=0.1,                                            # Во сколько раз уменьшить lr\n",
    "                                             momentum=0.999,                                        # коэфицент сохранения момента\n",
    "                                             rootAA=\"/workspace/proj/autoalbument/examples/imageWoof/resnet50/outputs/2022-08-01/21-18-39/policy/latest.json\")\n"
   ]
  },
  {
   "cell_type": "code",
   "execution_count": 3,
   "metadata": {},
   "outputs": [
    {
     "ename": "AttributeError",
     "evalue": "module 'MyModels' has no attribute 'CNN'",
     "output_type": "error",
     "traceback": [
      "\u001b[0;31m---------------------------------------------------------------------------\u001b[0m",
      "\u001b[0;31mAttributeError\u001b[0m                            Traceback (most recent call last)",
      "\u001b[0;32m<ipython-input-3-492a8801eb1d>\u001b[0m in \u001b[0;36m<module>\u001b[0;34m\u001b[0m\n\u001b[1;32m      2\u001b[0m \u001b[0;32mimport\u001b[0m \u001b[0mMyModels\u001b[0m \u001b[0;32mas\u001b[0m \u001b[0mmodels\u001b[0m\u001b[0;34m\u001b[0m\u001b[0;34m\u001b[0m\u001b[0m\n\u001b[1;32m      3\u001b[0m \u001b[0mdevice\u001b[0m \u001b[0;34m=\u001b[0m \u001b[0mtorch\u001b[0m\u001b[0;34m.\u001b[0m\u001b[0mdevice\u001b[0m\u001b[0;34m(\u001b[0m\u001b[0;34m\"cuda:0\"\u001b[0m \u001b[0;32mif\u001b[0m \u001b[0mtorch\u001b[0m\u001b[0;34m.\u001b[0m\u001b[0mcuda\u001b[0m\u001b[0;34m.\u001b[0m\u001b[0mis_available\u001b[0m\u001b[0;34m(\u001b[0m\u001b[0;34m)\u001b[0m \u001b[0;32melse\u001b[0m \u001b[0;34m\"cpu\"\u001b[0m\u001b[0;34m)\u001b[0m\u001b[0;34m\u001b[0m\u001b[0;34m\u001b[0m\u001b[0m\n\u001b[0;32m----> 4\u001b[0;31m \u001b[0mmodel_ft\u001b[0m \u001b[0;34m=\u001b[0m \u001b[0mmodels\u001b[0m\u001b[0;34m.\u001b[0m\u001b[0mCNN\u001b[0m\u001b[0;34m(\u001b[0m\u001b[0;36m2\u001b[0m\u001b[0;34m,\u001b[0m\u001b[0;34m\"mobilenetv2_100\"\u001b[0m\u001b[0;34m)\u001b[0m\u001b[0;34m\u001b[0m\u001b[0;34m\u001b[0m\u001b[0m\n\u001b[0m\u001b[1;32m      5\u001b[0m \u001b[0mmodel_ft\u001b[0m \u001b[0;34m=\u001b[0m \u001b[0mmodel_ft\u001b[0m\u001b[0;34m.\u001b[0m\u001b[0mto\u001b[0m\u001b[0;34m(\u001b[0m\u001b[0mdevice\u001b[0m\u001b[0;34m)\u001b[0m\u001b[0;34m\u001b[0m\u001b[0;34m\u001b[0m\u001b[0m\n\u001b[1;32m      6\u001b[0m \u001b[0mweights\u001b[0m \u001b[0;34m=\u001b[0m \u001b[0mtorch\u001b[0m\u001b[0;34m.\u001b[0m\u001b[0mload\u001b[0m\u001b[0;34m(\u001b[0m\u001b[0;34m\"../snp/retinopatia/mobilenet2_100_acc_98-0.9257.tar\"\u001b[0m\u001b[0;34m)\u001b[0m\u001b[0;34m\u001b[0m\u001b[0;34m\u001b[0m\u001b[0m\n",
      "\u001b[0;31mAttributeError\u001b[0m: module 'MyModels' has no attribute 'CNN'"
     ]
    }
   ],
   "source": [
    "import torch\n",
    "import MyModels as models\n",
    "device = torch.device(\"cuda:0\" if torch.cuda.is_available() else \"cpu\")\n",
    "model_ft = models.CNN(2,\"mobilenetv2_100\")\n",
    "model_ft = model_ft.to(device)\n",
    "weights = torch.load(\"../snp/retinopatia/mobilenet2_100_acc_98-0.9257.tar\")\n",
    "model_ft.load_state_dict(weights['state_dict'], strict=True)\n",
    "model_ft = model_ft.eval()\n",
    "torch.save(model_ft, 'mobilenetv2_100_0.9257.pth')"
   ]
  },
  {
   "cell_type": "code",
   "execution_count": null,
   "metadata": {},
   "outputs": [],
   "source": [
    "model_loss, model_acc, overfit_model = train('../retinopatia/train_images', \n",
    "                                             'train_train.csv',\n",
    "                                             '../retinopatia/train_images', \n",
    "                                             'train_val.csv',\n",
    "                                             Dataset.retinopatia_2,\n",
    "                                             zagr = 0,\n",
    "                                             SIZE = 224,  \n",
    "                                             path = \"../snp/retinopatia/2_class_acc_86-0.9714.tar\",\n",
    "                                             num_epochs=100,\n",
    "                                             batch_size = 100,\n",
    "                                             N_class = 2,    \n",
    "                                             Name = \"retinopatia/mobilenet_2\")"
   ]
  },
  {
   "cell_type": "code",
   "execution_count": 5,
   "metadata": {},
   "outputs": [],
   "source": [
    "device = torch.device(\"cuda:0\" if torch.cuda.is_available() else \"cpu\")\n",
    "model_ft = models.CNN(2,'resnet18')\n",
    "model_ft = model_ft.to(device)\n",
    "weights = torch.load(\"../snp/retinopatia/2_class_acc_86-0.9714.tar\")\n",
    "model_ft.load_state_dict(weights['state_dict'], strict=True)\n",
    "model_ft = model_ft.eval()"
   ]
  },
  {
   "cell_type": "code",
   "execution_count": 6,
   "metadata": {},
   "outputs": [],
   "source": [
    "torch.save(model_ft, 'resnet18-2.pth')"
   ]
  },
  {
   "cell_type": "code",
   "execution_count": 3,
   "metadata": {},
   "outputs": [
    {
     "name": "stdout",
     "output_type": "stream",
     "text": [
      "Epoch 1/1\n",
      "----------\n",
      "T_Loss: 0.0190 Acc: 0.9852\n",
      "V_Loss: 0.1347 Acc: 0.9714\n",
      "\n",
      "Training complete in 0m 48s\n",
      "Best val Loss classification: 0.1347 epoch 1  \n",
      "Best val Loss accuracy: 0.9714 epoch 1  \n"
     ]
    },
    {
     "data": {
      "image/png": "[encoded data removed]",
      "text/plain": [
       "<Figure size 432x288 with 1 Axes>"
      ]
     },
     "metadata": {
      "needs_background": "light"
     },
     "output_type": "display_data"
    },
    {
     "data": {
      "image/png": "[encoded data removed]",
      "text/plain": [
       "<Figure size 432x288 with 1 Axes>"
      ]
     },
     "metadata": {
      "needs_background": "light"
     },
     "output_type": "display_data"
    },
    {
     "name": "stdout",
     "output_type": "stream",
     "text": [
      "[tensor(1429.), tensor(1471.)]\n",
      "[tensor(340.), tensor(360.)]\n"
     ]
    }
   ],
   "source": [
    "model_loss, model_acc, overfit_model = train('../retinopatia/train_images', \n",
    "                                             'train_train.csv',\n",
    "                                             '../retinopatia/train_images', \n",
    "                                             'train_val.csv',\n",
    "                                             Dataset.retinopatia_2,\n",
    "                                             zagr = 1,\n",
    "                                             path = \"../snp/retinopatia/2_class_acc_86-0.9714.tar\",\n",
    "                                             num_epochs=1,\n",
    "                                             batch_size = 100,\n",
    "                                             N_class = 2,    \n",
    "                                             Name = \"retinopatia/retinopatia\")"
   ]
  },
  {
   "cell_type": "code",
   "execution_count": 4,
   "metadata": {},
   "outputs": [
    {
     "name": "stdout",
     "output_type": "stream",
     "text": [
      "Epoch 1/1\n",
      "----------\n",
      "T_Loss: 0.1314 Acc: 0.3138\n",
      "V_Loss: 1.2028 Acc: 0.3557\n",
      "\n",
      "Training complete in 0m 53s\n",
      "Best val Loss classification: 1.2028 epoch 1  \n",
      "Best val Loss accuracy: 0.3557 epoch 1  \n"
     ]
    },
    {
     "data": {
      "image/png": "[encoded data removed]",
      "text/plain": [
       "<Figure size 432x288 with 1 Axes>"
      ]
     },
     "metadata": {
      "needs_background": "light"
     },
     "output_type": "display_data"
    },
    {
     "data": {
      "image/png": "[encoded data removed]",
      "text/plain": [
       "<Figure size 432x288 with 1 Axes>"
      ]
     },
     "metadata": {
      "needs_background": "light"
     },
     "output_type": "display_data"
    },
    {
     "name": "stdout",
     "output_type": "stream",
     "text": [
      "[tensor(1425.), tensor(300.), tensor(787.), tensor(151.), tensor(237.)]\n",
      "[tensor(340.), tensor(64.), tensor(201.), tensor(41.), tensor(54.)]\n"
     ]
    }
   ],
   "source": [
    "model_loss, model_acc, overfit_model = train('../retinopatia/train_images', \n",
    "                                             'train_train.csv',\n",
    "                                             '../retinopatia/train_images', \n",
    "                                             'train_val.csv',\n",
    "                                             Dataset.MyDataset,\n",
    "                                             zagr = 1,\n",
    "                                             path = \"../snp/retinopatia/5_class_sampler_2_acc_270-0.8314.tar\",\n",
    "                                             num_epochs=1,\n",
    "                                             batch_size = 100,\n",
    "                                             N_class = 5,    \n",
    "                                             Name = \"retinopatia/retinopatia\")"
   ]
  },
  {
   "cell_type": "code",
   "execution_count": null,
   "metadata": {},
   "outputs": [],
   "source": []
  }
 ],
 "metadata": {
  "kernelspec": {
   "display_name": "Python 3",
   "language": "python",
   "name": "python3"
  },
  "language_info": {
   "codemirror_mode": {
    "name": "ipython",
    "version": 3
   },
   "file_extension": ".py",
   "mimetype": "text/x-python",
   "name": "python",
   "nbconvert_exporter": "python",
   "pygments_lexer": "ipython3",
   "version": "3.6.9"
  }
 },
 "nbformat": 4,
 "nbformat_minor": 4
}
