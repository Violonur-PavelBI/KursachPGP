{
 "cells": [
  {
   "cell_type": "code",
   "execution_count": 1,
   "metadata": {},
   "outputs": [],
   "source": [
    "import os\n",
    "from train import train\n",
    "import Dataset\n",
    "from transform import get_ransforms\n",
    "os.environ[\"CUDA_VISIBLE_DEVICES\"] = \"3\""
   ]
  },
  {
   "cell_type": "code",
   "execution_count": null,
   "metadata": {},
   "outputs": [],
   "source": [
    "model_loss, model_acc, overfit_model = train('../camera', \n",
    "                                             'train.csv',\n",
    "                                             '../camera', \n",
    "                                             'val.csv',\n",
    "                                             Dataset.MyDataset,\n",
    "                                             N_class = 10,     \n",
    "                                             transforms = get_ransforms,\n",
    "                                             zagr = 0,\n",
    "                                             path = \"../snp/5_class_sampler_acc_100-0.7714.tar\",\n",
    "                                             num_epochs=100,\n",
    "                                             batch_size = 100,\n",
    "                                             Name = \"camera/camera\")"
   ]
  },
  {
   "cell_type": "code",
   "execution_count": null,
   "metadata": {},
   "outputs": [],
   "source": []
  }
 ],
 "metadata": {
  "kernelspec": {
   "display_name": "Python 3",
   "language": "python",
   "name": "python3"
  },
  "language_info": {
   "codemirror_mode": {
    "name": "ipython",
    "version": 3
   },
   "file_extension": ".py",
   "mimetype": "text/x-python",
   "name": "python",
   "nbconvert_exporter": "python",
   "pygments_lexer": "ipython3",
   "version": "3.6.9"
  }
 },
 "nbformat": 4,
 "nbformat_minor": 4
}
