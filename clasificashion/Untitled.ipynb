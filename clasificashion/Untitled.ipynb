{
 "cells": [
  {
   "cell_type": "code",
   "execution_count": 1,
   "id": "16e00fb2",
   "metadata": {},
   "outputs": [],
   "source": [
    "import torchvision as tv\n",
    "import torchvision.transforms as transforms\n",
    "from torchvision.transforms import ToPILImage\n",
    "show = ToPILImage() # Тензор может быть преобразован в изображение для легкой визуализации\n",
    "import torch as t"
   ]
  },
  {
   "cell_type": "code",
   "execution_count": 2,
   "id": "ab84513e",
   "metadata": {},
   "outputs": [],
   "source": [
    "# Определить предварительную обработку данных\n",
    "transform = transforms.Compose([\n",
    "        transforms.ToTensor(), # Преобразовать в Тензор\n",
    "        transforms.Normalize((0.5, 0.5, 0.5), (0.5, 0.5, 0.5)), # Нормализация Сначала нормализуйте ввод в (0,1), затем используйте формулу \"(x-mean) / std\", чтобы распределить каждый элемент в (-1,1) \n",
    "                             ])                    \n",
    "\n",
    "# Обучающий набор (поскольку некоторые часто используемые наборы данных были инкапсулированы в torchvision, включая CIFAR10, MNIST и т. Д., Поэтому вы можете написать здесь tv.datasets.CIFAR10 ())\n",
    "trainset = tv.datasets.CIFAR10(\n",
    "                    root='/workspace/proj/pba/datasets/',   # Извлеките загруженный пакет сжатия набора данных в каталог DataSet в текущем каталоге\n",
    "                    train=True, \n",
    "                    download=False,    # Если вы ранее не загружали набор данных вручную, измените его на True здесь\n",
    "                    transform=transform)\n",
    "trainloader = t.utils.data.DataLoader(\n",
    "                    trainset, \n",
    "                    batch_size=4,\n",
    "                    shuffle=True, \n",
    "                    num_workers=2)\n"
   ]
  },
  {
   "cell_type": "code",
   "execution_count": null,
   "id": "7cdb0d54",
   "metadata": {},
   "outputs": [],
   "source": [
    "print(timm.list_models(pretrained=True))"
   ]
  },
  {
   "cell_type": "code",
   "execution_count": 3,
   "id": "032a67e1",
   "metadata": {},
   "outputs": [],
   "source": [
    "# Тестовый набор\n",
    "testset = tv.datasets.CIFAR10(\n",
    "                    '/workspace/proj/pba/datasets/',\n",
    "                    train=False, \n",
    "                    download=False,   # Если вы ранее не загружали набор данных вручную, измените его на True здесь \n",
    "                    transform=transform)\n",
    "\n",
    "testloader = t.utils.data.DataLoader(\n",
    "                    testset,\n",
    "                    batch_size=4, \n",
    "                    shuffle=False,\n",
    "                    num_workers=2)\n",
    "\n",
    "classes = ('plane', 'car', 'bird', 'cat',\n",
    "           'deer', 'dog', 'frog', 'horse', 'ship', 'truck')\n"
   ]
  },
  {
   "cell_type": "code",
   "execution_count": null,
   "id": "f2841fbe",
   "metadata": {},
   "outputs": [],
   "source": [
    "# model_loss, model_acc, overfit_model,best_acc = train.train(train_dirr=\"/workspace/proj/paradigma/db/imagewoof2\",                                           # Путь до папки с train or directori\n",
    "                                             val_dirr=\"/workspace/proj/paradigma/db/imagewoof2\",                                             # Путь до папки с описанием val\n",
    "                                             model_name =\"mobilenetv3_rw\",                             # Название модели timm or пользовательские из кода\n",
    "                                             Dataset_name =\"imagewoof\",                            # Название Dataset (при сохранении)\n",
    "                                             metod_aug_name=\"baseline\",#\"FsAA\",                # Название metoda (при сохранении)\n",
    "                                             task_name=\"clasification\",                          # Название задачи  (при сохранении)\n",
    "                                             train_annotation='/workspace/proj/paradigma/db/imagewoof2/noisy_imagewoof.csv',                                # Путь до файла с описанием train\n",
    "                                             val_annotation='/workspace/proj/paradigma/db/imagewoof2/noisy_imagewoof.csv',                                  # Путь до файла с описанием val\n",
    "                                             N_class = 10,                                          # Количество классов в задаче\n",
    "                                             num_epochs=200,                                        # Количество эпох обучения\n",
    "                                             batch_size = 64,                                       \n",
    "                                             snp_path = '/workspace/proj/paradigma/snp/',     # Путь к папке, в которую сохранять готовые модели\n",
    "                                             pretrained = True,                                   # True - загрузить предобученную модель\n",
    "                                             SIZE = 224,                                           # Размер входа (SIZE*SIZE)\n",
    "                                             lr=0.00004,                                        # Коэффициент скорости обучения (Learning rate)\n",
    "                                             step_size=10,                                        # за сколько эпох уменьшить lr\n",
    "                                             gamma=0.1,                                            # Во сколько раз уменьшить lr\n",
    "                                             momentum=0.95)#,                                        # коэфицент сохранения момента\n",
    "#                                              rootAA=\"/workspace/proj/au\n",
    "sgd 79"
   ]
  },
  {
   "cell_type": "code",
   "execution_count": 1,
   "id": "fc0aa17a",
   "metadata": {},
   "outputs": [],
   "source": [
    "import os\n",
    "# from train import train\n",
    "# import Dataset\n",
    "os.environ[\"CUDA_VISIBLE_DEVICES\"] = \"8\"\n",
    "import train"
   ]
  },
  {
   "cell_type": "code",
   "execution_count": null,
   "id": "223373fc",
   "metadata": {
    "scrolled": true
   },
   "outputs": [
    {
     "name": "stdout",
     "output_type": "stream",
     "text": [
      "/workspace/proj/paradigma/snp/imagewoof/mobilenetv3_rw/baseline/07_09_2022/09_06_24/\n"
     ]
    },
    {
     "name": "stderr",
     "output_type": "stream",
     "text": [
      "Epocha train 1/200: 100%|██████████| 141/141 [00:26<00:00,  5.31it/s, acc=0.00000, gpu_memory=5.38 GB, lr=0.00040, valid_loss=1.6290]\n",
      "Epocha val 1/200: 100%|██████████| 61/61 [00:06<00:00,  9.79it/s, acc=0.50465, gpu_memory=5.38 GB, lr=0.00040, valid_loss=0.6847]\n"
     ]
    },
    {
     "name": "stdout",
     "output_type": "stream",
     "text": [
      "Best val Loss classification: 0.684688,Best val Acc classification:0.000000\n"
     ]
    },
    {
     "name": "stderr",
     "output_type": "stream",
     "text": [
      "Epocha train 2/200: 100%|██████████| 141/141 [00:27<00:00,  5.22it/s, acc=0.77664, gpu_memory=5.38 GB, lr=0.00040, valid_loss=0.6290]\n",
      "Epocha val 2/200: 100%|██████████| 61/61 [00:07<00:00,  8.66it/s, acc=0.79167, gpu_memory=5.38 GB, lr=0.00040, valid_loss=0.4855]\n"
     ]
    },
    {
     "name": "stdout",
     "output_type": "stream",
     "text": [
      "Best val Loss classification: 0.485479,Best val Acc classification:0.776639\n"
     ]
    },
    {
     "name": "stderr",
     "output_type": "stream",
     "text": [
      "Epocha train 3/200: 100%|██████████| 141/141 [00:27<00:00,  5.18it/s, acc=0.83991, gpu_memory=5.38 GB, lr=0.00040, valid_loss=0.4860]\n",
      "Epocha val 3/200: 100%|██████████| 61/61 [00:08<00:00,  6.79it/s, acc=0.84353, gpu_memory=5.38 GB, lr=0.00040, valid_loss=0.4222]\n"
     ]
    },
    {
     "name": "stdout",
     "output_type": "stream",
     "text": [
      "Best val Loss classification: 0.422198,Best val Acc classification:0.839908\n"
     ]
    },
    {
     "name": "stderr",
     "output_type": "stream",
     "text": [
      "Epocha train 4/200: 100%|██████████| 141/141 [00:24<00:00,  5.70it/s, acc=0.86245, gpu_memory=5.38 GB, lr=0.00040, valid_loss=0.4119]\n",
      "Epocha val 4/200: 100%|██████████| 61/61 [00:08<00:00,  7.16it/s, acc=0.86392, gpu_memory=5.38 GB, lr=0.00040, valid_loss=0.3709]\n"
     ]
    },
    {
     "name": "stdout",
     "output_type": "stream",
     "text": [
      "Best val Loss classification: 0.370865,Best val Acc classification:0.862449\n"
     ]
    },
    {
     "name": "stderr",
     "output_type": "stream",
     "text": [
      "Epocha train 5/200: 100%|██████████| 141/141 [00:24<00:00,  5.75it/s, acc=0.87833, gpu_memory=5.38 GB, lr=0.00040, valid_loss=0.3559]\n",
      "Epocha val 5/200: 100%|██████████| 61/61 [00:08<00:00,  7.43it/s, acc=0.88531, gpu_memory=5.38 GB, lr=0.00040, valid_loss=0.3509]\n"
     ]
    },
    {
     "name": "stdout",
     "output_type": "stream",
     "text": [
      "Best val Loss classification: 0.350905,Best val Acc classification:0.878330\n"
     ]
    },
    {
     "name": "stderr",
     "output_type": "stream",
     "text": [
      "Epocha train 6/200: 100%|██████████| 141/141 [00:25<00:00,  5.63it/s, acc=0.88473, gpu_memory=5.38 GB, lr=0.00040, valid_loss=0.3237]\n",
      "Epocha val 6/200: 100%|██████████| 61/61 [00:07<00:00,  7.65it/s, acc=0.89362, gpu_memory=5.38 GB, lr=0.00040, valid_loss=0.3376]\n"
     ]
    },
    {
     "name": "stdout",
     "output_type": "stream",
     "text": [
      "Best val Loss classification: 0.337577,Best val Acc classification:0.884734\n"
     ]
    },
    {
     "name": "stderr",
     "output_type": "stream",
     "text": [
      "Epocha train 7/200: 100%|██████████| 141/141 [00:24<00:00,  5.71it/s, acc=0.89165, gpu_memory=5.38 GB, lr=0.00040, valid_loss=0.2946]\n",
      "Epocha val 7/200: 100%|██████████| 61/61 [00:08<00:00,  7.46it/s, acc=0.90337, gpu_memory=5.38 GB, lr=0.00040, valid_loss=0.3186]\n"
     ]
    },
    {
     "name": "stdout",
     "output_type": "stream",
     "text": [
      "Best val Loss classification: 0.318644,Best val Acc classification:0.891650\n"
     ]
    },
    {
     "name": "stderr",
     "output_type": "stream",
     "text": [
      "Epocha train 8/200: 100%|██████████| 141/141 [00:24<00:00,  5.65it/s, acc=0.89728, gpu_memory=5.38 GB, lr=0.00040, valid_loss=0.2686]\n",
      "Epocha val 8/200: 100%|██████████| 61/61 [00:07<00:00,  7.63it/s, acc=0.90924, gpu_memory=5.38 GB, lr=0.00040, valid_loss=0.3182]\n",
      "Epocha train 9/200: 100%|██████████| 141/141 [00:25<00:00,  5.45it/s, acc=0.89677, gpu_memory=5.38 GB, lr=0.00040, valid_loss=0.2523]\n",
      "Epocha val 9/200: 100%|██████████| 61/61 [00:07<00:00,  7.93it/s, acc=0.91622, gpu_memory=5.38 GB, lr=0.00040, valid_loss=0.3009]\n"
     ]
    },
    {
     "name": "stdout",
     "output_type": "stream",
     "text": [
      "Best val Loss classification: 0.300924,Best val Acc classification:0.897285\n"
     ]
    },
    {
     "name": "stderr",
     "output_type": "stream",
     "text": [
      "Epocha train 10/200: 100%|██████████| 141/141 [00:25<00:00,  5.51it/s, acc=0.90830, gpu_memory=5.38 GB, lr=0.00040, valid_loss=0.2371]\n",
      "Epocha val 10/200: 100%|██████████| 61/61 [00:07<00:00,  8.02it/s, acc=0.92055, gpu_memory=5.38 GB, lr=0.00040, valid_loss=0.2958]\n",
      "Epocha train 11/200: 100%|██████████| 141/141 [00:25<00:00,  5.64it/s, acc=0.90625, gpu_memory=5.38 GB, lr=0.00040, valid_loss=0.2258]\n",
      "Epocha val 11/200: 100%|██████████| 61/61 [00:08<00:00,  7.40it/s, acc=0.92309, gpu_memory=5.38 GB, lr=0.00040, valid_loss=0.2871]\n",
      "Epocha train 12/200: 100%|██████████| 141/141 [00:24<00:00,  5.77it/s, acc=0.90625, gpu_memory=5.38 GB, lr=0.00040, valid_loss=0.2174]\n",
      "Epocha val 12/200: 100%|██████████| 61/61 [00:08<00:00,  7.32it/s, acc=0.92963, gpu_memory=5.38 GB, lr=0.00040, valid_loss=0.2817]\n"
     ]
    },
    {
     "name": "stdout",
     "output_type": "stream",
     "text": [
      "Best val Loss classification: 0.281701,Best val Acc classification:0.908299\n"
     ]
    },
    {
     "name": "stderr",
     "output_type": "stream",
     "text": [
      "Epocha train 13/200: 100%|██████████| 141/141 [00:24<00:00,  5.68it/s, acc=0.91163, gpu_memory=5.38 GB, lr=0.00040, valid_loss=0.2033]\n",
      "Epocha val 13/200: 100%|██████████| 61/61 [00:08<00:00,  7.47it/s, acc=0.93118, gpu_memory=5.38 GB, lr=0.00040, valid_loss=0.2749]\n"
     ]
    },
    {
     "name": "stdout",
     "output_type": "stream",
     "text": [
      "Best val Loss classification: 0.274933,Best val Acc classification:0.911629\n"
     ]
    },
    {
     "name": "stderr",
     "output_type": "stream",
     "text": [
      "Epocha train 14/200: 100%|██████████| 141/141 [00:25<00:00,  5.61it/s, acc=0.91445, gpu_memory=5.38 GB, lr=0.00040, valid_loss=0.2001]\n",
      "Epocha val 14/200: 100%|██████████| 61/61 [00:08<00:00,  7.50it/s, acc=0.93772, gpu_memory=5.38 GB, lr=0.00040, valid_loss=0.2601]\n"
     ]
    },
    {
     "name": "stdout",
     "output_type": "stream",
     "text": [
      "Best val Loss classification: 0.260117,Best val Acc classification:0.914447\n"
     ]
    },
    {
     "name": "stderr",
     "output_type": "stream",
     "text": [
      "Epocha train 15/200: 100%|██████████| 141/141 [00:24<00:00,  5.72it/s, acc=0.91803, gpu_memory=5.38 GB, lr=0.00040, valid_loss=0.1796]\n",
      "Epocha val 15/200: 100%|██████████| 61/61 [00:08<00:00,  7.51it/s, acc=0.94215, gpu_memory=5.38 GB, lr=0.00040, valid_loss=0.2752]\n",
      "Epocha train 16/200: 100%|██████████| 141/141 [00:25<00:00,  5.50it/s, acc=0.91624, gpu_memory=5.38 GB, lr=0.00040, valid_loss=0.1776]\n",
      "Epocha val 16/200: 100%|██████████| 61/61 [00:07<00:00,  7.80it/s, acc=0.94371, gpu_memory=5.38 GB, lr=0.00040, valid_loss=0.2711]\n",
      "Epocha train 17/200: 100%|██████████| 141/141 [00:24<00:00,  5.69it/s, acc=0.91240, gpu_memory=5.38 GB, lr=0.00040, valid_loss=0.1585]\n",
      "Epocha val 17/200: 100%|██████████| 61/61 [00:08<00:00,  7.50it/s, acc=0.94814, gpu_memory=5.38 GB, lr=0.00040, valid_loss=0.2637]\n",
      "Epocha train 18/200: 100%|██████████| 141/141 [00:24<00:00,  5.70it/s, acc=0.91803, gpu_memory=5.38 GB, lr=0.00040, valid_loss=0.1673]\n",
      "Epocha val 18/200: 100%|██████████| 61/61 [00:08<00:00,  7.35it/s, acc=0.94393, gpu_memory=5.38 GB, lr=0.00040, valid_loss=0.2614]\n"
     ]
    },
    {
     "name": "stdout",
     "output_type": "stream",
     "text": [
      "Best val Loss classification: 0.260117,Best val Acc classification:0.918033\n"
     ]
    },
    {
     "name": "stderr",
     "output_type": "stream",
     "text": [
      "Epocha train 19/200: 100%|██████████| 141/141 [00:24<00:00,  5.76it/s, acc=0.92059, gpu_memory=5.38 GB, lr=0.00040, valid_loss=0.1565]\n",
      "Epocha val 19/200: 100%|██████████| 61/61 [00:08<00:00,  7.21it/s, acc=0.95024, gpu_memory=5.38 GB, lr=0.00040, valid_loss=0.2487]\n"
     ]
    },
    {
     "name": "stdout",
     "output_type": "stream",
     "text": [
      "Best val Loss classification: 0.248683,Best val Acc classification:0.920594\n"
     ]
    },
    {
     "name": "stderr",
     "output_type": "stream",
     "text": [
      "Epocha train 20/200: 100%|██████████| 141/141 [00:24<00:00,  5.66it/s, acc=0.92239, gpu_memory=5.38 GB, lr=0.00040, valid_loss=0.1531]\n",
      "Epocha val 20/200: 100%|██████████| 61/61 [00:08<00:00,  7.52it/s, acc=0.95202, gpu_memory=5.38 GB, lr=0.00040, valid_loss=0.2550]\n",
      "Epocha train 21/200: 100%|██████████| 141/141 [00:24<00:00,  5.79it/s, acc=0.92136, gpu_memory=5.38 GB, lr=0.00040, valid_loss=0.1506]\n",
      "Epocha val 21/200: 100%|██████████| 61/61 [00:08<00:00,  7.17it/s, acc=0.95002, gpu_memory=5.38 GB, lr=0.00040, valid_loss=0.2574]\n",
      "Epocha train 22/200: 100%|██████████| 141/141 [00:24<00:00,  5.71it/s, acc=0.92034, gpu_memory=5.38 GB, lr=0.00040, valid_loss=0.1422]\n",
      "Epocha val 22/200: 100%|██████████| 61/61 [00:08<00:00,  7.20it/s, acc=0.95290, gpu_memory=5.38 GB, lr=0.00040, valid_loss=0.2448]\n"
     ]
    },
    {
     "name": "stdout",
     "output_type": "stream",
     "text": [
      "Best val Loss classification: 0.244831,Best val Acc classification:0.922387\n"
     ]
    },
    {
     "name": "stderr",
     "output_type": "stream",
     "text": [
      "Epocha train 23/200: 100%|██████████| 141/141 [00:24<00:00,  5.67it/s, acc=0.92572, gpu_memory=5.38 GB, lr=0.00040, valid_loss=0.1382]\n",
      "Epocha val 23/200: 100%|██████████| 61/61 [00:08<00:00,  7.11it/s, acc=0.95379, gpu_memory=5.38 GB, lr=0.00040, valid_loss=0.2577]\n",
      "Epocha train 24/200: 100%|██████████| 141/141 [00:36<00:00,  3.87it/s, acc=0.92213, gpu_memory=5.38 GB, lr=0.00040, valid_loss=0.1289]\n",
      "Epocha val 24/200: 100%|██████████| 61/61 [00:06<00:00,  9.38it/s, acc=0.95911, gpu_memory=5.38 GB, lr=0.00040, valid_loss=0.2434]\n"
     ]
    },
    {
     "name": "stdout",
     "output_type": "stream",
     "text": [
      "Best val Loss classification: 0.243354,Best val Acc classification:0.925717\n"
     ]
    },
    {
     "name": "stderr",
     "output_type": "stream",
     "text": [
      "Epocha train 25/200: 100%|██████████| 141/141 [00:25<00:00,  5.43it/s, acc=0.92674, gpu_memory=5.38 GB, lr=0.00040, valid_loss=0.1247]\n",
      "Epocha val 25/200: 100%|██████████| 61/61 [00:06<00:00,  8.75it/s, acc=0.95933, gpu_memory=5.38 GB, lr=0.00040, valid_loss=0.2463]\n",
      "Epocha train 26/200: 100%|██████████| 141/141 [00:25<00:00,  5.56it/s, acc=0.92520, gpu_memory=5.38 GB, lr=0.00040, valid_loss=0.1228]\n",
      "Epocha val 26/200: 100%|██████████| 61/61 [00:06<00:00,  8.90it/s, acc=0.96133, gpu_memory=5.38 GB, lr=0.00040, valid_loss=0.2445]\n"
     ]
    },
    {
     "name": "stdout",
     "output_type": "stream",
     "text": [
      "Best val Loss classification: 0.243354,Best val Acc classification:0.926742\n"
     ]
    },
    {
     "name": "stderr",
     "output_type": "stream",
     "text": [
      "Epocha train 27/200: 100%|██████████| 141/141 [00:24<00:00,  5.69it/s, acc=0.92802, gpu_memory=5.38 GB, lr=0.00040, valid_loss=0.1184]\n",
      "Epocha val 27/200: 100%|██████████| 61/61 [00:08<00:00,  7.58it/s, acc=0.96155, gpu_memory=5.38 GB, lr=0.00040, valid_loss=0.2455]\n",
      "Epocha train 28/200: 100%|██████████| 141/141 [00:23<00:00,  5.91it/s, acc=0.92469, gpu_memory=5.38 GB, lr=0.00040, valid_loss=0.1204]\n",
      "Epocha val 28/200: 100%|██████████| 61/61 [00:08<00:00,  6.96it/s, acc=0.95922, gpu_memory=5.38 GB, lr=0.00040, valid_loss=0.2412]\n",
      "Epocha train 29/200: 100%|██████████| 141/141 [00:24<00:00,  5.82it/s, acc=0.92623, gpu_memory=5.38 GB, lr=0.00040, valid_loss=0.1108]\n",
      "Epocha val 29/200: 100%|██████████| 61/61 [00:08<00:00,  7.23it/s, acc=0.96376, gpu_memory=5.38 GB, lr=0.00040, valid_loss=0.2407]\n",
      "Epocha train 30/200: 100%|██████████| 141/141 [00:24<00:00,  5.77it/s, acc=0.92520, gpu_memory=5.38 GB, lr=0.00040, valid_loss=0.1178]\n",
      "Epocha val 30/200: 100%|██████████| 61/61 [00:08<00:00,  7.42it/s, acc=0.96188, gpu_memory=5.38 GB, lr=0.00040, valid_loss=0.2474]\n",
      "Epocha train 31/200: 100%|██████████| 141/141 [00:24<00:00,  5.84it/s, acc=0.92520, gpu_memory=5.38 GB, lr=0.00040, valid_loss=0.1028]\n",
      "Epocha val 31/200: 100%|██████████| 61/61 [00:09<00:00,  6.41it/s, acc=0.96620, gpu_memory=5.38 GB, lr=0.00040, valid_loss=0.2330]\n"
     ]
    },
    {
     "name": "stdout",
     "output_type": "stream",
     "text": [
      "Best val Loss classification: 0.232997,Best val Acc classification:0.928023\n"
     ]
    },
    {
     "name": "stderr",
     "output_type": "stream",
     "text": [
      "Epocha train 32/200: 100%|██████████| 141/141 [00:22<00:00,  6.14it/s, acc=0.93161, gpu_memory=5.38 GB, lr=0.00040, valid_loss=0.1049]\n",
      "Epocha val 32/200: 100%|██████████| 61/61 [00:08<00:00,  7.47it/s, acc=0.96476, gpu_memory=5.38 GB, lr=0.00040, valid_loss=0.2435]\n",
      "Epocha train 33/200: 100%|██████████| 141/141 [00:24<00:00,  5.87it/s, acc=0.92239, gpu_memory=5.38 GB, lr=0.00040, valid_loss=0.1047]\n",
      "Epocha val 33/200: 100%|██████████| 61/61 [00:08<00:00,  6.99it/s, acc=0.96764, gpu_memory=5.38 GB, lr=0.00040, valid_loss=0.2344]\n",
      "Epocha train 34/200: 100%|██████████| 141/141 [00:23<00:00,  6.05it/s, acc=0.93135, gpu_memory=5.38 GB, lr=0.00040, valid_loss=0.0992]\n",
      "Epocha val 34/200: 100%|██████████| 61/61 [00:08<00:00,  7.13it/s, acc=0.96964, gpu_memory=5.38 GB, lr=0.00040, valid_loss=0.2415]\n",
      "Epocha train 35/200: 100%|██████████| 141/141 [00:22<00:00,  6.17it/s, acc=0.92546, gpu_memory=5.38 GB, lr=0.00040, valid_loss=0.0897]\n",
      "Epocha val 35/200: 100%|██████████| 61/61 [00:08<00:00,  7.13it/s, acc=0.97263, gpu_memory=5.38 GB, lr=0.00040, valid_loss=0.2404]\n",
      "Epocha train 36/200: 100%|██████████| 141/141 [00:22<00:00,  6.20it/s, acc=0.92879, gpu_memory=5.38 GB, lr=0.00040, valid_loss=0.0981]\n",
      "Epocha val 36/200: 100%|██████████| 61/61 [00:07<00:00,  8.36it/s, acc=0.96842, gpu_memory=5.38 GB, lr=0.00040, valid_loss=0.2418]\n",
      "Epocha train 37/200: 100%|██████████| 141/141 [00:23<00:00,  6.00it/s, acc=0.92725, gpu_memory=5.38 GB, lr=0.00040, valid_loss=0.0900]\n",
      "Epocha val 37/200: 100%|██████████| 61/61 [00:08<00:00,  6.94it/s, acc=0.97152, gpu_memory=5.38 GB, lr=0.00040, valid_loss=0.2379]\n",
      "Epocha train 38/200: 100%|██████████| 141/141 [00:23<00:00,  5.98it/s, acc=0.92853, gpu_memory=5.38 GB, lr=0.00040, valid_loss=0.0894]\n",
      "Epocha val 38/200: 100%|██████████| 61/61 [00:08<00:00,  7.03it/s, acc=0.97108, gpu_memory=5.38 GB, lr=0.00040, valid_loss=0.2366]\n",
      "Epocha train 39/200: 100%|██████████| 141/141 [00:24<00:00,  5.87it/s, acc=0.93058, gpu_memory=5.38 GB, lr=0.00040, valid_loss=0.0848]\n",
      "Epocha val 39/200: 100%|██████████| 61/61 [00:08<00:00,  7.46it/s, acc=0.97252, gpu_memory=5.38 GB, lr=0.00040, valid_loss=0.2362]\n",
      "Epocha train 40/200: 100%|██████████| 141/141 [00:24<00:00,  5.70it/s, acc=0.92879, gpu_memory=5.38 GB, lr=0.00040, valid_loss=0.0857]\n",
      "Epocha val 40/200: 100%|██████████| 61/61 [00:08<00:00,  7.46it/s, acc=0.97263, gpu_memory=5.38 GB, lr=0.00040, valid_loss=0.2419]\n",
      "Epocha train 41/200: 100%|██████████| 141/141 [00:24<00:00,  5.68it/s, acc=0.92700, gpu_memory=5.38 GB, lr=0.00040, valid_loss=0.0797]\n",
      "Epocha val 41/200: 100%|██████████| 61/61 [00:08<00:00,  7.60it/s, acc=0.97518, gpu_memory=5.38 GB, lr=0.00040, valid_loss=0.2282]\n"
     ]
    },
    {
     "name": "stdout",
     "output_type": "stream",
     "text": [
      "Best val Loss classification: 0.228218,Best val Acc classification:0.931609\n"
     ]
    },
    {
     "name": "stderr",
     "output_type": "stream",
     "text": [
      "Epocha train 42/200: 100%|██████████| 141/141 [00:25<00:00,  5.59it/s, acc=0.93289, gpu_memory=5.38 GB, lr=0.00040, valid_loss=0.0815]\n",
      "Epocha val 42/200: 100%|██████████| 61/61 [00:08<00:00,  7.36it/s, acc=0.97451, gpu_memory=5.38 GB, lr=0.00040, valid_loss=0.2321]\n",
      "Epocha train 43/200: 100%|██████████| 141/141 [00:24<00:00,  5.66it/s, acc=0.93238, gpu_memory=5.38 GB, lr=0.00040, valid_loss=0.0767]\n",
      "Epocha val 43/200: 100%|██████████| 61/61 [00:08<00:00,  7.38it/s, acc=0.97673, gpu_memory=5.38 GB, lr=0.00040, valid_loss=0.2514]\n",
      "Epocha train 44/200: 100%|██████████| 141/141 [00:24<00:00,  5.72it/s, acc=0.92649, gpu_memory=5.38 GB, lr=0.00040, valid_loss=0.0828]\n",
      "Epocha val 44/200: 100%|██████████| 61/61 [00:08<00:00,  7.13it/s, acc=0.97340, gpu_memory=5.38 GB, lr=0.00040, valid_loss=0.2432]\n"
     ]
    },
    {
     "name": "stdout",
     "output_type": "stream",
     "text": [
      "Best val Loss classification: 0.228218,Best val Acc classification:0.932889\n"
     ]
    },
    {
     "name": "stderr",
     "output_type": "stream",
     "text": [
      "Epocha train 45/200: 100%|██████████| 141/141 [00:24<00:00,  5.68it/s, acc=0.93366, gpu_memory=5.38 GB, lr=0.00040, valid_loss=0.0744]\n",
      "Epocha val 45/200: 100%|██████████| 61/61 [00:08<00:00,  7.15it/s, acc=0.97673, gpu_memory=5.38 GB, lr=0.00040, valid_loss=0.2420]\n",
      "Epocha train 46/200: 100%|██████████| 141/141 [00:25<00:00,  5.61it/s, acc=0.93135, gpu_memory=5.38 GB, lr=0.00040, valid_loss=0.0715]\n",
      "Epocha val 46/200: 100%|██████████| 61/61 [00:08<00:00,  7.45it/s, acc=0.97739, gpu_memory=5.38 GB, lr=0.00040, valid_loss=0.2447]\n",
      "Epocha train 47/200: 100%|██████████| 141/141 [00:29<00:00,  4.73it/s, acc=0.92930, gpu_memory=5.38 GB, lr=0.00040, valid_loss=0.0696]\n",
      "Epocha val 47/200: 100%|██████████| 61/61 [00:09<00:00,  6.75it/s, acc=0.97828, gpu_memory=5.38 GB, lr=0.00040, valid_loss=0.2339]\n",
      "Epocha train 48/200: 100%|██████████| 141/141 [00:23<00:00,  5.98it/s, acc=0.93110, gpu_memory=5.38 GB, lr=0.00040, valid_loss=0.0781]\n",
      "Epocha val 48/200: 100%|██████████| 61/61 [00:08<00:00,  6.83it/s, acc=0.97673, gpu_memory=5.38 GB, lr=0.00040, valid_loss=0.2406]\n",
      "Epocha train 49/200: 100%|██████████| 141/141 [00:23<00:00,  6.01it/s, acc=0.92751, gpu_memory=5.38 GB, lr=0.00040, valid_loss=0.0718]\n",
      "Epocha val 49/200: 100%|██████████| 61/61 [00:08<00:00,  7.11it/s, acc=0.97739, gpu_memory=5.38 GB, lr=0.00040, valid_loss=0.2390]\n",
      "Epocha train 50/200: 100%|██████████| 141/141 [00:23<00:00,  5.89it/s, acc=0.92956, gpu_memory=5.38 GB, lr=0.00040, valid_loss=0.0674]\n",
      "Epocha val 50/200: 100%|██████████| 61/61 [00:08<00:00,  6.82it/s, acc=0.97928, gpu_memory=5.38 GB, lr=0.00040, valid_loss=0.2322]\n"
     ]
    },
    {
     "name": "stdout",
     "output_type": "stream",
     "text": [
      "Best val Loss classification: 0.228218,Best val Acc classification:0.933658\n"
     ]
    },
    {
     "name": "stderr",
     "output_type": "stream",
     "text": [
      "Epocha train 51/200: 100%|██████████| 141/141 [00:23<00:00,  5.98it/s, acc=0.93494, gpu_memory=5.38 GB, lr=0.00040, valid_loss=0.0618]\n",
      "Epocha val 51/200: 100%|██████████| 61/61 [00:09<00:00,  6.64it/s, acc=0.98027, gpu_memory=5.38 GB, lr=0.00040, valid_loss=0.2447]\n",
      "Epocha train 52/200: 100%|██████████| 141/141 [00:23<00:00,  6.01it/s, acc=0.92905, gpu_memory=5.38 GB, lr=0.00040, valid_loss=0.0712]\n",
      "Epocha val 52/200: 100%|██████████| 61/61 [00:09<00:00,  6.58it/s, acc=0.97850, gpu_memory=5.38 GB, lr=0.00040, valid_loss=0.2406]\n",
      "Epocha train 53/200: 100%|██████████| 141/141 [00:25<00:00,  5.56it/s, acc=0.93033, gpu_memory=5.38 GB, lr=0.00040, valid_loss=0.0613]\n",
      "Epocha val 53/200: 100%|██████████| 61/61 [00:08<00:00,  7.19it/s, acc=0.98194, gpu_memory=5.38 GB, lr=0.00040, valid_loss=0.2353]\n",
      "Epocha train 54/200: 100%|██████████| 141/141 [00:24<00:00,  5.67it/s, acc=0.93186, gpu_memory=5.38 GB, lr=0.00040, valid_loss=0.0670]\n",
      "Epocha val 54/200: 100%|██████████| 61/61 [00:08<00:00,  7.32it/s, acc=0.97883, gpu_memory=5.38 GB, lr=0.00040, valid_loss=0.2358]\n",
      "Epocha train 55/200: 100%|██████████| 141/141 [00:24<00:00,  5.71it/s, acc=0.93263, gpu_memory=5.38 GB, lr=0.00040, valid_loss=0.0648]\n",
      "Epocha val 55/200: 100%|██████████| 61/61 [00:08<00:00,  7.17it/s, acc=0.98160, gpu_memory=5.38 GB, lr=0.00040, valid_loss=0.2431]\n",
      "Epocha train 56/200: 100%|██████████| 141/141 [00:24<00:00,  5.68it/s, acc=0.93135, gpu_memory=5.38 GB, lr=0.00040, valid_loss=0.0657]\n",
      "Epocha val 56/200: 100%|██████████| 61/61 [00:08<00:00,  7.27it/s, acc=0.98160, gpu_memory=5.38 GB, lr=0.00040, valid_loss=0.2426]\n",
      "Epocha train 57/200: 100%|██████████| 141/141 [00:24<00:00,  5.69it/s, acc=0.93238, gpu_memory=5.38 GB, lr=0.00040, valid_loss=0.0578]\n",
      "Epocha val 57/200: 100%|██████████| 61/61 [00:08<00:00,  7.47it/s, acc=0.98260, gpu_memory=5.38 GB, lr=0.00040, valid_loss=0.2409]\n",
      "Epocha train 58/200: 100%|██████████| 141/141 [00:26<00:00,  5.35it/s, acc=0.93263, gpu_memory=5.38 GB, lr=0.00040, valid_loss=0.0613]\n",
      "Epocha val 58/200: 100%|██████████| 61/61 [00:10<00:00,  6.09it/s, acc=0.98005, gpu_memory=5.38 GB, lr=0.00040, valid_loss=0.2371]\n",
      "Epocha train 59/200: 100%|██████████| 141/141 [00:25<00:00,  5.56it/s, acc=0.93058, gpu_memory=5.38 GB, lr=0.00040, valid_loss=0.0556]\n",
      "Epocha val 59/200: 100%|██████████| 61/61 [00:07<00:00,  8.20it/s, acc=0.98238, gpu_memory=5.38 GB, lr=0.00040, valid_loss=0.2315]\n",
      "Epocha train 60/200: 100%|██████████| 141/141 [00:17<00:00,  8.12it/s, acc=0.93340, gpu_memory=5.38 GB, lr=0.00040, valid_loss=0.0617]\n",
      "Epocha val 60/200: 100%|██████████| 61/61 [00:06<00:00, 10.07it/s, acc=0.97983, gpu_memory=5.38 GB, lr=0.00040, valid_loss=0.2476]\n",
      "Epocha train 61/200: 100%|██████████| 141/141 [00:17<00:00,  8.06it/s, acc=0.92905, gpu_memory=5.38 GB, lr=0.00040, valid_loss=0.0542]\n",
      "Epocha val 61/200: 100%|██████████| 61/61 [00:06<00:00,  9.53it/s, acc=0.98360, gpu_memory=5.38 GB, lr=0.00040, valid_loss=0.2340]\n",
      "Epocha train 62/200: 100%|██████████| 141/141 [00:17<00:00,  8.22it/s, acc=0.93238, gpu_memory=5.38 GB, lr=0.00040, valid_loss=0.0585]\n",
      "Epocha val 62/200: 100%|██████████| 61/61 [00:06<00:00,  9.78it/s, acc=0.97928, gpu_memory=5.38 GB, lr=0.00040, valid_loss=0.2465]\n",
      "Epocha train 63/200: 100%|██████████| 141/141 [00:17<00:00,  8.12it/s, acc=0.93007, gpu_memory=5.38 GB, lr=0.00040, valid_loss=0.0485]\n",
      "Epocha val 63/200: 100%|██████████| 61/61 [00:05<00:00, 10.25it/s, acc=0.98404, gpu_memory=5.38 GB, lr=0.00040, valid_loss=0.2353]\n",
      "Epocha train 64/200: 100%|██████████| 141/141 [00:17<00:00,  8.09it/s, acc=0.93263, gpu_memory=5.38 GB, lr=0.00040, valid_loss=0.0523]\n",
      "Epocha val 64/200: 100%|██████████| 61/61 [00:06<00:00,  8.98it/s, acc=0.98327, gpu_memory=5.38 GB, lr=0.00040, valid_loss=0.2431]\n",
      "Epocha train 65/200: 100%|██████████| 141/141 [00:16<00:00,  8.30it/s, acc=0.93058, gpu_memory=5.38 GB, lr=0.00040, valid_loss=0.0517]\n",
      "Epocha val 65/200: 100%|██████████| 61/61 [00:06<00:00, 10.03it/s, acc=0.98415, gpu_memory=5.38 GB, lr=0.00040, valid_loss=0.2464]\n",
      "Epocha train 66/200: 100%|██████████| 141/141 [00:17<00:00,  8.15it/s, acc=0.93212, gpu_memory=5.38 GB, lr=0.00040, valid_loss=0.0518]\n",
      "Epocha val 66/200: 100%|██████████| 61/61 [00:06<00:00,  9.52it/s, acc=0.98426, gpu_memory=5.38 GB, lr=0.00040, valid_loss=0.2441]\n",
      "Epocha train 67/200: 100%|██████████| 141/141 [00:17<00:00,  8.09it/s, acc=0.93161, gpu_memory=5.38 GB, lr=0.00040, valid_loss=0.0527]\n",
      "Epocha val 67/200: 100%|██████████| 61/61 [00:06<00:00,  9.77it/s, acc=0.98216, gpu_memory=5.38 GB, lr=0.00040, valid_loss=0.2422]\n",
      "Epocha train 68/200: 100%|██████████| 141/141 [00:17<00:00,  8.14it/s, acc=0.93186, gpu_memory=5.38 GB, lr=0.00040, valid_loss=0.0503]\n",
      "Epocha val 68/200: 100%|██████████| 61/61 [00:06<00:00,  9.48it/s, acc=0.98349, gpu_memory=5.38 GB, lr=0.00040, valid_loss=0.2508]\n",
      "Epocha train 69/200: 100%|██████████| 141/141 [00:17<00:00,  8.10it/s, acc=0.93084, gpu_memory=5.38 GB, lr=0.00040, valid_loss=0.0509]\n",
      "Epocha val 69/200: 100%|██████████| 61/61 [00:06<00:00,  9.53it/s, acc=0.98404, gpu_memory=5.38 GB, lr=0.00040, valid_loss=0.2383]\n",
      "Epocha train 70/200: 100%|██████████| 141/141 [00:17<00:00,  8.07it/s, acc=0.93263, gpu_memory=5.38 GB, lr=0.00040, valid_loss=0.0483]\n",
      "Epocha val 70/200: 100%|██████████| 61/61 [00:06<00:00,  9.79it/s, acc=0.98482, gpu_memory=5.38 GB, lr=0.00040, valid_loss=0.2507]\n",
      "Epocha train 71/200: 100%|██████████| 141/141 [00:17<00:00,  8.11it/s, acc=0.93058, gpu_memory=5.38 GB, lr=0.00040, valid_loss=0.0464]\n",
      "Epocha val 71/200: 100%|██████████| 61/61 [00:06<00:00,  9.38it/s, acc=0.98515, gpu_memory=5.38 GB, lr=0.00040, valid_loss=0.2391]\n",
      "Epocha train 72/200: 100%|██████████| 141/141 [00:17<00:00,  8.00it/s, acc=0.93340, gpu_memory=5.38 GB, lr=0.00040, valid_loss=0.0433]\n",
      "Epocha val 72/200: 100%|██████████| 61/61 [00:06<00:00,  9.11it/s, acc=0.98770, gpu_memory=5.38 GB, lr=0.00040, valid_loss=0.2436]\n",
      "Epocha train 73/200: 100%|██████████| 141/141 [00:17<00:00,  8.18it/s, acc=0.93417, gpu_memory=5.38 GB, lr=0.00040, valid_loss=0.0530]\n",
      "Epocha val 73/200: 100%|██████████| 61/61 [00:06<00:00,  9.83it/s, acc=0.98404, gpu_memory=5.38 GB, lr=0.00040, valid_loss=0.2498]\n",
      "Epocha train 74/200: 100%|██████████| 141/141 [00:17<00:00,  8.06it/s, acc=0.93033, gpu_memory=5.38 GB, lr=0.00040, valid_loss=0.0475]\n",
      "Epocha val 74/200: 100%|██████████| 61/61 [00:06<00:00,  9.84it/s, acc=0.98537, gpu_memory=5.38 GB, lr=0.00040, valid_loss=0.2450]\n"
     ]
    },
    {
     "name": "stdout",
     "output_type": "stream",
     "text": [
      "Best val Loss classification: 0.228218,Best val Acc classification:0.934939\n"
     ]
    },
    {
     "name": "stderr",
     "output_type": "stream",
     "text": [
      "Epocha train 75/200: 100%|██████████| 141/141 [00:17<00:00,  8.08it/s, acc=0.93545, gpu_memory=5.38 GB, lr=0.00040, valid_loss=0.0439]\n",
      "Epocha val 75/200: 100%|██████████| 61/61 [00:06<00:00, 10.00it/s, acc=0.98681, gpu_memory=5.38 GB, lr=0.00040, valid_loss=0.2551]\n",
      "Epocha train 76/200: 100%|██████████| 141/141 [00:17<00:00,  8.08it/s, acc=0.93084, gpu_memory=5.38 GB, lr=0.00040, valid_loss=0.0451]\n",
      "Epocha val 76/200: 100%|██████████| 61/61 [00:06<00:00,  9.90it/s, acc=0.98681, gpu_memory=5.38 GB, lr=0.00040, valid_loss=0.2361]\n",
      "Epocha train 77/200: 100%|██████████| 141/141 [00:17<00:00,  8.04it/s, acc=0.93417, gpu_memory=5.38 GB, lr=0.00040, valid_loss=0.0427]\n",
      "Epocha val 77/200: 100%|██████████| 61/61 [00:06<00:00,  9.96it/s, acc=0.98681, gpu_memory=5.38 GB, lr=0.00040, valid_loss=0.2459]\n",
      "Epocha train 78/200: 100%|██████████| 141/141 [00:17<00:00,  8.26it/s, acc=0.93161, gpu_memory=5.38 GB, lr=0.00040, valid_loss=0.0386]\n",
      "Epocha val 78/200: 100%|██████████| 61/61 [00:05<00:00, 10.21it/s, acc=0.98781, gpu_memory=5.38 GB, lr=0.00040, valid_loss=0.2449]\n",
      "Epocha train 79/200: 100%|██████████| 141/141 [00:17<00:00,  7.94it/s, acc=0.93391, gpu_memory=5.38 GB, lr=0.00040, valid_loss=0.0424]\n",
      "Epocha val 79/200: 100%|██████████| 61/61 [00:06<00:00,  9.88it/s, acc=0.98670, gpu_memory=5.38 GB, lr=0.00040, valid_loss=0.2504]\n",
      "Epocha train 80/200: 100%|██████████| 141/141 [00:17<00:00,  7.98it/s, acc=0.93186, gpu_memory=5.38 GB, lr=0.00040, valid_loss=0.0354]\n",
      "Epocha val 80/200: 100%|██████████| 61/61 [00:06<00:00,  9.30it/s, acc=0.98903, gpu_memory=5.38 GB, lr=0.00040, valid_loss=0.2356]\n"
     ]
    },
    {
     "name": "stdout",
     "output_type": "stream",
     "text": [
      "Best val Loss classification: 0.228218,Best val Acc classification:0.935451\n"
     ]
    },
    {
     "name": "stderr",
     "output_type": "stream",
     "text": [
      "Epocha train 81/200: 100%|██████████| 141/141 [00:17<00:00,  8.07it/s, acc=0.93750, gpu_memory=5.38 GB, lr=0.00040, valid_loss=0.0409]\n",
      "Epocha val 81/200: 100%|██████████| 61/61 [00:06<00:00,  9.49it/s, acc=0.98703, gpu_memory=5.38 GB, lr=0.00040, valid_loss=0.2523]\n",
      "Epocha train 82/200: 100%|██████████| 141/141 [00:17<00:00,  8.10it/s, acc=0.93417, gpu_memory=5.38 GB, lr=0.00040, valid_loss=0.0417]\n",
      "Epocha val 82/200: 100%|██████████| 61/61 [00:06<00:00,  9.80it/s, acc=0.98759, gpu_memory=5.38 GB, lr=0.00040, valid_loss=0.2494]\n",
      "Epocha train 83/200: 100%|██████████| 141/141 [00:17<00:00,  8.18it/s, acc=0.93084, gpu_memory=5.38 GB, lr=0.00040, valid_loss=0.0428]\n",
      "Epocha val 83/200: 100%|██████████| 61/61 [00:06<00:00, 10.07it/s, acc=0.98726, gpu_memory=5.38 GB, lr=0.00040, valid_loss=0.2513]\n",
      "Epocha train 84/200: 100%|██████████| 141/141 [00:17<00:00,  8.04it/s, acc=0.93110, gpu_memory=5.38 GB, lr=0.00040, valid_loss=0.0363]\n",
      "Epocha val 84/200: 100%|██████████| 61/61 [00:05<00:00, 10.26it/s, acc=0.99047, gpu_memory=5.38 GB, lr=0.00040, valid_loss=0.2369]\n",
      "Epocha train 85/200: 100%|██████████| 141/141 [00:17<00:00,  8.15it/s, acc=0.93443, gpu_memory=5.38 GB, lr=0.00040, valid_loss=0.0367]\n",
      "Epocha val 85/200: 100%|██████████| 61/61 [00:06<00:00,  9.61it/s, acc=0.98848, gpu_memory=5.38 GB, lr=0.00040, valid_loss=0.2503]\n",
      "Epocha train 86/200: 100%|██████████| 141/141 [00:17<00:00,  8.05it/s, acc=0.93110, gpu_memory=5.38 GB, lr=0.00040, valid_loss=0.0347]\n",
      "Epocha val 86/200: 100%|██████████| 61/61 [00:06<00:00,  9.92it/s, acc=0.99014, gpu_memory=5.38 GB, lr=0.00040, valid_loss=0.2410]\n",
      "Epocha train 87/200: 100%|██████████| 141/141 [00:17<00:00,  7.96it/s, acc=0.93417, gpu_memory=5.38 GB, lr=0.00040, valid_loss=0.0382]\n",
      "Epocha val 87/200: 100%|██████████| 61/61 [00:06<00:00,  9.33it/s, acc=0.98759, gpu_memory=5.38 GB, lr=0.00040, valid_loss=0.2493]\n",
      "Epocha train 88/200:  87%|████████▋ | 123/141 [00:15<00:02,  8.07it/s, acc=0.93391, gpu_memory=5.38 GB, lr=0.00040, valid_loss=0.0334]"
     ]
    }
   ],
   "source": [
    "model_loss, model_acc, overfit_model,best_acc = train.train(train_dirr=\"/workspace/proj/paradigma/db/imagewoof2\",                                           # Путь до папки с train or directori\n",
    "                                             val_dirr=\"/workspace/proj/paradigma/db/imagewoof2\",                                             # Путь до папки с описанием val\n",
    "                                             model_name =\"mobilenetv3_rw\",                             # Название модели timm or пользовательские из кода\n",
    "                                             Dataset_name =\"imagewoof\",                            # Название Dataset (при сохранении)\n",
    "                                             metod_aug_name=\"baseline\",#\"FsAA\",                # Название metoda (при сохранении)\n",
    "                                             task_name=\"clasification\",                          # Название задачи  (при сохранении)\n",
    "                                             train_annotation='/workspace/proj/paradigma/db/imagewoof2/noisy_imagewoof.csv',                                # Путь до файла с описанием train\n",
    "                                             val_annotation='/workspace/proj/paradigma/db/imagewoof2/noisy_imagewoof.csv',                                  # Путь до файла с описанием val\n",
    "                                             N_class = 10,                                          # Количество классов в задаче\n",
    "                                             num_epochs=200,                                        # Количество эпох обучения\n",
    "                                             batch_size = 64,                                       \n",
    "                                             snp_path = '/workspace/proj/paradigma/snp/',     # Путь к папке, в которую сохранять готовые модели\n",
    "                                             pretrained = True,                                   # True - загрузить предобученную модель\n",
    "                                             SIZE = 224,                                           # Размер входа (SIZE*SIZE)\n",
    "                                             lr=0.0004,                                        # Коэффициент скорости обучения (Learning rate)\n",
    "                                             step_size=1000,                                        # за сколько эпох уменьшить lr\n",
    "                                             gamma=0.1,                                            # Во сколько раз уменьшить lr\n",
    "                                             momentum=0.95)#,                                        # коэфицент сохранения момента\n",
    "#                                              rootAA=\"/workspace/proj/autoalbument/examples/imagenette/resnet50/outputs/2022-08-03/15-10-06/policy/latest.json\")\n"
   ]
  },
  {
   "cell_type": "code",
   "execution_count": null,
   "id": "67872cea",
   "metadata": {},
   "outputs": [],
   "source": []
  }
 ],
 "metadata": {
  "kernelspec": {
   "display_name": "Python 3",
   "language": "python",
   "name": "python3"
  },
  "language_info": {
   "codemirror_mode": {
    "name": "ipython",
    "version": 3
   },
   "file_extension": ".py",
   "mimetype": "text/x-python",
   "name": "python",
   "nbconvert_exporter": "python",
   "pygments_lexer": "ipython3",
   "version": "3.6.9"
  }
 },
 "nbformat": 4,
 "nbformat_minor": 5
}
