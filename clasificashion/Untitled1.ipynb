{
 "cells": [
  {
   "cell_type": "code",
   "execution_count": 2,
   "metadata": {},
   "outputs": [],
   "source": [
    "import os\n",
    "# from train import train\n",
    "# import Dataset\n",
    "os.environ[\"CUDA_VISIBLE_DEVICES\"] = \"7\"\n",
    "import train"
   ]
  },
  {
   "cell_type": "code",
   "execution_count": null,
   "metadata": {},
   "outputs": [],
   "source": [
    "model_loss, model_acc, overfit_model = train.train(train_dirr=\"/workspace/proj/paradigma/db/imagenette2\",                                           # Путь до папки с train or directori\n",
    "                                             val_dirr=\"/workspace/proj/paradigma/db/imagenette2\",                                             # Путь до папки с описанием val\n",
    "                                             model_name =\"mobilenetv2_100\",                             # Название модели timm or пользовательские из кода\n",
    "                                             Dataset_name =\"imagenettev2\",                            # Название Dataset (при сохранении)\n",
    "                                             metod_aug_name=\"baseline\",                # Название metoda (при сохранении)\n",
    "                                             task_name=\"clasification\",                          # Название задачи  (при сохранении)\n",
    "                                             train_annotation=\"/workspace/proj/paradigma/db/imagenette2/noisy_imagenette.csv\",                                # Путь до файла с описанием train\n",
    "                                             val_annotation=\"/workspace/proj/paradigma/db/imagenette2/noisy_imagenette.csv\",                                  # Путь до файла с описанием val\n",
    "                                             N_class = 10,                                          # Количество классов в задаче\n",
    "                                             num_epochs=300,                                        # Количество эпох обучения\n",
    "                                             batch_size = 100,                                       \n",
    "                                             snp_path = '/workspace/proj/paradigma/snp/',     # Путь к папке, в которую сохранять готовые модели\n",
    "                                             pretrained = False,                                   # True - загрузить предобученную модель\n",
    "                                             SIZE = 224,                                           # Размер входа (SIZE*SIZE)\n",
    "                                             lr=0.001,                                           # Коэффициент скорости обучения (Learning rate)\n",
    "                                             step_size=50,                                         # за сколько эпох уменьшить lr\n",
    "                                             gamma=0.1,                                            # Во сколько раз уменьшить lr\n",
    "                                             momentum=0.999)#,                                        # коэфицент сохранения момента\n",
    "#                                              rootAA=\"/workspace/proj/autoalbument/examples/imageWoof/mobilenet2/outputs/2022-08-01/21-18-28/policy/latest.json\")\n",
    "\n"
   ]
  },
  {
   "cell_type": "code",
   "execution_count": null,
   "metadata": {
    "scrolled": true
   },
   "outputs": [
    {
     "name": "stdout",
     "output_type": "stream",
     "text": [
      "/workspace/proj/paradigma/snp/imagewoof/resnet18/baseline/07_09_2022/09_07_29/\n"
     ]
    },
    {
     "name": "stderr",
     "output_type": "stream",
     "text": [
      "Epocha train 1/200: 100%|██████████| 141/141 [00:21<00:00,  6.50it/s, acc=0.00000, gpu_memory=2.47 GB, lr=0.00004, valid_loss=2.3010]\n",
      "Epocha val 1/200: 100%|██████████| 61/61 [00:06<00:00,  8.99it/s, acc=0.15658, gpu_memory=2.47 GB, lr=0.00004, valid_loss=2.0416]\n"
     ]
    },
    {
     "name": "stdout",
     "output_type": "stream",
     "text": [
      "Best val Loss classification: 2.041620,Best val Acc classification:0.000000\n"
     ]
    },
    {
     "name": "stderr",
     "output_type": "stream",
     "text": [
      "Epocha train 2/200: 100%|██████████| 141/141 [00:24<00:00,  5.69it/s, acc=0.29969, gpu_memory=2.47 GB, lr=0.00004, valid_loss=1.8989]\n",
      "Epocha val 2/200: 100%|██████████| 61/61 [00:07<00:00,  8.54it/s, acc=0.41578, gpu_memory=2.47 GB, lr=0.00004, valid_loss=1.6978]\n"
     ]
    },
    {
     "name": "stdout",
     "output_type": "stream",
     "text": [
      "Best val Loss classification: 1.697791,Best val Acc classification:0.299693\n"
     ]
    },
    {
     "name": "stderr",
     "output_type": "stream",
     "text": [
      "Epocha train 3/200: 100%|██████████| 141/141 [00:24<00:00,  5.72it/s, acc=0.56967, gpu_memory=2.47 GB, lr=0.00004, valid_loss=1.6175]\n",
      "Epocha val 3/200: 100%|██████████| 61/61 [00:07<00:00,  8.63it/s, acc=0.60461, gpu_memory=2.47 GB, lr=0.00004, valid_loss=1.4231]\n"
     ]
    },
    {
     "name": "stdout",
     "output_type": "stream",
     "text": [
      "Best val Loss classification: 1.423133,Best val Acc classification:0.569672\n"
     ]
    },
    {
     "name": "stderr",
     "output_type": "stream",
     "text": [
      "Epocha train 4/200: 100%|██████████| 141/141 [00:24<00:00,  5.84it/s, acc=0.71491, gpu_memory=2.47 GB, lr=0.00004, valid_loss=1.3850]\n",
      "Epocha val 4/200: 100%|██████████| 61/61 [00:07<00:00,  8.04it/s, acc=0.69758, gpu_memory=2.47 GB, lr=0.00004, valid_loss=1.2050]\n"
     ]
    },
    {
     "name": "stdout",
     "output_type": "stream",
     "text": [
      "Best val Loss classification: 1.205043,Best val Acc classification:0.714908\n"
     ]
    },
    {
     "name": "stderr",
     "output_type": "stream",
     "text": [
      "Epocha train 5/200: 100%|██████████| 141/141 [00:23<00:00,  6.05it/s, acc=0.78253, gpu_memory=2.47 GB, lr=0.00004, valid_loss=1.2085]\n",
      "Epocha val 5/200: 100%|██████████| 61/61 [00:07<00:00,  7.63it/s, acc=0.74956, gpu_memory=2.47 GB, lr=0.00004, valid_loss=1.0442]\n"
     ]
    },
    {
     "name": "stdout",
     "output_type": "stream",
     "text": [
      "Best val Loss classification: 1.044230,Best val Acc classification:0.782531\n"
     ]
    },
    {
     "name": "stderr",
     "output_type": "stream",
     "text": [
      "Epocha train 6/200: 100%|██████████| 141/141 [00:23<00:00,  6.01it/s, acc=0.81148, gpu_memory=2.47 GB, lr=0.00004, valid_loss=1.0664]\n",
      "Epocha val 6/200: 100%|██████████| 61/61 [00:07<00:00,  7.71it/s, acc=0.78856, gpu_memory=2.47 GB, lr=0.00004, valid_loss=0.9180]\n"
     ]
    },
    {
     "name": "stdout",
     "output_type": "stream",
     "text": [
      "Best val Loss classification: 0.918043,Best val Acc classification:0.811475\n"
     ]
    },
    {
     "name": "stderr",
     "output_type": "stream",
     "text": [
      "Epocha train 7/200: 100%|██████████| 141/141 [00:23<00:00,  6.09it/s, acc=0.83299, gpu_memory=2.47 GB, lr=0.00004, valid_loss=0.9570]\n",
      "Epocha val 7/200: 100%|██████████| 61/61 [00:08<00:00,  7.49it/s, acc=0.80884, gpu_memory=2.47 GB, lr=0.00004, valid_loss=0.8238]\n"
     ]
    },
    {
     "name": "stdout",
     "output_type": "stream",
     "text": [
      "Best val Loss classification: 0.823805,Best val Acc classification:0.832992\n"
     ]
    },
    {
     "name": "stderr",
     "output_type": "stream",
     "text": [
      "Epocha train 8/200: 100%|██████████| 141/141 [00:23<00:00,  6.07it/s, acc=0.85041, gpu_memory=2.47 GB, lr=0.00004, valid_loss=0.8662]\n",
      "Epocha val 8/200: 100%|██████████| 61/61 [00:08<00:00,  7.14it/s, acc=0.82668, gpu_memory=2.47 GB, lr=0.00004, valid_loss=0.7466]\n"
     ]
    },
    {
     "name": "stdout",
     "output_type": "stream",
     "text": [
      "Best val Loss classification: 0.746571,Best val Acc classification:0.850410\n"
     ]
    },
    {
     "name": "stderr",
     "output_type": "stream",
     "text": [
      "Epocha train 9/200: 100%|██████████| 141/141 [00:22<00:00,  6.26it/s, acc=0.85758, gpu_memory=2.47 GB, lr=0.00004, valid_loss=0.7946]\n",
      "Epocha val 9/200: 100%|██████████| 61/61 [00:08<00:00,  7.13it/s, acc=0.83544, gpu_memory=2.47 GB, lr=0.00004, valid_loss=0.6812]\n"
     ]
    },
    {
     "name": "stdout",
     "output_type": "stream",
     "text": [
      "Best val Loss classification: 0.681176,Best val Acc classification:0.857582\n"
     ]
    },
    {
     "name": "stderr",
     "output_type": "stream",
     "text": [
      "Epocha train 10/200: 100%|██████████| 141/141 [00:22<00:00,  6.26it/s, acc=0.86450, gpu_memory=2.47 GB, lr=0.00004, valid_loss=0.7362]\n",
      "Epocha val 10/200: 100%|██████████| 61/61 [00:08<00:00,  7.13it/s, acc=0.83832, gpu_memory=2.47 GB, lr=0.00004, valid_loss=0.6350]\n"
     ]
    },
    {
     "name": "stdout",
     "output_type": "stream",
     "text": [
      "Best val Loss classification: 0.635042,Best val Acc classification:0.864498\n"
     ]
    },
    {
     "name": "stderr",
     "output_type": "stream",
     "text": [
      "Epocha train 11/200: 100%|██████████| 141/141 [00:22<00:00,  6.29it/s, acc=0.87474, gpu_memory=2.47 GB, lr=0.00004, valid_loss=0.6869]\n",
      "Epocha val 11/200: 100%|██████████| 61/61 [00:08<00:00,  7.34it/s, acc=0.85505, gpu_memory=2.47 GB, lr=0.00004, valid_loss=0.5961]\n",
      "Epocha train 12/200: 100%|██████████| 141/141 [00:22<00:00,  6.21it/s, acc=0.87372, gpu_memory=2.47 GB, lr=0.00004, valid_loss=0.6451]\n",
      "Epocha val 12/200: 100%|██████████| 61/61 [00:08<00:00,  7.13it/s, acc=0.85627, gpu_memory=2.47 GB, lr=0.00004, valid_loss=0.5577]\n"
     ]
    },
    {
     "name": "stdout",
     "output_type": "stream",
     "text": [
      "Best val Loss classification: 0.557657,Best val Acc classification:0.874744\n"
     ]
    },
    {
     "name": "stderr",
     "output_type": "stream",
     "text": [
      "Epocha train 13/200: 100%|██████████| 141/141 [00:21<00:00,  6.46it/s, acc=0.87602, gpu_memory=2.47 GB, lr=0.00004, valid_loss=0.6182]\n",
      "Epocha val 13/200: 100%|██████████| 61/61 [00:08<00:00,  7.18it/s, acc=0.86115, gpu_memory=2.47 GB, lr=0.00004, valid_loss=0.5286]\n"
     ]
    },
    {
     "name": "stdout",
     "output_type": "stream",
     "text": [
      "Best val Loss classification: 0.528628,Best val Acc classification:0.876025\n"
     ]
    },
    {
     "name": "stderr",
     "output_type": "stream",
     "text": [
      "Epocha train 14/200: 100%|██████████| 141/141 [00:21<00:00,  6.69it/s, acc=0.88012, gpu_memory=2.47 GB, lr=0.00004, valid_loss=0.5847]\n",
      "Epocha val 14/200: 100%|██████████| 61/61 [00:08<00:00,  7.02it/s, acc=0.86259, gpu_memory=2.47 GB, lr=0.00004, valid_loss=0.5129]\n"
     ]
    },
    {
     "name": "stdout",
     "output_type": "stream",
     "text": [
      "Best val Loss classification: 0.512916,Best val Acc classification:0.880123\n"
     ]
    },
    {
     "name": "stderr",
     "output_type": "stream",
     "text": [
      "Epocha train 15/200: 100%|██████████| 141/141 [00:21<00:00,  6.54it/s, acc=0.88115, gpu_memory=2.47 GB, lr=0.00004, valid_loss=0.5635]\n",
      "Epocha val 15/200: 100%|██████████| 61/61 [00:08<00:00,  7.19it/s, acc=0.86514, gpu_memory=2.47 GB, lr=0.00004, valid_loss=0.4889]\n"
     ]
    },
    {
     "name": "stdout",
     "output_type": "stream",
     "text": [
      "Best val Loss classification: 0.488921,Best val Acc classification:0.881148\n"
     ]
    },
    {
     "name": "stderr",
     "output_type": "stream",
     "text": [
      "Epocha train 16/200: 100%|██████████| 141/141 [00:20<00:00,  6.81it/s, acc=0.88268, gpu_memory=2.47 GB, lr=0.00004, valid_loss=0.5376]\n",
      "Epocha val 16/200: 100%|██████████| 61/61 [00:08<00:00,  7.02it/s, acc=0.87278, gpu_memory=2.47 GB, lr=0.00004, valid_loss=0.4675]\n"
     ]
    },
    {
     "name": "stdout",
     "output_type": "stream",
     "text": [
      "Best val Loss classification: 0.467459,Best val Acc classification:0.882684\n"
     ]
    },
    {
     "name": "stderr",
     "output_type": "stream",
     "text": [
      "Epocha train 17/200: 100%|██████████| 141/141 [00:20<00:00,  6.90it/s, acc=0.88986, gpu_memory=2.47 GB, lr=0.00004, valid_loss=0.5202]\n",
      "Epocha val 17/200: 100%|██████████| 61/61 [00:09<00:00,  6.76it/s, acc=0.87267, gpu_memory=2.47 GB, lr=0.00004, valid_loss=0.4512]\n"
     ]
    },
    {
     "name": "stdout",
     "output_type": "stream",
     "text": [
      "Best val Loss classification: 0.451189,Best val Acc classification:0.889857\n"
     ]
    },
    {
     "name": "stderr",
     "output_type": "stream",
     "text": [
      "Epocha train 18/200: 100%|██████████| 141/141 [00:21<00:00,  6.58it/s, acc=0.89395, gpu_memory=2.47 GB, lr=0.00004, valid_loss=0.5032]\n",
      "Epocha val 18/200: 100%|██████████| 61/61 [00:07<00:00,  7.87it/s, acc=0.87633, gpu_memory=2.47 GB, lr=0.00004, valid_loss=0.4393]\n",
      "Epocha train 19/200: 100%|██████████| 141/141 [00:21<00:00,  6.58it/s, acc=0.89139, gpu_memory=2.47 GB, lr=0.00004, valid_loss=0.4887]\n",
      "Epocha val 19/200: 100%|██████████| 61/61 [00:08<00:00,  6.80it/s, acc=0.88309, gpu_memory=2.47 GB, lr=0.00004, valid_loss=0.4251]\n",
      "Epocha train 20/200: 100%|██████████| 141/141 [00:21<00:00,  6.66it/s, acc=0.89011, gpu_memory=2.47 GB, lr=0.00004, valid_loss=0.4708]\n",
      "Epocha val 20/200: 100%|██████████| 61/61 [00:08<00:00,  7.21it/s, acc=0.88231, gpu_memory=2.47 GB, lr=0.00004, valid_loss=0.4068]\n",
      "Epocha train 21/200: 100%|██████████| 141/141 [00:21<00:00,  6.43it/s, acc=0.89395, gpu_memory=2.47 GB, lr=0.00004, valid_loss=0.4622]\n",
      "Epocha val 21/200: 100%|██████████| 61/61 [00:08<00:00,  7.05it/s, acc=0.88276, gpu_memory=2.47 GB, lr=0.00004, valid_loss=0.4070]\n",
      "Epocha train 22/200: 100%|██████████| 141/141 [00:21<00:00,  6.51it/s, acc=0.89216, gpu_memory=2.47 GB, lr=0.00004, valid_loss=0.4447]\n",
      "Epocha val 22/200: 100%|██████████| 61/61 [00:08<00:00,  6.88it/s, acc=0.88220, gpu_memory=2.47 GB, lr=0.00004, valid_loss=0.3997]\n",
      "Epocha train 23/200: 100%|██████████| 141/141 [00:21<00:00,  6.47it/s, acc=0.89370, gpu_memory=2.47 GB, lr=0.00004, valid_loss=0.4396]\n",
      "Epocha val 23/200: 100%|██████████| 61/61 [00:08<00:00,  7.38it/s, acc=0.88575, gpu_memory=2.47 GB, lr=0.00004, valid_loss=0.3854]\n"
     ]
    },
    {
     "name": "stdout",
     "output_type": "stream",
     "text": [
      "Best val Loss classification: 0.385406,Best val Acc classification:0.893955\n"
     ]
    },
    {
     "name": "stderr",
     "output_type": "stream",
     "text": [
      "Epocha train 24/200: 100%|██████████| 141/141 [00:28<00:00,  4.91it/s, acc=0.89703, gpu_memory=2.47 GB, lr=0.00004, valid_loss=0.4322]\n",
      "Epocha val 24/200: 100%|██████████| 61/61 [00:07<00:00,  7.70it/s, acc=0.88697, gpu_memory=2.47 GB, lr=0.00004, valid_loss=0.3775]\n"
     ]
    },
    {
     "name": "stdout",
     "output_type": "stream",
     "text": [
      "Best val Loss classification: 0.377456,Best val Acc classification:0.897029\n"
     ]
    },
    {
     "name": "stderr",
     "output_type": "stream",
     "text": [
      "Epocha train 25/200: 100%|██████████| 141/141 [00:23<00:00,  6.08it/s, acc=0.90061, gpu_memory=2.47 GB, lr=0.00004, valid_loss=0.4269]\n",
      "Epocha val 25/200: 100%|██████████| 61/61 [00:08<00:00,  7.23it/s, acc=0.88730, gpu_memory=2.47 GB, lr=0.00004, valid_loss=0.3726]\n"
     ]
    },
    {
     "name": "stdout",
     "output_type": "stream",
     "text": [
      "Best val Loss classification: 0.372607,Best val Acc classification:0.900615\n"
     ]
    },
    {
     "name": "stderr",
     "output_type": "stream",
     "text": [
      "Epocha train 26/200: 100%|██████████| 141/141 [00:22<00:00,  6.15it/s, acc=0.90343, gpu_memory=2.47 GB, lr=0.00004, valid_loss=0.4055]\n",
      "Epocha val 26/200: 100%|██████████| 61/61 [00:08<00:00,  7.12it/s, acc=0.89340, gpu_memory=2.47 GB, lr=0.00004, valid_loss=0.3643]\n",
      "Epocha train 27/200: 100%|██████████| 141/141 [00:22<00:00,  6.19it/s, acc=0.90087, gpu_memory=2.47 GB, lr=0.00004, valid_loss=0.4080]\n",
      "Epocha val 27/200: 100%|██████████| 61/61 [00:09<00:00,  6.76it/s, acc=0.88830, gpu_memory=2.47 GB, lr=0.00004, valid_loss=0.3615]\n",
      "Epocha train 28/200: 100%|██████████| 141/141 [00:21<00:00,  6.53it/s, acc=0.89600, gpu_memory=2.47 GB, lr=0.00004, valid_loss=0.3984]\n",
      "Epocha val 28/200: 100%|██████████| 61/61 [00:08<00:00,  6.88it/s, acc=0.89240, gpu_memory=2.47 GB, lr=0.00004, valid_loss=0.3554]\n",
      "Epocha train 29/200: 100%|██████████| 141/141 [00:21<00:00,  6.64it/s, acc=0.89805, gpu_memory=2.47 GB, lr=0.00004, valid_loss=0.3882]\n",
      "Epocha val 29/200: 100%|██████████| 61/61 [00:08<00:00,  6.85it/s, acc=0.89539, gpu_memory=2.47 GB, lr=0.00004, valid_loss=0.3511]\n",
      "Epocha train 30/200: 100%|██████████| 141/141 [00:21<00:00,  6.67it/s, acc=0.90113, gpu_memory=2.47 GB, lr=0.00004, valid_loss=0.3838]\n",
      "Epocha val 30/200: 100%|██████████| 61/61 [00:08<00:00,  7.05it/s, acc=0.89306, gpu_memory=2.47 GB, lr=0.00004, valid_loss=0.3489]\n"
     ]
    },
    {
     "name": "stdout",
     "output_type": "stream",
     "text": [
      "Best val Loss classification: 0.348897,Best val Acc classification:0.903432\n"
     ]
    },
    {
     "name": "stderr",
     "output_type": "stream",
     "text": [
      "Epocha train 31/200: 100%|██████████| 141/141 [00:20<00:00,  6.72it/s, acc=0.90369, gpu_memory=2.47 GB, lr=0.00004, valid_loss=0.3841]\n",
      "Epocha val 31/200: 100%|██████████| 61/61 [00:08<00:00,  7.01it/s, acc=0.89328, gpu_memory=2.47 GB, lr=0.00004, valid_loss=0.3465]\n",
      "Epocha train 32/200: 100%|██████████| 141/141 [00:20<00:00,  6.94it/s, acc=0.90036, gpu_memory=2.47 GB, lr=0.00004, valid_loss=0.3764]\n",
      "Epocha val 32/200: 100%|██████████| 61/61 [00:08<00:00,  7.25it/s, acc=0.89373, gpu_memory=2.47 GB, lr=0.00004, valid_loss=0.3342]\n"
     ]
    },
    {
     "name": "stdout",
     "output_type": "stream",
     "text": [
      "Best val Loss classification: 0.334178,Best val Acc classification:0.903689\n"
     ]
    },
    {
     "name": "stderr",
     "output_type": "stream",
     "text": [
      "Epocha train 33/200: 100%|██████████| 141/141 [00:20<00:00,  6.82it/s, acc=0.90830, gpu_memory=2.47 GB, lr=0.00004, valid_loss=0.3675]\n",
      "Epocha val 33/200: 100%|██████████| 61/61 [00:08<00:00,  7.10it/s, acc=0.89661, gpu_memory=2.47 GB, lr=0.00004, valid_loss=0.3371]\n",
      "Epocha train 34/200: 100%|██████████| 141/141 [00:20<00:00,  6.88it/s, acc=0.90548, gpu_memory=2.47 GB, lr=0.00004, valid_loss=0.3653]\n",
      "Epocha val 34/200: 100%|██████████| 61/61 [00:08<00:00,  7.20it/s, acc=0.89517, gpu_memory=2.47 GB, lr=0.00004, valid_loss=0.3340]\n",
      "Epocha train 35/200: 100%|██████████| 141/141 [00:21<00:00,  6.53it/s, acc=0.90574, gpu_memory=2.47 GB, lr=0.00004, valid_loss=0.3604]\n",
      "Epocha val 35/200: 100%|██████████| 61/61 [00:08<00:00,  7.28it/s, acc=0.90182, gpu_memory=2.47 GB, lr=0.00004, valid_loss=0.3278]\n",
      "Epocha train 36/200: 100%|██████████| 141/141 [00:21<00:00,  6.71it/s, acc=0.90497, gpu_memory=2.47 GB, lr=0.00004, valid_loss=0.3568]\n",
      "Epocha val 36/200: 100%|██████████| 61/61 [00:08<00:00,  6.95it/s, acc=0.89982, gpu_memory=2.47 GB, lr=0.00004, valid_loss=0.3247]\n",
      "Epocha train 37/200: 100%|██████████| 141/141 [00:20<00:00,  6.81it/s, acc=0.90779, gpu_memory=2.47 GB, lr=0.00004, valid_loss=0.3500]\n",
      "Epocha val 37/200: 100%|██████████| 61/61 [00:08<00:00,  7.14it/s, acc=0.89761, gpu_memory=2.47 GB, lr=0.00004, valid_loss=0.3225]\n",
      "Epocha train 38/200: 100%|██████████| 141/141 [00:22<00:00,  6.18it/s, acc=0.90727, gpu_memory=2.47 GB, lr=0.00004, valid_loss=0.3467]\n",
      "Epocha val 38/200: 100%|██████████| 61/61 [00:08<00:00,  7.33it/s, acc=0.90027, gpu_memory=2.47 GB, lr=0.00004, valid_loss=0.3205]\n",
      "Epocha train 39/200: 100%|██████████| 141/141 [00:22<00:00,  6.26it/s, acc=0.90113, gpu_memory=2.47 GB, lr=0.00004, valid_loss=0.3420]\n",
      "Epocha val 39/200: 100%|██████████| 61/61 [00:08<00:00,  7.48it/s, acc=0.90115, gpu_memory=2.47 GB, lr=0.00004, valid_loss=0.3164]\n"
     ]
    },
    {
     "name": "stdout",
     "output_type": "stream",
     "text": [
      "Best val Loss classification: 0.316358,Best val Acc classification:0.908299\n"
     ]
    },
    {
     "name": "stderr",
     "output_type": "stream",
     "text": [
      "Epocha train 40/200: 100%|██████████| 141/141 [00:21<00:00,  6.52it/s, acc=0.90932, gpu_memory=2.47 GB, lr=0.00004, valid_loss=0.3400]\n",
      "Epocha val 40/200: 100%|██████████| 61/61 [00:08<00:00,  6.96it/s, acc=0.90304, gpu_memory=2.47 GB, lr=0.00004, valid_loss=0.3106]\n",
      "Epocha train 41/200: 100%|██████████| 141/141 [00:21<00:00,  6.43it/s, acc=0.90625, gpu_memory=2.47 GB, lr=0.00004, valid_loss=0.3466]\n",
      "Epocha val 41/200: 100%|██████████| 61/61 [00:08<00:00,  7.05it/s, acc=0.90215, gpu_memory=2.47 GB, lr=0.00004, valid_loss=0.3078]\n",
      "Epocha train 42/200: 100%|██████████| 141/141 [00:21<00:00,  6.45it/s, acc=0.90856, gpu_memory=2.47 GB, lr=0.00004, valid_loss=0.3320]\n",
      "Epocha val 42/200: 100%|██████████| 61/61 [00:08<00:00,  7.09it/s, acc=0.90337, gpu_memory=2.47 GB, lr=0.00004, valid_loss=0.3117]\n",
      "Epocha train 43/200: 100%|██████████| 141/141 [00:21<00:00,  6.51it/s, acc=0.90548, gpu_memory=2.47 GB, lr=0.00004, valid_loss=0.3262]\n",
      "Epocha val 43/200: 100%|██████████| 61/61 [00:08<00:00,  7.00it/s, acc=0.90459, gpu_memory=2.47 GB, lr=0.00004, valid_loss=0.3126]\n",
      "Epocha train 44/200: 100%|██████████| 141/141 [00:21<00:00,  6.70it/s, acc=0.90599, gpu_memory=2.47 GB, lr=0.00004, valid_loss=0.3327]\n",
      "Epocha val 44/200: 100%|██████████| 61/61 [00:08<00:00,  7.05it/s, acc=0.90093, gpu_memory=2.47 GB, lr=0.00004, valid_loss=0.3026]\n",
      "Epocha train 45/200: 100%|██████████| 141/141 [00:20<00:00,  6.77it/s, acc=0.90907, gpu_memory=2.47 GB, lr=0.00004, valid_loss=0.3279]\n",
      "Epocha val 45/200: 100%|██████████| 61/61 [00:08<00:00,  7.24it/s, acc=0.90326, gpu_memory=2.47 GB, lr=0.00004, valid_loss=0.3049]\n",
      "Epocha train 46/200: 100%|██████████| 141/141 [00:21<00:00,  6.67it/s, acc=0.90702, gpu_memory=2.47 GB, lr=0.00004, valid_loss=0.3183]\n",
      "Epocha val 46/200: 100%|██████████| 61/61 [00:08<00:00,  7.59it/s, acc=0.90581, gpu_memory=2.47 GB, lr=0.00004, valid_loss=0.3007]\n"
     ]
    },
    {
     "name": "stdout",
     "output_type": "stream",
     "text": [
      "Best val Loss classification: 0.300691,Best val Acc classification:0.909324\n"
     ]
    },
    {
     "name": "stderr",
     "output_type": "stream",
     "text": [
      "Epocha train 47/200: 100%|██████████| 141/141 [00:21<00:00,  6.64it/s, acc=0.91240, gpu_memory=2.47 GB, lr=0.00004, valid_loss=0.3138]\n",
      "Epocha val 47/200: 100%|██████████| 61/61 [00:08<00:00,  6.99it/s, acc=0.90736, gpu_memory=2.47 GB, lr=0.00004, valid_loss=0.2981]\n",
      "Epocha train 48/200: 100%|██████████| 141/141 [00:21<00:00,  6.66it/s, acc=0.90856, gpu_memory=2.47 GB, lr=0.00004, valid_loss=0.3233]\n",
      "Epocha val 48/200: 100%|██████████| 61/61 [00:08<00:00,  7.07it/s, acc=0.90259, gpu_memory=2.47 GB, lr=0.00004, valid_loss=0.2995]\n"
     ]
    },
    {
     "name": "stdout",
     "output_type": "stream",
     "text": [
      "Best val Loss classification: 0.298109,Best val Acc classification:0.912398\n"
     ]
    },
    {
     "name": "stderr",
     "output_type": "stream",
     "text": [
      "Epocha train 49/200: 100%|██████████| 141/141 [00:23<00:00,  5.91it/s, acc=0.91419, gpu_memory=2.47 GB, lr=0.00004, valid_loss=0.3106]\n",
      "Epocha val 49/200: 100%|██████████| 61/61 [00:08<00:00,  6.87it/s, acc=0.90913, gpu_memory=2.47 GB, lr=0.00004, valid_loss=0.2930]\n",
      "Epocha train 50/200: 100%|██████████| 141/141 [00:22<00:00,  6.37it/s, acc=0.91393, gpu_memory=2.47 GB, lr=0.00004, valid_loss=0.3123]\n",
      "Epocha val 50/200: 100%|██████████| 61/61 [00:08<00:00,  6.83it/s, acc=0.90791, gpu_memory=2.47 GB, lr=0.00004, valid_loss=0.2966]\n",
      "Epocha train 51/200: 100%|██████████| 141/141 [00:22<00:00,  6.39it/s, acc=0.90830, gpu_memory=2.47 GB, lr=0.00004, valid_loss=0.3039]\n",
      "Epocha val 51/200: 100%|██████████| 61/61 [00:08<00:00,  6.79it/s, acc=0.91035, gpu_memory=2.47 GB, lr=0.00004, valid_loss=0.2880]\n",
      "Epocha train 52/200: 100%|██████████| 141/141 [00:22<00:00,  6.17it/s, acc=0.91112, gpu_memory=2.47 GB, lr=0.00004, valid_loss=0.3038]\n",
      "Epocha val 52/200: 100%|██████████| 61/61 [00:08<00:00,  7.15it/s, acc=0.91212, gpu_memory=2.47 GB, lr=0.00004, valid_loss=0.2885]\n",
      "Epocha train 53/200: 100%|██████████| 141/141 [00:23<00:00,  6.08it/s, acc=0.91214, gpu_memory=2.47 GB, lr=0.00004, valid_loss=0.3054]\n",
      "Epocha val 53/200: 100%|██████████| 61/61 [00:08<00:00,  7.42it/s, acc=0.91234, gpu_memory=2.47 GB, lr=0.00004, valid_loss=0.2903]\n",
      "Epocha train 54/200: 100%|██████████| 141/141 [00:23<00:00,  6.07it/s, acc=0.91265, gpu_memory=2.47 GB, lr=0.00004, valid_loss=0.3004]\n",
      "Epocha val 54/200: 100%|██████████| 61/61 [00:08<00:00,  7.60it/s, acc=0.90880, gpu_memory=2.47 GB, lr=0.00004, valid_loss=0.2900]\n",
      "Epocha train 55/200: 100%|██████████| 141/141 [00:23<00:00,  6.01it/s, acc=0.90958, gpu_memory=2.47 GB, lr=0.00004, valid_loss=0.3022]\n",
      "Epocha val 55/200: 100%|██████████| 61/61 [00:08<00:00,  7.23it/s, acc=0.91002, gpu_memory=2.47 GB, lr=0.00004, valid_loss=0.2836]\n"
     ]
    },
    {
     "name": "stdout",
     "output_type": "stream",
     "text": [
      "Best val Loss classification: 0.283625,Best val Acc classification:0.914191\n"
     ]
    },
    {
     "name": "stderr",
     "output_type": "stream",
     "text": [
      "Epocha train 56/200: 100%|██████████| 141/141 [00:22<00:00,  6.29it/s, acc=0.91573, gpu_memory=2.47 GB, lr=0.00004, valid_loss=0.2963]\n",
      "Epocha val 56/200: 100%|██████████| 61/61 [00:08<00:00,  6.95it/s, acc=0.91102, gpu_memory=2.47 GB, lr=0.00004, valid_loss=0.2818]\n",
      "Epocha train 57/200: 100%|██████████| 141/141 [00:25<00:00,  5.61it/s, acc=0.91547, gpu_memory=2.47 GB, lr=0.00004, valid_loss=0.2882]\n",
      "Epocha val 57/200: 100%|██████████| 61/61 [00:07<00:00,  8.65it/s, acc=0.91434, gpu_memory=2.47 GB, lr=0.00004, valid_loss=0.2845]\n",
      "Epocha train 58/200: 100%|██████████| 141/141 [00:23<00:00,  6.01it/s, acc=0.91547, gpu_memory=2.47 GB, lr=0.00004, valid_loss=0.2985]\n",
      "Epocha val 58/200: 100%|██████████| 61/61 [00:07<00:00,  8.33it/s, acc=0.90802, gpu_memory=2.47 GB, lr=0.00004, valid_loss=0.2866]\n",
      "Epocha train 59/200: 100%|██████████| 141/141 [00:23<00:00,  6.00it/s, acc=0.91035, gpu_memory=2.47 GB, lr=0.00004, valid_loss=0.2893]\n",
      "Epocha val 59/200: 100%|██████████| 61/61 [00:07<00:00,  7.73it/s, acc=0.91312, gpu_memory=2.47 GB, lr=0.00004, valid_loss=0.2828]\n",
      "Epocha train 60/200: 100%|██████████| 141/141 [00:25<00:00,  5.50it/s, acc=0.91240, gpu_memory=2.47 GB, lr=0.00004, valid_loss=0.2899]\n",
      "Epocha val 60/200: 100%|██████████| 61/61 [00:08<00:00,  7.56it/s, acc=0.91157, gpu_memory=2.47 GB, lr=0.00004, valid_loss=0.2797]\n",
      "Epocha train 61/200: 100%|██████████| 141/141 [00:22<00:00,  6.29it/s, acc=0.91393, gpu_memory=2.47 GB, lr=0.00004, valid_loss=0.2842]\n",
      "Epocha val 61/200: 100%|██████████| 61/61 [00:08<00:00,  7.04it/s, acc=0.91445, gpu_memory=2.47 GB, lr=0.00004, valid_loss=0.2789]\n",
      "Epocha train 62/200: 100%|██████████| 141/141 [00:22<00:00,  6.38it/s, acc=0.91240, gpu_memory=2.47 GB, lr=0.00004, valid_loss=0.2771]\n",
      "Epocha val 62/200: 100%|██████████| 61/61 [00:08<00:00,  7.27it/s, acc=0.91844, gpu_memory=2.47 GB, lr=0.00004, valid_loss=0.2784]\n"
     ]
    },
    {
     "name": "stdout",
     "output_type": "stream",
     "text": [
      "Best val Loss classification: 0.278382,Best val Acc classification:0.915727\n"
     ]
    },
    {
     "name": "stderr",
     "output_type": "stream",
     "text": [
      "Epocha train 63/200: 100%|██████████| 141/141 [00:23<00:00,  6.12it/s, acc=0.91598, gpu_memory=2.47 GB, lr=0.00004, valid_loss=0.2834]\n",
      "Epocha val 63/200: 100%|██████████| 61/61 [00:07<00:00,  8.00it/s, acc=0.91500, gpu_memory=2.47 GB, lr=0.00004, valid_loss=0.2777]\n",
      "Epocha train 64/200: 100%|██████████| 141/141 [00:22<00:00,  6.28it/s, acc=0.90932, gpu_memory=2.47 GB, lr=0.00004, valid_loss=0.2805]\n",
      "Epocha val 64/200: 100%|██████████| 61/61 [00:07<00:00,  7.64it/s, acc=0.91733, gpu_memory=2.47 GB, lr=0.00004, valid_loss=0.2740]\n",
      "Epocha train 65/200: 100%|██████████| 141/141 [00:22<00:00,  6.21it/s, acc=0.91445, gpu_memory=2.47 GB, lr=0.00004, valid_loss=0.2757]\n",
      "Epocha val 65/200: 100%|██████████| 61/61 [00:07<00:00,  8.13it/s, acc=0.91600, gpu_memory=2.47 GB, lr=0.00004, valid_loss=0.2735]\n",
      "Epocha train 66/200: 100%|██████████| 141/141 [00:23<00:00,  6.11it/s, acc=0.91547, gpu_memory=2.47 GB, lr=0.00004, valid_loss=0.2802]\n",
      "Epocha val 66/200: 100%|██████████| 61/61 [00:07<00:00,  7.87it/s, acc=0.91445, gpu_memory=2.47 GB, lr=0.00004, valid_loss=0.2755]\n"
     ]
    },
    {
     "name": "stdout",
     "output_type": "stream",
     "text": [
      "Best val Loss classification: 0.273502,Best val Acc classification:0.915984\n"
     ]
    },
    {
     "name": "stderr",
     "output_type": "stream",
     "text": [
      "Epocha train 67/200: 100%|██████████| 141/141 [00:22<00:00,  6.14it/s, acc=0.91701, gpu_memory=2.47 GB, lr=0.00004, valid_loss=0.2716]\n",
      "Epocha val 67/200: 100%|██████████| 61/61 [00:07<00:00,  8.26it/s, acc=0.91766, gpu_memory=2.47 GB, lr=0.00004, valid_loss=0.2719]\n",
      "Epocha train 68/200: 100%|██████████| 141/141 [00:23<00:00,  6.07it/s, acc=0.91624, gpu_memory=2.47 GB, lr=0.00004, valid_loss=0.2755]\n",
      "Epocha val 68/200: 100%|██████████| 61/61 [00:07<00:00,  8.65it/s, acc=0.91888, gpu_memory=2.47 GB, lr=0.00004, valid_loss=0.2697]\n",
      "Epocha train 69/200: 100%|██████████| 141/141 [00:23<00:00,  5.90it/s, acc=0.91675, gpu_memory=2.47 GB, lr=0.00004, valid_loss=0.2717]\n",
      "Epocha val 69/200: 100%|██████████| 61/61 [00:07<00:00,  8.68it/s, acc=0.91811, gpu_memory=2.47 GB, lr=0.00004, valid_loss=0.2702]\n",
      "Epocha train 70/200: 100%|██████████| 141/141 [00:23<00:00,  6.10it/s, acc=0.91342, gpu_memory=2.47 GB, lr=0.00004, valid_loss=0.2747]\n",
      "Epocha val 70/200: 100%|██████████| 61/61 [00:07<00:00,  8.49it/s, acc=0.91500, gpu_memory=2.47 GB, lr=0.00004, valid_loss=0.2701]\n",
      "Epocha train 71/200: 100%|██████████| 141/141 [00:23<00:00,  6.04it/s, acc=0.91650, gpu_memory=2.47 GB, lr=0.00004, valid_loss=0.2685]\n",
      "Epocha val 71/200: 100%|██████████| 61/61 [00:06<00:00,  8.72it/s, acc=0.92088, gpu_memory=2.47 GB, lr=0.00004, valid_loss=0.2713]\n"
     ]
    },
    {
     "name": "stdout",
     "output_type": "stream",
     "text": [
      "Best val Loss classification: 0.269665,Best val Acc classification:0.917008\n"
     ]
    },
    {
     "name": "stderr",
     "output_type": "stream",
     "text": [
      "Epocha train 72/200: 100%|██████████| 141/141 [00:23<00:00,  5.91it/s, acc=0.91829, gpu_memory=2.47 GB, lr=0.00004, valid_loss=0.2657]\n",
      "Epocha val 72/200: 100%|██████████| 61/61 [00:06<00:00,  8.94it/s, acc=0.91922, gpu_memory=2.47 GB, lr=0.00004, valid_loss=0.2668]\n",
      "Epocha train 73/200: 100%|██████████| 141/141 [00:23<00:00,  5.99it/s, acc=0.91445, gpu_memory=2.47 GB, lr=0.00004, valid_loss=0.2670]\n",
      "Epocha val 73/200: 100%|██████████| 61/61 [00:07<00:00,  8.58it/s, acc=0.91777, gpu_memory=2.47 GB, lr=0.00004, valid_loss=0.2644]\n",
      "Epocha train 74/200: 100%|██████████| 141/141 [00:23<00:00,  6.04it/s, acc=0.91624, gpu_memory=2.47 GB, lr=0.00004, valid_loss=0.2631]\n",
      "Epocha val 74/200: 100%|██████████| 61/61 [00:07<00:00,  8.66it/s, acc=0.91944, gpu_memory=2.47 GB, lr=0.00004, valid_loss=0.2668]\n",
      "Epocha train 75/200: 100%|██████████| 141/141 [00:23<00:00,  6.06it/s, acc=0.91701, gpu_memory=2.47 GB, lr=0.00004, valid_loss=0.2630]\n",
      "Epocha val 75/200: 100%|██████████| 61/61 [00:06<00:00,  8.78it/s, acc=0.92132, gpu_memory=2.47 GB, lr=0.00004, valid_loss=0.2630]\n",
      "Epocha train 76/200: 100%|██████████| 141/141 [00:22<00:00,  6.41it/s, acc=0.91803, gpu_memory=2.47 GB, lr=0.00004, valid_loss=0.2594]\n",
      "Epocha val 76/200: 100%|██████████| 61/61 [00:08<00:00,  7.53it/s, acc=0.91977, gpu_memory=2.47 GB, lr=0.00004, valid_loss=0.2680]\n",
      "Epocha train 77/200: 100%|██████████| 141/141 [00:22<00:00,  6.27it/s, acc=0.91598, gpu_memory=2.47 GB, lr=0.00004, valid_loss=0.2582]\n",
      "Epocha val 77/200: 100%|██████████| 61/61 [00:08<00:00,  7.50it/s, acc=0.92320, gpu_memory=2.47 GB, lr=0.00004, valid_loss=0.2656]\n"
     ]
    },
    {
     "name": "stdout",
     "output_type": "stream",
     "text": [
      "Best val Loss classification: 0.263017,Best val Acc classification:0.918289\n"
     ]
    },
    {
     "name": "stderr",
     "output_type": "stream",
     "text": [
      "Epocha train 78/200: 100%|██████████| 141/141 [00:23<00:00,  6.08it/s, acc=0.91957, gpu_memory=2.47 GB, lr=0.00004, valid_loss=0.2584]\n",
      "Epocha val 78/200: 100%|██████████| 61/61 [00:07<00:00,  8.07it/s, acc=0.92365, gpu_memory=2.47 GB, lr=0.00004, valid_loss=0.2580]\n"
     ]
    },
    {
     "name": "stdout",
     "output_type": "stream",
     "text": [
      "Best val Loss classification: 0.257982,Best val Acc classification:0.919570\n"
     ]
    },
    {
     "name": "stderr",
     "output_type": "stream",
     "text": [
      "Epocha train 79/200: 100%|██████████| 141/141 [00:22<00:00,  6.14it/s, acc=0.92008, gpu_memory=2.47 GB, lr=0.00004, valid_loss=0.2640]\n",
      "Epocha val 79/200: 100%|██████████| 61/61 [00:07<00:00,  8.16it/s, acc=0.91899, gpu_memory=2.47 GB, lr=0.00004, valid_loss=0.2629]\n",
      "Epocha train 80/200: 100%|██████████| 141/141 [00:22<00:00,  6.26it/s, acc=0.91675, gpu_memory=2.47 GB, lr=0.00004, valid_loss=0.2626]\n",
      "Epocha val 80/200: 100%|██████████| 61/61 [00:07<00:00,  7.87it/s, acc=0.92265, gpu_memory=2.47 GB, lr=0.00004, valid_loss=0.2610]\n",
      "Epocha train 81/200: 100%|██████████| 141/141 [00:22<00:00,  6.14it/s, acc=0.91803, gpu_memory=2.47 GB, lr=0.00004, valid_loss=0.2551]\n",
      "Epocha val 81/200: 100%|██████████| 61/61 [00:07<00:00,  7.89it/s, acc=0.92121, gpu_memory=2.47 GB, lr=0.00004, valid_loss=0.2625]\n",
      "Epocha train 82/200: 100%|██████████| 141/141 [00:22<00:00,  6.28it/s, acc=0.91726, gpu_memory=2.47 GB, lr=0.00004, valid_loss=0.2510]\n",
      "Epocha val 82/200: 100%|██████████| 61/61 [00:08<00:00,  7.52it/s, acc=0.92409, gpu_memory=2.47 GB, lr=0.00004, valid_loss=0.2580]\n",
      "Epocha train 83/200: 100%|██████████| 141/141 [00:23<00:00,  6.07it/s, acc=0.91726, gpu_memory=2.47 GB, lr=0.00004, valid_loss=0.2489]\n",
      "Epocha val 83/200: 100%|██████████| 61/61 [00:07<00:00,  8.25it/s, acc=0.92586, gpu_memory=2.47 GB, lr=0.00004, valid_loss=0.2637]\n",
      "Epocha train 84/200: 100%|██████████| 141/141 [00:23<00:00,  6.09it/s, acc=0.91829, gpu_memory=2.47 GB, lr=0.00004, valid_loss=0.2508]\n",
      "Epocha val 84/200: 100%|██████████| 61/61 [00:07<00:00,  8.06it/s, acc=0.92099, gpu_memory=2.47 GB, lr=0.00004, valid_loss=0.2568]\n",
      "Epocha train 85/200: 100%|██████████| 141/141 [00:23<00:00,  6.10it/s, acc=0.91855, gpu_memory=2.47 GB, lr=0.00004, valid_loss=0.2459]\n",
      "Epocha val 85/200: 100%|██████████| 61/61 [00:07<00:00,  8.64it/s, acc=0.92775, gpu_memory=2.47 GB, lr=0.00004, valid_loss=0.2622]\n"
     ]
    },
    {
     "name": "stdout",
     "output_type": "stream",
     "text": [
      "Best val Loss classification: 0.256828,Best val Acc classification:0.920082\n"
     ]
    },
    {
     "name": "stderr",
     "output_type": "stream",
     "text": [
      "Epocha train 86/200: 100%|██████████| 141/141 [00:22<00:00,  6.28it/s, acc=0.92520, gpu_memory=2.47 GB, lr=0.00004, valid_loss=0.2475]\n",
      "Epocha val 86/200: 100%|██████████| 61/61 [00:07<00:00,  8.08it/s, acc=0.92143, gpu_memory=2.47 GB, lr=0.00004, valid_loss=0.2612]\n",
      "Epocha train 87/200: 100%|██████████| 141/141 [00:22<00:00,  6.16it/s, acc=0.91957, gpu_memory=2.47 GB, lr=0.00004, valid_loss=0.2529]\n",
      "Epocha val 87/200: 100%|██████████| 61/61 [00:07<00:00,  7.94it/s, acc=0.92354, gpu_memory=2.47 GB, lr=0.00004, valid_loss=0.2514]\n",
      "Epocha train 88/200: 100%|██████████| 141/141 [00:22<00:00,  6.19it/s, acc=0.92290, gpu_memory=2.47 GB, lr=0.00004, valid_loss=0.2401]\n",
      "Epocha val 88/200: 100%|██████████| 61/61 [00:07<00:00,  8.29it/s, acc=0.93030, gpu_memory=2.47 GB, lr=0.00004, valid_loss=0.2640]\n",
      "Epocha train 89/200: 100%|██████████| 141/141 [00:22<00:00,  6.18it/s, acc=0.91855, gpu_memory=2.47 GB, lr=0.00004, valid_loss=0.2384]\n",
      "Epocha val 89/200: 100%|██████████| 61/61 [00:07<00:00,  8.29it/s, acc=0.92620, gpu_memory=2.47 GB, lr=0.00004, valid_loss=0.2613]\n",
      "Epocha train 90/200: 100%|██████████| 141/141 [00:23<00:00,  6.11it/s, acc=0.91957, gpu_memory=2.47 GB, lr=0.00004, valid_loss=0.2384]\n",
      "Epocha val 90/200: 100%|██████████| 61/61 [00:07<00:00,  8.31it/s, acc=0.92808, gpu_memory=2.47 GB, lr=0.00004, valid_loss=0.2594]\n",
      "Epocha train 91/200: 100%|██████████| 141/141 [00:22<00:00,  6.22it/s, acc=0.91726, gpu_memory=2.47 GB, lr=0.00004, valid_loss=0.2426]\n",
      "Epocha val 91/200: 100%|██████████| 61/61 [00:07<00:00,  8.17it/s, acc=0.92354, gpu_memory=2.47 GB, lr=0.00004, valid_loss=0.2607]\n",
      "Epocha train 92/200: 100%|██████████| 141/141 [00:22<00:00,  6.25it/s, acc=0.91624, gpu_memory=2.47 GB, lr=0.00004, valid_loss=0.2467]\n",
      "Epocha val 92/200: 100%|██████████| 61/61 [00:07<00:00,  7.90it/s, acc=0.92487, gpu_memory=2.47 GB, lr=0.00004, valid_loss=0.2583]\n",
      "Epocha train 93/200: 100%|██████████| 141/141 [00:23<00:00,  6.04it/s, acc=0.91598, gpu_memory=2.47 GB, lr=0.00004, valid_loss=0.2425]\n",
      "Epocha val 93/200: 100%|██████████| 61/61 [00:07<00:00,  8.29it/s, acc=0.92719, gpu_memory=2.47 GB, lr=0.00004, valid_loss=0.2544]\n",
      "Epocha train 94/200: 100%|██████████| 141/141 [00:22<00:00,  6.20it/s, acc=0.91906, gpu_memory=2.47 GB, lr=0.00004, valid_loss=0.2379]\n",
      "Epocha val 94/200: 100%|██████████| 61/61 [00:07<00:00,  8.09it/s, acc=0.92609, gpu_memory=2.47 GB, lr=0.00004, valid_loss=0.2512]\n",
      "Epocha train 95/200: 100%|██████████| 141/141 [00:23<00:00,  6.10it/s, acc=0.92316, gpu_memory=2.47 GB, lr=0.00004, valid_loss=0.2361]\n",
      "Epocha val 95/200: 100%|██████████| 61/61 [00:07<00:00,  8.68it/s, acc=0.92797, gpu_memory=2.47 GB, lr=0.00004, valid_loss=0.2506]\n",
      "Epocha train 96/200: 100%|██████████| 141/141 [00:23<00:00,  6.02it/s, acc=0.91778, gpu_memory=2.47 GB, lr=0.00004, valid_loss=0.2378]\n",
      "Epocha val 96/200: 100%|██████████| 61/61 [00:07<00:00,  8.69it/s, acc=0.92686, gpu_memory=2.47 GB, lr=0.00004, valid_loss=0.2551]\n",
      "Epocha train 97/200: 100%|██████████| 141/141 [00:24<00:00,  5.86it/s, acc=0.92059, gpu_memory=2.47 GB, lr=0.00004, valid_loss=0.2406]\n",
      "Epocha val 97/200: 100%|██████████| 61/61 [00:07<00:00,  8.65it/s, acc=0.92409, gpu_memory=2.47 GB, lr=0.00004, valid_loss=0.2456]\n",
      "Epocha train 98/200: 100%|██████████| 141/141 [00:23<00:00,  5.95it/s, acc=0.92392, gpu_memory=2.47 GB, lr=0.00004, valid_loss=0.2360]\n",
      "Epocha val 98/200: 100%|██████████| 61/61 [00:07<00:00,  8.64it/s, acc=0.92786, gpu_memory=2.47 GB, lr=0.00004, valid_loss=0.2550]\n",
      "Epocha train 99/200: 100%|██████████| 141/141 [00:24<00:00,  5.79it/s, acc=0.91752, gpu_memory=2.47 GB, lr=0.00004, valid_loss=0.2397]\n",
      "Epocha val 99/200: 100%|██████████| 61/61 [00:06<00:00,  8.77it/s, acc=0.92498, gpu_memory=2.47 GB, lr=0.00004, valid_loss=0.2535]\n",
      "Epocha train 100/200: 100%|██████████| 141/141 [00:23<00:00,  6.04it/s, acc=0.92111, gpu_memory=2.47 GB, lr=0.00004, valid_loss=0.2282]\n",
      "Epocha val 100/200: 100%|██████████| 61/61 [00:07<00:00,  8.57it/s, acc=0.93107, gpu_memory=2.47 GB, lr=0.00004, valid_loss=0.2572]\n",
      "Epocha train 101/200: 100%|██████████| 141/141 [00:23<00:00,  6.09it/s, acc=0.91983, gpu_memory=2.47 GB, lr=0.00004, valid_loss=0.2290]\n",
      "Epocha val 101/200: 100%|██████████| 61/61 [00:07<00:00,  8.04it/s, acc=0.93141, gpu_memory=2.47 GB, lr=0.00004, valid_loss=0.2501]\n",
      "Epocha train 102/200: 100%|██████████| 141/141 [00:23<00:00,  6.08it/s, acc=0.91803, gpu_memory=2.47 GB, lr=0.00004, valid_loss=0.2301]\n",
      "Epocha val 102/200: 100%|██████████| 61/61 [00:08<00:00,  7.59it/s, acc=0.93063, gpu_memory=2.47 GB, lr=0.00004, valid_loss=0.2545]\n",
      "Epocha train 103/200: 100%|██████████| 141/141 [00:23<00:00,  5.97it/s, acc=0.91931, gpu_memory=2.47 GB, lr=0.00004, valid_loss=0.2261]\n",
      "Epocha val 103/200: 100%|██████████| 61/61 [00:07<00:00,  7.89it/s, acc=0.93273, gpu_memory=2.47 GB, lr=0.00004, valid_loss=0.2512]\n",
      "Epocha train 104/200: 100%|██████████| 141/141 [00:23<00:00,  6.05it/s, acc=0.91957, gpu_memory=2.47 GB, lr=0.00004, valid_loss=0.2232]\n",
      "Epocha val 104/200: 100%|██████████| 61/61 [00:07<00:00,  8.30it/s, acc=0.93063, gpu_memory=2.47 GB, lr=0.00004, valid_loss=0.2504]\n",
      "Epocha train 105/200: 100%|██████████| 141/141 [00:23<00:00,  5.97it/s, acc=0.92162, gpu_memory=2.47 GB, lr=0.00004, valid_loss=0.2249]\n",
      "Epocha val 105/200: 100%|██████████| 61/61 [00:07<00:00,  8.00it/s, acc=0.93019, gpu_memory=2.47 GB, lr=0.00004, valid_loss=0.2474]\n",
      "Epocha train 106/200: 100%|██████████| 141/141 [00:23<00:00,  6.11it/s, acc=0.92213, gpu_memory=2.47 GB, lr=0.00004, valid_loss=0.2287]\n",
      "Epocha val 106/200: 100%|██████████| 61/61 [00:07<00:00,  7.85it/s, acc=0.93107, gpu_memory=2.47 GB, lr=0.00004, valid_loss=0.2459]\n",
      "Epocha train 107/200: 100%|██████████| 141/141 [00:23<00:00,  6.06it/s, acc=0.92367, gpu_memory=2.47 GB, lr=0.00004, valid_loss=0.2270]\n",
      "Epocha val 107/200: 100%|██████████| 61/61 [00:07<00:00,  8.04it/s, acc=0.92963, gpu_memory=2.47 GB, lr=0.00004, valid_loss=0.2443]\n",
      "Epocha train 108/200: 100%|██████████| 141/141 [00:22<00:00,  6.21it/s, acc=0.92162, gpu_memory=2.47 GB, lr=0.00004, valid_loss=0.2207]\n",
      "Epocha val 108/200: 100%|██████████| 61/61 [00:08<00:00,  7.46it/s, acc=0.93207, gpu_memory=2.47 GB, lr=0.00004, valid_loss=0.2443]\n",
      "Epocha train 109/200: 100%|██████████| 141/141 [00:22<00:00,  6.25it/s, acc=0.92162, gpu_memory=2.47 GB, lr=0.00004, valid_loss=0.2242]\n",
      "Epocha val 109/200: 100%|██████████| 61/61 [00:08<00:00,  7.44it/s, acc=0.93041, gpu_memory=2.47 GB, lr=0.00004, valid_loss=0.2502]\n",
      "Epocha train 110/200: 100%|██████████| 141/141 [00:23<00:00,  6.00it/s, acc=0.91957, gpu_memory=2.47 GB, lr=0.00004, valid_loss=0.2167]\n",
      "Epocha val 110/200: 100%|██████████| 61/61 [00:07<00:00,  8.16it/s, acc=0.93650, gpu_memory=2.47 GB, lr=0.00004, valid_loss=0.2463]\n",
      "Epocha train 111/200:  96%|█████████▌| 135/141 [00:21<00:01,  5.41it/s, acc=0.91906, gpu_memory=2.47 GB, lr=0.00004, valid_loss=0.2243]"
     ]
    }
   ],
   "source": [
    "model_loss, model_acc, overfit_model,best_acc = train.train(train_dirr=\"/workspace/proj/paradigma/db/imagewoof2\",                                           # Путь до папки с train or directori\n",
    "                                             val_dirr=\"/workspace/proj/paradigma/db/imagewoof2\",                                             # Путь до папки с описанием val\n",
    "                                             model_name =\"resnet18\",                             # Название модели timm or пользовательские из кода\n",
    "                                             Dataset_name =\"imagewoof\",                            # Название Dataset (при сохранении)\n",
    "                                             metod_aug_name=\"baseline\",#\"FsAA\",                # Название metoda (при сохранении)\n",
    "                                             task_name=\"clasification\",                          # Название задачи  (при сохранении)\n",
    "                                             train_annotation='/workspace/proj/paradigma/db/imagewoof2/noisy_imagewoof.csv',                                # Путь до файла с описанием train\n",
    "                                             val_annotation='/workspace/proj/paradigma/db/imagewoof2/noisy_imagewoof.csv',                                  # Путь до файла с описанием val\n",
    "                                             N_class = 10,                                          # Количество классов в задаче\n",
    "                                             num_epochs=200,                                        # Количество эпох обучения\n",
    "                                             batch_size = 64,                                       \n",
    "                                             snp_path = '/workspace/proj/paradigma/snp/',     # Путь к папке, в которую сохранять готовые модели\n",
    "                                             pretrained = True,                                   # True - загрузить предобученную модель\n",
    "                                             SIZE = 224,                                           # Размер входа (SIZE*SIZE)\n",
    "                                             lr=0.00004,                                        # Коэффициент скорости обучения (Learning rate)\n",
    "                                             step_size=1000,                                        # за сколько эпох уменьшить lr\n",
    "                                             gamma=0.1,                                            # Во сколько раз уменьшить lr\n",
    "                                             momentum=0.9)#,                                        # коэфицент сохранения момента\n",
    "#                                              rootAA=\"/workspace/proj/autoalbument/examples/imagenette/resnet50/outputs/2022-08-03/15-10-06/policy/latest.json\")\n"
   ]
  },
  {
   "cell_type": "code",
   "execution_count": null,
   "metadata": {},
   "outputs": [],
   "source": [
    " model_name =\"resnet18\",                             # Название модели timm or пользовательские из кода\n",
    "                                             Dataset_name =\"imagewoof\",                            # Название Dataset (при сохранении)\n",
    "                                             metod_aug_name=\"baseline\",#\"FsAA\",                # Название metoda (при сохранении)\n",
    "                                             task_name=\"clasification\",                          # Название задачи  (при сохранении)\n",
    "                                             train_annotation='/workspace/proj/paradigma/db/imagewoof2/noisy_imagewoof.csv',                                # Путь до файла с описанием train\n",
    "                                             val_annotation='/workspace/proj/paradigma/db/imagewoof2/noisy_imagewoof.csv',                                  # Путь до файла с описанием val\n",
    "                                             N_class = 10,                                          # Количество классов в задаче\n",
    "                                             num_epochs=200,                                        # Количество эпох обучения\n",
    "                                             batch_size = 64,                                       \n",
    "                                             snp_path = '/workspace/proj/paradigma/snp/',     # Путь к папке, в которую сохранять готовые модели\n",
    "                                             pretrained = True,                                   # True - загрузить предобученную модель\n",
    "                                             SIZE = 224,                                           # Размер входа (SIZE*SIZE)\n",
    "                                             lr=0.00004,                                        # Коэффициент скорости обучения (Learning rate)\n",
    "                                             step_size=10,                                        # за сколько эпох уменьшить lr\n",
    "                                             gamma=0.1,                                            # Во сколько раз уменьшить lr\n",
    "                                             momentum=0.9)#, \n",
    "Best val Loss classification: 0.5723 epoch 48  \n",
    "Best val Loss accuracy: 0.8847 epoch 188\n",
    "\n"
   ]
  }
 ],
 "metadata": {
  "kernelspec": {
   "display_name": "Python 3",
   "language": "python",
   "name": "python3"
  },
  "language_info": {
   "codemirror_mode": {
    "name": "ipython",
    "version": 3
   },
   "file_extension": ".py",
   "mimetype": "text/x-python",
   "name": "python",
   "nbconvert_exporter": "python",
   "pygments_lexer": "ipython3",
   "version": "3.6.9"
  }
 },
 "nbformat": 4,
 "nbformat_minor": 4
}
